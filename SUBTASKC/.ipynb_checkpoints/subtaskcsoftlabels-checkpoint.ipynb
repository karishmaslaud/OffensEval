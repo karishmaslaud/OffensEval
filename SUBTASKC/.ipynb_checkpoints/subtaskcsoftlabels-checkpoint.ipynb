{
 "cells": [
  {
   "cell_type": "code",
   "execution_count": 0,
   "metadata": {
    "colab": {
     "base_uri": "https://localhost:8080/",
     "height": 34
    },
    "colab_type": "code",
    "id": "bhCLCTtuAhul",
    "outputId": "b93d1887-fb84-4bb0-b35a-0d1ee84574b5"
   },
   "outputs": [
    {
     "name": "stdout",
     "output_type": "stream",
     "text": [
      "Drive already mounted at /content/drive; to attempt to forcibly remount, call drive.mount(\"/content/drive\", force_remount=True).\n"
     ]
    }
   ],
   "source": [
    "from google.colab import drive\n",
    "drive.mount('/content/drive')"
   ]
  },
  {
   "cell_type": "code",
   "execution_count": 0,
   "metadata": {
    "colab": {
     "base_uri": "https://localhost:8080/",
     "height": 34
    },
    "colab_type": "code",
    "id": "HlleXY4xAsET",
    "outputId": "87d46d70-fc18-48dd-94ee-0ed6b2879545"
   },
   "outputs": [
    {
     "name": "stdout",
     "output_type": "stream",
     "text": [
      "replace task_c_distant_ann.tsv? [y]es, [n]o, [A]ll, [N]one, [r]ename: n\n"
     ]
    }
   ],
   "source": [
    "\n",
    "##NOT FOR SYSTEMS\n",
    "!unzip ****** -qq '/content/drive/My Drive/EnglishData/task_c_distant.zip' "
   ]
  },
  {
   "cell_type": "code",
   "execution_count": 0,
   "metadata": {
    "colab": {},
    "colab_type": "code",
    "id": "FHbDCk1HAoWq"
   },
   "outputs": [],
   "source": [
    "\n",
    "import pandas as pd\n",
    "from keras.models import Sequential\n",
    "from keras.layers import Dense\n",
    "from keras.wrappers.scikit_learn import KerasClassifier\n",
    "from keras.utils import np_utils\n",
    "from keras.callbacks import EarlyStopping\n",
    "from sklearn.model_selection import cross_val_score\n",
    "from sklearn.model_selection import KFold\n",
    "from sklearn.preprocessing import LabelEncoder\n",
    "from sklearn.pipeline import Pipeline\n",
    "import numpy as np"
   ]
  },
  {
   "cell_type": "code",
   "execution_count": 0,
   "metadata": {
    "colab": {},
    "colab_type": "code",
    "id": "6LJq8AGiLSTo"
   },
   "outputs": [],
   "source": [
    "\n",
    "def convertToFloat(val):\n",
    "    if not val:\n",
    "        return 0    \n",
    "    try:\n",
    "        return np.float64(val)\n",
    "    except:        \n",
    "        return np.float64(0)\n",
    "\n",
    "\n",
    "headers=['id','text','average_ind','average_grp','average_oth','std_ind','std_grp','std_oth']\n",
    "taskc = pd.read_csv(\"task_c_distant_ann.tsv\", delimiter='\\t',names=headers,low_memory=False,converters={\"average_ind\":convertToFloat,\n",
    "                                                                                                    \"average_grp\":convertToFloat,\n",
    "                                                                                                    \"average_oth\":convertToFloat,\n",
    "                                                                                                    \"std_ind\":convertToFloat,\n",
    "                                                                                                    \"std_grp\":convertToFloat,\n",
    "                                                                                                    \"std_oth\":convertToFloat})\n",
    "taskc=taskc[1:]"
   ]
  },
  {
   "cell_type": "code",
   "execution_count": 0,
   "metadata": {
    "colab": {
     "base_uri": "https://localhost:8080/",
     "height": 34
    },
    "colab_type": "code",
    "id": "fAZlsG1eLks2",
    "outputId": "e992d85a-006d-4305-961c-d4156037f143"
   },
   "outputs": [
    {
     "data": {
      "text/plain": [
       "188973"
      ]
     },
     "execution_count": 14,
     "metadata": {
      "tags": []
     },
     "output_type": "execute_result"
    }
   ],
   "source": [
    "len(taskc)"
   ]
  },
  {
   "cell_type": "code",
   "execution_count": 0,
   "metadata": {
    "colab": {
     "base_uri": "https://localhost:8080/",
     "height": 425
    },
    "colab_type": "code",
    "id": "5_l5T9EJLyMg",
    "outputId": "d33e4bfb-2f5b-4c3a-cd73-4958be9dde5b"
   },
   "outputs": [
    {
     "data": {
      "text/plain": [
       "array([['1159533712079503361',\n",
       "        '@USER Trump is a fucking idiot his dementia is getting worse',\n",
       "        0.8334315660070198, ..., 0.20833409336419706,\n",
       "        0.09893746284301566, 0.1386493230104102],\n",
       "       ['1159533713044234241',\n",
       "        '@USER HELL YES! His grinned and thumbs up are disgusting!',\n",
       "        0.48106237178573397, ..., 0.3452248610539589,\n",
       "        0.33592350092689993, 0.08323036242339713],\n",
       "       ['1159533718345830400',\n",
       "        \"@USER Can't wait to see the shit show his death will bring.\",\n",
       "        0.4388127663192773, ..., 0.18260870386171185,\n",
       "        0.18688048564468512, 0.25462109958562573],\n",
       "       ...,\n",
       "       ['1187636295306268673',\n",
       "        'I meant tool but the point is women ain’t shit. 🙅🏻\\u200d♂️🤷🏻\\u200d♂️',\n",
       "        0.36375786996300313, ..., 0.23943555651707127,\n",
       "        0.16535075005267147, 0.09506541000311416],\n",
       "       ['1187636299785744384', '@USER i sang too the fuck-',\n",
       "        0.5982300263631064, ..., 0.19187065632830977,\n",
       "        0.10707485138459394, 0.11520566509045577],\n",
       "       ['1187636316487520258',\n",
       "        'obviously ur allowed to not like the ship but using that excuse is so stale like fuck off.',\n",
       "        0.6849481559629798, ..., 0.19227685039701298,\n",
       "        0.14081314237397982, 0.16559246442850858]], dtype=object)"
      ]
     },
     "execution_count": 15,
     "metadata": {
      "tags": []
     },
     "output_type": "execute_result"
    }
   ],
   "source": [
    "taskc.values"
   ]
  },
  {
   "cell_type": "code",
   "execution_count": 0,
   "metadata": {
    "colab": {},
    "colab_type": "code",
    "id": "tfa9MbOBMBlR"
   },
   "outputs": [],
   "source": [
    "\n",
    "dfnumpy=taskc.to_numpy();\n",
    "x=dfnumpy[:, 1].reshape(-1, 1)\n",
    "y_train1=dfnumpy[:, 2].reshape(-1, 1)\n",
    "y_train2=dfnumpy[:, 3].reshape(-1, 1)\n",
    "y_train3=dfnumpy[:, 4].reshape(-1, 1)\n",
    "\n"
   ]
  },
  {
   "cell_type": "code",
   "execution_count": 0,
   "metadata": {
    "colab": {},
    "colab_type": "code",
    "id": "_idtKA4oNkU4"
   },
   "outputs": [],
   "source": [
    "y=np.stack((y_train1.flatten(),y_train2.flatten(),y_train3.flatten()), axis=-1, out=None)"
   ]
  },
  {
   "cell_type": "code",
   "execution_count": 0,
   "metadata": {
    "colab": {
     "base_uri": "https://localhost:8080/",
     "height": 136
    },
    "colab_type": "code",
    "id": "JX2XZKTtOPNN",
    "outputId": "f8193e0c-2191-48bd-bb3a-e7ed610576f0"
   },
   "outputs": [
    {
     "data": {
      "text/plain": [
       "array([[0.07610979866070268],\n",
       "       [0.3673629474131143],\n",
       "       [0.2685740368872388],\n",
       "       ...,\n",
       "       [0.43151670865663655],\n",
       "       [0.16155983352929942],\n",
       "       [0.15227155079903518]], dtype=object)"
      ]
     },
     "execution_count": 18,
     "metadata": {
      "tags": []
     },
     "output_type": "execute_result"
    }
   ],
   "source": [
    "y_train2"
   ]
  },
  {
   "cell_type": "code",
   "execution_count": 0,
   "metadata": {
    "colab": {
     "base_uri": "https://localhost:8080/",
     "height": 119
    },
    "colab_type": "code",
    "id": "nFsTfX5oOKve",
    "outputId": "621233d2-ae2b-421f-8c47-57c91e268c0b"
   },
   "outputs": [
    {
     "data": {
      "text/plain": [
       "array([[0.8334315660070198, 0.07610979866070268, 0.10776452321727449],\n",
       "       [0.48106237178573397, 0.3673629474131143, 0.13884137991817902],\n",
       "       [0.4388127663192773, 0.2685740368872388, 0.3775726696311655],\n",
       "       [0.7129954339515537, 0.12350408671699416, 0.11113008071093726],\n",
       "       [0.6914140593727042, 0.14672323837904971, 0.19228166422122278]],\n",
       "      dtype=object)"
      ]
     },
     "execution_count": 19,
     "metadata": {
      "tags": []
     },
     "output_type": "execute_result"
    }
   ],
   "source": [
    "y[0:5]"
   ]
  },
  {
   "cell_type": "code",
   "execution_count": 0,
   "metadata": {
    "colab": {
     "base_uri": "https://localhost:8080/",
     "height": 68
    },
    "colab_type": "code",
    "id": "P-pgXoMdOQ9-",
    "outputId": "c5b4360e-e253-4c3c-8f86-9c13c2cca0e1"
   },
   "outputs": [
    {
     "name": "stdout",
     "output_type": "stream",
     "text": [
      "[nltk_data] Downloading package stopwords to /root/nltk_data...\n",
      "[nltk_data]   Unzipping corpora/stopwords.zip.\n"
     ]
    },
    {
     "data": {
      "text/plain": [
       "True"
      ]
     },
     "execution_count": 20,
     "metadata": {
      "tags": []
     },
     "output_type": "execute_result"
    }
   ],
   "source": [
    "import nltk\n",
    "nltk.download('stopwords')"
   ]
  },
  {
   "cell_type": "code",
   "execution_count": 0,
   "metadata": {
    "colab": {},
    "colab_type": "code",
    "id": "cKQS_yVdMYUg"
   },
   "outputs": [],
   "source": [
    "from nltk.tokenize import TweetTokenizer\n",
    "from nltk.corpus import stopwords \n",
    "import re\n",
    "import string\n",
    "tknzr = TweetTokenizer(strip_handles=True, reduce_len=True)\n",
    "stopwords=set(stopwords.words('english'))\n",
    "def preprocessinglib(arrt):\n",
    "    ans =[]\n",
    "    for txt in arrt:\n",
    "        unique_words = dict.fromkeys(txt.split())\n",
    "        txt2=' '.join(unique_words)\n",
    "        tokens=tknzr.tokenize(txt2)\n",
    "        ctokens=[]\n",
    "        for t in tokens:\n",
    "          if  t not in stopwords and t not in string.punctuation :\n",
    "            ctokens.append(t.lower())\n",
    "        clean_s = ' '.join(ctokens)\n",
    "        ans.append(clean_s)\n",
    "               \n",
    "    return ans\n"
   ]
  },
  {
   "cell_type": "code",
   "execution_count": 0,
   "metadata": {
    "colab": {},
    "colab_type": "code",
    "id": "azbHYpXqOKOw"
   },
   "outputs": [],
   "source": [
    "preprocessedTweets=preprocessinglib(x[:,0])"
   ]
  },
  {
   "cell_type": "code",
   "execution_count": 0,
   "metadata": {
    "colab": {},
    "colab_type": "code",
    "id": "FA3zIfiS_S9V"
   },
   "outputs": [],
   "source": [
    "from sklearn.utils import shuffle\n",
    "preprocessedTweets,y=shuffle(preprocessedTweets,y)"
   ]
  },
  {
   "cell_type": "code",
   "execution_count": null,
   "metadata": {
    "colab": {
     "base_uri": "https://localhost:8080/",
     "height": 1000
    },
    "colab_type": "code",
    "id": "ELzGOap-Nnp9",
    "outputId": "18aa71c7-5835-4e71-a852-fb9e9c9744a8"
   },
   "outputs": [],
   "source": [
    "preprocessedTweets"
   ]
  },
  {
   "cell_type": "code",
   "execution_count": null,
   "metadata": {},
   "outputs": [],
   "source": [
    "##inspired and adapted from Susan Li,https://github.com/susanli2016/NLP-with-Python/blob/master/Multi-Class%20Text%20Classification%20LSTM%20Consumer%20complaints.ipynb "
   ]
  },
  {
   "cell_type": "code",
   "execution_count": 0,
   "metadata": {
    "colab": {},
    "colab_type": "code",
    "id": "KqqgNBoZVZ4T"
   },
   "outputs": [],
   "source": [
    "# Import the dependencies\n",
    "from keras.models import Sequential\n",
    "from keras.layers import Dense, LSTM,SpatialDropout1D\n",
    "from keras.layers.embeddings import Embedding\n",
    "from keras.preprocessing import sequence"
   ]
  },
  {
   "cell_type": "code",
   "execution_count": 0,
   "metadata": {
    "colab": {},
    "colab_type": "code",
    "id": "q2yqhPfvMZl9"
   },
   "outputs": [],
   "source": [
    "# The maximum number of words to be used. (most frequent)\n",
    "MAX_NB_WORDS = 80000\n",
    "# Max number of words in each complaint.\n",
    "MAX_SEQUENCE_LENGTH = 512\n",
    "# This is fixed.\n",
    "EMBEDDING_DIM = 128"
   ]
  },
  {
   "cell_type": "code",
   "execution_count": 0,
   "metadata": {
    "colab": {},
    "colab_type": "code",
    "id": "feSFvbmRXnW6"
   },
   "outputs": [],
   "source": [
    "from keras.preprocessing.text import Tokenizer\n",
    "from keras.preprocessing.sequence import pad_sequences"
   ]
  },
  {
   "cell_type": "code",
   "execution_count": 0,
   "metadata": {
    "colab": {
     "base_uri": "https://localhost:8080/",
     "height": 34
    },
    "colab_type": "code",
    "id": "8bdNZ9tPMcZ_",
    "outputId": "d94ecdbb-14c0-4fbe-f1c8-042db8033a07"
   },
   "outputs": [
    {
     "name": "stdout",
     "output_type": "stream",
     "text": [
      "Found 60150 unique tokens.\n"
     ]
    }
   ],
   "source": [
    "tokenizer = Tokenizer(num_words=MAX_NB_WORDS, filters='!\"#$%&()*+,-./:;<=>?@[\\]^_`{|}~', lower=True)\n",
    "tokenizer.fit_on_texts(preprocessedTweets)\n",
    "word_index = tokenizer.word_index\n",
    "print('Found %s unique tokens.' % len(word_index))\n"
   ]
  },
  {
   "cell_type": "code",
   "execution_count": 0,
   "metadata": {
    "colab": {
     "base_uri": "https://localhost:8080/",
     "height": 34
    },
    "colab_type": "code",
    "id": "re7GhV2iXla8",
    "outputId": "68b9a6ab-dc96-4759-d28f-61e76f7ddd04"
   },
   "outputs": [
    {
     "name": "stdout",
     "output_type": "stream",
     "text": [
      "Shape of data tensor: (188973, 512)\n"
     ]
    }
   ],
   "source": [
    "X = tokenizer.texts_to_sequences(preprocessedTweets)\n",
    "X = pad_sequences(X, maxlen=MAX_SEQUENCE_LENGTH)\n",
    "print('Shape of data tensor:', X.shape)"
   ]
  },
  {
   "cell_type": "code",
   "execution_count": 0,
   "metadata": {
    "colab": {
     "base_uri": "https://localhost:8080/",
     "height": 34
    },
    "colab_type": "code",
    "id": "tpAhwpbMX5L-",
    "outputId": "5c5cc121-6a01-4efc-b7c6-b2d9213d3bbf"
   },
   "outputs": [
    {
     "data": {
      "text/plain": [
       "(188973, 3)"
      ]
     },
     "execution_count": 22,
     "metadata": {
      "tags": []
     },
     "output_type": "execute_result"
    }
   ],
   "source": [
    "y.shape"
   ]
  },
  {
   "cell_type": "code",
   "execution_count": 0,
   "metadata": {
    "colab": {},
    "colab_type": "code",
    "id": "hDZls1NcYdny"
   },
   "outputs": [],
   "source": [
    "x_train=X\n",
    "y_train=y"
   ]
  },
  {
   "cell_type": "code",
   "execution_count": 0,
   "metadata": {
    "colab": {},
    "colab_type": "code",
    "id": "0R7ymNcEt0LU"
   },
   "outputs": [],
   "source": []
  },
  {
   "cell_type": "code",
   "execution_count": 0,
   "metadata": {
    "colab": {},
    "colab_type": "code",
    "id": "ZPiDs7spYrvI"
   },
   "outputs": [],
   "source": [
    "\n",
    "#GET THE DATA FROM THE PANDAS FRAME\n",
    "headers=['id','tweet','subtask_a','subtask_b','subtask_c']\n",
    "englishdata = pd.read_csv(\"/content/drive/My Drive/EnglishData/OLIDv1.0/olid-training-v1.0.tsv\", delimiter='\\t',names=headers,low_memory=False)\n",
    "englishdata=englishdata[['id','tweet','subtask_c']]\n",
    "englishdata=englishdata[1:]"
   ]
  },
  {
   "cell_type": "code",
   "execution_count": 0,
   "metadata": {
    "colab": {},
    "colab_type": "code",
    "id": "xbrjgENsY0o8"
   },
   "outputs": [],
   "source": [
    "englishdata = englishdata.dropna(subset=['subtask_c'])"
   ]
  },
  {
   "cell_type": "code",
   "execution_count": 0,
   "metadata": {
    "colab": {
     "base_uri": "https://localhost:8080/",
     "height": 198
    },
    "colab_type": "code",
    "id": "kqyEoGaqZAzU",
    "outputId": "a22915ee-6a63-4258-d5fd-2afe2522ffa5"
   },
   "outputs": [
    {
     "data": {
      "text/html": [
       "<div>\n",
       "<style scoped>\n",
       "    .dataframe tbody tr th:only-of-type {\n",
       "        vertical-align: middle;\n",
       "    }\n",
       "\n",
       "    .dataframe tbody tr th {\n",
       "        vertical-align: top;\n",
       "    }\n",
       "\n",
       "    .dataframe thead th {\n",
       "        text-align: right;\n",
       "    }\n",
       "</style>\n",
       "<table border=\"1\" class=\"dataframe\">\n",
       "  <thead>\n",
       "    <tr style=\"text-align: right;\">\n",
       "      <th></th>\n",
       "      <th>id</th>\n",
       "      <th>tweet</th>\n",
       "      <th>subtask_c</th>\n",
       "    </tr>\n",
       "  </thead>\n",
       "  <tbody>\n",
       "    <tr>\n",
       "      <th>2</th>\n",
       "      <td>90194</td>\n",
       "      <td>@USER @USER Go home you’re drunk!!! @USER #MAG...</td>\n",
       "      <td>IND</td>\n",
       "    </tr>\n",
       "    <tr>\n",
       "      <th>6</th>\n",
       "      <td>97670</td>\n",
       "      <td>@USER Liberals are all Kookoo !!!</td>\n",
       "      <td>OTH</td>\n",
       "    </tr>\n",
       "    <tr>\n",
       "      <th>8</th>\n",
       "      <td>52415</td>\n",
       "      <td>@USER was literally just talking about this lo...</td>\n",
       "      <td>GRP</td>\n",
       "    </tr>\n",
       "    <tr>\n",
       "      <th>10</th>\n",
       "      <td>13384</td>\n",
       "      <td>@USER Canada doesn’t need another CUCK! We alr...</td>\n",
       "      <td>IND</td>\n",
       "    </tr>\n",
       "    <tr>\n",
       "      <th>13</th>\n",
       "      <td>28414</td>\n",
       "      <td>@USER you are a lying corrupt traitor!!! Nobod...</td>\n",
       "      <td>IND</td>\n",
       "    </tr>\n",
       "  </tbody>\n",
       "</table>\n",
       "</div>"
      ],
      "text/plain": [
       "       id                                              tweet subtask_c\n",
       "2   90194  @USER @USER Go home you’re drunk!!! @USER #MAG...       IND\n",
       "6   97670                  @USER Liberals are all Kookoo !!!       OTH\n",
       "8   52415  @USER was literally just talking about this lo...       GRP\n",
       "10  13384  @USER Canada doesn’t need another CUCK! We alr...       IND\n",
       "13  28414  @USER you are a lying corrupt traitor!!! Nobod...       IND"
      ]
     },
     "execution_count": 119,
     "metadata": {
      "tags": []
     },
     "output_type": "execute_result"
    }
   ],
   "source": [
    "englishdata.head()"
   ]
  },
  {
   "cell_type": "code",
   "execution_count": 0,
   "metadata": {
    "colab": {},
    "colab_type": "code",
    "id": "3XAi1jQ-ZjRQ"
   },
   "outputs": [],
   "source": [
    "import tensorflow as tf"
   ]
  },
  {
   "cell_type": "code",
   "execution_count": 0,
   "metadata": {
    "colab": {},
    "colab_type": "code",
    "id": "kSeWOamBfR_s"
   },
   "outputs": [],
   "source": [
    "dfnumpy=englishdata.to_numpy()\n",
    "x_test=dfnumpy[:, 1].reshape(-1, 1)\n",
    "y_test=dfnumpy[:, 2].reshape(-1, 1)"
   ]
  },
  {
   "cell_type": "code",
   "execution_count": 0,
   "metadata": {
    "colab": {
     "base_uri": "https://localhost:8080/",
     "height": 145
    },
    "colab_type": "code",
    "id": "ZNQoqRTDftGd",
    "outputId": "7184c502-274d-4f3f-9ac2-e4bc88ced2ce"
   },
   "outputs": [
    {
     "data": {
      "text/plain": [
       "array([['IND'],\n",
       "       ['OTH'],\n",
       "       ['GRP'],\n",
       "       ...,\n",
       "       ['GRP'],\n",
       "       ['IND'],\n",
       "       ['OTH']], dtype=object)"
      ]
     },
     "execution_count": 122,
     "metadata": {
      "tags": []
     },
     "output_type": "execute_result"
    }
   ],
   "source": [
    "y_test"
   ]
  },
  {
   "cell_type": "code",
   "execution_count": 0,
   "metadata": {
    "colab": {
     "base_uri": "https://localhost:8080/",
     "height": 35
    },
    "colab_type": "code",
    "id": "qy4yoE9-gVmS",
    "outputId": "4e906532-ad32-4efb-e0fa-2be4bacd62bc"
   },
   "outputs": [
    {
     "data": {
      "text/plain": [
       "array(['IND', 'OTH', 'GRP', ..., 'GRP', 'IND', 'OTH'], dtype=object)"
      ]
     },
     "execution_count": 123,
     "metadata": {
      "tags": []
     },
     "output_type": "execute_result"
    }
   ],
   "source": [
    "y_test.flatten()"
   ]
  },
  {
   "cell_type": "code",
   "execution_count": 0,
   "metadata": {
    "colab": {},
    "colab_type": "code",
    "id": "AnDnO3srfElI"
   },
   "outputs": [],
   "source": [
    "from sklearn.metrics import f1_score\n",
    "from sklearn.metrics import accuracy_score\n",
    "\n",
    "def f1_calc(predictions,labels):\n",
    "  #rowwise return the index of the max element ie 0 or 1 depending on the maximum value returned\n",
    "  predictionArgmax=np.argmax(predictions,axis=1).to('cpu').numpy().flatten()\n",
    "  labelsFlattend=np.argmax(predictions,axis=1).to('cpu').numpy().flatten()\n",
    "  print(predictions)\n",
    "  print(\"Predictions Argmax\",predictionArgmax)\n",
    "  print(\"labels Flattened\",labelsFlattend)   \n",
    "  return f1_score(labelsFlattend, predictionArgmax, average='macro')"
   ]
  },
  {
   "cell_type": "code",
   "execution_count": 0,
   "metadata": {
    "colab": {
     "base_uri": "https://localhost:8080/",
     "height": 35
    },
    "colab_type": "code",
    "id": "9pnpWHzpf5av",
    "outputId": "a65e4892-5552-4412-a196-156fc85a1d07"
   },
   "outputs": [
    {
     "data": {
      "text/plain": [
       "3876"
      ]
     },
     "execution_count": 125,
     "metadata": {
      "tags": []
     },
     "output_type": "execute_result"
    }
   ],
   "source": [
    "len(y_test)"
   ]
  },
  {
   "cell_type": "code",
   "execution_count": 0,
   "metadata": {
    "colab": {},
    "colab_type": "code",
    "id": "BxiXIKxNW8ET"
   },
   "outputs": [],
   "source": [
    "from keras.callbacks import ModelCheckpoint\n",
    "\n",
    "\n",
    "checkpoint = ModelCheckpoint(\"soft1.hdf5\", monitor='loss', verbose=1,\n",
    "    save_best_only=True, mode='auto', period=1)"
   ]
  },
  {
   "cell_type": "code",
   "execution_count": 0,
   "metadata": {
    "colab": {},
    "colab_type": "code",
    "id": "_kmqo_U_hu2N"
   },
   "outputs": [],
   "source": [
    "#f1 calculated using scikit-learn\n",
    "#https://scikit-learn.org/stable/modules/generated/sklearn.metrics.f1_score.html\n",
    "##inspired and adapted from Susan Li,https://github.com/susanli2016/NLP-with-Python/blob/master/Multi-Class%20Text%20Classification%20LSTM%20Consumer%20complaints.ipynb "
   ]
  },
  {
   "cell_type": "code",
   "execution_count": 0,
   "metadata": {
    "colab": {
     "base_uri": "https://localhost:8080/",
     "height": 145
    },
    "colab_type": "code",
    "id": "EPmR_vZuZHrg",
    "outputId": "f2693f82-0362-4ca2-ccb0-71001b20bef2"
   },
   "outputs": [
    {
     "name": "stdout",
     "output_type": "stream",
     "text": [
      "Train on 170075 samples, validate on 18898 samples\n",
      "Epoch 1/3\n",
      "170075/170075 [==============================] - 1663s 10ms/step - loss: 1.0369 - acc: 0.8641 - val_loss: 1.0305 - val_acc: 0.8744\n",
      "Epoch 2/3\n",
      "170075/170075 [==============================] - 1660s 10ms/step - loss: 1.0281 - acc: 0.8793 - val_loss: 1.0299 - val_acc: 0.8764\n",
      "Epoch 3/3\n",
      "170075/170075 [==============================] - 1668s 10ms/step - loss: 1.0255 - acc: 0.8865 - val_loss: 1.0302 - val_acc: 0.8778\n"
     ]
    }
   ],
   "source": [
    "model = Sequential()\n",
    "model.add(Embedding(MAX_NB_WORDS, EMBEDDING_DIM, input_length=x_train.shape[1]))\n",
    "model.add(SpatialDropout1D(0.2))\n",
    "model.add(LSTM(128, dropout=0.2, recurrent_dropout=0.2))\n",
    "model.add(Dense(3, activation='softmax'))\n",
    "model.compile(loss='categorical_crossentropy', optimizer='adam', metrics=['accuracy'])\n",
    "\n",
    "epochs = 3\n",
    "batch_size = 64\n",
    "\n",
    "history = model.fit(x_train, y_train, epochs=epochs, batch_size=batch_size,validation_split=0.1,callbacks=[EarlyStopping(monitor='val_loss', patience=3, min_delta=0.0001)])"
   ]
  },
  {
   "cell_type": "code",
   "execution_count": 0,
   "metadata": {
    "colab": {
     "base_uri": "https://localhost:8080/",
     "height": 183
    },
    "colab_type": "code",
    "id": "yObShLEjikHD",
    "outputId": "8741561d-9c15-4aa1-be72-bbaab116e13c"
   },
   "outputs": [
    {
     "data": {
      "text/plain": [
       "array([['@USER @USER Go home you’re drunk!!! @USER #MAGA #Trump2020 👊🇺🇸👊 URL'],\n",
       "       ['@USER Liberals are all Kookoo !!!'],\n",
       "       ['@USER was literally just talking about this lol all mass shootings like that have been set ups. it’s propaganda used to divide us on major issues like gun control and terrorism'],\n",
       "       ...,\n",
       "       ['@USER @USER @USER @USER Liars like the Antifa twins you vigorously defend?'],\n",
       "       ['@USER Sometimes I get strong vibes from people and this man’s vibe is tens of millions of murders - he is more dangerous than DT.'],\n",
       "       [\"@USER And why report this garbage.  We don't give a crap.\"]],\n",
       "      dtype=object)"
      ]
     },
     "execution_count": 128,
     "metadata": {
      "tags": []
     },
     "output_type": "execute_result"
    }
   ],
   "source": [
    "x_test"
   ]
  },
  {
   "cell_type": "code",
   "execution_count": 0,
   "metadata": {
    "colab": {},
    "colab_type": "code",
    "id": "MyWlozOEivho"
   },
   "outputs": [],
   "source": [
    "preprocessedTweets1=preprocessinglib(x_test[:,0])"
   ]
  },
  {
   "cell_type": "code",
   "execution_count": 0,
   "metadata": {
    "colab": {
     "base_uri": "https://localhost:8080/",
     "height": 35
    },
    "colab_type": "code",
    "id": "tloiaAJEf4Ix",
    "outputId": "c6970cdc-2346-4c42-901b-b9d2bbe3ccd1"
   },
   "outputs": [
    {
     "name": "stdout",
     "output_type": "stream",
     "text": [
      "Shape of data tensor: (3876, 250)\n"
     ]
    }
   ],
   "source": [
    "X_1 = tokenizer.texts_to_sequences(preprocessedTweets1)\n",
    "X_test = pad_sequences(X_1, maxlen=MAX_SEQUENCE_LENGTH)\n",
    "print('Shape of data tensor:', X_test.shape)"
   ]
  },
  {
   "cell_type": "code",
   "execution_count": 0,
   "metadata": {
    "colab": {},
    "colab_type": "code",
    "id": "BtgkOJEs-oNh"
   },
   "outputs": [],
   "source": [
    "def giveLabel2(y1):\n",
    "  i=0\n",
    "  largest_index=0\n",
    "  #label1=['IND','GRP','OTH']\n",
    "  ylabels=[]\n",
    "  for r in y1:\n",
    "    if (r==\"IND\"): \n",
    "        largest_index = 0 \n",
    "    elif (r==\"GRP\"):\n",
    "        largest_index = 1 \n",
    "    else: \n",
    "        largest_index = 2 \n",
    "    \n",
    "    ylabels.append(largest_index)\n",
    "    i=i+1;\n",
    "  return ylabels"
   ]
  },
  {
   "cell_type": "code",
   "execution_count": 0,
   "metadata": {
    "colab": {},
    "colab_type": "code",
    "id": "E4t9tiul-09y"
   },
   "outputs": [],
   "source": [
    "yz=giveLabel2(y_test)"
   ]
  },
  {
   "cell_type": "code",
   "execution_count": 0,
   "metadata": {
    "colab": {
     "base_uri": "https://localhost:8080/",
     "height": 35
    },
    "colab_type": "code",
    "id": "dJ2avTzU-_6g",
    "outputId": "d8f10a79-3ff2-44e4-ed3b-111a903ca76e"
   },
   "outputs": [
    {
     "data": {
      "text/plain": [
       "{0, 1, 2}"
      ]
     },
     "execution_count": 133,
     "metadata": {
      "tags": []
     },
     "output_type": "execute_result"
    }
   ],
   "source": [
    "set(yz)"
   ]
  },
  {
   "cell_type": "code",
   "execution_count": 0,
   "metadata": {
    "colab": {},
    "colab_type": "code",
    "id": "VLoYQpvi94Nx"
   },
   "outputs": [],
   "source": [
    "# encode class values as integers\n",
    "encoder = LabelEncoder()\n",
    "encoder.fit(yz)\n",
    "encoded_Y = encoder.transform(yz)\n",
    "# convert integers to dummy variables (i.e. one hot encoded)\n",
    "dummy_y = np_utils.to_categorical(encoded_Y)"
   ]
  },
  {
   "cell_type": "code",
   "execution_count": 0,
   "metadata": {
    "colab": {
     "base_uri": "https://localhost:8080/",
     "height": 145
    },
    "colab_type": "code",
    "id": "hprtjamF-_Q3",
    "outputId": "a94546c7-5281-4954-f8c6-819574e13988"
   },
   "outputs": [
    {
     "data": {
      "text/plain": [
       "array([[1., 0., 0.],\n",
       "       [0., 0., 1.],\n",
       "       [0., 1., 0.],\n",
       "       ...,\n",
       "       [0., 1., 0.],\n",
       "       [1., 0., 0.],\n",
       "       [0., 0., 1.]], dtype=float32)"
      ]
     },
     "execution_count": 135,
     "metadata": {
      "tags": []
     },
     "output_type": "execute_result"
    }
   ],
   "source": [
    "dummy_y"
   ]
  },
  {
   "cell_type": "code",
   "execution_count": 0,
   "metadata": {
    "colab": {
     "base_uri": "https://localhost:8080/",
     "height": 72
    },
    "colab_type": "code",
    "id": "om4bW22TCBAX",
    "outputId": "ac332117-ad5d-4822-bb11-583545db582c"
   },
   "outputs": [
    {
     "name": "stdout",
     "output_type": "stream",
     "text": [
      "Requirement already satisfied: h5py in /usr/local/lib/python3.6/dist-packages (2.8.0)\n",
      "Requirement already satisfied: numpy>=1.7 in /usr/local/lib/python3.6/dist-packages (from h5py) (1.17.5)\n",
      "Requirement already satisfied: six in /usr/local/lib/python3.6/dist-packages (from h5py) (1.12.0)\n"
     ]
    }
   ],
   "source": [
    "pip install h5py"
   ]
  },
  {
   "cell_type": "code",
   "execution_count": 0,
   "metadata": {
    "colab": {
     "base_uri": "https://localhost:8080/",
     "height": 35
    },
    "colab_type": "code",
    "id": "VgKS0NlS-Ab7",
    "outputId": "e1e736af-d885-4e41-8e2b-034b2224d164"
   },
   "outputs": [
    {
     "data": {
      "text/plain": [
       "array([0, 1, 2])"
      ]
     },
     "execution_count": 137,
     "metadata": {
      "tags": []
     },
     "output_type": "execute_result"
    }
   ],
   "source": [
    "encoder.classes_"
   ]
  },
  {
   "cell_type": "code",
   "execution_count": 0,
   "metadata": {
    "colab": {},
    "colab_type": "code",
    "id": "mEaCkDKwCGc-"
   },
   "outputs": [],
   "source": [
    "\n",
    "# serialize model to JSON\n",
    "model_json = model.to_json()\n",
    "with open(\"model.json\", \"w\") as json_file:\n",
    "    json_file.write(model_json)\n",
    "# serialize weights to HDF5\n",
    "model.save_weights(\"SubtaskCEnglishData.h5\")"
   ]
  },
  {
   "cell_type": "code",
   "execution_count": 0,
   "metadata": {
    "colab": {},
    "colab_type": "code",
    "id": "u2HSwB5BEgD8"
   },
   "outputs": [],
   "source": [
    "from keras.models import model_from_json\n"
   ]
  },
  {
   "cell_type": "code",
   "execution_count": 0,
   "metadata": {
    "colab": {
     "base_uri": "https://localhost:8080/",
     "height": 35
    },
    "colab_type": "code",
    "id": "c1uiK6awCXUV",
    "outputId": "133ada1f-123e-4d2a-a7ea-2611c1df9a63"
   },
   "outputs": [
    {
     "name": "stdout",
     "output_type": "stream",
     "text": [
      "Loaded model from disk\n"
     ]
    }
   ],
   "source": [
    "# load json and create model\n",
    "json_file = open('model.json', 'r')\n",
    "loaded_model_json = json_file.read()\n",
    "json_file.close()\n",
    "loaded_model = model_from_json(loaded_model_json)\n",
    "# load weights into new model\n",
    "loaded_model.load_weights(\"SubtaskCEnglishData.h5\")\n",
    "print(\"Loaded model from disk\")"
   ]
  },
  {
   "cell_type": "code",
   "execution_count": 0,
   "metadata": {
    "colab": {
     "base_uri": "https://localhost:8080/",
     "height": 90
    },
    "colab_type": "code",
    "id": "_WTOB5JVZV-W",
    "outputId": "ffa93ac9-da0f-4511-a9a2-ea3af15f34e9"
   },
   "outputs": [
    {
     "name": "stdout",
     "output_type": "stream",
     "text": [
      "3876/3876 [==============================] - 9s 2ms/step\n",
      "Test set\n",
      "  Loss: 0.748\n",
      "  Accuracy: 0.755\n"
     ]
    }
   ],
   "source": [
    "score= model.evaluate(X_test,dummy_y)\n",
    "print('Test set\\n  Loss: {:0.3f}\\n  Accuracy: {:0.3f}'.format(score[0],score[1]))"
   ]
  },
  {
   "cell_type": "code",
   "execution_count": 0,
   "metadata": {
    "colab": {},
    "colab_type": "code",
    "id": "5LAGOO1RYDoO"
   },
   "outputs": [],
   "source": [
    "yvalid=model.predict_classes(X_test)"
   ]
  },
  {
   "cell_type": "code",
   "execution_count": 0,
   "metadata": {
    "colab": {
     "base_uri": "https://localhost:8080/",
     "height": 35
    },
    "colab_type": "code",
    "id": "vCr8JEs_GXbK",
    "outputId": "ffe35ddc-81c4-44a8-c0cd-5203f1700a60"
   },
   "outputs": [
    {
     "data": {
      "text/plain": [
       "numpy.ndarray"
      ]
     },
     "execution_count": 143,
     "metadata": {
      "tags": []
     },
     "output_type": "execute_result"
    }
   ],
   "source": [
    "type(X_test)"
   ]
  },
  {
   "cell_type": "code",
   "execution_count": 0,
   "metadata": {
    "colab": {},
    "colab_type": "code",
    "id": "PdghWOjxF98G"
   },
   "outputs": [],
   "source": [
    "from sklearn.metrics import f1_score\n",
    "from sklearn.metrics import accuracy_score\n",
    "\n",
    "def calculateF1Score(predictions,labels):\n",
    "  #rowwise return the index of the max element ie 0 or 1 depending on the maximum value returned\n",
    "  predictionArgmax=predictions.flatten()\n",
    "  labelsFlattend=labels.flatten()\n",
    "  #print(\"Predictions Argmax\",predictionArgmax)\n",
    "  #print(\"labels Flattened\",labelsFlattend)   \n",
    "  return f1_score(labelsFlattend, predictionArgmax, average='macro'),accuracy_score(labelsFlattend, predictionArgmax)\n",
    "\n"
   ]
  },
  {
   "cell_type": "code",
   "execution_count": 0,
   "metadata": {
    "colab": {},
    "colab_type": "code",
    "id": "qDzj449-GqJS"
   },
   "outputs": [],
   "source": []
  },
  {
   "cell_type": "code",
   "execution_count": 0,
   "metadata": {
    "colab": {},
    "colab_type": "code",
    "id": "58RB8sbBFhNu"
   },
   "outputs": [],
   "source": [
    "f11,acc=calculateF1Score(yvalid,encoded_Y)"
   ]
  },
  {
   "cell_type": "code",
   "execution_count": 0,
   "metadata": {
    "colab": {
     "base_uri": "https://localhost:8080/",
     "height": 35
    },
    "colab_type": "code",
    "id": "Rh9Iph4mGD-6",
    "outputId": "9a92767e-76f0-464a-c64e-98972b9f7b00"
   },
   "outputs": [
    {
     "data": {
      "text/plain": [
       "0.7551599587203303"
      ]
     },
     "execution_count": 146,
     "metadata": {
      "tags": []
     },
     "output_type": "execute_result"
    }
   ],
   "source": [
    "acc"
   ]
  },
  {
   "cell_type": "code",
   "execution_count": 0,
   "metadata": {
    "colab": {
     "base_uri": "https://localhost:8080/",
     "height": 35
    },
    "colab_type": "code",
    "id": "K6BAkNvIFrdS",
    "outputId": "f99dd82c-da93-4410-cf8c-d1c4ba326d3b"
   },
   "outputs": [
    {
     "data": {
      "text/plain": [
       "0.6342716238334246"
      ]
     },
     "execution_count": 147,
     "metadata": {
      "tags": []
     },
     "output_type": "execute_result"
    }
   ],
   "source": [
    "f11"
   ]
  },
  {
   "cell_type": "code",
   "execution_count": 0,
   "metadata": {
    "colab": {},
    "colab_type": "code",
    "id": "UEfQpnBOLXXV"
   },
   "outputs": [],
   "source": [
    "ygiven=[]\n",
    "ypredicted=[]"
   ]
  },
  {
   "cell_type": "code",
   "execution_count": 0,
   "metadata": {
    "colab": {},
    "colab_type": "code",
    "id": "2a0FKPfsNobT"
   },
   "outputs": [],
   "source": []
  },
  {
   "cell_type": "code",
   "execution_count": null,
   "metadata": {
    "colab": {
     "base_uri": "https://localhost:8080/",
     "height": 340
    },
    "colab_type": "code",
    "id": "ou207z2INRfH",
    "outputId": "a00944ad-6225-48d9-f17a-bd0faef73c91"
   },
   "outputs": [],
   "source": [
    "!unzip -P ***** -qq '/content/drive/My Drive/EnglishData/test_c_baseline.csv.zip' "
   ]
  },
  {
   "cell_type": "code",
   "execution_count": 0,
   "metadata": {
    "colab": {},
    "colab_type": "code",
    "id": "mHUf_RjRNpVl"
   },
   "outputs": [],
   "source": [
    "!unzip -P ****** -qq '/content/drive/My Drive/EnglishData/public_data_task_C.zip'"
   ]
  },
  {
   "cell_type": "code",
   "execution_count": 0,
   "metadata": {
    "colab": {},
    "colab_type": "code",
    "id": "vUY9Oq4tiVLV"
   },
   "outputs": [],
   "source": [
    "def readData1():\n",
    "  headers=['id','ypredicted']\n",
    "  greekdataBaseline = pd.read_csv(\"test_c_baseline.csv\", delimiter=',',names=headers)\n",
    "  #,converters={\"id\":convertToInt}       \n",
    "  #greekdataBaseline.id = greekdataBaseline.id.astype(int)\n",
    "  #greekdataBaseline=greekdataBaseline[1:]\n",
    "  print(greekdataBaseline.head())\n",
    "  print(greekdataBaseline.shape)\n",
    "\n",
    "  headers=['id','tweet']\n",
    "  greekDataTest = pd.read_csv(\"test_c_tweets.tsv\", delimiter='\\t',names=headers)\n",
    "                                #converters={\"id\":convertToInt})\n",
    "  #greekDataTest=greekDataTest[1:]\n",
    "  print(greekDataTest.head())\n",
    "  #print(greekDataTest.dtypes)\n",
    "  print(greekDataTest.shape)\n",
    "  result = pd.merge(greekDataTest, greekdataBaseline, on='id', how='inner')\n",
    "  print(result.head())\n",
    "  print(result.dtypes)\n",
    "  print(result.shape)\n",
    "\n",
    "  #result=\n",
    "  #result.sort_values(by=['id'], inplace=True)\n",
    "  #print(result.head())\n",
    "  dfnumpy=result.to_numpy();\n",
    "  X=dfnumpy[:, 1].reshape(-1, 1)\n",
    "  y=dfnumpy[:, 2].reshape(-1, 1)\n",
    "  tid=dfnumpy[:, 0].reshape(-1, 1)\n",
    "  preprocessedTweets=X[:,0]\n",
    "  return preprocessedTweets,y,tid"
   ]
  },
  {
   "cell_type": "code",
   "execution_count": 0,
   "metadata": {
    "colab": {
     "base_uri": "https://localhost:8080/",
     "height": 472
    },
    "colab_type": "code",
    "id": "wwg1ano7LZ0U",
    "outputId": "3467af86-454f-450d-9db9-f069e4d280e8"
   },
   "outputs": [
    {
     "name": "stdout",
     "output_type": "stream",
     "text": [
      "     id ypredicted\n",
      "0   BC0        IND\n",
      "1   BC3        IND\n",
      "2   BC9        IND\n",
      "3  BC10        IND\n",
      "4  BC19        IND\n",
      "(850, 2)\n",
      "     id                                              tweet\n",
      "0    id                                              tweet\n",
      "1   BC0  @USER Lmao bihhh dis what u do to your homies ...\n",
      "2   BC3  @USER The POTUS is a racist, racist, racist, r...\n",
      "3   BC9  @USER He then grinned, raising his brow.  Oh d...\n",
      "4  BC10         Niggas priorities be fucked all the way up\n",
      "(851, 2)\n",
      "     id                                              tweet ypredicted\n",
      "0   BC0  @USER Lmao bihhh dis what u do to your homies ...        IND\n",
      "1   BC3  @USER The POTUS is a racist, racist, racist, r...        IND\n",
      "2   BC9  @USER He then grinned, raising his brow.  Oh d...        IND\n",
      "3  BC10         Niggas priorities be fucked all the way up        IND\n",
      "4  BC19  You bitches really be walking around talking s...        IND\n",
      "id            object\n",
      "tweet         object\n",
      "ypredicted    object\n",
      "dtype: object\n",
      "(850, 3)\n"
     ]
    }
   ],
   "source": [
    "preprocessedTweets,ypredict1,tid=readData1()"
   ]
  },
  {
   "cell_type": "code",
   "execution_count": 0,
   "metadata": {
    "colab": {
     "base_uri": "https://localhost:8080/",
     "height": 35
    },
    "colab_type": "code",
    "id": "vdcRliJmGaqn",
    "outputId": "69f271fe-d1df-4876-f0ac-c73c658e9631"
   },
   "outputs": [
    {
     "data": {
      "text/plain": [
       "numpy.ndarray"
      ]
     },
     "execution_count": 152,
     "metadata": {
      "tags": []
     },
     "output_type": "execute_result"
    }
   ],
   "source": [
    "type(preprocessedTweets)"
   ]
  },
  {
   "cell_type": "code",
   "execution_count": 0,
   "metadata": {
    "colab": {},
    "colab_type": "code",
    "id": "EmMxxn_YShdP"
   },
   "outputs": [],
   "source": [
    "preprocessedTweets=preprocessinglib(preprocessedTweets)"
   ]
  },
  {
   "cell_type": "code",
   "execution_count": 0,
   "metadata": {
    "colab": {
     "base_uri": "https://localhost:8080/",
     "height": 35
    },
    "colab_type": "code",
    "id": "WKKEJU_cG1wl",
    "outputId": "cfd94657-58e0-43e9-b8ee-f732ed441a74"
   },
   "outputs": [
    {
     "name": "stdout",
     "output_type": "stream",
     "text": [
      "Shape of data tensor: (850, 250)\n"
     ]
    }
   ],
   "source": [
    "Xpredict = tokenizer.texts_to_sequences(preprocessedTweets)\n",
    "Xpredict = pad_sequences(Xpredict, maxlen=MAX_SEQUENCE_LENGTH)\n",
    "print('Shape of data tensor:', Xpredict.shape)"
   ]
  },
  {
   "cell_type": "code",
   "execution_count": 0,
   "metadata": {
    "colab": {},
    "colab_type": "code",
    "id": "8WoaOf7VYOHq"
   },
   "outputs": [],
   "source": [
    "ynew = model.predict_classes(Xpredict)"
   ]
  },
  {
   "cell_type": "code",
   "execution_count": 0,
   "metadata": {
    "colab": {},
    "colab_type": "code",
    "id": "UR-ajoMOStSm"
   },
   "outputs": [],
   "source": []
  },
  {
   "cell_type": "code",
   "execution_count": 0,
   "metadata": {
    "colab": {},
    "colab_type": "code",
    "id": "IfeaDCUdRJ-j"
   },
   "outputs": [],
   "source": [
    "yz=giveLabel2(ypredict1)"
   ]
  },
  {
   "cell_type": "code",
   "execution_count": 0,
   "metadata": {
    "colab": {
     "base_uri": "https://localhost:8080/",
     "height": 35
    },
    "colab_type": "code",
    "id": "YmaT7QgeRJ_C",
    "outputId": "e98ba5b9-59b7-4ed6-8f78-c6676e712b6b"
   },
   "outputs": [
    {
     "data": {
      "text/plain": [
       "{0}"
      ]
     },
     "execution_count": 157,
     "metadata": {
      "tags": []
     },
     "output_type": "execute_result"
    }
   ],
   "source": [
    "set(yz)"
   ]
  },
  {
   "cell_type": "code",
   "execution_count": 0,
   "metadata": {
    "colab": {},
    "colab_type": "code",
    "id": "IFU7qozGRJ_L"
   },
   "outputs": [],
   "source": [
    "encoded_Ypredict = encoder.transform(yz)\n"
   ]
  },
  {
   "cell_type": "code",
   "execution_count": 0,
   "metadata": {
    "colab": {},
    "colab_type": "code",
    "id": "W75Xr6iHTTuF"
   },
   "outputs": [],
   "source": [
    "f11,acc=calculateF1Score(ynew,encoded_Ypredict)"
   ]
  },
  {
   "cell_type": "code",
   "execution_count": 0,
   "metadata": {
    "colab": {
     "base_uri": "https://localhost:8080/",
     "height": 35
    },
    "colab_type": "code",
    "id": "ef629NijTzsR",
    "outputId": "a0c9f299-0b7a-4950-d535-151c2fd1b1f7"
   },
   "outputs": [
    {
     "data": {
      "text/plain": [
       "0.29312239068336626"
      ]
     },
     "execution_count": 160,
     "metadata": {
      "tags": []
     },
     "output_type": "execute_result"
    }
   ],
   "source": [
    "f11"
   ]
  },
  {
   "cell_type": "code",
   "execution_count": 0,
   "metadata": {
    "colab": {
     "base_uri": "https://localhost:8080/",
     "height": 35
    },
    "colab_type": "code",
    "id": "b0Azbt_nUFlU",
    "outputId": "4903abbe-ed00-44c8-e220-e3aeaec65814"
   },
   "outputs": [
    {
     "data": {
      "text/plain": [
       "0.7847058823529411"
      ]
     },
     "execution_count": 161,
     "metadata": {
      "tags": []
     },
     "output_type": "execute_result"
    }
   ],
   "source": [
    "acc"
   ]
  },
  {
   "cell_type": "code",
   "execution_count": 0,
   "metadata": {
    "colab": {
     "base_uri": "https://localhost:8080/",
     "height": 72
    },
    "colab_type": "code",
    "id": "mHffhfImvU5b",
    "outputId": "b5889f62-89bf-4bf6-a790-6de394701a6e"
   },
   "outputs": [
    {
     "name": "stdout",
     "output_type": "stream",
     "text": [
      "667\n",
      "154\n",
      "29\n"
     ]
    }
   ],
   "source": [
    "print(ynew.flatten().tolist().count(0))\n",
    "print(ynew.flatten().tolist().count(1))\n",
    "print(ynew.flatten().tolist().count(2))\n"
   ]
  },
  {
   "cell_type": "code",
   "execution_count": 0,
   "metadata": {
    "colab": {},
    "colab_type": "code",
    "id": "fpaYWIdBv7p3"
   },
   "outputs": [],
   "source": [
    "yans=ynew.flatten().tolist()"
   ]
  },
  {
   "cell_type": "code",
   "execution_count": 0,
   "metadata": {
    "colab": {},
    "colab_type": "code",
    "id": "RH6UHJRQv2hh"
   },
   "outputs": [],
   "source": [
    "yans3=[]\n",
    "#yans3.append(\"IND\")"
   ]
  },
  {
   "cell_type": "code",
   "execution_count": 0,
   "metadata": {
    "colab": {},
    "colab_type": "code",
    "id": "Py58xFYnv489"
   },
   "outputs": [],
   "source": [
    "for i in range(len(yans)):\n",
    "  if yans[i]==0:\n",
    "    yans3.append(\"IND\")\n",
    "  elif yans[i]==1:\n",
    "    yans3.append(\"GRP\")\n",
    "  else:\n",
    "    yans3.append(\"OTH\")\n"
   ]
  },
  {
   "cell_type": "code",
   "execution_count": 0,
   "metadata": {
    "colab": {
     "base_uri": "https://localhost:8080/",
     "height": 35
    },
    "colab_type": "code",
    "id": "RbnZPNfpwHtx",
    "outputId": "3be97b5b-8c6b-4795-e9ce-085cdd9e8ca4"
   },
   "outputs": [
    {
     "data": {
      "text/plain": [
       "(850, 1)"
      ]
     },
     "execution_count": 172,
     "metadata": {
      "tags": []
     },
     "output_type": "execute_result"
    }
   ],
   "source": [
    "tid.shape"
   ]
  },
  {
   "cell_type": "code",
   "execution_count": 0,
   "metadata": {
    "colab": {},
    "colab_type": "code",
    "id": "Kkgq93UVUQ27"
   },
   "outputs": [],
   "source": [
    "#z={'tweet':sentence_predict[],'subtask_a':y_predict}\n",
    "#print(len(z))\n",
    "C = {'id': tid.flatten(),\n",
    "        'predicted': yans3\n",
    "    }\n",
    "df = pd.DataFrame(C)\n",
    "#print (df[df['id'] == 2707] )\n",
    "\n",
    "export_csv = df.to_csv ('/content/drive/My Drive/EnglishData/EnglishSubtaskCAnswerFinalOneHot.csv', index = None, header=True)\n",
    "\n"
   ]
  },
  {
   "cell_type": "code",
   "execution_count": 0,
   "metadata": {
    "colab": {},
    "colab_type": "code",
    "id": "K68yAoYCwCeN"
   },
   "outputs": [],
   "source": []
  }
 ],
 "metadata": {
  "colab": {
   "collapsed_sections": [],
   "name": "subtaskcsoftlabels.ipynb",
   "provenance": []
  },
  "kernelspec": {
   "display_name": "Python 3",
   "language": "python",
   "name": "python3"
  },
  "language_info": {
   "codemirror_mode": {
    "name": "ipython",
    "version": 3
   },
   "file_extension": ".py",
   "mimetype": "text/x-python",
   "name": "python",
   "nbconvert_exporter": "python",
   "pygments_lexer": "ipython3",
   "version": "3.6.9"
  }
 },
 "nbformat": 4,
 "nbformat_minor": 1
}
