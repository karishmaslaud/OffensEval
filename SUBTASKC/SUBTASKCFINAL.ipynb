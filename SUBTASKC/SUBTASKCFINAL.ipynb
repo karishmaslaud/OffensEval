{
 "cells": [
  {
   "cell_type": "code",
   "execution_count": null,
   "metadata": {
    "colab": {
     "base_uri": "https://localhost:8080/",
     "height": 408
    },
    "colab_type": "code",
    "id": "amsZ4bSdhBEP",
    "outputId": "46ee4a6c-8ec3-453d-a179-016e1f61934e"
   },
   "outputs": [],
   "source": [
    "!pip install transformers"
   ]
  },
  {
   "cell_type": "code",
   "execution_count": 0,
   "metadata": {
    "colab": {
     "base_uri": "https://localhost:8080/",
     "height": 34
    },
    "colab_type": "code",
    "id": "46Fpl7WYdNu0",
    "outputId": "e4ca6af1-f8fc-4cff-f02d-1b0066ae7487"
   },
   "outputs": [
    {
     "name": "stderr",
     "output_type": "stream",
     "text": [
      "Using TensorFlow backend.\n"
     ]
    }
   ],
   "source": [
    "import tensorflow as tf\n",
    "import torch\n",
    "\n",
    "import csv\n",
    "import pandas as pd\n",
    "import numpy as np\n",
    "from sklearn.model_selection import train_test_split\n",
    "\n",
    "\n",
    "from transformers import BertTokenizer as bertTokenizer\n",
    "from sklearn.model_selection import train_test_split\n",
    "from keras.preprocessing.sequence import pad_sequences\n",
    "from torch.utils.data import TensorDataset,DataLoader,RandomSampler,SequentialSampler\n",
    "\n",
    "from sklearn.svm import SVC\n",
    "from sklearn import preprocessing\n",
    "\n",
    "from transformers import BertForSequenceClassification as bfsc,AdamW,BertConfig\n",
    "from torch.utils.data import Dataset\n",
    "from transformers import get_linear_schedule_with_warmup\n",
    "\n"
   ]
  },
  {
   "cell_type": "markdown",
   "metadata": {
    "colab_type": "text",
    "id": "o4KbHLlB0hdj"
   },
   "source": []
  },
  {
   "cell_type": "code",
   "execution_count": 0,
   "metadata": {
    "colab": {},
    "colab_type": "code",
    "id": "R1nweMDxcWic"
   },
   "outputs": [],
   "source": [
    "gpuname=\"\"\n",
    "device=\"\"\n",
    "y=\"\"\n",
    "preprocessedTweets=\"\"\n",
    "ids_of_sentence=[]\n",
    "ids_of_sentence_words=[]\n"
   ]
  },
  {
   "cell_type": "code",
   "execution_count": 0,
   "metadata": {
    "colab": {
     "base_uri": "https://localhost:8080/",
     "height": 51
    },
    "colab_type": "code",
    "id": "lL3ZtD-zg4k1",
    "outputId": "3ef816be-0097-4227-81b7-95512842fed9"
   },
   "outputs": [
    {
     "name": "stdout",
     "output_type": "stream",
     "text": [
      "Found GPU at :/device:GPU:0\n",
      "The device name is Tesla P100-PCIE-16GB\n"
     ]
    }
   ],
   "source": [
    "\n",
    "\n",
    "gpuname=tf.test.gpu_device_name()\n",
    "if gpuname=='/device:GPU:0':\n",
    "  print('Found GPU at :{}'.format(gpuname))\n",
    "else:\n",
    "  gpuname=\"\"\n",
    "if torch.cuda.is_available():\n",
    "  device=torch.device(\"cuda\")\n",
    "  n_gpu=torch.cuda.device_count()\n",
    "  print(\"The device name is %s\"%torch.cuda.get_device_name(0))\n",
    "else:\n",
    "  print(\"No GPU available using only CPU instead\")\n",
    "  device=torch.device(\"cpu\")\n",
    "\n",
    "\n"
   ]
  },
  {
   "cell_type": "code",
   "execution_count": 0,
   "metadata": {
    "colab": {
     "base_uri": "https://localhost:8080/",
     "height": 34
    },
    "colab_type": "code",
    "id": "SKdaEMufiiAu",
    "outputId": "34721c4e-cf31-4d04-c359-7f4e7b5b3861"
   },
   "outputs": [
    {
     "name": "stdout",
     "output_type": "stream",
     "text": [
      "Drive already mounted at /content/drive; to attempt to forcibly remount, call drive.mount(\"/content/drive\", force_remount=True).\n"
     ]
    }
   ],
   "source": [
    "from google.colab import drive\n",
    "drive.mount('/content/drive')"
   ]
  },
  {
   "cell_type": "code",
   "execution_count": 0,
   "metadata": {
    "colab": {},
    "colab_type": "code",
    "id": "Ayt4_mQnr5n7"
   },
   "outputs": [],
   "source": [
    "\n",
    "def convertToFloat(val):\n",
    "    if not val:\n",
    "        return 0    \n",
    "    try:\n",
    "        return np.float64(val)\n",
    "    except:        \n",
    "        return np.float64(0)\n",
    "\n",
    "\n",
    "headers=['id','text','average_ind','average_grp','average_oth','std_ind','std_grp','std_oth']\n",
    "taskc = pd.read_csv(\"task_c_distant_ann.tsv\", delimiter='\\t',names=headers,low_memory=False,converters={\"average_ind\":convertToFloat,\n",
    "                                                                                                    \"average_grp\":convertToFloat,\n",
    "                                                                                                    \"average_oth\":convertToFloat,\n",
    "                                                                                                    \"std_ind\":convertToFloat,\n",
    "                                                                                                    \"std_grp\":convertToFloat,\n",
    "                                                                                                    \"std_oth\":convertToFloat})\n",
    "taskc=taskc[1:]"
   ]
  },
  {
   "cell_type": "code",
   "execution_count": 0,
   "metadata": {
    "colab": {
     "base_uri": "https://localhost:8080/",
     "height": 34
    },
    "colab_type": "code",
    "id": "m-dCmH8dThOD",
    "outputId": "8c92719b-b1d5-4ad7-f4b9-d719ca8548f6"
   },
   "outputs": [
    {
     "data": {
      "text/plain": [
       "188973"
      ]
     },
     "execution_count": 9,
     "metadata": {
      "tags": []
     },
     "output_type": "execute_result"
    }
   ],
   "source": [
    "len(taskc)"
   ]
  },
  {
   "cell_type": "code",
   "execution_count": 0,
   "metadata": {
    "colab": {
     "base_uri": "https://localhost:8080/",
     "height": 170
    },
    "colab_type": "code",
    "id": "2uXSsl4DrvPa",
    "outputId": "5e2d9fba-baba-4d7d-e312-436de032fdf6"
   },
   "outputs": [
    {
     "data": {
      "text/plain": [
       "id              object\n",
       "text            object\n",
       "average_ind    float64\n",
       "average_grp    float64\n",
       "average_oth    float64\n",
       "std_ind        float64\n",
       "std_grp        float64\n",
       "std_oth        float64\n",
       "dtype: object"
      ]
     },
     "execution_count": 10,
     "metadata": {
      "tags": []
     },
     "output_type": "execute_result"
    }
   ],
   "source": [
    "taskc.dtypes"
   ]
  },
  {
   "cell_type": "code",
   "execution_count": 0,
   "metadata": {
    "colab": {},
    "colab_type": "code",
    "id": "IXDd24Fxry8c"
   },
   "outputs": [],
   "source": [
    "#len(taskc)\n",
    "#taskc=taskc[:10000]\n",
    "#taska=taska[1000000:1500000]\n",
    "#taska=taska[1500000:2500000]\n",
    "#taska=taska[3500000:4500000]\n",
    "#taska=taska[5500000:6500000]\n",
    "#taska=taska[6000000:]"
   ]
  },
  {
   "cell_type": "code",
   "execution_count": 0,
   "metadata": {
    "colab": {},
    "colab_type": "code",
    "id": "9bHoGZVoSCPU"
   },
   "outputs": [],
   "source": [
    "\n",
    "#GET THE DATA FROM THE PANDAS FRAME\n",
    "headers=['id','tweet','subtask_a','subtask_b','subtask_c']\n",
    "englishdata = pd.read_csv(\"/content/drive/My Drive/EnglishData/OLIDv1.0/olid-training-v1.0.tsv\", delimiter='\\t',names=headers,low_memory=False)\n",
    "englishdata=englishdata[['id','tweet','subtask_c']]\n",
    "englishdata=englishdata[1:]"
   ]
  },
  {
   "cell_type": "code",
   "execution_count": 0,
   "metadata": {
    "colab": {},
    "colab_type": "code",
    "id": "BKDwFMQdrusQ"
   },
   "outputs": [],
   "source": [
    "englishdata = englishdata.dropna(subset=['subtask_c'])"
   ]
  },
  {
   "cell_type": "code",
   "execution_count": 0,
   "metadata": {
    "colab": {
     "base_uri": "https://localhost:8080/",
     "height": 34
    },
    "colab_type": "code",
    "id": "leV4AIvO56Jp",
    "outputId": "083c0a31-78d7-4739-eec6-5d1ef696a359"
   },
   "outputs": [
    {
     "data": {
      "text/plain": [
       "3876"
      ]
     },
     "execution_count": 62,
     "metadata": {
      "tags": []
     },
     "output_type": "execute_result"
    }
   ],
   "source": [
    "len(englishdata)"
   ]
  },
  {
   "cell_type": "code",
   "execution_count": 0,
   "metadata": {
    "colab": {
     "base_uri": "https://localhost:8080/",
     "height": 204
    },
    "colab_type": "code",
    "id": "B9dY5nerCi3z",
    "outputId": "09c472b2-a872-434a-cced-db2528b89b98"
   },
   "outputs": [
    {
     "data": {
      "text/html": [
       "<div>\n",
       "<style scoped>\n",
       "    .dataframe tbody tr th:only-of-type {\n",
       "        vertical-align: middle;\n",
       "    }\n",
       "\n",
       "    .dataframe tbody tr th {\n",
       "        vertical-align: top;\n",
       "    }\n",
       "\n",
       "    .dataframe thead th {\n",
       "        text-align: right;\n",
       "    }\n",
       "</style>\n",
       "<table border=\"1\" class=\"dataframe\">\n",
       "  <thead>\n",
       "    <tr style=\"text-align: right;\">\n",
       "      <th></th>\n",
       "      <th>id</th>\n",
       "      <th>tweet</th>\n",
       "      <th>subtask_c</th>\n",
       "    </tr>\n",
       "  </thead>\n",
       "  <tbody>\n",
       "    <tr>\n",
       "      <th>2</th>\n",
       "      <td>90194</td>\n",
       "      <td>@USER @USER Go home you’re drunk!!! @USER #MAG...</td>\n",
       "      <td>IND</td>\n",
       "    </tr>\n",
       "    <tr>\n",
       "      <th>6</th>\n",
       "      <td>97670</td>\n",
       "      <td>@USER Liberals are all Kookoo !!!</td>\n",
       "      <td>OTH</td>\n",
       "    </tr>\n",
       "    <tr>\n",
       "      <th>8</th>\n",
       "      <td>52415</td>\n",
       "      <td>@USER was literally just talking about this lo...</td>\n",
       "      <td>GRP</td>\n",
       "    </tr>\n",
       "    <tr>\n",
       "      <th>10</th>\n",
       "      <td>13384</td>\n",
       "      <td>@USER Canada doesn’t need another CUCK! We alr...</td>\n",
       "      <td>IND</td>\n",
       "    </tr>\n",
       "    <tr>\n",
       "      <th>13</th>\n",
       "      <td>28414</td>\n",
       "      <td>@USER you are a lying corrupt traitor!!! Nobod...</td>\n",
       "      <td>IND</td>\n",
       "    </tr>\n",
       "  </tbody>\n",
       "</table>\n",
       "</div>"
      ],
      "text/plain": [
       "       id                                              tweet subtask_c\n",
       "2   90194  @USER @USER Go home you’re drunk!!! @USER #MAG...       IND\n",
       "6   97670                  @USER Liberals are all Kookoo !!!       OTH\n",
       "8   52415  @USER was literally just talking about this lo...       GRP\n",
       "10  13384  @USER Canada doesn’t need another CUCK! We alr...       IND\n",
       "13  28414  @USER you are a lying corrupt traitor!!! Nobod...       IND"
      ]
     },
     "execution_count": 63,
     "metadata": {
      "tags": []
     },
     "output_type": "execute_result"
    }
   ],
   "source": [
    "englishdata.head()"
   ]
  },
  {
   "cell_type": "code",
   "execution_count": 0,
   "metadata": {
    "colab": {
     "base_uri": "https://localhost:8080/",
     "height": 54
    },
    "colab_type": "code",
    "id": "85xVmaYRHFab",
    "outputId": "2030fdec-5a6d-45b5-e03b-e18a6733b6f9"
   },
   "outputs": [
    {
     "data": {
      "text/plain": [
       "\"englishtrain,englishtest= train_test_split(englishdata, test_size=0.2, random_state=42)\\nexport_csv = englishtrain.to_csv ('/content/drive/My Drive/EnglishData/olidlearn/TrainFileEnglish.tsv', index = None, header=True)\\nprint (englishtrain.head())\\n#englishtest,englishpredict= train_test_split(englishtemp, test_size=0.5, random_state=42)\\nexport_csv = englishtest.to_csv ('/content/drive/My Drive/EnglishData/olidlearn/TestFileEnglish.tsv', index = None, header=True)\\nprint (englishtest.head())\""
      ]
     },
     "execution_count": 23,
     "metadata": {
      "tags": []
     },
     "output_type": "execute_result"
    }
   ],
   "source": [
    "'''englishtrain,englishtest= train_test_split(englishdata, test_size=0.2, random_state=42)\n",
    "export_csv = englishtrain.to_csv ('/content/drive/My Drive/EnglishData/olidlearn/TrainFileEnglish.tsv', index = None, header=True)\n",
    "print (englishtrain.head())\n",
    "#englishtest,englishpredict= train_test_split(englishtemp, test_size=0.5, random_state=42)\n",
    "export_csv = englishtest.to_csv ('/content/drive/My Drive/EnglishData/olidlearn/TestFileEnglish.tsv', index = None, header=True)\n",
    "print (englishtest.head())'''\n",
    "#export_csv = englishpredict.to_csv ('/content/drive/My Drive/EnglishData/predictFileEnglish.csv', index = None, header=True)\n",
    "#print (englishpredict.head())"
   ]
  },
  {
   "cell_type": "code",
   "execution_count": 0,
   "metadata": {
    "colab": {},
    "colab_type": "code",
    "id": "zn8dOMH10Cla"
   },
   "outputs": [],
   "source": [
    "ids_of_sentence=[]\n",
    "ids_of_sentence_words=[]\n",
    "attention_masks=[]\n",
    "\n",
    "def giveIds(sentence):\n",
    "  maxlength=0\n",
    "  tokenizer=bertTokenizer.from_pretrained('bert-base-uncased',do_lower_case=True)\n",
    "  for t in sentence:\n",
    "      tokenized_sentence_id=tokenizer.encode(t,add_special_tokens=True)\n",
    "      if(maxlength<len(tokenized_sentence_id)):\n",
    "          maxlength=len(tokenized_sentence_id)\n",
    "  return maxlength"
   ]
  },
  {
   "cell_type": "code",
   "execution_count": 0,
   "metadata": {
    "colab": {},
    "colab_type": "code",
    "id": "lMeqzRH7LS5Q"
   },
   "outputs": [],
   "source": [
    "dfnumpy=taskc.to_numpy()\n",
    "x_train=dfnumpy[:, 1].reshape(-1, 1)\n",
    "y_train=dfnumpy[:, 2].reshape(-1, 1)"
   ]
  },
  {
   "cell_type": "code",
   "execution_count": 0,
   "metadata": {
    "colab": {
     "base_uri": "https://localhost:8080/",
     "height": 34
    },
    "colab_type": "code",
    "id": "a40P-fEPNwSC",
    "outputId": "06fa8624-de7b-4de8-c0d3-bcda1bd68632"
   },
   "outputs": [
    {
     "data": {
      "text/plain": [
       "numpy.ndarray"
      ]
     },
     "execution_count": 17,
     "metadata": {
      "tags": []
     },
     "output_type": "execute_result"
    }
   ],
   "source": [
    "type(y_train)"
   ]
  },
  {
   "cell_type": "code",
   "execution_count": 0,
   "metadata": {
    "colab": {},
    "colab_type": "code",
    "id": "tmbrouMtLk4a"
   },
   "outputs": [],
   "source": [
    "\n",
    "def giveLabel(y1,y2,y3):\n",
    "  i=0\n",
    "  largest_index=0\n",
    "  #label1=['IND','GRP','OTH']\n",
    "  ylabels=[]\n",
    "  for r in y1:\n",
    "    if (y1[i] >= y2[i]) and (y1[i] >= y3[i]): \n",
    "        largest_index = 0 \n",
    "    elif (y2[i] >= y1[i]) and (y2[i] >= y3[i]): \n",
    "        largest_index = 1 \n",
    "    else: \n",
    "        largest_index = 2 \n",
    "    \n",
    "    ylabels.append(largest_index)\n",
    "    i=i+1;\n",
    "  return ylabels\n",
    "\n",
    "dfnumpy=taskc.to_numpy();\n",
    "x_train=dfnumpy[:, 1].reshape(-1, 1)\n",
    "y_train1=dfnumpy[:, 2].reshape(-1, 1)\n",
    "y_train2=dfnumpy[:, 3].reshape(-1, 1)\n",
    "y_train3=dfnumpy[:, 4].reshape(-1, 1)\n"
   ]
  },
  {
   "cell_type": "code",
   "execution_count": 0,
   "metadata": {
    "colab": {},
    "colab_type": "code",
    "id": "pEBKnFqftO5_"
   },
   "outputs": [],
   "source": [
    "y1=giveLabel(y_train1,y_train2,y_train3)"
   ]
  },
  {
   "cell_type": "code",
   "execution_count": 0,
   "metadata": {
    "colab": {},
    "colab_type": "code",
    "id": "SVBwzETtK9a-"
   },
   "outputs": [],
   "source": [
    "dfnumpy=englishdata.to_numpy()\n",
    "x_test=dfnumpy[:, 1].reshape(-1, 1)\n",
    "y_test=dfnumpy[:, 2].reshape(-1, 1)"
   ]
  },
  {
   "cell_type": "code",
   "execution_count": 0,
   "metadata": {
    "colab": {
     "base_uri": "https://localhost:8080/",
     "height": 34
    },
    "colab_type": "code",
    "id": "uXEyC_aKco3l",
    "outputId": "73a7b696-3462-481f-910b-6a1db080a510"
   },
   "outputs": [
    {
     "data": {
      "text/plain": [
       "3876"
      ]
     },
     "execution_count": 24,
     "metadata": {
      "tags": []
     },
     "output_type": "execute_result"
    }
   ],
   "source": [
    "len(x_test)"
   ]
  },
  {
   "cell_type": "code",
   "execution_count": 0,
   "metadata": {
    "colab": {
     "base_uri": "https://localhost:8080/",
     "height": 68
    },
    "colab_type": "code",
    "id": "ac_aRXP3Ll_Z",
    "outputId": "ccc078d4-bbec-4546-aa80-6065ca9ee798"
   },
   "outputs": [
    {
     "name": "stdout",
     "output_type": "stream",
     "text": [
      "152562\n",
      "24917\n",
      "11494\n"
     ]
    }
   ],
   "source": [
    "print(y1.count(0))\n",
    "print(y1.count(1))\n",
    "print(y1.count(2))\n"
   ]
  },
  {
   "cell_type": "code",
   "execution_count": 0,
   "metadata": {
    "colab": {
     "base_uri": "https://localhost:8080/",
     "height": 85
    },
    "colab_type": "code",
    "id": "ew7u6ptZMJZs",
    "outputId": "01e0e5e2-b148-4c95-cd1f-4335467f46e5",
    "scrolled": true
   },
   "outputs": [
    {
     "name": "stdout",
     "output_type": "stream",
     "text": [
      "0.8073216808750456\n",
      "0.1318548152381557\n",
      "0.06082350388679864\n"
     ]
    },
    {
     "data": {
      "text/plain": [
       "['IND', 'GRP', 'OTH']"
      ]
     },
     "execution_count": 26,
     "metadata": {
      "tags": []
     },
     "output_type": "execute_result"
    }
   ],
   "source": [
    "print(y1.count(0)/len(y1))\n",
    "print(y1.count(1)/len(y1))\n",
    "print(y1.count(2)/len(y1))\n",
    "['IND','GRP','OTH']"
   ]
  },
  {
   "cell_type": "code",
   "execution_count": 0,
   "metadata": {
    "colab": {},
    "colab_type": "code",
    "id": "B_NKcxDqLOGX"
   },
   "outputs": [],
   "source": [
    "from sklearn.utils import shuffle\n",
    "x_train,y_train=shuffle(x_train,y1)"
   ]
  },
  {
   "cell_type": "code",
   "execution_count": 0,
   "metadata": {
    "colab": {},
    "colab_type": "code",
    "id": "0E_1X_qqOw8Y"
   },
   "outputs": [],
   "source": [
    "\n",
    "def giveLabel2(y1):\n",
    "  i=0\n",
    "  largest_index=0\n",
    "  #label1=['IND','GRP','OTH']\n",
    "  ylabels=[]\n",
    "  for r in y1:\n",
    "    if (r==\"IND\"): \n",
    "        largest_index = 0 \n",
    "    elif (r==\"GRP\"):\n",
    "        largest_index = 1 \n",
    "    else: \n",
    "        largest_index = 2 \n",
    "    \n",
    "    ylabels.append(largest_index)\n",
    "    i=i+1;\n",
    "  return ylabels"
   ]
  },
  {
   "cell_type": "code",
   "execution_count": 0,
   "metadata": {
    "colab": {
     "base_uri": "https://localhost:8080/",
     "height": 85
    },
    "colab_type": "code",
    "id": "BSZGqjvlBIDa",
    "outputId": "d2d635e6-faa9-43bf-85e2-b3483c8ce08d"
   },
   "outputs": [
    {
     "name": "stdout",
     "output_type": "stream",
     "text": [
      "(3876, 1)\n",
      "(188973,)\n",
      "[0 1 2]\n",
      "[0 1 2]\n"
     ]
    }
   ],
   "source": [
    "from sklearn.svm import SVC\n",
    "from sklearn import preprocessing\n",
    "\n",
    "le = preprocessing.LabelEncoder()\n",
    "#print(y_train.shape)\n",
    "print(y_test.shape)\n",
    "#print(y_predict.shape)\n",
    "yTrain=le.fit_transform(y_train)\n",
    "print(yTrain.shape)\n",
    "print(le.classes_)\n",
    "#le.fit_transform(['IND','GRP','OTH'])\n",
    "yl=giveLabel2(y_test.flatten())\n",
    "yTest=le.fit_transform(y1)\n",
    "print(le.classes_)\n"
   ]
  },
  {
   "cell_type": "code",
   "execution_count": 0,
   "metadata": {
    "colab": {
     "base_uri": "https://localhost:8080/",
     "height": 34
    },
    "colab_type": "code",
    "id": "jMCPsKyZBK7f",
    "outputId": "317e323d-8421-4e3a-8d0d-f12ce5d0ee7f"
   },
   "outputs": [
    {
     "data": {
      "text/plain": [
       "11494"
      ]
     },
     "execution_count": 30,
     "metadata": {
      "tags": []
     },
     "output_type": "execute_result"
    }
   ],
   "source": [
    "yTest.flatten().tolist().count(2)"
   ]
  },
  {
   "cell_type": "code",
   "execution_count": 0,
   "metadata": {
    "colab": {
     "base_uri": "https://localhost:8080/",
     "height": 54
    },
    "colab_type": "code",
    "id": "QmG6tesd1euz",
    "outputId": "fbea704b-3378-4993-e02e-cacf268f4673"
   },
   "outputs": [
    {
     "data": {
      "text/plain": [
       "'xtest,x_test_mask=giveIds(x_test.flatten(),y_test)\\nx_test_pytorch=torch.tensor(xtest)\\ny_test_pytorch=torch.tensor(y_test)\\nx_test_mask_pytorch=torch.tensor(x_test_mask)\\ntedata=TensorDataset(x_test_pytorch,x_test_mask_pytorch,y_test_pytorch)\\ntesampler=RandomSampler(tedata)\\nbsize=64\\ntedataloader=DataLoader(tedata,sampler=tesampler,batch_size=bsize)\\nprint(len(xtest))\\nprint(len(y_test))\\nlen(x_train)\\n'"
      ]
     },
     "execution_count": 43,
     "metadata": {
      "tags": []
     },
     "output_type": "execute_result"
    }
   ],
   "source": [
    "###IMPORTANT\n",
    "'''xtest,x_test_mask=giveIds(x_test.flatten(),y_test)\n",
    "x_test_pytorch=torch.tensor(xtest)\n",
    "y_test_pytorch=torch.tensor(y_test)\n",
    "x_test_mask_pytorch=torch.tensor(x_test_mask)\n",
    "tedata=TensorDataset(x_test_pytorch,x_test_mask_pytorch,y_test_pytorch)\n",
    "tesampler=RandomSampler(tedata)\n",
    "bsize=64\n",
    "tedataloader=DataLoader(tedata,sampler=tesampler,batch_size=bsize)\n",
    "print(len(xtest))\n",
    "print(len(y_test))\n",
    "len(x_train)\n",
    "'''"
   ]
  },
  {
   "cell_type": "code",
   "execution_count": 0,
   "metadata": {
    "colab": {
     "base_uri": "https://localhost:8080/",
     "height": 1000
    },
    "colab_type": "code",
    "id": "ZbZxkgcBhfag",
    "outputId": "b0d10b5b-f6c3-4da9-aea6-4f04d7953eea"
   },
   "outputs": [
    {
     "data": {
      "text/plain": [
       "BertForSequenceClassification(\n",
       "  (bert): BertModel(\n",
       "    (embeddings): BertEmbeddings(\n",
       "      (word_embeddings): Embedding(30522, 768, padding_idx=0)\n",
       "      (position_embeddings): Embedding(512, 768)\n",
       "      (token_type_embeddings): Embedding(2, 768)\n",
       "      (LayerNorm): LayerNorm((768,), eps=1e-12, elementwise_affine=True)\n",
       "      (dropout): Dropout(p=0.1, inplace=False)\n",
       "    )\n",
       "    (encoder): BertEncoder(\n",
       "      (layer): ModuleList(\n",
       "        (0): BertLayer(\n",
       "          (attention): BertAttention(\n",
       "            (self): BertSelfAttention(\n",
       "              (query): Linear(in_features=768, out_features=768, bias=True)\n",
       "              (key): Linear(in_features=768, out_features=768, bias=True)\n",
       "              (value): Linear(in_features=768, out_features=768, bias=True)\n",
       "              (dropout): Dropout(p=0.1, inplace=False)\n",
       "            )\n",
       "            (output): BertSelfOutput(\n",
       "              (dense): Linear(in_features=768, out_features=768, bias=True)\n",
       "              (LayerNorm): LayerNorm((768,), eps=1e-12, elementwise_affine=True)\n",
       "              (dropout): Dropout(p=0.1, inplace=False)\n",
       "            )\n",
       "          )\n",
       "          (intermediate): BertIntermediate(\n",
       "            (dense): Linear(in_features=768, out_features=3072, bias=True)\n",
       "          )\n",
       "          (output): BertOutput(\n",
       "            (dense): Linear(in_features=3072, out_features=768, bias=True)\n",
       "            (LayerNorm): LayerNorm((768,), eps=1e-12, elementwise_affine=True)\n",
       "            (dropout): Dropout(p=0.1, inplace=False)\n",
       "          )\n",
       "        )\n",
       "        (1): BertLayer(\n",
       "          (attention): BertAttention(\n",
       "            (self): BertSelfAttention(\n",
       "              (query): Linear(in_features=768, out_features=768, bias=True)\n",
       "              (key): Linear(in_features=768, out_features=768, bias=True)\n",
       "              (value): Linear(in_features=768, out_features=768, bias=True)\n",
       "              (dropout): Dropout(p=0.1, inplace=False)\n",
       "            )\n",
       "            (output): BertSelfOutput(\n",
       "              (dense): Linear(in_features=768, out_features=768, bias=True)\n",
       "              (LayerNorm): LayerNorm((768,), eps=1e-12, elementwise_affine=True)\n",
       "              (dropout): Dropout(p=0.1, inplace=False)\n",
       "            )\n",
       "          )\n",
       "          (intermediate): BertIntermediate(\n",
       "            (dense): Linear(in_features=768, out_features=3072, bias=True)\n",
       "          )\n",
       "          (output): BertOutput(\n",
       "            (dense): Linear(in_features=3072, out_features=768, bias=True)\n",
       "            (LayerNorm): LayerNorm((768,), eps=1e-12, elementwise_affine=True)\n",
       "            (dropout): Dropout(p=0.1, inplace=False)\n",
       "          )\n",
       "        )\n",
       "        (2): BertLayer(\n",
       "          (attention): BertAttention(\n",
       "            (self): BertSelfAttention(\n",
       "              (query): Linear(in_features=768, out_features=768, bias=True)\n",
       "              (key): Linear(in_features=768, out_features=768, bias=True)\n",
       "              (value): Linear(in_features=768, out_features=768, bias=True)\n",
       "              (dropout): Dropout(p=0.1, inplace=False)\n",
       "            )\n",
       "            (output): BertSelfOutput(\n",
       "              (dense): Linear(in_features=768, out_features=768, bias=True)\n",
       "              (LayerNorm): LayerNorm((768,), eps=1e-12, elementwise_affine=True)\n",
       "              (dropout): Dropout(p=0.1, inplace=False)\n",
       "            )\n",
       "          )\n",
       "          (intermediate): BertIntermediate(\n",
       "            (dense): Linear(in_features=768, out_features=3072, bias=True)\n",
       "          )\n",
       "          (output): BertOutput(\n",
       "            (dense): Linear(in_features=3072, out_features=768, bias=True)\n",
       "            (LayerNorm): LayerNorm((768,), eps=1e-12, elementwise_affine=True)\n",
       "            (dropout): Dropout(p=0.1, inplace=False)\n",
       "          )\n",
       "        )\n",
       "        (3): BertLayer(\n",
       "          (attention): BertAttention(\n",
       "            (self): BertSelfAttention(\n",
       "              (query): Linear(in_features=768, out_features=768, bias=True)\n",
       "              (key): Linear(in_features=768, out_features=768, bias=True)\n",
       "              (value): Linear(in_features=768, out_features=768, bias=True)\n",
       "              (dropout): Dropout(p=0.1, inplace=False)\n",
       "            )\n",
       "            (output): BertSelfOutput(\n",
       "              (dense): Linear(in_features=768, out_features=768, bias=True)\n",
       "              (LayerNorm): LayerNorm((768,), eps=1e-12, elementwise_affine=True)\n",
       "              (dropout): Dropout(p=0.1, inplace=False)\n",
       "            )\n",
       "          )\n",
       "          (intermediate): BertIntermediate(\n",
       "            (dense): Linear(in_features=768, out_features=3072, bias=True)\n",
       "          )\n",
       "          (output): BertOutput(\n",
       "            (dense): Linear(in_features=3072, out_features=768, bias=True)\n",
       "            (LayerNorm): LayerNorm((768,), eps=1e-12, elementwise_affine=True)\n",
       "            (dropout): Dropout(p=0.1, inplace=False)\n",
       "          )\n",
       "        )\n",
       "        (4): BertLayer(\n",
       "          (attention): BertAttention(\n",
       "            (self): BertSelfAttention(\n",
       "              (query): Linear(in_features=768, out_features=768, bias=True)\n",
       "              (key): Linear(in_features=768, out_features=768, bias=True)\n",
       "              (value): Linear(in_features=768, out_features=768, bias=True)\n",
       "              (dropout): Dropout(p=0.1, inplace=False)\n",
       "            )\n",
       "            (output): BertSelfOutput(\n",
       "              (dense): Linear(in_features=768, out_features=768, bias=True)\n",
       "              (LayerNorm): LayerNorm((768,), eps=1e-12, elementwise_affine=True)\n",
       "              (dropout): Dropout(p=0.1, inplace=False)\n",
       "            )\n",
       "          )\n",
       "          (intermediate): BertIntermediate(\n",
       "            (dense): Linear(in_features=768, out_features=3072, bias=True)\n",
       "          )\n",
       "          (output): BertOutput(\n",
       "            (dense): Linear(in_features=3072, out_features=768, bias=True)\n",
       "            (LayerNorm): LayerNorm((768,), eps=1e-12, elementwise_affine=True)\n",
       "            (dropout): Dropout(p=0.1, inplace=False)\n",
       "          )\n",
       "        )\n",
       "        (5): BertLayer(\n",
       "          (attention): BertAttention(\n",
       "            (self): BertSelfAttention(\n",
       "              (query): Linear(in_features=768, out_features=768, bias=True)\n",
       "              (key): Linear(in_features=768, out_features=768, bias=True)\n",
       "              (value): Linear(in_features=768, out_features=768, bias=True)\n",
       "              (dropout): Dropout(p=0.1, inplace=False)\n",
       "            )\n",
       "            (output): BertSelfOutput(\n",
       "              (dense): Linear(in_features=768, out_features=768, bias=True)\n",
       "              (LayerNorm): LayerNorm((768,), eps=1e-12, elementwise_affine=True)\n",
       "              (dropout): Dropout(p=0.1, inplace=False)\n",
       "            )\n",
       "          )\n",
       "          (intermediate): BertIntermediate(\n",
       "            (dense): Linear(in_features=768, out_features=3072, bias=True)\n",
       "          )\n",
       "          (output): BertOutput(\n",
       "            (dense): Linear(in_features=3072, out_features=768, bias=True)\n",
       "            (LayerNorm): LayerNorm((768,), eps=1e-12, elementwise_affine=True)\n",
       "            (dropout): Dropout(p=0.1, inplace=False)\n",
       "          )\n",
       "        )\n",
       "        (6): BertLayer(\n",
       "          (attention): BertAttention(\n",
       "            (self): BertSelfAttention(\n",
       "              (query): Linear(in_features=768, out_features=768, bias=True)\n",
       "              (key): Linear(in_features=768, out_features=768, bias=True)\n",
       "              (value): Linear(in_features=768, out_features=768, bias=True)\n",
       "              (dropout): Dropout(p=0.1, inplace=False)\n",
       "            )\n",
       "            (output): BertSelfOutput(\n",
       "              (dense): Linear(in_features=768, out_features=768, bias=True)\n",
       "              (LayerNorm): LayerNorm((768,), eps=1e-12, elementwise_affine=True)\n",
       "              (dropout): Dropout(p=0.1, inplace=False)\n",
       "            )\n",
       "          )\n",
       "          (intermediate): BertIntermediate(\n",
       "            (dense): Linear(in_features=768, out_features=3072, bias=True)\n",
       "          )\n",
       "          (output): BertOutput(\n",
       "            (dense): Linear(in_features=3072, out_features=768, bias=True)\n",
       "            (LayerNorm): LayerNorm((768,), eps=1e-12, elementwise_affine=True)\n",
       "            (dropout): Dropout(p=0.1, inplace=False)\n",
       "          )\n",
       "        )\n",
       "        (7): BertLayer(\n",
       "          (attention): BertAttention(\n",
       "            (self): BertSelfAttention(\n",
       "              (query): Linear(in_features=768, out_features=768, bias=True)\n",
       "              (key): Linear(in_features=768, out_features=768, bias=True)\n",
       "              (value): Linear(in_features=768, out_features=768, bias=True)\n",
       "              (dropout): Dropout(p=0.1, inplace=False)\n",
       "            )\n",
       "            (output): BertSelfOutput(\n",
       "              (dense): Linear(in_features=768, out_features=768, bias=True)\n",
       "              (LayerNorm): LayerNorm((768,), eps=1e-12, elementwise_affine=True)\n",
       "              (dropout): Dropout(p=0.1, inplace=False)\n",
       "            )\n",
       "          )\n",
       "          (intermediate): BertIntermediate(\n",
       "            (dense): Linear(in_features=768, out_features=3072, bias=True)\n",
       "          )\n",
       "          (output): BertOutput(\n",
       "            (dense): Linear(in_features=3072, out_features=768, bias=True)\n",
       "            (LayerNorm): LayerNorm((768,), eps=1e-12, elementwise_affine=True)\n",
       "            (dropout): Dropout(p=0.1, inplace=False)\n",
       "          )\n",
       "        )\n",
       "        (8): BertLayer(\n",
       "          (attention): BertAttention(\n",
       "            (self): BertSelfAttention(\n",
       "              (query): Linear(in_features=768, out_features=768, bias=True)\n",
       "              (key): Linear(in_features=768, out_features=768, bias=True)\n",
       "              (value): Linear(in_features=768, out_features=768, bias=True)\n",
       "              (dropout): Dropout(p=0.1, inplace=False)\n",
       "            )\n",
       "            (output): BertSelfOutput(\n",
       "              (dense): Linear(in_features=768, out_features=768, bias=True)\n",
       "              (LayerNorm): LayerNorm((768,), eps=1e-12, elementwise_affine=True)\n",
       "              (dropout): Dropout(p=0.1, inplace=False)\n",
       "            )\n",
       "          )\n",
       "          (intermediate): BertIntermediate(\n",
       "            (dense): Linear(in_features=768, out_features=3072, bias=True)\n",
       "          )\n",
       "          (output): BertOutput(\n",
       "            (dense): Linear(in_features=3072, out_features=768, bias=True)\n",
       "            (LayerNorm): LayerNorm((768,), eps=1e-12, elementwise_affine=True)\n",
       "            (dropout): Dropout(p=0.1, inplace=False)\n",
       "          )\n",
       "        )\n",
       "        (9): BertLayer(\n",
       "          (attention): BertAttention(\n",
       "            (self): BertSelfAttention(\n",
       "              (query): Linear(in_features=768, out_features=768, bias=True)\n",
       "              (key): Linear(in_features=768, out_features=768, bias=True)\n",
       "              (value): Linear(in_features=768, out_features=768, bias=True)\n",
       "              (dropout): Dropout(p=0.1, inplace=False)\n",
       "            )\n",
       "            (output): BertSelfOutput(\n",
       "              (dense): Linear(in_features=768, out_features=768, bias=True)\n",
       "              (LayerNorm): LayerNorm((768,), eps=1e-12, elementwise_affine=True)\n",
       "              (dropout): Dropout(p=0.1, inplace=False)\n",
       "            )\n",
       "          )\n",
       "          (intermediate): BertIntermediate(\n",
       "            (dense): Linear(in_features=768, out_features=3072, bias=True)\n",
       "          )\n",
       "          (output): BertOutput(\n",
       "            (dense): Linear(in_features=3072, out_features=768, bias=True)\n",
       "            (LayerNorm): LayerNorm((768,), eps=1e-12, elementwise_affine=True)\n",
       "            (dropout): Dropout(p=0.1, inplace=False)\n",
       "          )\n",
       "        )\n",
       "        (10): BertLayer(\n",
       "          (attention): BertAttention(\n",
       "            (self): BertSelfAttention(\n",
       "              (query): Linear(in_features=768, out_features=768, bias=True)\n",
       "              (key): Linear(in_features=768, out_features=768, bias=True)\n",
       "              (value): Linear(in_features=768, out_features=768, bias=True)\n",
       "              (dropout): Dropout(p=0.1, inplace=False)\n",
       "            )\n",
       "            (output): BertSelfOutput(\n",
       "              (dense): Linear(in_features=768, out_features=768, bias=True)\n",
       "              (LayerNorm): LayerNorm((768,), eps=1e-12, elementwise_affine=True)\n",
       "              (dropout): Dropout(p=0.1, inplace=False)\n",
       "            )\n",
       "          )\n",
       "          (intermediate): BertIntermediate(\n",
       "            (dense): Linear(in_features=768, out_features=3072, bias=True)\n",
       "          )\n",
       "          (output): BertOutput(\n",
       "            (dense): Linear(in_features=3072, out_features=768, bias=True)\n",
       "            (LayerNorm): LayerNorm((768,), eps=1e-12, elementwise_affine=True)\n",
       "            (dropout): Dropout(p=0.1, inplace=False)\n",
       "          )\n",
       "        )\n",
       "        (11): BertLayer(\n",
       "          (attention): BertAttention(\n",
       "            (self): BertSelfAttention(\n",
       "              (query): Linear(in_features=768, out_features=768, bias=True)\n",
       "              (key): Linear(in_features=768, out_features=768, bias=True)\n",
       "              (value): Linear(in_features=768, out_features=768, bias=True)\n",
       "              (dropout): Dropout(p=0.1, inplace=False)\n",
       "            )\n",
       "            (output): BertSelfOutput(\n",
       "              (dense): Linear(in_features=768, out_features=768, bias=True)\n",
       "              (LayerNorm): LayerNorm((768,), eps=1e-12, elementwise_affine=True)\n",
       "              (dropout): Dropout(p=0.1, inplace=False)\n",
       "            )\n",
       "          )\n",
       "          (intermediate): BertIntermediate(\n",
       "            (dense): Linear(in_features=768, out_features=3072, bias=True)\n",
       "          )\n",
       "          (output): BertOutput(\n",
       "            (dense): Linear(in_features=3072, out_features=768, bias=True)\n",
       "            (LayerNorm): LayerNorm((768,), eps=1e-12, elementwise_affine=True)\n",
       "            (dropout): Dropout(p=0.1, inplace=False)\n",
       "          )\n",
       "        )\n",
       "      )\n",
       "    )\n",
       "    (pooler): BertPooler(\n",
       "      (dense): Linear(in_features=768, out_features=768, bias=True)\n",
       "      (activation): Tanh()\n",
       "    )\n",
       "  )\n",
       "  (dropout): Dropout(p=0.1, inplace=False)\n",
       "  (classifier): Linear(in_features=768, out_features=3, bias=True)\n",
       ")"
      ]
     },
     "execution_count": 31,
     "metadata": {
      "tags": []
     },
     "output_type": "execute_result"
    }
   ],
   "source": [
    "from transformers import BertForSequenceClassification as bfsc,AdamW,BertConfig\n",
    "model=bfsc.from_pretrained('bert-base-uncased',num_labels=3,output_attentions=False,output_hidden_states=False)\n",
    "model.cuda()"
   ]
  },
  {
   "cell_type": "code",
   "execution_count": 0,
   "metadata": {
    "colab": {
     "base_uri": "https://localhost:8080/",
     "height": 34
    },
    "colab_type": "code",
    "id": "ZPr_Sj12LY-y",
    "outputId": "e45cf250-47f4-403f-bd80-8a731a4811f2"
   },
   "outputs": [
    {
     "data": {
      "text/plain": [
       "<All keys matched successfully>"
      ]
     },
     "execution_count": 32,
     "metadata": {
      "tags": []
     },
     "output_type": "execute_result"
    }
   ],
   "source": [
    "##ONLY FOR THE FIRST TIME SAVE ELSE LOAD\n",
    "#torch.save({'state_dict': model.state_dict()}, '/content/drive/My Drive/EnglishData/BERTNEWsubtaskc.pth.tar')\n",
    "checkpoint = torch.load('/content/drive/My Drive/EnglishData/SUBTASKC1/2/BERTNEWsubtaskc.pth.tar')\n",
    "model.load_state_dict(checkpoint['state_dict'])\n",
    "  "
   ]
  },
  {
   "cell_type": "code",
   "execution_count": 0,
   "metadata": {
    "colab": {},
    "colab_type": "code",
    "id": "NDzvjKyWMio7"
   },
   "outputs": [],
   "source": [
    "params=list(model.named_parameters())"
   ]
  },
  {
   "cell_type": "code",
   "execution_count": 0,
   "metadata": {
    "colab": {},
    "colab_type": "code",
    "id": "jQQ5__z5Mio-"
   },
   "outputs": [],
   "source": [
    "no_decay = [\"bias\", \"beta\",\"LayerNorm.weight\",\"gamma\"]\n",
    "optimizer_grouped_parameters = [\n",
    "{\n",
    "\"params\": [p for n, p in model.named_parameters() if not any(nd in n for nd in no_decay)],\n",
    "\"weight_decay\": 0.01,\n",
    "},\n",
    "{\"params\": [p for n, p in model.named_parameters() if any(nd in n for nd in no_decay)], \"weight_decay\": 0.0},\n",
    "]"
   ]
  },
  {
   "cell_type": "code",
   "execution_count": 0,
   "metadata": {
    "colab": {},
    "colab_type": "code",
    "id": "frZAYslgMipB"
   },
   "outputs": [],
   "source": [
    "optimizer=AdamW(model.parameters(),lr=2e-5,eps=1e-8)"
   ]
  },
  {
   "cell_type": "code",
   "execution_count": 0,
   "metadata": {
    "colab": {},
    "colab_type": "code",
    "id": "au4tTkrfMipE"
   },
   "outputs": [],
   "source": [
    "data = pd.DataFrame()\n",
    "data['predicted']=['X']\n",
    "data['true']=['X']\n",
    "data.to_csv('/content/drive/My Drive/EnglishData/SUBTASKC1/2/OLIDSUBTASKCBERT.csv') \n"
   ]
  },
  {
   "cell_type": "code",
   "execution_count": 0,
   "metadata": {
    "colab": {},
    "colab_type": "code",
    "id": "RwqSDP2KL71z"
   },
   "outputs": [],
   "source": [
    "MAXLENGTH=64"
   ]
  },
  {
   "cell_type": "code",
   "execution_count": 0,
   "metadata": {
    "colab": {
     "base_uri": "https://localhost:8080/",
     "height": 34
    },
    "colab_type": "code",
    "id": "BTurXRofNATj",
    "outputId": "2bd4ff31-dbde-460c-91dd-f2c239be9b82"
   },
   "outputs": [
    {
     "data": {
      "text/plain": [
       "'\\nz=0;\\nfor batch_idx, data in enumerate(tdataloader): \\n  if z==100:\\n    break;\\n  z=z+1;'"
      ]
     },
     "execution_count": 34,
     "metadata": {
      "tags": []
     },
     "output_type": "execute_result"
    }
   ],
   "source": [
    "class EnglishTrainDataset(Dataset):\n",
    "    def __init__(self,xytrain):\n",
    "        self.xytrain = xytrain\n",
    "        self.maxlength=MAXLENGTH\n",
    "       \n",
    "    def __getitem__(self, index):\n",
    "        tokenized_review = tokenizer.tokenize(str(self.xytrain[0][index].flatten()))\n",
    "        if len(tokenized_review) > self.maxlength:\n",
    "            #print(tokenized_review)\n",
    "            tokenized_review = tokenized_review[:self.maxlength]\n",
    "        \n",
    "        \n",
    "        ids_of_sentence_word  = tokenizer.convert_tokens_to_ids(tokenized_review)\n",
    "        padding = [0] * (self.maxlength - len(ids_of_sentence_word))\n",
    "        ids_of_sentence_word += padding\n",
    "        assert len(ids_of_sentence_word) == self.maxlength\n",
    "        #print(ids_of_sentence_word)\n",
    "        attention_mask = [int(b > 0) for b in ids_of_sentence_word] \n",
    "        x_train_pytorch = torch.tensor(ids_of_sentence_word)\n",
    "        y_train_pytorch=torch.tensor(self.xytrain[1][index])\n",
    "        x_train_mask_pytorch=torch.tensor(attention_mask)\n",
    "        \n",
    "        return x_train_pytorch,x_train_mask_pytorch,y_train_pytorch\n",
    "        #return [1,2,3]\n",
    "        \n",
    "    def __len__(self):\n",
    "        return len(self.xytrain[0])\n",
    " "
   ]
  },
  {
   "cell_type": "code",
   "execution_count": 0,
   "metadata": {
    "colab": {},
    "colab_type": "code",
    "id": "U47_yavmOa7S"
   },
   "outputs": [],
   "source": [
    "class EnglishTestDataset(Dataset):\n",
    "    def __init__(self,xytest):\n",
    "        self.xytest = xytest\n",
    "        self.maxlength=MAXLENGTH\n",
    "       \n",
    "    def __getitem__(self, index):\n",
    "        tokenized_review = tokenizer.tokenize(str(self.xytest[0][index].flatten()))\n",
    "        if len(tokenized_review) > self.maxlength:\n",
    "            #print(tokenized_review)\n",
    "            tokenized_review = tokenized_review[:self.maxlength]\n",
    "        \n",
    "        \n",
    "        ids_of_sentence_word  = tokenizer.convert_tokens_to_ids(tokenized_review)\n",
    "        padding = [0] * (self.maxlength - len(ids_of_sentence_word))\n",
    "        ids_of_sentence_word += padding\n",
    "        assert len(ids_of_sentence_word) == self.maxlength\n",
    "        #print(ids_of_sentence_word)\n",
    "        attention_mask = [int(b > 0) for b in ids_of_sentence_word] \n",
    "        x_test_pytorch = torch.tensor(ids_of_sentence_word)\n",
    "        y_test_pytorch=torch.tensor(self.xytest[1][index])\n",
    "        x_test_mask_pytorch=torch.tensor(attention_mask)\n",
    "        \n",
    "        return x_test_pytorch,x_test_mask_pytorch,y_test_pytorch\n",
    "        #return [1,2,3]\n",
    "        \n",
    "    def __len__(self):\n",
    "        return len(self.xytest[0])\n",
    "\n"
   ]
  },
  {
   "cell_type": "code",
   "execution_count": 0,
   "metadata": {
    "colab": {},
    "colab_type": "code",
    "id": "VObEL94h-bU8"
   },
   "outputs": [],
   "source": [
    "MAXLENGTH=64\n",
    "xytrain=[x_train,yTrain]\n",
    "tokenizer=bertTokenizer.from_pretrained('bert-base-uncased',do_lower_case=True)\n",
    "tdataset = EnglishTrainDataset(xytrain)\n",
    "tsampler=RandomSampler(tdataset)\n",
    "tdataloader = DataLoader(tdataset, batch_size=32, num_workers=1, shuffle=False,sampler=tsampler)"
   ]
  },
  {
   "cell_type": "code",
   "execution_count": 0,
   "metadata": {
    "colab": {},
    "colab_type": "code",
    "id": "udjp1U9q9xaI"
   },
   "outputs": [],
   "source": [
    "xytest=[x_test,yTest]\n",
    "tokenizer=bertTokenizer.from_pretrained('bert-base-uncased',do_lower_case=True)\n",
    "tedataset = EnglishTestDataset(xytest) \n",
    "tesampler=RandomSampler(tedataset)\n",
    "tedataloader = DataLoader(tedataset, batch_size=32, num_workers=1, shuffle=False,sampler=tesampler)"
   ]
  },
  {
   "cell_type": "code",
   "execution_count": 0,
   "metadata": {
    "colab": {
     "base_uri": "https://localhost:8080/",
     "height": 34
    },
    "colab_type": "code",
    "id": "q_DY3ZT4j8z6",
    "outputId": "f183d7a2-85f3-4f7b-9c5f-7ed5758483d2"
   },
   "outputs": [
    {
     "data": {
      "text/plain": [
       "188973"
      ]
     },
     "execution_count": 38,
     "metadata": {
      "tags": []
     },
     "output_type": "execute_result"
    }
   ],
   "source": [
    "len(xytrain[0])"
   ]
  },
  {
   "cell_type": "code",
   "execution_count": null,
   "metadata": {
    "colab": {
     "base_uri": "https://localhost:8080/",
     "height": 214
    },
    "colab_type": "code",
    "id": "0rPrZ3_M-LZx",
    "outputId": "c2094ef6-fa1e-4c22-8667-b5f31d6343f0"
   },
   "outputs": [],
   "source": [
    "epochs=4\n",
    "total_steps=len(tdataloader)*epochs\n",
    "sch=get_linear_schedule_with_warmup(optimizer,\n",
    "                                    num_warmup_steps=0,num_training_steps=total_steps)"
   ]
  },
  {
   "cell_type": "markdown",
   "metadata": {},
   "source": [
    "## Training Code Below"
   ]
  },
  {
   "cell_type": "code",
   "execution_count": null,
   "metadata": {
    "colab": {
     "base_uri": "https://localhost:8080/",
     "height": 1000
    },
    "colab_type": "code",
    "id": "cqmnbPGdMipR",
    "outputId": "c1aa4ea6-4e4b-4afe-e764-d99b1739296c"
   },
   "outputs": [],
   "source": [
    "import random\n",
    "import time \n",
    "\n",
    "def set_seed(seed,ngpu):\n",
    "  random.seed(seed)\n",
    "  np.random.seed(seed)\n",
    "  torch.manual_seed(seed)\n",
    "  if ngpu > 0:\n",
    "        torch.cuda.manual_seed_all(seed)\n",
    "      \n",
    "set_seed(42,torch.cuda.device_count())\n",
    "#remove later\n",
    "keeptrack=0\n",
    "epochs=4\n",
    "lossList=[]\n",
    "max_grad_norm=1.0\n",
    "for e in range(0, epochs):\n",
    "    \n",
    "    print(\"Start Epoch Number\",(e + 1))\n",
    "    print(\"Start Training\")\n",
    "    if device.type==\"cpu\":\n",
    "     model.to(device)\n",
    "     map_location='cpu'\n",
    "    else:\n",
    "      model.cuda()\n",
    "      map_location=lambda storage, loc: storage.cuda()\n",
    "    checkpoint = torch.load('/content/drive/My Drive/EnglishData/BERTNEWsubtaskc.pth.tar',map_location=map_location)\n",
    "    model.load_state_dict(checkpoint['state_dict'])\n",
    "\n",
    "    #Amount of time taken for training\n",
    "    t1 = time.time()\n",
    "    tr_loss, logging_loss = 0.0, 0.0\n",
    "    model.train()\n",
    "    tsteps=0\n",
    "    for step, batch in enumerate(tdataloader):\n",
    "        if step % 50 == 0 and not step == 0:\n",
    "            print(\"Batch Completed  {:,}  of  {:,}.    Elapsed time is  {}\".format(step, len(tdataloader),time.time() - t1))\n",
    "        batch = tuple(t.to(device) for t in batch)\n",
    "        inputs = {\"input_ids\": batch[0], \"attention_mask\": batch[1], \"labels\": batch[2]}\n",
    "        model.zero_grad()\n",
    "\n",
    "        outputs = model(inputs[\"input_ids\"],token_type_ids=None,attention_mask=inputs[\"attention_mask\"], labels=inputs[\"labels\"])\n",
    "        loss = outputs[0]\n",
    "        loss.backward()\n",
    "        tr_loss += loss.item()\n",
    "        torch.nn.utils.clip_grad_norm_(model.parameters(), max_grad_norm)\n",
    "        tsteps+=1\n",
    "        optimizer.step()\n",
    "        sch.step()\n",
    "    a_tr_loss = tr_loss /(tsteps)               \n",
    "    lossList.append(a_tr_loss)\n",
    "    print(\" The training loss incured is  {0:.3f}\".format(a_tr_loss))\n",
    "    t2=time.time()\n",
    "    print(\"  Training one epoch time taken\",t2-t1)\n",
    "    print(\" Validation starts here \")\n",
    "    t1 = time.time()\n",
    "    model.eval()\n",
    "    eval_loss = 0\n",
    "    nb_eval_steps = 0\n",
    "    eval_f1=0\n",
    "    eval_acc=0\n",
    "    \n",
    "    for batch_idx, data in enumerate(tedataloader):\n",
    "        \n",
    "        batch = tuple(t.to(device) for t in data)            \n",
    "        inputs = {\"input_ids\": batch[0], \"attention_mask\": batch[1], \"labels\": batch[2]}\n",
    "        with torch.no_grad():        \n",
    "           outputs = model(inputs[\"input_ids\"],token_type_ids=None,attention_mask=inputs[\"attention_mask\"])\n",
    "        logits = outputs[0]\n",
    "        print(keeptrack)\n",
    "        keeptrack+=32\n",
    "        logits = logits.detach().cpu().numpy()\n",
    "        label_ids = (inputs[\"labels\"]).to('cpu').numpy()\n",
    "        tmpf1score,tmpaccscore = calculateF1Score(logits, label_ids)\n",
    "        eval_f1 = eval_f1+tmpf1score\n",
    "        eval_acc=eval_acc+tmpaccscore\n",
    "        nb_eval_steps += 1\n",
    "        #print(\" TEMP F1 score: {0:.3f}\".format(tmpf1score))\n",
    "        #print(\"TEMP  Accuracy score: {0:.3f}\".format(tmpaccscore))\n",
    "    torch.save({'state_dict': model.state_dict()}, '/content/drive/My Drive/EnglishData/BERTNEWsubtaskc.pth.tar')\n",
    "    print(\"  F1 score: {0:.3f}\".format(eval_f1/nb_eval_steps))\n",
    "    print(\"  Accuracy score: {0:.3f}\".format(eval_acc/nb_eval_steps))\n",
    "    t2=time.time()\n",
    "    print(\"  Validating one epoch time taken \",t2-t1)\n",
    "      \n",
    "print(\"ALL DONE!!!\")"
   ]
  },
  {
   "cell_type": "markdown",
   "metadata": {},
   "source": [
    "## If model already present use below "
   ]
  },
  {
   "cell_type": "code",
   "execution_count": null,
   "metadata": {},
   "outputs": [],
   "source": [
    "#OLID Datasets"
   ]
  },
  {
   "cell_type": "code",
   "execution_count": 0,
   "metadata": {
    "colab": {},
    "colab_type": "code",
    "id": "xSdEEzMJMipH"
   },
   "outputs": [],
   "source": [
    "##F1 score calculate and store\n",
    "from sklearn.metrics import f1_score\n",
    "from sklearn.metrics import accuracy_score\n",
    "\n",
    "def calculateF1Score(predictions,labels):\n",
    "  #rowwise return the index of the max element ie 0 or 1 depending on the maximum value returned\n",
    "  predictionArgmax=np.argmax(predictions,axis=1).flatten()\n",
    "  labelsFlattend=labels.flatten()\n",
    "  print(\"Predictions Argmax\",predictionArgmax)\n",
    "  print(\"labels Flattened\",labelsFlattend)\n",
    "  data=pd.read_csv('/content/drive/My Drive/EnglishData/SUBTASKC1/2/OLIDSUBTASKCBERT.csv')#,converters={'predicted': eval,'true': eval})\n",
    "  ypred=data['predicted'].to_numpy().tolist()\n",
    "  for t in predictionArgmax:\n",
    "    ypred.append(t)\n",
    "\n",
    "  print(len(ypred))\n",
    "  ytrue=data['true'].to_numpy().tolist()\n",
    "  for t in labelsFlattend:\n",
    "    ytrue.append(t)\n",
    "  data = pd.DataFrame()\n",
    "  data['predicted']=ypred\n",
    "  data['true']=ytrue\n",
    "  data.to_csv('/content/drive/My Drive/EnglishData/SUBTASKC1/2/OLIDSUBTASKCBERT.csv') \n",
    "\n",
    "  return f1_score(labelsFlattend, predictionArgmax, average='macro'),accuracy_score(labelsFlattend, predictionArgmax)\n",
    "\n"
   ]
  },
  {
   "cell_type": "code",
   "execution_count": 0,
   "metadata": {
    "colab": {
     "base_uri": "https://localhost:8080/",
     "height": 1000
    },
    "colab_type": "code",
    "id": "sEdMU6iS9upN",
    "outputId": "68a83874-a9cd-42a7-e9bc-2c61c929a4dc"
   },
   "outputs": [
    {
     "name": "stdout",
     "output_type": "stream",
     "text": [
      "Predictions Argmax [0 1 0 0 0 0 0 0 0 2 0 0 1 0 0 0 0 0 0 0 1 2 2 0 0 0 2 0 0 0 1 1]\n",
      "labels Flattened [0 0 1 0 0 1 0 0 0 0 0 0 0 0 0 0 0 0 0 0 0 1 0 0 0 0 0 0 2 0 0 0]\n",
      "33\n",
      "Predictions Argmax [0 1 0 0 0 0 0 0 0 0 1 0 0 0 0 2 1 1 1 0 1 1 2 0 1 1 0 0 0 1 0 1]\n",
      "labels Flattened [0 0 0 0 0 0 0 0 0 0 0 1 0 0 0 0 0 0 0 1 0 0 2 0 0 0 0 2 0 1 0 0]\n",
      "65\n",
      "Predictions Argmax [0 0 0 1 0 1 0 1 0 1 0 0 0 1 0 0 0 1 0 0 0 0 0 0 2 0 0 1 0 0 0 0]\n",
      "labels Flattened [1 0 2 0 1 2 0 0 1 0 0 1 0 0 0 0 0 0 0 0 0 0 0 0 0 0 0 0 0 1 0 0]\n",
      "97\n",
      "Predictions Argmax [0 1 0 0 1 0 0 0 0 1 0 2 1 0 1 2 2 0 0 0 1 0 0 0 1 0 0 0 0 0 0 1]\n",
      "labels Flattened [0 0 2 1 0 1 0 0 0 1 0 0 0 0 0 0 0 0 0 2 0 0 0 1 0 0 0 0 0 0 0 2]\n",
      "129\n",
      "Predictions Argmax [1 1 0 0 0 0 0 0 0 0 0 0 1 0 0 0 0 1 0 1 0 0 0 0 0 1 0 1 1 1 0 0]\n",
      "labels Flattened [1 0 0 0 0 0 2 0 0 0 0 0 0 1 0 0 0 0 0 0 1 0 0 0 0 0 1 2 0 0 0 0]\n",
      "161\n",
      "Predictions Argmax [0 0 2 0 1 2 1 0 0 1 2 1 0 0 0 1 1 0 2 2 1 0 0 1 0 0 0 1 0 0 0 1]\n",
      "labels Flattened [0 0 0 0 0 0 0 1 0 0 0 1 0 0 0 1 0 1 0 0 0 0 0 0 0 0 0 0 0 0 0 0]\n",
      "193\n",
      "Predictions Argmax [1 1 2 1 0 0 2 1 0 1 0 0 0 1 0 0 1 0 0 2 2 1 1 1 0 0 1 0 0 1 0 0]\n",
      "labels Flattened [0 0 0 0 0 0 0 0 0 0 0 0 0 0 0 0 0 1 0 0 0 0 1 1 1 0 0 0 0 0 1 0]\n",
      "225\n",
      "Predictions Argmax [0 0 1 2 1 1 2 2 0 0 0 1 0 1 0 0 1 1 2 0 1 1 0 1 1 0 1 2 2 0 1 0]\n",
      "labels Flattened [0 0 0 0 0 0 0 0 0 1 0 0 0 2 0 0 0 0 0 0 0 1 2 0 1 0 0 1 2 1 0 1]\n",
      "257\n",
      "Predictions Argmax [0 0 1 1 1 0 0 0 0 1 0 0 0 0 1 1 1 0 0 0 2 0 0 0 0 0 0 1 0 0 0 0]\n",
      "labels Flattened [0 1 0 0 0 0 0 0 0 0 0 0 0 0 0 0 0 0 0 0 0 2 0 0 0 2 0 2 0 0 0 0]\n",
      "289\n",
      "Predictions Argmax [0 1 0 1 0 0 0 0 0 0 0 0 0 1 1 1 0 0 0 0 2 2 1 0 0 0 0 1 0 0 0 1]\n",
      "labels Flattened [0 0 2 0 1 0 0 0 0 0 0 0 0 0 0 0 0 0 0 0 0 0 0 0 0 0 0 0 0 1 0 0]\n",
      "321\n",
      "Predictions Argmax [0 0 1 0 0 0 1 0 1 2 1 1 1 1 2 1 0 0 0 1 0 0 1 1 1 0 2 2 1 0 1 2]\n",
      "labels Flattened [1 0 0 0 0 0 0 0 0 0 2 0 0 0 0 0 0 0 0 0 0 0 0 1 0 1 2 0 0 1 0 1]\n",
      "353\n",
      "Predictions Argmax [0 0 0 2 0 1 0 0 2 0 1 0 0 1 0 0 0 0 0 0 0 0 0 0 0 1 1 2 0 0 0 0]\n",
      "labels Flattened [0 0 0 0 0 0 0 0 0 0 0 0 0 0 0 1 0 0 0 0 0 1 1 0 0 0 0 0 0 0 0 0]\n",
      "385\n",
      "Predictions Argmax [1 2 1 0 0 1 1 0 0 1 0 0 2 0 1 1 0 0 1 1 2 1 2 0 0 2 0 0 0 2 0 0]\n",
      "labels Flattened [0 0 0 1 0 0 0 0 1 0 0 0 1 0 0 0 0 0 1 2 0 2 1 0 0 1 1 0 2 0 2 2]\n",
      "417\n",
      "Predictions Argmax [0 0 0 0 1 0 1 1 0 1 0 0 1 0 0 0 1 0 1 1 0 0 0 1 1 0 0 1 0 1 1 0]\n",
      "labels Flattened [1 0 0 2 0 0 0 0 0 0 0 1 0 0 0 2 0 1 0 0 0 0 0 0 0 0 0 0 0 0 0 0]\n",
      "449\n",
      "Predictions Argmax [2 1 0 1 0 1 0 0 0 1 1 0 2 0 1 1 1 0 1 1 2 2 1 1 0 0 1 0 0 2 0 1]\n",
      "labels Flattened [0 0 2 0 0 0 0 1 0 2 1 0 0 0 0 0 0 0 0 0 0 0 0 0 0 0 0 0 0 0 0 0]\n",
      "481\n",
      "Predictions Argmax [1 0 0 0 0 0 2 1 0 1 0 1 1 1 0 1 0 0 0 1 1 0 0 0 1 0 1 0 0 1 0 0]\n",
      "labels Flattened [0 0 0 1 1 0 1 0 0 0 0 0 0 0 0 0 0 0 0 0 0 0 0 0 0 0 0 0 0 0 0 0]\n",
      "513\n",
      "Predictions Argmax [2 1 0 0 0 0 1 0 0 0 1 0 1 0 1 0 1 0 0 0 1 1 1 0 0 0 0 0 0 0 0 0]\n",
      "labels Flattened [1 0 0 1 0 0 0 0 0 0 2 0 0 0 0 0 0 0 1 0 0 0 0 0 0 1 0 1 0 0 0 0]\n",
      "545\n",
      "Predictions Argmax [1 2 0 0 0 1 1 2 1 1 0 0 0 0 0 1 1 0 0 1 1 1 2 0 0 0 0 0 0 0 0 0]\n",
      "labels Flattened [0 0 1 0 0 0 0 0 1 0 0 0 0 1 0 0 0 0 0 0 0 0 0 0 0 0 0 0 0 0 1 0]\n",
      "577\n",
      "Predictions Argmax [2 1 0 0 0 1 1 1 0 0 0 0 0 1 1 0 0 0 0 1 0 1 0 0 1 1 0 0 0 0 1 0]\n",
      "labels Flattened [0 0 2 0 0 0 0 0 2 0 0 2 0 0 0 0 0 0 0 0 0 0 0 0 1 0 2 0 0 0 0 1]\n",
      "609\n",
      "Predictions Argmax [0 0 0 2 0 1 1 1 0 0 0 1 0 0 0 1 1 0 1 1 0 0 1 0 1 1 1 1 1 1 0 1]\n",
      "labels Flattened [0 2 0 0 0 0 0 0 0 0 0 0 0 0 0 2 0 0 1 0 0 0 1 0 0 0 0 1 0 0 0 0]\n",
      "641\n",
      "Predictions Argmax [0 0 1 1 0 0 2 0 1 0 1 0 1 2 1 0 0 1 0 0 0 0 0 0 2 0 0 0 0 0 0 1]\n",
      "labels Flattened [0 0 0 0 0 0 0 0 2 0 0 1 0 0 0 0 0 1 0 0 0 0 1 0 0 2 0 0 2 0 0 0]\n",
      "673\n",
      "Predictions Argmax [0 0 1 0 1 0 2 1 1 0 0 2 0 2 1 0 1 1 0 0 0 0 0 0 1 0 0 0 0 0 0 0]\n",
      "labels Flattened [0 0 0 0 0 0 0 2 0 0 1 0 0 0 0 0 0 0 0 0 0 0 0 0 0 0 0 0 0 0 2 2]\n",
      "705\n",
      "Predictions Argmax [0 0 0 2 0 1 0 0 0 0 0 0 1 1 0 1 1 0 0 1 0 0 0 1 1 1 0 0 0 0 0 1]\n",
      "labels Flattened [0 0 2 0 0 0 0 0 0 0 0 0 0 0 0 0 0 0 0 0 0 0 0 0 0 2 1 0 0 0 0 2]\n",
      "737\n",
      "Predictions Argmax [1 0 0 0 0 0 1 0 0 0 1 0 0 0 1 1 0 0 1 0 0 0 1 1 0 0 0 1 0 0 0 1]\n",
      "labels Flattened [1 0 0 2 1 0 0 0 0 0 2 0 0 0 0 0 0 1 0 1 0 0 0 0 1 1 0 0 2 0 0 0]\n",
      "769\n",
      "Predictions Argmax [1 0 1 0 2 1 2 0 0 1 1 0 0 2 0 0 0 1 0 2 0 0 0 0 0 1 1 1 0 2 0 0]\n",
      "labels Flattened [0 0 0 0 0 1 0 0 0 0 0 0 0 0 0 0 0 0 0 0 1 0 2 0 0 0 0 1 0 0 0 0]\n",
      "801\n",
      "Predictions Argmax [0 0 0 0 0 1 0 1 0 0 0 0 0 0 0 1 0 0 1 1 0 1 0 0 1 2 0 1 2 1 1 1]\n",
      "labels Flattened [1 0 0 0 2 0 1 0 0 0 2 0 0 1 0 0 0 0 0 0 0 0 1 1 0 0 0 0 1 0 0 0]\n",
      "833\n",
      "Predictions Argmax [1 0 2 1 0 0 0 1 1 0 1 0 0 0 1 0 0 1 2 0 0 1 0 2 1 0 1 0 2 1 0 0]\n",
      "labels Flattened [0 0 2 0 0 1 0 1 0 0 0 0 2 2 0 1 0 2 0 0 0 1 0 0 0 2 0 1 0 0 0 0]\n",
      "865\n",
      "Predictions Argmax [0 0 0 0 0 0 0 1 1 1 0 0 0 0 1 0 2 1 0 0 0 1 0 0 1 1 0 1 2 1 0 0]\n",
      "labels Flattened [0 1 0 0 0 0 1 0 0 0 0 0 0 0 0 0 0 1 0 0 0 0 0 0 0 0 0 1 0 0 0 0]\n",
      "897\n",
      "Predictions Argmax [0 0 2 0 0 0 0 2 0 0 1 1 0 0 2 0 0 0 0 1 2 2 1 1 0 0 0 0 2 0 0 1]\n",
      "labels Flattened [0 0 0 0 0 0 0 1 0 0 1 0 0 0 0 0 0 0 1 0 1 0 0 0 1 0 0 1 0 1 0 0]\n",
      "929\n",
      "Predictions Argmax [0 0 0 0 1 0 1 2 0 0 1 0 2 0 1 0 0 2 1 0 0 1 0 1 0 0 0 0 0 1 0 0]\n",
      "labels Flattened [2 0 0 0 0 0 0 0 1 0 0 0 1 0 0 0 0 1 0 0 1 0 0 1 2 0 0 0 0 1 0 0]\n",
      "961\n",
      "Predictions Argmax [0 0 2 0 0 0 1 1 0 0 1 0 0 0 0 0 0 0 1 0 0 1 0 2 0 1 0 0 0 0 0 0]\n",
      "labels Flattened [0 0 0 0 0 0 0 0 0 1 0 1 0 1 0 1 0 0 0 1 0 0 0 1 0 0 0 0 0 0 1 0]\n",
      "993\n",
      "Predictions Argmax [0 1 0 1 0 0 0 0 1 0 0 2 0 0 2 1 1 0 0 0 0 0 0 0 0 0 0 1 1 0 1 1]\n",
      "labels Flattened [0 0 0 0 0 0 0 1 1 0 0 0 0 0 2 0 0 0 0 0 0 0 0 1 0 0 0 0 1 0 1 0]\n",
      "1025\n",
      "Predictions Argmax [0 0 1 0 0 2 2 0 1 1 1 2 0 0 0 0 0 0 0 2 0 2 1 0 0 0 0 1 1 1 0 1]\n",
      "labels Flattened [0 0 0 1 0 2 0 0 2 1 0 0 0 0 0 0 0 0 2 0 0 0 0 0 0 0 0 2 0 0 0 0]\n",
      "1057\n",
      "Predictions Argmax [1 2 0 0 1 1 0 0 0 0 0 0 0 0 1 1 0 0 1 0 0 2 1 2 0 0 0 1 2 0 0 0]\n",
      "labels Flattened [2 1 1 2 0 0 0 0 0 0 0 0 0 1 2 2 0 0 0 0 0 0 0 0 0 0 0 1 0 0 0 0]\n",
      "1089\n",
      "Predictions Argmax [1 0 0 1 1 0 0 1 1 0 0 1 0 0 1 0 0 0 0 0 0 1 0 0 0 0 1 0 1 0 0 0]\n",
      "labels Flattened [1 1 0 0 0 0 0 0 1 0 0 0 0 0 0 0 0 0 1 0 0 0 0 0 1 0 0 0 0 0 0 0]\n",
      "1121\n",
      "Predictions Argmax [0 1 0 2 0 0 0 0 0 0 1 1 1 0 0 0 1 0 0 0 0 0 2 2 0 0 2 0 0 0 1 0]\n",
      "labels Flattened [0 0 2 0 0 0 0 1 0 0 1 0 0 1 0 0 0 0 0 0 0 0 2 0 0 2 0 0 0 0 0 1]\n",
      "1153\n",
      "Predictions Argmax [2 1 2 0 1 0 0 1 1 2 0 1 0 1 2 0 0 0 0 0 0 0 0 1 0 1 0 0 0 0 0 1]\n",
      "labels Flattened [0 0 0 0 0 0 0 0 0 0 1 0 1 2 0 1 0 0 0 0 0 0 0 0 0 0 0 0 0 0 0 0]\n",
      "1185\n",
      "Predictions Argmax [0 0 0 0 0 0 1 0 0 0 0 0 1 1 1 0 1 0 0 0 0 0 0 0 1 1 1 1 0 0 0 1]\n",
      "labels Flattened [0 0 0 0 0 0 2 0 0 0 0 0 0 0 0 0 0 0 0 1 1 0 0 0 0 0 0 1 0 0 1 0]\n",
      "1217\n",
      "Predictions Argmax [1 0 0 1 0 0 0 1 0 0 1 0 1 0 0 0 1 0 1 0 0 1 1 0 1 0 1 0 1 0 1 0]\n",
      "labels Flattened [0 0 1 0 0 1 0 0 1 1 0 0 2 1 0 1 0 0 0 0 0 0 0 0 0 0 0 0 0 0 0 1]\n",
      "1249\n",
      "Predictions Argmax [1 1 0 0 0 0 0 0 2 0 1 1 0 0 2 0 1 0 1 0 0 0 0 0 1 0 0 0 1 0 0 0]\n",
      "labels Flattened [0 1 0 0 1 1 0 1 0 0 0 0 2 0 1 0 0 0 0 0 0 1 0 0 0 0 0 0 0 2 0 1]\n",
      "1281\n",
      "Predictions Argmax [1 0 1 2 0 1 0 0 1 1 2 0 1 0 1 0 0 0 0 1 0 1 1 0 0 0 2 2 1 2 1 2]\n",
      "labels Flattened [0 0 1 0 0 1 0 1 0 0 1 0 0 0 1 1 0 1 0 0 1 0 0 0 0 1 0 0 0 0 0 0]\n",
      "1313\n",
      "Predictions Argmax [1 0 0 0 0 1 1 0 0 0 0 0 0 2 0 0 1 0 0 0 1 0 0 0 2 0 2 0 0 1 1 1]\n",
      "labels Flattened [0 0 1 0 0 0 0 0 0 0 1 0 1 2 0 0 0 1 0 1 0 0 0 0 0 1 0 0 2 0 1 0]\n",
      "1345\n",
      "Predictions Argmax [2 0 0 1 1 1 0 1 1 1 1 1 0 0 1 0 1 1 0 0 0 0 1 0 1 0 0 0 0 2 0 2]\n",
      "labels Flattened [0 0 0 0 0 1 1 0 0 0 1 1 1 0 0 0 0 1 1 1 0 1 0 0 0 0 1 0 0 0 0 0]\n",
      "1377\n",
      "Predictions Argmax [0 0 0 0 1 1 0 0 0 0 0 0 0 1 2 0 1 0 1 0 2 0 1 0 1 0 0 1 0 0 1 1]\n",
      "labels Flattened [0 0 0 0 0 1 0 0 0 0 0 0 0 0 1 0 0 2 0 0 0 0 1 2 0 0 0 0 0 0 0 0]\n",
      "1409\n",
      "Predictions Argmax [0 0 0 0 0 0 0 0 0 1 0 1 0 0 0 0 1 0 0 0 0 1 0 1 0 0 0 0 0 1 0 0]\n",
      "labels Flattened [1 0 0 1 1 0 0 1 0 0 0 2 0 0 2 0 0 0 0 1 0 0 0 0 0 0 0 0 2 1 0 0]\n",
      "1441\n",
      "Predictions Argmax [1 0 1 0 0 0 0 1 1 0 0 0 0 0 1 0 0 0 1 0 0 0 0 2 0 0 2 1 1 0 1 0]\n",
      "labels Flattened [2 0 2 0 0 0 0 0 1 0 0 0 0 0 0 0 0 0 0 0 0 0 0 1 0 0 0 0 0 1 0 0]\n",
      "1473\n",
      "Predictions Argmax [0 0 1 0 0 0 2 0 0 1 1 1 0 1 0 0 0 2 0 1 1 0 0 0 0 0 1 0 0 2 0 1]\n",
      "labels Flattened [1 0 0 1 0 0 0 0 1 0 0 0 0 0 0 0 0 0 0 1 0 0 0 1 1 0 0 2 0 0 0 0]\n",
      "1505\n",
      "Predictions Argmax [1 0 0 2 0 0 0 0 1 2 1 0 2 0 0 0 0 0 0 0 0 0 0 1 0 1 0 0 1 0 0 1]\n",
      "labels Flattened [1 0 0 0 0 1 0 0 0 0 0 0 0 0 0 0 0 0 0 2 0 0 0 2 0 0 0 1 0 2 0 0]\n",
      "1537\n",
      "Predictions Argmax [0 0 1 0 1 2 1 2 1 0 0 0 0 1 1 1 0 1 0 0 1 1 0 0 0 0 0 1 0 0 0 0]\n",
      "labels Flattened [0 0 0 0 0 0 0 0 0 0 0 0 0 2 0 0 0 1 0 0 0 2 0 0 0 0 0 0 0 0 0 0]\n",
      "1569\n",
      "Predictions Argmax [0 0 1 1 1 0 1 1 0 1 2 1 0 0 0 0 0 1 1 0 0 1 0 0 0 0 0 1 2 1 0 0]\n",
      "labels Flattened [1 0 0 0 0 0 0 0 2 0 0 0 1 1 0 0 0 0 0 0 0 0 1 0 0 0 2 1 0 0 0 0]\n",
      "1601\n",
      "Predictions Argmax [1 1 1 0 1 1 0 1 0 1 0 0 0 0 0 0 0 2 0 0 1 1 0 0 1 0 0 0 0 0 0 0]\n",
      "labels Flattened [0 2 1 0 0 0 0 0 0 0 0 0 0 0 0 1 0 1 0 0 0 2 0 0 0 0 0 1 0 0 0 0]\n",
      "1633\n",
      "Predictions Argmax [0 0 2 0 0 0 0 0 0 0 0 0 1 0 1 1 1 2 0 0 1 2 1 1 0 2 1 1 0 0 0 0]\n",
      "labels Flattened [0 0 0 1 0 1 0 0 1 0 0 0 0 0 0 0 0 1 0 1 1 0 0 0 0 0 0 0 0 0 0 0]\n",
      "1665\n",
      "Predictions Argmax [0 0 0 0 0 0 0 0 0 0 1 1 1 0 0 1 0 0 0 0 0 1 1 0 0 0 1 0 1 1 1 0]\n",
      "labels Flattened [2 1 1 0 0 0 1 1 0 0 0 0 0 0 1 0 0 0 1 0 0 0 0 1 0 0 0 1 0 0 0 0]\n",
      "1697\n",
      "Predictions Argmax [0 1 1 0 0 1 0 1 0 0 0 1 1 0 0 0 1 0 1 1 1 1 1 1 1 0 0 1 1 0 0 0]\n",
      "labels Flattened [0 0 0 1 2 1 0 2 0 0 0 0 0 0 0 2 0 0 2 0 0 0 0 0 0 0 0 1 0 0 0 0]\n",
      "1729\n",
      "Predictions Argmax [2 0 1 2 0 0 0 0 0 1 0 1 0 0 1 1 2 0 1 1 1 2 0 1 1 0 0 0 2 0 0 0]\n",
      "labels Flattened [0 0 0 0 0 1 0 0 0 0 1 0 1 0 2 1 0 0 0 0 0 0 0 0 0 2 0 0 0 0 1 0]\n",
      "1761\n",
      "Predictions Argmax [0 0 1 1 0 0 0 0 1 1 0 0 1 0 0 0 0 0 0 1 0 1 0 1 0 1 1 1 1 1 0 0]\n",
      "labels Flattened [0 0 0 0 2 0 0 0 0 0 0 0 1 2 1 0 0 0 0 0 0 0 0 0 0 0 0 0 1 0 0 0]\n",
      "1793\n",
      "Predictions Argmax [0 0 0 0 2 0 0 1 0 0 0 0 0 0 2 1 0 0 1 0 0 2 2 1 0 0 1 0 1 0 0 1]\n",
      "labels Flattened [0 0 1 1 0 0 0 0 0 1 0 1 1 1 1 0 0 0 0 1 0 0 0 0 0 0 0 0 2 0 0 1]\n",
      "1825\n",
      "Predictions Argmax [2 0 1 0 1 0 0 0 0 1 0 1 1 0 1 0 0 1 0 0 0 0 0 1 0 1 0 1 0 1 0 1]\n",
      "labels Flattened [0 1 0 0 0 0 0 0 0 0 0 0 0 0 0 0 0 0 0 0 0 0 1 0 0 0 0 1 0 0 0 0]\n",
      "1857\n",
      "Predictions Argmax [2 0 1 0 2 0 0 1 1 0 0 0 2 0 0 0 0 1 0 1 1 0 0 0 0 0 0 0 0 0 1 1]\n",
      "labels Flattened [0 0 0 0 0 0 0 0 0 2 1 0 2 2 0 0 0 0 0 1 0 0 0 0 1 0 0 0 0 0 0 0]\n",
      "1889\n",
      "Predictions Argmax [0 1 1 0 1 0 0 1 1 0 0 1 0 0 1 0 2 0 1 0 1 0 1 2 0 1 2 0 0 1 1 0]\n",
      "labels Flattened [0 0 0 0 0 0 1 0 0 0 0 0 0 0 0 0 0 0 0 1 0 1 2 0 0 0 2 1 2 0 0 0]\n",
      "1921\n",
      "Predictions Argmax [1 0 0 0 0 0 0 0 0 1 0 0 1 0 0 1 0 0 1 1 0 0 2 2 0 1 1 2 1 2 0 0]\n",
      "labels Flattened [0 0 0 0 0 0 1 0 0 0 0 0 2 0 0 1 0 0 0 0 1 0 1 0 2 0 0 2 2 1 2 0]\n",
      "1953\n",
      "Predictions Argmax [0 1 1 0 0 0 0 0 0 0 2 0 0 0 0 0 1 1 0 0 1 1 0 1 0 1 0 1 0 1 2 0]\n",
      "labels Flattened [0 0 0 0 0 0 0 0 2 0 0 0 0 0 0 0 0 0 0 0 0 1 0 0 0 0 0 1 2 0 0 0]\n",
      "1985\n",
      "Predictions Argmax [0 0 0 0 0 2 0 1 0 2 0 1 0 1 1 0 1 1 1 1 1 1 1 1 1 0 2 0 0 2 0 1]\n",
      "labels Flattened [1 0 0 0 0 1 0 0 0 1 0 0 1 0 0 0 0 1 0 1 0 0 0 0 0 0 0 0 0 2 0 0]\n",
      "2017\n",
      "Predictions Argmax [0 0 0 1 0 1 0 0 1 0 1 0 0 0 0 0 0 2 1 0 0 0 1 0 1 1 0 1 0 0 1 0]\n",
      "labels Flattened [0 0 1 0 0 0 0 0 1 0 0 0 0 0 0 0 0 0 1 0 0 0 0 2 0 0 1 1 0 0 0 1]\n",
      "2049\n",
      "Predictions Argmax [0 1 1 0 0 0 0 0 1 1 0 2 0 1 0 0 1 0 0 0 0 1 1 0 1 0 1 0 0 0 0 0]\n",
      "labels Flattened [0 0 0 0 0 0 0 2 0 2 0 0 0 0 0 2 1 0 0 0 1 0 0 0 0 0 0 0 0 0 2 1]\n",
      "2081\n",
      "Predictions Argmax [1 0 0 0 0 0 0 0 1 0 1 1 0 0 0 0 0 0 0 0 1 0 1 0 0 1 0 2 1 0 0 0]\n",
      "labels Flattened [0 0 0 0 0 0 0 0 0 0 1 0 0 0 1 2 0 1 0 1 0 0 0 1 0 1 0 0 0 0 2 0]\n",
      "2113\n",
      "Predictions Argmax [0 0 0 0 1 0 1 1 2 1 0 0 1 0 0 0 2 0 0 1 0 0 0 0 0 0 1 1 0 1 1 0]\n",
      "labels Flattened [0 0 1 0 0 0 1 0 0 1 0 0 0 0 2 0 0 0 0 0 0 0 0 0 0 0 0 0 0 0 0 0]\n",
      "2145\n",
      "Predictions Argmax [0 1 1 0 0 0 0 0 0 1 0 0 2 1 2 1 0 1 0 0 0 0 1 0 2 1 0 1 0 1 0 1]\n",
      "labels Flattened [0 0 0 0 0 0 0 0 0 0 0 2 1 0 0 0 0 0 0 0 0 0 0 0 0 2 0 0 0 2 0 0]\n",
      "2177\n",
      "Predictions Argmax [0 1 0 0 2 1 0 1 0 1 0 0 0 0 1 0 0 0 1 1 1 1 0 1 0 0 0 2 1 0 0 1]\n",
      "labels Flattened [1 0 0 0 0 0 1 0 0 0 0 2 0 0 0 0 0 0 0 0 2 0 0 2 2 0 0 1 1 0 0 0]\n",
      "2209\n",
      "Predictions Argmax [0 0 1 1 0 0 0 0 0 0 0 0 0 2 0 0 0 1 1 0 1 1 1 0 0 0 0 0 2 0 0 0]\n",
      "labels Flattened [0 0 0 0 0 0 0 0 0 0 0 0 0 0 0 0 0 0 1 0 0 0 1 0 0 0 1 0 0 0 1 0]\n",
      "2241\n",
      "Predictions Argmax [1 0 0 0 0 0 1 0 1 1 2 0 0 0 0 0 1 1 0 1 0 0 0 1 0 0 0 2 0 1 0 1]\n",
      "labels Flattened [0 0 0 0 0 0 0 0 0 0 0 0 1 0 1 0 0 0 0 2 0 0 1 0 2 0 0 0 0 0 0 1]\n",
      "2273\n",
      "Predictions Argmax [1 1 1 0 0 0 0 1 0 0 0 0 1 0 0 0 1 1 0 1 1 2 1 0 0 0 0 0 0 0 0 0]\n",
      "labels Flattened [0 0 1 0 0 0 0 0 0 0 0 0 0 1 0 0 0 0 0 1 0 1 0 0 0 0 0 0 0 0 0 0]\n",
      "2305\n",
      "Predictions Argmax [0 1 1 0 1 0 0 0 1 1 0 0 1 0 0 0 0 1 0 0 0 0 0 1 1 2 0 1 0 2 1 1]\n",
      "labels Flattened [2 1 0 0 0 0 0 0 0 0 2 0 1 0 0 0 0 0 0 0 1 0 0 1 0 0 0 0 0 2 0 0]\n",
      "2337\n",
      "Predictions Argmax [0 1 1 2 0 0 0 0 1 2 0 0 1 0 0 0 1 1 0 1 0 0 1 1 0 0 1 2 1 0 2 1]\n",
      "labels Flattened [0 0 0 0 0 0 0 0 1 0 0 0 0 0 0 0 0 0 2 0 0 0 0 1 1 1 0 0 0 0 1 0]\n",
      "2369\n",
      "Predictions Argmax [0 0 0 0 0 0 0 2 0 1 0 0 0 1 2 0 0 0 0 0 0 1 0 0 0 1 0 0 2 1 1 0]\n",
      "labels Flattened [1 1 0 0 0 2 2 1 0 0 0 0 0 0 0 0 0 0 0 0 0 1 1 2 0 1 0 0 0 1 0 0]\n",
      "2401\n",
      "Predictions Argmax [1 0 1 0 1 1 1 0 0 1 1 1 0 0 0 0 0 0 0 1 0 0 0 0 1 2 0 0 0 0 0 1]\n",
      "labels Flattened [1 0 0 0 0 0 1 1 0 0 2 0 0 0 1 0 0 0 0 0 0 0 0 0 0 0 0 1 1 0 0 0]\n",
      "2433\n",
      "Predictions Argmax [0 1 1 2 1 1 0 1 0 1 0 1 1 0 0 1 0 0 1 1 0 0 1 0 0 0 0 1 1 2 0 0]\n",
      "labels Flattened [0 0 0 0 2 0 0 0 0 0 0 0 0 2 0 0 0 0 0 0 0 0 0 0 0 0 1 1 2 0 0 0]\n",
      "2465\n",
      "Predictions Argmax [0 0 1 0 1 0 2 0 0 0 0 0 0 0 0 0 1 1 1 0 0 2 0 0 1 1 0 0 1 0 1 0]\n",
      "labels Flattened [0 0 0 1 0 0 2 0 0 0 0 0 1 0 0 0 0 0 1 0 0 2 0 0 0 0 0 1 0 0 0 0]\n",
      "2497\n",
      "Predictions Argmax [0 1 1 1 0 1 1 1 0 1 0 0 0 1 0 1 1 0 0 0 1 0 1 1 0 0 0 0 2 1 0 1]\n",
      "labels Flattened [0 0 0 0 0 2 0 1 0 1 1 0 0 0 0 0 0 1 0 0 0 0 0 0 0 0 0 0 0 0 0 0]\n",
      "2529\n",
      "Predictions Argmax [1 1 0 0 0 0 1 2 0 0 1 1 0 0 0 2 0 0 0 0 0 2 0 0 1 1 2 1 0 0 1 0]\n",
      "labels Flattened [0 1 0 0 1 0 0 0 0 0 0 1 0 0 0 0 0 0 0 0 0 0 0 1 0 0 0 0 0 0 0 0]\n",
      "2561\n",
      "Predictions Argmax [1 0 1 2 2 0 0 1 1 0 1 1 0 1 0 0 1 0 1 0 0 1 0 1 1 2 0 0 1 0 0 2]\n",
      "labels Flattened [0 0 1 0 1 1 0 0 1 1 0 0 0 0 0 0 0 0 0 0 2 0 0 1 0 0 0 0 0 0 0 0]\n",
      "2593\n",
      "Predictions Argmax [0 0 1 0 0 1 1 0 1 0 2 1 0 1 1 0 1 0 1 0 1 1 1 0 1 0 1 0 0 2 0 1]\n",
      "labels Flattened [0 0 0 0 0 0 2 0 0 0 0 0 2 0 0 0 0 0 0 0 0 0 1 1 0 0 0 0 0 0 0 0]\n",
      "2625\n",
      "Predictions Argmax [1 0 0 0 1 0 0 0 0 2 1 0 2 0 1 0 0 2 0 0 1 1 1 0 0 2 1 1 0 1 0 1]\n",
      "labels Flattened [0 0 0 0 1 0 1 0 0 0 0 0 0 0 0 0 1 2 0 0 0 1 1 0 0 0 0 0 0 0 1 0]\n",
      "2657\n",
      "Predictions Argmax [1 0 0 0 0 0 0 1 0 0 1 0 0 1 1 2 0 0 0 1 0 1 2 1 0 1 0 0 0 1 0 1]\n",
      "labels Flattened [0 1 0 0 0 0 0 0 0 0 0 2 0 0 0 1 0 0 0 0 0 0 0 1 2 0 0 0 2 0 1 0]\n",
      "2689\n",
      "Predictions Argmax [0 0 0 0 0 0 0 1 0 1 2 0 1 2 1 0 0 2 0 0 0 2 0 0 0 0 0 0 0 0 0 1]\n",
      "labels Flattened [0 2 0 0 1 0 0 0 0 0 0 1 2 0 0 0 0 0 0 0 0 0 0 0 0 0 1 0 2 0 2 0]\n",
      "2721\n",
      "Predictions Argmax [1 0 0 1 0 0 0 0 0 0 0 0 0 0 0 1 0 0 2 1 1 0 0 1 1 0 1 1 2 1 1 2]\n",
      "labels Flattened [0 0 1 0 0 2 0 0 1 1 1 0 0 0 0 0 0 0 0 0 0 0 1 0 0 2 0 0 0 0 1 0]\n",
      "2753\n",
      "Predictions Argmax [1 1 0 1 0 0 0 0 0 0 0 1 2 2 1 2 0 0 1 0 1 1 1 1 0 1 0 1 0 0 1 1]\n",
      "labels Flattened [0 0 0 0 0 0 0 0 0 1 0 0 0 0 0 0 0 0 0 2 0 0 2 0 0 0 0 0 2 0 1 0]\n",
      "2785\n",
      "Predictions Argmax [0 1 2 0 1 2 2 1 0 0 0 1 0 0 0 1 0 0 1 0 0 1 0 0 0 0 1 0 2 0 2 1]\n",
      "labels Flattened [0 1 0 0 0 0 0 0 0 0 0 0 0 0 0 0 0 1 0 0 0 0 0 0 1 2 0 1 0 0 0 1]\n",
      "2817\n",
      "Predictions Argmax [1 0 0 0 1 2 0 0 0 1 0 2 2 0 1 0 0 1 0 0 2 1 0 1 0 0 0 1 1 0 0 1]\n",
      "labels Flattened [0 2 0 0 0 2 0 2 0 0 0 0 1 0 0 1 0 0 1 1 0 0 0 0 1 0 0 0 0 0 0 0]\n",
      "2849\n",
      "Predictions Argmax [0 1 1 0 1 0 0 0 1 1 0 2 0 1 2 0 1 0 0 1 1 0 0 0 2 1 2 2 2 1 1 1]\n",
      "labels Flattened [0 0 0 0 0 0 1 0 0 0 1 0 0 0 2 0 0 0 0 0 0 0 0 0 0 0 1 0 1 0 0 0]\n",
      "2881\n",
      "Predictions Argmax [0 1 0 0 0 0 1 0 2 0 0 2 2 0 0 1 0 1 1 0 0 1 1 0 0 0 0 1 0 0 0 0]\n",
      "labels Flattened [0 0 0 0 0 0 0 0 0 0 0 0 0 0 0 0 0 0 0 0 0 0 0 0 0 2 0 1 2 2 0 1]\n",
      "2913\n",
      "Predictions Argmax [0 0 0 1 0 0 0 0 1 1 2 1 2 2 0 2 0 0 0 0 0 2 0 1 1 0 0 2 1 0 1 0]\n",
      "labels Flattened [0 0 0 0 0 2 0 0 0 0 0 0 0 0 0 0 0 0 0 0 1 1 0 0 0 0 1 0 0 0 0 0]\n",
      "2945\n",
      "Predictions Argmax [0 0 1 1 0 2 0 1 0 0 0 0 1 0 0 1 1 2 1 2 0 0 2 0 1 0 2 0 1 0 0 1]\n",
      "labels Flattened [0 0 0 0 0 1 0 0 0 0 0 1 0 1 0 1 0 0 0 0 0 0 2 0 0 0 0 2 1 0 0 0]\n",
      "2977\n",
      "Predictions Argmax [2 0 1 1 1 0 0 1 0 0 0 0 1 1 2 1 0 1 2 0 2 1 0 0 0 1 1 0 0 0 0 0]\n",
      "labels Flattened [0 1 0 0 2 0 0 0 0 0 1 0 0 1 0 0 0 0 0 0 0 2 1 1 0 0 0 0 2 0 0 1]\n",
      "3009\n",
      "Predictions Argmax [1 0 0 1 1 2 0 0 0 0 1 1 0 0 0 1 1 0 2 0 1 1 1 2 0 0 2 2 1 2 1 0]\n",
      "labels Flattened [0 0 1 0 1 0 0 0 0 0 0 0 0 0 0 1 0 0 0 0 0 0 0 0 1 2 0 0 0 1 0 0]\n",
      "3041\n",
      "Predictions Argmax [1 1 0 2 1 0 0 0 0 2 0 1 0 2 1 1 0 1 0 2 0 0 1 1 1 0 1 0 0 1 1 2]\n",
      "labels Flattened [0 0 1 0 0 0 0 0 1 1 0 0 0 0 1 0 2 0 0 0 0 2 0 1 0 0 0 0 0 0 0 0]\n",
      "3073\n",
      "Predictions Argmax [0 0 1 0 0 1 1 0 1 1 0 0 1 0 1 0 1 0 1 0 1 0 1 0 0 1 0 0 0 0 1 0]\n",
      "labels Flattened [0 0 1 0 0 0 0 1 0 0 0 0 0 0 2 0 0 0 0 0 0 0 2 0 0 0 0 0 0 0 0 0]\n",
      "3105\n",
      "Predictions Argmax [0 2 1 0 1 1 1 0 0 1 0 0 2 0 0 2 0 0 0 0 1 1 0 1 0 0 2 0 0 0 0 1]\n",
      "labels Flattened [0 0 0 0 0 0 2 0 0 0 0 1 0 0 0 1 1 0 0 0 0 0 0 0 0 0 0 1 0 0 0 0]\n",
      "3137\n",
      "Predictions Argmax [1 1 0 0 0 0 0 0 0 0 0 0 1 2 1 0 0 0 0 0 1 0 0 1 0 1 1 0 1 0 0 1]\n",
      "labels Flattened [0 0 0 0 0 0 0 1 0 0 0 0 0 1 0 2 0 0 0 0 2 1 0 0 0 2 0 0 0 0 1 2]\n",
      "3169\n",
      "Predictions Argmax [0 1 2 1 1 0 1 2 0 0 1 0 0 1 0 0 2 1 1 0 2 0 0 0 0 0 1 0 0 1 0 1]\n",
      "labels Flattened [0 0 0 0 1 0 0 0 0 0 0 0 0 1 0 1 0 0 0 0 0 0 0 0 0 1 0 0 0 0 1 0]\n",
      "3201\n",
      "Predictions Argmax [0 0 1 0 1 0 0 1 0 1 1 1 0 0 0 0 0 0 0 0 0 0 2 0 1 0 1 0 1 0 0 0]\n",
      "labels Flattened [0 0 0 0 0 1 0 0 0 0 0 2 0 0 0 0 0 0 1 0 0 0 1 0 0 0 0 0 0 0 0 0]\n",
      "3233\n",
      "Predictions Argmax [0 0 1 1 2 0 1 1 1 1 0 2 1 0 1 0 0 2 1 0 0 1 0 0 0 0 1 1 1 2 0 1]\n",
      "labels Flattened [0 0 1 0 0 0 0 0 0 0 0 0 0 0 0 0 1 0 0 0 2 0 0 1 0 0 0 2 0 0 0 1]\n",
      "3265\n",
      "Predictions Argmax [2 0 0 1 1 1 0 0 0 0 0 1 0 1 0 1 0 1 1 2 0 0 0 1 1 0 1 1 0 0 0 0]\n",
      "labels Flattened [0 0 0 0 0 0 2 0 2 0 0 1 1 0 0 0 0 0 2 0 0 1 0 0 0 2 1 0 0 0 0 0]\n",
      "3297\n",
      "Predictions Argmax [1 0 0 1 0 0 0 1 1 0 0 1 1 0 1 0 1 0 0 0 1 0 1 0 0 0 2 0 0 2 0 1]\n",
      "labels Flattened [2 0 1 0 1 1 0 2 0 0 0 0 0 0 0 1 1 0 0 0 0 0 0 0 0 0 0 0 0 0 0 0]\n",
      "3329\n",
      "Predictions Argmax [1 0 0 0 0 2 0 0 0 0 0 0 0 0 1 1 0 1 1 2 1 1 1 0 0 0 0 0 0 0 1 1]\n",
      "labels Flattened [0 0 0 0 0 0 0 1 0 0 1 0 0 0 1 0 0 0 0 0 0 0 0 0 0 0 2 0 0 0 0 0]\n",
      "3361\n",
      "Predictions Argmax [1 1 0 0 1 0 0 0 0 1 0 1 0 0 0 0 1 0 0 2 0 1 2 0 0 1 0 0 1 0 0 2]\n",
      "labels Flattened [0 0 0 0 0 0 0 0 1 0 0 0 0 0 0 0 0 0 1 0 0 2 0 0 0 1 0 0 0 0 0 0]\n",
      "3393\n",
      "Predictions Argmax [0 2 0 0 1 0 0 2 1 0 0 0 0 0 0 2 0 1 2 0 1 0 0 1 1 2 2 1 1 0 1 0]\n",
      "labels Flattened [0 1 2 1 0 1 0 0 0 0 0 0 0 0 0 0 0 1 0 0 1 0 0 1 0 0 0 1 0 0 0 1]\n",
      "3425\n",
      "Predictions Argmax [1 0 0 1 0 1 0 2 1 0 0 1 0 1 2 1 0 0 1 1 0 0 1 1 2 0 1 0 0 0 0 0]\n",
      "labels Flattened [0 0 0 0 0 0 0 0 0 0 2 0 0 2 0 0 0 0 0 0 0 0 0 0 0 1 0 0 0 0 2 2]\n",
      "3457\n",
      "Predictions Argmax [0 2 0 1 0 0 0 1 1 0 0 1 1 0 1 0 1 2 1 1 0 2 1 0 0 2 1 0 1 1 0 1]\n",
      "labels Flattened [0 1 0 2 0 0 0 0 0 0 0 0 0 1 1 0 0 0 0 0 2 1 1 0 0 1 0 0 0 0 1 0]\n",
      "3489\n",
      "Predictions Argmax [1 0 0 0 1 0 0 0 0 2 0 1 0 2 0 0 2 1 0 0 0 2 1 1 1 0 0 0 1 0 1 0]\n",
      "labels Flattened [1 0 0 0 0 0 0 0 0 0 0 0 1 2 1 0 0 0 0 0 0 0 0 2 2 1 2 0 0 0 0 0]\n",
      "3521\n",
      "Predictions Argmax [0 0 0 0 1 1 1 1 0 0 1 0 2 2 1 1 0 0 0 1 0 1 2 1 0 0 0 0 0 0 1 0]\n",
      "labels Flattened [0 0 0 1 2 0 0 0 0 2 0 2 0 1 0 0 0 0 1 0 0 0 0 0 0 0 0 0 0 0 0 0]\n",
      "3553\n",
      "Predictions Argmax [2 1 1 0 1 1 1 1 1 0 1 0 0 1 2 1 0 1 1 0 2 0 1 2 0 2 1 1 1 0 1 1]\n",
      "labels Flattened [0 0 0 2 0 0 1 1 0 0 0 0 0 0 1 0 0 0 0 0 0 2 1 0 1 0 0 0 2 0 0 0]\n",
      "3585\n",
      "Predictions Argmax [0 0 0 0 1 0 0 2 1 0 0 1 0 1 0 0 0 0 1 1 0 1 1 1 1 0 1 1 1 0 1 0]\n",
      "labels Flattened [0 0 0 0 0 1 0 0 0 0 0 1 0 0 0 1 0 0 1 0 0 0 0 0 2 0 0 1 0 0 0 0]\n",
      "3617\n",
      "Predictions Argmax [2 0 1 1 0 0 0 1 0 0 1 0 0 1 2 0 0 1 1 0 0 2 0 0 0 1 1 1 0 0 0 0]\n",
      "labels Flattened [2 0 0 0 0 0 1 0 0 0 0 0 0 0 0 1 0 0 0 0 0 0 0 0 0 0 0 0 1 0 0 0]\n",
      "3649\n",
      "Predictions Argmax [1 0 1 0 0 1 0 2 0 1 1 0 1 1 0 0 0 0 0 0 0 0 0 0 0 1 1 1 0 0 0 0]\n",
      "labels Flattened [1 2 0 0 0 0 0 0 0 1 0 0 1 0 0 0 0 2 0 2 0 0 1 0 2 0 0 1 1 0 0 1]\n",
      "3681\n",
      "Predictions Argmax [0 2 2 0 0 0 0 1 0 0 0 0 1 1 0 1 0 0 0 0 0 0 0 1 0 2 1 0 0 2 0 0]\n",
      "labels Flattened [0 1 0 2 1 0 0 0 0 0 0 0 2 2 0 0 0 1 0 0 1 0 0 0 0 0 0 0 0 0 1 2]\n",
      "3713\n",
      "Predictions Argmax [0 0 1 0 0 0 2 0 0 2 0 0 1 0 1 0 2 2 0 0 0 0 0 0 1 0 0 1 1 0 0 0]\n",
      "labels Flattened [0 0 0 0 0 0 0 0 0 0 1 0 0 0 1 2 1 1 0 0 1 0 0 0 0 0 2 1 0 0 1 2]\n",
      "3745\n",
      "Predictions Argmax [1 1 0 1 0 0 0 0 0 1 1 1 0 0 0 1 0 1 0 0 2 1 0 2 0 0 0 1 2 0 1 1]\n",
      "labels Flattened [0 0 0 0 0 0 1 0 0 0 0 0 0 0 0 1 0 0 0 0 0 0 0 0 0 0 0 0 0 0 0 0]\n",
      "3777\n",
      "Predictions Argmax [1 0 0 0 0 2 0 1 0 2 0 0 0 0 0 1 2 0 0 0 2 0 0 0 0 0 1 1 0 1 0 1]\n",
      "labels Flattened [1 0 0 0 0 0 0 0 0 2 0 0 0 0 0 1 0 0 0 1 0 0 0 0 0 0 0 0 0 0 0 0]\n",
      "3809\n",
      "Predictions Argmax [0 0 1 0 0 0 2 1 0 1 0 0 0 0 0 0 0 0 0 0 0 0 0 0 2 1 1 2 0 1 0 2]\n",
      "labels Flattened [0 0 0 1 1 2 0 0 0 0 0 0 0 1 0 0 0 0 0 0 0 0 0 0 0 0 0 0 0 1 0 0]\n",
      "3841\n",
      "Predictions Argmax [0 1 0 0 0 0 2 0 1 1 0 1 0 0 0 1 1 1 0 0 0 0 0 0 0 0 0 0 0 0 0 0]\n",
      "labels Flattened [0 0 0 0 0 0 0 1 0 0 1 0 0 0 1 0 0 1 0 0 0 0 0 0 2 0 0 0 0 0 0 1]\n",
      "3873\n",
      "Predictions Argmax [1 0 0 0]\n",
      "labels Flattened [1 1 1 1]\n",
      "3877\n",
      "  F1 score: 0.304\n",
      "  Accuracy score: 0.521\n",
      "  Validating one epoch time taken  9.360229730606079\n"
     ]
    }
   ],
   "source": [
    "import random\n",
    "import time \n",
    "\n",
    "def set_seed(seed,ngpu):\n",
    "  random.seed(seed)\n",
    "  np.random.seed(seed)\n",
    "  torch.manual_seed(seed)\n",
    "  if ngpu > 0:\n",
    "        torch.cuda.manual_seed_all(seed)\n",
    "      \n",
    "set_seed(42,torch.cuda.device_count())\n",
    "#remove later\n",
    "\n",
    "epochs=4\n",
    "lossList=[]\n",
    "if device.type==\"cpu\":\n",
    "     model.to(device)\n",
    "     map_location='cpu'\n",
    "else:\n",
    "      model.cuda()\n",
    "      map_location=lambda storage, loc: storage.cuda()\n",
    "checkpoint = torch.load('/content/drive/My Drive/EnglishData/SUBTASKC1/2/BERTNEWsubtaskc.pth.tar',map_location=map_location)\n",
    "model.load_state_dict(checkpoint['state_dict'])\n",
    "max_grad_norm=1.0\n",
    "t1 = time.time()\n",
    "model.eval()\n",
    "eval_loss = 0\n",
    "nb_eval_steps = 0\n",
    "eval_f1=0\n",
    "eval_acc=0\n",
    " \n",
    "for batch_idx, data in enumerate(tedataloader):\n",
    "        \n",
    "      batch = tuple(t.to(device) for t in data)            \n",
    "      inputs = {\"input_ids\": batch[0], \"attention_mask\": batch[1], \"labels\": batch[2]}\n",
    "      with torch.no_grad():        \n",
    "         outputs = model(inputs[\"input_ids\"],token_type_ids=None,attention_mask=inputs[\"attention_mask\"])\n",
    "      logits = outputs[0]\n",
    "      logits = logits.detach().cpu().numpy()\n",
    "      label_ids = (inputs[\"labels\"]).to('cpu').numpy()\n",
    "      tmpf1score,tmpaccscore = calculateF1Score(logits, label_ids)\n",
    "      eval_f1 = eval_f1+tmpf1score\n",
    "      eval_acc=eval_acc+tmpaccscore\n",
    "      nb_eval_steps += 1\n",
    "      #print(\" TEMP F1 score: {0:.3f}\".format(tmpf1score))\n",
    "      #print(\"TEMP  Accuracy score: {0:.3f}\".format(tmpaccscore))\n",
    "print(\"  F1 score: {0:.3f}\".format(eval_f1/nb_eval_steps))\n",
    "print(\"  Accuracy score: {0:.3f}\".format(eval_acc/nb_eval_steps))\n",
    "t2=time.time()\n",
    "print(\"  Validating one epoch time taken \",t2-t1)"
   ]
  },
  {
   "cell_type": "code",
   "execution_count": null,
   "metadata": {
    "colab": {
     "base_uri": "https://localhost:8080/",
     "height": 156
    },
    "colab_type": "code",
    "id": "QnjQQy3v4c3T",
    "outputId": "c029a8a3-4132-48e2-c54d-9a22f53ab496"
   },
   "outputs": [],
   "source": [
    "def toLabels(i):\n",
    "  if i=='0':\n",
    "    return 'IND'\n",
    "  elif i =='1':\n",
    "    return 'GRP'\n",
    "  else:\n",
    "    return 'OTH'\n",
    "\n",
    "tweetsOLID=englishdata[['id','tweet']]\n",
    "print(len(tweetsOLID))\n",
    "dfnumpy=tweetsOLID.to_numpy()\n",
    "TWEETS1=dfnumpy[:, 1].reshape(-1, 1).tolist()\n",
    "teets=np.squeeze(TWEETS1).tolist()\n",
    "print(teets)\n",
    "print(len(TWEETS1))\n",
    "data=pd.read_csv('/content/drive/My Drive/EnglishData/SUBTASKC1/2/OLIDSUBTASKCBERT.csv')\n",
    "ypred=data['predicted'].to_numpy().tolist()\n",
    "len(ypred)\n",
    "ypred=ypred[1:]\n",
    "ypred=[toLabels(i) for i in ypred]\n",
    "#ypred=[ypred[i].flatten().tolist() for i in range(len(ypred))]\n",
    "print(ypred)\n",
    "print(len(ypred))\n",
    "ytrue=data['true'].to_numpy().tolist()\n",
    "ytrue=ytrue[1:]\n",
    "ytrue=[toLabels(i) for i in ytrue]\n",
    "#ytrue=[ytrue[i].flatten().tolist() for i in range(len(ytrue))]\n",
    "\n",
    "print(ytrue)\n",
    "print(len(ytrue))\n",
    "\n",
    "data = pd.DataFrame()\n",
    "data['tweets']=teets\n",
    "data['predicted']=ypred\n",
    "data['true']=ytrue\n",
    "data.to_csv('/content/drive/My Drive/EnglishData/SUBTASKC1/2/OLIDSUBTASKCBERT.csv') \n"
   ]
  },
  {
   "cell_type": "code",
   "execution_count": null,
   "metadata": {
    "colab": {
     "base_uri": "https://localhost:8080/",
     "height": 68
    },
    "colab_type": "code",
    "id": "ezRXStHsENAx",
    "outputId": "aad13485-6575-4868-b52c-010837c8046c"
   },
   "outputs": [],
   "source": [
    "from sklearn.metrics import confusion_matrix\n",
    "cnf=confusion_matrix(ytrue, ypred, labels=['IND', 'GRP', 'OTH'])\n",
    "print(cnf)"
   ]
  },
  {
   "cell_type": "code",
   "execution_count": 0,
   "metadata": {
    "colab": {
     "base_uri": "https://localhost:8080/",
     "height": 295
    },
    "colab_type": "code",
    "id": "284cFyv3GPQW",
    "outputId": "e767b069-8912-42ea-cc5e-b17fb5d15ad1"
   },
   "outputs": [
    {
     "data": {
      "image/png": "[encoded data removed]",
      "text/plain": [
       "<Figure size 432x288 with 2 Axes>"
      ]
     },
     "metadata": {
      "tags": []
     },
     "output_type": "display_data"
    }
   ],
   "source": [
    "import seaborn as sn\n",
    "import pandas as pd\n",
    "import matplotlib.pyplot as plt\n",
    "\n",
    "df_cm = pd.DataFrame(cnf,['IND', 'GRP', 'OTH'], ['IND', 'GRP', 'OTH'])\n",
    "# plt.figure(figsize=(10,7))\n",
    "sn.set(font_scale=1.4) # for label size\n",
    "sn.heatmap(df_cm, annot=True,fmt='.2f') # font size\n",
    "plt.xlabel(\"Predicted Labels\")\n",
    "plt.ylabel(\"True Labels\")\n",
    "\n",
    "plt.show()"
   ]
  },
  {
   "cell_type": "markdown",
   "metadata": {},
   "source": [
    "# ALL ind baseline result"
   ]
  },
  {
   "cell_type": "code",
   "execution_count": 0,
   "metadata": {
    "colab": {},
    "colab_type": "code",
    "id": "w73MW1laq9_u"
   },
   "outputs": [],
   "source": [
    "ygiven=[]\n",
    "ypredicted=[]"
   ]
  },
  {
   "cell_type": "code",
   "execution_count": 0,
   "metadata": {
    "colab": {},
    "colab_type": "code",
    "id": "OiNRnoKuMmVw"
   },
   "outputs": [],
   "source": [
    "data = pd.DataFrame()\n",
    "data['predicted']=['X']\n",
    "data['true']=['X']\n",
    "data.to_csv('/content/drive/My Drive/EnglishData/SUBTASKC1/2/BASELINESUBTASKCBERT.csv') \n"
   ]
  },
  {
   "cell_type": "code",
   "execution_count": 0,
   "metadata": {
    "colab": {},
    "colab_type": "code",
    "id": "ouJRJPjjMmV1"
   },
   "outputs": [],
   "source": [
    "from sklearn.metrics import f1_score\n",
    "from sklearn.metrics import accuracy_score\n",
    "\n",
    "def calculateF1Score(predictions,labels):\n",
    "  #rowwise return the index of the max element ie 0 or 1 depending on the maximum value returned\n",
    "  predictionArgmax=np.argmax(predictions,axis=1).flatten()\n",
    "  labelsFlattend=labels.flatten()\n",
    "  print(\"Predictions Argmax\",predictionArgmax)\n",
    "  print(\"labels Flattened\",labelsFlattend)\n",
    "  data=pd.read_csv('/content/drive/My Drive/EnglishData/SUBTASKC1/2/BASELINESUBTASKCBERT.csv')#,converters={'predicted': eval,'true': eval})\n",
    "  ypred=data['predicted'].to_numpy().tolist()\n",
    "  for t in predictionArgmax:\n",
    "    ypred.append(t)\n",
    "\n",
    "  print(len(ypred))\n",
    "  ytrue=data['true'].to_numpy().tolist()\n",
    "  for t in labelsFlattend:\n",
    "    ytrue.append(t)\n",
    "  data = pd.DataFrame()\n",
    "  data['predicted']=ypred\n",
    "  data['true']=ytrue\n",
    "  data.to_csv('/content/drive/My Drive/EnglishData/SUBTASKC1/2/BASELINESUBTASKCBERT.csv') \n",
    "\n",
    "  return f1_score(labelsFlattend, predictionArgmax, average='macro'),accuracy_score(labelsFlattend, predictionArgmax)\n",
    "\n"
   ]
  },
  {
   "cell_type": "code",
   "execution_count": 0,
   "metadata": {
    "colab": {},
    "colab_type": "code",
    "id": "lNAIZ5Wbq994"
   },
   "outputs": [],
   "source": [
    "def readData1():\n",
    "  headers=['id','ypredicted']\n",
    "  greekdataBaseline = pd.read_csv(\"test_c_baseline.csv\", delimiter=',',names=headers)\n",
    "  #,converters={\"id\":convertToInt}       \n",
    "  #greekdataBaseline.id = greekdataBaseline.id.astype(int)\n",
    "  #greekdataBaseline=greekdataBaseline[1:]\n",
    "  print(greekdataBaseline.head())\n",
    "  print(greekdataBaseline.shape)\n",
    "\n",
    "  headers=['id','tweet']\n",
    "  greekDataTest = pd.read_csv(\"test_c_tweets.tsv\", delimiter='\\t',names=headers)\n",
    "                                #converters={\"id\":convertToInt})\n",
    "  #greekDataTest=greekDataTest[1:]\n",
    "  print(greekDataTest.head())\n",
    "  #print(greekDataTest.dtypes)\n",
    "  print(greekDataTest.shape)\n",
    "  result = pd.merge(greekDataTest, greekdataBaseline, on='id', how='inner')\n",
    "  print(result.head())\n",
    "  print(result.dtypes)\n",
    "  print(result.shape)\n",
    "\n",
    "  #result=\n",
    "  #result.sort_values(by=['id'], inplace=True)\n",
    "  #print(result.head())\n",
    "  dfnumpy=result.to_numpy();\n",
    "  X=dfnumpy[:, 1].reshape(-1, 1)\n",
    "  y=dfnumpy[:, 2].reshape(-1, 1)\n",
    "  tid=dfnumpy[:, 0].reshape(-1, 1)\n",
    "  preprocessedTweets=X[:,0]\n",
    "  return preprocessedTweets,y,tid"
   ]
  },
  {
   "cell_type": "code",
   "execution_count": 0,
   "metadata": {
    "colab": {
     "base_uri": "https://localhost:8080/",
     "height": 442
    },
    "colab_type": "code",
    "id": "Lgou-pTnq97z",
    "outputId": "f125595c-ad09-40e5-fe8b-7a3917295fe2"
   },
   "outputs": [
    {
     "name": "stdout",
     "output_type": "stream",
     "text": [
      "     id ypredicted\n",
      "0   BC0        IND\n",
      "1   BC3        IND\n",
      "2   BC9        IND\n",
      "3  BC10        IND\n",
      "4  BC19        IND\n",
      "(850, 2)\n",
      "     id                                              tweet\n",
      "0    id                                              tweet\n",
      "1   BC0  @USER Lmao bihhh dis what u do to your homies ...\n",
      "2   BC3  @USER The POTUS is a racist, racist, racist, r...\n",
      "3   BC9  @USER He then grinned, raising his brow.  Oh d...\n",
      "4  BC10         Niggas priorities be fucked all the way up\n",
      "(851, 2)\n",
      "     id                                              tweet ypredicted\n",
      "0   BC0  @USER Lmao bihhh dis what u do to your homies ...        IND\n",
      "1   BC3  @USER The POTUS is a racist, racist, racist, r...        IND\n",
      "2   BC9  @USER He then grinned, raising his brow.  Oh d...        IND\n",
      "3  BC10         Niggas priorities be fucked all the way up        IND\n",
      "4  BC19  You bitches really be walking around talking s...        IND\n",
      "id            object\n",
      "tweet         object\n",
      "ypredicted    object\n",
      "dtype: object\n",
      "(850, 3)\n"
     ]
    }
   ],
   "source": [
    "preprocessedTweets,y,tid=readData1()"
   ]
  },
  {
   "cell_type": "code",
   "execution_count": 0,
   "metadata": {
    "colab": {},
    "colab_type": "code",
    "id": "Nx6XYg43q94R"
   },
   "outputs": [],
   "source": [
    "ftid=[]\n",
    "for t in tid.flatten().tolist():\n",
    "  ftid.append(int(t.split(\"BC\")[1]))"
   ]
  },
  {
   "cell_type": "code",
   "execution_count": 0,
   "metadata": {
    "colab": {},
    "colab_type": "code",
    "id": "eCD9UC4sfL2_"
   },
   "outputs": [],
   "source": [
    "from torch.utils.data import Dataset\n",
    "tokenizer=bertTokenizer.from_pretrained('bert-base-uncased',do_lower_case=True)\n",
    "class GreekPredictDataset(Dataset):\n",
    "    def __init__(self,xypredict):\n",
    "        self.xypredict = xypredict\n",
    "        self.maxlength=128\n",
    "       \n",
    "    def __getitem__(self, index):\n",
    "        tokenized_review = tokenizer.tokenize(str(self.xypredict[0][index]))\n",
    "        if len(tokenized_review) > self.maxlength:\n",
    "            #print(tokenized_review)\n",
    "            tokenized_review = tokenized_review[:self.maxlength]\n",
    "        \n",
    "        \n",
    "        ids_of_sentence_word  = tokenizer.convert_tokens_to_ids(tokenized_review)\n",
    "        padding = [0] * (self.maxlength - len(ids_of_sentence_word))\n",
    "        ids_of_sentence_word += padding\n",
    "        assert len(ids_of_sentence_word) == self.maxlength\n",
    "        #print(ids_of_sentence_word)\n",
    "        attention_mask = [int(b > 0) for b in ids_of_sentence_word] \n",
    "        x_predict_pytorch = torch.tensor(ids_of_sentence_word)\n",
    "        y_predict_pytorch=torch.tensor(self.xypredict[1][index])\n",
    "        x_predict_mask_pytorch=torch.tensor(attention_mask)\n",
    "        tid_predict_pytorch=torch.tensor(self.xypredict[2][index])\n",
    "        \n",
    "        return x_predict_pytorch,x_predict_mask_pytorch,y_predict_pytorch,tid_predict_pytorch\n",
    "       \n",
    "    def __len__(self):\n",
    "        return len(self.xypredict[0])\n",
    " \n",
    " \n",
    " "
   ]
  },
  {
   "cell_type": "code",
   "execution_count": 0,
   "metadata": {
    "colab": {},
    "colab_type": "code",
    "id": "l0CcvhMPDUy6"
   },
   "outputs": [],
   "source": [
    "yres=[]\n",
    "finalTid=[]\n",
    "def predictingData(pTweets,ypred,tid):\n",
    "  ids_of_sentence=[]\n",
    "  predictedLabels,trueLabels=[],[]\n",
    "  \n",
    "  le = preprocessing.LabelEncoder()\n",
    "  ypredict=le.fit_transform(ypred.flatten())\n",
    "  map_location=\"\"\n",
    "  xypredict=[pTweets,ypredict,tid]\n",
    "  \n",
    "  tdataset = GreekPredictDataset(xypredict)\n",
    "  tsampler=RandomSampler(tdataset)\n",
    "  predictdataloader = DataLoader(tdataset, batch_size=32, num_workers=1, shuffle=False,sampler=tsampler)\n",
    "  print(device.type)\n",
    "  model=bfsc.from_pretrained('bert-base-uncased',num_labels=3,output_attentions=False,output_hidden_states=False)\n",
    "  if device.type==\"cpu\":\n",
    "    model.to(device)\n",
    "    map_location='cpu'\n",
    "  else:\n",
    "    model.cuda()\n",
    "    map_location=lambda storage, loc: storage.cuda()\n",
    "  params=list(model.named_parameters())\n",
    "  eval_f1=0\n",
    "  eval_acc=0\n",
    "  nb_eval_steps=0\n",
    "  checkpoint = torch.load('/content/drive/My Drive/EnglishData/SUBTASKC1/2/BERTNEWsubtaskc.pth.tar',map_location=map_location)\n",
    "  model.load_state_dict(checkpoint['state_dict'])\n",
    "  model.eval()\n",
    "  i=0\n",
    "  for batch in predictdataloader:\n",
    "      print(i)\n",
    "      i=i+1\n",
    "      batch = tuple(t.to(device) for t in batch)        \n",
    "      inputs = {\"input_ids\": batch[0], \"attention_mask\": batch[1], \"labels\": batch[2],\"tids\":batch[3]}\n",
    "      \n",
    "      with torch.no_grad():       \n",
    "          outputs = model(inputs[\"input_ids\"],token_type_ids=None,attention_mask=inputs[\"attention_mask\"])\n",
    "      logits = outputs[0]\n",
    "      logits = logits.detach().cpu().numpy()\n",
    "      label_ids = (inputs[\"labels\"]).to('cpu').numpy()\n",
    "      predictedLabels.append(logits)\n",
    "      trueLabels.append(label_ids)\n",
    "      tidl=(inputs[\"tids\"]).to('cpu').numpy()\n",
    "      finalTid.append(tidl)\n",
    "      tmpf1score,tmpaccscore = calculateF1Score(logits, label_ids)\n",
    "      eval_f1 = eval_f1+tmpf1score\n",
    "      eval_acc=eval_acc+tmpaccscore\n",
    "      nb_eval_steps += 1\n",
    "      \n",
    "  print(\"  F1 score: {0:.3f}\".format(eval_f1/nb_eval_steps))\n",
    "  print(\"  Accuracy score: {0:.3f}\".format(eval_acc/nb_eval_steps))\n",
    "  return predictedLabels,trueLabels,finalTid"
   ]
  },
  {
   "cell_type": "code",
   "execution_count": 0,
   "metadata": {
    "colab": {
     "base_uri": "https://localhost:8080/",
     "height": 442
    },
    "colab_type": "code",
    "id": "D3nsmTDD88jH",
    "outputId": "fe0c30e4-9942-41d7-d5a6-a4203c60a373"
   },
   "outputs": [
    {
     "name": "stdout",
     "output_type": "stream",
     "text": [
      "     id ypredicted\n",
      "0   BC0        IND\n",
      "1   BC3        IND\n",
      "2   BC9        IND\n",
      "3  BC10        IND\n",
      "4  BC19        IND\n",
      "(850, 2)\n",
      "     id                                              tweet\n",
      "0    id                                              tweet\n",
      "1   BC0  @USER Lmao bihhh dis what u do to your homies ...\n",
      "2   BC3  @USER The POTUS is a racist, racist, racist, r...\n",
      "3   BC9  @USER He then grinned, raising his brow.  Oh d...\n",
      "4  BC10         Niggas priorities be fucked all the way up\n",
      "(851, 2)\n",
      "     id                                              tweet ypredicted\n",
      "0   BC0  @USER Lmao bihhh dis what u do to your homies ...        IND\n",
      "1   BC3  @USER The POTUS is a racist, racist, racist, r...        IND\n",
      "2   BC9  @USER He then grinned, raising his brow.  Oh d...        IND\n",
      "3  BC10         Niggas priorities be fucked all the way up        IND\n",
      "4  BC19  You bitches really be walking around talking s...        IND\n",
      "id            object\n",
      "tweet         object\n",
      "ypredicted    object\n",
      "dtype: object\n",
      "(850, 3)\n"
     ]
    }
   ],
   "source": [
    "#gpuname,device=initGpus1()  \n",
    "preprocessedTweets,y,tid=readData1()\n"
   ]
  },
  {
   "cell_type": "code",
   "execution_count": 0,
   "metadata": {
    "colab": {},
    "colab_type": "code",
    "id": "39EuSD1k9Ahz"
   },
   "outputs": [],
   "source": [
    "ftid=[]\n",
    "for t in tid.flatten().tolist():\n",
    "  ftid.append(int(t.split(\"BC\")[1]))"
   ]
  },
  {
   "cell_type": "code",
   "execution_count": 0,
   "metadata": {
    "colab": {},
    "colab_type": "code",
    "id": "bS2579tA9Dov"
   },
   "outputs": [],
   "source": [
    "tid=ftid"
   ]
  },
  {
   "cell_type": "code",
   "execution_count": 0,
   "metadata": {
    "colab": {
     "base_uri": "https://localhost:8080/",
     "height": 34
    },
    "colab_type": "code",
    "id": "4i_Mve1H9I_t",
    "outputId": "138f09b1-200b-46b9-f9cb-d2f2adfbce6e"
   },
   "outputs": [
    {
     "data": {
      "text/plain": [
       "{'IND'}"
      ]
     },
     "execution_count": 65,
     "metadata": {
      "tags": []
     },
     "output_type": "execute_result"
    }
   ],
   "source": [
    "set(y.flatten())"
   ]
  },
  {
   "cell_type": "markdown",
   "metadata": {},
   "source": [
    "## RESULT ON all IND baseline"
   ]
  },
  {
   "cell_type": "code",
   "execution_count": 0,
   "metadata": {
    "colab": {
     "base_uri": "https://localhost:8080/",
     "height": 1000
    },
    "colab_type": "code",
    "id": "3mKwI2ef9Ld9",
    "outputId": "c29ad067-1cc9-4b35-d06e-3cd5b414d20b"
   },
   "outputs": [
    {
     "name": "stdout",
     "output_type": "stream",
     "text": [
      "cuda\n",
      "0\n",
      "Predictions Argmax [1 0 1 0 0 0 0 0 0 0 0 0 0 0 0 0 0 1 0 0 0 1 0 0 1 0 0 1 0 0 1 0]\n",
      "labels Flattened [0 0 0 0 0 0 0 0 0 0 0 0 0 0 0 0 0 0 0 0 0 0 0 0 0 0 0 0 0 0 0 0]\n",
      "33\n",
      "1\n",
      "Predictions Argmax [0 0 1 0 0 1 0 1 2 0 1 0 0 1 0 0 0 1 0 1 0 0 0 0 1 0 0 0 0 1 0 1]\n",
      "labels Flattened [0 0 0 0 0 0 0 0 0 0 0 0 0 0 0 0 0 0 0 0 0 0 0 0 0 0 0 0 0 0 0 0]\n",
      "65\n",
      "2\n",
      "Predictions Argmax [0 0 2 0 0 0 0 0 0 2 0 1 0 0 0 0 0 0 1 0 0 0 0 0 0 0 1 0 0 1 0 0]\n",
      "labels Flattened [0 0 0 0 0 0 0 0 0 0 0 0 0 0 0 0 0 0 0 0 0 0 0 0 0 0 0 0 0 0 0 0]\n",
      "97\n",
      "3\n",
      "Predictions Argmax [1 1 1 0 0 0 2 0 0 0 0 0 0 0 0 1 0 0 0 1 1 1 0 0 1 1 1 1 0 0 1 0]\n",
      "labels Flattened [0 0 0 0 0 0 0 0 0 0 0 0 0 0 0 0 0 0 0 0 0 0 0 0 0 0 0 0 0 0 0 0]\n",
      "129\n",
      "4\n",
      "Predictions Argmax [1 0 0 0 0 0 0 0 0 1 0 0 0 0 0 1 0 0 0 0 0 0 0 0 0 1 0 0 0 0 0 0]\n",
      "labels Flattened [0 0 0 0 0 0 0 0 0 0 0 0 0 0 0 0 0 0 0 0 0 0 0 0 0 0 0 0 0 0 0 0]\n",
      "161\n",
      "5\n",
      "Predictions Argmax [0 1 0 1 1 0 0 0 0 0 0 0 0 0 0 0 0 0 0 1 0 0 0 0 1 0 0 0 0 0 0 0]\n",
      "labels Flattened [0 0 0 0 0 0 0 0 0 0 0 0 0 0 0 0 0 0 0 0 0 0 0 0 0 0 0 0 0 0 0 0]\n",
      "193\n",
      "6\n",
      "Predictions Argmax [0 0 0 0 1 0 0 0 2 0 0 0 0 0 0 0 0 1 1 0 1 0 0 0 0 1 2 1 1 0 0 0]\n",
      "labels Flattened [0 0 0 0 0 0 0 0 0 0 0 0 0 0 0 0 0 0 0 0 0 0 0 0 0 0 0 0 0 0 0 0]\n",
      "225\n",
      "7\n",
      "Predictions Argmax [0 1 0 0 0 0 0 0 1 0 1 0 1 0 0 0 0 1 1 0 0 0 0 1 0 0 0 1 0 0 0 0]\n",
      "labels Flattened [0 0 0 0 0 0 0 0 0 0 0 0 0 0 0 0 0 0 0 0 0 0 0 0 0 0 0 0 0 0 0 0]\n",
      "257\n",
      "8\n",
      "Predictions Argmax [1 1 0 0 0 0 0 0 1 0 0 1 0 0 0 0 0 0 1 1 0 0 0 0 0 0 0 1 1 1 0 0]\n",
      "labels Flattened [0 0 0 0 0 0 0 0 0 0 0 0 0 0 0 0 0 0 0 0 0 0 0 0 0 0 0 0 0 0 0 0]\n",
      "289\n",
      "9\n",
      "Predictions Argmax [0 0 0 0 0 0 0 0 0 0 0 0 0 0 1 2 0 2 0 0 0 0 0 0 0 0 0 0 0 0 0 0]\n",
      "labels Flattened [0 0 0 0 0 0 0 0 0 0 0 0 0 0 0 0 0 0 0 0 0 0 0 0 0 0 0 0 0 0 0 0]\n",
      "321\n",
      "10\n",
      "Predictions Argmax [0 0 0 0 0 0 0 0 0 0 1 0 1 0 2 0 1 1 0 0 0 0 0 0 0 0 0 2 0 0 1 0]\n",
      "labels Flattened [0 0 0 0 0 0 0 0 0 0 0 0 0 0 0 0 0 0 0 0 0 0 0 0 0 0 0 0 0 0 0 0]\n",
      "353\n",
      "11\n",
      "Predictions Argmax [0 0 0 0 0 0 1 1 0 2 0 0 0 0 0 1 1 0 0 0 0 0 0 0 0 1 0 0 0 0 0 0]\n",
      "labels Flattened [0 0 0 0 0 0 0 0 0 0 0 0 0 0 0 0 0 0 0 0 0 0 0 0 0 0 0 0 0 0 0 0]\n",
      "385\n",
      "12\n",
      "Predictions Argmax [1 1 0 0 0 1 0 0 0 0 0 0 0 1 0 0 0 1 0 0 0 0 0 2 0 0 0 1 0 0 0 0]\n",
      "labels Flattened [0 0 0 0 0 0 0 0 0 0 0 0 0 0 0 0 0 0 0 0 0 0 0 0 0 0 0 0 0 0 0 0]\n",
      "417\n",
      "13\n",
      "Predictions Argmax [1 0 0 0 1 0 2 2 0 0 0 0 0 1 0 1 1 0 0 0 0 1 1 0 2 0 0 1 0 0 0 0]\n",
      "labels Flattened [0 0 0 0 0 0 0 0 0 0 0 0 0 0 0 0 0 0 0 0 0 0 0 0 0 0 0 0 0 0 0 0]\n",
      "449\n",
      "14\n",
      "Predictions Argmax [0 0 0 0 1 0 0 2 0 0 0 0 0 0 0 0 1 0 0 0 0 1 0 2 0 0 0 0 0 0 0 1]\n",
      "labels Flattened [0 0 0 0 0 0 0 0 0 0 0 0 0 0 0 0 0 0 0 0 0 0 0 0 0 0 0 0 0 0 0 0]\n",
      "481\n",
      "15\n",
      "Predictions Argmax [0 0 0 1 0 0 0 1 0 1 1 0 0 0 0 0 0 0 0 0 0 0 0 0 0 0 0 0 0 0 0 0]\n",
      "labels Flattened [0 0 0 0 0 0 0 0 0 0 0 0 0 0 0 0 0 0 0 0 0 0 0 0 0 0 0 0 0 0 0 0]\n",
      "513\n",
      "16\n",
      "Predictions Argmax [1 0 1 2 0 0 1 1 0 0 0 0 0 0 0 1 0 0 1 1 0 0 0 0 0 0 0 0 0 1 0 0]\n",
      "labels Flattened [0 0 0 0 0 0 0 0 0 0 0 0 0 0 0 0 0 0 0 0 0 0 0 0 0 0 0 0 0 0 0 0]\n",
      "545\n",
      "17\n",
      "Predictions Argmax [0 0 1 0 1 0 0 1 1 2 1 0 0 0 0 0 1 2 0 0 0 0 0 0 1 0 0 0 0 0 0 1]\n",
      "labels Flattened [0 0 0 0 0 0 0 0 0 0 0 0 0 0 0 0 0 0 0 0 0 0 0 0 0 0 0 0 0 0 0 0]\n",
      "577\n",
      "18\n",
      "Predictions Argmax [1 0 0 0 0 0 0 0 0 0 0 0 0 1 0 0 0 0 0 1 0 0 2 0 0 0 0 0 0 2 0 0]\n",
      "labels Flattened [0 0 0 0 0 0 0 0 0 0 0 0 0 0 0 0 0 0 0 0 0 0 0 0 0 0 0 0 0 0 0 0]\n",
      "609\n",
      "19\n",
      "Predictions Argmax [0 0 0 0 0 1 0 0 0 0 0 0 1 0 0 1 0 0 0 0 1 0 0 0 1 0 0 0 0 0 1 1]\n",
      "labels Flattened [0 0 0 0 0 0 0 0 0 0 0 0 0 0 0 0 0 0 0 0 0 0 0 0 0 0 0 0 0 0 0 0]\n",
      "641\n",
      "20\n",
      "Predictions Argmax [0 0 0 1 0 1 1 0 0 0 1 0 0 0 0 0 0 0 1 0 0 1 1 0 0 0 0 0 0 0 0 0]\n",
      "labels Flattened [0 0 0 0 0 0 0 0 0 0 0 0 0 0 0 0 0 0 0 0 0 0 0 0 0 0 0 0 0 0 0 0]\n",
      "673\n",
      "21\n",
      "Predictions Argmax [0 1 1 0 0 0 0 0 0 1 0 0 0 0 0 0 1 1 0 0 0 0 0 0 0 0 1 0 0 0 1 0]\n",
      "labels Flattened [0 0 0 0 0 0 0 0 0 0 0 0 0 0 0 0 0 0 0 0 0 0 0 0 0 0 0 0 0 0 0 0]\n",
      "705\n",
      "22\n",
      "Predictions Argmax [0 0 0 1 1 0 0 0 0 1 0 0 0 0 0 0 1 0 0 2 0 0 0 1 0 1 1 0 0 0 0 0]\n",
      "labels Flattened [0 0 0 0 0 0 0 0 0 0 0 0 0 0 0 0 0 0 0 0 0 0 0 0 0 0 0 0 0 0 0 0]\n",
      "737\n",
      "23\n",
      "Predictions Argmax [0 0 0 0 0 0 0 0 0 1 0 0 1 1 1 0 0 1 0 2 0 1 0 0 0 0 0 0 1 1 0 0]\n",
      "labels Flattened [0 0 0 0 0 0 0 0 0 0 0 0 0 0 0 0 0 0 0 0 0 0 0 0 0 0 0 0 0 0 0 0]\n",
      "769\n",
      "24\n",
      "Predictions Argmax [0 1 0 0 1 0 2 0 1 0 0 0 0 0 0 1 0 0 1 0 1 0 0 0 1 0 0 0 1 0 0 0]\n",
      "labels Flattened [0 0 0 0 0 0 0 0 0 0 0 0 0 0 0 0 0 0 0 0 0 0 0 0 0 0 0 0 0 0 0 0]\n",
      "801\n",
      "25\n",
      "Predictions Argmax [0 0 2 1 0 0 0 0 1 0 0 0 0 0 0 0 0 0 2 0 0 1 0 0 0 0 0 0 0 0 0 2]\n",
      "labels Flattened [0 0 0 0 0 0 0 0 0 0 0 0 0 0 0 0 0 0 0 0 0 0 0 0 0 0 0 0 0 0 0 0]\n",
      "833\n",
      "26\n",
      "Predictions Argmax [0 1 0 0 1 0 0 0 0 2 1 0 1 0 1 0 0 1]\n",
      "labels Flattened [0 0 0 0 0 0 0 0 0 0 0 0 0 0 0 0 0 0]\n",
      "851\n",
      "  F1 score: 0.337\n",
      "  Accuracy score: 0.762\n"
     ]
    }
   ],
   "source": [
    "predictedLabels,trueLabels,finalTid=predictingData(preprocessedTweets,y,tid)"
   ]
  },
  {
   "cell_type": "code",
   "execution_count": 0,
   "metadata": {
    "colab": {},
    "colab_type": "code",
    "id": "vzyQ9dRN9PIH"
   },
   "outputs": [],
   "source": [
    "yans=[yres[i].flatten().tolist() for i in range(len(yres))]\n",
    "ytrue=[trueLabels[i].flatten().tolist() for i in range(len(trueLabels))]\n",
    "ytid=[finalTid[i].flatten().tolist() for i in range(len(finalTid))]"
   ]
  },
  {
   "cell_type": "code",
   "execution_count": 0,
   "metadata": {
    "colab": {},
    "colab_type": "code",
    "id": "ixnRwaNl9S4X"
   },
   "outputs": [],
   "source": [
    "from itertools import chain\n",
    "\n",
    "yans=list(chain.from_iterable(yans))\n",
    "\n",
    "ytrue=list(chain.from_iterable(ytrue))\n",
    "\n",
    "ytid=list(chain.from_iterable(ytid))"
   ]
  },
  {
   "cell_type": "code",
   "execution_count": 0,
   "metadata": {
    "colab": {
     "base_uri": "https://localhost:8080/",
     "height": 34
    },
    "colab_type": "code",
    "id": "mDieJRSQRnBc",
    "outputId": "35f92a7e-20e1-4644-d5fe-0b81830d8d76"
   },
   "outputs": [
    {
     "data": {
      "text/plain": [
       "850"
      ]
     },
     "execution_count": 86,
     "metadata": {
      "tags": []
     },
     "output_type": "execute_result"
    }
   ],
   "source": [
    "len(yans)"
   ]
  },
  {
   "cell_type": "code",
   "execution_count": 0,
   "metadata": {
    "colab": {},
    "colab_type": "code",
    "id": "iUFlIuBE9YEf"
   },
   "outputs": [],
   "source": [
    "ytid2=[\"BC\"+str(t) for t in ytid]"
   ]
  },
  {
   "cell_type": "code",
   "execution_count": 0,
   "metadata": {
    "colab": {},
    "colab_type": "code",
    "id": "REE5x9ofRr-T"
   },
   "outputs": [],
   "source": [
    "len(ytid2)"
   ]
  },
  {
   "cell_type": "code",
   "execution_count": 0,
   "metadata": {
    "colab": {},
    "colab_type": "code",
    "id": "le60Azr-EHrG"
   },
   "outputs": [],
   "source": [
    "yans1=[]"
   ]
  },
  {
   "cell_type": "code",
   "execution_count": 0,
   "metadata": {
    "colab": {},
    "colab_type": "code",
    "id": "tKylH_QNGHL6"
   },
   "outputs": [],
   "source": [
    "yans3=[]"
   ]
  },
  {
   "cell_type": "code",
   "execution_count": 0,
   "metadata": {
    "colab": {},
    "colab_type": "code",
    "id": "gD4MoT1aAB-B"
   },
   "outputs": [],
   "source": [
    "yans1=[]\n",
    "for i in range(len(yans)):\n",
    "  if yans[i]==0:\n",
    "    yans3.append(\"IND\")\n",
    "  elif yans[i]==1:\n",
    "    yans3.append(\"GRP\")\n",
    "  else:\n",
    "    yans3.append(\"OTH\")\n"
   ]
  },
  {
   "cell_type": "code",
   "execution_count": 0,
   "metadata": {
    "colab": {},
    "colab_type": "code",
    "id": "oAJQxwr5G_OV"
   },
   "outputs": [],
   "source": [
    "ytrue3 = []"
   ]
  },
  {
   "cell_type": "code",
   "execution_count": 0,
   "metadata": {
    "colab": {},
    "colab_type": "code",
    "id": "DXQRYq92Aj3D"
   },
   "outputs": [],
   "source": [
    "for i in range(len(ytrue)):\n",
    "  if ytrue[i]==0:\n",
    "    ytrue3.append(\"IND\")\n",
    "  elif ytrue[i]==1:\n",
    "    ytrue3.append(\"GRP\")\n",
    "  else:\n",
    "    ytrue3.append(\"OTH\")\n"
   ]
  },
  {
   "cell_type": "code",
   "execution_count": 0,
   "metadata": {
    "colab": {},
    "colab_type": "code",
    "id": "zcZ3NkNB9ipY"
   },
   "outputs": [],
   "source": [
    "print(yans3.count(\"IND\"))\n",
    "print(yans3.count(\"GRP\"))\n",
    "print(yans3.count(\"OTH\"))\n"
   ]
  },
  {
   "cell_type": "code",
   "execution_count": 0,
   "metadata": {
    "colab": {},
    "colab_type": "code",
    "id": "M_68h4bXDZPb"
   },
   "outputs": [],
   "source": [
    "len(yans3)"
   ]
  },
  {
   "cell_type": "code",
   "execution_count": 0,
   "metadata": {
    "colab": {},
    "colab_type": "code",
    "id": "WlCkm0Mc9jE9"
   },
   "outputs": [],
   "source": [
    "print(ytrue3.count(\"IND\"))\n",
    "print(ytrue3.count(\"GRP\"))\n",
    "print(ytrue3.count(\"OTH\"))\n"
   ]
  }
 ],
 "metadata": {
  "accelerator": "GPU",
  "colab": {
   "collapsed_sections": [],
   "machine_shape": "hm",
   "name": "SUBTASKCFINAL.ipynb",
   "provenance": []
  },
  "kernelspec": {
   "display_name": "Python 3",
   "language": "python",
   "name": "python3"
  },
  "language_info": {
   "codemirror_mode": {
    "name": "ipython",
    "version": 3
   },
   "file_extension": ".py",
   "mimetype": "text/x-python",
   "name": "python",
   "nbconvert_exporter": "python",
   "pygments_lexer": "ipython3",
   "version": "3.6.9"
  }
 },
 "nbformat": 4,
 "nbformat_minor": 1
}
