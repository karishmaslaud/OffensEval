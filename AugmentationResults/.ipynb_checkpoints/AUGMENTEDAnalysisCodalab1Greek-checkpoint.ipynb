{
 "cells": [
  {
   "cell_type": "code",
   "execution_count": null,
   "metadata": {
    "colab": {
     "base_uri": "https://localhost:8080/",
     "height": 663
    },
    "colab_type": "code",
    "id": "K8VFcl1gBfU-",
    "outputId": "f21ee718-74d5-445d-ce54-c49d3779bb31"
   },
   "outputs": [],
   "source": [
    "#ALL INSTALLTIONS\n",
    "!pip install transformers"
   ]
  },
  {
   "cell_type": "raw",
   "metadata": {
    "colab_type": "text",
    "id": "6_byFfpTf1D9"
   },
   "source": [
    "#Custom Data set and Data loader has  been adapted and inspired from \n",
    "Michael Sugimura,\"BERT Classifier: Just Another Pytorch Model\",Medium/TowardsDataScience,10 June.2019.https://towardsdatascience.com/bert-classifier-just-another-pytorch-model-881b3cf05784\n",
    "Github Repository:https://github.com/sugi-chan/custom_bert_pipeline\n"
   ]
  },
  {
   "cell_type": "markdown",
   "metadata": {},
   "source": [
    "#BERT based fine tuning adapted and inspired from:Chris McCormick and Nick Ryan. (2019, July 22). BERT Fine-Tuning Tutorial with PyTorch. Retrieved from http://www.mccormickml.com"
   ]
  },
  {
   "cell_type": "raw",
   "metadata": {},
   "source": [
    "#for all references refer README.md"
   ]
  },
  {
   "cell_type": "code",
   "execution_count": null,
   "metadata": {},
   "outputs": [],
   "source": []
  },
  {
   "cell_type": "code",
   "execution_count": 2,
   "metadata": {
    "colab": {
     "base_uri": "https://localhost:8080/",
     "height": 34
    },
    "colab_type": "code",
    "id": "T3MK2sszwvbe",
    "outputId": "73b2f40a-ed3e-4fd1-99a8-3ebdf6692ed5"
   },
   "outputs": [
    {
     "name": "stderr",
     "output_type": "stream",
     "text": [
      "Using TensorFlow backend.\n"
     ]
    }
   ],
   "source": [
    "\n",
    "import tensorflow as tf\n",
    "import torch\n",
    "\n",
    "import csv\n",
    "import pandas as pd\n",
    "import numpy as np\n",
    "from sklearn.model_selection import train_test_split\n",
    "\n",
    "\n",
    "from transformers import BertTokenizer as bertTokenizer\n",
    "from sklearn.model_selection import train_test_split\n",
    "from keras.preprocessing.sequence import pad_sequences\n",
    "from torch.utils.data import TensorDataset,DataLoader,RandomSampler,SequentialSampler\n",
    "\n",
    "from sklearn.svm import SVC\n",
    "from sklearn import preprocessing\n",
    "\n",
    "from transformers import BertForSequenceClassification as bfsc,AdamW,BertConfig\n"
   ]
  },
  {
   "cell_type": "code",
   "execution_count": 0,
   "metadata": {
    "colab": {},
    "colab_type": "code",
    "id": "-cEeA5Ys-R2r"
   },
   "outputs": [],
   "source": [
    "gpuname=\"\"\n",
    "device=\"\"\n",
    "y=\"\"\n",
    "preprocessedTweets=\"\"\n",
    "ids_of_sentence=[]\n",
    "ids_of_sentence_words=[]\n",
    "attention_masks=[]\n"
   ]
  },
  {
   "cell_type": "code",
   "execution_count": 0,
   "metadata": {
    "colab": {},
    "colab_type": "code",
    "id": "IaSv6PB4w1JW"
   },
   "outputs": [],
   "source": [
    "\n",
    "def initGpus1():\n",
    "  gpuname=tf.test.gpu_device_name()\n",
    "  if gpuname=='/device:GPU:0':\n",
    "    print('Found GPU at :{}'.format(gpuname))\n",
    "  else:\n",
    "    gpuname=\"\"\n",
    "  if torch.cuda.is_available():\n",
    "    device=torch.device(\"cuda\")\n",
    "    n_gpu=torch.cuda.device_count()\n",
    "    print(\"The device name is %s\"%torch.cuda.get_device_name(0))\n",
    "  else:\n",
    "    print(\"No GPU available using only CPU instead\")\n",
    "    device=torch.device(\"cpu\")\n",
    "  return gpuname,device\n",
    "\n"
   ]
  },
  {
   "cell_type": "code",
   "execution_count": 5,
   "metadata": {
    "colab": {
     "base_uri": "https://localhost:8080/",
     "height": 122
    },
    "colab_type": "code",
    "id": "iALw8AQY7LkW",
    "outputId": "d5a59393-e34f-4a04-e9c6-4b8b825ad361"
   },
   "outputs": [
    {
     "name": "stdout",
     "output_type": "stream",
     "text": [
      "Go to this URL in a browser: https://accounts.google.com/o/oauth2/auth?client_id=947318989803-6bn6qk8qdgf4n4g3pfee6491hc0brc4i.apps.googleusercontent.com&redirect_uri=urn%3aietf%3awg%3aoauth%3a2.0%3aoob&response_type=code&scope=email%20https%3a%2f%2fwww.googleapis.com%2fauth%2fdocs.test%20https%3a%2f%2fwww.googleapis.com%2fauth%2fdrive%20https%3a%2f%2fwww.googleapis.com%2fauth%2fdrive.photos.readonly%20https%3a%2f%2fwww.googleapis.com%2fauth%2fpeopleapi.readonly\n",
      "\n",
      "Enter your authorization code:\n",
      "··········\n",
      "Mounted at /content/drive\n"
     ]
    }
   ],
   "source": [
    "\n",
    "from google.colab import drive\n",
    "drive.mount('/content/drive')\n"
   ]
  },
  {
   "cell_type": "code",
   "execution_count": 6,
   "metadata": {
    "colab": {
     "base_uri": "https://localhost:8080/",
     "height": 34
    },
    "colab_type": "code",
    "id": "y80umnMLpR94",
    "outputId": "2feae3c6-b4d1-45d9-ed75-788a73fa9211"
   },
   "outputs": [
    {
     "data": {
      "text/plain": [
       "tensor([2251])"
      ]
     },
     "execution_count": 6,
     "metadata": {
      "tags": []
     },
     "output_type": "execute_result"
    }
   ],
   "source": [
    "torch.tensor(2251).flatten()"
   ]
  },
  {
   "cell_type": "code",
   "execution_count": 0,
   "metadata": {
    "colab": {},
    "colab_type": "code",
    "id": "uF7yUpej6ucO"
   },
   "outputs": [],
   "source": [
    "!unzip -P yourpassword -qq '/content/drive/My Drive/GreekData/PredictFile.zip'\n",
    "!unzip -P yourpassword -qq '/content/drive/My Drive/GreekData/starting_k.zip'\n",
    "!unzip -P yourpassword -qq '/content/drive/My Drive/GreekData/offenseval2020-test-greek.zip'\n",
    "!unzip -P yourpassword -qq '/content/drive/My Drive/GreekData/Greek.zip'"
   ]
  },
  {
   "cell_type": "code",
   "execution_count": 0,
   "metadata": {
    "colab": {},
    "colab_type": "code",
    "id": "MLOJALxBqE4S"
   },
   "outputs": [],
   "source": [
    "ygiven=[]\n",
    "ypredicted=[]\n",
    "\n",
    "def convertToInt(val):\n",
    "    if not val:\n",
    "        return 0    \n",
    "    try:\n",
    "        return np.int64(val)\n",
    "    except:        \n",
    "        return np.int64(0)\n",
    "\n",
    "\n"
   ]
  },
  {
   "cell_type": "code",
   "execution_count": 9,
   "metadata": {
    "colab": {
     "base_uri": "https://localhost:8080/",
     "height": 68
    },
    "colab_type": "code",
    "id": "o8snG4esSjUF",
    "outputId": "7f0f0284-613f-47f9-c702-f96d7348bc38"
   },
   "outputs": [
    {
     "name": "stdout",
     "output_type": "stream",
     "text": [
      "id             int64\n",
      "ypredicted    object\n",
      "dtype: object\n"
     ]
    }
   ],
   "source": [
    "headers=['id','ypredicted']\n",
    "greekdataBaseline = pd.read_csv(\"task_a_baseline.csv\", delimiter=',',names=headers)\n",
    "#,converters={\"id\":convertToInt}       \n",
    "greekdataBaseline.iloc[0]                    \n",
    "print(greekdataBaseline.dtypes)\n"
   ]
  },
  {
   "cell_type": "code",
   "execution_count": 10,
   "metadata": {
    "colab": {
     "base_uri": "https://localhost:8080/",
     "height": 187
    },
    "colab_type": "code",
    "id": "Z3FxBjQrYHcb",
    "outputId": "3cf45765-e97d-4203-e40c-e7c2f320a0b2"
   },
   "outputs": [
    {
     "name": "stdout",
     "output_type": "stream",
     "text": [
      "Collecting emoji\n",
      "\u001b[?25l  Downloading https://files.pythonhosted.org/packages/40/8d/521be7f0091fe0f2ae690cc044faf43e3445e0ff33c574eae752dd7e39fa/emoji-0.5.4.tar.gz (43kB)\n",
      "\r",
      "\u001b[K     |███████▌                        | 10kB 20.3MB/s eta 0:00:01\r",
      "\u001b[K     |███████████████                 | 20kB 2.1MB/s eta 0:00:01\r",
      "\u001b[K     |██████████████████████▋         | 30kB 2.9MB/s eta 0:00:01\r",
      "\u001b[K     |██████████████████████████████▏ | 40kB 2.1MB/s eta 0:00:01\r",
      "\u001b[K     |████████████████████████████████| 51kB 2.0MB/s \n",
      "\u001b[?25hBuilding wheels for collected packages: emoji\n",
      "  Building wheel for emoji (setup.py) ... \u001b[?25l\u001b[?25hdone\n",
      "  Created wheel for emoji: filename=emoji-0.5.4-cp36-none-any.whl size=42176 sha256=e2ea8b4e6fc54ff3d162677ab12fac8c7828eae87f921cf741fd04d2ef09ece9\n",
      "  Stored in directory: /root/.cache/pip/wheels/2a/a9/0a/4f8e8cce8074232aba240caca3fade315bb49fac68808d1a9c\n",
      "Successfully built emoji\n",
      "Installing collected packages: emoji\n",
      "Successfully installed emoji-0.5.4\n"
     ]
    }
   ],
   "source": [
    "pip install emoji --upgrade"
   ]
  },
  {
   "cell_type": "code",
   "execution_count": 11,
   "metadata": {
    "colab": {
     "base_uri": "https://localhost:8080/",
     "height": 51
    },
    "colab_type": "code",
    "id": "0cbbpSiNHrJF",
    "outputId": "f7fef984-30fc-410c-afbb-a00ad7b9cffc"
   },
   "outputs": [
    {
     "name": "stdout",
     "output_type": "stream",
     "text": [
      "\u001b[38;5;2m✔ Download and installation successful\u001b[0m\n",
      "You can now load the model via spacy.load('el_core_news_md')\n"
     ]
    }
   ],
   "source": [
    "import spacy.cli\n",
    "spacy.cli.download(\"el_core_news_md\")\n"
   ]
  },
  {
   "cell_type": "code",
   "execution_count": 0,
   "metadata": {
    "colab": {},
    "colab_type": "code",
    "id": "PK5_cgNCHr5E"
   },
   "outputs": [],
   "source": [
    "#LEMMATIZATION\n",
    "import string\n",
    "import spacy\n",
    "#import el_core_news_sm \n",
    "from spacy.tokenizer import Tokenizer\n",
    "import re\n",
    "import emoji\n",
    "\n",
    "nlp =  spacy.load('el_core_news_md')\n",
    "#Preprocessing # to HASHTAG so that spacy can tokenize it properly\n",
    "#p=re.compile(r\"(#)\",re.UNICODE)\n",
    "#p1=re.compile(r\"\\.*\",re.UNICODE)\n",
    "##tokenization with NLTK and SPACY DIDNT WORK TOGETHER"
   ]
  },
  {
   "cell_type": "code",
   "execution_count": 0,
   "metadata": {
    "colab": {},
    "colab_type": "code",
    "id": "GgOyD-x_GyzR"
   },
   "outputs": [],
   "source": [
    "\n",
    "          \n",
    "def preprocess1(arrt):\n",
    "    doc=[]\n",
    "    emojis={}\n",
    "    #noises = ['@USER','n\\'t', '\\'s', '\\'m',\"’\"]\n",
    "    allTokens =[]\n",
    "\n",
    "    for txt in arrt:\n",
    "        k=0\n",
    "        sentVect=[]\n",
    "        txt1=emoji.demojize(txt)\n",
    "        unique_words = dict.fromkeys(txt1.split())#Replace continuous duplicate words with non duplicate strings for tranlated datasets\n",
    "        txt2=' '.join(unique_words)\n",
    "        x1=nlp(txt2)\n",
    "        x2=[]\n",
    "        for t in x1:\n",
    "            z=str(t)\n",
    "            if z not in string.punctuation  and t.is_stop==False:\n",
    "                x2.append(z)\n",
    "                   \n",
    "        \n",
    "        sentence=' '.join((x2))         \n",
    "        allTokens.append(sentence)      \n",
    "    return allTokens\n"
   ]
  },
  {
   "cell_type": "code",
   "execution_count": 15,
   "metadata": {
    "colab": {
     "base_uri": "https://localhost:8080/",
     "height": 187
    },
    "colab_type": "code",
    "id": "QKgucvOOhCXQ",
    "outputId": "f3063d01-4346-46cf-8cc9-c6be9b83e6b4"
   },
   "outputs": [
    {
     "name": "stdout",
     "output_type": "stream",
     "text": [
      "     id                                              tweet\n",
      "1  2707  @USER Θέλω να των δω από εδώ και εμπρός αν δεν...\n",
      "2  2251  #survivorgr Α Και 60 φορές και με διαφορετικού...\n",
      "3  9814  Και μου έλεγε η γυναίκα μου το πρωί πάρε την τ...\n",
      "4  8949                   κατω τα χερια απο τον #κυρανακης\n",
      "5  6913  @USER μην μας το παιζεις πονοψυχη,κρυφορατσιστ...\n",
      "id        int64\n",
      "tweet    object\n",
      "dtype: object\n",
      "(1544, 2)\n"
     ]
    }
   ],
   "source": [
    "headers=['id','tweet']\n",
    "greekDataTest = pd.read_csv(\"testset_taska.tsv\", delimiter='\\t',names=headers,\n",
    "                                converters={\"id\":convertToInt})\n",
    "greekDataTest=greekDataTest[1:]\n",
    "print(greekDataTest.head())\n",
    "print(greekDataTest.dtypes)\n",
    "print(greekDataTest.shape)\n"
   ]
  },
  {
   "cell_type": "code",
   "execution_count": 0,
   "metadata": {
    "colab": {},
    "colab_type": "code",
    "id": "_RUoX4ag7a5W"
   },
   "outputs": [],
   "source": [
    "##Use blob\n",
    "#GET THE DATA FROM THE PANDAS FRAME\n",
    "def readData1():\n",
    "  headers=['id','ypredicted']\n",
    "  greekdataBaseline = pd.read_csv(\"/content/drive/My Drive/EnglishData/SUBTASKC1/OffensEvalGoldLabels/greek-goldlabels.csv\", delimiter=',',names=headers)\n",
    "  #,converters={\"id\":convertToInt}       \n",
    "  greekdataBaseline.id = greekdataBaseline.id.astype(int)\n",
    "  #greekdataBaseline=greekdataBaseline[1:]\n",
    "  print(greekdataBaseline.dtypes)\n",
    "  headers=['id','tweet']\n",
    "  greekDataTest = pd.read_csv(\"testset_taska.tsv\", delimiter='\\t',names=headers,\n",
    "                                converters={\"id\":convertToInt})\n",
    "  #greekDataTest=greekDataTest[1:]\n",
    "  print(greekDataTest.head())\n",
    "  print(greekDataTest.dtypes)\n",
    "  print(greekDataTest.shape)\n",
    "  result = pd.merge(greekDataTest, greekdataBaseline, on='id', how='inner')\n",
    "  print(result.head())\n",
    "  print(result.dtypes)\n",
    "  print(result.shape)\n",
    "\n",
    "  #result=\n",
    "  #result.sort_values(by=['id'], inplace=True)\n",
    "  print(result.head())\n",
    "  dfnumpy=result.to_numpy();\n",
    "  X=dfnumpy[:, 1].reshape(-1, 1)\n",
    "  y=dfnumpy[:, 2].reshape(-1, 1)\n",
    "  tid=dfnumpy[:, 0].reshape(-1, 1)\n",
    "  print(tid)\n",
    "  arrt=X[:,0]\n",
    "  allTokens=preprocess1(arrt)\n",
    "  preprocessedTweets=allTokens\n",
    "  return preprocessedTweets,y,tid"
   ]
  },
  {
   "cell_type": "code",
   "execution_count": 18,
   "metadata": {
    "colab": {
     "base_uri": "https://localhost:8080/",
     "height": 646
    },
    "colab_type": "code",
    "id": "PfE9PV0Vu08q",
    "outputId": "7a772313-edd2-41c0-8018-65d57510d9d7"
   },
   "outputs": [
    {
     "name": "stdout",
     "output_type": "stream",
     "text": [
      "id             int64\n",
      "ypredicted    object\n",
      "dtype: object\n",
      "     id                                              tweet\n",
      "0     0                                              tweet\n",
      "1  2707  @USER Θέλω να των δω από εδώ και εμπρός αν δεν...\n",
      "2  2251  #survivorgr Α Και 60 φορές και με διαφορετικού...\n",
      "3  9814  Και μου έλεγε η γυναίκα μου το πρωί πάρε την τ...\n",
      "4  8949                   κατω τα χερια απο τον #κυρανακης\n",
      "id        int64\n",
      "tweet    object\n",
      "dtype: object\n",
      "(1545, 2)\n",
      "     id                                              tweet ypredicted\n",
      "0  2707  @USER Θέλω να των δω από εδώ και εμπρός αν δεν...        NOT\n",
      "1  2251  #survivorgr Α Και 60 φορές και με διαφορετικού...        NOT\n",
      "2  9814  Και μου έλεγε η γυναίκα μου το πρωί πάρε την τ...        NOT\n",
      "3  8949                   κατω τα χερια απο τον #κυρανακης        NOT\n",
      "4  6913  @USER μην μας το παιζεις πονοψυχη,κρυφορατσιστ...        NOT\n",
      "id             int64\n",
      "tweet         object\n",
      "ypredicted    object\n",
      "dtype: object\n",
      "(1544, 3)\n",
      "     id                                              tweet ypredicted\n",
      "0  2707  @USER Θέλω να των δω από εδώ και εμπρός αν δεν...        NOT\n",
      "1  2251  #survivorgr Α Και 60 φορές και με διαφορετικού...        NOT\n",
      "2  9814  Και μου έλεγε η γυναίκα μου το πρωί πάρε την τ...        NOT\n",
      "3  8949                   κατω τα χερια απο τον #κυρανακης        NOT\n",
      "4  6913  @USER μην μας το παιζεις πονοψυχη,κρυφορατσιστ...        NOT\n",
      "[[2707]\n",
      " [2251]\n",
      " [9814]\n",
      " ...\n",
      " [2679]\n",
      " [3801]\n",
      " [3868]]\n"
     ]
    }
   ],
   "source": [
    "preprocessedTweets,y,tid=readData1()\n"
   ]
  },
  {
   "cell_type": "code",
   "execution_count": 21,
   "metadata": {
    "colab": {
     "base_uri": "https://localhost:8080/",
     "height": 66,
     "referenced_widgets": [
      "f3b811c331704f96906d698d051cda1a",
      "d9bc33a6b59445149545d80aa465dd48",
      "7a07077e3ea9418aa69dbd0a47b76080",
      "83be07595a624f0c993e1f24a0a2f1ba",
      "360c5ebc66614fe381a43fefd2074704",
      "003ee9c984cc49319702f457389f72f6",
      "3da361533c4745cfbe0a5d8f1ed13efd",
      "465f8c523bb6452184366767cc911116"
     ]
    },
    "colab_type": "code",
    "id": "XAPtgGcYVDjl",
    "outputId": "c224e857-3ce3-4f65-daa6-6bf0710c7097"
   },
   "outputs": [
    {
     "data": {
      "application/vnd.jupyter.widget-view+json": {
       "model_id": "f3b811c331704f96906d698d051cda1a",
       "version_major": 2,
       "version_minor": 0
      },
      "text/plain": [
       "HBox(children=(IntProgress(value=0, description='Downloading', max=995526, style=ProgressStyle(description_wid…"
      ]
     },
     "metadata": {
      "tags": []
     },
     "output_type": "display_data"
    },
    {
     "name": "stdout",
     "output_type": "stream",
     "text": [
      "\n"
     ]
    }
   ],
   "source": [
    "from torch.utils.data import Dataset\n",
    "tokenizer=bertTokenizer.from_pretrained('bert-base-multilingual-cased',do_lower_case=True)\n",
    "class GreekPredictDataset(Dataset):\n",
    "    def __init__(self,xypredict):\n",
    "        self.xypredict = xypredict\n",
    "        self.maxlength=147\n",
    "       \n",
    "    def __getitem__(self, index):\n",
    "        tokenized_review = tokenizer.tokenize(str(self.xypredict[0][index]))\n",
    "        if len(tokenized_review) > self.maxlength:\n",
    "            #print(tokenized_review)\n",
    "            tokenized_review = tokenized_review[:self.maxlength]\n",
    "        \n",
    "        \n",
    "        ids_of_sentence_word  = tokenizer.convert_tokens_to_ids(tokenized_review)\n",
    "        padding = [0] * (self.maxlength - len(ids_of_sentence_word))\n",
    "        ids_of_sentence_word += padding\n",
    "        assert len(ids_of_sentence_word) == self.maxlength\n",
    "        #print(ids_of_sentence_word)\n",
    "        attention_mask = [int(b > 0) for b in ids_of_sentence_word] \n",
    "        x_predict_pytorch = torch.tensor(ids_of_sentence_word)\n",
    "        y_predict_pytorch=torch.tensor(self.xypredict[1][index])\n",
    "        x_predict_mask_pytorch=torch.tensor(attention_mask)\n",
    "        tid_predict_pytorch=torch.tensor(self.xypredict[2][index])\n",
    "        \n",
    "        return x_predict_pytorch,x_predict_mask_pytorch,y_predict_pytorch,tid_predict_pytorch\n",
    "       \n",
    "    def __len__(self):\n",
    "        return len(self.xypredict[0])\n",
    " \n",
    " \n",
    " \n",
    " \n",
    "\n"
   ]
  },
  {
   "cell_type": "code",
   "execution_count": 22,
   "metadata": {
    "colab": {
     "base_uri": "https://localhost:8080/",
     "height": 34
    },
    "colab_type": "code",
    "id": "rYZP78bKr4Sa",
    "outputId": "789eb4f9-ec46-45a7-c854-4da421ba67b6"
   },
   "outputs": [
    {
     "data": {
      "text/plain": [
       "False"
      ]
     },
     "execution_count": 22,
     "metadata": {
      "tags": []
     },
     "output_type": "execute_result"
    }
   ],
   "source": [
    "device==\"cpu\""
   ]
  },
  {
   "cell_type": "code",
   "execution_count": 0,
   "metadata": {
    "colab": {},
    "colab_type": "code",
    "id": "xv0Z1IwUyNGl"
   },
   "outputs": [],
   "source": [
    "from sklearn.metrics import f1_score\n",
    "from sklearn.metrics import accuracy_score\n",
    "\n",
    "def calculateF1Score(predictions,labels):\n",
    "  #rowwise return the index of the max element ie 0 or 1 depending on the maximum value returned\n",
    "  predictionArgmax=np.argmax(predictions,axis=1).flatten()\n",
    "  labelsFlattend=labels.flatten()\n",
    "  yres.append(predictionArgmax.flatten())\n",
    "  print(\"predictionArgmax\",predictionArgmax)\n",
    "  print(\"labelsFlattend\",labelsFlattend)\n",
    "  return f1_score(labelsFlattend, predictionArgmax, average='macro'),accuracy_score(labelsFlattend, predictionArgmax)"
   ]
  },
  {
   "cell_type": "markdown",
   "metadata": {
    "colab_type": "text",
    "id": "iFA8ZOCI1HIw"
   },
   "source": []
  },
  {
   "cell_type": "code",
   "execution_count": 0,
   "metadata": {
    "colab": {},
    "colab_type": "code",
    "id": "Cn3Gp5gPddxj"
   },
   "outputs": [],
   "source": [
    "yres=[]\n",
    "finalTid=[]\n",
    "def predictingData(pTweets,ypred,tid):\n",
    "  ids_of_sentence=[]\n",
    "  predictedLabels,trueLabels=[],[]\n",
    "  \n",
    "  le = preprocessing.LabelEncoder()\n",
    "  ypredict=le.fit_transform(ypred.flatten())\n",
    "  map_location=\"\"\n",
    "  xypredict=[pTweets,ypredict,tid.flatten()]\n",
    "  \n",
    "  tdataset = GreekPredictDataset(xypredict)\n",
    "  tsampler=RandomSampler(tdataset)\n",
    "  predictdataloader = DataLoader(tdataset, batch_size=32, num_workers=1, shuffle=False,sampler=tsampler)\n",
    "  print(device.type)\n",
    "  model=bfsc.from_pretrained('bert-base-multilingual-cased',num_labels=2,output_attentions=False,output_hidden_states=False)\n",
    "  if device.type==\"cpu\":\n",
    "    model.to(device)\n",
    "    map_location='cpu'\n",
    "  else:\n",
    "    model.cuda()\n",
    "    map_location=lambda storage, loc: storage.cuda()\n",
    "  params=list(model.named_parameters())\n",
    "  eval_f1=0\n",
    "  eval_acc=0\n",
    "  nb_eval_steps=0\n",
    "  checkpoint = torch.load('/content/drive/My Drive/GreekData/auggreek1.pth.tar',map_location=map_location)\n",
    "  print(\"Hello\")\n",
    "  model.load_state_dict(checkpoint['state_dict'])\n",
    "  model.eval()\n",
    "  i=0\n",
    "  for batch in predictdataloader:\n",
    "      print(i)\n",
    "      i=i+1\n",
    "      batch = tuple(t.to(device) for t in batch)        \n",
    "      inputs = {\"input_ids\": batch[0], \"attention_mask\": batch[1], \"labels\": batch[2],\"tids\":batch[3]}\n",
    "      \n",
    "      with torch.no_grad():       \n",
    "          outputs = model(inputs[\"input_ids\"],token_type_ids=None,attention_mask=inputs[\"attention_mask\"])\n",
    "      logits = outputs[0]\n",
    "      logits = logits.detach().cpu().numpy()\n",
    "      label_ids = (inputs[\"labels\"]).to('cpu').numpy()\n",
    "      predictedLabels.append(logits)\n",
    "      trueLabels.append(label_ids)\n",
    "      tidl=(inputs[\"tids\"]).to('cpu').numpy()\n",
    "      finalTid.append(tidl)\n",
    "      tmpf1score,tmpaccscore = calculateF1Score(logits, label_ids)\n",
    "      eval_f1 = eval_f1+tmpf1score\n",
    "      eval_acc=eval_acc+tmpaccscore\n",
    "      nb_eval_steps += 1\n",
    "      \n",
    "  print(\"  F1 score: {0:.3f}\".format(eval_f1/nb_eval_steps))\n",
    "  print(\"  Accuracy score: {0:.3f}\".format(eval_acc/nb_eval_steps))\n",
    "  return predictedLabels,trueLabels,finalTid"
   ]
  },
  {
   "cell_type": "code",
   "execution_count": 0,
   "metadata": {
    "colab": {
     "base_uri": "https://localhost:8080/",
     "height": 663
    },
    "colab_type": "code",
    "id": "K4_io1hTVQfS",
    "outputId": "325b9731-cd58-4d3a-b5af-f49831fbe5b9"
   },
   "outputs": [
    {
     "name": "stdout",
     "output_type": "stream",
     "text": [
      "No GPU available using only CPU instead\n",
      "id             int64\n",
      "ypredicted    object\n",
      "dtype: object\n",
      "     id                                              tweet\n",
      "0     0                                              tweet\n",
      "1  2707  @USER Θέλω να των δω από εδώ και εμπρός αν δεν...\n",
      "2  2251  #survivorgr Α Και 60 φορές και με διαφορετικού...\n",
      "3  9814  Και μου έλεγε η γυναίκα μου το πρωί πάρε την τ...\n",
      "4  8949                   κατω τα χερια απο τον #κυρανακης\n",
      "id        int64\n",
      "tweet    object\n",
      "dtype: object\n",
      "(1545, 2)\n",
      "     id                                              tweet ypredicted\n",
      "0  2707  @USER Θέλω να των δω από εδώ και εμπρός αν δεν...        NOT\n",
      "1  2251  #survivorgr Α Και 60 φορές και με διαφορετικού...        NOT\n",
      "2  9814  Και μου έλεγε η γυναίκα μου το πρωί πάρε την τ...        NOT\n",
      "3  8949                   κατω τα χερια απο τον #κυρανακης        NOT\n",
      "4  6913  @USER μην μας το παιζεις πονοψυχη,κρυφορατσιστ...        NOT\n",
      "id             int64\n",
      "tweet         object\n",
      "ypredicted    object\n",
      "dtype: object\n",
      "(1544, 3)\n",
      "     id                                              tweet ypredicted\n",
      "0  2707  @USER Θέλω να των δω από εδώ και εμπρός αν δεν...        NOT\n",
      "1  2251  #survivorgr Α Και 60 φορές και με διαφορετικού...        NOT\n",
      "2  9814  Και μου έλεγε η γυναίκα μου το πρωί πάρε την τ...        NOT\n",
      "3  8949                   κατω τα χερια απο τον #κυρανακης        NOT\n",
      "4  6913  @USER μην μας το παιζεις πονοψυχη,κρυφορατσιστ...        NOT\n",
      "[[2707]\n",
      " [2251]\n",
      " [9814]\n",
      " ...\n",
      " [2679]\n",
      " [3801]\n",
      " [3868]]\n"
     ]
    }
   ],
   "source": [
    "gpuname,device=initGpus1()  \n",
    "preprocessedTweets,y,tid=readData1()\n"
   ]
  },
  {
   "cell_type": "code",
   "execution_count": 27,
   "metadata": {
    "colab": {
     "base_uri": "https://localhost:8080/",
     "height": 34
    },
    "colab_type": "code",
    "id": "sxsiW800L5FX",
    "outputId": "ce233b23-8609-4ba0-8233-a4c387b02eb7"
   },
   "outputs": [
    {
     "data": {
      "text/plain": [
       "device(type='cpu')"
      ]
     },
     "execution_count": 27,
     "metadata": {
      "tags": []
     },
     "output_type": "execute_result"
    }
   ],
   "source": [
    "device"
   ]
  },
  {
   "cell_type": "code",
   "execution_count": 28,
   "metadata": {
    "colab": {
     "base_uri": "https://localhost:8080/",
     "height": 1000,
     "referenced_widgets": [
      "ffab93c56adc4dc19f9482818cee381e",
      "20bda1f30b3d43f4ab47371e8e2de822",
      "bcf275186f9b4df3a6d6160121337af5",
      "99f492aee2bb4ef48218b3ee8942f1c3",
      "52a5bd0e17b64690a12ac4f64cb0b16f",
      "bf3285381a5b4d24870199f2da660172",
      "a1dff888739d4b54992139f0a3a8c9ca",
      "174be95b67f544ad85b8a7ff95a9112e",
      "97d104c8937e4385a3d665ce406da292",
      "4dcc078763844f13b0324c228a55d5d7",
      "7a4c888939d943aca46137c3b5dc1152",
      "7f7df72d85dd4491898517f3cef4eaff",
      "8ea04927e1394140a9fe682c60f39cea",
      "4872a6c95cd94b868037acbda2ba2831",
      "d935bf7a814f46c7ae8a564553cda0d1",
      "19a1da74578443ec9ecc42ee9f3a77fc"
     ]
    },
    "colab_type": "code",
    "id": "MhOXHNfM9QA4",
    "outputId": "4c8cf077-97fb-4797-cccf-1d58c8360c41"
   },
   "outputs": [
    {
     "name": "stdout",
     "output_type": "stream",
     "text": [
      "cpu\n"
     ]
    },
    {
     "data": {
      "application/vnd.jupyter.widget-view+json": {
       "model_id": "ffab93c56adc4dc19f9482818cee381e",
       "version_major": 2,
       "version_minor": 0
      },
      "text/plain": [
       "HBox(children=(IntProgress(value=0, description='Downloading', max=625, style=ProgressStyle(description_width=…"
      ]
     },
     "metadata": {
      "tags": []
     },
     "output_type": "display_data"
    },
    {
     "name": "stdout",
     "output_type": "stream",
     "text": [
      "\n"
     ]
    },
    {
     "data": {
      "application/vnd.jupyter.widget-view+json": {
       "model_id": "97d104c8937e4385a3d665ce406da292",
       "version_major": 2,
       "version_minor": 0
      },
      "text/plain": [
       "HBox(children=(IntProgress(value=0, description='Downloading', max=714314041, style=ProgressStyle(description_…"
      ]
     },
     "metadata": {
      "tags": []
     },
     "output_type": "display_data"
    },
    {
     "name": "stdout",
     "output_type": "stream",
     "text": [
      "\n",
      "Hello\n",
      "0\n",
      "predictionArgmax [0 0 0 1 0 0 0 1 0 0 0 0 0 1 1 1 0 0 1 0 0 0 0 0 1 0 0 1 0 1 0 0]\n",
      "labelsFlattend [0 0 0 0 0 0 0 0 0 0 0 0 0 1 0 1 0 0 0 0 0 0 0 0 1 0 0 0 0 0 0 0]\n",
      "1\n",
      "predictionArgmax [0 0 0 0 1 0 1 0 1 0 1 0 1 1 1 0 0 0 1 1 0 0 0 1 1 0 1 0 0 1 0 0]\n",
      "labelsFlattend [0 0 0 0 1 0 1 0 1 0 1 0 0 0 1 0 0 1 0 1 0 0 0 1 1 0 0 0 0 1 0 0]\n",
      "2\n",
      "predictionArgmax [0 0 0 1 0 1 0 0 0 0 1 0 0 1 0 0 0 0 0 0 0 0 0 0 0 0 0 1 1 1 1 0]\n",
      "labelsFlattend [0 0 0 0 0 1 0 0 0 0 1 0 0 0 0 0 0 0 0 0 0 0 0 0 0 0 0 1 1 0 0 0]\n",
      "3\n",
      "predictionArgmax [0 0 1 1 0 0 0 1 0 0 1 1 0 1 0 0 1 0 0 0 0 1 0 0 0 0 0 0 0 0 0 0]\n",
      "labelsFlattend [0 0 0 0 0 0 0 1 0 0 1 1 0 1 0 0 1 0 0 0 0 0 0 0 0 0 0 0 0 0 0 0]\n",
      "4\n",
      "predictionArgmax [1 0 0 0 0 0 0 1 0 0 1 1 1 0 0 1 0 0 0 0 1 0 1 0 0 0 0 0 0 0 0 0]\n",
      "labelsFlattend [0 0 0 0 0 0 0 0 1 0 1 1 0 0 0 1 0 0 0 0 1 0 0 0 0 0 0 0 0 0 0 0]\n",
      "5\n",
      "predictionArgmax [0 1 1 0 0 0 1 0 0 0 0 1 0 0 1 0 0 0 0 0 0 0 1 0 1 1 0 0 0 0 0 1]\n",
      "labelsFlattend [0 0 1 0 0 0 0 0 0 1 0 0 0 0 1 0 0 0 0 0 0 0 0 0 1 0 0 0 0 0 0 1]\n",
      "6\n",
      "predictionArgmax [0 0 0 0 0 1 0 0 0 1 0 0 0 0 0 0 0 0 0 0 1 1 0 0 0 0 0 0 1 0 1 0]\n",
      "labelsFlattend [0 0 0 0 0 0 0 0 0 1 0 0 0 0 0 0 0 0 0 0 1 1 0 0 0 0 0 0 1 0 0 0]\n",
      "7\n",
      "predictionArgmax [1 0 0 0 0 1 0 0 0 1 0 0 0 0 1 0 0 0 1 0 0 1 1 0 0 0 0 1 0 0 0 0]\n",
      "labelsFlattend [0 0 0 0 0 0 0 0 0 1 0 0 0 0 1 0 0 0 0 0 0 1 0 0 0 0 0 0 0 0 0 0]\n",
      "8\n",
      "predictionArgmax [1 0 0 1 1 0 1 0 0 0 0 1 1 0 1 0 0 0 0 0 0 1 1 0 0 0 0 0 0 0 1 0]\n",
      "labelsFlattend [0 0 0 1 0 0 0 0 0 0 0 1 0 0 1 0 0 0 0 0 0 1 0 0 0 0 0 0 0 0 0 0]\n",
      "9\n",
      "predictionArgmax [0 0 0 1 0 0 1 1 0 0 0 0 0 0 0 0 0 1 0 0 0 1 0 0 0 1 1 1 0 1 0 1]\n",
      "labelsFlattend [0 0 0 0 0 0 1 1 0 0 0 0 0 0 0 0 0 0 0 0 0 0 0 0 0 0 0 0 0 1 0 0]\n",
      "10\n",
      "predictionArgmax [1 1 1 1 0 1 0 0 0 1 0 0 1 1 0 0 0 1 1 0 0 1 0 0 0 0 0 0 1 0 1 1]\n",
      "labelsFlattend [1 1 0 1 0 1 0 0 0 1 0 0 0 1 0 0 0 0 0 0 0 0 0 0 0 0 0 0 1 0 1 1]\n",
      "11\n",
      "predictionArgmax [0 1 0 0 0 0 1 0 1 0 0 1 0 0 0 0 0 1 0 0 0 1 1 1 0 0 0 0 1 0 0 1]\n",
      "labelsFlattend [0 0 1 0 0 0 0 0 1 0 0 1 0 0 0 0 0 0 0 0 0 0 1 0 0 0 0 0 0 0 0 1]\n",
      "12\n",
      "predictionArgmax [0 0 0 0 0 1 1 0 0 0 0 0 1 0 0 1 0 1 0 0 1 0 0 0 0 0 1 1 0 1 0 1]\n",
      "labelsFlattend [0 0 0 0 0 0 0 0 0 0 0 0 1 0 0 0 1 1 0 0 0 0 0 0 0 0 1 0 0 0 0 0]\n",
      "13\n",
      "predictionArgmax [1 1 0 0 1 0 0 0 0 1 0 0 1 0 0 1 0 0 0 0 1 0 0 0 1 0 1 0 0 1 0 0]\n",
      "labelsFlattend [1 1 0 0 0 0 0 0 0 1 0 0 0 0 0 1 0 1 0 0 0 0 0 0 0 0 0 0 0 0 0 0]\n",
      "14\n",
      "predictionArgmax [0 0 1 0 0 0 0 1 0 1 0 1 1 0 0 0 0 1 1 0 0 1 0 0 0 1 0 0 1 0 0 0]\n",
      "labelsFlattend [0 0 1 0 0 0 1 1 0 1 0 1 0 0 0 0 0 0 1 0 0 1 0 0 0 0 0 0 1 0 0 0]\n",
      "15\n",
      "predictionArgmax [0 1 1 0 0 0 1 0 0 0 0 0 0 1 1 0 1 0 0 0 1 0 0 0 0 1 0 0 1 0 1 1]\n",
      "labelsFlattend [0 1 1 0 0 0 0 0 0 0 0 0 0 0 0 0 1 0 0 0 1 0 0 0 0 0 0 0 0 0 0 0]\n",
      "16\n",
      "predictionArgmax [1 0 1 0 0 0 1 0 0 0 0 0 0 0 0 1 0 1 0 0 0 0 0 0 0 0 0 0 0 0 0 0]\n",
      "labelsFlattend [1 0 0 0 0 0 1 0 0 0 0 0 0 0 0 0 0 1 0 0 0 0 0 0 0 0 0 0 0 0 0 0]\n",
      "17\n",
      "predictionArgmax [0 0 0 0 1 1 0 0 0 0 0 0 1 1 0 0 0 0 0 1 1 0 0 0 1 1 0 0 1 0 1 0]\n",
      "labelsFlattend [0 0 0 0 1 0 0 0 0 0 0 0 0 0 0 0 0 0 0 0 1 0 0 0 1 0 0 0 0 0 0 1]\n",
      "18\n",
      "predictionArgmax [0 0 1 1 1 0 1 1 0 0 1 0 1 1 0 0 0 0 0 1 1 0 0 0 0 0 1 0 0 0 1 0]\n",
      "labelsFlattend [0 0 0 1 0 0 0 1 0 0 1 0 0 0 0 0 0 0 0 1 1 0 0 0 0 0 1 0 0 0 0 0]\n",
      "19\n",
      "predictionArgmax [0 1 1 0 1 1 1 1 0 1 0 0 0 0 0 1 0 0 0 0 0 1 0 0 0 0 0 0 1 0 0 0]\n",
      "labelsFlattend [0 0 0 0 1 1 1 1 0 0 0 0 0 0 0 0 0 0 0 0 0 0 0 0 0 0 0 0 1 0 0 0]\n",
      "20\n",
      "predictionArgmax [1 1 0 1 1 0 1 0 0 0 0 0 1 0 0 0 0 0 1 1 0 0 1 0 1 0 1 0 0 0 0 0]\n",
      "labelsFlattend [1 0 0 1 1 0 0 0 0 0 0 0 1 0 0 0 0 0 1 1 0 0 1 0 1 0 0 0 0 0 0 0]\n",
      "21\n",
      "predictionArgmax [0 0 0 0 0 0 0 0 0 0 1 0 0 0 0 0 0 0 0 0 0 0 1 0 0 0 0 0 0 0 1 0]\n",
      "labelsFlattend [0 0 0 0 0 0 0 0 0 0 0 0 0 0 0 0 0 0 0 0 0 0 0 0 1 0 0 0 0 0 0 0]\n",
      "22\n",
      "predictionArgmax [0 0 0 1 0 1 1 0 1 0 0 0 1 1 0 0 0 0 0 0 0 0 1 0 0 0 0 0 0 1 1 0]\n",
      "labelsFlattend [0 0 0 0 0 1 0 0 0 0 0 0 0 0 0 0 0 0 0 0 0 0 0 0 0 0 0 0 0 1 1 0]\n",
      "23\n",
      "predictionArgmax [0 0 0 1 1 0 0 0 1 0 0 0 0 0 1 0 0 0 1 0 0 0 0 0 0 0 1 0 0 0 0 0]\n",
      "labelsFlattend [0 0 0 1 1 0 0 0 0 0 0 0 0 0 1 0 0 0 0 0 0 0 0 0 0 0 1 0 0 0 1 0]\n",
      "24\n",
      "predictionArgmax [0 0 0 0 1 1 0 0 0 0 1 0 0 0 1 0 0 0 0 1 1 0 0 1 1 0 0 0 0 1 1 1]\n",
      "labelsFlattend [0 0 0 0 0 0 0 0 0 0 0 0 0 0 1 0 0 0 0 0 0 0 0 1 0 0 0 0 0 1 1 0]\n",
      "25\n",
      "predictionArgmax [1 0 0 0 1 0 0 1 0 0 0 0 0 0 0 0 0 0 1 1 1 0 0 0 1 0 1 0 0 1 0 1]\n",
      "labelsFlattend [1 0 0 0 0 0 0 0 0 0 0 0 0 0 0 0 0 0 0 0 1 0 0 0 0 0 1 0 0 0 0 1]\n",
      "26\n",
      "predictionArgmax [0 0 1 1 0 0 1 0 1 0 0 0 0 0 0 0 1 0 1 0 0 1 0 0 0 0 1 0 1 0 1 0]\n",
      "labelsFlattend [0 0 1 1 0 0 0 0 1 0 0 0 0 0 0 0 1 0 1 0 0 0 0 0 0 0 1 0 1 1 0 0]\n",
      "27\n",
      "predictionArgmax [0 0 0 0 0 0 0 1 0 0 0 0 1 0 0 0 1 0 1 0 1 0 0 0 0 0 0 0 0 1 0 0]\n",
      "labelsFlattend [0 0 0 0 0 0 0 0 0 0 0 0 1 0 0 0 0 0 1 0 1 0 0 0 0 0 0 0 0 0 0 0]\n",
      "28\n",
      "predictionArgmax [0 1 0 0 0 1 0 0 0 0 0 0 0 0 1 1 1 1 1 0 1 0 0 1 0 0 0 0 0 0 0 0]\n",
      "labelsFlattend [0 1 0 0 0 1 0 0 0 0 0 0 0 0 1 0 1 1 0 0 0 0 0 1 0 0 0 0 0 0 0 0]\n",
      "29\n",
      "predictionArgmax [0 0 0 0 0 0 0 0 1 0 0 0 0 0 0 1 0 1 0 1 1 0 0 0 0 0 0 0 0 0 0 0]\n",
      "labelsFlattend [0 0 0 0 0 0 0 0 0 0 0 0 0 0 0 1 0 1 0 0 1 0 0 0 0 0 0 0 0 0 0 0]\n",
      "30\n",
      "predictionArgmax [1 1 0 1 0 0 1 0 0 0 0 0 1 0 1 0 1 1 0 1 0 1 0 1 1 0 0 0 0 0 0 1]\n",
      "labelsFlattend [0 1 0 0 0 0 1 0 0 0 0 0 0 0 1 0 0 0 0 0 0 0 0 1 1 0 0 0 0 0 0 0]\n",
      "31\n",
      "predictionArgmax [0 1 1 0 1 0 0 0 0 0 0 0 1 1 0 0 0 0 0 0 1 1 1 0 0 1 1 0 0 0 0 0]\n",
      "labelsFlattend [0 0 1 0 1 0 0 0 0 0 0 0 0 1 0 0 0 0 0 0 0 0 0 0 0 0 0 0 0 0 0 0]\n",
      "32\n",
      "predictionArgmax [0 1 0 1 1 1 0 1 0 0 0 1 0 0 0 0 0 0 0 0 0 0 0 0 0 0 0 1 0 1 0 0]\n",
      "labelsFlattend [0 1 0 1 0 1 0 1 0 0 0 1 0 0 0 0 0 0 0 0 0 0 0 1 0 0 0 1 0 0 0 0]\n",
      "33\n",
      "predictionArgmax [1 1 1 1 0 1 0 1 1 0 0 1 0 0 0 1 1 0 0 0 0 0 0 0 0 0 1 0 0 0 0 0]\n",
      "labelsFlattend [0 0 1 1 0 1 0 1 0 1 0 1 0 0 0 0 0 0 0 0 0 0 0 0 0 0 0 0 0 0 0 0]\n",
      "34\n",
      "predictionArgmax [0 1 1 1 1 1 1 0 0 1 0 0 0 0 1 0 0 0 0 0 1 0 1 0 0 1 0 0 0 0 0 0]\n",
      "labelsFlattend [0 0 0 1 1 0 0 0 0 0 0 0 0 0 1 0 0 0 0 0 0 0 1 0 0 1 0 0 0 0 0 1]\n",
      "35\n",
      "predictionArgmax [0 0 0 0 1 0 0 0 0 0 0 0 0 0 0 0 0 1 0 0 1 1 1 0 1 1 0 0 0 0 1 0]\n",
      "labelsFlattend [0 0 0 0 1 0 0 0 0 0 0 0 0 0 0 0 0 1 0 0 0 1 0 0 1 0 0 0 0 0 1 0]\n",
      "36\n",
      "predictionArgmax [0 1 0 0 0 1 0 0 0 0 0 0 0 1 0 1 0 1 0 0 0 1 0 0 1 0 1 0 0 0 0 0]\n",
      "labelsFlattend [0 1 0 0 0 1 0 0 0 0 0 0 0 0 0 1 0 1 0 0 0 1 0 0 1 0 1 0 0 1 0 0]\n",
      "37\n",
      "predictionArgmax [1 0 0 0 0 1 0 0 0 0 0 0 0 0 0 0 1 0 0 0 1 0 0 0 0 1 0 0 0 0 1 0]\n",
      "labelsFlattend [1 0 0 0 0 1 0 0 0 0 0 0 0 0 0 0 0 0 0 0 0 0 0 0 0 1 0 0 0 0 1 1]\n",
      "38\n",
      "predictionArgmax [1 0 1 0 1 0 0 0 0 1 1 0 0 1 0 0 0 1 0 0 1 0 0 1 0 0 1 0 1 1 1 0]\n",
      "labelsFlattend [1 0 1 0 1 0 0 0 0 1 0 0 0 0 0 0 0 0 0 0 0 0 0 0 0 0 1 0 1 1 0 0]\n",
      "39\n",
      "predictionArgmax [0 0 0 0 0 0 0 1 0 1 1 0 0 0 0 1 0 0 1 0 0 0 0 0 1 0 0 0 0 1 0 0]\n",
      "labelsFlattend [0 0 0 0 0 0 0 0 0 0 0 0 0 0 0 1 0 0 0 0 0 0 0 0 0 0 0 0 0 0 0 0]\n",
      "40\n",
      "predictionArgmax [0 0 0 1 1 1 0 0 1 1 0 0 1 1 0 0 0 1 0 1 1 1 1 1 1 0 1 0 0 0 0 0]\n",
      "labelsFlattend [0 0 0 1 0 0 0 0 1 1 0 0 0 0 0 0 0 1 0 1 0 1 0 1 1 0 1 0 0 0 0 0]\n",
      "41\n",
      "predictionArgmax [0 0 0 1 0 1 1 0 0 1 1 0 0 0 0 0 0 0 0 1 0 0 0 1 0 1 1 0 0 0 1 0]\n",
      "labelsFlattend [0 0 0 0 0 0 0 0 0 1 0 0 0 0 0 0 0 0 0 1 0 0 0 1 0 1 1 0 0 0 1 0]\n",
      "42\n",
      "predictionArgmax [1 1 0 0 0 1 0 0 0 0 1 0 1 1 0 0 0 0 0 1 1 0 1 1 0 0 0 0 0 0 1 1]\n",
      "labelsFlattend [0 0 0 0 0 1 0 0 0 0 1 0 1 0 0 0 0 0 0 0 0 0 1 0 0 0 0 0 0 0 0 1]\n",
      "43\n",
      "predictionArgmax [0 0 0 0 0 0 1 0 1 1 0 1 0 0 1 0 0 0 0 0 0 0 1 0 0 1 0 0 0 0 0 1]\n",
      "labelsFlattend [0 0 0 0 0 0 1 0 0 0 0 0 0 0 0 0 0 0 0 0 0 0 0 0 0 1 0 0 0 0 0 0]\n",
      "44\n",
      "predictionArgmax [1 0 0 0 0 0 0 0 0 0 1 0 1 1 0 0 0 0 0 1 0 0 1 0 1 0 0 1 1 0 0 0]\n",
      "labelsFlattend [1 0 0 0 0 0 0 0 0 0 1 0 0 1 0 0 0 0 0 1 0 0 1 0 0 0 0 1 1 0 0 0]\n",
      "45\n",
      "predictionArgmax [0 1 0 0 0 0 0 1 0 1 0 0 1 0 0 0 0 0 0 0 0 0 0 0 0 0 0 0 0 1 0 1]\n",
      "labelsFlattend [0 0 0 0 0 0 0 0 0 1 0 0 1 0 0 0 0 0 0 0 0 0 0 0 0 0 0 0 0 1 0 1]\n",
      "46\n",
      "predictionArgmax [1 0 0 1 1 0 1 0 1 0 0 0 0 0 0 0 0 1 0 0 1 0 0 0 0 0 0 1 0 0 0 0]\n",
      "labelsFlattend [0 0 0 1 1 0 0 0 1 0 0 0 0 0 0 0 0 1 0 0 1 0 0 0 0 0 0 0 0 0 0 0]\n",
      "47\n",
      "predictionArgmax [0 0 0 0 0 0 1 0 0 0 1 0 0 0 1 0 0 0 0 1 0 0 1 1 1 1 0 0 0 0 0 0]\n",
      "labelsFlattend [0 0 0 0 1 0 1 0 0 0 1 0 0 0 1 0 0 0 0 0 0 0 1 0 0 1 0 0 0 0 0 0]\n",
      "48\n",
      "predictionArgmax [1 1 0 0 0 0 0 0]\n",
      "labelsFlattend [0 0 0 1 0 0 0 0]\n",
      "  F1 score: 0.760\n",
      "  Accuracy score: 0.842\n"
     ]
    }
   ],
   "source": [
    "predictedLabels,trueLabels,finalTid=predictingData(preprocessedTweets,y,tid)\n"
   ]
  },
  {
   "cell_type": "code",
   "execution_count": 0,
   "metadata": {
    "colab": {},
    "colab_type": "code",
    "id": "OCzkkNBCHOD1"
   },
   "outputs": [],
   "source": [
    "yans=[yres[i].flatten().tolist() for i in range(len(yres))]\n",
    "ytrue=[trueLabels[i].flatten().tolist() for i in range(len(trueLabels))]\n",
    "ytid=[finalTid[i].flatten().tolist() for i in range(len(finalTid))]"
   ]
  },
  {
   "cell_type": "code",
   "execution_count": 0,
   "metadata": {
    "colab": {},
    "colab_type": "code",
    "id": "YmKzCBIKKxSj"
   },
   "outputs": [],
   "source": [
    "from itertools import chain\n",
    "\n",
    "yans=list(chain.from_iterable(yans))\n",
    "\n",
    "ytrue=list(chain.from_iterable(ytrue))\n",
    "\n",
    "ytid=list(chain.from_iterable(ytid))"
   ]
  },
  {
   "cell_type": "code",
   "execution_count": 31,
   "metadata": {
    "colab": {
     "base_uri": "https://localhost:8080/",
     "height": 34
    },
    "colab_type": "code",
    "id": "Mf1PIY9GX1jn",
    "outputId": "7409c047-cd25-4e43-c8b8-3eedfe59f693"
   },
   "outputs": [
    {
     "data": {
      "text/plain": [
       "{0, 1}"
      ]
     },
     "execution_count": 31,
     "metadata": {
      "tags": []
     },
     "output_type": "execute_result"
    }
   ],
   "source": [
    "set(yans)"
   ]
  },
  {
   "cell_type": "code",
   "execution_count": 0,
   "metadata": {
    "colab": {},
    "colab_type": "code",
    "id": "FBpyaj-qR6O_"
   },
   "outputs": [],
   "source": [
    "yans1=[\"NOT\" if yans[i]==0 else \"OFF\" for i in range(len(yans))]\n",
    "ytrue1=[\"NOT\" if ytrue[i]==0 else \"OFF\" for i in range(len(ytrue))]\n"
   ]
  },
  {
   "cell_type": "code",
   "execution_count": 33,
   "metadata": {
    "colab": {
     "base_uri": "https://localhost:8080/",
     "height": 34
    },
    "colab_type": "code",
    "id": "mElmcTp4Ra4I",
    "outputId": "b6982151-715e-4875-f69c-58df4b9cecd4"
   },
   "outputs": [
    {
     "data": {
      "text/plain": [
       "True"
      ]
     },
     "execution_count": 33,
     "metadata": {
      "tags": []
     },
     "output_type": "execute_result"
    }
   ],
   "source": [
    "2707 in ytid"
   ]
  },
  {
   "cell_type": "code",
   "execution_count": 34,
   "metadata": {
    "colab": {
     "base_uri": "https://localhost:8080/",
     "height": 51
    },
    "colab_type": "code",
    "id": "hS7QU2mfXwtS",
    "outputId": "6fa303ea-24cf-43f2-df68-732859d1cffe"
   },
   "outputs": [
    {
     "name": "stdout",
     "output_type": "stream",
     "text": [
      "444\n",
      "1100\n"
     ]
    }
   ],
   "source": [
    "print(yans1.count(\"OFF\"))\n",
    "print(yans1.count(\"NOT\"))"
   ]
  },
  {
   "cell_type": "code",
   "execution_count": 35,
   "metadata": {
    "colab": {
     "base_uri": "https://localhost:8080/",
     "height": 51
    },
    "colab_type": "code",
    "id": "Q4njKKBAB2iY",
    "outputId": "2ef6f1d0-5300-469a-f956-aad2f2a34abb"
   },
   "outputs": [
    {
     "name": "stdout",
     "output_type": "stream",
     "text": [
      "242\n",
      "1302\n"
     ]
    }
   ],
   "source": [
    "print(ytrue1.count(\"OFF\"))\n",
    "print(ytrue1.count(\"NOT\"))"
   ]
  },
  {
   "cell_type": "code",
   "execution_count": 36,
   "metadata": {
    "colab": {
     "base_uri": "https://localhost:8080/",
     "height": 51
    },
    "colab_type": "code",
    "id": "4lIDjCIxe99f",
    "outputId": "826d6a76-32ce-4e0a-c1b8-26254a701d08"
   },
   "outputs": [
    {
     "name": "stdout",
     "output_type": "stream",
     "text": [
      "[[ 224   18]\n",
      " [ 220 1082]]\n"
     ]
    }
   ],
   "source": [
    "from sklearn.metrics import confusion_matrix\n",
    "cnf=confusion_matrix(ytrue1, yans1, labels=['OFF', 'NOT'])\n",
    "print(cnf)"
   ]
  },
  {
   "cell_type": "code",
   "execution_count": 37,
   "metadata": {
    "colab": {
     "base_uri": "https://localhost:8080/",
     "height": 329
    },
    "colab_type": "code",
    "id": "fmYAUCNve91k",
    "outputId": "26ceea9f-c29e-4b38-9508-fef8b09878b7"
   },
   "outputs": [
    {
     "name": "stderr",
     "output_type": "stream",
     "text": [
      "/usr/local/lib/python3.6/dist-packages/statsmodels/tools/_testing.py:19: FutureWarning: pandas.util.testing is deprecated. Use the functions in the public API at pandas.testing instead.\n",
      "  import pandas.util.testing as tm\n"
     ]
    },
    {
     "data": {
      "image/png": "[encoded data removed]",
      "text/plain": [
       "<Figure size 432x288 with 2 Axes>"
      ]
     },
     "metadata": {
      "tags": []
     },
     "output_type": "display_data"
    }
   ],
   "source": [
    "import seaborn as sn\n",
    "import pandas as pd\n",
    "import matplotlib.pyplot as plt\n",
    "\n",
    "\n",
    "\n",
    "df_cm = pd.DataFrame(cnf,['OFF', 'NOT'], ['OFF', 'NOT'])\n",
    "# plt.figure(figsize=(10,7))\n",
    "sn.set(font_scale=1.4) # for label size\n",
    "sn.heatmap(df_cm, annot=True,fmt='.2f') # font size\n",
    "plt.xlabel(\"Predicted Labels\")\n",
    "plt.ylabel(\"True Labels\")\n",
    "\n",
    "plt.show()"
   ]
  },
  {
   "cell_type": "code",
   "execution_count": 38,
   "metadata": {
    "colab": {
     "base_uri": "https://localhost:8080/",
     "height": 51
    },
    "colab_type": "code",
    "id": "3QqLKnX38zqX",
    "outputId": "14a9dc4a-ae10-46bc-c0bc-1718d6c4f11c"
   },
   "outputs": [
    {
     "name": "stdout",
     "output_type": "stream",
     "text": [
      "       id predicted given\n",
      "852  2707       NOT   NOT\n"
     ]
    }
   ],
   "source": [
    "#z={'tweet':sentence_predict[],'subtask_a':y_predict}\n",
    "#print(len(z))\n",
    "C = {'id': ytid,\n",
    "        'predicted': yans1,\n",
    "     'given':ytrue1\n",
    "    }\n",
    "df = pd.DataFrame(C)\n",
    "print (df[df['id'] == 2707] )\n",
    "\n",
    "export_csv = df.to_csv ('/content/drive/My Drive/GreekData/GreekAnswerSubtaska.csv', index = None, header=True)\n",
    "\n"
   ]
  },
  {
   "cell_type": "code",
   "execution_count": 39,
   "metadata": {
    "colab": {
     "base_uri": "https://localhost:8080/",
     "height": 51
    },
    "colab_type": "code",
    "id": "r813m40jGdih",
    "outputId": "6bc27312-0ee0-4525-d336-3847978d63a3"
   },
   "outputs": [
    {
     "name": "stdout",
     "output_type": "stream",
     "text": [
      "       id predicted\n",
      "852  2707       NOT\n"
     ]
    }
   ],
   "source": [
    "#z={'tweet':sentence_predict[],'subtask_a':y_predict}\n",
    "#print(len(z))\n",
    "C = {'id': ytid,\n",
    "        'predicted': yans1,\n",
    "    }\n",
    "df = pd.DataFrame(C)\n",
    "print (df[df['id'] == 2707] )\n",
    "\n",
    "export_csv = df.to_csv ('/content/drive/My Drive/GreekData/GreekAnswerSubtaskaFinal.csv', index = None, header=False)\n",
    "\n"
   ]
  }
 ],
 "metadata": {
  "colab": {
   "collapsed_sections": [],
   "machine_shape": "hm",
   "name": "AUGMENTEDAnalysisCodalab1Greek.ipynb",
   "provenance": []
  },
  "kernelspec": {
   "display_name": "Python 3",
   "language": "python",
   "name": "python3"
  },
  "language_info": {
   "codemirror_mode": {
    "name": "ipython",
    "version": 3
   },
   "file_extension": ".py",
   "mimetype": "text/x-python",
   "name": "python",
   "nbconvert_exporter": "python",
   "pygments_lexer": "ipython3",
   "version": "3.6.9"
  },
  "widgets": {
   "application/vnd.jupyter.widget-state+json": {
    "003ee9c984cc49319702f457389f72f6": {
     "model_module": "@jupyter-widgets/base",
     "model_name": "LayoutModel",
     "state": {
      "_model_module": "@jupyter-widgets/base",
      "_model_module_version": "1.2.0",
      "_model_name": "LayoutModel",
      "_view_count": null,
      "_view_module": "@jupyter-widgets/base",
      "_view_module_version": "1.2.0",
      "_view_name": "LayoutView",
      "align_content": null,
      "align_items": null,
      "align_self": null,
      "border": null,
      "bottom": null,
      "display": null,
      "flex": null,
      "flex_flow": null,
      "grid_area": null,
      "grid_auto_columns": null,
      "grid_auto_flow": null,
      "grid_auto_rows": null,
      "grid_column": null,
      "grid_gap": null,
      "grid_row": null,
      "grid_template_areas": null,
      "grid_template_columns": null,
      "grid_template_rows": null,
      "height": null,
      "justify_content": null,
      "justify_items": null,
      "left": null,
      "margin": null,
      "max_height": null,
      "max_width": null,
      "min_height": null,
      "min_width": null,
      "object_fit": null,
      "object_position": null,
      "order": null,
      "overflow": null,
      "overflow_x": null,
      "overflow_y": null,
      "padding": null,
      "right": null,
      "top": null,
      "visibility": null,
      "width": null
     }
    },
    "174be95b67f544ad85b8a7ff95a9112e": {
     "model_module": "@jupyter-widgets/base",
     "model_name": "LayoutModel",
     "state": {
      "_model_module": "@jupyter-widgets/base",
      "_model_module_version": "1.2.0",
      "_model_name": "LayoutModel",
      "_view_count": null,
      "_view_module": "@jupyter-widgets/base",
      "_view_module_version": "1.2.0",
      "_view_name": "LayoutView",
      "align_content": null,
      "align_items": null,
      "align_self": null,
      "border": null,
      "bottom": null,
      "display": null,
      "flex": null,
      "flex_flow": null,
      "grid_area": null,
      "grid_auto_columns": null,
      "grid_auto_flow": null,
      "grid_auto_rows": null,
      "grid_column": null,
      "grid_gap": null,
      "grid_row": null,
      "grid_template_areas": null,
      "grid_template_columns": null,
      "grid_template_rows": null,
      "height": null,
      "justify_content": null,
      "justify_items": null,
      "left": null,
      "margin": null,
      "max_height": null,
      "max_width": null,
      "min_height": null,
      "min_width": null,
      "object_fit": null,
      "object_position": null,
      "order": null,
      "overflow": null,
      "overflow_x": null,
      "overflow_y": null,
      "padding": null,
      "right": null,
      "top": null,
      "visibility": null,
      "width": null
     }
    },
    "19a1da74578443ec9ecc42ee9f3a77fc": {
     "model_module": "@jupyter-widgets/base",
     "model_name": "LayoutModel",
     "state": {
      "_model_module": "@jupyter-widgets/base",
      "_model_module_version": "1.2.0",
      "_model_name": "LayoutModel",
      "_view_count": null,
      "_view_module": "@jupyter-widgets/base",
      "_view_module_version": "1.2.0",
      "_view_name": "LayoutView",
      "align_content": null,
      "align_items": null,
      "align_self": null,
      "border": null,
      "bottom": null,
      "display": null,
      "flex": null,
      "flex_flow": null,
      "grid_area": null,
      "grid_auto_columns": null,
      "grid_auto_flow": null,
      "grid_auto_rows": null,
      "grid_column": null,
      "grid_gap": null,
      "grid_row": null,
      "grid_template_areas": null,
      "grid_template_columns": null,
      "grid_template_rows": null,
      "height": null,
      "justify_content": null,
      "justify_items": null,
      "left": null,
      "margin": null,
      "max_height": null,
      "max_width": null,
      "min_height": null,
      "min_width": null,
      "object_fit": null,
      "object_position": null,
      "order": null,
      "overflow": null,
      "overflow_x": null,
      "overflow_y": null,
      "padding": null,
      "right": null,
      "top": null,
      "visibility": null,
      "width": null
     }
    },
    "20bda1f30b3d43f4ab47371e8e2de822": {
     "model_module": "@jupyter-widgets/base",
     "model_name": "LayoutModel",
     "state": {
      "_model_module": "@jupyter-widgets/base",
      "_model_module_version": "1.2.0",
      "_model_name": "LayoutModel",
      "_view_count": null,
      "_view_module": "@jupyter-widgets/base",
      "_view_module_version": "1.2.0",
      "_view_name": "LayoutView",
      "align_content": null,
      "align_items": null,
      "align_self": null,
      "border": null,
      "bottom": null,
      "display": null,
      "flex": null,
      "flex_flow": null,
      "grid_area": null,
      "grid_auto_columns": null,
      "grid_auto_flow": null,
      "grid_auto_rows": null,
      "grid_column": null,
      "grid_gap": null,
      "grid_row": null,
      "grid_template_areas": null,
      "grid_template_columns": null,
      "grid_template_rows": null,
      "height": null,
      "justify_content": null,
      "justify_items": null,
      "left": null,
      "margin": null,
      "max_height": null,
      "max_width": null,
      "min_height": null,
      "min_width": null,
      "object_fit": null,
      "object_position": null,
      "order": null,
      "overflow": null,
      "overflow_x": null,
      "overflow_y": null,
      "padding": null,
      "right": null,
      "top": null,
      "visibility": null,
      "width": null
     }
    },
    "360c5ebc66614fe381a43fefd2074704": {
     "model_module": "@jupyter-widgets/controls",
     "model_name": "ProgressStyleModel",
     "state": {
      "_model_module": "@jupyter-widgets/controls",
      "_model_module_version": "1.5.0",
      "_model_name": "ProgressStyleModel",
      "_view_count": null,
      "_view_module": "@jupyter-widgets/base",
      "_view_module_version": "1.2.0",
      "_view_name": "StyleView",
      "bar_color": null,
      "description_width": "initial"
     }
    },
    "3da361533c4745cfbe0a5d8f1ed13efd": {
     "model_module": "@jupyter-widgets/controls",
     "model_name": "DescriptionStyleModel",
     "state": {
      "_model_module": "@jupyter-widgets/controls",
      "_model_module_version": "1.5.0",
      "_model_name": "DescriptionStyleModel",
      "_view_count": null,
      "_view_module": "@jupyter-widgets/base",
      "_view_module_version": "1.2.0",
      "_view_name": "StyleView",
      "description_width": ""
     }
    },
    "465f8c523bb6452184366767cc911116": {
     "model_module": "@jupyter-widgets/base",
     "model_name": "LayoutModel",
     "state": {
      "_model_module": "@jupyter-widgets/base",
      "_model_module_version": "1.2.0",
      "_model_name": "LayoutModel",
      "_view_count": null,
      "_view_module": "@jupyter-widgets/base",
      "_view_module_version": "1.2.0",
      "_view_name": "LayoutView",
      "align_content": null,
      "align_items": null,
      "align_self": null,
      "border": null,
      "bottom": null,
      "display": null,
      "flex": null,
      "flex_flow": null,
      "grid_area": null,
      "grid_auto_columns": null,
      "grid_auto_flow": null,
      "grid_auto_rows": null,
      "grid_column": null,
      "grid_gap": null,
      "grid_row": null,
      "grid_template_areas": null,
      "grid_template_columns": null,
      "grid_template_rows": null,
      "height": null,
      "justify_content": null,
      "justify_items": null,
      "left": null,
      "margin": null,
      "max_height": null,
      "max_width": null,
      "min_height": null,
      "min_width": null,
      "object_fit": null,
      "object_position": null,
      "order": null,
      "overflow": null,
      "overflow_x": null,
      "overflow_y": null,
      "padding": null,
      "right": null,
      "top": null,
      "visibility": null,
      "width": null
     }
    },
    "4872a6c95cd94b868037acbda2ba2831": {
     "model_module": "@jupyter-widgets/base",
     "model_name": "LayoutModel",
     "state": {
      "_model_module": "@jupyter-widgets/base",
      "_model_module_version": "1.2.0",
      "_model_name": "LayoutModel",
      "_view_count": null,
      "_view_module": "@jupyter-widgets/base",
      "_view_module_version": "1.2.0",
      "_view_name": "LayoutView",
      "align_content": null,
      "align_items": null,
      "align_self": null,
      "border": null,
      "bottom": null,
      "display": null,
      "flex": null,
      "flex_flow": null,
      "grid_area": null,
      "grid_auto_columns": null,
      "grid_auto_flow": null,
      "grid_auto_rows": null,
      "grid_column": null,
      "grid_gap": null,
      "grid_row": null,
      "grid_template_areas": null,
      "grid_template_columns": null,
      "grid_template_rows": null,
      "height": null,
      "justify_content": null,
      "justify_items": null,
      "left": null,
      "margin": null,
      "max_height": null,
      "max_width": null,
      "min_height": null,
      "min_width": null,
      "object_fit": null,
      "object_position": null,
      "order": null,
      "overflow": null,
      "overflow_x": null,
      "overflow_y": null,
      "padding": null,
      "right": null,
      "top": null,
      "visibility": null,
      "width": null
     }
    },
    "4dcc078763844f13b0324c228a55d5d7": {
     "model_module": "@jupyter-widgets/base",
     "model_name": "LayoutModel",
     "state": {
      "_model_module": "@jupyter-widgets/base",
      "_model_module_version": "1.2.0",
      "_model_name": "LayoutModel",
      "_view_count": null,
      "_view_module": "@jupyter-widgets/base",
      "_view_module_version": "1.2.0",
      "_view_name": "LayoutView",
      "align_content": null,
      "align_items": null,
      "align_self": null,
      "border": null,
      "bottom": null,
      "display": null,
      "flex": null,
      "flex_flow": null,
      "grid_area": null,
      "grid_auto_columns": null,
      "grid_auto_flow": null,
      "grid_auto_rows": null,
      "grid_column": null,
      "grid_gap": null,
      "grid_row": null,
      "grid_template_areas": null,
      "grid_template_columns": null,
      "grid_template_rows": null,
      "height": null,
      "justify_content": null,
      "justify_items": null,
      "left": null,
      "margin": null,
      "max_height": null,
      "max_width": null,
      "min_height": null,
      "min_width": null,
      "object_fit": null,
      "object_position": null,
      "order": null,
      "overflow": null,
      "overflow_x": null,
      "overflow_y": null,
      "padding": null,
      "right": null,
      "top": null,
      "visibility": null,
      "width": null
     }
    },
    "52a5bd0e17b64690a12ac4f64cb0b16f": {
     "model_module": "@jupyter-widgets/controls",
     "model_name": "ProgressStyleModel",
     "state": {
      "_model_module": "@jupyter-widgets/controls",
      "_model_module_version": "1.5.0",
      "_model_name": "ProgressStyleModel",
      "_view_count": null,
      "_view_module": "@jupyter-widgets/base",
      "_view_module_version": "1.2.0",
      "_view_name": "StyleView",
      "bar_color": null,
      "description_width": "initial"
     }
    },
    "7a07077e3ea9418aa69dbd0a47b76080": {
     "model_module": "@jupyter-widgets/controls",
     "model_name": "IntProgressModel",
     "state": {
      "_dom_classes": [],
      "_model_module": "@jupyter-widgets/controls",
      "_model_module_version": "1.5.0",
      "_model_name": "IntProgressModel",
      "_view_count": null,
      "_view_module": "@jupyter-widgets/controls",
      "_view_module_version": "1.5.0",
      "_view_name": "ProgressView",
      "bar_style": "success",
      "description": "Downloading: 100%",
      "description_tooltip": null,
      "layout": "IPY_MODEL_003ee9c984cc49319702f457389f72f6",
      "max": 995526,
      "min": 0,
      "orientation": "horizontal",
      "style": "IPY_MODEL_360c5ebc66614fe381a43fefd2074704",
      "value": 995526
     }
    },
    "7a4c888939d943aca46137c3b5dc1152": {
     "model_module": "@jupyter-widgets/controls",
     "model_name": "IntProgressModel",
     "state": {
      "_dom_classes": [],
      "_model_module": "@jupyter-widgets/controls",
      "_model_module_version": "1.5.0",
      "_model_name": "IntProgressModel",
      "_view_count": null,
      "_view_module": "@jupyter-widgets/controls",
      "_view_module_version": "1.5.0",
      "_view_name": "ProgressView",
      "bar_style": "success",
      "description": "Downloading: 100%",
      "description_tooltip": null,
      "layout": "IPY_MODEL_4872a6c95cd94b868037acbda2ba2831",
      "max": 714314041,
      "min": 0,
      "orientation": "horizontal",
      "style": "IPY_MODEL_8ea04927e1394140a9fe682c60f39cea",
      "value": 714314041
     }
    },
    "7f7df72d85dd4491898517f3cef4eaff": {
     "model_module": "@jupyter-widgets/controls",
     "model_name": "HTMLModel",
     "state": {
      "_dom_classes": [],
      "_model_module": "@jupyter-widgets/controls",
      "_model_module_version": "1.5.0",
      "_model_name": "HTMLModel",
      "_view_count": null,
      "_view_module": "@jupyter-widgets/controls",
      "_view_module_version": "1.5.0",
      "_view_name": "HTMLView",
      "description": "",
      "description_tooltip": null,
      "layout": "IPY_MODEL_19a1da74578443ec9ecc42ee9f3a77fc",
      "placeholder": "​",
      "style": "IPY_MODEL_d935bf7a814f46c7ae8a564553cda0d1",
      "value": " 714M/714M [00:13&lt;00:00, 54.4MB/s]"
     }
    },
    "83be07595a624f0c993e1f24a0a2f1ba": {
     "model_module": "@jupyter-widgets/controls",
     "model_name": "HTMLModel",
     "state": {
      "_dom_classes": [],
      "_model_module": "@jupyter-widgets/controls",
      "_model_module_version": "1.5.0",
      "_model_name": "HTMLModel",
      "_view_count": null,
      "_view_module": "@jupyter-widgets/controls",
      "_view_module_version": "1.5.0",
      "_view_name": "HTMLView",
      "description": "",
      "description_tooltip": null,
      "layout": "IPY_MODEL_465f8c523bb6452184366767cc911116",
      "placeholder": "​",
      "style": "IPY_MODEL_3da361533c4745cfbe0a5d8f1ed13efd",
      "value": " 996k/996k [00:00&lt;00:00, 3.49MB/s]"
     }
    },
    "8ea04927e1394140a9fe682c60f39cea": {
     "model_module": "@jupyter-widgets/controls",
     "model_name": "ProgressStyleModel",
     "state": {
      "_model_module": "@jupyter-widgets/controls",
      "_model_module_version": "1.5.0",
      "_model_name": "ProgressStyleModel",
      "_view_count": null,
      "_view_module": "@jupyter-widgets/base",
      "_view_module_version": "1.2.0",
      "_view_name": "StyleView",
      "bar_color": null,
      "description_width": "initial"
     }
    },
    "97d104c8937e4385a3d665ce406da292": {
     "model_module": "@jupyter-widgets/controls",
     "model_name": "HBoxModel",
     "state": {
      "_dom_classes": [],
      "_model_module": "@jupyter-widgets/controls",
      "_model_module_version": "1.5.0",
      "_model_name": "HBoxModel",
      "_view_count": null,
      "_view_module": "@jupyter-widgets/controls",
      "_view_module_version": "1.5.0",
      "_view_name": "HBoxView",
      "box_style": "",
      "children": [
       "IPY_MODEL_7a4c888939d943aca46137c3b5dc1152",
       "IPY_MODEL_7f7df72d85dd4491898517f3cef4eaff"
      ],
      "layout": "IPY_MODEL_4dcc078763844f13b0324c228a55d5d7"
     }
    },
    "99f492aee2bb4ef48218b3ee8942f1c3": {
     "model_module": "@jupyter-widgets/controls",
     "model_name": "HTMLModel",
     "state": {
      "_dom_classes": [],
      "_model_module": "@jupyter-widgets/controls",
      "_model_module_version": "1.5.0",
      "_model_name": "HTMLModel",
      "_view_count": null,
      "_view_module": "@jupyter-widgets/controls",
      "_view_module_version": "1.5.0",
      "_view_name": "HTMLView",
      "description": "",
      "description_tooltip": null,
      "layout": "IPY_MODEL_174be95b67f544ad85b8a7ff95a9112e",
      "placeholder": "​",
      "style": "IPY_MODEL_a1dff888739d4b54992139f0a3a8c9ca",
      "value": " 625/625 [00:00&lt;00:00, 1.52kB/s]"
     }
    },
    "a1dff888739d4b54992139f0a3a8c9ca": {
     "model_module": "@jupyter-widgets/controls",
     "model_name": "DescriptionStyleModel",
     "state": {
      "_model_module": "@jupyter-widgets/controls",
      "_model_module_version": "1.5.0",
      "_model_name": "DescriptionStyleModel",
      "_view_count": null,
      "_view_module": "@jupyter-widgets/base",
      "_view_module_version": "1.2.0",
      "_view_name": "StyleView",
      "description_width": ""
     }
    },
    "bcf275186f9b4df3a6d6160121337af5": {
     "model_module": "@jupyter-widgets/controls",
     "model_name": "IntProgressModel",
     "state": {
      "_dom_classes": [],
      "_model_module": "@jupyter-widgets/controls",
      "_model_module_version": "1.5.0",
      "_model_name": "IntProgressModel",
      "_view_count": null,
      "_view_module": "@jupyter-widgets/controls",
      "_view_module_version": "1.5.0",
      "_view_name": "ProgressView",
      "bar_style": "success",
      "description": "Downloading: 100%",
      "description_tooltip": null,
      "layout": "IPY_MODEL_bf3285381a5b4d24870199f2da660172",
      "max": 625,
      "min": 0,
      "orientation": "horizontal",
      "style": "IPY_MODEL_52a5bd0e17b64690a12ac4f64cb0b16f",
      "value": 625
     }
    },
    "bf3285381a5b4d24870199f2da660172": {
     "model_module": "@jupyter-widgets/base",
     "model_name": "LayoutModel",
     "state": {
      "_model_module": "@jupyter-widgets/base",
      "_model_module_version": "1.2.0",
      "_model_name": "LayoutModel",
      "_view_count": null,
      "_view_module": "@jupyter-widgets/base",
      "_view_module_version": "1.2.0",
      "_view_name": "LayoutView",
      "align_content": null,
      "align_items": null,
      "align_self": null,
      "border": null,
      "bottom": null,
      "display": null,
      "flex": null,
      "flex_flow": null,
      "grid_area": null,
      "grid_auto_columns": null,
      "grid_auto_flow": null,
      "grid_auto_rows": null,
      "grid_column": null,
      "grid_gap": null,
      "grid_row": null,
      "grid_template_areas": null,
      "grid_template_columns": null,
      "grid_template_rows": null,
      "height": null,
      "justify_content": null,
      "justify_items": null,
      "left": null,
      "margin": null,
      "max_height": null,
      "max_width": null,
      "min_height": null,
      "min_width": null,
      "object_fit": null,
      "object_position": null,
      "order": null,
      "overflow": null,
      "overflow_x": null,
      "overflow_y": null,
      "padding": null,
      "right": null,
      "top": null,
      "visibility": null,
      "width": null
     }
    },
    "d935bf7a814f46c7ae8a564553cda0d1": {
     "model_module": "@jupyter-widgets/controls",
     "model_name": "DescriptionStyleModel",
     "state": {
      "_model_module": "@jupyter-widgets/controls",
      "_model_module_version": "1.5.0",
      "_model_name": "DescriptionStyleModel",
      "_view_count": null,
      "_view_module": "@jupyter-widgets/base",
      "_view_module_version": "1.2.0",
      "_view_name": "StyleView",
      "description_width": ""
     }
    },
    "d9bc33a6b59445149545d80aa465dd48": {
     "model_module": "@jupyter-widgets/base",
     "model_name": "LayoutModel",
     "state": {
      "_model_module": "@jupyter-widgets/base",
      "_model_module_version": "1.2.0",
      "_model_name": "LayoutModel",
      "_view_count": null,
      "_view_module": "@jupyter-widgets/base",
      "_view_module_version": "1.2.0",
      "_view_name": "LayoutView",
      "align_content": null,
      "align_items": null,
      "align_self": null,
      "border": null,
      "bottom": null,
      "display": null,
      "flex": null,
      "flex_flow": null,
      "grid_area": null,
      "grid_auto_columns": null,
      "grid_auto_flow": null,
      "grid_auto_rows": null,
      "grid_column": null,
      "grid_gap": null,
      "grid_row": null,
      "grid_template_areas": null,
      "grid_template_columns": null,
      "grid_template_rows": null,
      "height": null,
      "justify_content": null,
      "justify_items": null,
      "left": null,
      "margin": null,
      "max_height": null,
      "max_width": null,
      "min_height": null,
      "min_width": null,
      "object_fit": null,
      "object_position": null,
      "order": null,
      "overflow": null,
      "overflow_x": null,
      "overflow_y": null,
      "padding": null,
      "right": null,
      "top": null,
      "visibility": null,
      "width": null
     }
    },
    "f3b811c331704f96906d698d051cda1a": {
     "model_module": "@jupyter-widgets/controls",
     "model_name": "HBoxModel",
     "state": {
      "_dom_classes": [],
      "_model_module": "@jupyter-widgets/controls",
      "_model_module_version": "1.5.0",
      "_model_name": "HBoxModel",
      "_view_count": null,
      "_view_module": "@jupyter-widgets/controls",
      "_view_module_version": "1.5.0",
      "_view_name": "HBoxView",
      "box_style": "",
      "children": [
       "IPY_MODEL_7a07077e3ea9418aa69dbd0a47b76080",
       "IPY_MODEL_83be07595a624f0c993e1f24a0a2f1ba"
      ],
      "layout": "IPY_MODEL_d9bc33a6b59445149545d80aa465dd48"
     }
    },
    "ffab93c56adc4dc19f9482818cee381e": {
     "model_module": "@jupyter-widgets/controls",
     "model_name": "HBoxModel",
     "state": {
      "_dom_classes": [],
      "_model_module": "@jupyter-widgets/controls",
      "_model_module_version": "1.5.0",
      "_model_name": "HBoxModel",
      "_view_count": null,
      "_view_module": "@jupyter-widgets/controls",
      "_view_module_version": "1.5.0",
      "_view_name": "HBoxView",
      "box_style": "",
      "children": [
       "IPY_MODEL_bcf275186f9b4df3a6d6160121337af5",
       "IPY_MODEL_99f492aee2bb4ef48218b3ee8942f1c3"
      ],
      "layout": "IPY_MODEL_20bda1f30b3d43f4ab47371e8e2de822"
     }
    }
   }
  }
 },
 "nbformat": 4,
 "nbformat_minor": 1
}
