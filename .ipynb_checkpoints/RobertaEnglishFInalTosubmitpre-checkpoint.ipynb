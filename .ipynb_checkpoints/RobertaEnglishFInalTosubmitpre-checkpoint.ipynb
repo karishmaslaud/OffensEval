{
 "cells": [
  {
   "cell_type": "code",
   "execution_count": 4,
   "metadata": {
    "colab": {
     "base_uri": "https://localhost:8080/",
     "height": 399
    },
    "colab_type": "code",
    "id": "amsZ4bSdhBEP",
    "outputId": "609cfb6f-cbec-4fb1-8ef9-b28301f90016"
   },
   "outputs": [
    {
     "name": "stdout",
     "output_type": "stream",
     "text": [
      "Requirement already satisfied: transformers in /usr/local/lib/python3.6/dist-packages (2.5.1)\n",
      "Requirement already satisfied: tqdm>=4.27 in /usr/local/lib/python3.6/dist-packages (from transformers) (4.28.1)\n",
      "Requirement already satisfied: boto3 in /usr/local/lib/python3.6/dist-packages (from transformers) (1.11.15)\n",
      "Requirement already satisfied: sentencepiece in /usr/local/lib/python3.6/dist-packages (from transformers) (0.1.85)\n",
      "Requirement already satisfied: filelock in /usr/local/lib/python3.6/dist-packages (from transformers) (3.0.12)\n",
      "Requirement already satisfied: tokenizers==0.5.2 in /usr/local/lib/python3.6/dist-packages (from transformers) (0.5.2)\n",
      "Requirement already satisfied: regex!=2019.12.17 in /usr/local/lib/python3.6/dist-packages (from transformers) (2019.12.20)\n",
      "Requirement already satisfied: numpy in /usr/local/lib/python3.6/dist-packages (from transformers) (1.17.5)\n",
      "Requirement already satisfied: requests in /usr/local/lib/python3.6/dist-packages (from transformers) (2.21.0)\n",
      "Requirement already satisfied: sacremoses in /usr/local/lib/python3.6/dist-packages (from transformers) (0.0.38)\n",
      "Requirement already satisfied: botocore<1.15.0,>=1.14.15 in /usr/local/lib/python3.6/dist-packages (from boto3->transformers) (1.14.15)\n",
      "Requirement already satisfied: s3transfer<0.4.0,>=0.3.0 in /usr/local/lib/python3.6/dist-packages (from boto3->transformers) (0.3.3)\n",
      "Requirement already satisfied: jmespath<1.0.0,>=0.7.1 in /usr/local/lib/python3.6/dist-packages (from boto3->transformers) (0.9.4)\n",
      "Requirement already satisfied: certifi>=2017.4.17 in /usr/local/lib/python3.6/dist-packages (from requests->transformers) (2019.11.28)\n",
      "Requirement already satisfied: idna<2.9,>=2.5 in /usr/local/lib/python3.6/dist-packages (from requests->transformers) (2.8)\n",
      "Requirement already satisfied: chardet<3.1.0,>=3.0.2 in /usr/local/lib/python3.6/dist-packages (from requests->transformers) (3.0.4)\n",
      "Requirement already satisfied: urllib3<1.25,>=1.21.1 in /usr/local/lib/python3.6/dist-packages (from requests->transformers) (1.24.3)\n",
      "Requirement already satisfied: six in /usr/local/lib/python3.6/dist-packages (from sacremoses->transformers) (1.12.0)\n",
      "Requirement already satisfied: click in /usr/local/lib/python3.6/dist-packages (from sacremoses->transformers) (7.0)\n",
      "Requirement already satisfied: joblib in /usr/local/lib/python3.6/dist-packages (from sacremoses->transformers) (0.14.1)\n",
      "Requirement already satisfied: docutils<0.16,>=0.10 in /usr/local/lib/python3.6/dist-packages (from botocore<1.15.0,>=1.14.15->boto3->transformers) (0.15.2)\n",
      "Requirement already satisfied: python-dateutil<3.0.0,>=2.1 in /usr/local/lib/python3.6/dist-packages (from botocore<1.15.0,>=1.14.15->boto3->transformers) (2.6.1)\n"
     ]
    }
   ],
   "source": [
    "!pip install transformers"
   ]
  },
  {
   "cell_type": "code",
   "execution_count": 0,
   "metadata": {
    "colab": {},
    "colab_type": "code",
    "id": "Ej4Vt62W39qJ"
   },
   "outputs": [],
   "source": [
    "# This training code is based on the `run_glue.py` script here:\n",
    "# https://github.com/huggingface/transformers/blob/5bfcd0485ece086ebcbed2d008813037968a9e58/examples/run_glue.py#L128\n",
    "#Also based on the following tutorials\n",
    "#https://mccormickml.com/2019/07/22/BERT-fine-tuning/"
   ]
  },
  {
   "cell_type": "code",
   "execution_count": 6,
   "metadata": {
    "colab": {
     "base_uri": "https://localhost:8080/",
     "height": 81
    },
    "colab_type": "code",
    "id": "46Fpl7WYdNu0",
    "outputId": "ea82f607-c979-4e79-bd87-1428541a7c4e"
   },
   "outputs": [
    {
     "data": {
      "text/html": [
       "<p style=\"color: red;\">\n",
       "The default version of TensorFlow in Colab will soon switch to TensorFlow 2.x.<br>\n",
       "We recommend you <a href=\"https://www.tensorflow.org/guide/migrate\" target=\"_blank\">upgrade</a> now \n",
       "or ensure your notebook will continue to use TensorFlow 1.x via the <code>%tensorflow_version 1.x</code> magic:\n",
       "<a href=\"https://colab.research.google.com/notebooks/tensorflow_version.ipynb\" target=\"_blank\">more info</a>.</p>\n"
      ],
      "text/plain": [
       "<IPython.core.display.HTML object>"
      ]
     },
     "metadata": {
      "tags": []
     },
     "output_type": "display_data"
    },
    {
     "name": "stderr",
     "output_type": "stream",
     "text": [
      "Using TensorFlow backend.\n"
     ]
    }
   ],
   "source": [
    "import tensorflow as tf\n",
    "import torch\n",
    "\n",
    "import csv\n",
    "import pandas as pd\n",
    "import numpy as np\n",
    "from sklearn.model_selection import train_test_split\n",
    "\n",
    "\n",
    "from transformers import BertTokenizer as bertTokenizer\n",
    "from sklearn.model_selection import train_test_split\n",
    "from keras.preprocessing.sequence import pad_sequences\n",
    "from torch.utils.data import TensorDataset,DataLoader,RandomSampler,SequentialSampler\n",
    "\n",
    "from sklearn.svm import SVC\n",
    "from sklearn import preprocessing\n",
    "\n",
    "from transformers import BertForSequenceClassification as bfsc,AdamW,BertConfig\n",
    "from torch.utils.data import Dataset\n",
    "from transformers import get_linear_schedule_with_warmup\n",
    "\n",
    "\n",
    "from __future__ import absolute_import, division, print_function\n",
    "\n",
    "import glob\n",
    "import logging\n",
    "import os\n",
    "import random\n",
    "import json\n",
    "\n",
    "import numpy as np\n",
    "import torch\n",
    "from torch.utils.data import (DataLoader, RandomSampler, SequentialSampler,\n",
    "                              TensorDataset)\n",
    "import random\n",
    "from torch.utils.data.distributed import DistributedSampler\n",
    "from tqdm import tqdm_notebook, trange\n",
    "\n",
    "\n",
    "from transformers import AdamW#, WarmupLinearSchedule\n",
    "\n",
    "#from utils import (convert_examples_to_features,\n",
    "                        #output_modes, processors)\n",
    "\n",
    "logging.basicConfig(level=logging.INFO)\n",
    "logger = logging.getLogger(__name__)\n"
   ]
  },
  {
   "cell_type": "code",
   "execution_count": 0,
   "metadata": {
    "colab": {},
    "colab_type": "code",
    "id": "R1nweMDxcWic"
   },
   "outputs": [],
   "source": [
    "gpuname=\"\"\n",
    "device=\"\"\n",
    "y=\"\"\n",
    "preprocessedTweets=\"\"\n",
    "ids_of_sentence=[]\n",
    "ids_of_sentence_words=[]\n"
   ]
  },
  {
   "cell_type": "code",
   "execution_count": 8,
   "metadata": {
    "colab": {
     "base_uri": "https://localhost:8080/",
     "height": 52
    },
    "colab_type": "code",
    "id": "lL3ZtD-zg4k1",
    "outputId": "8ca2b39d-7216-4dac-8a77-221864ce2811"
   },
   "outputs": [
    {
     "name": "stdout",
     "output_type": "stream",
     "text": [
      "Found GPU at :/device:GPU:0\n",
      "The device name is Tesla P100-PCIE-16GB\n"
     ]
    }
   ],
   "source": [
    "\n",
    "\n",
    "gpuname=tf.test.gpu_device_name()\n",
    "if gpuname=='/device:GPU:0':\n",
    "  print('Found GPU at :{}'.format(gpuname))\n",
    "else:\n",
    "  gpuname=\"\"\n",
    "if torch.cuda.is_available():\n",
    "  device=torch.device(\"cuda\")\n",
    "  n_gpu=torch.cuda.device_count()\n",
    "  print(\"The device name is %s\"%torch.cuda.get_device_name(0))\n",
    "else:\n",
    "  print(\"No GPU available using only CPU instead\")\n",
    "  device=torch.device(\"cpu\")\n",
    "\n",
    "\n"
   ]
  },
  {
   "cell_type": "code",
   "execution_count": 9,
   "metadata": {
    "colab": {
     "base_uri": "https://localhost:8080/",
     "height": 34
    },
    "colab_type": "code",
    "id": "SKdaEMufiiAu",
    "outputId": "a99bf5f0-7529-4c3a-9af0-22be3829a373"
   },
   "outputs": [
    {
     "name": "stdout",
     "output_type": "stream",
     "text": [
      "Drive already mounted at /content/drive; to attempt to forcibly remount, call drive.mount(\"/content/drive\", force_remount=True).\n"
     ]
    }
   ],
   "source": [
    "from google.colab import drive\n",
    "drive.mount('/content/drive')"
   ]
  },
  {
   "cell_type": "code",
   "execution_count": 0,
   "metadata": {
    "colab": {},
    "colab_type": "code",
    "id": "0iCZDHmlWSjY"
   },
   "outputs": [],
   "source": [
    "##NOT FOR SYSTEMS\n",
    "#!unzip -P ****** -qq '/content/drive/My Drive/EnglishData/task_a_distant.zip' "
   ]
  },
  {
   "cell_type": "code",
   "execution_count": 0,
   "metadata": {
    "colab": {},
    "colab_type": "code",
    "id": "0snaWdyArgIk"
   },
   "outputs": [],
   "source": [
    "#!unzip -P ****** -qq '/content/drive/My Drive/EnglishData/task_b_distant.zip' "
   ]
  },
  {
   "cell_type": "code",
   "execution_count": 12,
   "metadata": {
    "colab": {
     "base_uri": "https://localhost:8080/",
     "height": 54
    },
    "colab_type": "code",
    "id": "8bLBKEKprjzq",
    "outputId": "8d3c7766-b48d-48aa-f382-e3de6ae8118d"
   },
   "outputs": [
    {
     "data": {
      "text/plain": [
       "'def convertToFloat(val):\\n    if not val:\\n        return 0    \\n    try:\\n        return np.float64(val)\\n    except:        \\n        return np.float64(0)\\n\\n\\nheaders=[\\'id\\',\\'text\\',\\'average\\',\\'std\\']\\nenglishdata1 = pd.read_csv(\"task_b_distant.tsv\", delimiter=\\'\\t\\',names=headers,low_memory=False,converters={\"average\":convertToFloat,\"std\":convertToFloat})\\nenglishdata1=englishdata1'"
      ]
     },
     "execution_count": 12,
     "metadata": {
      "tags": []
     },
     "output_type": "execute_result"
    }
   ],
   "source": [
    "'''def convertToFloat(val):\n",
    "    if not val:\n",
    "        return 0    \n",
    "    try:\n",
    "        return np.float64(val)\n",
    "    except:        \n",
    "        return np.float64(0)\n",
    "\n",
    "\n",
    "headers=['id','text','average','std']\n",
    "englishdata1 = pd.read_csv(\"task_b_distant.tsv\", delimiter='\\t',names=headers,low_memory=False,converters={\"average\":convertToFloat,\"std\":convertToFloat})\n",
    "englishdata1=englishdata1'''"
   ]
  },
  {
   "cell_type": "code",
   "execution_count": 13,
   "metadata": {
    "colab": {
     "base_uri": "https://localhost:8080/",
     "height": 54
    },
    "colab_type": "code",
    "id": "Ayt4_mQnr5n7",
    "outputId": "193505c8-bd7d-4e80-c828-52d4af99527f"
   },
   "outputs": [
    {
     "data": {
      "text/plain": [
       "'def convertToFloat(val):\\n    if not val:\\n        return 0    \\n    try:\\n        return np.float64(val)\\n    except:        \\n        return np.float64(0)\\n\\n\\nheaders=[\\'id\\',\\'text\\',\\'average\\',\\'std\\']\\nenglishdata2 = pd.read_csv(\"task_a_distant.tsv\", delimiter=\\'\\t\\',names=headers,low_memory=False,converters={\"average\":convertToFloat,\"std\":convertToFloat})\\nenglishdata2=englishdata2'"
      ]
     },
     "execution_count": 13,
     "metadata": {
      "tags": []
     },
     "output_type": "execute_result"
    }
   ],
   "source": [
    "'''def convertToFloat(val):\n",
    "    if not val:\n",
    "        return 0    \n",
    "    try:\n",
    "        return np.float64(val)\n",
    "    except:        \n",
    "        return np.float64(0)\n",
    "\n",
    "\n",
    "headers=['id','text','average','std']\n",
    "englishdata2 = pd.read_csv(\"task_a_distant.tsv\", delimiter='\\t',names=headers,low_memory=False,converters={\"average\":convertToFloat,\"std\":convertToFloat})\n",
    "englishdata2=englishdata2'''"
   ]
  },
  {
   "cell_type": "code",
   "execution_count": 0,
   "metadata": {
    "colab": {},
    "colab_type": "code",
    "id": "2uXSsl4DrvPa"
   },
   "outputs": [],
   "source": [
    "#len(englishdata1)"
   ]
  },
  {
   "cell_type": "code",
   "execution_count": 0,
   "metadata": {
    "colab": {},
    "colab_type": "code",
    "id": "IXDd24Fxry8c"
   },
   "outputs": [],
   "source": [
    "#len(englishdata2)"
   ]
  },
  {
   "cell_type": "code",
   "execution_count": 0,
   "metadata": {
    "colab": {},
    "colab_type": "code",
    "id": "9bHoGZVoSCPU"
   },
   "outputs": [],
   "source": [
    "\n",
    "#GET THE DATA FROM THE PANDAS FRAME\n",
    "headers=['id','tweet','subtask_a','subtask_b','subtask_c']\n",
    "englishdata = pd.read_csv(\"olid-training-v1.0.tsv\", delimiter='\\t',names=headers,low_memory=False)\n",
    "englishdata=englishdata[['id','tweet','subtask_a']]\n",
    "englishdata=englishdata[1:]"
   ]
  },
  {
   "cell_type": "code",
   "execution_count": 0,
   "metadata": {
    "colab": {},
    "colab_type": "code",
    "id": "BKDwFMQdrusQ"
   },
   "outputs": [],
   "source": []
  },
  {
   "cell_type": "code",
   "execution_count": 17,
   "metadata": {
    "colab": {
     "base_uri": "https://localhost:8080/",
     "height": 54
    },
    "colab_type": "code",
    "id": "ucAFIEswSPcQ",
    "outputId": "21c0eed8-78d8-4f1a-8ece-e15c684db65f"
   },
   "outputs": [
    {
     "data": {
      "text/plain": [
       "'# conversion to float taken from https://stackoverflow.com/questions/24251219/pandas-read-csv-low-memory-and-dtype-options\\ndef convertToFloat(val):\\n    if not val:\\n        return 0    \\n    try:\\n        return np.float64(val)\\n    except:        \\n        return np.float64(0)\\n\\n\\n#GET THE DATA FROM THE PANDAS FRAME\\nheaders=[\\'id\\',\\'text\\',\\'average\\',\\'std\\']\\nenglishdata = pd.read_csv(\"task_a_distant.tsv\", delimiter=\\'\\t\\',names=headers,low_memory=False,converters={\"average\":convertToFloat,\"std\":convertToFloat})\\nenglishdata=englishdata[:100]\\n'"
      ]
     },
     "execution_count": 17,
     "metadata": {
      "tags": []
     },
     "output_type": "execute_result"
    }
   ],
   "source": [
    "'''# conversion to float taken from https://stackoverflow.com/questions/24251219/pandas-read-csv-low-memory-and-dtype-options\n",
    "def convertToFloat(val):\n",
    "    if not val:\n",
    "        return 0    \n",
    "    try:\n",
    "        return np.float64(val)\n",
    "    except:        \n",
    "        return np.float64(0)\n",
    "\n",
    "\n",
    "#GET THE DATA FROM THE PANDAS FRAME\n",
    "headers=['id','text','average','std']\n",
    "englishdata = pd.read_csv(\"task_a_distant.tsv\", delimiter='\\t',names=headers,low_memory=False,converters={\"average\":convertToFloat,\"std\":convertToFloat})\n",
    "englishdata=englishdata[:100]\n",
    "'''"
   ]
  },
  {
   "cell_type": "code",
   "execution_count": 18,
   "metadata": {
    "colab": {
     "base_uri": "https://localhost:8080/",
     "height": 34
    },
    "colab_type": "code",
    "id": "leV4AIvO56Jp",
    "outputId": "68d8d3f1-889d-4e6c-ed68-5277c9f1a008"
   },
   "outputs": [
    {
     "data": {
      "text/plain": [
       "13240"
      ]
     },
     "execution_count": 18,
     "metadata": {
      "tags": []
     },
     "output_type": "execute_result"
    }
   ],
   "source": [
    "len(englishdata)"
   ]
  },
  {
   "cell_type": "code",
   "execution_count": 0,
   "metadata": {
    "colab": {},
    "colab_type": "code",
    "id": "p43UBV5YZLjE"
   },
   "outputs": [],
   "source": []
  },
  {
   "cell_type": "code",
   "execution_count": 19,
   "metadata": {
    "colab": {
     "base_uri": "https://localhost:8080/",
     "height": 206
    },
    "colab_type": "code",
    "id": "B9dY5nerCi3z",
    "outputId": "3584bb33-5ca8-4436-a5ea-132df4b29bc1"
   },
   "outputs": [
    {
     "data": {
      "text/html": [
       "<div>\n",
       "<style scoped>\n",
       "    .dataframe tbody tr th:only-of-type {\n",
       "        vertical-align: middle;\n",
       "    }\n",
       "\n",
       "    .dataframe tbody tr th {\n",
       "        vertical-align: top;\n",
       "    }\n",
       "\n",
       "    .dataframe thead th {\n",
       "        text-align: right;\n",
       "    }\n",
       "</style>\n",
       "<table border=\"1\" class=\"dataframe\">\n",
       "  <thead>\n",
       "    <tr style=\"text-align: right;\">\n",
       "      <th></th>\n",
       "      <th>id</th>\n",
       "      <th>tweet</th>\n",
       "      <th>subtask_a</th>\n",
       "    </tr>\n",
       "  </thead>\n",
       "  <tbody>\n",
       "    <tr>\n",
       "      <th>1</th>\n",
       "      <td>86426</td>\n",
       "      <td>@USER She should ask a few native Americans wh...</td>\n",
       "      <td>OFF</td>\n",
       "    </tr>\n",
       "    <tr>\n",
       "      <th>2</th>\n",
       "      <td>90194</td>\n",
       "      <td>@USER @USER Go home you’re drunk!!! @USER #MAG...</td>\n",
       "      <td>OFF</td>\n",
       "    </tr>\n",
       "    <tr>\n",
       "      <th>3</th>\n",
       "      <td>16820</td>\n",
       "      <td>Amazon is investigating Chinese employees who ...</td>\n",
       "      <td>NOT</td>\n",
       "    </tr>\n",
       "    <tr>\n",
       "      <th>4</th>\n",
       "      <td>62688</td>\n",
       "      <td>@USER Someone should'veTaken\" this piece of sh...</td>\n",
       "      <td>OFF</td>\n",
       "    </tr>\n",
       "    <tr>\n",
       "      <th>5</th>\n",
       "      <td>43605</td>\n",
       "      <td>@USER @USER Obama wanted liberals &amp;amp; illega...</td>\n",
       "      <td>NOT</td>\n",
       "    </tr>\n",
       "  </tbody>\n",
       "</table>\n",
       "</div>"
      ],
      "text/plain": [
       "      id                                              tweet subtask_a\n",
       "1  86426  @USER She should ask a few native Americans wh...       OFF\n",
       "2  90194  @USER @USER Go home you’re drunk!!! @USER #MAG...       OFF\n",
       "3  16820  Amazon is investigating Chinese employees who ...       NOT\n",
       "4  62688  @USER Someone should'veTaken\" this piece of sh...       OFF\n",
       "5  43605  @USER @USER Obama wanted liberals &amp; illega...       NOT"
      ]
     },
     "execution_count": 19,
     "metadata": {
      "tags": []
     },
     "output_type": "execute_result"
    }
   ],
   "source": [
    "englishdata.head()"
   ]
  },
  {
   "cell_type": "code",
   "execution_count": 20,
   "metadata": {
    "colab": {
     "base_uri": "https://localhost:8080/",
     "height": 54
    },
    "colab_type": "code",
    "id": "85xVmaYRHFab",
    "outputId": "97779691-dc23-4dc7-b8ca-1bd3b374ab68"
   },
   "outputs": [
    {
     "data": {
      "text/plain": [
       "\"englishtrain,englishtest= train_test_split(englishdata, test_size=0.2, random_state=42)\\nexport_csv = englishtrain.to_csv ('/content/drive/My Drive/EnglishData/olidlearn/TrainFileEnglish.tsv', index = None, header=True)\\nprint (englishtrain.head())\\n#englishtest,englishpredict= train_test_split(englishtemp, test_size=0.5, random_state=42)\\nexport_csv = englishtest.to_csv ('/content/drive/My Drive/EnglishData/olidlearn/TestFileEnglish.tsv', index = None, header=True)\\nprint (englishtest.head())\""
      ]
     },
     "execution_count": 20,
     "metadata": {
      "tags": []
     },
     "output_type": "execute_result"
    }
   ],
   "source": [
    "'''englishtrain,englishtest= train_test_split(englishdata, test_size=0.2, random_state=42)\n",
    "export_csv = englishtrain.to_csv ('/content/drive/My Drive/EnglishData/olidlearn/TrainFileEnglish.tsv', index = None, header=True)\n",
    "print (englishtrain.head())\n",
    "#englishtest,englishpredict= train_test_split(englishtemp, test_size=0.5, random_state=42)\n",
    "export_csv = englishtest.to_csv ('/content/drive/My Drive/EnglishData/olidlearn/TestFileEnglish.tsv', index = None, header=True)\n",
    "print (englishtest.head())'''\n",
    "#export_csv = englishpredict.to_csv ('/content/drive/My Drive/EnglishData/predictFileEnglish.csv', index = None, header=True)\n",
    "#print (englishpredict.head())"
   ]
  },
  {
   "cell_type": "code",
   "execution_count": 0,
   "metadata": {
    "colab": {},
    "colab_type": "code",
    "id": "ayHNHPM56TTg"
   },
   "outputs": [],
   "source": []
  },
  {
   "cell_type": "code",
   "execution_count": 0,
   "metadata": {
    "colab": {},
    "colab_type": "code",
    "id": "tLXURnA5UefR"
   },
   "outputs": [],
   "source": []
  },
  {
   "cell_type": "code",
   "execution_count": 0,
   "metadata": {
    "colab": {},
    "colab_type": "code",
    "id": "KWe6eF21Ue-9"
   },
   "outputs": [],
   "source": []
  },
  {
   "cell_type": "code",
   "execution_count": 21,
   "metadata": {
    "colab": {
     "base_uri": "https://localhost:8080/",
     "height": 54
    },
    "colab_type": "code",
    "id": "zn8dOMH10Cla",
    "outputId": "fa97d17c-f392-46f9-d6af-73726676a27e"
   },
   "outputs": [
    {
     "data": {
      "text/plain": [
       "\"ids_of_sentence=[]\\nids_of_sentence_words=[]\\nattention_masks=[]\\n\\ndef giveIds(sentence):\\n  maxlength=0\\n  tokenizer=bertTokenizer.from_pretrained('bert-base-uncased',do_lower_case=True)\\n  for t in sentence:\\n      tokenized_sentence_id=tokenizer.encode(t,add_special_tokens=True)\\n      if(maxlength<len(tokenized_sentence_id)):\\n          maxlength=len(tokenized_sentence_id)\\n  return maxlength\""
      ]
     },
     "execution_count": 21,
     "metadata": {
      "tags": []
     },
     "output_type": "execute_result"
    }
   ],
   "source": [
    "'''ids_of_sentence=[]\n",
    "ids_of_sentence_words=[]\n",
    "attention_masks=[]\n",
    "\n",
    "def giveIds(sentence):\n",
    "  maxlength=0\n",
    "  tokenizer=bertTokenizer.from_pretrained('bert-base-uncased',do_lower_case=True)\n",
    "  for t in sentence:\n",
    "      tokenized_sentence_id=tokenizer.encode(t,add_special_tokens=True)\n",
    "      if(maxlength<len(tokenized_sentence_id)):\n",
    "          maxlength=len(tokenized_sentence_id)\n",
    "  return maxlength'''"
   ]
  },
  {
   "cell_type": "code",
   "execution_count": 0,
   "metadata": {
    "colab": {},
    "colab_type": "code",
    "id": "EUxfcUCbNGXS"
   },
   "outputs": [],
   "source": [
    "#max_length="
   ]
  },
  {
   "cell_type": "code",
   "execution_count": 23,
   "metadata": {
    "colab": {
     "base_uri": "https://localhost:8080/",
     "height": 34
    },
    "colab_type": "code",
    "id": "qZWdmK_CMiop",
    "outputId": "a3936337-d98d-4903-c1cb-8bfd84eb288b"
   },
   "outputs": [
    {
     "data": {
      "text/plain": [
       "set()"
      ]
     },
     "execution_count": 23,
     "metadata": {
      "tags": []
     },
     "output_type": "execute_result"
    }
   ],
   "source": [
    "set(y)"
   ]
  },
  {
   "cell_type": "code",
   "execution_count": 24,
   "metadata": {
    "colab": {
     "base_uri": "https://localhost:8080/",
     "height": 54
    },
    "colab_type": "code",
    "id": "f9PP1a7RMioz",
    "outputId": "60f4eb05-ce4c-408b-e4ec-a79d97c868be"
   },
   "outputs": [
    {
     "data": {
      "text/plain": [
       "'\\nfrom sklearn.svm import SVC\\nfrom sklearn import preprocessing\\n\\nle = preprocessing.LabelEncoder()\\n\\n# conversion to float taken from https://stackoverflow.com/questions/24251219/pandas-read-csv-low-memory-and-dtype-options\\ndef convertToFloat(val):\\n    if not val:\\n        return 0    \\n    try:\\n        return np.float64(val)\\n    except:        \\n        return np.float64(0)\\n\\ndef readDataTrain():\\n  headers=[\\'id\\',\\'tweet\\',\\'subtask_a\\']\\n  edata = pd.read_csv(\"/content/drive/My Drive/EnglishData/olidlearn/TrainFileEnglish.tsv\", delimiter=\\',\\',names=headers,low_memory=False)\\n  edata=edata[1:]\\n  dfnumpy=edata.to_numpy();\\n  X=dfnumpy[:, 1].reshape(-1, 1)\\n  y=dfnumpy[:, 2].reshape(-1, 1)\\n  y1=le.fit_transform(y.flatten())\\n  print(set(y1))\\n  print(le.classes_)\\n  return X,y1\\n\\ndef readDataTest():\\n  headers=[\\'id\\',\\'tweet\\',\\'subtask_a\\']\\n  edata = pd.read_csv(\"/content/drive/My Drive/EnglishData/olidlearn/TrainFileEnglish.tsv\", delimiter=\\',\\',names=headers,low_memory=False)\\n  edata=edata[1:]\\n  dfnumpy=edata.to_numpy();\\n  X=dfnumpy[:, 1].reshape(-1, 1)\\n  y=dfnumpy[:, 2].reshape(-1, 1)\\n  y1=le.fit_transform(y.flatten())\\n\\n  return X,y1'"
      ]
     },
     "execution_count": 24,
     "metadata": {
      "tags": []
     },
     "output_type": "execute_result"
    }
   ],
   "source": [
    "'''\n",
    "from sklearn.svm import SVC\n",
    "from sklearn import preprocessing\n",
    "\n",
    "le = preprocessing.LabelEncoder()\n",
    "\n",
    "# conversion to float taken from https://stackoverflow.com/questions/24251219/pandas-read-csv-low-memory-and-dtype-options\n",
    "def convertToFloat(val):\n",
    "    if not val:\n",
    "        return 0    \n",
    "    try:\n",
    "        return np.float64(val)\n",
    "    except:        \n",
    "        return np.float64(0)\n",
    "\n",
    "def readDataTrain():\n",
    "  headers=['id','tweet','subtask_a']\n",
    "  edata = pd.read_csv(\"/content/drive/My Drive/EnglishData/olidlearn/TrainFileEnglish.tsv\", delimiter=',',names=headers,low_memory=False)\n",
    "  edata=edata[1:]\n",
    "  dfnumpy=edata.to_numpy();\n",
    "  X=dfnumpy[:, 1].reshape(-1, 1)\n",
    "  y=dfnumpy[:, 2].reshape(-1, 1)\n",
    "  y1=le.fit_transform(y.flatten())\n",
    "  print(set(y1))\n",
    "  print(le.classes_)\n",
    "  return X,y1\n",
    "\n",
    "def readDataTest():\n",
    "  headers=['id','tweet','subtask_a']\n",
    "  edata = pd.read_csv(\"/content/drive/My Drive/EnglishData/olidlearn/TrainFileEnglish.tsv\", delimiter=',',names=headers,low_memory=False)\n",
    "  edata=edata[1:]\n",
    "  dfnumpy=edata.to_numpy();\n",
    "  X=dfnumpy[:, 1].reshape(-1, 1)\n",
    "  y=dfnumpy[:, 2].reshape(-1, 1)\n",
    "  y1=le.fit_transform(y.flatten())\n",
    "\n",
    "  return X,y1'''"
   ]
  },
  {
   "cell_type": "code",
   "execution_count": 0,
   "metadata": {
    "colab": {},
    "colab_type": "code",
    "id": "lMeqzRH7LS5Q"
   },
   "outputs": [],
   "source": [
    "dfnumpy=englishdata.to_numpy()\n",
    "X=dfnumpy[:, 1].reshape(-1, 1)\n",
    "y=dfnumpy[:, 2].reshape(-1, 1)"
   ]
  },
  {
   "cell_type": "code",
   "execution_count": 26,
   "metadata": {
    "colab": {
     "base_uri": "https://localhost:8080/",
     "height": 34
    },
    "colab_type": "code",
    "id": "ad-sjNy_ZuDS",
    "outputId": "efe71b27-e9da-478e-9d57-c566bcd2470c"
   },
   "outputs": [
    {
     "name": "stdout",
     "output_type": "stream",
     "text": [
      "Requirement already satisfied: tweet-preprocessor in /usr/local/lib/python3.6/dist-packages (0.5.0)\n"
     ]
    }
   ],
   "source": [
    "pip install tweet-preprocessor"
   ]
  },
  {
   "cell_type": "code",
   "execution_count": 27,
   "metadata": {
    "colab": {
     "base_uri": "https://localhost:8080/",
     "height": 34
    },
    "colab_type": "code",
    "id": "OEIjuTJkZklF",
    "outputId": "c3f359a2-1344-4cc9-cc91-8a8a0f3830e2"
   },
   "outputs": [
    {
     "name": "stdout",
     "output_type": "stream",
     "text": [
      "Requirement already up-to-date: emoji in /usr/local/lib/python3.6/dist-packages (0.5.4)\n"
     ]
    }
   ],
   "source": [
    "pip install emoji --upgrade"
   ]
  },
  {
   "cell_type": "code",
   "execution_count": 28,
   "metadata": {
    "colab": {
     "base_uri": "https://localhost:8080/",
     "height": 69
    },
    "colab_type": "code",
    "id": "zlITxE9CZwns",
    "outputId": "b2bbddfa-795c-469c-fe40-783b46f11715"
   },
   "outputs": [
    {
     "name": "stdout",
     "output_type": "stream",
     "text": [
      "[nltk_data] Downloading package stopwords to /root/nltk_data...\n",
      "[nltk_data]   Package stopwords is already up-to-date!\n"
     ]
    },
    {
     "data": {
      "text/plain": [
       "True"
      ]
     },
     "execution_count": 28,
     "metadata": {
      "tags": []
     },
     "output_type": "execute_result"
    }
   ],
   "source": [
    "import nltk\n",
    "nltk.download('stopwords')"
   ]
  },
  {
   "cell_type": "code",
   "execution_count": 0,
   "metadata": {
    "colab": {},
    "colab_type": "code",
    "id": "DirGcyCdZzhW"
   },
   "outputs": [],
   "source": [
    "from nltk.tokenize import TweetTokenizer\n",
    "from nltk.corpus import stopwords \n",
    "import re\n",
    "import emoji\n",
    "import string\n",
    "tknzr = TweetTokenizer(strip_handles=True, reduce_len=True)\n",
    "stopwords=set(stopwords.words('english'))\n",
    "def preprocessinglib(arrt):\n",
    "    ans =[]\n",
    "    for txt in arrt:\n",
    "        txt1=emoji.demojize(txt)\n",
    "        tokens=tknzr.tokenize(txt1)\n",
    "        ctokens=[]\n",
    "        for t in tokens:\n",
    "          if  t not in stopwords and t not in string.punctuation :\n",
    "            ctokens.append(t)\n",
    "        clean_s = ' '.join(ctokens)\n",
    "        ans.append(clean_s)\n",
    "               \n",
    "    return ans\n"
   ]
  },
  {
   "cell_type": "code",
   "execution_count": 0,
   "metadata": {
    "colab": {},
    "colab_type": "code",
    "id": "fgcU1eFjbHDk"
   },
   "outputs": [],
   "source": [
    "preprocessedTweets=preprocessinglib(X[:,0])"
   ]
  },
  {
   "cell_type": "code",
   "execution_count": 0,
   "metadata": {
    "colab": {},
    "colab_type": "code",
    "id": "nzsKG85LBeb-"
   },
   "outputs": [],
   "source": [
    "#preprocessedTweets=X[:,0]"
   ]
  },
  {
   "cell_type": "code",
   "execution_count": 0,
   "metadata": {
    "colab": {},
    "colab_type": "code",
    "id": "zwiry_2MeRzI"
   },
   "outputs": [],
   "source": [
    "with open('/content/drive/My Drive/preprocess.txt', 'w') as f:\n",
    "  f.write(str(preprocessedTweets))"
   ]
  },
  {
   "cell_type": "code",
   "execution_count": 0,
   "metadata": {
    "colab": {},
    "colab_type": "code",
    "id": "B_NKcxDqLOGX"
   },
   "outputs": [],
   "source": [
    "from sklearn.utils import shuffle\n",
    "preprocessedTweets,y=shuffle(preprocessedTweets,y)"
   ]
  },
  {
   "cell_type": "code",
   "execution_count": 0,
   "metadata": {
    "colab": {},
    "colab_type": "code",
    "id": "v_KQpestKlz4"
   },
   "outputs": [],
   "source": [
    "x_train,x_test,y_train,y_test= train_test_split(preprocessedTweets,y, test_size=0.2, random_state=42)\n"
   ]
  },
  {
   "cell_type": "code",
   "execution_count": 37,
   "metadata": {
    "colab": {
     "base_uri": "https://localhost:8080/",
     "height": 1000
    },
    "colab_type": "code",
    "id": "_gpr92MXKnq1",
    "outputId": "ca380716-84af-4c4b-952c-a259f6ff3370"
   },
   "outputs": [
    {
     "data": {
      "text/plain": [
       "['6 people shot killed Bakersfield liberals want tweet Gun Control Chicago calls 6 people shot killed lunch break yet nobody tweets word You ’ ways Legal guns ownership vs illegal gun ownership What ’ real solution',\n",
       " \"Someone should'veTaken piece shit volcano face_with_tears_of_joy\",\n",
       " '#NazisAreBad Their programs called nationalization education health care transportation major industries They instituted vigorously enforced strict gun control regimen They encouraged pornography illegitimacy abortion ... 3',\n",
       " 'Been Willie fan since born ... LOVE holding rally Beto ... Exactly WHICH fans furious Could give specifics URL',\n",
       " \"I'm glad something fun\",\n",
       " \"Not us Conservatives gullible Manny good points ... starts spewing US propaganda .. sickens He asked term I gave one ... He'll rebuttal You watch\",\n",
       " 'The liberals stop nothing',\n",
       " 'Thanks spreading Joe Biden ’ words ... great American I respect much',\n",
       " 'The term parasite added list fuck terms also includes term widget',\n",
       " 'I tried follow How different liberals Pandering dairy monopoly offensive principal practise The PPC party may option reflects values It takes fortitude right',\n",
       " 'You correct URL',\n",
       " 'Free milk health issue education one It ’ nothing education budget',\n",
       " 'But ’ OK killing babies',\n",
       " 'Why He Absolutely Nothing wrong He victim perpetrator',\n",
       " 'People leaving racist comments posts instantly blocked There low follow accounts posting crap I think trying make #MAGA look bad If racist way feel free block I think ignorant POS',\n",
       " 'Yes simply MUST politically Heaven forbid give Liberals due justice',\n",
       " 'Nobody greek nation lost ever existed .. You Subsaharan',\n",
       " 'The blatant abuse #metoo really disturbing No good reason automatically place guilty stamp someone unfounded allegations Most importantly unfairly strips credibility women actually suffered demand real justice Bullshit #MAGA',\n",
       " 'Dude go away ... tin hatters like make us conservatives look bad ... get job',\n",
       " 'The one suffering terrorist attacks Mussolini even true way terrorist generally defined violence power outside government realm course true irrelevant Hitler analogy wasnt criminal Antifa',\n",
       " 'That awful He never much anyway A grown man acting like bully Best hubby Mark MAGA United_States',\n",
       " \"Since medical field I'm sure knowledgeable\",\n",
       " 'Exactly ’ liberals ’ understand WILL DIE FOR OUR LOVED ONES',\n",
       " \"Conservatives care democracy opinions called racist rights jeopardy Anyone else give shit It's sad\",\n",
       " 'Someone needs give woman puppy She enjoying life',\n",
       " 'A useful idiot No longer need Their busy bothered gun control Busy trying figure sway election favor Not gunna happen face_with_tears_of_joy :: United_States :: flexed_biceps',\n",
       " 'Right Good grief ... perfect smiling_face_with_smiling_eyes :: face_blowing_a_kiss :: red_heart :: red_heart',\n",
       " 'I honestly hope games get point Consciousness gets ported game world Just imagine worlds Elder Scrolls Fallout like truly character someone looking screen',\n",
       " 'Does know Lol',\n",
       " 'How dare questioning service little thing called Vietnam War France surrendered Vietnam Snowflake Supremo Ho Chi Minh Liberals JFK LBJ went refused fight win We go back Vietnam finish fight Restore draft',\n",
       " 'That never would happen taking notes American Liberals',\n",
       " 'entire article piece trash precinct full dumbfuck pigs',\n",
       " 'They reason believe ’ sabotaging kavanaughs chances Supreme Court Justice These elitists radical liberals anything sabotage Trumps presidency',\n",
       " 'What interview Evanne So honest right heart Really moving hear personal thoughts crucial aspects life Fair play You amazing person',\n",
       " \"I guess I'd like see thought put nothing burgers made confidential I really know going series tweets Chair misleading public amount disclosure threatening sen\",\n",
       " 'Maybe 5 things day little sensible gun control fucking country',\n",
       " 'Good list Keep going',\n",
       " 'put much thought antifa goons ripping downtown seattle apart every holiday',\n",
       " 'She needs make much money liberals duped',\n",
       " 'You Cut early would heard complaints Smh',\n",
       " 'You 100 believe AB would player today without Big Ben',\n",
       " 'I get saying Brent But Auburn lost SEC championship game You know bowl game lot team actually wants',\n",
       " 'For best night sleep whole wide world ...',\n",
       " 'STOP LYING AHOLE FBI ISNT INVOLVED CAUSE THERES NOTHINGBURGER TO INVESTIGATE ITS ALL LIBERALS CHARADE TO DELAY .. KAVANAUGH WILL B CONFIRMED #GINSBERGISNEXT rolling_on_the_floor_laughing :: rolling_on_the_floor_laughing :: rolling_on_the_floor_laughing :: rolling_on_the_floor_laughing :: rolling_on_the_floor_laughing :: face_savoring_food :: face_savoring_food',\n",
       " '4 Foot country sense feel happening ground except watching telegram twitter like watching football TV claiming understand players going physically sitting couch eating chips',\n",
       " 'nigga thought gone 44 point game funny ya boy',\n",
       " \"speak Spanish MS 13 Muslim terrorist black person complied hold dissenting opinion emotional snowflake Gun control Nazi Republican putting people internment camps PATRIOT Think leave human rights boarder PATRIOT I'm tired\",\n",
       " \"Aged dine #MAGA Libs still spill vile breaths total vote including illegal sorry Jack voters The repeated areas people voted registered PO'd friend Red Blue map And Dont live FL still How'd work URL\",\n",
       " '#YESonKavanaugh Yes right thing Yes conservatives power Yes Democrats miserable humans Yes sick tired tantrums Democrats Yes FREAKING LOST THE ELECTION Please add reasons',\n",
       " 'heart aches search kyla pristin She happy haters wont let ㅜㅡㅜ',\n",
       " 'Aj nahin kal tum ko bi marna hy bad thinking',\n",
       " 'Nope Not going miss sorry ass',\n",
       " 'She saying wants win Don ’ vote fraud',\n",
       " '#teamspotlightsunday spotlight goes 2 women Meghan McDermott Alanna McDermott Alanna amazing journey physically mentally She breaking comfort zone helping others achieve goals I proud Your growth inspiring URL',\n",
       " \"That's Antifa Soy Girl\",\n",
       " \"11/21 Political Corruption Texans Among liberals conservs R's D's large majorities favor limits campaign spending say high cost campaigning discourages many good candidates running president ” #BetoforSenate URL\",\n",
       " 'She done',\n",
       " 'I believe gun control laws extensive feel government come better way assign people guns agree protecting point Its alot innocent people dying #102 20522',\n",
       " \"Conservatives would anything eliminate value laborers country People worked died holiday Don't want see lost fake Constitution worshiping people value Constitution way Far Right\",\n",
       " 'So Parkland students joke hijacked Sanity gun control freakazoids get-go parents let',\n",
       " \"majority DACA 3rd world countries communists activists-Antifa-Ofa 1 INCOMPATIBLES w USculture 2Felons criminal violence participation cult includes kill potus 45 destroySovereignUSA-USConstnDem'y replace w marxist 4thReichNWO tyranny TREASON\",\n",
       " \"Historically that's usually case\",\n",
       " 'Well unless live another country President He long shot Nobody wanted Hillary cause knew useless Obama policies nothing',\n",
       " 'We ’ opening night raising_hands :: thumbs_up',\n",
       " \"Can't take dish Joe snake hung neck live cnn feed\",\n",
       " 'Oh-no benefits employment goes See works yet',\n",
       " 'Good bye Flakey Fake good riddance',\n",
       " 'Limousine Liberals Western Feminists much common mutual sanctimony stands see URL',\n",
       " 'Never Trumper uses brain first time wakes fight #MAGA community waging two years',\n",
       " 'Everyone dead 2020',\n",
       " 'How white male republican maga',\n",
       " 'Great group I follow except top two follow back winking_face Retweeted',\n",
       " 'So cool candidates discuss issues Russia multiple decades',\n",
       " 'Get boy pie Stat',\n",
       " 'accusation libtarded Trump hating liberal activist Trump appointee doesnt make u wonder accusation politically motivated SLIGHTEST No This conservatives think u stupid Because u',\n",
       " '’ hetero',\n",
       " 'And ...',\n",
       " 'I sad many liberals seem love firing shots allies I saw 2016 Bernie Sanders supporters calling Uncle Tom supporting Hillary I made argument No shade hopefully block I respect opinion',\n",
       " 'It interesting aware political system',\n",
       " \"It's Liberals plans destroy Judeo-Christian culture replace w irrational science URL\",\n",
       " 'What “ actor ” Joe Biden ... ’ alll A “ FAKE ” phony actor Get stage Joe ... time come gone We “ Dregs Society ” could care less preach',\n",
       " \"You bringing honor decency With yoyo picture That's rich\",\n",
       " 'Coming person Chicago ... kook',\n",
       " '21k dong',\n",
       " 'Thanks Awake Love guys woman_raising_hand :: United_States :: red_heart Following Patriots',\n",
       " 'chloe shut fuck seriously get fucking life leave us alone idk many time fucking tell bc clearly ’ fucking get',\n",
       " 'Telling Liberals Trump President',\n",
       " \"Adicionei um vídeo uma playlist URL LIL PEEP Type Beat You're Leaving Already Melancholic\",\n",
       " 'Eric Holder prison',\n",
       " 'I ’ sorry ... I BAG listening dark URL',\n",
       " 'EXCITING WEEK AHEAD GOD BLESS YOU MR PRESIDENT #DEPLORABLES #MAGA #KAG URL',\n",
       " '#QAnon #MAGA For think nothing happening URL',\n",
       " 'BRUH THIS LMAOOO',\n",
       " 'Fisa drops FULL Servers released introduced ALL Horrors finally exposed Public made aware #DarkToLight House cards #Qanon #GreatAwakening #WWG1WGA #IBOR #MAGA #MBGA #WTOBREXIT',\n",
       " \"He's mad POS crap except divide country\",\n",
       " 'Behar .. Aren ’ Jewish Do really “ NOT KNOW ” ... supporting siding Nazis The Dems running Hitler ’ Playbook years WHY DO NEW YORK JEWS SIDE WITH NAZIS You Speak Against Israel .. WHY Are Pandering case take WHY',\n",
       " 'This super underrated',\n",
       " '#MAGA ignorant dupes Everyone knows true URL',\n",
       " 'Boycott NFL',\n",
       " 'BTW Guns inanimate objects ... evil soul behind pulls trigger URL',\n",
       " \"If anything State Law He's running Federal Office thinks Texans morons ... illegally claiming government office sending summons money #maga #Texans\",\n",
       " \"... said Kennedy model independent judge The attack Kavanaugh's character integrity via 35 year-old accusations obscures self-characterization next Anthony Kennedy There conservatives Senate\",\n",
       " '’',\n",
       " 'Obama preach gun control U S arm drug cartels Mexico advocate open borders A piece shit worth Obama',\n",
       " 'If gun control worked Chicago would safe place live',\n",
       " 'Oh tangled web weave first practice deceive Give Serena looking silly',\n",
       " 'She absolutely useless Everyone knows except media',\n",
       " \"It consensus Republican Party sexually assaulting 15 year-old girl disqualify judge sitting highest court land making life-or-death decisions women's health #MAGA\",\n",
       " 'muscles',\n",
       " 'I remember conservatives slagged Labour Party undemocratic allowing unons big say Labour policies',\n",
       " 'Typical antifa type ’ worth anyone ’ time',\n",
       " 'Garrett amazing funny Keep I love talk Harry Potter Harry Potter awesome',\n",
       " 'About Time',\n",
       " 'Why people exressing shock majority government government This fact life I E Check Liberals previously provincially currently federally Hello',\n",
       " 'You dope A delusional libtard Ask Govoner Puerto Rico fantastic response President',\n",
       " 'supporting right peacefully protest supporting sensible gun control Thank supporting America Ford We respect right NFL players protest CNNMoney URL',\n",
       " 'shows data ’ convince supremacists ACA gun control good They know still vote interests racism The question ask ‘ change minds ’ ‘ win elections ’ #valuinghealth2018',\n",
       " 'ANTIFA displays hate disagree ... hypocritical',\n",
       " 'We love Mr President Miss President office You class act friend slightly_smiling_face :: kissing_face_with_smiling_eyes',\n",
       " 'Democrats laws :p outing_face :: pouting_face :: pouting_face URL',\n",
       " 'Please leave girlfriend alone I know good yall understand',\n",
       " \"She horrible job ... maybe that's career dying ...\",\n",
       " \"I've noticed capitalist idea individual rights never extends rights individual act concert individuals towards common goal socialism Capitalism assumes everything selfish profit-driven\",\n",
       " 'Hi hopefully board one passed I apologies delay We experienced heavy delays across services passing St Albans due roadworks Apologies delayed response',\n",
       " \"I love liberals call people names that's How deserve called dirt ball\",\n",
       " '6 Reason There URL',\n",
       " 'Hope shocked bad November #Kag',\n",
       " 'Hope ok man',\n",
       " 'I think naive extreme The ATA works NDP',\n",
       " 'Why hell would I The left already hates enough Black conservatives ’ liked country I comment fight',\n",
       " 'Your dad Idol raising amazing young men',\n",
       " 'Terrible man ’ say liberals Just terrible',\n",
       " 'Even Obama Trade Rep Acknowledges Trump Is Cleaning Up An OLD Global Trade Mess URL #maga #MakeAmericaGreatAgain #makeamericaamericaagain #makeamericastrongagain #makeamericasafeagain #makeamericasaneagain',\n",
       " 'Probably indoctrinating #MAGA URL',\n",
       " 'He underrated I love pure person',\n",
       " 'It really matter wanted actress Montel grasping potential insults try discredit Dana The fact hired job good Trump haters simply attack candidate lost Montel irrelevant',\n",
       " 'Now A Liberal Intellectual You nothing Bigot Shamelessness peak',\n",
       " 'Everyone muted ... Thanks working free face_with_tears_of_joy :: face_with_tears_of_joy :: face_with_tears_of_joy #MAGA',\n",
       " 'He stroke face_with_rolling_eyes',\n",
       " 'How many antifa Do classes antifa member schools',\n",
       " 'The increasingly Leftist newspaper might explain use weaponised language ‘ white supremacist ’ refer moderate conservatives',\n",
       " 'Supporting apartheid state commits international war crimes Shame',\n",
       " 'Arms WERE ARE TO BE REGULATED BY LAW — regulations aimed near-universal armament training contemporary military grade design Arms personally owned possessed kept HOME — people #2A CONSTITUTIONAL gun control',\n",
       " 'Where integrity Trump hating agencies Justice works liberals',\n",
       " 'California consider passing gun control laws ...',\n",
       " 'Duck ass shit funny',\n",
       " 'You ’ accuse someone something like expect come forward testify We ’ suppose believe crucify I sure u liberals think',\n",
       " 'agreed fuck guy',\n",
       " '#RSSReachesOut called Liberals exposed .. Want talk Terror State .. But Boycott RSS covention',\n",
       " 'That ’ Kitchens partner He Haley ’ right hand man',\n",
       " 'This obstruction CALL THE VOTE #MAGA United_States',\n",
       " 'Oh lol',\n",
       " 'All one five dollar bills',\n",
       " \"Behold conservatives deliberately ignore fact OK gesture USED TO BE benign co-opted racists signal they're white supremacy Much like swastikas benign Asian countries still co-opted ruined Nazis\",\n",
       " \"I also grew California Doesn't matter And heard worse mean jack The president united states brag Nor watching beauty pageant contestants change\",\n",
       " 'This C back Liberals shortsighted aka stupid Crying Wolf favor past future victims rape assault Like I said stupid',\n",
       " 'Antifa sign anything ’ paid enough',\n",
       " \"URL announcements every come fruition basically stealing Labour's ideas get votes\",\n",
       " \"He's another JERK\",\n",
       " 'So summer camp relatable detention centers Liberals paint picture get non-existent point across #maga URL',\n",
       " \"He's I think he's important You're important\",\n",
       " 'Glad follow Don Great Trump supporter',\n",
       " '1 AFTER lost focused opponent So lose ... Serena losing She never losing last point 2 You say screamed loud I use word DEFENDED integrity',\n",
       " 'Stale',\n",
       " 'OLIVIA YOU ARE KILLING IT',\n",
       " 'Right I know hell saying half time I would get thrown show first episode worried_face :: confused_face',\n",
       " 'Brennan probably wrote NYT op-ed',\n",
       " \"Too many Republicans Conservatives perennially bringing knife gun fight Connecticut ended basket case state If can't stomach matching adversaries aggression level get steamrolled Every 4th grader knows\",\n",
       " 'Awewww u falling back blocking people face_with_tears_of_joy :: face_with_tears_of_joy :: face_with_tears_of_joy :: face_with_tears_of_joy end days man going day one give month strip fascist antifa mugs like secrecy',\n",
       " \"4 Omg many funny ... I choose I mention She one newest peeps I've pleasure speak Twitter lately Her tweets constantly make laugh makes day better\",\n",
       " 'Oh Yes He coward',\n",
       " 'Congratulations Joe deserve nice treat hard work every day keeping us Sareptians informed I know us CA boys appreciate',\n",
       " 'Double rating Bet NCAA loves',\n",
       " 'HE disrespecting office You standing say unacceptable',\n",
       " '4.5 million kids poverty screwed Universal Credit system Brexitshambles Economy teetering brink ... list endless common factor building country fit nothing',\n",
       " 'Free Speech Systems LLC aka InfoWars linked Foreign Intel Agency Non_Domestic entity',\n",
       " 'I beat ass',\n",
       " '#war conservatives #war unborn babies #war education #war civility URL',\n",
       " 'Girl power',\n",
       " 'Or wind cheeks',\n",
       " 'You rock Laura We need Rinos exposed They hiding behind Republican status We need new blood November It continue 2020 MAGA Our forefathers would want us save Country',\n",
       " 'You funny face_with_tears_of_joy URL',\n",
       " 'Much suckage bad And ’ look good',\n",
       " 'I want see corrupt bitch Gitmo birthday URL',\n",
       " 'If Constituents support craven If need VOTE HIM OUT URL',\n",
       " 'He decent man day age',\n",
       " '18 year old constitutional ballistic expert answers Google search trained #2AShallNotBeInfringed',\n",
       " 'She laughing URL',\n",
       " 'I believe Melania Trump abused woman maybe physically definitely mentally abuser husband afraid speak abuser',\n",
       " 'How',\n",
       " 'Conservatives enemies whites URL',\n",
       " \"Democrats would love see mob rule That's like Antifa\",\n",
       " 'She hypocrite back stabber like boss She applaud clip Neighbors help need help URL',\n",
       " 'MAGA thumbs_up KEEPING AMERICA GREAT thumbs_up URL',\n",
       " \"Dad's army\",\n",
       " 'amazing',\n",
       " 'Good Lird disgusting representation human',\n",
       " 'Yes mothers deranged left make little boys Are really going let happen Pure EVIL #VoteDemsOut #MAGA #2020 #ConfirmJudgeKavanaugh URL',\n",
       " 'Yh',\n",
       " \"When people support Gun control That's important Don't care humans life No\",\n",
       " 'Animal operative word',\n",
       " 'Cockroach',\n",
       " 'This conservative What happened party Lost plot',\n",
       " 'Could Romford Young Conservatives',\n",
       " 'All need gang sign',\n",
       " 'truly sad many things shud talking abt gun control homeless getting kids back 2 parents ’ fox_face news still talks abt U know Donald Trump truly separate country many ways one way many ways URL',\n",
       " 'Sweet Lawd beautiful',\n",
       " '5.10 Still crowd Queens Park protesting conservatives middle night power grab Shame conservatives What kind party creates chaos election Rather working citizens create healthy economy #ONpoli',\n",
       " 'Dominos ass',\n",
       " 'Liberals vile vicious disgusting URL',\n",
       " 'Does nicki even know Dreamdoll whole bully',\n",
       " 'Be ready Be prepared Because trump administration ’ going shit get hit Well .. ’ white county ’ good .. lookout Randolph county Hide yo kids Hide yo wives',\n",
       " 'Not much Trump mental He president He responds badly opposition well praise Graham needs get Mueller investigation judges Trump asked step Pence president pardon whole family New judges place The end',\n",
       " 'Meanwhile media ANTIFA ... URL',\n",
       " 'babe hope wonting women',\n",
       " 'The educational system controlled liberals works enslave minds children The chains mental enslavement must removed order save future great nation United_States',\n",
       " 'And reflection I sycophantic twat But mean wrong',\n",
       " 'No What reform She getting Trump free particular famous people exchange attention The policies worse',\n",
       " 'Unfortunately liberals agenda',\n",
       " 'Do U believe looks like new movie Peppermint shoot em Up Hollywood Gun Control Crowd What say U',\n",
       " '... Conservatives Twitter ... oxymoron thinking_face URL',\n",
       " 'AfD Like BOSS AfD-Ordner reagiert COOL Antifa Niedersachsen URL shakin',\n",
       " \"So young conservatives know also ones never focus power Order Phoenix too-many pages Harry's teen angst\",\n",
       " 'Because President Trump God gave us miracle',\n",
       " 'Aww Bradley cute',\n",
       " 'Everything order claim Conservatives party business',\n",
       " 'Cheers appreciated',\n",
       " 'Especially play Good Religious Boy routine 80 Job Interview Seriously imagine pulling crap job interview imagine interview Supreme Court Justice Kav spends WAY much time talking pure',\n",
       " 'It ’ evil',\n",
       " 'An idiot Where fuck get people',\n",
       " 'says ’ Republican mold Lincoln Reagan Supports gun control',\n",
       " 'And I thinking I like I already ... Brilliant grinning_face :: red_heart :: syringe :: red_heart :: grinning_face',\n",
       " 'A hypocritical stance',\n",
       " 'Your love one another starlight darkness surrounds May luminous love sustain first day rain cleanses heartache enduring washes away pain #RememberingEdward',\n",
       " 'Speed test computer wired see speeds',\n",
       " '11 COPY URL',\n",
       " \"Doesn't ALTERNATIVE FACT FALSEHOOD #MAGA How Alt gov accounts exist How many accounts Illegal Subverting people Who runs Who pays Where IP address tracking\",\n",
       " 'Actually soy boy',\n",
       " 'Both ...',\n",
       " \"Ann's smart lady absolutely right #BuildTheWall\",\n",
       " 'She buttering media ... Guilty ...',\n",
       " '#WomenShouldRuleTheWorld URL via',\n",
       " 'Wow Lying comes easily liberals Scary',\n",
       " 'The NRA intimidated British cartoon They stay European animation ethics unless want Europe weighing gun control',\n",
       " 'He talking big O',\n",
       " 'Women Liberals Nuff said Kavanaugh confirmed next week regardless desperate games Game #MAGA',\n",
       " 'He speaking best best With utter disrespect Our law enforcement Ice Agents first responders Low middle high class races religions DISAGREE Mr #CreepyJoeBiden GRAVY TRAIN IS OVER PUNK #JoeDontTouchSoMuch Biden dirty hand joe',\n",
       " 'hi love youuu hope okay right ariana lovee youuu',\n",
       " 'He come',\n",
       " '#Medicare NOT #Medicaid ... Liberals STEAL elderly disabled pay #WelfareFoAll',\n",
       " 'BLAME TRUMP That ’ sad good people Puerto Rico :P uerto_Rico',\n",
       " 'Lets roll #MAGA patriots Add ten favorite patriots URL',\n",
       " 'Did found',\n",
       " 'Probably say fuck',\n",
       " 'Yes He Gilmer It makes laugh much',\n",
       " 'I FUCKING love true actually ’ types jobs learn',\n",
       " 'hey Taravat interested meet immigration lawyer please let know help get citizenship get canadien citizenshop one best best lawyer ever ...',\n",
       " 'She AWESOME Thanks',\n",
       " '#Westminster #Tories Absolutely pathetic #appeasement angry_face :: angry_face :: angry_face',\n",
       " 'Fixing headline “ Antifa Protestors Chant We Believe Christine Ford ”',\n",
       " 'former diplomat',\n",
       " 'I also need address question Why President Trump hire two lawyers would hire Robert Mueller #MAGA',\n",
       " 'Right .. Total OCD right lol Yeah ... totally gonna floss sucker',\n",
       " 'We The People #MAGA #Winning URL',\n",
       " 'Ohh .. liberals fighting :p opcorn',\n",
       " 'Actions H R 610 115th Congress 2017-2018 ): To distribute Federal funds elementary secondary education form URL #Evil #Greedy #Hateful #Pigs #Education #MAGA #BetsyDeVos',\n",
       " 'Thank Julie #RushFamily',\n",
       " 'From lips God ’ ears Antonio I part Let ’ hope Conservatives part And stay vigilant polls Dems desperate There WILL fraud',\n",
       " \"Overton window shifted ago AP leftist wsj maybe centrist And lol CNN hyper-partisan fox Ok Have denounced extremists AntiFA Keith Ellison Linda Sarsour Ocasio yet I've denounced ones right ...\",\n",
       " '#GOP #Republicans #Conservatives proven Male Chauvinistic Pigs Why women would #Vote astonishing #Kavanaugh URL',\n",
       " 'Burt awesome',\n",
       " 'Well shooting shot',\n",
       " 'Libertarians conservatives working together achieve authoritarianism ... shock The name PPC similar PRC sure good choice',\n",
       " 'Planned Parenthood provides millions CONTRACEPTION thereby eliminating unplanned pregnancy unplanned pregnancy ’ potentially result abortion Conservatives possess critical thinking skills whatsoever',\n",
       " 'Yeah need made bullshit protestors antifa lol time epic beatdown winking_face',\n",
       " \"Flake shld end search relevancy He's RINO filled w hatred POTUS #Despicable behavior\",\n",
       " 'Is platform us',\n",
       " 'She activist liar GOP wants get oath She go Kavanaugh gets nominated',\n",
       " \"He farmer thay grows stuff make canola Land O'Lakes refuses dilute pure butter ... maybe ...\",\n",
       " 'pathetic',\n",
       " 'She clothed strength dignity laughs without fear future Proverbs 31:25 two_hearts',\n",
       " 'If banks fall peoples money falls',\n",
       " 'Hillary good reason keep electoral college',\n",
       " 'He painter thumbs_up :: smiling_face_with_heart-eyes :: smiling_face_with_heart-eyes :: smiling_face_with_heart-eyes :: smiling_face_with_sunglasses :: smiling_face_with_sunglasses :: smiling_face_with_sunglasses :: OK_hand',\n",
       " \"It's amusing sickening watch scientists twist knots justify gun control agenda #gunsense dishonest\",\n",
       " 'You hilarious way good',\n",
       " 'Pretty much As I ’ stated I believe gun control aspect The guns ’ problem people ’ guns Where draw line How prevent “ bad crazy ” people shooting crowd Surely ’ answer',\n",
       " 'Or raised hand SMH',\n",
       " 'quit sex',\n",
       " 'Now ’ pot calling kettle black Liberals nothing bullies Antifa-Bullies Trump Haters-Bullies',\n",
       " 'sis Mandys nose havin ass grim adventures billy Mandy smell shit wheeew URL',\n",
       " 'According student spoke condition anonymity furniture Johnson Hall replaced even shittier couches #seuday',\n",
       " 'I know Oprah Winfrey knew play tennis . .. face_screaming_in_fear',\n",
       " 'Liberals always play victim URL',\n",
       " 'Why engaging brit antifa I lost track',\n",
       " 'You realize ridiculously radical tweets sound right Who trying mobilize antifa',\n",
       " 'Just know better place',\n",
       " \"Bridget that's another Crazy One Absolutely correct She Mess President Head hand She gone Jail She MONSTER URL\",\n",
       " 'You admit These Democrats know fleece dollars Democrats Stormy made huge profits D ’ flooding strip clubs stick dollar G Liberals easiest society fool ..',\n",
       " 'She great As long wins title eventually',\n",
       " 'The FBI already done 6 investigations Kavanough How many whining liberals need face_with_rolling_eyes',\n",
       " \"My divorce Everyone says We're picking side And totally Trials life great indicators realness people It sucks first great #EverybodyTalks\",\n",
       " 'He',\n",
       " 'Lol rolling_on_the_floor_laughing :: rolling_on_the_floor_laughing :: rolling_on_the_floor_laughing every gf ein track Whole ass album pahh',\n",
       " 'I hear words well I faith As far I know co-founder right-wing Islamic youth association whose policy certainly regarded forerunner islamic-extremism Dear Mr Grenell let us hope right assessment',\n",
       " 'So seem forgotten facts Mayor ’ “ dying ” speech 100s pallets supplies behinder Warehouse supplies found rotting Runway pallets water never distributed Mayor getting indicted',\n",
       " '#TuesdayThoughts Why Democrats liberals feel compelled stop conservative judge like Kavanah Supreme Court Democrats favor upholding every immoral law country Who would prefer evil instead good',\n",
       " 'Anyone surprised #CloserNation #MAGA #QAnon URL',\n",
       " 'Those two definitely could I agree even last year Tom threw 500 lost One strip sack away possibly driving best win Super Bowls It goes ways though Tom also helmet catch away winning another ring well',\n",
       " 'You happy friend',\n",
       " 'No gun laws prevented violence Chicago DC laws far strict Gun control laws lead deaths innocent people ’ protect criminals',\n",
       " 'And pro Americans embarrassed sick anti America liberals There plenty countries lefts ideology already place Move',\n",
       " 'There plenty evidence guilty Hill accused since conf hearings guilty innocence got bench Times diff Why journalist call white supremacy alt-right Antifa pick',\n",
       " 'He went broke got propped white liberals Hollywood That ’ white privilege day long Stop defending coke head Tom Arnold',\n",
       " 'God wants us die To put selfishness seek Him His He awesome The depth eternal love humbling awe inspiring',\n",
       " 'Yet another really stupid take Erick He single issue thinker ... overturning Roe Anything gets way mocked trivialized He core beliefs',\n",
       " '#usaafr18 looking forward Dr Deirdre Cooper Owens give Wednesday October 17 2018 lecture Medical Bondage Birth American Gynecology',\n",
       " 'Josh I fucking loli robot',\n",
       " 'Mueller told either would co-operate go prison life executed ... coming #MAGA #DrainTheDeepState #ConfirmKavanaugh #TraitorsAll',\n",
       " \"#TuesdayThoughts The White men Anyone else tired identity politics And see women victim liberals Go vote Aren't tired getting bashed\",\n",
       " \"Just reading gives anxiety anxiety But really suck takes sheer power overcome Don't afraid seek help ask doctor need medication There shame\",\n",
       " 'Thank first lady service USA putting vile liberal hoard everyday You true patriot #MAGA',\n",
       " 'Yes Debunked URL',\n",
       " 'A new bill aims send masked Antifa activists jail 15 years URL',\n",
       " '#roeselare #conservatives wrong What wrong left URL',\n",
       " 'It sure Hope grand final side',\n",
       " 'Nobody cares thinks wants She ’ elected haha And ’ helping party either stay helping conservatives Progressives DONT LIKE YOU',\n",
       " 'BE GONE THOT offence intended probably nice lady slightly_smiling_face :)',\n",
       " 'So content let government control life',\n",
       " 'God help us woman cant even get coherent sentence mouth',\n",
       " 'You apiece shit WHY WOULD YOU KILL THAT ANIMAL How mother',\n",
       " 'She parasitic lump',\n",
       " 'LOL What ’ failing miserably 11th hour ambush liberals Every minute #ChristinaBlaseyFord refuses commit appearing people like lose credibility I love face_with_tears_of_joy :: face_with_tears_of_joy #tcot #p2',\n",
       " 'These things happen time time Likely antifa group like causing trouble nothing better',\n",
       " 'You go Mike way Sarah best lair URL',\n",
       " 'You welcome I know I speak every one thinking It ’ good meeting place us red_heart',\n",
       " 'Antifa never attacked voters way That ’ full lie You informational diet thinking cotton candy vegetable You might want reflect',\n",
       " 'divine',\n",
       " 'We thousands gun control laws Which ones ’ “ sensible ” enough',\n",
       " 'imagine unironically believing liberals support antifa',\n",
       " 'NO ONE needs hunting Canada Spread word.There place civilized society rifles shotguns.The Coalition Gun Control 200 associations behind us support Liberals In name safety kids Mr Blair ban guns',\n",
       " 'Schumer also wanted IRS go conservatives Tea party organizations Obama administration Chucky clown wants President Trump impeached stop voting Democrats Tell Chuck confirm 400 nominees still waiting job',\n",
       " 'Of course Probably record lifetime',\n",
       " \"I'm ya I played beta last night I'm fan since bad company 2 mind u shit fucking awful gunplay I fine graphics themself spooky hell bright makes nauseous\",\n",
       " 'Energy Independent',\n",
       " 'I think reality ‘ truth phobic ‘',\n",
       " 'killing We landed PHX 30 min early SAN sitting tarmac 40 min Now officially late looks like I going miss connection OAK This sucks',\n",
       " '#WebberForCongress #NJ11 #MAGA cannot allow #Liberals #Impeach #POTUS #Trump URL',\n",
       " 'When LVMPD MGM going held accountable #VegasShooting subsequent coverup knee jerk Gun Control Anyone else find curious first surveillance video released MGM exclusive New York Times',\n",
       " 'Gun control anyone #DisarmHate',\n",
       " 'We win Menendez seat #MAGA United_States There 2.4 million registered Independent Republicans NJ outnumber establishment R ’ 2:1 United_States Only 2.1 million registered D ’ NJ United_States On November 6th NJ R RINO United_States This mid term NJ True Red I-R',\n",
       " 'I think clue leadership liberals temperament 2 year old children told ... intellectual brilliance goat .. please stop tweeting TDS making look quite fool ..',\n",
       " 'FASCIST LEFT ARE EVERYWHERE We must crush boycotts work folks',\n",
       " 'Shit getting hand',\n",
       " 'OMG Did see “ almost ” victim chance shoot “ incompetent ” criminal gun We need better gun control laws',\n",
       " 'In case antifa take little bat something Good kind thing',\n",
       " 'So ’ effected radiation killed I hope mentions Lady Gaga witch Since known immortal witch supreme',\n",
       " 'Yes ... #Occupy changed T-Shirts #Ferguson changed T-Shirts #BaltimoreRiots changed T-Shirts #Resist changed T-Shirts #Antifa spread DEMOCRAT VIOLENCE',\n",
       " '---> The American Revolution would never happened gun control #USConstitution',\n",
       " 'There deal made gun control knob The 2nd Amendment right one deal away',\n",
       " '4 But I called hotel send shuttle come pick mother sitting terminal airport agents 5 I reminded wheelchair passenger cannot speak English How hotel find',\n",
       " 'Right thumbs_up :: thumbs_up #MAGA United_States :: folded_hands :: United_States #WWG1WGA United_States :: oncoming_fist :: United_States',\n",
       " 'Everyone Washington including John Heinz uncovered corrupt elites ... Like cockroaches running light',\n",
       " 'Liberal Dictionary Illegal Immigrants Dreamers Trump Supporters Deplorable Dregs MS 13 Killers Human Beings Babies Womb Not Human Beings Antifa :P rotestors Law Abiding NRA Terrorists Bill Clinton Feminist Brett Kavanaugh :P redator Liberalism mental disorder',\n",
       " 'At least honest lmao',\n",
       " 'State level crime alleged offender juvenile Silly liberals crime committed Kavanaugh probably one liar Ford #DemocratsDividingAndDestroyingAmerica #DemocratsHateAmerica',\n",
       " 'America first #MAGA magic',\n",
       " 'Can I pick one URL',\n",
       " 'Twitter silence alex jones retaliation asking Twitter jack questions URL',\n",
       " 'Could kiss ass You complete disgrace Senator #VoteHimOut #VoteBlue #VoteThemOut #Blackmail URL',\n",
       " 'Good riddance',\n",
       " 'Man shit got hype like I watchin 18 years ago',\n",
       " 'You compare two countries like ’ always find one stricter gun control lower murder rate pattern democratic freedoms',\n",
       " 'Carrey truly mentally ill He ’ completely disturbed concept reality',\n",
       " 'This Chicago ’ enforce gun laws books go neighborhoods These murders planned gun control liberals pass strict even confiscation guns Black Luves matter liberals trying pass agenda 2 Admendment',\n",
       " 'Glad I basically never watch NFL',\n",
       " 'Antifa Fighting neo-Nazis oppose fascism neo-Nazis running people cars This pointless Enough',\n",
       " \"Dear Liberal #FakeNewsMedia This gesture call white power gesture actually NORMAL people call OK gesture I realize fun make believe white power name yeah That's means OK OK #WalkAway #MAGA URL\",\n",
       " 'ball court',\n",
       " 'This unfortunately real way Democrats feel Blacks If could would put us Plantation Socialism making citizens slaves Government The Conservatives never let happen This kind Treason 2 Amendment',\n",
       " 'Eric Smolder Ex Atty Genl Epitome Labamba govt sheister',\n",
       " 'removable magazines still problem limiting high cap mags another bit gun control legislation needed curb health problem country',\n",
       " 'Be like Haiti Obama Clinton',\n",
       " 'I tell suck sure',\n",
       " \"Maybe I'm wrong take oath preserve uphold constitution Take people control gun control gtfo crazy Steve Willeford says hi Don't know name Perhaps Google realize stupid\",\n",
       " 'bore something mean nothing done past Wow wore tracksuit probably would warn many things ..',\n",
       " \"Got antifa stories share I'm interested\",\n",
       " 'Likely shift He political operative GOP This life-long dream many working towards outcome decades It ’ sad',\n",
       " 'Establishment turd :p ile_of_poo Conservatives much better memory liberals We ’ eyes full hypocrisy blinding us URL',\n",
       " 'Thank Yes sick loudly_crying_face',\n",
       " 'Trump Is Making America Great Again URL',\n",
       " 'pres trump right release classified docs proves investigation biased began Its almost 2 yrs later mueller nothing trump Damage presidency occurred due liberals',\n",
       " 'You good drawing',\n",
       " 'bitch saw whole ass tweet wednesday bitches always talking shit back pedaling lmao admit',\n",
       " \"That solidarity Israel banner photo Antideutsch infiltrators originally used online mag Bunker connections fashy pro-Žižek types 8chan leftypol board It's go-to image anti-antifa crowd Archived URL\",\n",
       " '#Spanishrevenge vs #justice #HumanRights #FreedomOfExpression #Spain #fakedemocracy #cddr #shameonSpain #WakeupEurope URL',\n",
       " 'Kavanaugh short list year ago If liberals think good idea imagine many people future zero evidence 30 yrs later including year accuse people ruin lives including liberals politicians',\n",
       " 'Being paid doubt',\n",
       " 'Absolutely',\n",
       " 'Today history repeating Liberals got away disgusting tricks long They need stopped deeply damaging country Democrats concerned country power money I know NEVER happen',\n",
       " 'And seems getting things done',\n",
       " 'Exactly Hat true Feckers I detest',\n",
       " 'Let ’ hunt face_with_raised_eyebrow',\n",
       " 'favorite person earth know If ’ ever hungry want food I bought 40 count bagel bites steel yard Walmart I ’ able eat please keep mind',\n",
       " '#GunControlNow running hit piece CMP The CMP teaches gun safety young people promotes responsible gun ownership sell so-called assault weapons banners targeting Are clear gun control URL',\n",
       " 'Please ’ confuse liberals facts rolling_on_the_floor_laughing :: rolling_on_the_floor_laughing :: rolling_on_the_floor_laughing :: rolling_on_the_floor_laughing',\n",
       " \"I'm talking someone historical background heritage Guns She Roman catholic ... They generally gun control You research sir\",\n",
       " 'man_shrugging_medium-dark_skin_tone gay oh well face_with_tears_of_joy :: face_with_tears_of_joy havin mfs HOT Lol I like plays',\n",
       " 'Vigano come forward ... reveal ... reveal documents ... board helping prosecution ...',\n",
       " 'He president im @USER',\n",
       " 'I see May light Even last election Conservatives A split coming Tory partyvery soon',\n",
       " 'Best part read exchange thread year later dude comes back blm Antifa caused nazis bullshit lmao And best mean saddest',\n",
       " 'I hope traded winter worst defensive catcher I ’ ever seen itsnot even funny anymore 14 passed balls 71 games Wow ... ’ nuts',\n",
       " 'What average wage average house price Thatcher charge That ratio fundamental reason Build many like genuinely affordable wasting resources',\n",
       " 'Ive judged old woman anti semite Joan Ryan right You playing semamtics Youre disgrace',\n",
       " 'Rampant crime You mean Chicago dem city highest gun control country Taking credit black man Everything fell stagnated Obama And caging brown families Clinton Bush Obama far worst extent And thier illegal whatever',\n",
       " 'She unhinged taken seriously anybody',\n",
       " 'Liberals Kookoo',\n",
       " 'BITCH I JUST POSTED ABOUT THAT KDKSKSKS I HOPE YOU GET BETTER SOON',\n",
       " '#Trump walking towards crowd excited see He reciprocating love That moment reception 911 It genuine honest Barack nothing actor fakes crocodile tears call gun control',\n",
       " 'call time got call raising_hands_light_skin_tone showing perform big level might top 4 club score give chance ..',\n",
       " 'All I see lemmings',\n",
       " 'hopefully boyfriends girlfriends interviewed Possibly past students said little psyco kavanaugh questions Monday',\n",
       " 'whens next meeting',\n",
       " 'I think ’ ok say “ I disagree Bernie military spending find record gun control troubling ” still support',\n",
       " ':) drop rn procrastinate',\n",
       " 'You',\n",
       " 'Hmmm MEPs elect UK attend European Parliament represent UK It ’ framework operate We ’ victim leave subject rules ’ even control It ’ #BrexitShambles Let ’ stop',\n",
       " 'Islamists Antifa leftists would allow us lay wreath memory 9/11 victims',\n",
       " ':p ick hmm .. closest emoji shovel go figure ...',\n",
       " 'Ur fucken fake I ’ fucken prize',\n",
       " 'GOOD middle_finger',\n",
       " 'You know Senegalese face_with_tears_of_joy :: face_with_tears_of_joy',\n",
       " 'advocating conduct within bounds Human Rights terrorists categorized Human They kill people mostly innocent like berserk wild beasts Even wild beasts kill hungry So I feel Indian Army greatly URL',\n",
       " \"face_with_tears_of_joy :: face_with_tears_of_joy :: face_with_tears_of_joy :: face_with_tears_of_joy :: face_with_tears_of_joy :: face_with_tears_of_joy yeah Peaceful right .. Well .. know they're right No counter protests Unlike fascist Antifa As 7k .. counted Dianne Abbott\",\n",
       " 'Really MAGA VOTE TRUMP 2020',\n",
       " 'WHAT numbers YOU use Where YOUR numbers come WHY ignore current THEFT Medicare Is ignoring cost ignorance deceit MAKE Liberals pay #WelfareForAll #Iatrogenesis',\n",
       " 'Hi Amy ... book read list ... thanks speaking Hope well slightly_smiling_face',\n",
       " \"Look shamelessly liberals lie destroy man's life ...\",\n",
       " 'Their gullibility They think politician R name good guy research person',\n",
       " 'hope enjoying strictly training URL',\n",
       " 'Not mention Jim seriously medical condition What SJW tactic take Sargon seriously become ANTIFA',\n",
       " 'A modern day Norman Rockwell #QAnon #MAGA URL',\n",
       " 'Never going happen Bernier split party They ’ power All hard core conservatives west Bernier',\n",
       " 'shana tova #Antifa warrior friends 24-7- 365 :: LIVE Jerusalem WEBCAM TEMPLE MOUNT URL',\n",
       " 'Long time prisoners also hard time',\n",
       " 'A recycled tweet stir passions men watch porn strangely insult women make Well done BB',\n",
       " 'I know 15 I still ’ think ’ real',\n",
       " \"We're pleased hear You welcome\",\n",
       " 'never trusted ass',\n",
       " 'Medically treat addict mentally ill gun shooter medical cause 1st need wall gun control',\n",
       " 'What exactly Willy anyone half brain would consider conservative The guy literally poster child Liberals',\n",
       " 'Even Antifa mocking face_with_tears_of_joy',\n",
       " 'Agreed ... future',\n",
       " 'Liberals putting politics ahead economy Never',\n",
       " 'Sean Spicer Donald Trump happier times #MAGA #TheResistance #MondayMotivation URL',\n",
       " '#maga empty slogan promise rallies sheep towards hollow shepherd',\n",
       " 'The president ’ feelings totally opposite CNN ’ feelings So say CNN They ’ liberals',\n",
       " 'Anyone supports gun control racist Just like Shannon Twatts',\n",
       " 'AND I gotta wait till March DLC comes man_facepalming_medium-dark_skin_tone',\n",
       " \"I I'm voting absentee first time midterm #MAGA\",\n",
       " 'HPLYK FUCK',\n",
       " 'censored #Qanon merchandise Really Zazzle Meanwhile communism Antifa merch allowed site The constitution USA means nothing Well done time take merch elsewhere #WWG1WGA URL',\n",
       " \"Don't worry fellow #Antifa #resist member I made excellent plan stop Russian influence good I call General Plan Ost We invade Russia's western border three different army groups cleansing population way Moscow\",\n",
       " 'Beto-male',\n",
       " 'He never live You know furious Can U imagine world leaders thinking meet :d ouble_exclamation_mark :: face_screaming_in_fear',\n",
       " 'This antifa ... bunch cry babies Toronto',\n",
       " 'surely saint latter days',\n",
       " 'back',\n",
       " \"Pm looking like extra Tory version SAW 2018 suddenly realised must cut limbs survive.If escapes particular nightmare still politically deceased PM It's impossible appease MUKGA Tories want compromise URL\",\n",
       " 'Do state right ... Cali Chicago protected many strict gun control laws',\n",
       " 'liberals drink Kool-aid They live bubbles think lot people like If could see clownish look act',\n",
       " 'Aww pooky bear ... You victim',\n",
       " \"So babies future men I suppose ripping limbs sucking dead bodies putting trash That's sorta thing\",\n",
       " 'sounds great already came 2 dumb drawings involving im sure make ... espacily since havent even read chapters manga yet',\n",
       " 'Probably screaming gun control',\n",
       " '2 The IRS attacked conservatives The FBI rose Presidential Candidate Suspicious deaths occurred The Police branded social enemies DACA gave rise illegal immigrants voter puppets The Military weakened Iran funded Nuclear capabilities',\n",
       " 'Kane trying stay relevant Ever thought cats beaten better hungrier side He kidding self thinks worried whacky Wednesday instead concentrating footy final #flog',\n",
       " 'They know admissible attempting contaminate jury They working overtime ensure found guilty ...',\n",
       " 'So propose ward deal Put gay lesbian youth opposite gender Or segregate kids entirely awful idea I ’ going assume experience knows talking',\n",
       " \"YOU followed Flake's lead LEFT Senate YOU one unpopular guy Always working POTUS Just another RINO Senate Swamp Creatures\",\n",
       " 'Reason number 865 conservatives ’ comedy',\n",
       " 'Hiding like caged animal',\n",
       " 'Feinstein wanted delay midterms Hopefully RED wave wash Atlantic #MAGA',\n",
       " 'happy birthday dad ily thanks best man caring us love appreciate koala :: bear_face',\n",
       " \"Everybody's doin ... #MAGA\",\n",
       " 'Who ring leader brain dead sheep Time turn back',\n",
       " \"hmm i'd something like getting really high quality artists draw really boring cars like fucking 2002 grand prix something\",\n",
       " 'The far right making noise Antifa burning schools attacking people Deal reality',\n",
       " 'Confirm Kavanaugh Now #MAGA',\n",
       " 'Still excuse ... Where TF parents They using using',\n",
       " 'Nobody interferes steals elections liberals western democracies including America Soros Why investigation charges Yet',\n",
       " 'Either way #NY screwed',\n",
       " 'First old blind guy polygraph someone pass Then find GOP office throw fireball window Wear antifa mask break university property Maybe wear swimsuit say groped badly',\n",
       " \"NOW I KNOW WE HAVE A LOT OF PEOPLE TO FEED BUT THESE TWO THESE ARE MINE NOW GO BACK TO FEEDING PEOPLE I'M STARVING I HAVEN'T EATEN IN AT LEAST 40 MINUTES YOU NEED A MAGA HAT URL\",\n",
       " 'Hi would come ENGLAND time life want disappointed I give orgasim like nothing gotten probably past life I make piss many times like interested call inbox 07405077156 WhatsApp',\n",
       " 'Just blocked 4th So much easier know drives nuts rolling_on_the_floor_laughing',\n",
       " 'For Why asking arrest Liberals butthurt 19 months impeachable offense',\n",
       " \"I see It's damn shame delusional He's gotta worst Even Boston Ben stans\",\n",
       " 'tell Cal I said I wanna know smiling_face_with_smiling_eyes :: purple_heart',\n",
       " 'How right',\n",
       " 'Bring Antifa criminal son campaign',\n",
       " '... accepting premise government solve life ’ problems conservatives Republicans ... get bidding war progressives Democrats The Libertarian Party party truly wants less government URL',\n",
       " \"Ummm can't hear hears bat poop crazy like\",\n",
       " 'Fast furious criminal behind bars',\n",
       " \"He IS 10x REAL ONES know Kuniva He'd rip anyone apart right NOW Studio street\",\n",
       " 'Voting well Democrat I assume',\n",
       " 'Dude old Lmao PS Go Pack Go',\n",
       " 'The dems done since KKK Except back accused black men raping white women lynched Same play old playbook Everyone liberals crying outrage fake pressuring Ellison resign',\n",
       " 'This blatant threat #MadMaxineWaters ginning ANTIFA base I smell violence #WakeUpAmerica URL',\n",
       " 'I love She sweetest two_hearts',\n",
       " 'The Tory country first meant The rest still suffer austerity caused rich banks Parasitic Tories always always The evil party',\n",
       " 'Do know ANTIFA stands',\n",
       " 'Treason hang business even trying F think Trump needs Lock fast',\n",
       " \"Al Franken anyone Any assault harassment stays lifetime I sexually harassed HS coach I 17 I remember like yesterday I'm almost 60 Scott Newman scum\",\n",
       " \"Don't think much accomplish goal\",\n",
       " 'rich liberals',\n",
       " 'A military tribunal get Holder',\n",
       " 'Then going super man hard time',\n",
       " 'Democrats getting everything deserve',\n",
       " '7 piece explaining allegations conservative bias conservatives calling regulation URL',\n",
       " \"Haha that's I'm unique A lot Americans can't find Sweden map And I'm like jag älskar Sverige smiling_face_with_heart-eyes :: blue_heart :: yellow_heart :: Sweden :: red_heart\",\n",
       " \"No there's equivalence It's sides Conservatives contrived controversies division refusal acknowledge basic facts biggest obstacles foreseeable future\",\n",
       " 'demanding better time around Kavanaugh Survivors always asking ‘ I safe ’ wrote Right conservatives telling ‘ NO ’ URL #LarryNassar',\n",
       " 'I SAW IT mi rosoft sucks translations',\n",
       " 'He vile',\n",
       " \"You're right They seemed pretty tuned conspiracy Russia #MAGA #TrumpLies\",\n",
       " 'He ’ cocky SOB needs brought knees',\n",
       " 'President Trump ’ 17th Wave Judicial Nominees URL #TCOT #MAGA #RedNationRising',\n",
       " 'Sending commiserations Cardinal losses brioche cinnamon roll picture URL',\n",
       " 'And Lambda would lower end others saying high end trying influence Anyway right I using better investment exclusively return PoV quality life return PoV ... money',\n",
       " 'Those fucking calves man :d rooling_face',\n",
       " 'This game sucks donkey balls',\n",
       " 'people talking crap serena questioning maturerity justifications action If never get burn know feels get burn Serena knows seen She tired speaking issue',\n",
       " 'mom speaks phone compose text brother angry yells phone telling type like brother able tell even yelling woman_facepalming_light_skin_tone',\n",
       " 'Dont guy Whoops Too late You guy Unfollowed ...',\n",
       " 'Anyone tabs Asia Argento #metoo',\n",
       " 'I ’ watch watch Watching September 11th stories came together stood shoulder shoulder made proud even issues yet people playing damn game cannot stand moment — protest Saturday',\n",
       " 'Looks like liberals already found guilty like usual anything started She apart resistance me-too movement They pics marches pink hat How much payed play part',\n",
       " 'Interesting GOP even liberals placing burden accuser This trial examination whether Judge Kavanaugh reaches high enough standard shape U S law several decades The burden',\n",
       " 'Susan Collins Puzzling Why Kavanaugh Allegation Came So Late URL #TCOT #MAGA #RedNationRising',\n",
       " \"He'll replaced . . . . . . . . another Muslim\",\n",
       " 'More fear tactics make people attack It ’ bullshit',\n",
       " 'withdraw Trump whole list conservatives pick',\n",
       " '#Mueller #DOJ #FBI #CIA #LawEnforcement #PoliceState Proof law enforcement paramilitary goons communist leftwing #DNC anything solidify grip power Conservatives seriously question support police URL',\n",
       " 'Wow He Malloy #voteredNovember2018',\n",
       " 'Says guy thinks Labor Australian equivalent USA liberals socialists face_with_rolling_eyes',\n",
       " 'Because CHEAT Just WIN cost new motto And MAGA shit raised_fist',\n",
       " 'Yes That ’ liberals',\n",
       " 'Ugh ... one',\n",
       " 'The epitome class A big fat class',\n",
       " 'Our President ’ radicalizing anything Your antifa resist mobs That ’ gaslighting lol saul alinsky much #WeThePeople #GreatAwakening',\n",
       " 'Well ’ complimenting body clearly proud ’ naked every episode',\n",
       " 'Sit Fredo You irrelevant No one elected If minded business instead trying make player maybe headed prison Do realize take daddy first cannot pardon Ticktock',\n",
       " 'high',\n",
       " 'Yes watching elitist prima donna toss tantrum court called penalized cheating getting coaching pretty entertaining HER COACH EVEN ADMITTED I WAS COACHING HER Now back regularly scheduled sanity rule law accountability',\n",
       " \"get right vibe yet feels like uproar It's affected yet Wait untill 6million inc Full time work claiming HB Tax Credits subject UC's Owellian total controll Will Armageddon sinks\",\n",
       " \"Okay that's enough A C shit They dont care neither\",\n",
       " 'Christina would better choice Courtney Hadwin done much amateur making America believe',\n",
       " 'And probably loaded face_with_tears_of_joy :: face_with_tears_of_joy :: face_with_tears_of_joy done cod 8 years face_with_tears_of_joy :: face_with_tears_of_joy :: face_with_tears_of_joy :: face_with_tears_of_joy sponsors aint money ..',\n",
       " 'biased conservatives :d ouble_exclamation_mark everyone drop google use Bing DuckDuckGo',\n",
       " 'She Have seen tweets lately',\n",
       " 'What wrong criticising Muslims seeing British people get away brits get labelled “ racist fascism ” blame liberals letting happen',\n",
       " 'Nah Antifa good get killed',\n",
       " 'Do dare say ... better Nyjer',\n",
       " 'Are guys really still supporting party suspended went coalition Deary Talk desperation noticed',\n",
       " 'IM SAVING THIS GOOD SHITTT',\n",
       " 'That many “ thoughtful conservatives ” rushed Kavanaugh ’ defense ’ consider statements black teenagers tells everything “ thoughtful ” truly',\n",
       " 'He gets confirmed Conservatives ’ care ’ rapist At',\n",
       " 'A Divided Self “ My Name Legion ” Demon possession overall marked loss freedom The Gadarenes Us URL #ergnews #antinazigr #antifagr #antifa #Stopthehate #GoldenDawn #GDtrial #JesusChrist #JesusSaves #JesusIsLord #JesusIsGod #prayers #hope URL',\n",
       " 'need hang strong together actions hand tories life line plate without going ripped apart come next general election',\n",
       " 'still get half work days sit computer bed lmao',\n",
       " 'I want want clearheaded Her eyebrows rose question challenge waiting response',\n",
       " 'Henny ... Why outside Where u ya pussy ass sister We wanna talk',\n",
       " \"What democraps someone else It's nothing smear campaign Liberals honest enough admit\",\n",
       " 'You right free speech one thing makes country great Another flag symbol gives us right',\n",
       " \"16 However views I agree He believe climate change He opposites woman's right abortion He thinks gender issues black white Me man woman imagine Tarzan voice Gun control exist\",\n",
       " 'call gun control Oregon prohibited state federal level',\n",
       " \"27 reported deaths Sutherland TX church shooting Dems already calling gun control shootings I'm waiting report pedophile content allows There reason American media establishment trying tell stop taking\",\n",
       " 'Talk pot calling kettle black ... You ashamed cash payoffs Iran helping Iran become necular power It would better set sales gave us big wave goodby clean mess URL',\n",
       " \"#WinForUs Antonio We're #MAGA\",\n",
       " 'Aren ’ late antifa meeting',\n",
       " \"Is act DOJ employees stalking Trump appointees hitting staged protests Is Maxine Waters part plan Antifa AG Sessions part Plan He's Stonewalling protecting status quo\",\n",
       " 'Sorry hear loss friend :(',\n",
       " 'You wonderful asset great influence',\n",
       " 'This ’ king #maga URL',\n",
       " 'I ’ always seen classical Liberaltarian . . . . . I ’ eat freshest Classical liberals ...',\n",
       " 'got signing book ... cute URL',\n",
       " 'More like I ’ missing ... lmao I ’ bitter ignored yet I ’ ignoring ’ I ’ like ’ hard message loudly_crying_face',\n",
       " 'I anime fan means I like She cutie',\n",
       " '#serenawilliams yes boycotted She nasty bit work',\n",
       " 'What death threats Antifa sitting outside house like Republicans Why scrub social media',\n",
       " 'Nigga say bo2 best Cod face_with_raised_eyebrow URL',\n",
       " 'He',\n",
       " 'If craziest MF Sadly NOT There far worse examples good Christians',\n",
       " 'Maxine Waters inciting violence conservatives Thank goodness minion ’ switch blade ’ working ’ get flip open stab conservative House candidate',\n",
       " 'Patty You injury prone like grinning_face_with_sweat',\n",
       " \"Barf squishy self-righteous source That's whole deal TBC They're young dumb history major conservatives who've swallowed SJ BS like hand wave I'll assume without evidence Prager lame\",\n",
       " 'exactly sound like Complete dog shit Been meaning tell #long #cox URL',\n",
       " 'I follow MAGA Patriots United_States :: red_heart :: United_States :: red_heart :: United_States :: red_heart :: United_States',\n",
       " 'Manny_Ottawa amature political hack nothing PC agenda Was never credible enough bench He ’ handle truth The Liberals weakest link joined PC party',\n",
       " 'Feinstein Schumer political assassins Thank heavens able give GOP courage fold far Conservatives need hit back hard political criminals',\n",
       " 'I know many antifa fight harder ... waste government socialist money URL',\n",
       " 'Gun control ... breathe ... sight picture ... squeeze This professor needs instruction :)',\n",
       " 'Any Texan would grant automatic citizenship illegal immigrants never elected',\n",
       " 'FEMA contacted Senator told.its TV hit take He Is liar If set ... would put big girl panties tell truth',\n",
       " 'Liberal Dictionary Illegal Immigrants Dreamers Trump Supporters Deplorables MS 13 Killers Human Beings Human Beings Womb Not Human Beings Antifa Protestors Law Abiding NRA Membbbqers Terrorists Bill Clinton Feminist Brett Kavanaugh Predator',\n",
       " 'Spill T sis hehe',\n",
       " 'Funner FACT This company created C I A And WORLD knows LISTEN PLEASE URL',\n",
       " 'Good friends like stars You ’ always see know You star life ☆ URL',\n",
       " '22 years old wandering streets New York City big apple hell beyond still subject n word still models call n person year yet cares afraid u know',\n",
       " 'I hope true another good death nail liberals chances Amazing respect money hard working Canadians',\n",
       " 'Now thats diffrent situation either way gotta appreciate considering fact actually liking impress means aint like',\n",
       " 'I buh u really know would know Khabib guyyy He gonna make humble',\n",
       " 'Wow priceless A college educated professor self-inflicts bullet wow “ brilliant ” URL',\n",
       " 'Not mention ’ ones allegedly defend freedom liberty use NSL McCarthyism silence dissent almost sent paratroopers quash candlelight revolution Conservatives hate democracy',\n",
       " 'Beautiful Alex I hope feeling better Miss smiling self morning',\n",
       " \"face_with_tears_of_joy :: face_with_tears_of_joy :: face_with_tears_of_joy :: face_with_tears_of_joy whatever It enough Antifa rest stay home Peaceful Dignified On Point Last time left I'll wait\",\n",
       " '’ going communicate customers',\n",
       " 'She went high school Dumb liberals prevalent area',\n",
       " 'The tenet American Justice system ... accompanies liberals GUILTY UNTIL PROVEN INNOCENT URL',\n",
       " 'Why fact-checking tweet Democrat I would expect tweets political candidates Or AP Liberals',\n",
       " 'running scared clown_face',\n",
       " 'The first person got sex animals ..',\n",
       " 'Yes',\n",
       " 'Expanding protection rights opposite curtailing rights Gun control curtails rights',\n",
       " 'Epic fail front Hopefully succeed future',\n",
       " 'This political theater Are liberals really stupid believe FBI investigates state crimes Especially incidents happened 36 years ago juvenile This nothing tactic delay Kavanaugh ’ confirmation',\n",
       " 'He tf thats Hail Mary involed skill',\n",
       " '#Muslims #Islam finally got #WhiteSupremacist #Terrorists wanted long harp say worse .. Two 15 year old boys #Ramsgate Jesus thinking_face #MAGA #MEGA #MCGA #MBGA #Conservatives #Patriots URL',\n",
       " 'Ya looks like lit MMA accounts Weird',\n",
       " 'Hillary Condemns Kavanaugh Bill Clinton Accuser Responds URL via',\n",
       " 'AWESOME clapping_hands NEWS',\n",
       " 'Maybe Antifa find gainful employment join american dream URL',\n",
       " 'How Britain end upside ditch four wheels spinning lazily air How could rabid wealth thirsty drunk power wheel #BritishToryCarCrash #ToriesOut',\n",
       " 'Yes But still fired ...',\n",
       " 'Bill Clinton 90s Gun Control law banned Assault Weapons effective public safety policy NRA worked undo Bush years Clintons profiles courage take GOP beat NRA Weak NRA Bernie voted 5x NRA',\n",
       " '97 Americans want form gun control 62 Americans want government protect environment 75 Americans say immigration good thing 100 Americans believe HotDogs belong crusts pizzas Italians like suck',\n",
       " 'Holy shit',\n",
       " 'Good luck',\n",
       " 'She piece shit I sorry bluntness From I going say I think whether bluntly rudely',\n",
       " 'He HAD say Its way players trust He doesnt really believe',\n",
       " 'Crush #antifa That',\n",
       " 'Keep updated ’ liking face_with_tears_of_joy',\n",
       " 'No genetic Being racial racist This co opted liberals twisted something The actual definition racism thinking one race better inferior another race So looking race meet definition',\n",
       " \"It's bumper sticker liberals expensive\",\n",
       " 'THATS gun control',\n",
       " 'It cult I pointed brother He 500 FB followers love talk hate bash liberals I referred right-wing cult',\n",
       " 'Hollywood touch',\n",
       " 'She 18 face_with_tears_of_joy :: face_with_tears_of_joy :: face_with_tears_of_joy',\n",
       " 'please provide links huge budget deficits .. looking .. tell us Harpers deficits good take issue PMJT lower deficits .. take time .. hurry ..',\n",
       " 'Great question What say #ANTIFA working within government paid taxpayers',\n",
       " '2 This lady nails :d own_arrow “ Brexit seems unleashed angry incivility ” Unless moderate #OneNation stand fight sensible moderate Brexit ’ EFTA risk becoming #HardBrexit party rejected moderates replaced Corbyn URL',\n",
       " 'Holder belongs jail',\n",
       " 'Eric Holder perfect Att Gen OBama administration Not ounce human decency bones',\n",
       " 'It would destroy life The entire right wing juggernaut would run every ex boyfriend interviewed etc innocent party He ’ one trying grab lifetime power position',\n",
       " \"I'm surprised\",\n",
       " \"9/11 War Terror Israel's History False Flag Operations U S A #FalseFlags #Propaganda Zionists weapon choice Highly effective getting public back agenda ’ #Palestine #NWO #ChosenPeople URL\",\n",
       " 'He disgusting anti Canada traitor',\n",
       " 'Its dye hair way wants part concept promote using haircolors music video ... things planned well hand And leaving part Jin actually says listen company',\n",
       " 'Tell us really feel #America Bill Maher face_with_rolling_eyes #MAGA #VoteRed',\n",
       " 'disgusting These people take country one day lefties liberals upset forced wear burka Imagine face_with_tears_of_joy The worst mistake EVER letting people freely They appreciate',\n",
       " 'He spot Thanks Joe Creepy Jr spreading Joe ’ message',\n",
       " 'Hate break gun control affect suicide rates It changes method Facts hurt .. URL',\n",
       " 'Awww babe I love thanks haha',\n",
       " 'yea bitch right getting smacked URL',\n",
       " 'Does mean permission sit panel denigrating president country negotiating',\n",
       " 'Far-right attacks plots FAR outnumber antifa counterprotests attacks This documented',\n",
       " 'I think Judge Kavanaugh voted next week Mondays hearing unfortunately reputation tarnished vicious lies MAGA WWGIWGA URL',\n",
       " 'Guess forgot walk liberal plank',\n",
       " 'He ’ shat pants faced Antifa',\n",
       " '#ShameOnYou #conservatives proud inflicting horrors folk #Palestinian … ... URL',\n",
       " 'Wait The conservatives actually showed little sign respect That ’ first',\n",
       " 'As member antifa ;)',\n",
       " \"hey #sickholder dirty filthy greasy cheesy negarrr contempt Congress Don't open mouth extremely stink\",\n",
       " 'One thing sure ... know ’ write op-ed dumber bucket rocks',\n",
       " 'And duster thank god',\n",
       " 'Please start concerned She wants go something planned idea Movie scary Avery felt like something wanted know remember top head',\n",
       " 'Good Arrest Arrest crazy NDP leader well She Having lil minions take fall She planned Will paying Legal fees I think The immaturity level goverment party disgusting',\n",
       " 'He lived country gun control Sad true slightly_frowning_face',\n",
       " 'Congrats bravery',\n",
       " 'TICK TOCK SWAMP YOUR GOING TO JAIL VERY SOON #MAGA',\n",
       " 'What saying lies Were present',\n",
       " 'Self defence justified Antifa',\n",
       " \"Means nothing Your always dramatic none promises ever come true sure I still follow I'm starting realize full crap\",\n",
       " 'He looks familiar ... serial female abuser maybe',\n",
       " 'Time “ AntiFA ” thugs made proscribed organisation cleaned act Everyone right protest nobody right extreme violent protest',\n",
       " 'And unexplained 42 murders associated mother pro christian',\n",
       " 'Yes',\n",
       " 'Okay violent liberal ANTIFA KKK hoods beating strangers know nothing',\n",
       " 'Antifa terrorist organization lawful protest Trump needs declare Martial Law Shut Em Down proper',\n",
       " 'Standing trump strong Maga URL',\n",
       " 'Everyone called „ Nazi “ Antifa scum politicians',\n",
       " '#politicsLive Unfortunately still discussing Wasted 2 years far Perhaps idea viable #JustAThought URL',\n",
       " 'Holy Shit He still alive',\n",
       " \"lemme rap shit I'll video floatin downstream coffin like horrorland lol\",\n",
       " 'Oh think victim feels Im sure fine death threats insults ’ getting spewed fine Christian conservatives',\n",
       " 'Can please honest acknowledge trans stuff mental disorder And NOT normal human behavior',\n",
       " \"Let's see many planes turned around crazy airport shut downs happen next days Maybe drinking game #WWG1WGA #MAGA\",\n",
       " 'Evidently big narcissist',\n",
       " 'love voice get sound sexy strong #BarbieDreamsVIDEO',\n",
       " 'Endorse sandwich could catch imprecation like Blow Fuck old boots And worry Igor strict instructions eschew virgin partaken GM crops',\n",
       " '... bring railways back public ownership franchises expire cases franchise reviews break clauses We introduce Public Ownership Railways Bill repeal Railways Act 1993 Conservatives privatised railways',\n",
       " 'Yes excellent chairperson',\n",
       " 'Hmmm Was NFL tv today Didn ’ even search Watched tennis baseball Not one kneeled Won ’ watching next week either',\n",
       " \"I think know advocating And certainly know saying said leads bunch shit probably like whether that's meant\",\n",
       " 'Judge Nap Get Ready Another Version Clarence Thomas-Anita Hill Hearings URL This #TheLiberalWay STOP Pathetic Lying #DEMS #MAGA',\n",
       " '#VictoriaSecrets political OMG ... give You killing half profits slur Conservatives United_States #KAG URL',\n",
       " 'Alex fuckin beautiful',\n",
       " \"BETO running HARD left open borders aggressive gun control socialise medicine raising taxes Dem turnout 100 primary's 500k 1 mil outraising Cruz Though Texas 1.5 REP turnout ... must show vote November Don't assume neighbor\",\n",
       " 'If I ever met woman I guarantee I would want slap shit She total disgrace Dumber box rocks',\n",
       " 'She goes chequers finished',\n",
       " '“ My head fuckin egg ”',\n",
       " 'Keep mind open #conservatives #republican #MAGA #Shadowbanning #AmericaFirst #Trump #Patriot #WalkAway #WalkAwayFromDemocrats #FakeNews URL',\n",
       " '#WhatILearnedToday liberals ’ win without lying',\n",
       " 'She complete idiot clown_face :: pouting_face',\n",
       " 'She really tall lol',\n",
       " 'The Liberals took slightly_frowning_face',\n",
       " 'He',\n",
       " 'Your sister brie perfect wife mom loves respect husband like always loves grab grind men',\n",
       " 'I voted liberal first time account harper ... I satisfied liberals',\n",
       " 'Omg yesss',\n",
       " 'face_with_tears_of_joy :: rolling_on_the_floor_laughing ’ funny liberals use terms like “ snowflake ” “ triggered ” bc exactly terms originally used conservatives describe liberals Election Day I still lmao I ’ never seen grown he-she screen bloody murder new potus face_with_tears_of_joy :: face_with_tears_of_joy',\n",
       " \"Trump want FBI investigate Dr Ford's claim b c Ivana Trump reported Trump raped A culture dirty old sexual perverted men GOP Neo Liberals thing Dr Ford Anita Hill White men respect women\",\n",
       " 'LMAO CRY ME A RIVER YOU SCHMUCK put OVOMIT 8 LONG YEARS We kept mouths shut put noses grind wheel We ’ RIOT AND CRY GROW UP',\n",
       " 'patriot actively try disrupt People simply lost election When ever patriotic undermine Presidency He working bring prosperity every American',\n",
       " \"That guy legit case Trump ain't fuck sexual orientation laws yet dude needs take court And I say someone describes I'm Not One Those I'ma Sue People\",\n",
       " \"nah foodie ass gladly say works absolutely one's fucking palate\",\n",
       " 'She frightening',\n",
       " 'I love feeling u get going Blues purples The discovery new sexy loot',\n",
       " \"Flat clown ... bottom Line America back sellout country ... look mirror who's 8 year old ..\",\n",
       " 'im broke ass bitxh :( LOL EVEB BETTER runs sleep like ’ lying rUNS like feet going usain bolt xD get kicked lot call_me_hand_light_skin_tone',\n",
       " \"I remember much making fun conservatives 90s thinking puppets gay ... Now people upset they're gay ... PBS needs put documentary teaching people puppets made ...\",\n",
       " 'The truth gun control human nature one picture URL',\n",
       " 'And Nero Goodell fiddles burns Glad I took golf #BoycottTheNFL #BoycottNike #JustDont',\n",
       " 'DISGRACE',\n",
       " \"I let go said We take away ammo talking gun control I said maybe blurted mean But proving leftist That's fine I still like I TRUST anymore\",\n",
       " \"Liberals dangerous They'll say anything push agenda The victims judge Kavanaugh's wife daughters\",\n",
       " 'HE IS A RUSSIAN SPY HAVE RECEIVED MUCH MONEY FROM PUTIN',\n",
       " 'Jail TOO KIND #Pedovore prosecution #AGSessions church getting away pedo crimes What hell holding tentacle WTH #PedoGateNews',\n",
       " 'I think super bad stuff',\n",
       " 'Rodenbury violence would advocated gun control',\n",
       " '.. understand black lives matter fight global warming demand gun control safeguard Roe v Wade course marshal forces throw bum Save SS used welfare billionaires Have medicare covers everything No worries fears',\n",
       " \"I hope stays safe brave soul I'm coast NC staying put I scared I can't leave without hubs He stay man prison works\",\n",
       " 'Looks like gun control man_shrugging',\n",
       " 'You ’ got many NewYork Liberals moving state I see town',\n",
       " \"You're Twitter internet Here's condensed basic history URL\",\n",
       " 'Thanks follow The days cybersecurity brand reputation marketing begun And part',\n",
       " 'There serious FBI investigation woman ’ motives behind political hit job This kind shit NEVER done anyone conservatives Such bullshit',\n",
       " 'She also The Rocks wife',\n",
       " \"Ah ... railways much better they've privatised URL\",\n",
       " 'I refuse acknowledge scampi nik nak Nice spicy obscures sheer brilliantness',\n",
       " 'Believe something even means sacrificing everything #MAGA URL',\n",
       " '#ThursdayThoughts FUCK liberals Forever',\n",
       " 'Rendell #AndrewGillum ‘ Probably Little #Too #Progressive #Florida ’ URL #Trump #MAGA',\n",
       " 'An obvious last minute liberal ploy delay confirmation More dirty tricks since liberals lost previous election',\n",
       " 'Snowflake whine whine whine #MAGA baby URL',\n",
       " 'As recent visitor Ireland I suggest ’ go He liked liked America',\n",
       " 'Oh ’ racist Big Lips Big Butt Big Nose That ’ even look like Also 100 pounds big It also creates image typical black woman attitude IT ’ S SO RACIST URL',\n",
       " 'I love Eric ... You good person great sense humor Haven favorite',\n",
       " 'And lying attorney 35 year old claim I know hard liberals look two things',\n",
       " \"It's Antifa It troll created pol\",\n",
       " 'Lookin good He pretty awesome guy',\n",
       " '#PeoplesVote #StopBrexit #remain I want go .. either You know After leave My slogans going It used better stayed Useless goverment URL',\n",
       " 'MAGA PATRIOTS WE NEED YOU',\n",
       " 'Exactly We take theatre thumbs_up',\n",
       " 'I think racist touch reality treats presidency like reality show ’ starring empathy suffering narcissism ability tell truth may mentally incapable President Country URL',\n",
       " 'FUCK',\n",
       " 'Will antifa fill streets kavanaugh confirmed',\n",
       " 'Hillaryous lmao waa boo hoo',\n",
       " 'Jesus save us We ask #JesusSaves folded_hands_medium-light_skin_tone :: red_heart I pray often Included prayers GOD also Save #Connecticut USA I think need people praying LIVING ON A PRaaAAaaAaayEer musical_notes :: United_States URL',\n",
       " 'Holy shit sears',\n",
       " 'He pretty good',\n",
       " 'He ’ qualified Obama folks put together',\n",
       " 'But despicable',\n",
       " \"At least brennan smart enough recognize Trump lion He's smart enough know can't hurt Trump Hurting Trump idiot fantasies\",\n",
       " \"Who fawning And decide reasonable It fully possible reasonable still wrong I'm guessing never watched Daves show going heard people fawning\",\n",
       " 'She college professor Cali Resist antifa burn buildings riot Cali colleges',\n",
       " '2D puppet el mierdas Wowowow I crying I see video URL',\n",
       " 'Its amazing DemoRats elected public office Their total disregard US Constitution due process abhorrent They hung woman dry woman refuses come foward Conservatives fault',\n",
       " 'Stop trying make Brandon run Put trip option sprint option stuff RUN HIM Do play action option formations Bring Book least four series',\n",
       " 'Lmao And yet ’ called Gauteng face_with_tears_of_joy :: face_with_tears_of_joy :: face_with_tears_of_joy :: face_with_tears_of_joy Dude say arguing sake wanting lose Nguni Land Ahahahahahaha Do know Vaal called Lekwa Do know king Tshwane Do even know Thulare Dude I ’ done',\n",
       " 'Yea ’ crazy ass story Like go wrong apartment There ’ numbers doors And ’ notice soon walk ’ shit woman_shrugging_light_skin_tone :: woman_facepalming_light_skin_tone',\n",
       " 'And said America Heads Antifa Ur neck stepped',\n",
       " 'liberals ... wow ... even try',\n",
       " 'He gawdfather #fuxNews URL',\n",
       " 'You said complains Fox News nothing like Trump ’ war news media You right Trump ’ use “ Espionage act 1917 ” spy reporters ’ like Yours much worse scary',\n",
       " 'Does anyone proof read articles post The article states victim hospital critical condition remains Probably best headline tells us dead Sack 12yo work experience kid put together',\n",
       " 'Bit celebrity face_with_tears_of_joy :: face_with_tears_of_joy :: face_with_tears_of_joy Ass',\n",
       " 'A book Still wanting money public Liberals probably buy Soros buy lot copies make best seller probably done liberal books #VoteRedToSaveAmerica United_States',\n",
       " 'US enjoys 22m yr visits Canadians 4 tourism business Lot coming directly US In Oct Canada legalizes cannabis But US border agents ban mj consumers mj biz ppl life What happens US #TourismJobs #GOP #maga #uspoli #USPolitics URL',\n",
       " 'Dems trying clean sloppy #kavanaugh #allegations #ConfirmJudgeKavanaughNow #MAGA',\n",
       " 'Thanks Vince You fucker No need hold chance clients miss',\n",
       " 'Just elected president doesnt mean earned When start serving people country means ... shall well desrerved When serve thos hiding pocket give break You keep YOUR commander',\n",
       " '#HomeOffice releases one #Terrorist week 46 year March Report prior #Choudary released I Home Office Document full link stream .. questions asked laughable #MAGA #MEGA #MBGA #MBGA #Conservatives #Muslims #Migrants URL',\n",
       " 'Republicans constantly tell us respecting law enforcement ignore judgment gun control',\n",
       " \"I think easiest way label would conservatives ok LBGQT community pro rights Somehow that's supposed make liberal\",\n",
       " '... process removing #status #heAndShe #newStatus #comingSoon #hplife',\n",
       " 'God help us',\n",
       " 'You disgrace defending wrong doings ANC umdala kangaka yhuuu',\n",
       " 'ur fucking dumbass fr ’ way anyone else ’ face_with_tears_of_joy',\n",
       " 'We need name shame people Ive fb group expose antifa Hnh etc URL',\n",
       " 'She loudly_crying_face :: loudly_crying_face :: loudly_crying_face',\n",
       " '#AskAlly Please tell something help mom home broken leg cause Hospital broken leg loudly_crying_face :: loudly_crying_face :: loudly_crying_face :: loudly_crying_face',\n",
       " 'Goodell worst commissioner sport time history',\n",
       " 'What empty soul',\n",
       " 'Do know shameless muslim socialist still arrogant believes thst thinks good politician I ’ tell So many “ Stupid American Voters ” per Gruber gullible',\n",
       " 'People sick books crooks #MAGA #RedWaveRising URL',\n",
       " 'hope well Thats fucked Like seriously fuck wrong ppl Gun control issue though right Thank God I live Canada Feel brutal attacks U S A seriously go away',\n",
       " 'Americans smarter think #MAGA #VoteRed2018 #RedWaveRising2018 #SaveOurCountry #VoteDemsOut URL',\n",
       " 'MAYBE ... HMM ... I DONT KNOW ... FIX THE MUSIC KIT AGRESSIVE MVP SOUND THAT PLAYS AT FULL VOLUME EVEN IF ITS OFF IN SETTINGS IM TYPING IN CAPS BECAUSE I JUST WENT DEAF AFTER A WHOLE TEAM USED THAT KIT',\n",
       " 'It ’ weird conservatives sometimes get accused lacking empathy',\n",
       " \"Typical ... When backfires nothing see move along ... Trump supporters days thing ... All shit Trump getting called It's nothing see move along Lol\",\n",
       " 'Amazing liberals dig ’ desperate URL',\n",
       " 'Such cool Synchronicity .. def made day Just released thread w exactly concept #DeutscheBank connection undoubtedly pivot point .. #Mueller crack squad financial forensics experts team w VAST DB laundering knowledge Subpoena #Kavanaugh',\n",
       " \"And everyone knows Kerry clue Heard numerous anonymous sources also say sane That's sources say\",\n",
       " 'The democrats becoming despicable day There bottom vitriol lies barrel Why liberals go along makes sense',\n",
       " '',\n",
       " 'lmaooo girl lyinggg ’ take two weeks take money tickets purchased thanks girl lol',\n",
       " 'At least getting people like Discord',\n",
       " 'culture greek life I think alot comes presentation film away parents people free thinking I agree really think every frat maga crazy',\n",
       " 'buying Levi ’ URL',\n",
       " 'I support fight justice hold responsible accountable The hypocrisy beyond moral standard Where ’ outrage Yet hide behind vail gun control leftists propaganda beginning Shame',\n",
       " 'Thank seeing light #StopKanavaugh PLEASE VOTE NO HE NOT OK Help SAVE DEMOCRACY United_States',\n",
       " 'This need know Liberals He represents party well',\n",
       " 'The reason ’ wife ass',\n",
       " 'You stronger believe beautiful sneaky pig Dcl teaches us much I grateful chance explore grow learn loudly_crying_face :: red_heart :: red_heart URL',\n",
       " 'Besides ’ leftist celebrity We never use death threats At least good conservatives like ...',\n",
       " 'Wow You good thumbs_up :: thumbs_up',\n",
       " \"Woman's Car Towed Away After She Claimed To Have Explosives Authorities Prince George's County investigated threat Wednesday AM Joint Base Andrews Reports indicate woman said explosives refused leave URL #MAGA URL\",\n",
       " 'He get deserves Mens prison ...',\n",
       " 'Your shabby self traitor buddy BO ... Gave us #MAGA ... stupid stupid',\n",
       " \"That's biggest question Do widdle away 2nd amendment left I believe limited gun control im worried expected keep giving gun haters\",\n",
       " \"words im speaking behalf can't sit idly people make ass feel like people better\",\n",
       " 'The liberals ’ investigate know ’ nothing They ’ rather someone else nothing found liberals blame',\n",
       " 'You look damn beautiful outfit',\n",
       " 'Oh boo sound ignorant words We Top All America Top How stop resisting try help make nation best everyone liberals Wake Walk Away',\n",
       " 'Analysis Devin Nunes explains ‘ antifa ’ ‘ riots ’ ‘ We ’ winning ’ The Washington Post URL',\n",
       " 'Please stick Bakersfield issues resign House Leadership You illiterate economics Constitution take many bribes #NoSpeakerMcCarthy I ’',\n",
       " \"After declare ANTIFA terrorist's organization start collecting names professors involved URL\",\n",
       " '16 grade school children shot dead Washington 9mm Beretta The NRA blames gun control laws',\n",
       " 'No fr People always bullshit I ’ postponing missing anything else another person ’ get shit together So else fails I go Tbh I end better time anyway man_shrugging_medium_skin_tone',\n",
       " 'She classist Note Rolls Royce refernce',\n",
       " \"What joke She Gem alright She Racist phony Right along Racist Phony That thinks follow second account And block Because I speak truth I could care less follower's Like big party I care discriminate URL\",\n",
       " 'This shit staged Dude ’ even hit URL',\n",
       " 'What piece shit',\n",
       " 'And Democrats want open border gun control ... rolling_on_the_floor_laughing :: rolling_on_the_floor_laughing :: grinning_face_with_sweat',\n",
       " 'And democrats ARE trying policies gun control Try watching news outlets Fox',\n",
       " 'Girl fine Lol',\n",
       " '#SadNews What #Republicans #Conservatives #Deplorables forget #Democrats #Liberals #Tolerables also #WeThePeople #AmericanPeople',\n",
       " 'Oh stop U r defending u r conservatives If I liberal accused u would believe women right away Go yell someone toll booth spare us please',\n",
       " 'You deplorable despicable disgusting URL',\n",
       " 'What snot nose 18 year-old kid know He ’ loud mouth immature punk media placed pedestal using promote gun control He fed tag lines spark controversy order bring attention gun control debate knows nothing',\n",
       " 'Another tweet prove even pure narcissistic sociopath America deserves better need demand better',\n",
       " \"What coward can't put pic Yet feel judge others looks Yep I'm sure people call regular\",\n",
       " 'That stage pain ass terrorist hunt I loved',\n",
       " 'Following Constitution victimizing liberals general despise Constitution',\n",
       " 'Boycott NFL Continues thumbs_up',\n",
       " 'I cant even imagine I think would boot She craziest reality star time',\n",
       " 'Omg You first person I ’ seen complain husband',\n",
       " 'So antifa go Church',\n",
       " 'Democrats liberals dragged far long The American people tired Confirm guy move How convenient guy confirmed US Supreme Court Justice someone accuses sexual assault high school #Ridiculous',\n",
       " 'Delusional idiot traitor',\n",
       " '24 concert goers shot dead Jacksonville 38 caliber Smith Wesson The NRA calls gun control research unethical',\n",
       " 'Army god You concept God You army hate',\n",
       " 'Wrong 99 percent time bed laying suntanning summer long bland like dry piece toast ... carry #BB20',\n",
       " 'Introducing sweet sweet baby king He always sooo nice And I try sit sofa NEVER attacks URL',\n",
       " 'Caribbros please fix oroshimaru broken teleports spawn lot snakes players spawn one thing onna beat broken glitchy :p outing_face :: pouting_face',\n",
       " \"Reminder It's Trump's best interests SCOTUS seat empty mid terms even next election It's trump card _against challenges party conservatives days\",\n",
       " 'IT WAS OFF THE PLATFORM HOW IS THIS OK',\n",
       " 'I ’ understand anyone ’ want see docs open light You liberals think Russian investigations big deal As American I truly believe subversion elected president Justice department FBI far worse Country',\n",
       " 'How work Seems path Washington deficit biggest deficit ever',\n",
       " 'I ’ sure pope first name basis Satan What disgrace papacy',\n",
       " 'Market Liberals Party',\n",
       " 'Using free speech idiots like rallies counter protesters showed armed willing engage kkk also came armed Again 2 wrongs dont make right groups like antifa stated want shutdown free speech anyway possible',\n",
       " \"I guess u looking wrong looking wrong thing ... girl walking started dating ... 2 yrs physically handicapped ... I'm still w ... sex ... love spirit ...\",\n",
       " 'I ’ watching I feel like ’ less ‘ end everyone stan Jake Paul ’ ‘ analyzing makes Jake Paul way trying understand psychologically ’',\n",
       " 'FINALLY Smaller cost effective government Thank Conservatives',\n",
       " 'Blaming Trump hurricane showing ignorance hate .. give salary recovery maybe help',\n",
       " 'What ’ funding',\n",
       " 'think remaining pure sweet thing',\n",
       " 'I think need Dairy Queen',\n",
       " 'She wasnt abused lying',\n",
       " 'So Kerry thinx bcuz anti leftist narrative bin spread heard everyone Washington qualifies ... Fact Thats facts work u dumb leftist Thats called intentional smear spread create lie use talking point desperate Dems',\n",
       " 'Olive love pool Green Beagle Lodge I town She good girl URL',\n",
       " 'This proof liberal left cannot think told say',\n",
       " 'Red Flags She ’ “ professor ” liberal school ’ “ unable healthy relationships men ” Translation She ’ Antifa Dyke stop Conservative Judge President Trump even lie',\n",
       " 'It makes sense gun control barely issue vs immigration',\n",
       " 'You member 40 years ’ Surely means abused I mean I know ’ understand idioms next level ignorance',\n",
       " 'Me Her wedding best She pretty',\n",
       " 'You awesome heart_suit :: heart_suit :: smiling_face_with_heart-eyes :: smiling_face_with_heart-eyes',\n",
       " 'The Pope complicit Make mistake Anyone harms child . . .',\n",
       " 'Seriously freaking Hot',\n",
       " '#DickDurbin Illinois #Chicago strictest gun control gang drug killing field',\n",
       " 'Another fucking Pittsburgh Nazi Philly Antifa naming names ’ glorious URL',\n",
       " \"I understand conservatives place much faith majority conservative SCOTUS ... We forgotten we've 8-1 6-3 Roe V Wade overturned\",\n",
       " 'Looks like one winking_face_with_tongue Some simple things explained',\n",
       " 'They ’ making fun woman They making fun liberals supporting barbaric tradition covering woman ’ body garbage bag men might inclined rape given moment',\n",
       " 'hungery',\n",
       " \"It's really slowing I wanna ask I could bring personal mac use work computer I wanna seem like apple snob I'm shook\",\n",
       " 'Sure hope remembers Libs efforts shaft confirmed',\n",
       " '#Qanon #WWG1WGA #MAGA WOW Worth watching URL',\n",
       " 'Bird ass URL',\n",
       " '#liberals making life unaffordable taxation URL',\n",
       " 'absolute favorite Sharp Objects She absolutely sensational',\n",
       " 'YOU ARE THE REAL DISNEY PRINCESS',\n",
       " \"No worries Thank responding I ask question I find interesting Can tell atheist I'm curious\",\n",
       " 'The rugrats believe gun control',\n",
       " 'fuck xenoblade chronicles',\n",
       " 'Now gun control',\n",
       " '#WeMarchForOurLives #EnoughIsEnough .. say need Solves Guns special ... USA fall election focused electing ONLY actual gun control-dump old #DNC #GOP #empowerment 4action URL',\n",
       " \"1 Week watch Nike Stock Plummet .. Liberals can't keep Nike afloat .. #BoycottNike Macy's still rebounded URL\",\n",
       " 'It ’ wrongfully characterizing It ’ fucking truth guys ignorant see',\n",
       " 'I see posting video done Supes He wearing krypton t-shirt',\n",
       " 'Check blog post scooters',\n",
       " 'By saying eat dogs correlation bts automatically relating asians dog-eaters You know bts eat dogs comment obviously meant convey hate',\n",
       " 'She role model Adam',\n",
       " 'Really sickening issue Liberals vicious',\n",
       " '6d They able make January There millions HOMELESS STARVING You see LOT MORE BEGGING STREETS People living woods THIS rich #Conservatives #Christians #WhiteSupremacists #MAGA #MAGAVeterans #MAGATalk URL',\n",
       " 'Very simple ... More gun control ads equals guns sold The gun illiterates ’ smart enough figure',\n",
       " \"New People's Army Philippines helped Antifa USA vice versa I suggest send Philippine government contingent They need know\",\n",
       " '’ get started head special needs another planet',\n",
       " 'sick white neo liberals speaking Black people saying love Hillary They deluded It ’ like rep ‘ black lives matter ’ appear woke enough keep railing Bernie supporters Because know ’ care b4 Hillary lost 2 trump',\n",
       " 'There must cash prize something whoever comes first “ conservatives pounce ” take',\n",
       " 'Rooney wont anything He one needs take action',\n",
       " 'People need get life She beautiful lady job They need leave alone leave Tessa alone Doesn ’ matter everybody needs show love hate',\n",
       " 'vote yes know found fraud',\n",
       " 'William Molina Romero located safe sound He back loved ones thanks community member spotting Thank keeping sharp eye ensuring safe return home URL',\n",
       " \"Can't man call dog without old bat bitching\",\n",
       " 'URL LOOK ST THIS BULLSHIT',\n",
       " 'Thank You red_apple Have A Great Day folded_hands #MAGA hundred_points :: United_States :: United_States :: United_States :: United_States :: United_States URL',\n",
       " 'Principled conservatives #Hypocrickets',\n",
       " 'Fukushima-Daiichi hurricane You comparing apples orangutans',\n",
       " \"I #WalkedAway ... And I'm NEVER ... COMING ... BACK\",\n",
       " 'Lolololololololo u kidding The ANTIFA shows protest stop freedom speech Open eyes Where ANTIFA come democrats snake party',\n",
       " 'She sooo pretty',\n",
       " 'Then let proud boys back get rid Antifa Lies one two choices comes fruition Be man parents expected',\n",
       " 'Its fault .. cheat',\n",
       " 'Disco pose “ white dude overbite ” look Classic 70s dance move',\n",
       " \"Guess that's settled gag-inducing spokesperson commercialized conservatives\",\n",
       " '... many instances AR 15s used home defense labeled mass shootings gun control URL',\n",
       " 'But long ago Ray went follower quite possibly pays services pointing guy ’ remember getting injured You guys pay assholes bills',\n",
       " 'Now Black Lives Matter And Antifa',\n",
       " 'CONway say louder fellow #MAGA Trumpkins horrible peiple insulting URL',\n",
       " 'You',\n",
       " 'He truly adorable Happy Birthday baby boy face_blowing_a_kiss',\n",
       " \"Yes I Because he's grumpy impossible grunts mumbles shouts whoever dares knock door man cave ... Even girls But he's good No Not really .. smiling_face_with_smiling_eyes\",\n",
       " 'Do CANCEL vote Kavanaugh Do fall prey lying filthy liberals Tell Flake shut America sick BS left',\n",
       " 'You stated 1994 AWB constitutional I asked provide SCOTUS case The response alleged support gun control complete non sequitur',\n",
       " 'Chances say “ hey need call whore ” ’ get called libtard blocked ... Conservatives need stand call vile behavior Difference telling someone ’ say something said wrong',\n",
       " 'A blue wave hysterical violence #BlueWaveofViolence',\n",
       " '.  ... But But But gun control laws URL',\n",
       " \"It's snack making steak later lol\",\n",
       " '... ammunition many states easier buy cold medicine ... California Tries New Tack Gun Violence Bullet Control URL',\n",
       " \"Traditionalists fuddy-duddy conservatives form convenient horseshoe feminists comes lot women's issues Their reasons grounded chivalry sex differences rather equality result looks similar\",\n",
       " 'Nothing liberals fair',\n",
       " 'Liberals media report',\n",
       " 'It would nice Trump supporters could tell us believe great without comparing every criminal history American politics',\n",
       " \"Well there's one idiot keep thinking show mirror every sundown rise walk night search carnage fill emptiness heart soul used Altho ya mention lots conservatives come mind\",\n",
       " \"I'll defend I think CA professor lying liberals pile horse dung There\",\n",
       " \"Well I saw clicked Bens link see blocked I've never heard\",\n",
       " 'Ps gun control laws subsidised healthcare real',\n",
       " 'Becoming Besides multi-millionaire',\n",
       " 'Who Cheney You ’ second person mentioned I idea',\n",
       " 'That much projection even doozy far left democratic socialist antifa members amazing',\n",
       " 'Hey Serena ... ’ favors Women take care Just hit tennis balls take care family',\n",
       " 'STOP trying convince people extremely unpopular Unfortunately takes away urgency liberals vote November This #BlueWave nonsense NOT happen people comfortable happen whether vote',\n",
       " 'Tua RB type vision He gem_stone',\n",
       " 'I disagree See Antifa',\n",
       " 'I feel like happens library except argue 30 fine ’ appreciate us think us favor patronizing library But family seven huge fine multiple picture books write check',\n",
       " 'He look mirror',\n",
       " 'Did MAGA hack twitter lol',\n",
       " 'ask Antifa safe people feel',\n",
       " 'If doesnt want face responsibility actions wrong job That without taking account bit shit ... #AVFC #BRUCEOUT',\n",
       " 'Trust .. know well enough ok take body another good girl night',\n",
       " 'I continue concerned country ’ gun control laws good enough protect children I vote party willing address issue',\n",
       " 'All reinforce fact much gutter',\n",
       " 'That ’ fucking rude',\n",
       " 'You second person 2 minutes tell Apparently I ’ sitting Smelly Cat-sized fortune',\n",
       " '#DickDurbin Illinois #Chicago strictest gun control gang drug killing field URL',\n",
       " 'Antifa haha ’ exactly big movement ok',\n",
       " 'He piece work',\n",
       " 'Much data put gun control groups false misleading Needlessly scaring parents helpful personal policy level SUNY report illusterates URL',\n",
       " 'Probably staged liberals block Kavanaugh',\n",
       " 'The deep disgrace abuse rights existence relativity Even generation mine knows RAE Low life opportunist Government people Suck liberal dick alt left Nazi',\n",
       " 'Followed All #MAGA',\n",
       " 'As someone never played Spiderman 2 kid I want tried year 2 back idk kinda collective nostalgia people web swinging mechanics busted fuck kinda trash',\n",
       " 'The Ironic thing closely aligned far right They even agreeing Look thread asshole posted thing IQ defense Fuck shit',\n",
       " 'He contacting followers',\n",
       " 'He mocking non-victims claiming victim hood',\n",
       " 'Everyone knows Brown crazy',\n",
       " 'Monte McNaughton accused government failing “ uphold rule law ” sided campers Indigenous group surely equally concerned government trying rig election ’ pick choose subject rule law',\n",
       " 'We met Ian Sinclair Brook One Piece I wish I would ’ known characters voice actors met',\n",
       " 'REST IN PUSSY',\n",
       " 'He ’ Alt-Left None use logic make sense',\n",
       " \"That's ANTIFA style attack Abusive method meant bully opposition silence control\",\n",
       " 'You wonderful Fremino',\n",
       " 'Mob mentality ...',\n",
       " 'He right',\n",
       " 'Bullshit People died incompetent government Puerto Rico And start mayor Stop lying Gutierrez',\n",
       " ...]"
      ]
     },
     "execution_count": 37,
     "metadata": {
      "tags": []
     },
     "output_type": "execute_result"
    }
   ],
   "source": [
    "x_train"
   ]
  },
  {
   "cell_type": "code",
   "execution_count": 38,
   "metadata": {
    "colab": {
     "base_uri": "https://localhost:8080/",
     "height": 34
    },
    "colab_type": "code",
    "id": "7CXlx4H41X-0",
    "outputId": "a7d7ae39-abdd-47f6-d929-45e657340aea"
   },
   "outputs": [
    {
     "data": {
      "text/plain": [
       "'x_train,y_train=readDataTrain()\\nx_test,y_test=readDataTest()\\n'"
      ]
     },
     "execution_count": 38,
     "metadata": {
      "tags": []
     },
     "output_type": "execute_result"
    }
   ],
   "source": [
    "'''x_train,y_train=readDataTrain()\n",
    "x_test,y_test=readDataTest()\n",
    "'''"
   ]
  },
  {
   "cell_type": "code",
   "execution_count": 39,
   "metadata": {
    "colab": {
     "base_uri": "https://localhost:8080/",
     "height": 54
    },
    "colab_type": "code",
    "id": "DXkHq0Q0K2Yk",
    "outputId": "b642dc1d-644a-4ae4-f530-9611ee2508bd"
   },
   "outputs": [
    {
     "name": "stdout",
     "output_type": "stream",
     "text": [
      "['face_with_rolling_eyes She ’ NOT claiming rape And FBI NOT jurisdiction The day said ’ He ’ 6 FBI background checks anything would ’ found Also HOW investigate something complainant ’ even know WHEN WHERE #MAGA', \"Right Punish GOP two cucks That's ticket getting conservatives\", 'Businessmen need stay business go business #Democrats dont #WalkAway hard time concepts like profit results worries still perplexed China All reason need #TrumpTariffs #TrumpTrain #MAGA', 'put much thought antifa goons ripping downtown seattle apart every holiday', 'I work oldest 20 daughter Stood line voted 2016 She still bitter ’ tough get back year']\n"
     ]
    }
   ],
   "source": [
    "print(preprocessedTweets[0:5])"
   ]
  },
  {
   "cell_type": "code",
   "execution_count": 40,
   "metadata": {
    "colab": {
     "base_uri": "https://localhost:8080/",
     "height": 104
    },
    "colab_type": "code",
    "id": "BSZGqjvlBIDa",
    "outputId": "041cb777-ec65-4669-dfca-a93aae2a1456"
   },
   "outputs": [
    {
     "name": "stdout",
     "output_type": "stream",
     "text": [
      "(10592, 1)\n",
      "(2648, 1)\n",
      "(10592,)\n",
      "['NOT' 'OFF']\n",
      "['NOT' 'OFF']\n"
     ]
    }
   ],
   "source": [
    "from sklearn.svm import SVC\n",
    "from sklearn import preprocessing\n",
    "\n",
    "le = preprocessing.LabelEncoder()\n",
    "\n",
    "print(y_train.shape)\n",
    "print(y_test.shape)\n",
    "#print(y_predict.shape)\n",
    "yTrain=le.fit_transform(y_train.flatten())\n",
    "print(yTrain.shape)\n",
    "print(le.classes_)\n",
    "yTest=le.fit_transform(y_test.flatten())\n",
    "print(le.classes_)"
   ]
  },
  {
   "cell_type": "code",
   "execution_count": 41,
   "metadata": {
    "colab": {
     "base_uri": "https://localhost:8080/",
     "height": 167
    },
    "colab_type": "code",
    "id": "jMCPsKyZBK7f",
    "outputId": "bd5fd940-b54d-4b71-d9fb-9213c5f632f8"
   },
   "outputs": [
    {
     "ename": "TypeError",
     "evalue": "ignored",
     "output_type": "error",
     "traceback": [
      "\u001b[0;31m---------------------------------------------------------------------------\u001b[0m",
      "\u001b[0;31mTypeError\u001b[0m                                 Traceback (most recent call last)",
      "\u001b[0;32m<ipython-input-41-cdebe1299bd5>\u001b[0m in \u001b[0;36m<module>\u001b[0;34m()\u001b[0m\n\u001b[0;32m----> 1\u001b[0;31m \u001b[0mset\u001b[0m\u001b[0;34m(\u001b[0m\u001b[0my_test\u001b[0m\u001b[0;34m)\u001b[0m\u001b[0;34m\u001b[0m\u001b[0;34m\u001b[0m\u001b[0m\n\u001b[0m",
      "\u001b[0;31mTypeError\u001b[0m: unhashable type: 'numpy.ndarray'"
     ]
    }
   ],
   "source": []
  },
  {
   "cell_type": "code",
   "execution_count": 0,
   "metadata": {
    "colab": {},
    "colab_type": "code",
    "id": "QmG6tesd1euz"
   },
   "outputs": [],
   "source": [
    "###IMPORTANT\n",
    "'''xtest,x_test_mask=giveIds(x_test.flatten(),y_test)\n",
    "x_test_pytorch=torch.tensor(xtest)\n",
    "y_test_pytorch=torch.tensor(y_test)\n",
    "x_test_mask_pytorch=torch.tensor(x_test_mask)\n",
    "tedata=TensorDataset(x_test_pytorch,x_test_mask_pytorch,y_test_pytorch)\n",
    "tesampler=RandomSampler(tedata)\n",
    "bsize=64\n",
    "tedataloader=DataLoader(tedata,sampler=tesampler,batch_size=bsize)\n",
    "print(len(xtest))\n",
    "print(len(y_test))\n",
    "len(x_train)\n",
    "'''"
   ]
  },
  {
   "cell_type": "code",
   "execution_count": 76,
   "metadata": {
    "colab": {
     "base_uri": "https://localhost:8080/",
     "height": 1000
    },
    "colab_type": "code",
    "id": "ZbZxkgcBhfag",
    "outputId": "33c42819-6f62-4344-ba42-c9dabcbae3d0"
   },
   "outputs": [
    {
     "name": "stderr",
     "output_type": "stream",
     "text": [
      "INFO:transformers.configuration_utils:loading configuration file https://s3.amazonaws.com/models.huggingface.co/bert/roberta-base-config.json from cache at /root/.cache/torch/transformers/e1a2a406b5a05063c31f4dfdee7608986ba7c6393f7f79db5e69dcd197208534.a7ab0e5de2d8321d6d6a15b199110f2c99be72976b7d151423cb8d8c261a13b6\n",
      "INFO:transformers.configuration_utils:Model config RobertaConfig {\n",
      "  \"architectures\": [\n",
      "    \"RobertaForMaskedLM\"\n",
      "  ],\n",
      "  \"attention_probs_dropout_prob\": 0.1,\n",
      "  \"bos_token_id\": null,\n",
      "  \"do_sample\": false,\n",
      "  \"eos_token_ids\": null,\n",
      "  \"finetuning_task\": null,\n",
      "  \"hidden_act\": \"gelu\",\n",
      "  \"hidden_dropout_prob\": 0.1,\n",
      "  \"hidden_size\": 768,\n",
      "  \"id2label\": {\n",
      "    \"0\": \"LABEL_0\",\n",
      "    \"1\": \"LABEL_1\"\n",
      "  },\n",
      "  \"initializer_range\": 0.02,\n",
      "  \"intermediate_size\": 3072,\n",
      "  \"is_decoder\": false,\n",
      "  \"label2id\": {\n",
      "    \"LABEL_0\": 0,\n",
      "    \"LABEL_1\": 1\n",
      "  },\n",
      "  \"layer_norm_eps\": 1e-05,\n",
      "  \"length_penalty\": 1.0,\n",
      "  \"max_length\": 20,\n",
      "  \"max_position_embeddings\": 514,\n",
      "  \"model_type\": \"roberta\",\n",
      "  \"num_attention_heads\": 12,\n",
      "  \"num_beams\": 1,\n",
      "  \"num_hidden_layers\": 12,\n",
      "  \"num_labels\": 2,\n",
      "  \"num_return_sequences\": 1,\n",
      "  \"output_attentions\": false,\n",
      "  \"output_hidden_states\": false,\n",
      "  \"output_past\": true,\n",
      "  \"pad_token_id\": null,\n",
      "  \"pruned_heads\": {},\n",
      "  \"repetition_penalty\": 1.0,\n",
      "  \"temperature\": 1.0,\n",
      "  \"top_k\": 50,\n",
      "  \"top_p\": 1.0,\n",
      "  \"torchscript\": false,\n",
      "  \"type_vocab_size\": 1,\n",
      "  \"use_bfloat16\": false,\n",
      "  \"vocab_size\": 50265\n",
      "}\n",
      "\n",
      "INFO:transformers.tokenization_utils:loading file https://s3.amazonaws.com/models.huggingface.co/bert/roberta-base-vocab.json from cache at /root/.cache/torch/transformers/d0c5776499adc1ded22493fae699da0971c1ee4c2587111707a4d177d20257a2.ef00af9e673c7160b4d41cfda1f48c5f4cba57d5142754525572a846a1ab1b9b\n",
      "INFO:transformers.tokenization_utils:loading file https://s3.amazonaws.com/models.huggingface.co/bert/roberta-base-merges.txt from cache at /root/.cache/torch/transformers/b35e7cd126cd4229a746b5d5c29a749e8e84438b14bcdb575950584fe33207e8.70bec105b4158ed9a1747fea67a43f5dee97855c64d62b6ec3742f4cfdb5feda\n"
     ]
    },
    {
     "data": {
      "text/plain": [
       "RobertaForSequenceClassification(\n",
       "  (roberta): RobertaModel(\n",
       "    (embeddings): RobertaEmbeddings(\n",
       "      (word_embeddings): Embedding(50265, 768, padding_idx=1)\n",
       "      (position_embeddings): Embedding(514, 768, padding_idx=1)\n",
       "      (token_type_embeddings): Embedding(1, 768)\n",
       "      (LayerNorm): LayerNorm((768,), eps=1e-05, elementwise_affine=True)\n",
       "      (dropout): Dropout(p=0.1, inplace=False)\n",
       "    )\n",
       "    (encoder): BertEncoder(\n",
       "      (layer): ModuleList(\n",
       "        (0): BertLayer(\n",
       "          (attention): BertAttention(\n",
       "            (self): BertSelfAttention(\n",
       "              (query): Linear(in_features=768, out_features=768, bias=True)\n",
       "              (key): Linear(in_features=768, out_features=768, bias=True)\n",
       "              (value): Linear(in_features=768, out_features=768, bias=True)\n",
       "              (dropout): Dropout(p=0.1, inplace=False)\n",
       "            )\n",
       "            (output): BertSelfOutput(\n",
       "              (dense): Linear(in_features=768, out_features=768, bias=True)\n",
       "              (LayerNorm): LayerNorm((768,), eps=1e-05, elementwise_affine=True)\n",
       "              (dropout): Dropout(p=0.1, inplace=False)\n",
       "            )\n",
       "          )\n",
       "          (intermediate): BertIntermediate(\n",
       "            (dense): Linear(in_features=768, out_features=3072, bias=True)\n",
       "          )\n",
       "          (output): BertOutput(\n",
       "            (dense): Linear(in_features=3072, out_features=768, bias=True)\n",
       "            (LayerNorm): LayerNorm((768,), eps=1e-05, elementwise_affine=True)\n",
       "            (dropout): Dropout(p=0.1, inplace=False)\n",
       "          )\n",
       "        )\n",
       "        (1): BertLayer(\n",
       "          (attention): BertAttention(\n",
       "            (self): BertSelfAttention(\n",
       "              (query): Linear(in_features=768, out_features=768, bias=True)\n",
       "              (key): Linear(in_features=768, out_features=768, bias=True)\n",
       "              (value): Linear(in_features=768, out_features=768, bias=True)\n",
       "              (dropout): Dropout(p=0.1, inplace=False)\n",
       "            )\n",
       "            (output): BertSelfOutput(\n",
       "              (dense): Linear(in_features=768, out_features=768, bias=True)\n",
       "              (LayerNorm): LayerNorm((768,), eps=1e-05, elementwise_affine=True)\n",
       "              (dropout): Dropout(p=0.1, inplace=False)\n",
       "            )\n",
       "          )\n",
       "          (intermediate): BertIntermediate(\n",
       "            (dense): Linear(in_features=768, out_features=3072, bias=True)\n",
       "          )\n",
       "          (output): BertOutput(\n",
       "            (dense): Linear(in_features=3072, out_features=768, bias=True)\n",
       "            (LayerNorm): LayerNorm((768,), eps=1e-05, elementwise_affine=True)\n",
       "            (dropout): Dropout(p=0.1, inplace=False)\n",
       "          )\n",
       "        )\n",
       "        (2): BertLayer(\n",
       "          (attention): BertAttention(\n",
       "            (self): BertSelfAttention(\n",
       "              (query): Linear(in_features=768, out_features=768, bias=True)\n",
       "              (key): Linear(in_features=768, out_features=768, bias=True)\n",
       "              (value): Linear(in_features=768, out_features=768, bias=True)\n",
       "              (dropout): Dropout(p=0.1, inplace=False)\n",
       "            )\n",
       "            (output): BertSelfOutput(\n",
       "              (dense): Linear(in_features=768, out_features=768, bias=True)\n",
       "              (LayerNorm): LayerNorm((768,), eps=1e-05, elementwise_affine=True)\n",
       "              (dropout): Dropout(p=0.1, inplace=False)\n",
       "            )\n",
       "          )\n",
       "          (intermediate): BertIntermediate(\n",
       "            (dense): Linear(in_features=768, out_features=3072, bias=True)\n",
       "          )\n",
       "          (output): BertOutput(\n",
       "            (dense): Linear(in_features=3072, out_features=768, bias=True)\n",
       "            (LayerNorm): LayerNorm((768,), eps=1e-05, elementwise_affine=True)\n",
       "            (dropout): Dropout(p=0.1, inplace=False)\n",
       "          )\n",
       "        )\n",
       "        (3): BertLayer(\n",
       "          (attention): BertAttention(\n",
       "            (self): BertSelfAttention(\n",
       "              (query): Linear(in_features=768, out_features=768, bias=True)\n",
       "              (key): Linear(in_features=768, out_features=768, bias=True)\n",
       "              (value): Linear(in_features=768, out_features=768, bias=True)\n",
       "              (dropout): Dropout(p=0.1, inplace=False)\n",
       "            )\n",
       "            (output): BertSelfOutput(\n",
       "              (dense): Linear(in_features=768, out_features=768, bias=True)\n",
       "              (LayerNorm): LayerNorm((768,), eps=1e-05, elementwise_affine=True)\n",
       "              (dropout): Dropout(p=0.1, inplace=False)\n",
       "            )\n",
       "          )\n",
       "          (intermediate): BertIntermediate(\n",
       "            (dense): Linear(in_features=768, out_features=3072, bias=True)\n",
       "          )\n",
       "          (output): BertOutput(\n",
       "            (dense): Linear(in_features=3072, out_features=768, bias=True)\n",
       "            (LayerNorm): LayerNorm((768,), eps=1e-05, elementwise_affine=True)\n",
       "            (dropout): Dropout(p=0.1, inplace=False)\n",
       "          )\n",
       "        )\n",
       "        (4): BertLayer(\n",
       "          (attention): BertAttention(\n",
       "            (self): BertSelfAttention(\n",
       "              (query): Linear(in_features=768, out_features=768, bias=True)\n",
       "              (key): Linear(in_features=768, out_features=768, bias=True)\n",
       "              (value): Linear(in_features=768, out_features=768, bias=True)\n",
       "              (dropout): Dropout(p=0.1, inplace=False)\n",
       "            )\n",
       "            (output): BertSelfOutput(\n",
       "              (dense): Linear(in_features=768, out_features=768, bias=True)\n",
       "              (LayerNorm): LayerNorm((768,), eps=1e-05, elementwise_affine=True)\n",
       "              (dropout): Dropout(p=0.1, inplace=False)\n",
       "            )\n",
       "          )\n",
       "          (intermediate): BertIntermediate(\n",
       "            (dense): Linear(in_features=768, out_features=3072, bias=True)\n",
       "          )\n",
       "          (output): BertOutput(\n",
       "            (dense): Linear(in_features=3072, out_features=768, bias=True)\n",
       "            (LayerNorm): LayerNorm((768,), eps=1e-05, elementwise_affine=True)\n",
       "            (dropout): Dropout(p=0.1, inplace=False)\n",
       "          )\n",
       "        )\n",
       "        (5): BertLayer(\n",
       "          (attention): BertAttention(\n",
       "            (self): BertSelfAttention(\n",
       "              (query): Linear(in_features=768, out_features=768, bias=True)\n",
       "              (key): Linear(in_features=768, out_features=768, bias=True)\n",
       "              (value): Linear(in_features=768, out_features=768, bias=True)\n",
       "              (dropout): Dropout(p=0.1, inplace=False)\n",
       "            )\n",
       "            (output): BertSelfOutput(\n",
       "              (dense): Linear(in_features=768, out_features=768, bias=True)\n",
       "              (LayerNorm): LayerNorm((768,), eps=1e-05, elementwise_affine=True)\n",
       "              (dropout): Dropout(p=0.1, inplace=False)\n",
       "            )\n",
       "          )\n",
       "          (intermediate): BertIntermediate(\n",
       "            (dense): Linear(in_features=768, out_features=3072, bias=True)\n",
       "          )\n",
       "          (output): BertOutput(\n",
       "            (dense): Linear(in_features=3072, out_features=768, bias=True)\n",
       "            (LayerNorm): LayerNorm((768,), eps=1e-05, elementwise_affine=True)\n",
       "            (dropout): Dropout(p=0.1, inplace=False)\n",
       "          )\n",
       "        )\n",
       "        (6): BertLayer(\n",
       "          (attention): BertAttention(\n",
       "            (self): BertSelfAttention(\n",
       "              (query): Linear(in_features=768, out_features=768, bias=True)\n",
       "              (key): Linear(in_features=768, out_features=768, bias=True)\n",
       "              (value): Linear(in_features=768, out_features=768, bias=True)\n",
       "              (dropout): Dropout(p=0.1, inplace=False)\n",
       "            )\n",
       "            (output): BertSelfOutput(\n",
       "              (dense): Linear(in_features=768, out_features=768, bias=True)\n",
       "              (LayerNorm): LayerNorm((768,), eps=1e-05, elementwise_affine=True)\n",
       "              (dropout): Dropout(p=0.1, inplace=False)\n",
       "            )\n",
       "          )\n",
       "          (intermediate): BertIntermediate(\n",
       "            (dense): Linear(in_features=768, out_features=3072, bias=True)\n",
       "          )\n",
       "          (output): BertOutput(\n",
       "            (dense): Linear(in_features=3072, out_features=768, bias=True)\n",
       "            (LayerNorm): LayerNorm((768,), eps=1e-05, elementwise_affine=True)\n",
       "            (dropout): Dropout(p=0.1, inplace=False)\n",
       "          )\n",
       "        )\n",
       "        (7): BertLayer(\n",
       "          (attention): BertAttention(\n",
       "            (self): BertSelfAttention(\n",
       "              (query): Linear(in_features=768, out_features=768, bias=True)\n",
       "              (key): Linear(in_features=768, out_features=768, bias=True)\n",
       "              (value): Linear(in_features=768, out_features=768, bias=True)\n",
       "              (dropout): Dropout(p=0.1, inplace=False)\n",
       "            )\n",
       "            (output): BertSelfOutput(\n",
       "              (dense): Linear(in_features=768, out_features=768, bias=True)\n",
       "              (LayerNorm): LayerNorm((768,), eps=1e-05, elementwise_affine=True)\n",
       "              (dropout): Dropout(p=0.1, inplace=False)\n",
       "            )\n",
       "          )\n",
       "          (intermediate): BertIntermediate(\n",
       "            (dense): Linear(in_features=768, out_features=3072, bias=True)\n",
       "          )\n",
       "          (output): BertOutput(\n",
       "            (dense): Linear(in_features=3072, out_features=768, bias=True)\n",
       "            (LayerNorm): LayerNorm((768,), eps=1e-05, elementwise_affine=True)\n",
       "            (dropout): Dropout(p=0.1, inplace=False)\n",
       "          )\n",
       "        )\n",
       "        (8): BertLayer(\n",
       "          (attention): BertAttention(\n",
       "            (self): BertSelfAttention(\n",
       "              (query): Linear(in_features=768, out_features=768, bias=True)\n",
       "              (key): Linear(in_features=768, out_features=768, bias=True)\n",
       "              (value): Linear(in_features=768, out_features=768, bias=True)\n",
       "              (dropout): Dropout(p=0.1, inplace=False)\n",
       "            )\n",
       "            (output): BertSelfOutput(\n",
       "              (dense): Linear(in_features=768, out_features=768, bias=True)\n",
       "              (LayerNorm): LayerNorm((768,), eps=1e-05, elementwise_affine=True)\n",
       "              (dropout): Dropout(p=0.1, inplace=False)\n",
       "            )\n",
       "          )\n",
       "          (intermediate): BertIntermediate(\n",
       "            (dense): Linear(in_features=768, out_features=3072, bias=True)\n",
       "          )\n",
       "          (output): BertOutput(\n",
       "            (dense): Linear(in_features=3072, out_features=768, bias=True)\n",
       "            (LayerNorm): LayerNorm((768,), eps=1e-05, elementwise_affine=True)\n",
       "            (dropout): Dropout(p=0.1, inplace=False)\n",
       "          )\n",
       "        )\n",
       "        (9): BertLayer(\n",
       "          (attention): BertAttention(\n",
       "            (self): BertSelfAttention(\n",
       "              (query): Linear(in_features=768, out_features=768, bias=True)\n",
       "              (key): Linear(in_features=768, out_features=768, bias=True)\n",
       "              (value): Linear(in_features=768, out_features=768, bias=True)\n",
       "              (dropout): Dropout(p=0.1, inplace=False)\n",
       "            )\n",
       "            (output): BertSelfOutput(\n",
       "              (dense): Linear(in_features=768, out_features=768, bias=True)\n",
       "              (LayerNorm): LayerNorm((768,), eps=1e-05, elementwise_affine=True)\n",
       "              (dropout): Dropout(p=0.1, inplace=False)\n",
       "            )\n",
       "          )\n",
       "          (intermediate): BertIntermediate(\n",
       "            (dense): Linear(in_features=768, out_features=3072, bias=True)\n",
       "          )\n",
       "          (output): BertOutput(\n",
       "            (dense): Linear(in_features=3072, out_features=768, bias=True)\n",
       "            (LayerNorm): LayerNorm((768,), eps=1e-05, elementwise_affine=True)\n",
       "            (dropout): Dropout(p=0.1, inplace=False)\n",
       "          )\n",
       "        )\n",
       "        (10): BertLayer(\n",
       "          (attention): BertAttention(\n",
       "            (self): BertSelfAttention(\n",
       "              (query): Linear(in_features=768, out_features=768, bias=True)\n",
       "              (key): Linear(in_features=768, out_features=768, bias=True)\n",
       "              (value): Linear(in_features=768, out_features=768, bias=True)\n",
       "              (dropout): Dropout(p=0.1, inplace=False)\n",
       "            )\n",
       "            (output): BertSelfOutput(\n",
       "              (dense): Linear(in_features=768, out_features=768, bias=True)\n",
       "              (LayerNorm): LayerNorm((768,), eps=1e-05, elementwise_affine=True)\n",
       "              (dropout): Dropout(p=0.1, inplace=False)\n",
       "            )\n",
       "          )\n",
       "          (intermediate): BertIntermediate(\n",
       "            (dense): Linear(in_features=768, out_features=3072, bias=True)\n",
       "          )\n",
       "          (output): BertOutput(\n",
       "            (dense): Linear(in_features=3072, out_features=768, bias=True)\n",
       "            (LayerNorm): LayerNorm((768,), eps=1e-05, elementwise_affine=True)\n",
       "            (dropout): Dropout(p=0.1, inplace=False)\n",
       "          )\n",
       "        )\n",
       "        (11): BertLayer(\n",
       "          (attention): BertAttention(\n",
       "            (self): BertSelfAttention(\n",
       "              (query): Linear(in_features=768, out_features=768, bias=True)\n",
       "              (key): Linear(in_features=768, out_features=768, bias=True)\n",
       "              (value): Linear(in_features=768, out_features=768, bias=True)\n",
       "              (dropout): Dropout(p=0.1, inplace=False)\n",
       "            )\n",
       "            (output): BertSelfOutput(\n",
       "              (dense): Linear(in_features=768, out_features=768, bias=True)\n",
       "              (LayerNorm): LayerNorm((768,), eps=1e-05, elementwise_affine=True)\n",
       "              (dropout): Dropout(p=0.1, inplace=False)\n",
       "            )\n",
       "          )\n",
       "          (intermediate): BertIntermediate(\n",
       "            (dense): Linear(in_features=768, out_features=3072, bias=True)\n",
       "          )\n",
       "          (output): BertOutput(\n",
       "            (dense): Linear(in_features=3072, out_features=768, bias=True)\n",
       "            (LayerNorm): LayerNorm((768,), eps=1e-05, elementwise_affine=True)\n",
       "            (dropout): Dropout(p=0.1, inplace=False)\n",
       "          )\n",
       "        )\n",
       "      )\n",
       "    )\n",
       "    (pooler): BertPooler(\n",
       "      (dense): Linear(in_features=768, out_features=768, bias=True)\n",
       "      (activation): Tanh()\n",
       "    )\n",
       "  )\n",
       "  (classifier): RobertaClassificationHead(\n",
       "    (dense): Linear(in_features=768, out_features=768, bias=True)\n",
       "    (dropout): Dropout(p=0.1, inplace=False)\n",
       "    (out_proj): Linear(in_features=768, out_features=2, bias=True)\n",
       "  )\n",
       ")"
      ]
     },
     "execution_count": 76,
     "metadata": {
      "tags": []
     },
     "output_type": "execute_result"
    }
   ],
   "source": [
    "from transformers import RobertaForSequenceClassification as bfsc,AdamW,RobertaConfig\n",
    "from transformers import RobertaModel, RobertaTokenizer\n",
    "from transformers import RobertaForSequenceClassification, RobertaConfig\n",
    "\n",
    "config = RobertaConfig.from_pretrained('roberta-base',output_attentions=False,output_hidden_states=False,num_labels=2)\n",
    "tokenizer = RobertaTokenizer.from_pretrained('roberta-base')\n",
    "model = RobertaForSequenceClassification(config)\n",
    "model.cuda()"
   ]
  },
  {
   "cell_type": "code",
   "execution_count": 0,
   "metadata": {
    "colab": {},
    "colab_type": "code",
    "id": "ZPr_Sj12LY-y"
   },
   "outputs": [],
   "source": []
  },
  {
   "cell_type": "code",
   "execution_count": 0,
   "metadata": {
    "colab": {},
    "colab_type": "code",
    "id": "NDzvjKyWMio7"
   },
   "outputs": [],
   "source": [
    "params=list(model.named_parameters())"
   ]
  },
  {
   "cell_type": "code",
   "execution_count": 0,
   "metadata": {
    "colab": {},
    "colab_type": "code",
    "id": "jQQ5__z5Mio-"
   },
   "outputs": [],
   "source": [
    "no_decay = [\"bias\", \"beta\",\"LayerNorm.weight\",\"gamma\"]\n",
    "optimizer_grouped_parameters = [\n",
    "{\n",
    "\"params\": [p for n, p in model.named_parameters() if not any(nd in n for nd in no_decay)],\n",
    "\"weight_decay\": 0.01,\n",
    "},\n",
    "{\"params\": [p for n, p in model.named_parameters() if any(nd in n for nd in no_decay)], \"weight_decay\": 0.0},\n",
    "]"
   ]
  },
  {
   "cell_type": "code",
   "execution_count": 0,
   "metadata": {
    "colab": {},
    "colab_type": "code",
    "id": "frZAYslgMipB"
   },
   "outputs": [],
   "source": [
    "optimizer=AdamW(model.parameters(),lr=3e-5,eps=1e-8)"
   ]
  },
  {
   "cell_type": "code",
   "execution_count": 80,
   "metadata": {
    "colab": {
     "base_uri": "https://localhost:8080/",
     "height": 34
    },
    "colab_type": "code",
    "id": "au4tTkrfMipE",
    "outputId": "3cabf033-141c-40c5-c5b6-3e94e830b873"
   },
   "outputs": [
    {
     "data": {
      "text/plain": [
       "<All keys matched successfully>"
      ]
     },
     "execution_count": 80,
     "metadata": {
      "tags": []
     },
     "output_type": "execute_result"
    }
   ],
   "source": [
    "\n",
    "torch.save({'state_dict': model.state_dict()}, '/content/drive/My Drive/EnglishData/robertaenglish.pth.tar')\n",
    "checkpoint = torch.load('/content/drive/My Drive/EnglishData/robertaenglish.pth.tar')\n",
    "model.load_state_dict(checkpoint['state_dict'])\n",
    "  "
   ]
  },
  {
   "cell_type": "code",
   "execution_count": 0,
   "metadata": {
    "colab": {},
    "colab_type": "code",
    "id": "xSdEEzMJMipH"
   },
   "outputs": [],
   "source": [
    "from sklearn.metrics import f1_score\n",
    "from sklearn.metrics import accuracy_score\n",
    "\n",
    "def calculateF1Score(predictions,labels):\n",
    "  #rowwise return the index of the max element ie 0 or 1 depending on the maximum value returned\n",
    "  predictionArgmax=np.argmax(predictions,axis=1).flatten()\n",
    "  labelsFlattend=labels.flatten()\n",
    "  print(\"Predictions Argmax\",predictionArgmax)\n",
    "  print(\"labels Flattened\",labelsFlattend)   \n",
    "  return f1_score(labelsFlattend, predictionArgmax, average='macro'),accuracy_score(labelsFlattend, predictionArgmax)\n",
    "\n"
   ]
  },
  {
   "cell_type": "code",
   "execution_count": 0,
   "metadata": {
    "colab": {},
    "colab_type": "code",
    "id": "1cu3euWbs9MM"
   },
   "outputs": [],
   "source": []
  },
  {
   "cell_type": "code",
   "execution_count": 82,
   "metadata": {
    "colab": {
     "base_uri": "https://localhost:8080/",
     "height": 54
    },
    "colab_type": "code",
    "id": "owfS8MEZ-oJf",
    "outputId": "33d113fe-9354-4aee-d390-650b36bc010c"
   },
   "outputs": [
    {
     "data": {
      "text/plain": [
       "'\\nxtest,x_test_mask=giveIds(x_test.flatten(),y_test)\\nx_test_pytorch=torch.tensor(xtest)\\ny_test_pytorch=torch.tensor(y_test)\\nx_test_mask_pytorch=torch.tensor(x_test_mask)\\ntedata=TensorDataset(x_test_pytorch,x_test_mask_pytorch,y_test_pytorch)\\ntesampler=RandomSampler(tedata)\\nbsize=64\\ntedataloader=DataLoader(tedata,sampler=tesampler,batch_size=bsize)\\nprint(len(xtest))\\nprint(len(y_test))\\nlen(x_train)\\n'"
      ]
     },
     "execution_count": 82,
     "metadata": {
      "tags": []
     },
     "output_type": "execute_result"
    }
   ],
   "source": [
    "###IMPORTANT\n",
    "'''\n",
    "xtest,x_test_mask=giveIds(x_test.flatten(),y_test)\n",
    "x_test_pytorch=torch.tensor(xtest)\n",
    "y_test_pytorch=torch.tensor(y_test)\n",
    "x_test_mask_pytorch=torch.tensor(x_test_mask)\n",
    "tedata=TensorDataset(x_test_pytorch,x_test_mask_pytorch,y_test_pytorch)\n",
    "tesampler=RandomSampler(tedata)\n",
    "bsize=64\n",
    "tedataloader=DataLoader(tedata,sampler=tesampler,batch_size=bsize)\n",
    "print(len(xtest))\n",
    "print(len(y_test))\n",
    "len(x_train)\n",
    "'''"
   ]
  },
  {
   "cell_type": "code",
   "execution_count": 0,
   "metadata": {
    "colab": {},
    "colab_type": "code",
    "id": "uTEaGYn-AIWQ"
   },
   "outputs": [],
   "source": [
    "#z=len(x_test)"
   ]
  },
  {
   "cell_type": "code",
   "execution_count": 0,
   "metadata": {
    "colab": {},
    "colab_type": "code",
    "id": "FJLwApO5CCNB"
   },
   "outputs": [],
   "source": []
  },
  {
   "cell_type": "code",
   "execution_count": 0,
   "metadata": {
    "colab": {},
    "colab_type": "code",
    "id": "-FOvU_KsCYid"
   },
   "outputs": [],
   "source": [
    "#creating a dataset inspired from \n",
    "#https://towardsdatascience.com/bert-classifier-just-another-pytorch-model-881b3cf05784\n",
    "\n",
    "\n",
    "\n"
   ]
  },
  {
   "cell_type": "code",
   "execution_count": 0,
   "metadata": {
    "colab": {},
    "colab_type": "code",
    "id": "CSEGSScdGllP"
   },
   "outputs": [],
   "source": [
    "#xytest[1]"
   ]
  },
  {
   "cell_type": "code",
   "execution_count": 0,
   "metadata": {
    "colab": {},
    "colab_type": "code",
    "id": "mAS3e4gNHI44"
   },
   "outputs": [],
   "source": []
  },
  {
   "cell_type": "code",
   "execution_count": 0,
   "metadata": {
    "colab": {},
    "colab_type": "code",
    "id": "pORB6e8-JnoC"
   },
   "outputs": [],
   "source": [
    "#the customdataset section has been inspired from \n",
    "#https://github.com/sugi-chan/custom_bert_pipeline/blob/master/bert_pipeline.ipynb  "
   ]
  },
  {
   "cell_type": "markdown",
   "metadata": {
    "colab_type": "text",
    "id": "pBcEMw2SRV_7"
   },
   "source": []
  },
  {
   "cell_type": "code",
   "execution_count": 0,
   "metadata": {
    "colab": {},
    "colab_type": "code",
    "id": "RwqSDP2KL71z"
   },
   "outputs": [],
   "source": [
    "MAXLENGTH=64"
   ]
  },
  {
   "cell_type": "code",
   "execution_count": 87,
   "metadata": {
    "colab": {
     "base_uri": "https://localhost:8080/",
     "height": 34
    },
    "colab_type": "code",
    "id": "BTurXRofNATj",
    "outputId": "bb793eb1-7627-4881-d205-97dc06899d3f"
   },
   "outputs": [
    {
     "data": {
      "text/plain": [
       "'\\nz=0;\\nfor batch_idx, data in enumerate(tdataloader): \\n  if z==100:\\n    break;\\n  z=z+1;'"
      ]
     },
     "execution_count": 87,
     "metadata": {
      "tags": []
     },
     "output_type": "execute_result"
    }
   ],
   "source": [
    "class EnglishTrainDataset(Dataset):\n",
    "    def __init__(self,xytrain):\n",
    "        self.xytrain = xytrain\n",
    "        self.maxlength=MAXLENGTH\n",
    "       \n",
    "    def __getitem__(self, index):\n",
    "        tokenized_review = tokenizer.tokenize(self.xytrain[0][index])\n",
    "        if len(tokenized_review) > self.maxlength:\n",
    "            #print(tokenized_review)\n",
    "            tokenized_review = tokenized_review[:self.maxlength]\n",
    "        \n",
    "        \n",
    "        ids_of_sentence_word  = tokenizer.convert_tokens_to_ids(tokenized_review)\n",
    "        padding = [0] * (self.maxlength - len(ids_of_sentence_word))\n",
    "        ids_of_sentence_word += padding\n",
    "        assert len(ids_of_sentence_word) == self.maxlength\n",
    "        #print(ids_of_sentence_word)\n",
    "        #attention_mask = [int(b > 0) for b in ids_of_sentence_word] \n",
    "        x_train_pytorch = torch.tensor(ids_of_sentence_word)\n",
    "        y_train_pytorch=torch.tensor(self.xytrain[1][index])\n",
    "        \n",
    "        return x_train_pytorch,y_train_pytorch\n",
    "        #return [1,2,3]\n",
    "        \n",
    "    def __len__(self):\n",
    "        return len(self.xytrain[0])\n",
    " \n",
    "\n",
    "'''\n",
    "z=0;\n",
    "for batch_idx, data in enumerate(tdataloader): \n",
    "  if z==100:\n",
    "    break;\n",
    "  z=z+1;'''"
   ]
  },
  {
   "cell_type": "code",
   "execution_count": 0,
   "metadata": {
    "colab": {},
    "colab_type": "code",
    "id": "U47_yavmOa7S"
   },
   "outputs": [],
   "source": [
    "class EnglishTestDataset(Dataset):\n",
    "    def __init__(self,xytest):\n",
    "        self.xytest = xytest\n",
    "        self.maxlength=MAXLENGTH\n",
    "       \n",
    "    def __getitem__(self, index):\n",
    "        tokenized_review = tokenizer.tokenize(self.xytest[0][index])\n",
    "        if len(tokenized_review) > self.maxlength:\n",
    "            #print(tokenized_review)\n",
    "            tokenized_review = tokenized_review[:self.maxlength]\n",
    "        \n",
    "        \n",
    "        ids_of_sentence_word  = tokenizer.convert_tokens_to_ids(tokenized_review)\n",
    "        padding = [0] * (self.maxlength - len(ids_of_sentence_word))\n",
    "        ids_of_sentence_word += padding\n",
    "        #assert len(ids_of_sentence_word) == self.maxlength\n",
    "        #print(ids_of_sentence_word)\n",
    "        #attention_mask = [int(b > 0) for b in ids_of_sentence_word] \n",
    "        x_test_pytorch = torch.tensor(ids_of_sentence_word)\n",
    "        y_test_pytorch=torch.tensor(self.xytest[1][index])\n",
    "        #x_test_mask_pytorch=torch.tensor(attention_mask)\n",
    "        \n",
    "        return x_test_pytorch,y_test_pytorch\n",
    "        #return [1,2,3]\n",
    "        \n",
    "    def __len__(self):\n",
    "        return len(self.xytest[0])\n",
    "\n"
   ]
  },
  {
   "cell_type": "code",
   "execution_count": 0,
   "metadata": {
    "colab": {},
    "colab_type": "code",
    "id": "VObEL94h-bU8"
   },
   "outputs": [],
   "source": [
    "#xytrain=[x_train[:8000],y_train[:8000]]\\\n",
    "#MAXLENGTH=giveIds(x_train[0])\n",
    "xytrain=[x_train,yTrain]\n",
    "#tokenizer=bertTokenizer.from_pretrained('bert-base-uncased',do_lower_case=True)\n",
    "tdataset = EnglishTrainDataset(xytrain)\n",
    "tsampler=RandomSampler(tdataset)\n",
    "tdataloader = DataLoader(tdataset, batch_size=32, num_workers=1, shuffle=False,sampler=tsampler)\n",
    "      "
   ]
  },
  {
   "cell_type": "code",
   "execution_count": 0,
   "metadata": {
    "colab": {},
    "colab_type": "code",
    "id": "t753LP5zOq44"
   },
   "outputs": [],
   "source": [
    "\n",
    "#xytest=[x_test[:8000],y_test[:8000]]\n",
    "xytest=[x_test,yTest]\n",
    "#tokenizer=bertTokenizer.from_pretrained('bert-base-uncased',do_lower_case=True)\n",
    "tedataset = EnglishTestDataset(xytest) \n",
    "tesampler=RandomSampler(tedataset)\n",
    "tedataloader = DataLoader(tedataset, batch_size=32, num_workers=1, shuffle=False,sampler=tesampler)\n",
    "#trainData(tdataloader,tedataloader)"
   ]
  },
  {
   "cell_type": "code",
   "execution_count": 0,
   "metadata": {
    "colab": {},
    "colab_type": "code",
    "id": "QH_J0p88PWuk"
   },
   "outputs": [],
   "source": [
    "#tokenized_review"
   ]
  },
  {
   "cell_type": "code",
   "execution_count": 0,
   "metadata": {
    "colab": {},
    "colab_type": "code",
    "id": "udjp1U9q9xaI"
   },
   "outputs": [],
   "source": [
    "\n",
    "epochs=4\n",
    "total_steps=len(tdataloader)*epochs\n",
    "sch=get_linear_schedule_with_warmup(optimizer,\n",
    "                                    num_warmup_steps=0,num_training_steps=total_steps)\n",
    "\n"
   ]
  },
  {
   "cell_type": "code",
   "execution_count": 0,
   "metadata": {
    "colab": {},
    "colab_type": "code",
    "id": "0rPrZ3_M-LZx"
   },
   "outputs": [],
   "source": []
  },
  {
   "cell_type": "markdown",
   "metadata": {
    "colab_type": "text",
    "id": "Kp-PmVUP9N9c"
   },
   "source": []
  },
  {
   "cell_type": "code",
   "execution_count": 0,
   "metadata": {
    "colab": {
     "base_uri": "https://localhost:8080/",
     "height": 521
    },
    "colab_type": "code",
    "id": "cqmnbPGdMipR",
    "outputId": "5ccf7c75-3abd-46aa-d5b5-2589f53b4b82"
   },
   "outputs": [
    {
     "name": "stdout",
     "output_type": "stream",
     "text": [
      "Start Epoch Number 1\n",
      "Start Training\n",
      "Batch Completed  50  of  331.    Elapsed time is  11.926927328109741\n",
      "Batch Completed  100  of  331.    Elapsed time is  23.670315742492676\n",
      "Batch Completed  150  of  331.    Elapsed time is  35.37080717086792\n",
      "Batch Completed  200  of  331.    Elapsed time is  47.216551303863525\n",
      "Batch Completed  250  of  331.    Elapsed time is  59.03331995010376\n",
      "Batch Completed  300  of  331.    Elapsed time is  70.74726557731628\n",
      " The training loss incured is  0.652\n",
      "  Training one epoch time taken 78.01407885551453\n",
      " Validation starts here \n",
      "Predictions Argmax [0 0 0 0 0 0 0 0 0 0 0 0 0 0 0 0 0 0 0 0 0 0 0 0 0 0 0 0 0 0 0 0]\n",
      "labels Flattened [0 1 0 0 0 0 0 0 0 0 0 0 0 0 1 1 0 0 1 1 0 1 0 1 1 1 0 0 0 0 0 1]\n",
      "Predictions Argmax [0 0 0 0 0 0 0 0 0 0 0 0 0 0 0 0 0 0 0 0 0 0 0 0 0 0 0 0 0 0 0 0]\n",
      "labels Flattened [0 0 0 1 1 0 0 1 0 0 0 1 0 0 1 1 0 0 1 0 0 0 0 1 0 1 1 1 0 0 0 0]\n",
      "Predictions Argmax [0 0 0 0 0 0 0 0 0 0 0 0 0 0 0 0 0 0 0 0 0 0 0 0 0 0 0 0 0 0 0 0]\n",
      "labels Flattened [0 0 1 0 0 0 0 0 0 0 1 0 0 1 1 0 0 0 0 0 0 0 1 0 1 1 0 0 0 0 0 1]\n",
      "Predictions Argmax [0 0 0 0 0 0 0 0 0 0 0 0 0 0 0 0 0 0 0 0 0 0 0 0 0 0 0 0 0 0 0 0]\n",
      "labels Flattened [1 0 1 0 0 0 1 1 0 0 0 1 0 0 0 0 1 0 0 0 0 1 1 0 1 1 1 0 0 0 0 0]\n",
      "Predictions Argmax [0 0 0 0 0 0 0 0 0 0 0 0 0 0 0 0 0 0 0 0 0 0 0 0 0 0 0 0 0 0 0 0]\n",
      "labels Flattened [0 0 1 1 0 1 1 1 1 1 0 0 1 0 0 0 1 0 1 0 0 0 1 1 1 0 0 0 0 1 0 0]\n",
      "Predictions Argmax [0 0 0 0 0 0 0 0 0 0 0 0 0 0 0 0 0 0 0 0 0 0 0 0 0 0 0 0 0 0 0 0]\n",
      "labels Flattened [1 1 1 1 0 0 1 1 0 1 0 0 0 0 0 0 0 0 0 1 0 0 0 0 0 0 1 1 1 1 0 1]\n",
      "Predictions Argmax [0 0 0 0 0 0 0 0 0 0 0 0 0 0 0 0 0 0 0 0 0 0 0 0 0 0 0 0 0 0 0 0]\n",
      "labels Flattened [0 1 0 0 0 1 0 0 0 0 0 0 0 1 1 0 0 0 1 0 1 0 0 0 0 0 1 1 0 0 0 1]\n",
      "Predictions Argmax [0 0 0 0 0 0 0 0 0 0 0 0 0 0 0 0 0 0 0 0 0 0 0 0 0 0 0 0 0 0 0 0]\n",
      "labels Flattened [0 1 0 0 1 0 0 1 0 0 1 0 1 0 0 0 0 0 1 1 1 0 1 1 1 0 0 0 0 0 1 0]\n",
      "Predictions Argmax [0 0 0 0 0 0 0 0 0 0 0 0 0 0 0 0 0 0 0 0 0 0 0 0 0 0 0 0 0 0 0 0]\n",
      "labels Flattened [0 1 0 1 0 1 0 0 1 0 0 0 1 0 0 0 0 1 1 0 0 0 1 1 0 0 1 0 1 1 0 0]\n"
     ]
    }
   ],
   "source": [
    "import random\n",
    "import time \n",
    "\n",
    "def set_seed(seed,ngpu):\n",
    "  random.seed(seed)\n",
    "  np.random.seed(seed)\n",
    "  torch.manual_seed(seed)\n",
    "  if ngpu > 0:\n",
    "        torch.cuda.manual_seed_all(seed)\n",
    "      \n",
    "set_seed(42,torch.cuda.device_count())\n",
    "#remove later\n",
    "\n",
    "epochs=4\n",
    "lossList=[]\n",
    "max_grad_norm=1.0\n",
    "for e in range(0, epochs):\n",
    "    print(\"Start Epoch Number\",(e + 1))\n",
    "    print(\"Start Training\")\n",
    "    \n",
    "\n",
    "    #Amount of time taken for training\n",
    "    t1 = time.time()\n",
    "    tr_loss, logging_loss = 0.0, 0.0\n",
    "    model.train()\n",
    "    tsteps=0\n",
    "    for step, batch in enumerate(tdataloader):\n",
    "        if step % 50 == 0 and not step == 0:\n",
    "            print(\"Batch Completed  {:,}  of  {:,}.    Elapsed time is  {}\".format(step, len(tdataloader),time.time() - t1))\n",
    "        batch = tuple(t.to(device) for t in batch)\n",
    "        inputs = {\"input_ids\": batch[0], \"labels\": batch[1]}\n",
    "        model.zero_grad()     \n",
    "        outputs = model(inputs[\"input_ids\"],token_type_ids=None, labels=inputs[\"labels\"])\n",
    "        #print(type(outputs))\n",
    "        loss, prediction_scores = outputs[:2]\n",
    "        #print(loss)\n",
    "        loss.backward()\n",
    "        tr_loss += loss.item()\n",
    "        torch.nn.utils.clip_grad_norm_(model.parameters(), max_grad_norm)\n",
    "        tsteps+=1\n",
    "        optimizer.step()\n",
    "        sch.step()\n",
    "    a_tr_loss = tr_loss /(tsteps)               \n",
    "    lossList.append(a_tr_loss)\n",
    "    print(\" The training loss incured is  {0:.3f}\".format(a_tr_loss))\n",
    "    t2=time.time()\n",
    "    print(\"  Training one epoch time taken\",t2-t1)\n",
    "    print(\" Validation starts here \")\n",
    "    t1 = time.time()\n",
    "    model.eval()\n",
    "    eval_loss = 0\n",
    "    nb_eval_steps = 0\n",
    "    eval_f1=0\n",
    "    eval_acc=0\n",
    "    \n",
    "    for batch_idx, data in enumerate(tedataloader):\n",
    "        \n",
    "        batch = tuple(t.to(device) for t in data)            \n",
    "        inputs = {\"input_ids\": batch[0], \"labels\": batch[1]}\n",
    "        with torch.no_grad():        \n",
    "           outputs = model(inputs[\"input_ids\"],token_type_ids=None)\n",
    "        logits = outputs[0]\n",
    "        logits = logits.detach().cpu().numpy()\n",
    "        label_ids = (inputs[\"labels\"]).to('cpu').numpy()\n",
    "        tmpf1score,tmpaccscore = calculateF1Score(logits, label_ids)\n",
    "        eval_f1 = eval_f1+tmpf1score\n",
    "        eval_acc=eval_acc+tmpaccscore\n",
    "        nb_eval_steps += 1\n",
    "        #print(\" TEMP F1 score: {0:.3f}\".format(tmpf1score))\n",
    "        #print(\"TEMP  Accuracy score: {0:.3f}\".format(tmpaccscore))\n",
    "    #torch.save({'state_dict': model.state_dict()}, '/content/drive/My Drive/EnglishData/robertaenglish.pth.tar')\n",
    "    print(\"  F1 score: {0:.3f}\".format(eval_f1/nb_eval_steps))\n",
    "    print(\"  Accuracy score: {0:.3f}\".format(eval_acc/nb_eval_steps))\n",
    "    t2=time.time()\n",
    "    print(\"  Validating one epoch time taken \",t2-t1)\n",
    "      \n",
    "    \n",
    "print(\"ALL DONE!!!\")"
   ]
  },
  {
   "cell_type": "code",
   "execution_count": 0,
   "metadata": {
    "colab": {},
    "colab_type": "code",
    "id": "l0CcvhMPDUy6"
   },
   "outputs": [],
   "source": [
    "print(type(outputs))"
   ]
  },
  {
   "cell_type": "code",
   "execution_count": 0,
   "metadata": {
    "colab": {},
    "colab_type": "code",
    "id": "qVLBZueyOjA_"
   },
   "outputs": [],
   "source": [
    "print(outputs[1])"
   ]
  },
  {
   "cell_type": "code",
   "execution_count": 0,
   "metadata": {
    "colab": {},
    "colab_type": "code",
    "id": "JlwyxaioYiGr"
   },
   "outputs": [],
   "source": [
    "'''nlists=2\n",
    "last=16000\n",
    "size_of_itertrain=8000//nlists\n",
    "size_of_itertest=8000//nlists\n",
    "#print(size_of_itertrain)\n",
    "for  i in range(nlists+1):\n",
    "      \n",
    "      end=(i+1)*size_of_itertrain\n",
    "      if(last<end):\n",
    "        end=last\n",
    "      xytrain=[x_train[i*size_of_itertrain:end],y_train[i*size_of_itertrain:end]]\n",
    "      tokenizer=bertTokenizer.from_pretrained('bert-base-uncased',do_lower_case=True)\n",
    "      tdataset = EnglishTrainDataset(xytrain)\n",
    "      tsampler=RandomSampler(tdataset)\n",
    "      tdataloader = DataLoader(tdataset, batch_size=32, num_workers=1, shuffle=False,sampler=tsampler)\n",
    "      \n",
    "      epochs=2\n",
    "      total_steps=len(tdataloader)*epochs\n",
    "      sch=get_linear_schedule_with_warmup(optimizer,\n",
    "                                    num_warmup_steps=0,num_training_steps=total_steps)\n",
    "\n",
    "      end=(i+1)*size_of_itertest\n",
    "      if(last<end):\n",
    "        end=last \n",
    "    \n",
    "      xytest=[x_test[i*size_of_itertest:end],y_test[i*size_of_itertest:end]]\n",
    "      tokenizer=bertTokenizer.from_pretrained('bert-base-uncased',do_lower_case=True)\n",
    "      tedataset = EnglishTestDataset(xytest)  \n",
    "      tesampler=RandomSampler(tedataset)\n",
    "      tedataloader = DataLoader(tedataset, batch_size=32, num_workers=1, shuffle=False,sampler=tesampler)\n",
    "\n",
    "      trainData(tdataloader,tedataloader)\n",
    "\n",
    "      \n",
    "y_test_pytorch=torch.tensor(xytest[1][index])'''"
   ]
  },
  {
   "cell_type": "code",
   "execution_count": 0,
   "metadata": {
    "colab": {},
    "colab_type": "code",
    "id": "WPhVU_w-iZmB"
   },
   "outputs": [],
   "source": [
    "#y_test_pytorch=torch.tensor(xytest[1][40])"
   ]
  },
  {
   "cell_type": "code",
   "execution_count": 0,
   "metadata": {
    "colab": {},
    "colab_type": "code",
    "id": "z7QXQMvZxpzC"
   },
   "outputs": [],
   "source": [
    "#len(xytest[1])"
   ]
  },
  {
   "cell_type": "code",
   "execution_count": 0,
   "metadata": {
    "colab": {},
    "colab_type": "code",
    "id": "a0WX9KRpvDvR"
   },
   "outputs": [],
   "source": [
    "#len(xytest[0])"
   ]
  },
  {
   "cell_type": "code",
   "execution_count": 0,
   "metadata": {
    "colab": {},
    "colab_type": "code",
    "id": "q4rWdrUSxJIV"
   },
   "outputs": [],
   "source": [
    "#len(xytrain[1])"
   ]
  },
  {
   "cell_type": "code",
   "execution_count": 0,
   "metadata": {
    "colab": {},
    "colab_type": "code",
    "id": "pVU_iFtVa42a"
   },
   "outputs": [],
   "source": [
    "\n",
    "MAXLENGTH"
   ]
  },
  {
   "cell_type": "code",
   "execution_count": 0,
   "metadata": {
    "colab": {},
    "colab_type": "code",
    "id": "-upACWh-MuWi"
   },
   "outputs": [],
   "source": [
    "\n",
    "print(\"MAXLENGTH\",MAXLENGTH)"
   ]
  },
  {
   "cell_type": "code",
   "execution_count": 0,
   "metadata": {
    "colab": {},
    "colab_type": "code",
    "id": "ZWgpgNrIOAnX"
   },
   "outputs": [],
   "source": []
  }
 ],
 "metadata": {
  "accelerator": "GPU",
  "colab": {
   "collapsed_sections": [],
   "machine_shape": "hm",
   "name": "RobertaEnglishFInalTosubmit.ipynb",
   "provenance": []
  },
  "kernelspec": {
   "display_name": "Python 3",
   "language": "python",
   "name": "python3"
  },
  "language_info": {
   "codemirror_mode": {
    "name": "ipython",
    "version": 3
   },
   "file_extension": ".py",
   "mimetype": "text/x-python",
   "name": "python",
   "nbconvert_exporter": "python",
   "pygments_lexer": "ipython3",
   "version": "3.8.2"
  }
 },
 "nbformat": 4,
 "nbformat_minor": 1
}
