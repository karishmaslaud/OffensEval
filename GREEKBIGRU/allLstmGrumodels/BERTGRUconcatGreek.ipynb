{
 "cells": [
  {
   "cell_type": "code",
   "execution_count": 0,
   "metadata": {
    "colab": {},
    "colab_type": "code",
    "id": "T1HZ3sJ-t1SC"
   },
   "outputs": [],
   "source": [
    "#all imports\n",
    "import tensorflow as tf\n",
    "import torch"
   ]
  },
  {
   "cell_type": "code",
   "execution_count": 0,
   "metadata": {
    "colab": {
     "base_uri": "https://localhost:8080/",
     "height": 34
    },
    "colab_type": "code",
    "id": "iCcqa_7et4cD",
    "outputId": "d7ca5531-3436-427c-a79c-f40b840c2024"
   },
   "outputs": [
    {
     "name": "stdout",
     "output_type": "stream",
     "text": [
      "Found GPU at :/device:GPU:0\n"
     ]
    }
   ],
   "source": [
    "\n",
    "gpuname=tf.test.gpu_device_name()\n",
    "if gpuname=='/device:GPU:0':\n",
    "  print('Found GPU at :{}'.format(gpuname))\n",
    "else:\n",
    "  raise(SystemError('GPU device not found'))"
   ]
  },
  {
   "cell_type": "code",
   "execution_count": 0,
   "metadata": {
    "colab": {
     "base_uri": "https://localhost:8080/",
     "height": 52
    },
    "colab_type": "code",
    "id": "qNFEaLvKt-Zt",
    "outputId": "01afb7f1-bd7f-4f9c-f3c7-b47f030ecc90"
   },
   "outputs": [
    {
     "name": "stdout",
     "output_type": "stream",
     "text": [
      "There are 1 GPU DEVICES available \n",
      "The device name is Tesla P100-PCIE-16GB\n"
     ]
    }
   ],
   "source": [
    "if torch.cuda.is_available():\n",
    "  device=torch.device(\"cuda\")\n",
    "  print(\"There are %d GPU DEVICES available \" %torch.cuda.device_count())\n",
    "  print(\"The device name is %s\"%torch.cuda.get_device_name(0))\n",
    "else:\n",
    "  print(\"No GPU available using only CPU instead\")\n",
    "  device=torch.device(\"cpu\")\n",
    "\n"
   ]
  },
  {
   "cell_type": "code",
   "execution_count": 0,
   "metadata": {
    "colab": {
     "base_uri": "https://localhost:8080/",
     "height": 34
    },
    "colab_type": "code",
    "id": "BLjWz-0TuCbl",
    "outputId": "1a3a35c6-423e-4287-8063-7a5bc6338d2e"
   },
   "outputs": [
    {
     "name": "stdout",
     "output_type": "stream",
     "text": [
      "Drive already mounted at /content/drive; to attempt to forcibly remount, call drive.mount(\"/content/drive\", force_remount=True).\n"
     ]
    }
   ],
   "source": [
    "from google.colab import drive\n",
    "drive.mount('/content/drive')"
   ]
  },
  {
   "cell_type": "code",
   "execution_count": 0,
   "metadata": {
    "colab": {},
    "colab_type": "code",
    "id": "lddBU1JluKTa"
   },
   "outputs": [],
   "source": [
    "!unzip -P yourpassword -qq '/content/drive/My Drive/GreekData/Greek.zip'\n",
    "!unzip -P yourpassword -qq '/content/drive/My Drive/GreekData/offenseval2020-test-greek.zip'"
   ]
  },
  {
   "cell_type": "code",
   "execution_count": 0,
   "metadata": {
    "colab": {},
    "colab_type": "code",
    "id": "XAUepT0HuPeC"
   },
   "outputs": [],
   "source": [
    "import csv\n",
    "import pandas as pd\n",
    "import numpy as np\n",
    "from sklearn.model_selection import train_test_split"
   ]
  },
  {
   "cell_type": "code",
   "execution_count": 0,
   "metadata": {
    "colab": {},
    "colab_type": "code",
    "id": "1HB7ngrnscIG"
   },
   "outputs": [],
   "source": [
    "import torch\n",
    "\n",
    "import random\n",
    "import numpy as np\n",
    "\n",
    "SEED = 42\n",
    "\n",
    "random.seed(SEED)\n",
    "np.random.seed(SEED)\n",
    "torch.manual_seed(SEED)\n",
    "torch.backends.cudnn.deterministic = True"
   ]
  },
  {
   "cell_type": "code",
   "execution_count": 0,
   "metadata": {
    "colab": {
     "base_uri": "https://localhost:8080/",
     "height": 677
    },
    "colab_type": "code",
    "id": "uVXNdz8auhGR",
    "outputId": "9fd414fd-67bb-4599-cd5f-521c8b515b91"
   },
   "outputs": [
    {
     "name": "stdout",
     "output_type": "stream",
     "text": [
      "Collecting transformers\n",
      "\u001b[?25l  Downloading https://files.pythonhosted.org/packages/a3/78/92cedda05552398352ed9784908b834ee32a0bd071a9b32de287327370b7/transformers-2.8.0-py3-none-any.whl (563kB)\n",
      "\r",
      "\u001b[K     |▋                               | 10kB 29.0MB/s eta 0:00:01\r",
      "\u001b[K     |█▏                              | 20kB 6.1MB/s eta 0:00:01\r",
      "\u001b[K     |█▊                              | 30kB 8.6MB/s eta 0:00:01\r",
      "\u001b[K     |██▎                             | 40kB 10.8MB/s eta 0:00:01\r",
      "\u001b[K     |███                             | 51kB 7.0MB/s eta 0:00:01\r",
      "\u001b[K     |███▌                            | 61kB 8.2MB/s eta 0:00:01\r",
      "\u001b[K     |████                            | 71kB 9.3MB/s eta 0:00:01\r",
      "\u001b[K     |████▋                           | 81kB 10.2MB/s eta 0:00:01\r",
      "\u001b[K     |█████▎                          | 92kB 8.2MB/s eta 0:00:01\r",
      "\u001b[K     |█████▉                          | 102kB 8.9MB/s eta 0:00:01\r",
      "\u001b[K     |██████▍                         | 112kB 8.9MB/s eta 0:00:01\r",
      "\u001b[K     |███████                         | 122kB 8.9MB/s eta 0:00:01\r",
      "\u001b[K     |███████▋                        | 133kB 8.9MB/s eta 0:00:01\r",
      "\u001b[K     |████████▏                       | 143kB 8.9MB/s eta 0:00:01\r",
      "\u001b[K     |████████▊                       | 153kB 8.9MB/s eta 0:00:01\r",
      "\u001b[K     |█████████▎                      | 163kB 8.9MB/s eta 0:00:01\r",
      "\u001b[K     |█████████▉                      | 174kB 8.9MB/s eta 0:00:01\r",
      "\u001b[K     |██████████▌                     | 184kB 8.9MB/s eta 0:00:01\r",
      "\u001b[K     |███████████                     | 194kB 8.9MB/s eta 0:00:01\r",
      "\u001b[K     |███████████▋                    | 204kB 8.9MB/s eta 0:00:01\r",
      "\u001b[K     |████████████▏                   | 215kB 8.9MB/s eta 0:00:01\r",
      "\u001b[K     |████████████▉                   | 225kB 8.9MB/s eta 0:00:01\r",
      "\u001b[K     |█████████████▍                  | 235kB 8.9MB/s eta 0:00:01\r",
      "\u001b[K     |██████████████                  | 245kB 8.9MB/s eta 0:00:01\r",
      "\u001b[K     |██████████████▌                 | 256kB 8.9MB/s eta 0:00:01\r",
      "\u001b[K     |███████████████▏                | 266kB 8.9MB/s eta 0:00:01\r",
      "\u001b[K     |███████████████▊                | 276kB 8.9MB/s eta 0:00:01\r",
      "\u001b[K     |████████████████▎               | 286kB 8.9MB/s eta 0:00:01\r",
      "\u001b[K     |████████████████▉               | 296kB 8.9MB/s eta 0:00:01\r",
      "\u001b[K     |█████████████████▍              | 307kB 8.9MB/s eta 0:00:01\r",
      "\u001b[K     |██████████████████              | 317kB 8.9MB/s eta 0:00:01\r",
      "\u001b[K     |██████████████████▋             | 327kB 8.9MB/s eta 0:00:01\r",
      "\u001b[K     |███████████████████▏            | 337kB 8.9MB/s eta 0:00:01\r",
      "\u001b[K     |███████████████████▊            | 348kB 8.9MB/s eta 0:00:01\r",
      "\u001b[K     |████████████████████▍           | 358kB 8.9MB/s eta 0:00:01\r",
      "\u001b[K     |█████████████████████           | 368kB 8.9MB/s eta 0:00:01\r",
      "\u001b[K     |█████████████████████▌          | 378kB 8.9MB/s eta 0:00:01\r",
      "\u001b[K     |██████████████████████          | 389kB 8.9MB/s eta 0:00:01\r",
      "\u001b[K     |██████████████████████▊         | 399kB 8.9MB/s eta 0:00:01\r",
      "\u001b[K     |███████████████████████▎        | 409kB 8.9MB/s eta 0:00:01\r",
      "\u001b[K     |███████████████████████▉        | 419kB 8.9MB/s eta 0:00:01\r",
      "\u001b[K     |████████████████████████▍       | 430kB 8.9MB/s eta 0:00:01\r",
      "\u001b[K     |█████████████████████████       | 440kB 8.9MB/s eta 0:00:01\r",
      "\u001b[K     |█████████████████████████▋      | 450kB 8.9MB/s eta 0:00:01\r",
      "\u001b[K     |██████████████████████████▏     | 460kB 8.9MB/s eta 0:00:01\r",
      "\u001b[K     |██████████████████████████▊     | 471kB 8.9MB/s eta 0:00:01\r",
      "\u001b[K     |███████████████████████████▎    | 481kB 8.9MB/s eta 0:00:01\r",
      "\u001b[K     |████████████████████████████    | 491kB 8.9MB/s eta 0:00:01\r",
      "\u001b[K     |████████████████████████████▌   | 501kB 8.9MB/s eta 0:00:01\r",
      "\u001b[K     |█████████████████████████████   | 512kB 8.9MB/s eta 0:00:01\r",
      "\u001b[K     |█████████████████████████████▋  | 522kB 8.9MB/s eta 0:00:01\r",
      "\u001b[K     |██████████████████████████████▎ | 532kB 8.9MB/s eta 0:00:01\r",
      "\u001b[K     |██████████████████████████████▉ | 542kB 8.9MB/s eta 0:00:01\r",
      "\u001b[K     |███████████████████████████████▍| 552kB 8.9MB/s eta 0:00:01\r",
      "\u001b[K     |████████████████████████████████| 563kB 8.9MB/s eta 0:00:01\r",
      "\u001b[K     |████████████████████████████████| 573kB 8.9MB/s \n",
      "\u001b[?25hRequirement already satisfied: regex!=2019.12.17 in /usr/local/lib/python3.6/dist-packages (from transformers) (2019.12.20)\n",
      "Requirement already satisfied: filelock in /usr/local/lib/python3.6/dist-packages (from transformers) (3.0.12)\n",
      "Collecting sentencepiece\n",
      "\u001b[?25l  Downloading https://files.pythonhosted.org/packages/74/f4/2d5214cbf13d06e7cb2c20d84115ca25b53ea76fa1f0ade0e3c9749de214/sentencepiece-0.1.85-cp36-cp36m-manylinux1_x86_64.whl (1.0MB)\n",
      "\r",
      "\u001b[K     |▎                               | 10kB 29.8MB/s eta 0:00:01\r",
      "\u001b[K     |▋                               | 20kB 40.1MB/s eta 0:00:01\r",
      "\u001b[K     |█                               | 30kB 46.6MB/s eta 0:00:01\r",
      "\u001b[K     |█▎                              | 40kB 50.8MB/s eta 0:00:01\r",
      "\u001b[K     |█▋                              | 51kB 52.2MB/s eta 0:00:01\r",
      "\u001b[K     |██                              | 61kB 55.5MB/s eta 0:00:01\r",
      "\u001b[K     |██▏                             | 71kB 57.6MB/s eta 0:00:01\r",
      "\u001b[K     |██▌                             | 81kB 59.4MB/s eta 0:00:01\r",
      "\u001b[K     |██▉                             | 92kB 61.0MB/s eta 0:00:01\r",
      "\u001b[K     |███▏                            | 102kB 61.8MB/s eta 0:00:01\r",
      "\u001b[K     |███▌                            | 112kB 61.8MB/s eta 0:00:01\r",
      "\u001b[K     |███▉                            | 122kB 61.8MB/s eta 0:00:01\r",
      "\u001b[K     |████                            | 133kB 61.8MB/s eta 0:00:01\r",
      "\u001b[K     |████▍                           | 143kB 61.8MB/s eta 0:00:01\r",
      "\u001b[K     |████▊                           | 153kB 61.8MB/s eta 0:00:01\r",
      "\u001b[K     |█████                           | 163kB 61.8MB/s eta 0:00:01\r",
      "\u001b[K     |█████▍                          | 174kB 61.8MB/s eta 0:00:01\r",
      "\u001b[K     |█████▊                          | 184kB 61.8MB/s eta 0:00:01\r",
      "\u001b[K     |██████                          | 194kB 61.8MB/s eta 0:00:01\r",
      "\u001b[K     |██████▎                         | 204kB 61.8MB/s eta 0:00:01\r",
      "\u001b[K     |██████▋                         | 215kB 61.8MB/s eta 0:00:01\r",
      "\u001b[K     |███████                         | 225kB 61.8MB/s eta 0:00:01\r",
      "\u001b[K     |███████▎                        | 235kB 61.8MB/s eta 0:00:01\r",
      "\u001b[K     |███████▋                        | 245kB 61.8MB/s eta 0:00:01\r",
      "\u001b[K     |███████▉                        | 256kB 61.8MB/s eta 0:00:01\r",
      "\u001b[K     |████████▏                       | 266kB 61.8MB/s eta 0:00:01\r",
      "\u001b[K     |████████▌                       | 276kB 61.8MB/s eta 0:00:01\r",
      "\u001b[K     |████████▉                       | 286kB 61.8MB/s eta 0:00:01\r",
      "\u001b[K     |█████████▏                      | 296kB 61.8MB/s eta 0:00:01\r",
      "\u001b[K     |█████████▌                      | 307kB 61.8MB/s eta 0:00:01\r",
      "\u001b[K     |█████████▊                      | 317kB 61.8MB/s eta 0:00:01\r",
      "\u001b[K     |██████████                      | 327kB 61.8MB/s eta 0:00:01\r",
      "\u001b[K     |██████████▍                     | 337kB 61.8MB/s eta 0:00:01\r",
      "\u001b[K     |██████████▊                     | 348kB 61.8MB/s eta 0:00:01\r",
      "\u001b[K     |███████████                     | 358kB 61.8MB/s eta 0:00:01\r",
      "\u001b[K     |███████████▍                    | 368kB 61.8MB/s eta 0:00:01\r",
      "\u001b[K     |███████████▋                    | 378kB 61.8MB/s eta 0:00:01\r",
      "\u001b[K     |████████████                    | 389kB 61.8MB/s eta 0:00:01\r",
      "\u001b[K     |████████████▎                   | 399kB 61.8MB/s eta 0:00:01\r",
      "\u001b[K     |████████████▋                   | 409kB 61.8MB/s eta 0:00:01\r",
      "\u001b[K     |█████████████                   | 419kB 61.8MB/s eta 0:00:01\r",
      "\u001b[K     |█████████████▎                  | 430kB 61.8MB/s eta 0:00:01\r",
      "\u001b[K     |█████████████▌                  | 440kB 61.8MB/s eta 0:00:01\r",
      "\u001b[K     |█████████████▉                  | 450kB 61.8MB/s eta 0:00:01\r",
      "\u001b[K     |██████████████▏                 | 460kB 61.8MB/s eta 0:00:01\r",
      "\u001b[K     |██████████████▌                 | 471kB 61.8MB/s eta 0:00:01\r",
      "\u001b[K     |██████████████▉                 | 481kB 61.8MB/s eta 0:00:01\r",
      "\u001b[K     |███████████████▏                | 491kB 61.8MB/s eta 0:00:01\r",
      "\u001b[K     |███████████████▍                | 501kB 61.8MB/s eta 0:00:01\r",
      "\u001b[K     |███████████████▊                | 512kB 61.8MB/s eta 0:00:01\r",
      "\u001b[K     |████████████████                | 522kB 61.8MB/s eta 0:00:01\r",
      "\u001b[K     |████████████████▍               | 532kB 61.8MB/s eta 0:00:01\r",
      "\u001b[K     |████████████████▊               | 542kB 61.8MB/s eta 0:00:01\r",
      "\u001b[K     |█████████████████               | 552kB 61.8MB/s eta 0:00:01\r",
      "\u001b[K     |█████████████████▎              | 563kB 61.8MB/s eta 0:00:01\r",
      "\u001b[K     |█████████████████▋              | 573kB 61.8MB/s eta 0:00:01\r",
      "\u001b[K     |██████████████████              | 583kB 61.8MB/s eta 0:00:01\r",
      "\u001b[K     |██████████████████▎             | 593kB 61.8MB/s eta 0:00:01\r",
      "\u001b[K     |██████████████████▋             | 604kB 61.8MB/s eta 0:00:01\r",
      "\u001b[K     |███████████████████             | 614kB 61.8MB/s eta 0:00:01\r",
      "\u001b[K     |███████████████████▏            | 624kB 61.8MB/s eta 0:00:01\r",
      "\u001b[K     |███████████████████▌            | 634kB 61.8MB/s eta 0:00:01\r",
      "\u001b[K     |███████████████████▉            | 645kB 61.8MB/s eta 0:00:01\r",
      "\u001b[K     |████████████████████▏           | 655kB 61.8MB/s eta 0:00:01\r",
      "\u001b[K     |████████████████████▌           | 665kB 61.8MB/s eta 0:00:01\r",
      "\u001b[K     |████████████████████▉           | 675kB 61.8MB/s eta 0:00:01\r",
      "\u001b[K     |█████████████████████▏          | 686kB 61.8MB/s eta 0:00:01\r",
      "\u001b[K     |█████████████████████▍          | 696kB 61.8MB/s eta 0:00:01\r",
      "\u001b[K     |█████████████████████▊          | 706kB 61.8MB/s eta 0:00:01\r",
      "\u001b[K     |██████████████████████          | 716kB 61.8MB/s eta 0:00:01\r",
      "\u001b[K     |██████████████████████▍         | 727kB 61.8MB/s eta 0:00:01\r",
      "\u001b[K     |██████████████████████▊         | 737kB 61.8MB/s eta 0:00:01\r",
      "\u001b[K     |███████████████████████         | 747kB 61.8MB/s eta 0:00:01\r",
      "\u001b[K     |███████████████████████▎        | 757kB 61.8MB/s eta 0:00:01\r",
      "\u001b[K     |███████████████████████▋        | 768kB 61.8MB/s eta 0:00:01\r",
      "\u001b[K     |████████████████████████        | 778kB 61.8MB/s eta 0:00:01\r",
      "\u001b[K     |████████████████████████▎       | 788kB 61.8MB/s eta 0:00:01\r",
      "\u001b[K     |████████████████████████▋       | 798kB 61.8MB/s eta 0:00:01\r",
      "\u001b[K     |█████████████████████████       | 808kB 61.8MB/s eta 0:00:01\r",
      "\u001b[K     |█████████████████████████▏      | 819kB 61.8MB/s eta 0:00:01\r",
      "\u001b[K     |█████████████████████████▌      | 829kB 61.8MB/s eta 0:00:01\r",
      "\u001b[K     |█████████████████████████▉      | 839kB 61.8MB/s eta 0:00:01\r",
      "\u001b[K     |██████████████████████████▏     | 849kB 61.8MB/s eta 0:00:01\r",
      "\u001b[K     |██████████████████████████▌     | 860kB 61.8MB/s eta 0:00:01\r",
      "\u001b[K     |██████████████████████████▉     | 870kB 61.8MB/s eta 0:00:01\r",
      "\u001b[K     |███████████████████████████     | 880kB 61.8MB/s eta 0:00:01\r",
      "\u001b[K     |███████████████████████████▍    | 890kB 61.8MB/s eta 0:00:01\r",
      "\u001b[K     |███████████████████████████▊    | 901kB 61.8MB/s eta 0:00:01\r",
      "\u001b[K     |████████████████████████████    | 911kB 61.8MB/s eta 0:00:01\r",
      "\u001b[K     |████████████████████████████▍   | 921kB 61.8MB/s eta 0:00:01\r",
      "\u001b[K     |████████████████████████████▊   | 931kB 61.8MB/s eta 0:00:01\r",
      "\u001b[K     |█████████████████████████████   | 942kB 61.8MB/s eta 0:00:01\r",
      "\u001b[K     |█████████████████████████████▎  | 952kB 61.8MB/s eta 0:00:01\r",
      "\u001b[K     |█████████████████████████████▋  | 962kB 61.8MB/s eta 0:00:01\r",
      "\u001b[K     |██████████████████████████████  | 972kB 61.8MB/s eta 0:00:01\r",
      "\u001b[K     |██████████████████████████████▎ | 983kB 61.8MB/s eta 0:00:01\r",
      "\u001b[K     |██████████████████████████████▋ | 993kB 61.8MB/s eta 0:00:01\r",
      "\u001b[K     |██████████████████████████████▉ | 1.0MB 61.8MB/s eta 0:00:01\r",
      "\u001b[K     |███████████████████████████████▏| 1.0MB 61.8MB/s eta 0:00:01\r",
      "\u001b[K     |███████████████████████████████▌| 1.0MB 61.8MB/s eta 0:00:01\r",
      "\u001b[K     |███████████████████████████████▉| 1.0MB 61.8MB/s eta 0:00:01\r",
      "\u001b[K     |████████████████████████████████| 1.0MB 61.8MB/s \n",
      "\u001b[?25hCollecting sacremoses\n",
      "\u001b[?25l  Downloading https://files.pythonhosted.org/packages/99/50/93509f906a40bffd7d175f97fd75ea328ad9bd91f48f59c4bd084c94a25e/sacremoses-0.0.41.tar.gz (883kB)\n",
      "\r",
      "\u001b[K     |▍                               | 10kB 24.5MB/s eta 0:00:01\r",
      "\u001b[K     |▊                               | 20kB 34.1MB/s eta 0:00:01\r",
      "\u001b[K     |█▏                              | 30kB 42.1MB/s eta 0:00:01\r",
      "\u001b[K     |█▌                              | 40kB 47.5MB/s eta 0:00:01\r",
      "\u001b[K     |█▉                              | 51kB 51.1MB/s eta 0:00:01\r",
      "\u001b[K     |██▎                             | 61kB 54.7MB/s eta 0:00:01\r",
      "\u001b[K     |██▋                             | 71kB 54.7MB/s eta 0:00:01\r",
      "\u001b[K     |███                             | 81kB 54.9MB/s eta 0:00:01\r",
      "\u001b[K     |███▍                            | 92kB 56.0MB/s eta 0:00:01\r",
      "\u001b[K     |███▊                            | 102kB 56.9MB/s eta 0:00:01\r",
      "\u001b[K     |████                            | 112kB 56.9MB/s eta 0:00:01\r",
      "\u001b[K     |████▌                           | 122kB 56.9MB/s eta 0:00:01\r",
      "\u001b[K     |████▉                           | 133kB 56.9MB/s eta 0:00:01\r",
      "\u001b[K     |█████▏                          | 143kB 56.9MB/s eta 0:00:01\r",
      "\u001b[K     |█████▋                          | 153kB 56.9MB/s eta 0:00:01\r",
      "\u001b[K     |██████                          | 163kB 56.9MB/s eta 0:00:01\r",
      "\u001b[K     |██████▎                         | 174kB 56.9MB/s eta 0:00:01\r",
      "\u001b[K     |██████▊                         | 184kB 56.9MB/s eta 0:00:01\r",
      "\u001b[K     |███████                         | 194kB 56.9MB/s eta 0:00:01\r",
      "\u001b[K     |███████▍                        | 204kB 56.9MB/s eta 0:00:01\r",
      "\u001b[K     |███████▉                        | 215kB 56.9MB/s eta 0:00:01\r",
      "\u001b[K     |████████▏                       | 225kB 56.9MB/s eta 0:00:01\r",
      "\u001b[K     |████████▌                       | 235kB 56.9MB/s eta 0:00:01\r",
      "\u001b[K     |█████████                       | 245kB 56.9MB/s eta 0:00:01\r",
      "\u001b[K     |█████████▎                      | 256kB 56.9MB/s eta 0:00:01\r",
      "\u001b[K     |█████████▋                      | 266kB 56.9MB/s eta 0:00:01\r",
      "\u001b[K     |██████████                      | 276kB 56.9MB/s eta 0:00:01\r",
      "\u001b[K     |██████████▍                     | 286kB 56.9MB/s eta 0:00:01\r",
      "\u001b[K     |██████████▊                     | 296kB 56.9MB/s eta 0:00:01\r",
      "\u001b[K     |███████████▏                    | 307kB 56.9MB/s eta 0:00:01\r",
      "\u001b[K     |███████████▌                    | 317kB 56.9MB/s eta 0:00:01\r",
      "\u001b[K     |███████████▉                    | 327kB 56.9MB/s eta 0:00:01\r",
      "\u001b[K     |████████████▎                   | 337kB 56.9MB/s eta 0:00:01\r",
      "\u001b[K     |████████████▋                   | 348kB 56.9MB/s eta 0:00:01\r",
      "\u001b[K     |█████████████                   | 358kB 56.9MB/s eta 0:00:01\r",
      "\u001b[K     |█████████████▍                  | 368kB 56.9MB/s eta 0:00:01\r",
      "\u001b[K     |█████████████▊                  | 378kB 56.9MB/s eta 0:00:01\r",
      "\u001b[K     |██████████████                  | 389kB 56.9MB/s eta 0:00:01\r",
      "\u001b[K     |██████████████▌                 | 399kB 56.9MB/s eta 0:00:01\r",
      "\u001b[K     |██████████████▉                 | 409kB 56.9MB/s eta 0:00:01\r",
      "\u001b[K     |███████████████▏                | 419kB 56.9MB/s eta 0:00:01\r",
      "\u001b[K     |███████████████▋                | 430kB 56.9MB/s eta 0:00:01\r",
      "\u001b[K     |████████████████                | 440kB 56.9MB/s eta 0:00:01\r",
      "\u001b[K     |████████████████▎               | 450kB 56.9MB/s eta 0:00:01\r",
      "\u001b[K     |████████████████▊               | 460kB 56.9MB/s eta 0:00:01\r",
      "\u001b[K     |█████████████████               | 471kB 56.9MB/s eta 0:00:01\r",
      "\u001b[K     |█████████████████▍              | 481kB 56.9MB/s eta 0:00:01\r",
      "\u001b[K     |█████████████████▉              | 491kB 56.9MB/s eta 0:00:01\r",
      "\u001b[K     |██████████████████▏             | 501kB 56.9MB/s eta 0:00:01\r",
      "\u001b[K     |██████████████████▌             | 512kB 56.9MB/s eta 0:00:01\r",
      "\u001b[K     |███████████████████             | 522kB 56.9MB/s eta 0:00:01\r",
      "\u001b[K     |███████████████████▎            | 532kB 56.9MB/s eta 0:00:01\r",
      "\u001b[K     |███████████████████▋            | 542kB 56.9MB/s eta 0:00:01\r",
      "\u001b[K     |████████████████████            | 552kB 56.9MB/s eta 0:00:01\r",
      "\u001b[K     |████████████████████▍           | 563kB 56.9MB/s eta 0:00:01\r",
      "\u001b[K     |████████████████████▊           | 573kB 56.9MB/s eta 0:00:01\r",
      "\u001b[K     |█████████████████████▏          | 583kB 56.9MB/s eta 0:00:01\r",
      "\u001b[K     |█████████████████████▌          | 593kB 56.9MB/s eta 0:00:01\r",
      "\u001b[K     |█████████████████████▉          | 604kB 56.9MB/s eta 0:00:01\r",
      "\u001b[K     |██████████████████████▎         | 614kB 56.9MB/s eta 0:00:01\r",
      "\u001b[K     |██████████████████████▋         | 624kB 56.9MB/s eta 0:00:01\r",
      "\u001b[K     |███████████████████████         | 634kB 56.9MB/s eta 0:00:01\r",
      "\u001b[K     |███████████████████████▍        | 645kB 56.9MB/s eta 0:00:01\r",
      "\u001b[K     |███████████████████████▊        | 655kB 56.9MB/s eta 0:00:01\r",
      "\u001b[K     |████████████████████████        | 665kB 56.9MB/s eta 0:00:01\r",
      "\u001b[K     |████████████████████████▌       | 675kB 56.9MB/s eta 0:00:01\r",
      "\u001b[K     |████████████████████████▉       | 686kB 56.9MB/s eta 0:00:01\r",
      "\u001b[K     |█████████████████████████▏      | 696kB 56.9MB/s eta 0:00:01\r",
      "\u001b[K     |█████████████████████████▋      | 706kB 56.9MB/s eta 0:00:01\r",
      "\u001b[K     |██████████████████████████      | 716kB 56.9MB/s eta 0:00:01\r",
      "\u001b[K     |██████████████████████████▎     | 727kB 56.9MB/s eta 0:00:01\r",
      "\u001b[K     |██████████████████████████▊     | 737kB 56.9MB/s eta 0:00:01\r",
      "\u001b[K     |███████████████████████████     | 747kB 56.9MB/s eta 0:00:01\r",
      "\u001b[K     |███████████████████████████▌    | 757kB 56.9MB/s eta 0:00:01\r",
      "\u001b[K     |███████████████████████████▉    | 768kB 56.9MB/s eta 0:00:01\r",
      "\u001b[K     |████████████████████████████▏   | 778kB 56.9MB/s eta 0:00:01\r",
      "\u001b[K     |████████████████████████████▋   | 788kB 56.9MB/s eta 0:00:01\r",
      "\u001b[K     |█████████████████████████████   | 798kB 56.9MB/s eta 0:00:01\r",
      "\u001b[K     |█████████████████████████████▎  | 808kB 56.9MB/s eta 0:00:01\r",
      "\u001b[K     |█████████████████████████████▊  | 819kB 56.9MB/s eta 0:00:01\r",
      "\u001b[K     |██████████████████████████████  | 829kB 56.9MB/s eta 0:00:01\r",
      "\u001b[K     |██████████████████████████████▍ | 839kB 56.9MB/s eta 0:00:01\r",
      "\u001b[K     |██████████████████████████████▉ | 849kB 56.9MB/s eta 0:00:01\r",
      "\u001b[K     |███████████████████████████████▏| 860kB 56.9MB/s eta 0:00:01\r",
      "\u001b[K     |███████████████████████████████▌| 870kB 56.9MB/s eta 0:00:01\r",
      "\u001b[K     |████████████████████████████████| 880kB 56.9MB/s eta 0:00:01\r",
      "\u001b[K     |████████████████████████████████| 890kB 56.9MB/s \n",
      "\u001b[?25hRequirement already satisfied: requests in /usr/local/lib/python3.6/dist-packages (from transformers) (2.21.0)\n",
      "Collecting tokenizers==0.5.2\n",
      "\u001b[?25l  Downloading https://files.pythonhosted.org/packages/d1/3f/73c881ea4723e43c1e9acf317cf407fab3a278daab3a69c98dcac511c04f/tokenizers-0.5.2-cp36-cp36m-manylinux1_x86_64.whl (3.7MB)\n",
      "\u001b[K     |████████████████████████████████| 3.7MB 52.0MB/s \n",
      "\u001b[?25hRequirement already satisfied: tqdm>=4.27 in /usr/local/lib/python3.6/dist-packages (from transformers) (4.38.0)\n",
      "Requirement already satisfied: dataclasses; python_version < \"3.7\" in /usr/local/lib/python3.6/dist-packages (from transformers) (0.7)\n",
      "Requirement already satisfied: numpy in /usr/local/lib/python3.6/dist-packages (from transformers) (1.18.2)\n",
      "Requirement already satisfied: boto3 in /usr/local/lib/python3.6/dist-packages (from transformers) (1.12.40)\n",
      "Requirement already satisfied: six in /usr/local/lib/python3.6/dist-packages (from sacremoses->transformers) (1.12.0)\n",
      "Requirement already satisfied: click in /usr/local/lib/python3.6/dist-packages (from sacremoses->transformers) (7.1.1)\n",
      "Requirement already satisfied: joblib in /usr/local/lib/python3.6/dist-packages (from sacremoses->transformers) (0.14.1)\n",
      "Requirement already satisfied: certifi>=2017.4.17 in /usr/local/lib/python3.6/dist-packages (from requests->transformers) (2020.4.5.1)\n",
      "Requirement already satisfied: chardet<3.1.0,>=3.0.2 in /usr/local/lib/python3.6/dist-packages (from requests->transformers) (3.0.4)\n",
      "Requirement already satisfied: urllib3<1.25,>=1.21.1 in /usr/local/lib/python3.6/dist-packages (from requests->transformers) (1.24.3)\n",
      "Requirement already satisfied: idna<2.9,>=2.5 in /usr/local/lib/python3.6/dist-packages (from requests->transformers) (2.8)\n",
      "Requirement already satisfied: s3transfer<0.4.0,>=0.3.0 in /usr/local/lib/python3.6/dist-packages (from boto3->transformers) (0.3.3)\n",
      "Requirement already satisfied: jmespath<1.0.0,>=0.7.1 in /usr/local/lib/python3.6/dist-packages (from boto3->transformers) (0.9.5)\n",
      "Requirement already satisfied: botocore<1.16.0,>=1.15.40 in /usr/local/lib/python3.6/dist-packages (from boto3->transformers) (1.15.40)\n",
      "Requirement already satisfied: docutils<0.16,>=0.10 in /usr/local/lib/python3.6/dist-packages (from botocore<1.16.0,>=1.15.40->boto3->transformers) (0.15.2)\n",
      "Requirement already satisfied: python-dateutil<3.0.0,>=2.1 in /usr/local/lib/python3.6/dist-packages (from botocore<1.16.0,>=1.15.40->boto3->transformers) (2.8.1)\n",
      "Building wheels for collected packages: sacremoses\n",
      "  Building wheel for sacremoses (setup.py) ... \u001b[?25l\u001b[?25hdone\n",
      "  Created wheel for sacremoses: filename=sacremoses-0.0.41-cp36-none-any.whl size=893334 sha256=4a2b1074a524ec51dbccdd30556c2a1ffac98d1c2eae435414f9a1b269e6d9c0\n",
      "  Stored in directory: /root/.cache/pip/wheels/22/5a/d4/b020a81249de7dc63758a34222feaa668dbe8ebfe9170cc9b1\n",
      "Successfully built sacremoses\n",
      "Installing collected packages: sentencepiece, sacremoses, tokenizers, transformers\n",
      "Successfully installed sacremoses-0.0.41 sentencepiece-0.1.85 tokenizers-0.5.2 transformers-2.8.0\n"
     ]
    }
   ],
   "source": [
    "!pip install transformers"
   ]
  },
  {
   "cell_type": "code",
   "execution_count": 0,
   "metadata": {
    "colab": {
     "base_uri": "https://localhost:8080/",
     "height": 66,
     "referenced_widgets": [
      "c1ec59cea19b4b158c9a90ade2c592a7",
      "aca0656dcb2e4291ad983f06a0e630e1",
      "1c381fa03a184e52b60621cf2901f623",
      "45b55d3847bf4dfba5535b3918c01c54",
      "589a1a455986408ba487caf45ec735e1",
      "39e8090162294f83801ae0cf9d2d51be",
      "783c18b925a347b9b0eca32546f05d5a",
      "5d7dbb49a20c4f46bd49ed278ba019ca"
     ]
    },
    "colab_type": "code",
    "id": "DgkzEygbscIY",
    "outputId": "f6375099-248a-4860-bacf-7668a0ac45bc"
   },
   "outputs": [
    {
     "data": {
      "application/vnd.jupyter.widget-view+json": {
       "model_id": "c1ec59cea19b4b158c9a90ade2c592a7",
       "version_major": 2,
       "version_minor": 0
      },
      "text/plain": [
       "HBox(children=(IntProgress(value=0, description='Downloading', max=995526, style=ProgressStyle(description_wid…"
      ]
     },
     "metadata": {
      "tags": []
     },
     "output_type": "display_data"
    },
    {
     "name": "stdout",
     "output_type": "stream",
     "text": [
      "\n"
     ]
    }
   ],
   "source": [
    "from transformers import BertTokenizer\n",
    "\n",
    "tokenizer=BertTokenizer.from_pretrained('bert-base-multilingual-cased',do_lower_case=True)"
   ]
  },
  {
   "cell_type": "code",
   "execution_count": 0,
   "metadata": {
    "colab": {
     "base_uri": "https://localhost:8080/",
     "height": 34
    },
    "colab_type": "code",
    "id": "R_e-oxPiscJC",
    "outputId": "3a0658e7-a0db-4ba4-9cd8-169ce2ad4daa"
   },
   "outputs": [
    {
     "name": "stdout",
     "output_type": "stream",
     "text": [
      "[CLS] [SEP] [PAD] [UNK]\n"
     ]
    }
   ],
   "source": [
    "init_token = tokenizer.cls_token\n",
    "eos_token = tokenizer.sep_token\n",
    "pad_token = tokenizer.pad_token\n",
    "unk_token = tokenizer.unk_token\n",
    "\n",
    "print(init_token, eos_token, pad_token, unk_token)"
   ]
  },
  {
   "cell_type": "code",
   "execution_count": 0,
   "metadata": {
    "colab": {
     "base_uri": "https://localhost:8080/",
     "height": 34
    },
    "colab_type": "code",
    "id": "bIDGEuatscJM",
    "outputId": "e7d7a82e-be4d-4b78-e0e0-6dee7630f393"
   },
   "outputs": [
    {
     "name": "stdout",
     "output_type": "stream",
     "text": [
      "101 102 0 100\n"
     ]
    }
   ],
   "source": [
    "init_token_idx = tokenizer.convert_tokens_to_ids(init_token)\n",
    "eos_token_idx = tokenizer.convert_tokens_to_ids(eos_token)\n",
    "pad_token_idx = tokenizer.convert_tokens_to_ids(pad_token)\n",
    "unk_token_idx = tokenizer.convert_tokens_to_ids(unk_token)\n",
    "\n",
    "print(init_token_idx, eos_token_idx, pad_token_idx, unk_token_idx)"
   ]
  },
  {
   "cell_type": "markdown",
   "metadata": {
    "colab_type": "text",
    "id": "DpOVm_1NscJT"
   },
   "source": [
    "...or by explicitly getting them from the tokenizer."
   ]
  },
  {
   "cell_type": "code",
   "execution_count": 0,
   "metadata": {
    "colab": {
     "base_uri": "https://localhost:8080/",
     "height": 34
    },
    "colab_type": "code",
    "id": "i8xtYY9EscJV",
    "outputId": "bc15a1c8-456b-4c34-a0df-2126f5dfa121"
   },
   "outputs": [
    {
     "name": "stdout",
     "output_type": "stream",
     "text": [
      "101 102 0 100\n"
     ]
    }
   ],
   "source": [
    "init_token_idx = tokenizer.cls_token_id\n",
    "eos_token_idx = tokenizer.sep_token_id\n",
    "pad_token_idx = tokenizer.pad_token_id\n",
    "unk_token_idx = tokenizer.unk_token_id\n",
    "\n",
    "print(init_token_idx, eos_token_idx, pad_token_idx, unk_token_idx)"
   ]
  },
  {
   "cell_type": "code",
   "execution_count": 0,
   "metadata": {
    "colab": {
     "base_uri": "https://localhost:8080/",
     "height": 34
    },
    "colab_type": "code",
    "id": "3jBiYT5MscJf",
    "outputId": "5f9785d7-c276-4e07-e305-deb614d45faa"
   },
   "outputs": [
    {
     "name": "stdout",
     "output_type": "stream",
     "text": [
      "512\n"
     ]
    }
   ],
   "source": [
    "max_input_length = tokenizer.max_model_input_sizes['bert-base-multilingual-cased']\n",
    "\n",
    "print(max_input_length)"
   ]
  },
  {
   "cell_type": "code",
   "execution_count": 0,
   "metadata": {
    "colab": {
     "base_uri": "https://localhost:8080/",
     "height": 191
    },
    "colab_type": "code",
    "id": "4pIvsO70Ok67",
    "outputId": "ed86ec73-0843-444d-c5f2-94ab172e14b6"
   },
   "outputs": [
    {
     "name": "stdout",
     "output_type": "stream",
     "text": [
      "Collecting emoji\n",
      "\u001b[?25l  Downloading https://files.pythonhosted.org/packages/40/8d/521be7f0091fe0f2ae690cc044faf43e3445e0ff33c574eae752dd7e39fa/emoji-0.5.4.tar.gz (43kB)\n",
      "\r",
      "\u001b[K     |███████▌                        | 10kB 26.5MB/s eta 0:00:01\r",
      "\u001b[K     |███████████████                 | 20kB 6.1MB/s eta 0:00:01\r",
      "\u001b[K     |██████████████████████▋         | 30kB 8.6MB/s eta 0:00:01\r",
      "\u001b[K     |██████████████████████████████▏ | 40kB 10.9MB/s eta 0:00:01\r",
      "\u001b[K     |████████████████████████████████| 51kB 4.1MB/s \n",
      "\u001b[?25hBuilding wheels for collected packages: emoji\n",
      "  Building wheel for emoji (setup.py) ... \u001b[?25l\u001b[?25hdone\n",
      "  Created wheel for emoji: filename=emoji-0.5.4-cp36-none-any.whl size=42176 sha256=8697ca35d6bb44c678b6266942c15870f9446e24a11c0a4cd5fee366603e687b\n",
      "  Stored in directory: /root/.cache/pip/wheels/2a/a9/0a/4f8e8cce8074232aba240caca3fade315bb49fac68808d1a9c\n",
      "Successfully built emoji\n",
      "Installing collected packages: emoji\n",
      "Successfully installed emoji-0.5.4\n"
     ]
    }
   ],
   "source": [
    "pip install emoji --upgrade"
   ]
  },
  {
   "cell_type": "code",
   "execution_count": 0,
   "metadata": {
    "colab": {
     "base_uri": "https://localhost:8080/",
     "height": 52
    },
    "colab_type": "code",
    "id": "jbQ8PWrURW-_",
    "outputId": "2a9c195b-72a9-4533-e42e-5ebaafbd3422"
   },
   "outputs": [
    {
     "name": "stdout",
     "output_type": "stream",
     "text": [
      "\u001b[38;5;2m✔ Download and installation successful\u001b[0m\n",
      "You can now load the model via spacy.load('el_core_news_md')\n"
     ]
    }
   ],
   "source": [
    "import spacy.cli\n",
    "spacy.cli.download(\"el_core_news_md\")\n"
   ]
  },
  {
   "cell_type": "code",
   "execution_count": 0,
   "metadata": {
    "colab": {},
    "colab_type": "code",
    "id": "0Yr0OS6pRXC-"
   },
   "outputs": [],
   "source": [
    "#LEMMATIZATION\n",
    "import string\n",
    "import spacy\n",
    "#import el_core_news_sm \n",
    "from spacy.tokenizer import Tokenizer\n",
    "import re\n",
    "import emoji\n",
    "\n",
    "nlp =  spacy.load('el_core_news_md')\n"
   ]
  },
  {
   "cell_type": "code",
   "execution_count": 0,
   "metadata": {
    "colab": {},
    "colab_type": "code",
    "id": "-N5RmlcYscJm"
   },
   "outputs": [],
   "source": [
    "def tokenize_and_cut(sentence):\n",
    "    s=\"\"\n",
    "    txt1=emoji.demojize(sentence)\n",
    "    x1=nlp(txt1)\n",
    "    #print(x1)\n",
    "    x2=[]\n",
    "    for t in x1:\n",
    "        z=str(t)\n",
    "        if z not in string.punctuation  and t.is_stop==False:\n",
    "          x2.append(z)\n",
    "    s+=' '.join(x2)\n",
    "    #print(s)  \n",
    "    tokens = tokenizer.tokenize(s) \n",
    "    tokens = tokens[:max_input_length-2]\n",
    "    return tokens"
   ]
  },
  {
   "cell_type": "code",
   "execution_count": 0,
   "metadata": {
    "colab": {
     "base_uri": "https://localhost:8080/",
     "height": 590
    },
    "colab_type": "code",
    "id": "vICs3ikTJ1LN",
    "outputId": "1622a31d-b746-4f4c-8527-e6da629f95e5"
   },
   "outputs": [
    {
     "data": {
      "text/plain": [
       "['@',\n",
       " 'user',\n",
       " 'μου',\n",
       " '##σου',\n",
       " '##λ',\n",
       " '##μαν',\n",
       " '##ες',\n",
       " 'β',\n",
       " '##ια',\n",
       " '##ζουν',\n",
       " 'κ',\n",
       " 'β',\n",
       " '##ο',\n",
       " '##λε',\n",
       " '##υ',\n",
       " '##ει',\n",
       " 'κ',\n",
       " '##υ',\n",
       " '##νη',\n",
       " '##γου',\n",
       " '##ν',\n",
       " 'κ',\n",
       " 'α',\n",
       " '##φη',\n",
       " '##σουν',\n",
       " 'η',\n",
       " '##σ',\n",
       " '##υ',\n",
       " '##χε',\n",
       " '##ς',\n",
       " 'αν',\n",
       " '##τ',\n",
       " '##ρες']"
      ]
     },
     "execution_count": 28,
     "metadata": {
      "tags": []
     },
     "output_type": "execute_result"
    }
   ],
   "source": [
    "tokenize_and_cut(\"@USER Οι μουσουλμάνες που τις βιάζουν έτσι κ αλλιώς, οπότε τις βολεύει να κυνηγούν εμάς κ να αφήσουν αυτές ήσυχες οι άντρες τους.\")"
   ]
  },
  {
   "cell_type": "code",
   "execution_count": 0,
   "metadata": {
    "colab": {},
    "colab_type": "code",
    "id": "d-IQaMo9scJv"
   },
   "outputs": [],
   "source": [
    "from torchtext import data\n",
    "\n",
    "TEXT = data.Field(batch_first = True,\n",
    "                  use_vocab = False,\n",
    "                  tokenize = tokenize_and_cut,\n",
    "                  preprocessing = tokenizer.convert_tokens_to_ids,\n",
    "                  init_token = init_token_idx,\n",
    "                  eos_token = eos_token_idx,\n",
    "                  pad_token = pad_token_idx,\n",
    "                  unk_token = unk_token_idx)\n",
    "\n",
    "\n",
    "LABEL = data.LabelField(dtype = torch.float)\n",
    "\n",
    "#TIDS=data.Field(use_vocab=False, batch_first=True)"
   ]
  },
  {
   "cell_type": "code",
   "execution_count": 0,
   "metadata": {
    "colab": {},
    "colab_type": "code",
    "id": "_VXI0Qa-wy7w"
   },
   "outputs": [],
   "source": [
    "#GET THE DATA FROM THE PANDAS FRAME\n",
    "headers=['id','tweet','subtask_a']\n",
    "greekdata = pd.read_csv(\"Greek/offenseval-greek-training-v1.tsv\", delimiter='\\t',names=headers)\n",
    "data=greekdata[1:]\n"
   ]
  },
  {
   "cell_type": "code",
   "execution_count": 0,
   "metadata": {
    "colab": {},
    "colab_type": "code",
    "id": "PonTY7lu5uqW"
   },
   "outputs": [],
   "source": []
  },
  {
   "cell_type": "code",
   "execution_count": 0,
   "metadata": {
    "colab": {
     "base_uri": "https://localhost:8080/",
     "height": 225
    },
    "colab_type": "code",
    "id": "t_kfrfapw91l",
    "outputId": "7b90cb03-28fb-4354-ee1e-8dde7478ecdf"
   },
   "outputs": [
    {
     "name": "stdout",
     "output_type": "stream",
     "text": [
      "        id                                              tweet subtask_a\n",
      "2002  4347  @USER Μη με κουρδίζεις νυχτιάτικα, βαλτός είσα...       NOT\n",
      "4645  4175                         Ωραιο μουνι, ποδοσφαιρικο.       OFF\n",
      "1916  1439  @USER 1. Αποκλείστηκες διότι με έβαλες σε ομάδ...       NOT\n",
      "1550  6404                 Κόψτε τους τα μανιτάρια #XFactorGR       NOT\n",
      "2358  5730  Σακης... Χριστινακι μου γλυκο! στα καπακια εισ...       NOT\n",
      "        id                                              tweet subtask_a\n",
      "4538  2263  @USER Mπλοκ το Μαράκι, δεν της άρεσε η λύση πο...       NOT\n",
      "7353  1055  @USER αδελφέ, δεν ξέρω τι ακριβώς έγινε.. απλά...       NOT\n",
      "3181  7142  Τα γαλλικά, ήταν η γλώσσα της Αριστοκρατίας τό...       NOT\n",
      "1626  3768  @USER Ρε Κουλη σε ξέρουμε επειδή φαίνεσαι και ...       NOT\n",
      "7634  5698  Από το πρωί είμαι με ένα «τι κοιτάς ρε μαλακισ...       OFF\n"
     ]
    }
   ],
   "source": [
    "greektrain,greektest= train_test_split(greekdata, test_size=0.2, random_state=42)\n",
    "export_csv = greektrain.to_csv ('Greek/TrainFilegreek.csv', index = None, header=True)\n",
    "print (greektrain.head())\n",
    "export_csv = greektest.to_csv ('Greek/TestFilegreek.csv', index = None, header=True)\n",
    "print (greektest.head())\n"
   ]
  },
  {
   "cell_type": "code",
   "execution_count": 0,
   "metadata": {
    "colab": {},
    "colab_type": "code",
    "id": "W8488fpXoJ7Y"
   },
   "outputs": [],
   "source": [
    "ygiven=[]\n",
    "ypredicted=[]\n",
    "\n",
    "def convertToInt(val):\n",
    "    if not val:\n",
    "        return 0    \n",
    "    try:\n",
    "        return np.int64(val)\n",
    "    except:        \n",
    "        return np.int64(0)\n",
    "\n"
   ]
  },
  {
   "cell_type": "code",
   "execution_count": 0,
   "metadata": {
    "colab": {},
    "colab_type": "code",
    "id": "FfeneVbzP88q"
   },
   "outputs": [],
   "source": [
    "##GOLD LABELS FOR GREEK TAKEN \n",
    "#from here https://sites.google.com/site/offensevalsharedtask/results-and-paper-submission\n",
    "#OFFENSEVALGOLDLABELS.zip"
   ]
  },
  {
   "cell_type": "code",
   "execution_count": null,
   "metadata": {
    "colab": {
     "base_uri": "https://localhost:8080/",
     "height": 330
    },
    "colab_type": "code",
    "id": "UcfDXn36bLxw",
    "outputId": "8b64108e-9353-4b21-8a99-ed6983d9a5b7"
   },
   "outputs": [],
   "source": [
    "headers=['id','ypredicted']\n",
    "greekdataBaseline = pd.read_csv(\"/content/drive/My Drive/OffensEvalGoldLabels/greek-goldlabels.csv\", delimiter=',',names=headers)\n",
    "#,converters={\"id\":convertToInt}       \n",
    "greekdataBaseline.id = greekdataBaseline.id.astype(int)\n",
    "#greekdataBaseline=greekdataBaseline[1:]\n",
    "#print(greekdataBaseline.dtypes)\n",
    "headers=['id','tweet']\n",
    "greekDataTest = pd.read_csv(\"testset_taska.tsv\", delimiter='\\t',names=headers,\n",
    "                              converters={\"id\":convertToInt})\n",
    "greekDataTest=greekDataTest[1:]\n",
    "#print(greekDataTest.head())\n",
    "#print(greekDataTest.dtypes)\n",
    "print(greekDataTest.shape)\n",
    "result = pd.merge(greekDataTest, greekdataBaseline, on='id', how='inner')\n",
    "print(result.head())\n",
    "print(result.dtypes)\n",
    "print(result.shape)\n",
    "#result=\n",
    "#result.sort_values(by=['id'], inplace=True)\n",
    "print(result.head())\n",
    "dfnumpy=result.to_numpy();\n",
    "X=dfnumpy[:, 1].reshape(-1, 1)\n",
    "y=dfnumpy[:, 2].reshape(-1, 1)\n",
    "tid=dfnumpy[:, 0].reshape(-1, 1)\n",
    "#print(tid)\n",
    "#arrt=X[:,0]\n",
    "#preprocessedTweets=arrt"
   ]
  },
  {
   "cell_type": "code",
   "execution_count": null,
   "metadata": {
    "colab": {
     "base_uri": "https://localhost:8080/",
     "height": 121
    },
    "colab_type": "code",
    "id": "y4WUHe1obed5",
    "outputId": "0a28e4cc-212f-407f-9127-c38006707e37"
   },
   "outputs": [],
   "source": [
    "export_csv = result.to_csv ('Greek/PredictFilegreek.csv', index = None, header=True)\n",
    "print (result.head())"
   ]
  },
  {
   "cell_type": "code",
   "execution_count": 0,
   "metadata": {
    "colab": {},
    "colab_type": "code",
    "id": "6vMyDTjoscJ2"
   },
   "outputs": [],
   "source": [
    "from torchtext import datasets\n",
    "from torchtext import data\n",
    "\n",
    "train_val_fields = [\n",
    "    ('id', None), # we dont need this, so no processing\n",
    "    ('tweet', TEXT), # process it as label\n",
    "    ('subtask_a', LABEL) # we dont need this, so no processing\n",
    "]\n",
    "\n",
    "train_data, valid_data = data.TabularDataset.splits(path='Greek/', \n",
    "                                            format='csv', \n",
    "                                            train='TrainFilegreek.csv', \n",
    "                                            validation='TestFilegreek.csv',\n",
    "                                            fields=train_val_fields, \n",
    "                                            skip_header=True)"
   ]
  },
  {
   "cell_type": "code",
   "execution_count": 0,
   "metadata": {
    "colab": {},
    "colab_type": "code",
    "id": "P5WzoFOL1FzS"
   },
   "outputs": [],
   "source": [
    "\n",
    "test_val_fields = [\n",
    "    ('id', None), # we dont need this, so no processing\n",
    "    ('tweet', TEXT), # process it as label\n",
    "    ('y_predicted', LABEL) # we dont need this, so no processing\n",
    "]\n",
    "predict_data = data.TabularDataset(path='Greek/PredictFilegreek.csv', format='csv', skip_header=True,fields=test_val_fields)"
   ]
  },
  {
   "cell_type": "code",
   "execution_count": 0,
   "metadata": {
    "colab": {
     "base_uri": "https://localhost:8080/",
     "height": 69
    },
    "colab_type": "code",
    "id": "SBYyyNyFscJ7",
    "outputId": "77b2d563-674e-468c-c585-6055b06400f0"
   },
   "outputs": [
    {
     "name": "stdout",
     "output_type": "stream",
     "text": [
      "Number of training examples: 6995\n",
      "Number of validation examples: 1749\n",
      "Number of prediction examples: 1544\n"
     ]
    }
   ],
   "source": [
    "print(f\"Number of training examples: {len(train_data)}\")\n",
    "print(f\"Number of validation examples: {len(valid_data)}\")\n",
    "print(f\"Number of prediction examples: {len(predict_data)}\")"
   ]
  },
  {
   "cell_type": "code",
   "execution_count": 0,
   "metadata": {
    "colab": {
     "base_uri": "https://localhost:8080/",
     "height": 54
    },
    "colab_type": "code",
    "id": "YuIRlHjTscKC",
    "outputId": "2bc7c4e5-269d-4763-b528-bde07397f99c"
   },
   "outputs": [
    {
     "name": "stdout",
     "output_type": "stream",
     "text": [
      "{'tweet': [466, 97317, 33617, 31796, 13140, 70887, 43202, 31821, 483, 29223, 14669, 35670, 45878, 27393, 465, 24767, 469, 17198, 30645, 64472, 27621, 22013, 70279, 53166, 487, 13140, 63444, 61399, 61399, 22013, 70279, 53166, 168, 28174, 12961, 38278], 'subtask_a': 'NOT'}\n"
     ]
    }
   ],
   "source": [
    "print(vars(train_data.examples[6]))"
   ]
  },
  {
   "cell_type": "code",
   "execution_count": 0,
   "metadata": {
    "colab": {
     "base_uri": "https://localhost:8080/",
     "height": 54
    },
    "colab_type": "code",
    "id": "n2YLmUNGscKI",
    "outputId": "83d8324a-4b1c-4048-f608-f8a041f1ee58"
   },
   "outputs": [
    {
     "name": "stdout",
     "output_type": "stream",
     "text": [
      "['β', '##γη', '##κε', 'αν', '##α', '##κο', '##ιν', '##ωση', 'σ', '##π', '##υ', '##ρι', '##δου', '##λα', 'α', '##κα', 'ε', '##λ', '##λη', '##νι', '##δα', 'master', '##chef', '##gr', 'χ', '##α', '##χ', '##χα', '##χα', 'master', '##chef', '##gr', '_', 'xe', '##ft', '##iles']\n"
     ]
    }
   ],
   "source": [
    "tokens = tokenizer.convert_ids_to_tokens(vars(train_data.examples[6])['tweet'])\n",
    "\n",
    "print(tokens)"
   ]
  },
  {
   "cell_type": "code",
   "execution_count": 0,
   "metadata": {
    "colab": {},
    "colab_type": "code",
    "id": "Q9lW7T9oscKP"
   },
   "outputs": [],
   "source": [
    "LABEL.build_vocab(train_data)"
   ]
  },
  {
   "cell_type": "code",
   "execution_count": 0,
   "metadata": {
    "colab": {
     "base_uri": "https://localhost:8080/",
     "height": 34
    },
    "colab_type": "code",
    "id": "NUxtDneZscKU",
    "outputId": "1712c95d-2565-46a6-eeda-06ee7ef8836b"
   },
   "outputs": [
    {
     "name": "stdout",
     "output_type": "stream",
     "text": [
      "defaultdict(<function _default_unk_index at 0x7f33d3dfc9d8>, {'NOT': 0, 'OFF': 1})\n"
     ]
    }
   ],
   "source": [
    "print(LABEL.vocab.stoi)"
   ]
  },
  {
   "cell_type": "code",
   "execution_count": 0,
   "metadata": {
    "colab": {},
    "colab_type": "code",
    "id": "G0bCJlCrscKb"
   },
   "outputs": [],
   "source": [
    "BATCH_SIZE = 32\n",
    "\n",
    "device = torch.device('cuda' if torch.cuda.is_available() else 'cpu')\n",
    "\n",
    "train_iterator, valid_iterator = data.BucketIterator.splits(\n",
    "    (train_data, valid_data), \n",
    "    batch_size = BATCH_SIZE, \n",
    "    sort=False,\n",
    "    device = device)"
   ]
  },
  {
   "cell_type": "code",
   "execution_count": 0,
   "metadata": {
    "colab": {},
    "colab_type": "code",
    "id": "P7sdPGVtscKg"
   },
   "outputs": [],
   "source": [
    "from transformers import BertTokenizer, BertModel\n",
    "from transformers import BertConfig"
   ]
  },
  {
   "cell_type": "code",
   "execution_count": 0,
   "metadata": {
    "colab": {
     "base_uri": "https://localhost:8080/",
     "height": 66,
     "referenced_widgets": [
      "9133e603b9a543e1a6bfd7ecc9d27e17",
      "b7918609756e4a2a9fa60103bfca583a",
      "d965dd90c8a947c3b406abf053c796ad",
      "4bb96eb10ae5466abcef4d9c11a89215",
      "beb736001ba149029db85a093fe7e324",
      "d30adff46d9c41b291f70dc7d1d44950",
      "eec60d8671b143c89815fd958cd22e8e",
      "0e1632772ebb495c80d59a38eea4e91a"
     ]
    },
    "colab_type": "code",
    "id": "wg5pniU7duZA",
    "outputId": "723a8367-90ec-4d98-de43-d065dc1709ff"
   },
   "outputs": [
    {
     "data": {
      "application/vnd.jupyter.widget-view+json": {
       "model_id": "9133e603b9a543e1a6bfd7ecc9d27e17",
       "version_major": 2,
       "version_minor": 0
      },
      "text/plain": [
       "HBox(children=(IntProgress(value=0, description='Downloading', max=569, style=ProgressStyle(description_width=…"
      ]
     },
     "metadata": {
      "tags": []
     },
     "output_type": "display_data"
    },
    {
     "name": "stdout",
     "output_type": "stream",
     "text": [
      "\n"
     ]
    }
   ],
   "source": [
    "config1=BertConfig.from_pretrained('bert-base-multilingual-cased',output_hidden_states=True)\n"
   ]
  },
  {
   "cell_type": "code",
   "execution_count": 0,
   "metadata": {
    "colab": {
     "base_uri": "https://localhost:8080/",
     "height": 66,
     "referenced_widgets": [
      "4c00b78a0c784a7f98d0bbf42faad2a8",
      "89355885562646088bb208e5e1c5475c",
      "16878227d3894b7aba13f983a6546a92",
      "ac1fa56f219d4713a55b07afc3d8d4b0",
      "aea051c90b3d453aaf1b6b545a328179",
      "09bc65b9d93d410fa72c5cb563a35e19",
      "691d5f528a5c4a4e9486b79523a37b2d",
      "e4cf5d880eac4d9393bf39bf44e9edf1"
     ]
    },
    "colab_type": "code",
    "id": "kT5N2vZRgpyr",
    "outputId": "ed6e25c0-6aba-428b-b0db-89e5456c1e33"
   },
   "outputs": [
    {
     "data": {
      "application/vnd.jupyter.widget-view+json": {
       "model_id": "4c00b78a0c784a7f98d0bbf42faad2a8",
       "version_major": 2,
       "version_minor": 0
      },
      "text/plain": [
       "HBox(children=(IntProgress(value=0, description='Downloading', max=714314041, style=ProgressStyle(description_…"
      ]
     },
     "metadata": {
      "tags": []
     },
     "output_type": "display_data"
    },
    {
     "name": "stdout",
     "output_type": "stream",
     "text": [
      "\n"
     ]
    }
   ],
   "source": [
    "bert =BertModel.from_pretrained('bert-base-multilingual-cased',config=config1)\n"
   ]
  },
  {
   "cell_type": "code",
   "execution_count": 0,
   "metadata": {
    "colab": {},
    "colab_type": "code",
    "id": "qOfbVpgwP89f"
   },
   "outputs": [],
   "source": [
    "#concatenating the hidden layers in pytorch adapted and inspired from:\n",
    "#https://mccormickml.com/2019/05/14/BERT-word-embeddings-tutorial/#32-understanding-the-output"
   ]
  },
  {
   "cell_type": "code",
   "execution_count": 0,
   "metadata": {
    "colab": {},
    "colab_type": "code",
    "id": "LS8KPV7WscKl"
   },
   "outputs": [],
   "source": [
    "import torch.nn as nn\n",
    "from transformers import BertConfig\n",
    "class BERTGRUSentiment(nn.Module):\n",
    "    def __init__(self,\n",
    "                 bert,\n",
    "                 hidden_dim,\n",
    "                 output_dim,\n",
    "                 n_layers,\n",
    "                 bidirectional,\n",
    "                 dropout):\n",
    "        \n",
    "        super().__init__()\n",
    "        \n",
    "        self.bert = bert\n",
    "        \n",
    "        \n",
    "        embedding_dim = bert.config.to_dict()['hidden_size']*4\n",
    "        \n",
    "        self.rnn = nn.GRU(embedding_dim,\n",
    "                          hidden_dim,\n",
    "                          num_layers = n_layers,\n",
    "                          bidirectional = bidirectional,\n",
    "                          batch_first = True,\n",
    "                          dropout = 0 if n_layers < 2 else dropout)\n",
    "        \n",
    "        self.out = nn.Linear(hidden_dim * 2 if bidirectional else hidden_dim, output_dim)\n",
    "        \n",
    "        self.dropout = nn.Dropout(dropout)\n",
    "        \n",
    "    def forward(self, text):\n",
    "        xmask=[]\n",
    "        #text = [batch size, sent len]\n",
    "        for b in text:\n",
    "            attention_mask = [int(i > 0) for i in b] \n",
    "            att=torch.tensor(attention_mask)\n",
    "            xmask.append(att)\n",
    "\n",
    "        x_att_mask_pytorch=torch.stack(xmask).to(device)\n",
    "\n",
    "        with torch.no_grad():\n",
    "            embedded= self.bert(text,attention_mask=x_att_mask_pytorch)\n",
    "        hidden=embedded[-1]\n",
    "        #print(hidden[12].size())\n",
    "        #print(embedded[0].size())\n",
    "        #print(len(hidden))\n",
    "        '''\n",
    "        encoded_layers=hidden\n",
    "        print (\"Number of layers:\", len(encoded_layers))\n",
    "        layer_i = 0\n",
    "\n",
    "        print (\"Number of batches:\", len(encoded_layers[layer_i]))\n",
    "        batch_i = 0\n",
    "\n",
    "        print (\"Number of tokens:\", len(encoded_layers[layer_i][batch_i]))\n",
    "        token_i = 0\n",
    "\n",
    "        print (\"Number of hidden units:\", len(encoded_layers[layer_i][batch_i][token_i]))\n",
    "        '''\n",
    "        \n",
    "        token_embeddings=torch.stack(hidden, dim=0)\n",
    "        #print(token_embeddings.size())\n",
    "        token_embeddings = torch.squeeze(token_embeddings, dim=1)\n",
    "        #print(token_embeddings.size())\n",
    "        token_embeddings = token_embeddings.permute(1,2,0,3)\n",
    "        #print(token_embeddings.size())\n",
    "        token_vecs_cat = []\n",
    "        irnn=[]\n",
    "        for b in token_embeddings:\n",
    "          token_vecs_cat = []\n",
    "          for token in b:\n",
    "           cat_vec = torch.cat((token[-1],token[-2], token[-3], token[-4]), dim=0)\n",
    "           #print(\"cat_vec\",len(cat_vec))\n",
    "           token_vecs_cat.append(cat_vec)\n",
    "           #a=torch.Tensor(token_vecs_cat)\n",
    "           #print(len(token_vecs_cat))\n",
    "          a = torch.stack(token_vecs_cat)#.to(device)\n",
    "          irnn.append(a) \n",
    "        z=torch.stack(irnn)#.to(device)\n",
    "        '''print(z.size())\n",
    "        print ('Shape is: %d x %d x %d' % (len(z), len(z[0]),len(z[1])))\n",
    "        print(type(z))\n",
    "        print(type(z[0]))\n",
    "        print(type(z[1]))\n",
    "        '''\n",
    "        _, hidden = self.rnn(z)\n",
    "        \n",
    "        #hidden = [n layers * n directions, batch size, emb dim]\n",
    "        \n",
    "        if self.rnn.bidirectional:\n",
    "            hidden = self.dropout(torch.cat((hidden[-2,:,:], hidden[-1,:,:]), dim = 1))\n",
    "        else:\n",
    "            hidden = self.dropout(hidden[-1,:,:])\n",
    "                \n",
    "        #hidden = [batch size, hid dim]\n",
    "        \n",
    "        output = self.out(hidden)\n",
    "        \n",
    "        #output = [batch size, out dim]\n",
    "        \n",
    "        return output"
   ]
  },
  {
   "cell_type": "code",
   "execution_count": 0,
   "metadata": {
    "colab": {},
    "colab_type": "code",
    "id": "fEIqrIG8scKq"
   },
   "outputs": [],
   "source": [
    "HIDDEN_DIM = 512\n",
    "OUTPUT_DIM = 1\n",
    "N_LAYERS = 2\n",
    "BIDIRECTIONAL = True\n",
    "DROPOUT = 0.25\n",
    "\n",
    "model = BERTGRUSentiment(bert,\n",
    "                         HIDDEN_DIM,\n",
    "                         OUTPUT_DIM,\n",
    "                         N_LAYERS,\n",
    "                         BIDIRECTIONAL,\n",
    "                         DROPOUT)"
   ]
  },
  {
   "cell_type": "code",
   "execution_count": 0,
   "metadata": {
    "colab": {
     "base_uri": "https://localhost:8080/",
     "height": 34
    },
    "colab_type": "code",
    "id": "sbyI1h18scKy",
    "outputId": "4adca302-d9b4-4dfa-bb2f-92ff70fc006c"
   },
   "outputs": [
    {
     "name": "stdout",
     "output_type": "stream",
     "text": [
      "The model has 193,595,393 trainable parameters\n"
     ]
    }
   ],
   "source": [
    "def count_parameters(model):\n",
    "    return sum(p.numel() for p in model.parameters() if p.requires_grad)\n",
    "\n",
    "print(f'The model has {count_parameters(model):,} trainable parameters')"
   ]
  },
  {
   "cell_type": "code",
   "execution_count": 0,
   "metadata": {
    "colab": {},
    "colab_type": "code",
    "id": "QkYmbhy9scK3"
   },
   "outputs": [],
   "source": [
    "for name, param in model.named_parameters():                \n",
    "    if name.startswith('bert'):\n",
    "        param.requires_grad = False"
   ]
  },
  {
   "cell_type": "code",
   "execution_count": 0,
   "metadata": {
    "colab": {
     "base_uri": "https://localhost:8080/",
     "height": 34
    },
    "colab_type": "code",
    "id": "kJIl5tYVscK8",
    "outputId": "43fbbfc9-ded3-4f30-fe8a-d5cde49953d4"
   },
   "outputs": [
    {
     "name": "stdout",
     "output_type": "stream",
     "text": [
      "The model has 15,741,953 trainable parameters\n"
     ]
    }
   ],
   "source": [
    "def count_parameters(model):\n",
    "    return sum(p.numel() for p in model.parameters() if p.requires_grad)\n",
    "\n",
    "print(f'The model has {count_parameters(model):,} trainable parameters')"
   ]
  },
  {
   "cell_type": "code",
   "execution_count": 0,
   "metadata": {
    "colab": {
     "base_uri": "https://localhost:8080/",
     "height": 330
    },
    "colab_type": "code",
    "id": "c2QcdD9uscLB",
    "outputId": "4c29dba6-3b9b-4b8e-cf95-dc9396c37194"
   },
   "outputs": [
    {
     "name": "stdout",
     "output_type": "stream",
     "text": [
      "rnn.weight_ih_l0\n",
      "rnn.weight_hh_l0\n",
      "rnn.bias_ih_l0\n",
      "rnn.bias_hh_l0\n",
      "rnn.weight_ih_l0_reverse\n",
      "rnn.weight_hh_l0_reverse\n",
      "rnn.bias_ih_l0_reverse\n",
      "rnn.bias_hh_l0_reverse\n",
      "rnn.weight_ih_l1\n",
      "rnn.weight_hh_l1\n",
      "rnn.bias_ih_l1\n",
      "rnn.bias_hh_l1\n",
      "rnn.weight_ih_l1_reverse\n",
      "rnn.weight_hh_l1_reverse\n",
      "rnn.bias_ih_l1_reverse\n",
      "rnn.bias_hh_l1_reverse\n",
      "out.weight\n",
      "out.bias\n"
     ]
    }
   ],
   "source": [
    "for name, param in model.named_parameters():                \n",
    "    if param.requires_grad:\n",
    "        print(name)"
   ]
  },
  {
   "cell_type": "code",
   "execution_count": 0,
   "metadata": {
    "colab": {},
    "colab_type": "code",
    "id": "5HCgrge6scLH"
   },
   "outputs": [],
   "source": [
    "import torch.optim as optim\n",
    "from transformers import AdamW\n",
    "\n",
    "optimizer = optim.Adam(model.parameters())"
   ]
  },
  {
   "cell_type": "code",
   "execution_count": 0,
   "metadata": {
    "colab": {},
    "colab_type": "code",
    "id": "ZVXs0n9UscLJ"
   },
   "outputs": [],
   "source": [
    "criterion = nn.BCEWithLogitsLoss()"
   ]
  },
  {
   "cell_type": "code",
   "execution_count": 0,
   "metadata": {
    "colab": {},
    "colab_type": "code",
    "id": "hxgQxlJXscLO"
   },
   "outputs": [],
   "source": [
    "model = model.to(device)\n",
    "criterion = criterion.to(device)"
   ]
  },
  {
   "cell_type": "code",
   "execution_count": null,
   "metadata": {
    "colab": {
     "base_uri": "https://localhost:8080/",
     "height": 1000
    },
    "colab_type": "code",
    "id": "i8VBV6PHHA7d",
    "outputId": "f09a8f32-b865-4863-83e9-5b034c3a9fc7"
   },
   "outputs": [],
   "source": [
    "model"
   ]
  },
  {
   "cell_type": "code",
   "execution_count": 0,
   "metadata": {
    "colab": {},
    "colab_type": "code",
    "id": "SEU_NUOOscLS"
   },
   "outputs": [],
   "source": [
    "def binary_accuracy(preds, y):\n",
    "    \"\"\"\n",
    "    Returns accuracy per batch, i.e. if you get 8/10 right, this returns 0.8, NOT 8\n",
    "    \"\"\"\n",
    "\n",
    "    #round predictions to the closest integer\n",
    "    rounded_preds = torch.round(torch.sigmoid(preds))\n",
    "    correct = (rounded_preds == y).float() #convert into float for division \n",
    "    acc = correct.sum() / len(correct)\n",
    "    return acc"
   ]
  },
  {
   "cell_type": "code",
   "execution_count": 0,
   "metadata": {
    "colab": {},
    "colab_type": "code",
    "id": "QlG8OjebP8-C"
   },
   "outputs": [],
   "source": [
    "##F1 score calculator for each batch below using sklearn"
   ]
  },
  {
   "cell_type": "code",
   "execution_count": 0,
   "metadata": {
    "colab": {},
    "colab_type": "code",
    "id": "quYVUygE2u4v"
   },
   "outputs": [],
   "source": [
    "from sklearn.metrics import f1_score\n",
    "from sklearn.metrics import accuracy_score\n",
    "def binary_accuracy2(preds, y):\n",
    "    #round predictions to the closest integer\n",
    "    rounded_preds = torch.round(torch.sigmoid(preds))\n",
    "    correct = (rounded_preds == y).float() #convert into float for division \n",
    "    acc = correct.sum() / len(correct)\n",
    "    #print(\"Predicted\",rounded_preds)\n",
    "    #print(\"labelsFlattend\",y)\n",
    "    return f1_score(y.detach().cpu().numpy(), rounded_preds.detach().cpu().numpy(), average='macro'),acc"
   ]
  },
  {
   "cell_type": "code",
   "execution_count": 0,
   "metadata": {
    "colab": {},
    "colab_type": "code",
    "id": "HjVM0U8kscLW"
   },
   "outputs": [],
   "source": [
    "def train(model, iterator, optimizer, criterion):\n",
    "    \n",
    "    epoch_loss = 0\n",
    "    epoch_acc = 0\n",
    "    \n",
    "    model.train()\n",
    "    \n",
    "    for batch in iterator:\n",
    "        #print(batch)\n",
    "        optimizer.zero_grad()\n",
    "        \n",
    "        predictions = model(batch.tweet).squeeze(1)\n",
    "        #print(predictions.dtype)\n",
    "            \n",
    "        loss = criterion(predictions, batch.subtask_a)\n",
    "        #print( batch.subtask_a.dtype)\n",
    "            \n",
    "        acc = binary_accuracy(predictions, batch.subtask_a)\n",
    "        \n",
    "        loss.backward()\n",
    "        \n",
    "        optimizer.step()\n",
    "        \n",
    "        epoch_loss += loss.item()\n",
    "        epoch_acc += acc.item()\n",
    "        \n",
    "    return epoch_loss / len(iterator), epoch_acc / len(iterator)"
   ]
  },
  {
   "cell_type": "code",
   "execution_count": 0,
   "metadata": {
    "colab": {},
    "colab_type": "code",
    "id": "V_lToD-qgMvv"
   },
   "outputs": [],
   "source": [
    "kmax=0\n",
    "ktemp=0"
   ]
  },
  {
   "cell_type": "code",
   "execution_count": 0,
   "metadata": {
    "colab": {},
    "colab_type": "code",
    "id": "Uhjbtc1cscLY"
   },
   "outputs": [],
   "source": [
    "def evaluate(model, iterator, criterion):\n",
    "    kmax=0\n",
    "    epoch_loss = 0\n",
    "    epoch_acc = 0\n",
    "    nb_eval_steps=0\n",
    "    eval_acc=0\n",
    "    eval_f1=0\n",
    "    model.eval()\n",
    "    \n",
    "    with torch.no_grad():\n",
    "    \n",
    "        for batch in iterator:\n",
    "\n",
    "            predictions = model(batch.tweet).squeeze(1)\n",
    "            loss = criterion(predictions, batch.subtask_a)\n",
    "            tmpf1score,acc = binary_accuracy2(predictions, batch.subtask_a)\n",
    "            eval_f1 = eval_f1+tmpf1score\n",
    "            eval_acc=eval_acc+acc\n",
    "            nb_eval_steps += 1\n",
    "            epoch_loss += loss.item()\n",
    "            epoch_acc += acc.item()\n",
    "\n",
    "    ktemp=eval_f1/nb_eval_steps\n",
    "    #if ktemp>kmax:\n",
    "    #  kmax=ktemp\n",
    "    #  print(\"SAVING MODEL for F1 score of \",ktemp )\n",
    "    #  torch.save({'state_dict': model.state_dict()},'/content/drive/My Drive/GreekData/bertlstm.pth.tar')\n",
    "    f1=eval_f1/nb_eval_steps\n",
    "    print(\"  F1 score: {0:.3f}\".format(f1))\n",
    "    print(\"  Accuracy score: {0:.3f}\".format(eval_acc/nb_eval_steps))\n",
    "    return epoch_loss / len(iterator), epoch_acc / len(iterator),f1"
   ]
  },
  {
   "cell_type": "code",
   "execution_count": 0,
   "metadata": {
    "colab": {},
    "colab_type": "code",
    "id": "YajpYfx2L-48"
   },
   "outputs": [],
   "source": [
    "import time\n",
    "\n",
    "def epoch_time(start_time, end_time):\n",
    "    elapsed_time = end_time - start_time\n",
    "    elapsed_mins = int(elapsed_time / 60)\n",
    "    elapsed_secs = int(elapsed_time - (elapsed_mins * 60))\n",
    "    return elapsed_mins, elapsed_secs"
   ]
  },
  {
   "cell_type": "code",
   "execution_count": 0,
   "metadata": {
    "colab": {
     "base_uri": "https://localhost:8080/",
     "height": 1000
    },
    "colab_type": "code",
    "id": "97GqDDBKpOa-",
    "outputId": "b0b7273a-a0a7-44d0-819f-5a64d5d4d4b0"
   },
   "outputs": [
    {
     "name": "stdout",
     "output_type": "stream",
     "text": [
      "  F1 score: 0.665\n",
      "  Accuracy score: 0.783\n",
      "SAVING MODEL after \n",
      "Epoch Number  0\n",
      "Epoch: 01 | Epoch Time: 1m 44s\n",
      "\tTrain Loss: 0.596 | Train Acc: 71.26%\n",
      "\t Val. Loss: 0.483 |  Val. Acc: 78.32%\n",
      "  F1 score: 0.734\n",
      "  Accuracy score: 0.821\n",
      "SAVING MODEL after \n",
      "Epoch Number  1\n",
      "Epoch: 02 | Epoch Time: 1m 44s\n",
      "\tTrain Loss: 0.501 | Train Acc: 77.27%\n",
      "\t Val. Loss: 0.425 |  Val. Acc: 82.13%\n",
      "  F1 score: 0.704\n",
      "  Accuracy score: 0.823\n",
      "Epoch: 03 | Epoch Time: 1m 44s\n",
      "\tTrain Loss: 0.466 | Train Acc: 79.44%\n",
      "\t Val. Loss: 0.422 |  Val. Acc: 82.33%\n",
      "  F1 score: 0.754\n",
      "  Accuracy score: 0.841\n",
      "SAVING MODEL after \n",
      "Epoch Number  3\n",
      "Epoch: 04 | Epoch Time: 1m 44s\n",
      "\tTrain Loss: 0.445 | Train Acc: 80.62%\n",
      "\t Val. Loss: 0.390 |  Val. Acc: 84.15%\n",
      "  F1 score: 0.773\n",
      "  Accuracy score: 0.833\n",
      "SAVING MODEL after \n",
      "Epoch Number  4\n",
      "Epoch: 05 | Epoch Time: 1m 44s\n",
      "\tTrain Loss: 0.432 | Train Acc: 81.65%\n",
      "\t Val. Loss: 0.401 |  Val. Acc: 83.29%\n",
      "  F1 score: 0.781\n",
      "  Accuracy score: 0.847\n",
      "SAVING MODEL after \n",
      "Epoch Number  5\n",
      "Epoch: 06 | Epoch Time: 1m 44s\n",
      "\tTrain Loss: 0.413 | Train Acc: 82.96%\n",
      "\t Val. Loss: 0.378 |  Val. Acc: 84.74%\n",
      "  F1 score: 0.758\n",
      "  Accuracy score: 0.847\n",
      "Epoch: 07 | Epoch Time: 1m 43s\n",
      "\tTrain Loss: 0.402 | Train Acc: 82.92%\n",
      "\t Val. Loss: 0.404 |  Val. Acc: 84.69%\n",
      "  F1 score: 0.783\n",
      "  Accuracy score: 0.846\n",
      "SAVING MODEL after \n",
      "Epoch Number  7\n",
      "Epoch: 08 | Epoch Time: 1m 43s\n",
      "\tTrain Loss: 0.388 | Train Acc: 83.68%\n",
      "\t Val. Loss: 0.385 |  Val. Acc: 84.57%\n",
      "  F1 score: 0.795\n",
      "  Accuracy score: 0.852\n",
      "SAVING MODEL after \n",
      "Epoch Number  8\n",
      "Epoch: 09 | Epoch Time: 1m 43s\n",
      "\tTrain Loss: 0.384 | Train Acc: 84.22%\n",
      "\t Val. Loss: 0.376 |  Val. Acc: 85.17%\n",
      "  F1 score: 0.749\n",
      "  Accuracy score: 0.847\n",
      "Epoch: 10 | Epoch Time: 1m 43s\n",
      "\tTrain Loss: 0.371 | Train Acc: 84.55%\n",
      "\t Val. Loss: 0.381 |  Val. Acc: 84.68%\n"
     ]
    }
   ],
   "source": [
    "N_EPOCHS = 10\n",
    "\n",
    "best_f1=0\n",
    "\n",
    "for epoch in range(N_EPOCHS):\n",
    "    \n",
    "    start_time = time.time()\n",
    "    \n",
    "    train_loss, train_acc = train(model, train_iterator, optimizer, criterion)\n",
    "    #print(\"STOP\")\n",
    "    valid_loss, valid_acc,f1 = evaluate(model, valid_iterator, criterion)\n",
    "        \n",
    "    end_time = time.time()    \n",
    "    epoch_mins, epoch_secs = epoch_time(start_time, end_time)\n",
    "        \n",
    "    if f1 > best_f1:\n",
    "        best_f1 = f1\n",
    "        torch.save({'state_dict': model.state_dict()}, '/content/drive/My Drive/GreekData/berthiddengru.pth.tar')\n",
    "        print(\"SAVING MODEL after \")\n",
    "        print(\"Epoch Number \",epoch)\n",
    "    print(f'Epoch: {epoch+1:02} | Epoch Time: {epoch_mins}m {epoch_secs}s')\n",
    "    print(f'\\tTrain Loss: {train_loss:.3f} | Train Acc: {train_acc*100:.2f}%')\n",
    "    print(f'\\t Val. Loss: {valid_loss:.3f} |  Val. Acc: {valid_acc*100:.2f}%')"
   ]
  },
  {
   "cell_type": "code",
   "execution_count": 0,
   "metadata": {
    "colab": {
     "base_uri": "https://localhost:8080/",
     "height": 167
    },
    "colab_type": "code",
    "id": "ArsAZzlfo5XP",
    "outputId": "3c4952c5-d246-46da-c51e-01f53ca0daa1"
   },
   "outputs": [
    {
     "ename": "NameError",
     "evalue": "ignored",
     "output_type": "error",
     "traceback": [
      "\u001b[0;31m---------------------------------------------------------------------------\u001b[0m",
      "\u001b[0;31mNameError\u001b[0m                                 Traceback (most recent call last)",
      "\u001b[0;32m<ipython-input-104-3e5149046401>\u001b[0m in \u001b[0;36m<module>\u001b[0;34m()\u001b[0m\n\u001b[0;32m----> 1\u001b[0;31m \u001b[0mF\u001b[0m\u001b[0;34m;\u001b[0m\u001b[0mGWRGN\u001b[0m\u001b[0;34m;\u001b[0m\u001b[0mPEQRJH\u001b[0m\u001b[0;34m[\u001b[0m\u001b[0mP3H\u001b[0m\u001b[0;34m]\u001b[0m\u001b[0;34m\u001b[0m\u001b[0;34m\u001b[0m\u001b[0m\n\u001b[0m",
      "\u001b[0;31mNameError\u001b[0m: name 'F' is not defined"
     ]
    }
   ],
   "source": [
    "TESTING BELOW ON GOLD LABELS"
   ]
  },
  {
   "cell_type": "code",
   "execution_count": 0,
   "metadata": {
    "colab": {},
    "colab_type": "code",
    "id": "YY1tdOpjoyYn"
   },
   "outputs": [],
   "source": [
    "BATCH_SIZE = 32\n",
    "\n",
    "device = torch.device('cuda' if torch.cuda.is_available() else 'cpu')\n",
    "\n",
    "prediction_iterator = data.BucketIterator(\n",
    "    predict_data,\n",
    "    batch_size = BATCH_SIZE, \n",
    "    sort=False,\n",
    "    device = device)"
   ]
  },
  {
   "cell_type": "code",
   "execution_count": 0,
   "metadata": {
    "colab": {},
    "colab_type": "code",
    "id": "OWE0TNSzpLqM"
   },
   "outputs": [],
   "source": [
    "yres=[]\n",
    "finalTid=[]\n",
    "trueLabels=[]\n",
    "predictedLabels=[]\n",
    "def predict(model, iterator):\n",
    "    kmax=0\n",
    "    epoch_loss = 0\n",
    "    epoch_acc = 0\n",
    "    nb_eval_steps=0\n",
    "    eval_acc=0\n",
    "    eval_f1=0\n",
    "    model.eval()\n",
    "    \n",
    "    with torch.no_grad():\n",
    "    \n",
    "        for batch in iterator:\n",
    "\n",
    "            predictions = model(batch.tweet).squeeze(1)\n",
    "            trueLabels.append((batch.y_predicted).detach().cpu().numpy())\n",
    "            #finalTid.append(batch.id)\n",
    "            \n",
    "            predictedLabels.append(torch.round(torch.sigmoid(predictions)).detach().cpu().numpy())\n",
    "            tmpf1score,acc= binary_accuracy2(predictions, batch.y_predicted)\n",
    "            eval_f1 = eval_f1+tmpf1score\n",
    "            eval_acc=eval_acc+acc\n",
    "            nb_eval_steps += 1\n",
    "            epoch_acc += acc.item()\n",
    "\n",
    "    print(\"  F1 score: {0:.3f}\".format(eval_f1/nb_eval_steps))\n",
    "    print(\"  Accuracy score: {0:.3f}\".format(eval_acc/nb_eval_steps))\n",
    "    return predictedLabels,trueLabels"
   ]
  },
  {
   "cell_type": "markdown",
   "metadata": {
    "colab_type": "text",
    "id": "5-IX1LLJscL2"
   },
   "source": [
    "We'll load up the parameters that gave us the best validation loss and try these on the test set - which gives us our best results so far!"
   ]
  },
  {
   "cell_type": "code",
   "execution_count": 0,
   "metadata": {
    "colab": {
     "base_uri": "https://localhost:8080/",
     "height": 34
    },
    "colab_type": "code",
    "id": "4KhuQl0yscL3",
    "outputId": "85d94841-7462-44e3-a2c3-0f158732ee93"
   },
   "outputs": [
    {
     "data": {
      "text/plain": [
       "<All keys matched successfully>"
      ]
     },
     "execution_count": 61,
     "metadata": {
      "tags": []
     },
     "output_type": "execute_result"
    }
   ],
   "source": [
    "'''torch.save({'state_dict': model.state_dict()}, '/content/drive/My Drive/GreekData/bertgreekgruweek1.pth.tar')\n",
    "'''\n",
    "\n",
    "checkpoint = torch.load('/content/drive/My Drive/GreekData/berthiddengru.pth.tar')\n",
    "model.load_state_dict(checkpoint['state_dict'])"
   ]
  },
  {
   "cell_type": "code",
   "execution_count": 0,
   "metadata": {
    "colab": {
     "base_uri": "https://localhost:8080/",
     "height": 52
    },
    "colab_type": "code",
    "id": "d07vDgATvYuE",
    "outputId": "67b7e4ff-386c-426a-81d7-dc0716655bde"
   },
   "outputs": [
    {
     "name": "stdout",
     "output_type": "stream",
     "text": [
      "  F1 score: 0.819\n",
      "  Accuracy score: 0.894\n"
     ]
    }
   ],
   "source": [
    "predictedLabels,trueLabels = predict(model, prediction_iterator)"
   ]
  },
  {
   "cell_type": "code",
   "execution_count": 0,
   "metadata": {
    "colab": {},
    "colab_type": "code",
    "id": "M3FT5o1R1iNu"
   },
   "outputs": [],
   "source": [
    "finalTids=tid"
   ]
  },
  {
   "cell_type": "code",
   "execution_count": 0,
   "metadata": {
    "colab": {},
    "colab_type": "code",
    "id": "v4dGp-Qw69LJ"
   },
   "outputs": [],
   "source": [
    "ytid=tid.flatten().tolist()"
   ]
  },
  {
   "cell_type": "code",
   "execution_count": 0,
   "metadata": {
    "colab": {},
    "colab_type": "code",
    "id": "OZWpiN9NxCRG"
   },
   "outputs": [],
   "source": [
    "yans=[predictedLabels[i].flatten().tolist() for i in range(len(predictedLabels))]\n",
    "ytrue=[trueLabels[i].flatten().tolist() for i in range(len(trueLabels))]"
   ]
  },
  {
   "cell_type": "code",
   "execution_count": 0,
   "metadata": {
    "colab": {},
    "colab_type": "code",
    "id": "JHVhZGoCAuuF"
   },
   "outputs": [],
   "source": [
    "from itertools import chain\n",
    "\n",
    "yans=list(chain.from_iterable(yans))\n",
    "\n",
    "ytrue=list(chain.from_iterable(ytrue))\n",
    "\n",
    "#ytid=list(chain.from_iterable(ytid))"
   ]
  },
  {
   "cell_type": "code",
   "execution_count": 0,
   "metadata": {
    "colab": {},
    "colab_type": "code",
    "id": "umpqbnpA8L0S"
   },
   "outputs": [],
   "source": []
  },
  {
   "cell_type": "code",
   "execution_count": 0,
   "metadata": {
    "colab": {},
    "colab_type": "code",
    "id": "RZE3WBT_7ooh"
   },
   "outputs": [],
   "source": [
    "yans1=[round(x) for x in yans]\n",
    "ytrue1=[round(x) for x in ytrue]"
   ]
  },
  {
   "cell_type": "code",
   "execution_count": 0,
   "metadata": {
    "colab": {},
    "colab_type": "code",
    "id": "fWpQiosL7nH2"
   },
   "outputs": [],
   "source": []
  },
  {
   "cell_type": "code",
   "execution_count": 0,
   "metadata": {
    "colab": {},
    "colab_type": "code",
    "id": "pA3TRQI9xOpe"
   },
   "outputs": [],
   "source": [
    "yans2=[\"NOT\" if yans1[i]==0 else \"OFF\" for i in range(len(yans1))]\n",
    "ytrue2=[\"NOT\" if ytrue1[i]==0 else \"OFF\" for i in range(len(ytrue1))]\n"
   ]
  },
  {
   "cell_type": "code",
   "execution_count": 0,
   "metadata": {
    "colab": {
     "base_uri": "https://localhost:8080/",
     "height": 52
    },
    "colab_type": "code",
    "id": "TLtb99R1xWXL",
    "outputId": "83251de0-f45c-4205-8b44-6246345a9414"
   },
   "outputs": [
    {
     "name": "stdout",
     "output_type": "stream",
     "text": [
      "340\n",
      "1204\n"
     ]
    }
   ],
   "source": [
    "print(yans2.count(\"OFF\"))\n",
    "print(yans2.count(\"NOT\"))"
   ]
  },
  {
   "cell_type": "code",
   "execution_count": 0,
   "metadata": {
    "colab": {
     "base_uri": "https://localhost:8080/",
     "height": 52
    },
    "colab_type": "code",
    "id": "VfOyHOenxaiD",
    "outputId": "dde6101d-aaf1-4c80-e27d-574f71eee8b9"
   },
   "outputs": [
    {
     "name": "stdout",
     "output_type": "stream",
     "text": [
      "242\n",
      "1302\n"
     ]
    }
   ],
   "source": [
    "print(ytrue2.count(\"OFF\"))\n",
    "print(ytrue2.count(\"NOT\"))"
   ]
  },
  {
   "cell_type": "code",
   "execution_count": 0,
   "metadata": {
    "colab": {
     "base_uri": "https://localhost:8080/",
     "height": 34
    },
    "colab_type": "code",
    "id": "47T2ennoaToW",
    "outputId": "93de42ea-022e-447c-9c1a-db2f3b5ce520"
   },
   "outputs": [
    {
     "data": {
      "text/plain": [
       "1544"
      ]
     },
     "execution_count": 71,
     "metadata": {
      "tags": []
     },
     "output_type": "execute_result"
    }
   ],
   "source": [
    "len(yans1)\n"
   ]
  },
  {
   "cell_type": "code",
   "execution_count": 0,
   "metadata": {
    "colab": {
     "base_uri": "https://localhost:8080/",
     "height": 330
    },
    "colab_type": "code",
    "id": "iPXNmZYj8Mn9",
    "outputId": "5736730a-723e-46fd-e25b-893492a38068"
   },
   "outputs": [
    {
     "name": "stdout",
     "output_type": "stream",
     "text": [
      "[[ 208   34]\n",
      " [ 132 1170]]\n"
     ]
    },
    {
     "data": {
      "image/png": "[encoded data removed]",
      "text/plain": [
       "<Figure size 432x288 with 2 Axes>"
      ]
     },
     "metadata": {
      "tags": []
     },
     "output_type": "display_data"
    }
   ],
   "source": [
    "from sklearn.metrics import confusion_matrix\n",
    "cnf=confusion_matrix(ytrue2, yans2, labels=['OFF', 'NOT'])\n",
    "print(cnf)\n",
    "\n",
    "import seaborn as sn\n",
    "import pandas as pd\n",
    "import matplotlib.pyplot as plt\n",
    "\n",
    "\n",
    "\n",
    "df_cm = pd.DataFrame(cnf,['OFF', 'NOT'], ['OFF', 'NOT'])\n",
    "# plt.figure(figsize=(10,7))\n",
    "sn.set(font_scale=1.4) # for label size\n",
    "sn.heatmap(df_cm, annot=True,fmt='.2f') # font size\n",
    "plt.xlabel(\"Predicted Labels\")\n",
    "plt.ylabel(\"True Labels\")\n",
    "\n",
    "plt.show()"
   ]
  },
  {
   "cell_type": "code",
   "execution_count": 0,
   "metadata": {
    "colab": {},
    "colab_type": "code",
    "id": "3Lk1SK7RxdU6"
   },
   "outputs": [],
   "source": [
    "#z={'tweet':sentence_predict[],'subtask_a':y_predict}\n",
    "#print(len(z))\n",
    "C = {\n",
    "        'predicted': yans2,\n",
    "     'given':ytrue2\n",
    "    }\n",
    "df = pd.DataFrame(C)\n",
    "\n",
    "export_csv = df.to_csv ('/content/drive/My Drive/GreekData/GreekAnswerBIGRUHIDDEN512Subtaskafirst.csv', index = None, header=True)\n",
    "\n"
   ]
  },
  {
   "cell_type": "code",
   "execution_count": null,
   "metadata": {
    "colab": {
     "base_uri": "https://localhost:8080/",
     "height": 106
    },
    "colab_type": "code",
    "id": "HGcSZY_ycH7F",
    "outputId": "195a7331-4066-4ca9-a64c-8cce73b9b465"
   },
   "outputs": [],
   "source": [
    "import pandas as pd\n",
    "data=pd.read_csv('/content/drive/My Drive/GreekData/GreekAnswerBIGRUHIDDEN512Subtaskafirst.csv')\n",
    "ypred=data['predicted'].to_numpy().tolist()\n",
    "ypred=ypred[1:]\n",
    "print(ypred)\n",
    "print(len(ypred))\n",
    "ytrue=data['given'].to_numpy().tolist()\n",
    "ytrue=ytrue[1:]\n",
    "\n",
    "print(ytrue)\n",
    "print(len(ytrue))\n"
   ]
  },
  {
   "cell_type": "code",
   "execution_count": 0,
   "metadata": {
    "colab": {
     "base_uri": "https://localhost:8080/",
     "height": 52
    },
    "colab_type": "code",
    "id": "tVMhu7m_2F7w",
    "outputId": "20e7dbfb-9a8e-4cae-86f5-10bbd6e1ddf1"
   },
   "outputs": [
    {
     "name": "stdout",
     "output_type": "stream",
     "text": [
      "[[ 208   33]\n",
      " [ 132 1170]]\n"
     ]
    }
   ],
   "source": [
    "from sklearn.metrics import confusion_matrix\n",
    "cnf=confusion_matrix(ytrue, ypred, labels=['OFF', 'NOT'])\n",
    "print(cnf)\n",
    "\n",
    "import seaborn as sn\n",
    "import pandas as pd\n",
    "import matplotlib.pyplot as plt\n",
    "\n"
   ]
  },
  {
   "cell_type": "code",
   "execution_count": 0,
   "metadata": {
    "colab": {
     "base_uri": "https://localhost:8080/",
     "height": 295
    },
    "colab_type": "code",
    "id": "t7f83vgu2JTd",
    "outputId": "71bb9b3b-d5e5-4acc-fe3e-c76b7b8b3b3c"
   },
   "outputs": [
    {
     "data": {
      "image/png": "[encoded data removed]",
      "text/plain": [
       "<Figure size 432x288 with 2 Axes>"
      ]
     },
     "metadata": {
      "tags": []
     },
     "output_type": "display_data"
    }
   ],
   "source": [
    "\n",
    "df_cm = pd.DataFrame(cnf,['OFF', 'NOT'], ['OFF', 'NOT'])\n",
    "# plt.figure(figsize=(10,7))\n",
    "sn.set(font_scale=1.4) # for label size\n",
    "sn.heatmap(df_cm, annot=True,fmt='.2f') # font size\n",
    "plt.xlabel(\"Predicted Labels\")\n",
    "plt.ylabel(\"True Labels\")\n",
    "\n",
    "plt.show()"
   ]
  }
 ],
 "metadata": {
  "accelerator": "GPU",
  "colab": {
   "collapsed_sections": [],
   "name": "BERTGRUsubmithidden512,82.6.ipynb",
   "provenance": []
  },
  "kernelspec": {
   "display_name": "Python 3",
   "language": "python",
   "name": "python3"
  },
  "language_info": {
   "codemirror_mode": {
    "name": "ipython",
    "version": 3
   },
   "file_extension": ".py",
   "mimetype": "text/x-python",
   "name": "python",
   "nbconvert_exporter": "python",
   "pygments_lexer": "ipython3",
   "version": "3.6.9"
  },
  "widgets": {
   "application/vnd.jupyter.widget-state+json": {
    "09bc65b9d93d410fa72c5cb563a35e19": {
     "model_module": "@jupyter-widgets/base",
     "model_name": "LayoutModel",
     "state": {
      "_model_module": "@jupyter-widgets/base",
      "_model_module_version": "1.2.0",
      "_model_name": "LayoutModel",
      "_view_count": null,
      "_view_module": "@jupyter-widgets/base",
      "_view_module_version": "1.2.0",
      "_view_name": "LayoutView",
      "align_content": null,
      "align_items": null,
      "align_self": null,
      "border": null,
      "bottom": null,
      "display": null,
      "flex": null,
      "flex_flow": null,
      "grid_area": null,
      "grid_auto_columns": null,
      "grid_auto_flow": null,
      "grid_auto_rows": null,
      "grid_column": null,
      "grid_gap": null,
      "grid_row": null,
      "grid_template_areas": null,
      "grid_template_columns": null,
      "grid_template_rows": null,
      "height": null,
      "justify_content": null,
      "justify_items": null,
      "left": null,
      "margin": null,
      "max_height": null,
      "max_width": null,
      "min_height": null,
      "min_width": null,
      "object_fit": null,
      "object_position": null,
      "order": null,
      "overflow": null,
      "overflow_x": null,
      "overflow_y": null,
      "padding": null,
      "right": null,
      "top": null,
      "visibility": null,
      "width": null
     }
    },
    "0e1632772ebb495c80d59a38eea4e91a": {
     "model_module": "@jupyter-widgets/base",
     "model_name": "LayoutModel",
     "state": {
      "_model_module": "@jupyter-widgets/base",
      "_model_module_version": "1.2.0",
      "_model_name": "LayoutModel",
      "_view_count": null,
      "_view_module": "@jupyter-widgets/base",
      "_view_module_version": "1.2.0",
      "_view_name": "LayoutView",
      "align_content": null,
      "align_items": null,
      "align_self": null,
      "border": null,
      "bottom": null,
      "display": null,
      "flex": null,
      "flex_flow": null,
      "grid_area": null,
      "grid_auto_columns": null,
      "grid_auto_flow": null,
      "grid_auto_rows": null,
      "grid_column": null,
      "grid_gap": null,
      "grid_row": null,
      "grid_template_areas": null,
      "grid_template_columns": null,
      "grid_template_rows": null,
      "height": null,
      "justify_content": null,
      "justify_items": null,
      "left": null,
      "margin": null,
      "max_height": null,
      "max_width": null,
      "min_height": null,
      "min_width": null,
      "object_fit": null,
      "object_position": null,
      "order": null,
      "overflow": null,
      "overflow_x": null,
      "overflow_y": null,
      "padding": null,
      "right": null,
      "top": null,
      "visibility": null,
      "width": null
     }
    },
    "16878227d3894b7aba13f983a6546a92": {
     "model_module": "@jupyter-widgets/controls",
     "model_name": "IntProgressModel",
     "state": {
      "_dom_classes": [],
      "_model_module": "@jupyter-widgets/controls",
      "_model_module_version": "1.5.0",
      "_model_name": "IntProgressModel",
      "_view_count": null,
      "_view_module": "@jupyter-widgets/controls",
      "_view_module_version": "1.5.0",
      "_view_name": "ProgressView",
      "bar_style": "success",
      "description": "Downloading: 100%",
      "description_tooltip": null,
      "layout": "IPY_MODEL_09bc65b9d93d410fa72c5cb563a35e19",
      "max": 714314041,
      "min": 0,
      "orientation": "horizontal",
      "style": "IPY_MODEL_aea051c90b3d453aaf1b6b545a328179",
      "value": 714314041
     }
    },
    "1c381fa03a184e52b60621cf2901f623": {
     "model_module": "@jupyter-widgets/controls",
     "model_name": "IntProgressModel",
     "state": {
      "_dom_classes": [],
      "_model_module": "@jupyter-widgets/controls",
      "_model_module_version": "1.5.0",
      "_model_name": "IntProgressModel",
      "_view_count": null,
      "_view_module": "@jupyter-widgets/controls",
      "_view_module_version": "1.5.0",
      "_view_name": "ProgressView",
      "bar_style": "success",
      "description": "Downloading: 100%",
      "description_tooltip": null,
      "layout": "IPY_MODEL_39e8090162294f83801ae0cf9d2d51be",
      "max": 995526,
      "min": 0,
      "orientation": "horizontal",
      "style": "IPY_MODEL_589a1a455986408ba487caf45ec735e1",
      "value": 995526
     }
    },
    "39e8090162294f83801ae0cf9d2d51be": {
     "model_module": "@jupyter-widgets/base",
     "model_name": "LayoutModel",
     "state": {
      "_model_module": "@jupyter-widgets/base",
      "_model_module_version": "1.2.0",
      "_model_name": "LayoutModel",
      "_view_count": null,
      "_view_module": "@jupyter-widgets/base",
      "_view_module_version": "1.2.0",
      "_view_name": "LayoutView",
      "align_content": null,
      "align_items": null,
      "align_self": null,
      "border": null,
      "bottom": null,
      "display": null,
      "flex": null,
      "flex_flow": null,
      "grid_area": null,
      "grid_auto_columns": null,
      "grid_auto_flow": null,
      "grid_auto_rows": null,
      "grid_column": null,
      "grid_gap": null,
      "grid_row": null,
      "grid_template_areas": null,
      "grid_template_columns": null,
      "grid_template_rows": null,
      "height": null,
      "justify_content": null,
      "justify_items": null,
      "left": null,
      "margin": null,
      "max_height": null,
      "max_width": null,
      "min_height": null,
      "min_width": null,
      "object_fit": null,
      "object_position": null,
      "order": null,
      "overflow": null,
      "overflow_x": null,
      "overflow_y": null,
      "padding": null,
      "right": null,
      "top": null,
      "visibility": null,
      "width": null
     }
    },
    "45b55d3847bf4dfba5535b3918c01c54": {
     "model_module": "@jupyter-widgets/controls",
     "model_name": "HTMLModel",
     "state": {
      "_dom_classes": [],
      "_model_module": "@jupyter-widgets/controls",
      "_model_module_version": "1.5.0",
      "_model_name": "HTMLModel",
      "_view_count": null,
      "_view_module": "@jupyter-widgets/controls",
      "_view_module_version": "1.5.0",
      "_view_name": "HTMLView",
      "description": "",
      "description_tooltip": null,
      "layout": "IPY_MODEL_5d7dbb49a20c4f46bd49ed278ba019ca",
      "placeholder": "​",
      "style": "IPY_MODEL_783c18b925a347b9b0eca32546f05d5a",
      "value": " 996k/996k [00:00&lt;00:00, 1.85MB/s]"
     }
    },
    "4bb96eb10ae5466abcef4d9c11a89215": {
     "model_module": "@jupyter-widgets/controls",
     "model_name": "HTMLModel",
     "state": {
      "_dom_classes": [],
      "_model_module": "@jupyter-widgets/controls",
      "_model_module_version": "1.5.0",
      "_model_name": "HTMLModel",
      "_view_count": null,
      "_view_module": "@jupyter-widgets/controls",
      "_view_module_version": "1.5.0",
      "_view_name": "HTMLView",
      "description": "",
      "description_tooltip": null,
      "layout": "IPY_MODEL_0e1632772ebb495c80d59a38eea4e91a",
      "placeholder": "​",
      "style": "IPY_MODEL_eec60d8671b143c89815fd958cd22e8e",
      "value": " 569/569 [00:00&lt;00:00, 634B/s]"
     }
    },
    "4c00b78a0c784a7f98d0bbf42faad2a8": {
     "model_module": "@jupyter-widgets/controls",
     "model_name": "HBoxModel",
     "state": {
      "_dom_classes": [],
      "_model_module": "@jupyter-widgets/controls",
      "_model_module_version": "1.5.0",
      "_model_name": "HBoxModel",
      "_view_count": null,
      "_view_module": "@jupyter-widgets/controls",
      "_view_module_version": "1.5.0",
      "_view_name": "HBoxView",
      "box_style": "",
      "children": [
       "IPY_MODEL_16878227d3894b7aba13f983a6546a92",
       "IPY_MODEL_ac1fa56f219d4713a55b07afc3d8d4b0"
      ],
      "layout": "IPY_MODEL_89355885562646088bb208e5e1c5475c"
     }
    },
    "589a1a455986408ba487caf45ec735e1": {
     "model_module": "@jupyter-widgets/controls",
     "model_name": "ProgressStyleModel",
     "state": {
      "_model_module": "@jupyter-widgets/controls",
      "_model_module_version": "1.5.0",
      "_model_name": "ProgressStyleModel",
      "_view_count": null,
      "_view_module": "@jupyter-widgets/base",
      "_view_module_version": "1.2.0",
      "_view_name": "StyleView",
      "bar_color": null,
      "description_width": "initial"
     }
    },
    "5d7dbb49a20c4f46bd49ed278ba019ca": {
     "model_module": "@jupyter-widgets/base",
     "model_name": "LayoutModel",
     "state": {
      "_model_module": "@jupyter-widgets/base",
      "_model_module_version": "1.2.0",
      "_model_name": "LayoutModel",
      "_view_count": null,
      "_view_module": "@jupyter-widgets/base",
      "_view_module_version": "1.2.0",
      "_view_name": "LayoutView",
      "align_content": null,
      "align_items": null,
      "align_self": null,
      "border": null,
      "bottom": null,
      "display": null,
      "flex": null,
      "flex_flow": null,
      "grid_area": null,
      "grid_auto_columns": null,
      "grid_auto_flow": null,
      "grid_auto_rows": null,
      "grid_column": null,
      "grid_gap": null,
      "grid_row": null,
      "grid_template_areas": null,
      "grid_template_columns": null,
      "grid_template_rows": null,
      "height": null,
      "justify_content": null,
      "justify_items": null,
      "left": null,
      "margin": null,
      "max_height": null,
      "max_width": null,
      "min_height": null,
      "min_width": null,
      "object_fit": null,
      "object_position": null,
      "order": null,
      "overflow": null,
      "overflow_x": null,
      "overflow_y": null,
      "padding": null,
      "right": null,
      "top": null,
      "visibility": null,
      "width": null
     }
    },
    "691d5f528a5c4a4e9486b79523a37b2d": {
     "model_module": "@jupyter-widgets/controls",
     "model_name": "DescriptionStyleModel",
     "state": {
      "_model_module": "@jupyter-widgets/controls",
      "_model_module_version": "1.5.0",
      "_model_name": "DescriptionStyleModel",
      "_view_count": null,
      "_view_module": "@jupyter-widgets/base",
      "_view_module_version": "1.2.0",
      "_view_name": "StyleView",
      "description_width": ""
     }
    },
    "783c18b925a347b9b0eca32546f05d5a": {
     "model_module": "@jupyter-widgets/controls",
     "model_name": "DescriptionStyleModel",
     "state": {
      "_model_module": "@jupyter-widgets/controls",
      "_model_module_version": "1.5.0",
      "_model_name": "DescriptionStyleModel",
      "_view_count": null,
      "_view_module": "@jupyter-widgets/base",
      "_view_module_version": "1.2.0",
      "_view_name": "StyleView",
      "description_width": ""
     }
    },
    "89355885562646088bb208e5e1c5475c": {
     "model_module": "@jupyter-widgets/base",
     "model_name": "LayoutModel",
     "state": {
      "_model_module": "@jupyter-widgets/base",
      "_model_module_version": "1.2.0",
      "_model_name": "LayoutModel",
      "_view_count": null,
      "_view_module": "@jupyter-widgets/base",
      "_view_module_version": "1.2.0",
      "_view_name": "LayoutView",
      "align_content": null,
      "align_items": null,
      "align_self": null,
      "border": null,
      "bottom": null,
      "display": null,
      "flex": null,
      "flex_flow": null,
      "grid_area": null,
      "grid_auto_columns": null,
      "grid_auto_flow": null,
      "grid_auto_rows": null,
      "grid_column": null,
      "grid_gap": null,
      "grid_row": null,
      "grid_template_areas": null,
      "grid_template_columns": null,
      "grid_template_rows": null,
      "height": null,
      "justify_content": null,
      "justify_items": null,
      "left": null,
      "margin": null,
      "max_height": null,
      "max_width": null,
      "min_height": null,
      "min_width": null,
      "object_fit": null,
      "object_position": null,
      "order": null,
      "overflow": null,
      "overflow_x": null,
      "overflow_y": null,
      "padding": null,
      "right": null,
      "top": null,
      "visibility": null,
      "width": null
     }
    },
    "9133e603b9a543e1a6bfd7ecc9d27e17": {
     "model_module": "@jupyter-widgets/controls",
     "model_name": "HBoxModel",
     "state": {
      "_dom_classes": [],
      "_model_module": "@jupyter-widgets/controls",
      "_model_module_version": "1.5.0",
      "_model_name": "HBoxModel",
      "_view_count": null,
      "_view_module": "@jupyter-widgets/controls",
      "_view_module_version": "1.5.0",
      "_view_name": "HBoxView",
      "box_style": "",
      "children": [
       "IPY_MODEL_d965dd90c8a947c3b406abf053c796ad",
       "IPY_MODEL_4bb96eb10ae5466abcef4d9c11a89215"
      ],
      "layout": "IPY_MODEL_b7918609756e4a2a9fa60103bfca583a"
     }
    },
    "ac1fa56f219d4713a55b07afc3d8d4b0": {
     "model_module": "@jupyter-widgets/controls",
     "model_name": "HTMLModel",
     "state": {
      "_dom_classes": [],
      "_model_module": "@jupyter-widgets/controls",
      "_model_module_version": "1.5.0",
      "_model_name": "HTMLModel",
      "_view_count": null,
      "_view_module": "@jupyter-widgets/controls",
      "_view_module_version": "1.5.0",
      "_view_name": "HTMLView",
      "description": "",
      "description_tooltip": null,
      "layout": "IPY_MODEL_e4cf5d880eac4d9393bf39bf44e9edf1",
      "placeholder": "​",
      "style": "IPY_MODEL_691d5f528a5c4a4e9486b79523a37b2d",
      "value": " 714M/714M [03:45&lt;00:00, 3.17MB/s]"
     }
    },
    "aca0656dcb2e4291ad983f06a0e630e1": {
     "model_module": "@jupyter-widgets/base",
     "model_name": "LayoutModel",
     "state": {
      "_model_module": "@jupyter-widgets/base",
      "_model_module_version": "1.2.0",
      "_model_name": "LayoutModel",
      "_view_count": null,
      "_view_module": "@jupyter-widgets/base",
      "_view_module_version": "1.2.0",
      "_view_name": "LayoutView",
      "align_content": null,
      "align_items": null,
      "align_self": null,
      "border": null,
      "bottom": null,
      "display": null,
      "flex": null,
      "flex_flow": null,
      "grid_area": null,
      "grid_auto_columns": null,
      "grid_auto_flow": null,
      "grid_auto_rows": null,
      "grid_column": null,
      "grid_gap": null,
      "grid_row": null,
      "grid_template_areas": null,
      "grid_template_columns": null,
      "grid_template_rows": null,
      "height": null,
      "justify_content": null,
      "justify_items": null,
      "left": null,
      "margin": null,
      "max_height": null,
      "max_width": null,
      "min_height": null,
      "min_width": null,
      "object_fit": null,
      "object_position": null,
      "order": null,
      "overflow": null,
      "overflow_x": null,
      "overflow_y": null,
      "padding": null,
      "right": null,
      "top": null,
      "visibility": null,
      "width": null
     }
    },
    "aea051c90b3d453aaf1b6b545a328179": {
     "model_module": "@jupyter-widgets/controls",
     "model_name": "ProgressStyleModel",
     "state": {
      "_model_module": "@jupyter-widgets/controls",
      "_model_module_version": "1.5.0",
      "_model_name": "ProgressStyleModel",
      "_view_count": null,
      "_view_module": "@jupyter-widgets/base",
      "_view_module_version": "1.2.0",
      "_view_name": "StyleView",
      "bar_color": null,
      "description_width": "initial"
     }
    },
    "b7918609756e4a2a9fa60103bfca583a": {
     "model_module": "@jupyter-widgets/base",
     "model_name": "LayoutModel",
     "state": {
      "_model_module": "@jupyter-widgets/base",
      "_model_module_version": "1.2.0",
      "_model_name": "LayoutModel",
      "_view_count": null,
      "_view_module": "@jupyter-widgets/base",
      "_view_module_version": "1.2.0",
      "_view_name": "LayoutView",
      "align_content": null,
      "align_items": null,
      "align_self": null,
      "border": null,
      "bottom": null,
      "display": null,
      "flex": null,
      "flex_flow": null,
      "grid_area": null,
      "grid_auto_columns": null,
      "grid_auto_flow": null,
      "grid_auto_rows": null,
      "grid_column": null,
      "grid_gap": null,
      "grid_row": null,
      "grid_template_areas": null,
      "grid_template_columns": null,
      "grid_template_rows": null,
      "height": null,
      "justify_content": null,
      "justify_items": null,
      "left": null,
      "margin": null,
      "max_height": null,
      "max_width": null,
      "min_height": null,
      "min_width": null,
      "object_fit": null,
      "object_position": null,
      "order": null,
      "overflow": null,
      "overflow_x": null,
      "overflow_y": null,
      "padding": null,
      "right": null,
      "top": null,
      "visibility": null,
      "width": null
     }
    },
    "beb736001ba149029db85a093fe7e324": {
     "model_module": "@jupyter-widgets/controls",
     "model_name": "ProgressStyleModel",
     "state": {
      "_model_module": "@jupyter-widgets/controls",
      "_model_module_version": "1.5.0",
      "_model_name": "ProgressStyleModel",
      "_view_count": null,
      "_view_module": "@jupyter-widgets/base",
      "_view_module_version": "1.2.0",
      "_view_name": "StyleView",
      "bar_color": null,
      "description_width": "initial"
     }
    },
    "c1ec59cea19b4b158c9a90ade2c592a7": {
     "model_module": "@jupyter-widgets/controls",
     "model_name": "HBoxModel",
     "state": {
      "_dom_classes": [],
      "_model_module": "@jupyter-widgets/controls",
      "_model_module_version": "1.5.0",
      "_model_name": "HBoxModel",
      "_view_count": null,
      "_view_module": "@jupyter-widgets/controls",
      "_view_module_version": "1.5.0",
      "_view_name": "HBoxView",
      "box_style": "",
      "children": [
       "IPY_MODEL_1c381fa03a184e52b60621cf2901f623",
       "IPY_MODEL_45b55d3847bf4dfba5535b3918c01c54"
      ],
      "layout": "IPY_MODEL_aca0656dcb2e4291ad983f06a0e630e1"
     }
    },
    "d30adff46d9c41b291f70dc7d1d44950": {
     "model_module": "@jupyter-widgets/base",
     "model_name": "LayoutModel",
     "state": {
      "_model_module": "@jupyter-widgets/base",
      "_model_module_version": "1.2.0",
      "_model_name": "LayoutModel",
      "_view_count": null,
      "_view_module": "@jupyter-widgets/base",
      "_view_module_version": "1.2.0",
      "_view_name": "LayoutView",
      "align_content": null,
      "align_items": null,
      "align_self": null,
      "border": null,
      "bottom": null,
      "display": null,
      "flex": null,
      "flex_flow": null,
      "grid_area": null,
      "grid_auto_columns": null,
      "grid_auto_flow": null,
      "grid_auto_rows": null,
      "grid_column": null,
      "grid_gap": null,
      "grid_row": null,
      "grid_template_areas": null,
      "grid_template_columns": null,
      "grid_template_rows": null,
      "height": null,
      "justify_content": null,
      "justify_items": null,
      "left": null,
      "margin": null,
      "max_height": null,
      "max_width": null,
      "min_height": null,
      "min_width": null,
      "object_fit": null,
      "object_position": null,
      "order": null,
      "overflow": null,
      "overflow_x": null,
      "overflow_y": null,
      "padding": null,
      "right": null,
      "top": null,
      "visibility": null,
      "width": null
     }
    },
    "d965dd90c8a947c3b406abf053c796ad": {
     "model_module": "@jupyter-widgets/controls",
     "model_name": "IntProgressModel",
     "state": {
      "_dom_classes": [],
      "_model_module": "@jupyter-widgets/controls",
      "_model_module_version": "1.5.0",
      "_model_name": "IntProgressModel",
      "_view_count": null,
      "_view_module": "@jupyter-widgets/controls",
      "_view_module_version": "1.5.0",
      "_view_name": "ProgressView",
      "bar_style": "success",
      "description": "Downloading: 100%",
      "description_tooltip": null,
      "layout": "IPY_MODEL_d30adff46d9c41b291f70dc7d1d44950",
      "max": 569,
      "min": 0,
      "orientation": "horizontal",
      "style": "IPY_MODEL_beb736001ba149029db85a093fe7e324",
      "value": 569
     }
    },
    "e4cf5d880eac4d9393bf39bf44e9edf1": {
     "model_module": "@jupyter-widgets/base",
     "model_name": "LayoutModel",
     "state": {
      "_model_module": "@jupyter-widgets/base",
      "_model_module_version": "1.2.0",
      "_model_name": "LayoutModel",
      "_view_count": null,
      "_view_module": "@jupyter-widgets/base",
      "_view_module_version": "1.2.0",
      "_view_name": "LayoutView",
      "align_content": null,
      "align_items": null,
      "align_self": null,
      "border": null,
      "bottom": null,
      "display": null,
      "flex": null,
      "flex_flow": null,
      "grid_area": null,
      "grid_auto_columns": null,
      "grid_auto_flow": null,
      "grid_auto_rows": null,
      "grid_column": null,
      "grid_gap": null,
      "grid_row": null,
      "grid_template_areas": null,
      "grid_template_columns": null,
      "grid_template_rows": null,
      "height": null,
      "justify_content": null,
      "justify_items": null,
      "left": null,
      "margin": null,
      "max_height": null,
      "max_width": null,
      "min_height": null,
      "min_width": null,
      "object_fit": null,
      "object_position": null,
      "order": null,
      "overflow": null,
      "overflow_x": null,
      "overflow_y": null,
      "padding": null,
      "right": null,
      "top": null,
      "visibility": null,
      "width": null
     }
    },
    "eec60d8671b143c89815fd958cd22e8e": {
     "model_module": "@jupyter-widgets/controls",
     "model_name": "DescriptionStyleModel",
     "state": {
      "_model_module": "@jupyter-widgets/controls",
      "_model_module_version": "1.5.0",
      "_model_name": "DescriptionStyleModel",
      "_view_count": null,
      "_view_module": "@jupyter-widgets/base",
      "_view_module_version": "1.2.0",
      "_view_name": "StyleView",
      "description_width": ""
     }
    }
   }
  }
 },
 "nbformat": 4,
 "nbformat_minor": 1
}
