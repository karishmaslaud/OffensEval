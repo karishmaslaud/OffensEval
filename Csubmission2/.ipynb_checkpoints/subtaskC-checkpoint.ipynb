{
 "cells": [
  {
   "cell_type": "code",
   "execution_count": 0,
   "metadata": {
    "colab": {
     "base_uri": "https://localhost:8080/",
     "height": 124
    },
    "colab_type": "code",
    "id": "bhCLCTtuAhul",
    "outputId": "53a4c441-70ff-4868-a036-7957adc7bf5d"
   },
   "outputs": [
    {
     "name": "stdout",
     "output_type": "stream",
     "text": [
      "Go to this URL in a browser: https://accounts.google.com/o/oauth2/auth?client_id=947318989803-6bn6qk8qdgf4n4g3pfee6491hc0brc4i.apps.googleusercontent.com&redirect_uri=urn%3aietf%3awg%3aoauth%3a2.0%3aoob&response_type=code&scope=email%20https%3a%2f%2fwww.googleapis.com%2fauth%2fdocs.test%20https%3a%2f%2fwww.googleapis.com%2fauth%2fdrive%20https%3a%2f%2fwww.googleapis.com%2fauth%2fdrive.photos.readonly%20https%3a%2f%2fwww.googleapis.com%2fauth%2fpeopleapi.readonly\n",
      "\n",
      "Enter your authorization code:\n",
      "··········\n",
      "Mounted at /content/drive\n"
     ]
    }
   ],
   "source": [
    "from google.colab import drive\n",
    "drive.mount('/content/drive')"
   ]
  },
  {
   "cell_type": "code",
   "execution_count": 0,
   "metadata": {
    "colab": {},
    "colab_type": "code",
    "id": "HlleXY4xAsET"
   },
   "outputs": [],
   "source": [
    "\n",
    "##NOT FOR SYSTEMS\n",
    "!unzip -P ****** -qq '/content/drive/My Drive/EnglishData/task_c_distant.zip' "
   ]
  },
  {
   "cell_type": "code",
   "execution_count": 0,
   "metadata": {
    "colab": {
     "base_uri": "https://localhost:8080/",
     "height": 81
    },
    "colab_type": "code",
    "id": "FHbDCk1HAoWq",
    "outputId": "cda16f2e-1d18-462d-b19c-51d2ab4ea8f4"
   },
   "outputs": [
    {
     "name": "stderr",
     "output_type": "stream",
     "text": [
      "Using TensorFlow backend.\n"
     ]
    },
    {
     "data": {
      "text/html": [
       "<p style=\"color: red;\">\n",
       "The default version of TensorFlow in Colab will soon switch to TensorFlow 2.x.<br>\n",
       "We recommend you <a href=\"https://www.tensorflow.org/guide/migrate\" target=\"_blank\">upgrade</a> now \n",
       "or ensure your notebook will continue to use TensorFlow 1.x via the <code>%tensorflow_version 1.x</code> magic:\n",
       "<a href=\"https://colab.research.google.com/notebooks/tensorflow_version.ipynb\" target=\"_blank\">more info</a>.</p>\n"
      ],
      "text/plain": [
       "<IPython.core.display.HTML object>"
      ]
     },
     "metadata": {
      "tags": []
     },
     "output_type": "display_data"
    }
   ],
   "source": [
    "\n",
    "import pandas as pd\n",
    "from keras.models import Sequential\n",
    "from keras.layers import Dense\n",
    "from keras.wrappers.scikit_learn import KerasClassifier\n",
    "from keras.utils import np_utils\n",
    "from sklearn.model_selection import cross_val_score\n",
    "from sklearn.model_selection import KFold\n",
    "from sklearn.preprocessing import LabelEncoder\n",
    "from sklearn.pipeline import Pipeline\n",
    "import numpy as np"
   ]
  },
  {
   "cell_type": "code",
   "execution_count": 0,
   "metadata": {
    "colab": {},
    "colab_type": "code",
    "id": "6LJq8AGiLSTo"
   },
   "outputs": [],
   "source": [
    "\n",
    "def convertToFloat(val):\n",
    "    if not val:\n",
    "        return 0    \n",
    "    try:\n",
    "        return np.float64(val)\n",
    "    except:        \n",
    "        return np.float64(0)\n",
    "\n",
    "\n",
    "headers=['id','text','average_ind','average_grp','average_oth','std_ind','std_grp','std_oth']\n",
    "taskc = pd.read_csv(\"task_c_distant_ann.tsv\", delimiter='\\t',names=headers,low_memory=False,converters={\"average_ind\":convertToFloat,\n",
    "                                                                                                    \"average_grp\":convertToFloat,\n",
    "                                                                                                    \"average_oth\":convertToFloat,\n",
    "                                                                                                    \"std_ind\":convertToFloat,\n",
    "                                                                                                    \"std_grp\":convertToFloat,\n",
    "                                                                                                    \"std_oth\":convertToFloat})\n",
    "taskc=taskc[1:]"
   ]
  },
  {
   "cell_type": "code",
   "execution_count": 0,
   "metadata": {
    "colab": {
     "base_uri": "https://localhost:8080/",
     "height": 206
    },
    "colab_type": "code",
    "id": "fAZlsG1eLks2",
    "outputId": "e99cb1be-dec4-4a94-fe05-227a3ead4ca5"
   },
   "outputs": [
    {
     "data": {
      "text/html": [
       "<div>\n",
       "<style scoped>\n",
       "    .dataframe tbody tr th:only-of-type {\n",
       "        vertical-align: middle;\n",
       "    }\n",
       "\n",
       "    .dataframe tbody tr th {\n",
       "        vertical-align: top;\n",
       "    }\n",
       "\n",
       "    .dataframe thead th {\n",
       "        text-align: right;\n",
       "    }\n",
       "</style>\n",
       "<table border=\"1\" class=\"dataframe\">\n",
       "  <thead>\n",
       "    <tr style=\"text-align: right;\">\n",
       "      <th></th>\n",
       "      <th>id</th>\n",
       "      <th>text</th>\n",
       "      <th>average_ind</th>\n",
       "      <th>average_grp</th>\n",
       "      <th>average_oth</th>\n",
       "      <th>std_ind</th>\n",
       "      <th>std_grp</th>\n",
       "      <th>std_oth</th>\n",
       "    </tr>\n",
       "  </thead>\n",
       "  <tbody>\n",
       "    <tr>\n",
       "      <th>1</th>\n",
       "      <td>1159533712079503361</td>\n",
       "      <td>@USER Trump is a fucking idiot his dementia is...</td>\n",
       "      <td>0.833432</td>\n",
       "      <td>0.076110</td>\n",
       "      <td>0.107765</td>\n",
       "      <td>0.208334</td>\n",
       "      <td>0.098937</td>\n",
       "      <td>0.138649</td>\n",
       "    </tr>\n",
       "    <tr>\n",
       "      <th>2</th>\n",
       "      <td>1159533713044234241</td>\n",
       "      <td>@USER HELL YES! His grinned and thumbs up are ...</td>\n",
       "      <td>0.481062</td>\n",
       "      <td>0.367363</td>\n",
       "      <td>0.138841</td>\n",
       "      <td>0.345225</td>\n",
       "      <td>0.335924</td>\n",
       "      <td>0.083230</td>\n",
       "    </tr>\n",
       "    <tr>\n",
       "      <th>3</th>\n",
       "      <td>1159533718345830400</td>\n",
       "      <td>@USER Can't wait to see the shit show his deat...</td>\n",
       "      <td>0.438813</td>\n",
       "      <td>0.268574</td>\n",
       "      <td>0.377573</td>\n",
       "      <td>0.182609</td>\n",
       "      <td>0.186880</td>\n",
       "      <td>0.254621</td>\n",
       "    </tr>\n",
       "    <tr>\n",
       "      <th>4</th>\n",
       "      <td>1159533739871002625</td>\n",
       "      <td>@USER @USER @USER This guys is dumb check his ...</td>\n",
       "      <td>0.712995</td>\n",
       "      <td>0.123504</td>\n",
       "      <td>0.111130</td>\n",
       "      <td>0.248839</td>\n",
       "      <td>0.107572</td>\n",
       "      <td>0.067552</td>\n",
       "    </tr>\n",
       "    <tr>\n",
       "      <th>5</th>\n",
       "      <td>1159533742366633984</td>\n",
       "      <td>@USER @USER Fuck him better than his hoes</td>\n",
       "      <td>0.691414</td>\n",
       "      <td>0.146723</td>\n",
       "      <td>0.192282</td>\n",
       "      <td>0.204415</td>\n",
       "      <td>0.154818</td>\n",
       "      <td>0.104436</td>\n",
       "    </tr>\n",
       "  </tbody>\n",
       "</table>\n",
       "</div>"
      ],
      "text/plain": [
       "                    id  ...   std_oth\n",
       "1  1159533712079503361  ...  0.138649\n",
       "2  1159533713044234241  ...  0.083230\n",
       "3  1159533718345830400  ...  0.254621\n",
       "4  1159533739871002625  ...  0.067552\n",
       "5  1159533742366633984  ...  0.104436\n",
       "\n",
       "[5 rows x 8 columns]"
      ]
     },
     "execution_count": 7,
     "metadata": {
      "tags": []
     },
     "output_type": "execute_result"
    }
   ],
   "source": [
    "taskc.head()"
   ]
  },
  {
   "cell_type": "code",
   "execution_count": 0,
   "metadata": {
    "colab": {},
    "colab_type": "code",
    "id": "tfa9MbOBMBlR"
   },
   "outputs": [],
   "source": [
    "\n",
    "dfnumpy=taskc.to_numpy();\n",
    "x=dfnumpy[:, 1].reshape(-1, 1)\n",
    "y_train1=dfnumpy[:, 2].reshape(-1, 1)\n",
    "y_train2=dfnumpy[:, 3].reshape(-1, 1)\n",
    "y_train3=dfnumpy[:, 4].reshape(-1, 1)\n",
    "y_std1=dfnumpy[:, 5].reshape(-1, 1)\n",
    "y_std2=dfnumpy[:, 6].reshape(-1, 1)\n",
    "y_std3=dfnumpy[:, 7].reshape(-1, 1)\n",
    "\n",
    "#y_t1=getNewLabel(y_train1,y_std1)\n",
    "#y_t2=getNewLabel(y_train2,y_std2)\n",
    "#y_t3=getNewLabel(y_train3,y_std3)\n"
   ]
  },
  {
   "cell_type": "code",
   "execution_count": 0,
   "metadata": {
    "colab": {},
    "colab_type": "code",
    "id": "_idtKA4oNkU4"
   },
   "outputs": [],
   "source": [
    "y=np.stack((y_train1.flatten(),y_train2.flatten(),y_train3.flatten()), axis=-1, out=None)"
   ]
  },
  {
   "cell_type": "code",
   "execution_count": 0,
   "metadata": {
    "colab": {
     "base_uri": "https://localhost:8080/",
     "height": 145
    },
    "colab_type": "code",
    "id": "JX2XZKTtOPNN",
    "outputId": "d6f732fe-f5ba-4dc7-c640-1be73884526f"
   },
   "outputs": [
    {
     "data": {
      "text/plain": [
       "array([[0.07610979866070268],\n",
       "       [0.3673629474131143],\n",
       "       [0.2685740368872388],\n",
       "       ...,\n",
       "       [0.43151670865663655],\n",
       "       [0.16155983352929942],\n",
       "       [0.15227155079903518]], dtype=object)"
      ]
     },
     "execution_count": 103,
     "metadata": {
      "tags": []
     },
     "output_type": "execute_result"
    }
   ],
   "source": [
    "y_train2"
   ]
  },
  {
   "cell_type": "code",
   "execution_count": 0,
   "metadata": {
    "colab": {
     "base_uri": "https://localhost:8080/",
     "height": 121
    },
    "colab_type": "code",
    "id": "nFsTfX5oOKve",
    "outputId": "3c58f99e-da23-4a7e-8c5d-00f4cf25477c"
   },
   "outputs": [
    {
     "data": {
      "text/plain": [
       "array([[0.8334315660070198, 0.07610979866070268, 0.10776452321727449],\n",
       "       [0.48106237178573397, 0.3673629474131143, 0.13884137991817902],\n",
       "       [0.4388127663192773, 0.2685740368872388, 0.3775726696311655],\n",
       "       [0.7129954339515537, 0.12350408671699416, 0.11113008071093726],\n",
       "       [0.6914140593727042, 0.14672323837904971, 0.19228166422122278]],\n",
       "      dtype=object)"
      ]
     },
     "execution_count": 10,
     "metadata": {
      "tags": []
     },
     "output_type": "execute_result"
    }
   ],
   "source": [
    "y[0:5]"
   ]
  },
  {
   "cell_type": "code",
   "execution_count": 0,
   "metadata": {
    "colab": {
     "base_uri": "https://localhost:8080/",
     "height": 69
    },
    "colab_type": "code",
    "id": "P-pgXoMdOQ9-",
    "outputId": "6223c1eb-26f5-487d-d926-c15361c30551"
   },
   "outputs": [
    {
     "name": "stdout",
     "output_type": "stream",
     "text": [
      "[nltk_data] Downloading package stopwords to /root/nltk_data...\n",
      "[nltk_data]   Unzipping corpora/stopwords.zip.\n"
     ]
    },
    {
     "data": {
      "text/plain": [
       "True"
      ]
     },
     "execution_count": 11,
     "metadata": {
      "tags": []
     },
     "output_type": "execute_result"
    }
   ],
   "source": [
    "import nltk\n",
    "nltk.download('stopwords')"
   ]
  },
  {
   "cell_type": "code",
   "execution_count": 0,
   "metadata": {
    "colab": {},
    "colab_type": "code",
    "id": "cKQS_yVdMYUg"
   },
   "outputs": [],
   "source": [
    "from nltk.tokenize import TweetTokenizer\n",
    "from nltk.corpus import stopwords \n",
    "import re\n",
    "import string\n",
    "tknzr = TweetTokenizer(strip_handles=True, reduce_len=True)\n",
    "stopwords=set(stopwords.words('english'))\n",
    "def preprocessinglib(arrt):\n",
    "    ans =[]\n",
    "    for txt in arrt:\n",
    "        unique_words = dict.fromkeys(txt.split())\n",
    "        txt2=' '.join(unique_words)\n",
    "        tokens=tknzr.tokenize(txt2)\n",
    "        ctokens=[]\n",
    "        for t in tokens:\n",
    "          if  t not in stopwords and t not in string.punctuation :\n",
    "            ctokens.append(t.lower())\n",
    "        clean_s = ' '.join(ctokens)\n",
    "        ans.append(clean_s)\n",
    "               \n",
    "    return ans\n"
   ]
  },
  {
   "cell_type": "code",
   "execution_count": 0,
   "metadata": {
    "colab": {},
    "colab_type": "code",
    "id": "azbHYpXqOKOw"
   },
   "outputs": [],
   "source": [
    "preprocessedTweets=preprocessinglib(x[:,0])"
   ]
  },
  {
   "cell_type": "code",
   "execution_count": 0,
   "metadata": {
    "colab": {},
    "colab_type": "code",
    "id": "FA3zIfiS_S9V"
   },
   "outputs": [],
   "source": [
    "from sklearn.utils import shuffle\n",
    "preprocessedTweets,y=shuffle(preprocessedTweets,y)"
   ]
  },
  {
   "cell_type": "code",
   "execution_count": 0,
   "metadata": {
    "colab": {
     "base_uri": "https://localhost:8080/",
     "height": 1000
    },
    "colab_type": "code",
    "id": "ELzGOap-Nnp9",
    "outputId": "79906803-8319-49ff-aa97-b628d2038955"
   },
   "outputs": [
    {
     "data": {
      "text/plain": [
       "[\"you're full shit know i seething foam-mouthed women probably men\",\n",
       " 'send flushed emojis bro fuck eat ass club penguin rewritten',\n",
       " 'imagine stealing content smaller youtuber ... fuck community',\n",
       " 'screaming bc im literally making fantasy tweet fuck wrong oh god',\n",
       " '“ she friend ” bitch i showed dick',\n",
       " 'then i went check pics ’ worth none shit talking 😩 😩 😩',\n",
       " 'im going thru miss jaehyun fuck',\n",
       " 'who tf trying hack bitch ’ even followers go back',\n",
       " \"im reading one lady's tweets train ran food hour ago holy shit\",\n",
       " 'currently 3 crying ’ high fuck',\n",
       " '’ nothing worse lying i hate shit',\n",
       " 'fuck gamers fuck gaming',\n",
       " 'not directed ’ respected ‼ ️ ‼ ️ ‼ ️ 🤣 shut shit 🤣 🤣 🤣',\n",
       " 'i hate getting work bitch diversity',\n",
       " 'an absolute gentleman greg ... fair fucking play 🙌 🏻 🙌 🏻 #loveislandfinal',\n",
       " 'stupid hell i get tired parents posting trash videos called disciplining kids',\n",
       " 'what disgusting attempt cover behavior',\n",
       " 'and niggas wanna laugh joke ’ going process damn shame',\n",
       " 'men beat yo ass see one tweets rns',\n",
       " 'i tend stray away negativity like i ’ totally disconnect ya bad energy bitch 💯 💪 🏽',\n",
       " 'lmfao oh shit days da east drake shit ... ovohours fr 😢',\n",
       " 'kind ghetto ass bitch \\U0001f970 😍',\n",
       " 'mouth still say want 🗣 pussy wet like big bitch',\n",
       " 'i ’ tell nigga call i hang stupid ass 🤣',\n",
       " 'every porn site fuck supposed',\n",
       " 'i ’ eat everybody gumbo shit looking nasty 🤢',\n",
       " 'idek i bother lot shit 🤦 🏾 \\u200d ♂ ️ lol',\n",
       " 'men trash your selection men',\n",
       " 'bitches dont shut fuck',\n",
       " 'haunted ass damaged people often talk alot it doesnt make #narcissist',\n",
       " 'its always old man locker room gets butt ass naked change',\n",
       " 'im gay couples therapy annabelle what fhe fuck',\n",
       " 'like ’ care entertain anyone especially stupid ass boys give fuck lmao',\n",
       " 'this generation got many opinions why hard mind fucking business shut sometimes talk damn much',\n",
       " \"arse hole absolute fire feel like i'm shitting 9 circles hell\",\n",
       " 'holy shit guess i transphobic ...',\n",
       " 'znacie to uczucie jak widzicie na kogo was wymieniono i jesteście im chanel and this is walmart bitch what the actual fuck',\n",
       " 'no fuck ’ well come back stronger climb shithole administration',\n",
       " 'a king bomb ass queens tf \\U0001f92d 💞',\n",
       " 'jesus fucking christ im finding reasons hate shitty service',\n",
       " 'i found fucking disgusting',\n",
       " 'worrying piece shit make difference worth time 😏',\n",
       " 'you ’ dumbass ’ actually walking living breathing hell id brain',\n",
       " 'this need bring back bushido chop heads holy shit',\n",
       " 'son dirty bitch',\n",
       " 'get the fuck out of here',\n",
       " 'i ’ sleepy shit',\n",
       " 'mark wants fuck jungwoo',\n",
       " 'know one ting ine ca ass',\n",
       " 'ohhh ’ livid fucking even though knew shit gonna happen',\n",
       " 'fact pussies ’ dare say shit post intenet cut coward shit',\n",
       " 'okay ... today full awful surprises bring bitch',\n",
       " 'i feel like god send signs shit even happens 😂',\n",
       " 'lower fucking voiceshort girls threatening fight anybody like u gonna pout sit frown let sigh gummy bear looking asses',\n",
       " 'i wish wok big enough stir fry shit',\n",
       " 'aint no way shit really good smh',\n",
       " 'sometimes u gotta like “ bet ” leave shit alone',\n",
       " \"ジョーは生粋の馬鹿です 。 脳波がホヤと一致しました 。 英文 ： joe native fool his brain waves fall line ascidian's one\",\n",
       " 'holy shit just kill these guys homefront sucks nothing good come',\n",
       " 'shut fuck ’ want conversation',\n",
       " 'lmao stop jt damn song begging spend money fuck verses ass',\n",
       " 'realer king solomon real men fuck multiple women shit gonna eat',\n",
       " 'ain ’ way .. 😏 real gay girl shit ... yeah i ’ eating pussy mine 🗣 ‼ ️',\n",
       " 'marty told cancer shit instantly broke heart 💔',\n",
       " '“ dick ’ shit ass eating ’ ” i fucking hate friends 😂 😂',\n",
       " 'like really pxsses txm perez acting mess debate stage cake disgusting',\n",
       " 'bernie stay saying crazy shit remember said drug dealers black smh',\n",
       " 'son bitch ea',\n",
       " 'exclamation marks new fuck die',\n",
       " 'hell yeah get good shit',\n",
       " 'gm ’ better stop sleeping ones best interest heart want nothing make happy shit rare',\n",
       " 'holy shit lolla showed set insane',\n",
       " 'loving america does not have to be the same thing as hating mexicans what fuck is wrong with you trump supporters',\n",
       " 'protect oil allies kurds what disgusting human administration',\n",
       " 'talking shit telling lies #themancavesloganshouldbe',\n",
       " 'aye yo shit one 😂',\n",
       " 'yall skin puppets fiddled ass xd',\n",
       " '“ fuck lit ” personal ball',\n",
       " 'n still dumb shit u trying game em',\n",
       " 'grow together type shit ..',\n",
       " 'you eat unhealthy shit like save money home bullshit',\n",
       " 'that shit look dry brittle hell 😂 🤦 🏽 \\u200d ♀ ️',\n",
       " 'fuck dilly bean',\n",
       " 'if girls even half shit guys us .. ’ would haaate us 😂 smh',\n",
       " 'and niggas bitches wanting 😭 😭 😂',\n",
       " 'fuck thats true mybe 😂',\n",
       " 'radio hosts making fun asian accents ... ignorant ass black people learn shit ’ funny cute',\n",
       " 'this world fucking scary',\n",
       " 'silverados chevolet one visually displeasing auto brands rnthe new cameros bout ugly shit',\n",
       " 'how u feel followers admire turn around call em “ fans ” lmaoo ’ wack fuck bro oh god',\n",
       " 'the part cassie sees dad shit hit hard',\n",
       " 'they found 😁 holy shit dortmund fans mentions lol',\n",
       " 'what fuck fucking tarantino foot fetish jesus christ',\n",
       " 'on topic suicide ... unless lost someone suicide favor shut fuck',\n",
       " 'yo bitch like go road riding 😂 \\U0001f92e',\n",
       " 'who fuck squares ajer',\n",
       " 'fyed ass cuz headphones 😭 😭 😭 bro nigga deaf niggas would letting jokes fly relentlessly lmaooo',\n",
       " 'her head game cold ❄ ️ 🌬 i call shit brain freeze \\U0001f976 💨 💨',\n",
       " 'my bitch gone get nasty anyway i ’ gotta ask',\n",
       " 'what racist prick pull head ass wake fuck',\n",
       " 'i hate mf wants fit sooo bad sit yo popped ass',\n",
       " 'anton told amber “ go fucking win ” went #loveisiand',\n",
       " 'stick yo glock in my ass and pull the fucking trigger',\n",
       " 'dove looks hot fuck makes wanna lose 80 pounds get nipples pierced',\n",
       " 'fuck imma still finish vid post going sleep til watch banger 😤',\n",
       " 'i ’ enough white models profiting racist porn',\n",
       " 'i ridin one night thinkin bout shit u said',\n",
       " 'life fucking boring idk ’ went insane yet',\n",
       " 'who the fuck is in charge of scheduling football games they must be a patriots fan smh',\n",
       " 'cali caught ass guard like baby gonna come dumb said belly button lmao',\n",
       " 'i ’ rather shit pants public write paper right',\n",
       " '“ we ’ fucking unless eating ass ” bitch ’ move around monkey shit',\n",
       " 'any nigga eat bitch ass hole dirty likely ’ really get pussy frequently lmao ’ trifling fr',\n",
       " 'ph dead fuck whole lotta new faces',\n",
       " 'wheels million times better clown terrible tom mccarthy disgrace',\n",
       " 'you literally bunch fucking idiots philosophy 😂',\n",
       " 'texas weather fucking annoying',\n",
       " 'rangers ffs bigger wolves aberdeen useless bastards i ’ paying money watch shit',\n",
       " \"i'm immortal god this shit job 2019 tryna get even that means beating odds \\U0001f92f holy shit\",\n",
       " 'wait happened ufc 😫 😫 😫 since i ’ dropping shit feel like remixing somebody 🤔',\n",
       " 'man i saying fuck pick fucking lebron sometimes man 😂 smfh 😶 \\U0001f92c',\n",
       " 'we fuck stupid shit ’ choice wanna continue shitty human change',\n",
       " 'i praying dream every night shit gotta come true',\n",
       " 'girl i dying laughing tweeting shit stuck head 🤕',\n",
       " 'yea shit 😔',\n",
       " 'i bad could never clown nigga ’ know shit feel ‼ ️',\n",
       " 'lmao mane folks eating shit',\n",
       " \"shouldn't fucking bitch cry lawsuit dumbass bitch\",\n",
       " 'one thing two things fasho ima thuggg dat shit 🤞 🏾 better days coming',\n",
       " 'fuck u costume party pictures',\n",
       " 'im sad ready wait 5years sy hg pull shit',\n",
       " 'i wanna marry fuck good watch videos \\U0001f970 😘',\n",
       " 'wow fuck everyone let fall love like',\n",
       " 'stop bitch square shake hand end bullshit 🤷 🏻 \\u200d ♂ ️',\n",
       " 'oh shit i never thought way',\n",
       " 'lol fuck 😂 🤷 🏾 \\u200d ♂ ️',\n",
       " 'fuck left buttplug car',\n",
       " 'aha i would dying saw shit 🤣 🤣 🤣',\n",
       " 'that ’ i ’ saying he still 973 shit like',\n",
       " 'since trump called dumb lemon could maybe dumb',\n",
       " \"she can't be serious i'm fucking dead\",\n",
       " 'needs shut hell mind rmb loving ass business',\n",
       " 'i miss asterios dick shooting shit tds',\n",
       " 'not 🤣 🤣 🤣 show plates yobitches scared shit get food cookout like “ go wit ”',\n",
       " 'thought ass old huh ...',\n",
       " 'niggas love bitch tryna fuck 😴 work',\n",
       " 'i ’ reeking 🤥 blowing cookie bitch 🤦 🏾 \\u200d ♂ ️ face ⏰ ’ n',\n",
       " 'what fuck',\n",
       " 'jose really stepped dog shit got car wtf',\n",
       " 'lil woogie lost brother gon give niggas hell',\n",
       " 'good shit stan man closing close match',\n",
       " 'as done nothing .. dumb ass',\n",
       " 'your man pretty fuck',\n",
       " \"don't know got sow slut slappers bitch though\",\n",
       " 'god piece ugly adolf hiedler ass n krestin marries relative ho',\n",
       " 'nothing triggers old bodychecks bitch im sorry calling u fat please come back',\n",
       " 'way ’ sobbing mina literally said words bitch whipped',\n",
       " 'we grown i ’ lying nobody bout shit',\n",
       " \"tucker klansman coward liker o'reilly rest\",\n",
       " 'if i go prison get white girlfriend got box braids im turning around walking back bitch',\n",
       " 'are sagittarius women trash boring waste space \\U0001f928',\n",
       " 'bitches like “ niggas fuck anything ” anything ’ getting fucked 😭',\n",
       " 'my shit middle school lmao',\n",
       " 'please stop saying ws start every name shit annoying',\n",
       " '🤣 🤣 ’ i told ’ like stupid 😂 🤦 🏻 \\u200d ♀ ️ 🤧',\n",
       " '🗣 i ’ never hate bitch get nigha want 🤷 🏾 \\u200d ♀ ️',\n",
       " 'me dumb stupid idiot brain chose quit job made family ever',\n",
       " 'what overpriced piece shit',\n",
       " 'once ’ fuck really fuck you 😴',\n",
       " \"i'm dead ass cleaning room shaking take higher bro i think seeing u has cured me\",\n",
       " 'can jackye fuck boyfriend story #bbnaija',\n",
       " 'jeremiah better taken care business ass grass',\n",
       " 'also “ stoolpresidente ” sounds like major piece shit think',\n",
       " 'yes say wtf tried hurry coming home work watch crap its fucking joke',\n",
       " 'nah fuck',\n",
       " '’ quiet brother room chewing agitating shit 😭',\n",
       " 'fuck i pass bro lmfao',\n",
       " 'one ugly ass mf 😂 \\U0001f97a',\n",
       " 'uses febreeze instead perfume incapable taking normal selfie carries huge ass box cornflakes bag',\n",
       " \"moscow mitch putin's bitch disgrace country traitor\",\n",
       " 'da fuck beggining men women didnt expect humans start losing',\n",
       " 'niggas suck cuddling 10 mins like “ take 🤣 🤦 🏽 \\u200d ♀ ️ i ’ even worse 😭 i em 😂 🙃',\n",
       " 'fuck victim shit boss ur life',\n",
       " 'fuck addam get entire movie family',\n",
       " 'who fuck dweeb',\n",
       " 'im gna watch hxh goth lookin bitch head band',\n",
       " 'foo u think bitch textin one nigga 3 ️ ⃣ 💯',\n",
       " 'many homers gleyber orioles year holy shit',\n",
       " 'tired boring sex jump dresser wwe pussy 🙄 🙄',\n",
       " 'and went booty ass nail salons 😭 😭 😭 really angry',\n",
       " 'ran ex walmart dumb ass ’ going 😔',\n",
       " 'mad i texted jessica fake hell get attention gonna say snitching 🤦 🏻 \\u200d ♀ ️ bitches aint shit',\n",
       " 'they act like give fuck charity i bet left tiddie ’ even donate 😭 ✋ 🏻',\n",
       " 'if one more person steps on the back of my fucking shoe imma end a bitch',\n",
       " 'oh shut fuck bullshit easy say privileged position western country',\n",
       " \"♍ ️ virgo shit you can't beat it\",\n",
       " 'my sister ex beat shit said forgives that really made extremely furious today',\n",
       " 'nobody got time none fake domestic violence shit either \\U0001f974 bye go fight shoot opps 🤷 🏾 \\u200d ♀ ️',\n",
       " 'fuck sex want fucking hug',\n",
       " 'well ass ’ play shit',\n",
       " 'liars leakers hate democracy yeah',\n",
       " 'co-star fakest bitch',\n",
       " 'sitting thinking nigga deadass able lift when i tell pussy got moist fuck day',\n",
       " 'y ’ fake even liking ass picture nerve message saying “ got nice ass ” 😤',\n",
       " 'just woke dead niggawhole gang dummy lit last night niggas singing karaoke shit 😭 😭',\n",
       " \"lowkey wanna interact i'm lil bitch\",\n",
       " 'getting ass beat smash like losing war 🤧',\n",
       " \"i like fast replies i'll cut wit slow texting shit\",\n",
       " \"holy shit that's switch right probably he's played much lol\",\n",
       " 'how feel suck dick',\n",
       " \"i hate new relationships 😒 gotta acting like i'm damn sex addict 🍆 😭 ‼ ️ 😂\",\n",
       " 'forgot comma leave fuck alone',\n",
       " 'obviously what piece shit every one scumbags going prison',\n",
       " 'shut hell mouth',\n",
       " 'lick ass bitch',\n",
       " '’ forcing nobody fwm ass kissing chasing',\n",
       " 'fuck fucking fuck fuck',\n",
       " 'car meet ppl worthless ... fuck parking lots ’ even spend damn dollar store lol smh',\n",
       " 'dude asshole your hateful rhetoric align disciple christ',\n",
       " 'i ’ hot as fuck #findom',\n",
       " 'niggas wanna fuck young ma saying meg stallion twerking much streets done',\n",
       " 'goodnight remember could ’ bad bitch sleep good sis',\n",
       " 'what the fuck did i just read',\n",
       " 'dumb death kirk really super dumb',\n",
       " 'be gay crime kick transphobes ass',\n",
       " 'lol idiot i bet voted hillary',\n",
       " 'fuck lost half shit lool',\n",
       " 'omfg wrong people ... 😐 hannah baker killed cause fat ass',\n",
       " 'fuck case follow making things better go back selling shit doordash',\n",
       " 'deadass lost lot priceless shit mincecraft kinda like wanna die',\n",
       " 'let go bro nigga bumi could rt mo grades ’ matter niggas remember battling injuries',\n",
       " 'hate “ fault sleep ” ass nigga',\n",
       " 'ffs trump traitor sucks putin ’ cock that ’ ’ orange putin radioactive',\n",
       " 'sick fucking tired accidentally downloading clean versions albums',\n",
       " 'lol full shit',\n",
       " 'walking mall like ass fat something ...',\n",
       " 'you look bomb shit both burgundy forever fav',\n",
       " 'one genuinely scared shit i saw',\n",
       " 'brooke smith really nicest bitch i know',\n",
       " \"niggas hit try funny .. cool i'm though stupid car job lil sumn da cut\",\n",
       " \"what the fuck is rika's program music eye desi confusion\",\n",
       " 'yesterday sent half clothes away purpose tour poster wrote shit thought jaden still gotta poopoo',\n",
       " 'he ’ run fucking field lol',\n",
       " 'sooo i ’ definitely guilty kolby hates iti “ wrong bitch ” nigga death idc',\n",
       " 'guess half im 😎 half twitter wants fuck die',\n",
       " 'and shaniyah ass mean funny fucked 😭 😭 😭 especially shit boy momma yesterday',\n",
       " 'wodonga shit bc vic albury still decent nsw',\n",
       " 'regardless still stupid contract',\n",
       " \"i neva fskw bout somebody cuz give fuck either i'm rockin wit u cut ain onna fence\",\n",
       " 'dislike mf ’ think hood claim shit',\n",
       " 'omg really like assfucked cock need tight little asshole 😊 😍',\n",
       " 'clown whole damn circus',\n",
       " 'y ’ niggas think ’ cool wear high waters shit g',\n",
       " 'damn baby girl i ’ like eat pussy lick ass i love fuck crazy',\n",
       " 'sco pa tu-shut fuck',\n",
       " \"for fuck know betty gilpin's character could d-voter caught mess\",\n",
       " 'only idiot thinks word hateful maybe ’ hit close home',\n",
       " \"lizzo makes white people music y'all turn around bump white artists ass music day confusion\",\n",
       " 'i may something really stupid 🤦 🏻 \\u200d ♀ ️',\n",
       " \"broke niggaz brainwashing that's a fucked up situation 😩 🤔 😂\",\n",
       " 'y ’ ’ know bad bitch really smh',\n",
       " 'finally crossed fucking border back freedom 🦅',\n",
       " 'yes shit even funny',\n",
       " \"he's pure kind deserve shit life he's got 😔\",\n",
       " 'you ’ know i stop giving fuck',\n",
       " 'y ’ friends w anybody be fucking acting like sick',\n",
       " 'took dna test turns im 100 get shit beaten sex',\n",
       " 'bitch i swear one gives af',\n",
       " 'what actual fuck',\n",
       " 'this man utterly classless his racist attitude thuggish behavior despicable',\n",
       " '“ chuck fuck bucket forget ”',\n",
       " 'really beat dog shit randy orton kendo stick',\n",
       " 'angela yee funny fuck',\n",
       " 'trump sick pervert',\n",
       " 'im idiot hot boys went 0-2 night 🤦 🏽 \\u200d ♂ ️',\n",
       " 'crazy ass tried brake check today bc i switched lanes since moving slow hate men',\n",
       " 'oh yes lived bitch',\n",
       " 'still i deserve slapped public multiple times pathetic piece shit',\n",
       " 'not gonna fall back fuck attitude got trouble',\n",
       " 'fuck ’ lonely hours',\n",
       " 'i do not respond dumb shit',\n",
       " 'i would ’ crashed car let shit explode',\n",
       " 'i said “ i ’ sure shit works ” 💀',\n",
       " 'hot girl summer fun ’ ready stop stupid bitch already get wifed',\n",
       " '“ hurt ” bitch knew better still ’ better',\n",
       " 'what the fuck',\n",
       " 'man i swear edm twitter shit corny filled bunch pussies',\n",
       " 'i hate see cracker big ass truck ’ even know maneuver shit 🙄 push shit sally wtf 😭 🤣',\n",
       " \"lol that's shitty thing say\",\n",
       " 'piece shit allowing mentally ill legally getting guns fuck scumbag',\n",
       " 'bby mama daddy shit trash fr .. ion want',\n",
       " 'they expose disgusting people every time open mouth speak',\n",
       " '🤣 shut fuck',\n",
       " 'free boys shit everybody got 3-5 ’ bout bitch',\n",
       " 'fuck want em ’ get takin pics',\n",
       " 'im gonna beat fuck u n ur let cuz women bunch sluts',\n",
       " 'tom hiddleston fucking beautiful',\n",
       " 'what moron ... imagine given platform ridiculous views ...',\n",
       " 'put gas in my car how tf do i miss a whole sentence lmfaooo fuck',\n",
       " 'nevermind im gonna censored fucking face 🤣 🤣 🤣 how crop delete someone yg menyemak kat gambar kita lol',\n",
       " 'i taught never sweat bitch cause acting go get better',\n",
       " 'beats shit friend sharing diamonds reienforcing communist payroll',\n",
       " 'shit sexy cap',\n",
       " 'heard sumn move door fuck',\n",
       " 'piece shit biological waste supporters white supremacy',\n",
       " 'i ’ seriously getting existential crisis haha really sucks',\n",
       " 'yeah i like fuck got fucking problem',\n",
       " 'fuck quirky cute dates 👎 🏽 😛 bout pay college apps instead 🤓 📔 💪 🏽',\n",
       " 'lincoln heights fucked',\n",
       " 'niggas twitter full porn soon see meg twerking wanna upset',\n",
       " 'that bitch meg stallion ’ nun twerk bro hoes irritating fr 😭 😭 😭 😂 😂 😂',\n",
       " 'fuck wednesday defence shit scared fkn deluded',\n",
       " 'bro i think ex going jail fuck',\n",
       " 'lol real shit 😩 winter wyaaa i wanna get light \\U0001f97a \\U0001f97a 😂',\n",
       " \"people talk lotta shit that's coming someone like\",\n",
       " 'if willing support liar absolute bitter end sort make',\n",
       " 'wonder girls gonna realise guy incapable finding clit ’ fucking dudes ’ care',\n",
       " 'you see stupidity feel n word means stupid person really',\n",
       " \"kenny fucking usually last 2-3 weeks holy fuck he everyone's respect ...\",\n",
       " 'done shit',\n",
       " 'man tell itgetting kicked parents insurance 26 dumbest shit ever 🗣 so ghetto',\n",
       " 'shit feels like i stay good spirits gotta actually stop think',\n",
       " 'the shit daddy wrote got ass cut life get tf fake love folk',\n",
       " 'today i hate world kicked out of my own fucking house for being lesbian im really sad',\n",
       " 'i want little asshole fucked',\n",
       " 'a bitch only get nasty right nigga ‼ ️',\n",
       " 'when fuck summer going away 🙄 😏 😏 ☀ ️ ❌ ⁉ ️',\n",
       " \"i'm huge supporter shit ok 🤣 🤣 🤣\",\n",
       " 'jfc what fresh hell … “ elevated revered ” they fuck load horseshit',\n",
       " 'bro threw fuck shit 😂 😂 dude looked like whole new nigga',\n",
       " 'where fuck going 😳',\n",
       " 'winco shit',\n",
       " 'antifa worst terrorist organization time zero kills pathetic',\n",
       " 'some shorties weak \\U0001f974 half niggas wit girl say “ ’ bad ” they ’ really like else ’ cheating 🤷 🏾 \\u200d ♂ ️ 😻',\n",
       " 'literally finna slap shit outta dying 🤣',\n",
       " 'the fuck wrong ’ days',\n",
       " 'fuck the cowboys',\n",
       " 'nigga duck shit 😂',\n",
       " 'that ’ get ass',\n",
       " 'if could somewhere else spot shit',\n",
       " 'up the fucking blues',\n",
       " 'y ’ ’ need anyway bro he goofy shit court',\n",
       " 'hello friends anyone wanna run streets i get shit',\n",
       " \"dude that's funniest shit\",\n",
       " 'shut fuck i ’ want ur conversation',\n",
       " \"that's u pig pakistan surrenderderd ass army\",\n",
       " 'wait experience real life realize ’ full bullshit',\n",
       " 'gonna lie im piece shit',\n",
       " 'lays fuck dies',\n",
       " 'a whiner really fucking little girl killed enjoy hell bitch',\n",
       " '“ if effort ’ reciprocated fuck ”',\n",
       " 'imagine small ass bug starts pouring homies ... shit gotta scary ash',\n",
       " '’ either i ’ losing shit weird dumb ass happens literally 💆 🏾 \\u200d ♂ ️',\n",
       " 'koo junhoe really give fuck concert lmao',\n",
       " 'so dreams weird fuck lately right',\n",
       " \"i'm talking dressed nice ass date thoughi wanna go date \\U0001f974\",\n",
       " 'oh god long line next bunch portaloo fucking smells lmao #c96',\n",
       " 'fuck mirror cause know bitch conceited \\U0001f975',\n",
       " 'been looking part time job multiple locations bad retail stores 18 😔 fuck fast food shit ’ move',\n",
       " \"loool argument defo funniest fkn hell 😭 it's 2am i'm still pissing shelina called someone blind yute fuck off\",\n",
       " 'monty python my dad beat shit out me',\n",
       " 'peter wright bag shit shit 🎶',\n",
       " 'br nd n literally finished euphoria already changed avi maddy ... hate ass sm',\n",
       " 'fuck wrong world #acab',\n",
       " 'what hell 😧 😐',\n",
       " 'also fucking love digital devil saga 2 playthrough couldnt stop fucking laughing',\n",
       " 'i use hate whenever ol girl would shit say hoped barber fucked 🙄 wanna piss today ladies stare hairline “ cut yo shit like ”',\n",
       " 'rand dumb shit lol ... rand dumb name',\n",
       " 'yoo happened yesterday lmao i hearing niggas everywhere \\U0001f974 dear white uber drivers you automatically changing radio hip hop channel black ass gets car is racist',\n",
       " 'tired paranoid lazy self loathing negative destructive hating havin ’ ass get fuck grow',\n",
       " 'boris full shit rest #60mins',\n",
       " 'get fuck',\n",
       " 'im sick wlw just date bitch im going fucking bully',\n",
       " 'i agree women fight til death sorry ass man made fool',\n",
       " \"oh shut fuck he's a fucking rapist he doesn't get politeness fuck shit smfh\",\n",
       " 'i hate how my awesome is not fully acknowledged by some it pisses me the fuck off',\n",
       " 'how fuck take 6 months pay 100 fine',\n",
       " 'it ’ fucked world live',\n",
       " 'nothing wrong falling back getting shit together',\n",
       " 'did boxing works best friend yesterday hit i feel someone beat shit outta 🥊 🥊',\n",
       " 'lmao shit unbelievable like ’ ’ tell sus stop 😂 😂 bradshaw range around mf',\n",
       " 'would beat fuck yo ugly ass',\n",
       " 'i ’ done investing time temporary ppl that shit dead ✌ 🏽',\n",
       " 'jeno handsome fuck',\n",
       " 'me i taxes public school shut fuck square dance',\n",
       " 'idk man ramneets fucking loser jkjk ’ cuz ’ bestest person everrr',\n",
       " 'you alley ass hoe talking loud ol bitch gold grill smile 😃 😂 😂 😂',\n",
       " 'he needs shut fuck an ignorant piece shit put away prick',\n",
       " 'anyone else feel like bag shit today \\U0001f9d0',\n",
       " '“ make peace barbz ” nigga fuck 😂 😂 😂 #queenradio',\n",
       " 'the gop got rid useless ass i wondered see baltimore mess',\n",
       " 'tinder fat bitches await',\n",
       " 'some ’ sick individuals',\n",
       " 'mmm sexy fuck',\n",
       " 'sorry went missing laughing dumb stupid videos instagram lmaooo',\n",
       " \"meanwhile ain't shit niggas stay cheating relationship cuz bitches scared alone 🙄 ✌ 🏾 really getting tired bullshit\",\n",
       " 'guys i fucking proposed to three nights ago and she said yes 😭 😭 💍 ya boy engaged shit 🤤 🤤 \\U0001f97a',\n",
       " 'i feel like rocky know us lmao rap shit went 😩',\n",
       " 'sometimes remind fuck',\n",
       " 'my nigga jay crowder hit em green animation 😂 😂',\n",
       " 'i deal stupidest ass bitches',\n",
       " 'wow already didnt wanna see mulan movie really aint gonna shit',\n",
       " 'bro one many friends makin jokes bout forehead shit starting hurt 🤣',\n",
       " 'fredo dead shit looks …',\n",
       " 'nyc overpriced piece shit place',\n",
       " 'yall remember chain mail shit dark especially mickey mouse ones',\n",
       " 'these females always tryna cuff nigga 🤦 🏾 \\u200d ♂ ️ 😂 i ’ wanting relationship ’ whores ✌ 🏾',\n",
       " \"he thought he'd stir shit manage pants nice try mr castro cigar\",\n",
       " 'gotta mix shitposting realist shit .. 🙏 🏻',\n",
       " 'say ass cold',\n",
       " 'fuck 😁',\n",
       " 'the cashiest shit then got humbled',\n",
       " 'fucking eye contact istg lose everytime watch',\n",
       " 'thats shit',\n",
       " 'bitch dropped 3g last month least 1g strictly substances lmao fuck',\n",
       " 'twitter needs get video sound shit together cause i ’ tired',\n",
       " 'moe ion know hard get ass go yung smh ... get store',\n",
       " 'it ’ hard real ass bitch around bunch 🐍',\n",
       " 'ppl never shut fuck drugs fucking annoying please get hobby',\n",
       " 'you idiots suck and stupid realize actually happened',\n",
       " 'ever since ’ showed cash twins i ’ dead hell who letting lil boys porn',\n",
       " 'in addition i ask start cleaning shit splatter',\n",
       " 'daily reminder #yankeestwitter dead fuck little bitch also died lmao',\n",
       " '’ smell shit',\n",
       " \"i bit cry thought fuck they're worth x\",\n",
       " \"i'm sick hearing all lives matter shit\",\n",
       " 'since i started working software developers watching shit like great hack black mirror makes v uncomfortable',\n",
       " \"you freaking crazy hell oh trump ain't nothing piece pedophile\",\n",
       " 'tired ’ tweeting wild shit going private say u said ur chest',\n",
       " 'doms dirty talk fucking subs instead staying quiet superior',\n",
       " 'shit',\n",
       " 'little shit respect elders',\n",
       " 'ngl shit kind hurted',\n",
       " 'i wanna date bitch get feelings hurt reason cry',\n",
       " 'if ah bitch record eating pussy posted cuz gone make yo friends slide threw dm ’ head',\n",
       " 'wild afff 😂 😂 😂 shit',\n",
       " 'so takes guys many years figure shit did kill everyone else ask question',\n",
       " 'bruh couldnt even watch 2nd episode chewed 😂 shit retarded',\n",
       " 'i that tv with the fat ass back 🤣 🤣 shit heavy asf',\n",
       " \"alright i'm done arguing head fucking hurts i wanna keep going\",\n",
       " 'daddy got dick fucked took ... just i love take',\n",
       " 'im sorry posted hurtful shit you said me didnt mean hurt ur feelings \\U0001f97a \\U0001f97a \\U0001f97a 😔 😔 😔',\n",
       " 'no dumb .. dumb we eating tariffs your base damn stupid',\n",
       " 'her face fucked doe',\n",
       " 'im tired ppl acting like dont matter fuck yall its cut szn baby 🗣 🗣 🗣',\n",
       " 'boy ’ slap shit outta',\n",
       " 'no point arguing idiot cause makes two idiots 🤷 \\u200d ♂ ️',\n",
       " 'always female cant mind damn business',\n",
       " 'white girls love saying rap sounds like bitch listen chainsmokers',\n",
       " 'who fuck',\n",
       " 'well sucks',\n",
       " 'weakness white men look like work wall street fuck i way',\n",
       " 'people come life fuck world go back ’ shit ass lives 🤦 🏾 \\u200d ♀ ️',\n",
       " 'he stupid liar means ’ bad liar',\n",
       " 'men devil 😩 blowing phone hang see whole bitch ’ niggas wicked tell 😂 😂 😂',\n",
       " 'lmao la fashooo took bayarea vibe style energy ran shit 😂',\n",
       " 'stop excepting you people people ’ care they ’ shit will dirty give single fuck',\n",
       " 'my friend got obsessed mad nicotine addiction shit nasty sprayed \\U0001f92e',\n",
       " 'you mean michael grimm fat fuck promised pay bullies legal bills',\n",
       " 'he wants fuck 500',\n",
       " 'nigga joe smith dick dirty many wives made religious law niggas clean dick',\n",
       " 'another person piece shit ran',\n",
       " 'rather b low key nigga ’ really bag',\n",
       " 'wish shit different 🤦 🏾 \\u200d ♀ ️',\n",
       " 'castro stop goddamn tweeting every goal score get it fat piece shit we get it',\n",
       " '111 dollars what the fuck why is it so expensive everything expesnive >:(',\n",
       " 'never selfish ... i also never shit ...',\n",
       " '#130weeks_with_springday spring day literally bitch',\n",
       " 'catch fucking ball i hate',\n",
       " 'literally zionist shut fuck cracker @notkatebbishop ah yes ’ seen terrible thread biggest reach ever years arms hurt lol',\n",
       " 'shit hit the fan end of issue 23 fuck',\n",
       " '’ bitch zero tweets already 10 times followers',\n",
       " 'i never think bitches actually shit',\n",
       " 'colt texting tho debbie ass annoying fuck #90daysfiancehappilyeverafter',\n",
       " \"that fat kid ain't done nothing eat hype life ... saddest shit i've ever seen\",\n",
       " 'i always assumed tag joke holy shit lol',\n",
       " 'i hate damn commercial',\n",
       " 'i hope told losers talking fuck',\n",
       " 'damn bitch i like chill ...',\n",
       " 'fuck our nazi president cronies',\n",
       " 'life dereck fucking show 😭 😭 😭',\n",
       " 'feel uncomfortable ugly niggas say sum freaky shit im calling police',\n",
       " 'bitch help last time sucked ass',\n",
       " 'fuck want fuck fill pussy cum',\n",
       " 'namjoon hot fucking reason fuck',\n",
       " 'i hope im grandpa cause bitch struggling',\n",
       " \"he's suck ass say anything depending who's paying\",\n",
       " 'what actual fuck i supposed rest 2019 like seriously 😒',\n",
       " 'bitches mad man loves cares shit you deadass got control \\U0001f974',\n",
       " \"fucking hell i'm scottish even fucking accent much that cadence shut cunt aaah\",\n",
       " 'i ’ probably gonna host wild ass fundraisers 🤣 🤷 🏾 \\u200d ♂ ️ department lol',\n",
       " 'damn ’ boyfriends treat good fuck love 😍',\n",
       " 'little bitch boy keeps getting way mario kart tour',\n",
       " 'smh i took double chin days granted shit doubled 🤦 🏻 \\u200d ♀ ️',\n",
       " 'what fuck i saying lmao',\n",
       " 'fuck bitches get swagga fuck mad hun #freemaxb',\n",
       " 'quise dogged yeezys like really kicked rocks bitches 😭 i got black ones',\n",
       " 'look ’ ’ gotta like mikey fucking assholes replying rude ass shit tweets fuck u guys',\n",
       " 'been thru enough shit know ’ none i ’ get',\n",
       " 'i swear stop supporting nigga shit start positive stuff',\n",
       " \"nope i'm tomorrow fuck stupid shit \\U0001f92c\",\n",
       " 'i ’ genuinely livestream going yard beating shit',\n",
       " 'i ’ driving cincy tomorrow fuck',\n",
       " 'niggas block half cole verse jodeci freestyle cause society would take shit seriously',\n",
       " \"i can't even fucking spell right\",\n",
       " 'i fuck harder anybody else',\n",
       " 'true im fucking sick',\n",
       " 'the fuck say',\n",
       " 'seeing konstance get attacked bird funny shit',\n",
       " 'mostly i believe converse true mean people stupid hell',\n",
       " 'combo routes fucking insane characters bananas shit',\n",
       " 'nobody cares tweet ratchet ass lol',\n",
       " 'samantha ’ main girl sex city pussy ass carrie',\n",
       " 'tony gets likes short vocabulary like ... fuck you tony',\n",
       " 'lmao worst part nigga truly ugly lmaooo bully good consent bullying like i feel pain',\n",
       " 'end smh pathetic ass team',\n",
       " 'u fucking cash 🤑 u ’ got huh',\n",
       " 'holy shit ’ kid',\n",
       " 'none gay shit round',\n",
       " 'he ’ disgrace american',\n",
       " 'may dumb ugly stupid least im',\n",
       " 'i ’ literally sick humans suck',\n",
       " '🤣 🤣 🤣 onebitches got time fuck aint 20 kids wow bitches somethin else man',\n",
       " 'but baby get twisted another nigga hit list tryna fix inner issues bad bitch',\n",
       " 'drop shit 🔥',\n",
       " 'some type color unseasoned shit',\n",
       " 'it ’ contest say ridiculous idiotic shit',\n",
       " 'wake head fuck silly work',\n",
       " \"lock bitch fix u her no babies you're stupid\",\n",
       " 'like gonna fucking child ignore i ask something',\n",
       " 'people disrespectful fuck',\n",
       " 'see money make bitch',\n",
       " 'stretch pussy luffy off white laces like lefty loosely',\n",
       " 'what fuck wrong',\n",
       " 'who fuck cunt keep nose sort shit',\n",
       " \"i'm jump fucking bridge fuck actual life what's point\",\n",
       " 'she feel sorry ugly bitch look like gay first',\n",
       " 'i still say champ cuz shit fuckin',\n",
       " 'nigga you stfu',\n",
       " 'even hospitals selling merch shit',\n",
       " 'i thought shit pico de gallo 😂 🤷 🏼 \\u200d ♀ ️',\n",
       " 'nope done fuck take garbage trash pay win disgusting i hope go bankrupt',\n",
       " 'god forget hair isnt ugly clean im stupid',\n",
       " 'the stupid prove daily',\n",
       " 'he earned starting spot season fuck',\n",
       " 'i dont wanna see shit ab jake or reggie kevin mike tara periodt this is sam and colbys day shut the fuck up',\n",
       " 'i hate damn rich people — haruhi fujioka',\n",
       " 'never underestimate beauty telling toxic people life fuck',\n",
       " 'ppl already acting shitty need someone make antisemtic fake screenshot thats nasty',\n",
       " 'i thing lowkey 👌 shit great',\n",
       " 'cis men sending 10 different angle dick pics theyre toilet ur looks like poopy',\n",
       " 'gotta ignore rumors ’ let shit sit yo mind frame 🤷 🏾 \\u200d ♀ ️',\n",
       " 'virtue signaling dumb pay price like man',\n",
       " 'what fuck wrong goddamn stomach',\n",
       " 'boys girls tiktok fucking hot wtf',\n",
       " 'it ’ hot as fuck',\n",
       " 'she got tongue like dog need water 😭 😭 lil twerk funny shit',\n",
       " 'niggas boosting rap cap niggas heads like whacc',\n",
       " 'ha they got ur ass good one 😂 😂',\n",
       " 'it ’ lot shit i wanna say better unsaid',\n",
       " 'cliffomaniacs dumb cliff huh lmao #bb21',\n",
       " 'holy shit i thought new tekken move',\n",
       " 'holding nicely ass it ’ catastrophe making stupid stupid',\n",
       " 'dudes really lose good female fuck bitch everyone already fucked 😂 💀 💀 💀',\n",
       " 'jesus gabe pull pain stick ass',\n",
       " 'the weirdest shit happened today lol ya niggas bitin frfr',\n",
       " 'i get mad easy dawg fuck game',\n",
       " 'what nigga gotta dress like cucumber get head round bitch',\n",
       " 'i would ’ whooped ass 😭 😭 lil skinny',\n",
       " \"you're full shit i smell computer screen\",\n",
       " 'fuck cuts toenails gym wtf',\n",
       " 'how u owe money block number like i ’ idiot 🤣 🤣',\n",
       " \"i'm still mad kept fucking blonde onion alive killed levi's boyfriend attack titan\",\n",
       " 'never underestimate vile humans all name “ sport ” sick excuses human beings #channel4news',\n",
       " 'i ’ honestly really nice person so fuck ’ ever taken advantage',\n",
       " 'missed quad want die already fucking kill',\n",
       " 'yo bitch crib let charge iphone',\n",
       " \"😭 😭 y'all lit rally give damn jungkook bitch bday literally 15 days away\",\n",
       " 'roses red violets blue say opinion want bitch really give single fuck',\n",
       " 'these hoes ’ shit gang i ’ fuckin postin 🤦 🏽 \\u200d ♂ ️',\n",
       " \"who's fucking bitch i ruins things time hate\",\n",
       " 'this heat make fuck somebody frfr',\n",
       " 'ok i catch feelings faster fucking blink fuck',\n",
       " 'he said “ black people could live like “ stupid vote ”',\n",
       " 'bitch tried uwu voice thing see sound i screamed that sounds so ¿ ¿ omg sounded like real anime bitch need nap',\n",
       " \"if felix puts pussy face i swear god i'm gonna fucking lose\",\n",
       " 'maybe ’ distract ’ how family drama love shit',\n",
       " 'could i still say fuck tw lve work police station tech guy 0',\n",
       " 'lmao stop letting bartend dj fuck lol',\n",
       " 'niggas got foodery jumpin ’ lol',\n",
       " 'we know want tank fuck ’ buddy',\n",
       " 'nah bruh fuck would want lgbt classes',\n",
       " 'i live in the middle of fucking desert its never winter',\n",
       " 'i thought like boogeyman yet died bitch',\n",
       " 'what fool total hypocrite these politicians shallow unbelievable',\n",
       " \"that's good niggas ain't shit fr\",\n",
       " 'go fuck corrupt piece shit seriously enemy america',\n",
       " 'hearing cody fucking laugh person',\n",
       " 'call work tomorrow bc ’ sick shit justin also called take care \\U0001f97a',\n",
       " 'patiently waiting jesus hit wit bitches like said 😂',\n",
       " \"it's stupid even problem\",\n",
       " 'shit keeping lovely goal',\n",
       " 'needs kick ass',\n",
       " 'lsu punting auburn 34 disgusting',\n",
       " 'what absolute fuck',\n",
       " 'grandpa … im trying kill dio … clap ass cheeks keeps alerting',\n",
       " \"i knew he'd fuck it 😂 😂 😂 abraham loool\",\n",
       " \"y can't y'all shut ur fuckin mouth mind business it hurt u hun eewwwzzz\",\n",
       " 'my phone malfunctioning i update got dumbest shit',\n",
       " 'play stupid games win prizes and i ’ winning time 🤦 🏻 \\u200d ♂ ️',\n",
       " 'so sick ppl komi g life feeding lies n leaving feeling shitty asf everybody kan fuck',\n",
       " 'finna act fuck upi ’ ready scorpio szn',\n",
       " 'police use guns public transport fare evasion suspects in australia police bash shit fate evaders',\n",
       " 'mark meadows fucking coward',\n",
       " 'my heart is beating so fast what the fuck',\n",
       " \"its one nigga life i say confidence i'll never meet anyone else like ass\",\n",
       " 'bitch many times i rue situation',\n",
       " 'dont sugar coat shit rather upfront direct 🤷 🏽 \\u200d ♂ ️',\n",
       " 'ever since trippie ayleks broke music went shit said 🤷 🏽 \\u200d ♀ ️',\n",
       " 'i could run outside butt ass naked since everyone ’ sleep',\n",
       " 'niggas let “ homies ” slap ass girl come anywhere near ’ sudden limits 😂 ’ funny bro',\n",
       " 'fuck arguing harvesting feelings yo id rather fuckin self',\n",
       " 'fuck since nobody awake cowboys winning the superbowl',\n",
       " \"watching hxh experience loving kite ... that's another shit went 😭 😭 😭\",\n",
       " 'swear god justin stopped breathing sleep scared shit',\n",
       " 'oh god shut fuck russiaa guy information would destroyed rich powerful men ’ lives ends dead jail cell how predictably ... russian',\n",
       " 'get shit feed',\n",
       " 'holy shit i passed bar 👊 🏼 ✨',\n",
       " 'bruh nigga lost flight 🤦 🏽 \\u200d ♂ ️ need calm trash ass',\n",
       " 'fuck 10th spartan',\n",
       " \"an idiot idiots working tariffs punish american workers that's\",\n",
       " 'bro keep us vibes luscious fuck today',\n",
       " 'yall see fed yall got bernie finna start cussin inna mindonald trump believes climate change hoax donald idiot',\n",
       " 'i shit u hate still wanna baby',\n",
       " 'he chased ass picked 😂 😂 talm bout get yo mfn house',\n",
       " 'listen smile agree whatever fuck gonna anyway',\n",
       " 'argument lost even known insults he ’ fool',\n",
       " \"mesut ozil worst midfield player team you're bullshit\",\n",
       " 'bitches “ boyfriends ” single 😂',\n",
       " 'fuck ice cream nigga 😂',\n",
       " 'until bitch put heels 😭',\n",
       " 'how shit dream work feel like i ’ even home fml',\n",
       " 'lilith was the real bad bitch he couldn ’ handle before eve ’ weak ass anyway .. 🤧',\n",
       " 'ready suck cock',\n",
       " 'i officially hate boogie cousins 🤦 🏽 \\u200d ♂ ️ nigga another dwight howard smh bum',\n",
       " \"mike francesca fucking idiot that's tweet\",\n",
       " 'walked away really wanting hit bitch ... growth',\n",
       " 'mic drop that bitch',\n",
       " 'when octavia went fighting pits flashback shit hit deep',\n",
       " 'i hate seeing friends go shit they dont deserve',\n",
       " 'b tchhh drop linkholy fucking shit i cant believe this moment is here fukkk',\n",
       " 'someone explain fuck going #supergroupdisbandparty',\n",
       " 'tj wild ass middle school ok ☠ ️ ☠ ️ ☠ ️ ppl grown asfff okkids really sex thing i fucking ugly',\n",
       " 'clearly hate want hurt us fuck',\n",
       " 'the disgraced sack shit one interviewing',\n",
       " 'oh shit 😂 🤣 stay away vino eh 🤣 🤣',\n",
       " 'what fuck',\n",
       " 'look whos bitch sagin requirements ended uo tweeting shit ya',\n",
       " '’ full shit',\n",
       " 'i fucking tossed last night almost fell bowl n broke shit',\n",
       " 'ass flat l silent 💕',\n",
       " 'girl stop posting sad shit find u another nigga',\n",
       " 'charge shit game 👏 🏽',\n",
       " 'yo ... i never liked woman ’ helping that ’ disgusting wtf',\n",
       " 'really bitch',\n",
       " 'let look give fuck',\n",
       " 'i really hate gay men drag using word f gs ... fucking ashy musty',\n",
       " \"because he's either liar stupid\",\n",
       " 'wish could fucked like',\n",
       " 'yo fucking busted yo 😭',\n",
       " 'don ’ tell shit i bought 2 bottles crap sephora \\U0001f928 😭',\n",
       " 'my girl come stay bed start rearranging shit \\U0001f92f',\n",
       " 'hudson odoi fucking trash man',\n",
       " 'gone touch bitch 🤣 👀',\n",
       " 'girls fucking rude ’ ugly',\n",
       " 'quicknessone thing .. ’ leave yo ass alone',\n",
       " 'close million streams shit crazy',\n",
       " 'these niggas bitches gay \\U0001f974 🤣',\n",
       " 'i ’ even home i swear shits fucked ’ going problems two hours last fuck 🙃',\n",
       " 'with marks face arms red shit omggg thats u knowww lmao',\n",
       " 'yeah acting stupid along i want one person rn',\n",
       " 'the fact i might die soon really fucking ...',\n",
       " 'fuck man ’ havin fun',\n",
       " 'real pika nessa bitch',\n",
       " 'fuck emojis gimme questions',\n",
       " 'call cops his ass let know keeps harassing family put stop shit ok good luck',\n",
       " 'why showing nice pics ... fuck show ass prison orange handcuffs',\n",
       " 'freak hoe bounce ass make ya knees touch elbows \\U0001f974',\n",
       " 'need shit',\n",
       " \"nctzens trying prove wrong guys fucking stupid i'm done bye\",\n",
       " 'i peep every single shady comment sub hate cause shit lies pointless info lmao',\n",
       " 'he mean 😭 girl trying 🙄 ugly ass bitches',\n",
       " 'stop saying shit phone',\n",
       " 'i ’ tolerating shit :)',\n",
       " 'listen music overthink shit',\n",
       " 'yeah realizing i fucking used it kinda sucks',\n",
       " 'need start putting first ppl ’ shit',\n",
       " 'leave panties ya bitch house give yall something figure',\n",
       " 'shut ass ethnic slur b',\n",
       " 'prick :( sorry u deal w what idiot',\n",
       " 'thumb in yo ass make you cum 🤤',\n",
       " 'idk shes ass bruh went widow got shit called start throwing',\n",
       " 'needa something lazy ass',\n",
       " 'unai emery getting last fucking nerve utter garbage line ups ffs i ’ defend cunt',\n",
       " 'my weird neighbor asked many animals live house ... idk lot fuck',\n",
       " 'shit hand gonna hurt end todayoctober 23rd national slap your annoying co-worker day',\n",
       " 'why chrome bitch phone all apps load quickly one',\n",
       " 'water damn phone ’ charge shit 2 🤦 🏾 \\u200d ♂ ️',\n",
       " 'everyone except miaya fuck fashion',\n",
       " 'fucking stupid feminist bitch go burn hell :)',\n",
       " 'anybody actually thinks aaron rodgers overrated fucking moron',\n",
       " 'don ’ believe word shit according msm racist',\n",
       " 'cause nigga forcing ball shit never goes right smh',\n",
       " 'i saw ugly bitch complaining earlier guys thanksnose piercings hot fuck',\n",
       " 'you ’ cook u clean offer ass bitch grab coat hit door cause i ’',\n",
       " 'how funny it ’ gross.school back u old ass niggas gotta wait till 3:15 see yo girl 😂',\n",
       " \"also can't deal fucking wimps say shit people 🤔\",\n",
       " 'not even things .. ’ endless shit it ’ never ending piles trash 70 dirty 30 water',\n",
       " 'bitch i need nap fuckin cuddles',\n",
       " 'bout get ass whooped cutting hair',\n",
       " 'if ever cross dat line ass get put da dirt',\n",
       " 'concert taking way long fuck taehyung bed snzzz',\n",
       " 'bouta annoying nigga possible til somebody cut bheck',\n",
       " 'how fuck foul albino twat',\n",
       " 'not knowing trust shit scary',\n",
       " 'sometimes gotta leave nigga wanna left streets everybody house hoes 🤷 🏽 \\u200d ♀ ️ ‼ ️',\n",
       " 'over hot sad girl summer ready fuck fall',\n",
       " 'u entangle yr words piece shit',\n",
       " 'sitting work bored hell thinkin bout bomb ass sex i last night \\U0001f92a',\n",
       " 'the fucking quality dude bless soul',\n",
       " 'are want suck cock boy gilr',\n",
       " 'lol bruh wanna day fuck sometimes',\n",
       " 'your worst enemy sometimes memory let shit go',\n",
       " 'oh total bitch likely slept way ever got top bottom whatever.kamala fight ideals sleep willie brown',\n",
       " 'good luck getting ass acting like',\n",
       " 'put pussy lip give fuck ab dick \\U0001f92a im real ass bitch trick shit really',\n",
       " 'i fell hell 😂 😂 😂 i really miss in-house pussy 😔 otw fuccn lying 😂 😂 😩',\n",
       " '🤣 🤣 🤣 i ’ shitty kids hugging bitch i ’ like said fuck 🤣',\n",
       " 'the stupid bitch vibes major',\n",
       " 'ain ’ better feeling able buy whatever fuck want ...',\n",
       " 'fuck girls never speak cheating boyfriend',\n",
       " 'user stop calling urself ugly makes want cry cus im ugly u bitch',\n",
       " 'oh i ’ talk shit ... \\U0001f92b',\n",
       " 'bitch i hope jihyo least gave jeongyeon gas money',\n",
       " 'he bought fucking pipeline kill ... use head',\n",
       " '’ suck cock ’ eat brown banana',\n",
       " 'can fuck back make ass bounce 🎶',\n",
       " 'tired little kid shit tf wants sit saying “ k back forth',\n",
       " 'i ’ always hated bitches like they think asshole attractive quality smh',\n",
       " \"that's sick chief\",\n",
       " 'i walk around two kids double stroller this shit dangerous',\n",
       " 'i took bitch dats cash \\U0001f92d',\n",
       " \"u escort i'd taboo like suck ya dick n spit ur spunk face ha\",\n",
       " 'everybody wanna fuck except nigga fuck 🤦 🏾 \\u200d ♂ ️',\n",
       " 'a bitch feel comfortable talking bout 🤷 🏽 \\u200d ♀ ️',\n",
       " 'hopefully work home weird fucker take artificial boner go fuck',\n",
       " 'there law stuff disgusting crap',\n",
       " 'promise get beat fuck watch',\n",
       " \"i'm kinda like total package got fucked thru shipping handling 😂 😂\",\n",
       " 'it ’ fun games till get ass buss 🤷 🏽 \\u200d ♀ ️',\n",
       " 'also pair 1 undead boyfriend dumb idiot bf',\n",
       " 'kehlani need drop new shit already 😭',\n",
       " 'wow i ’ indecisive shit',\n",
       " 'the f stand fuck yall 🖕 🏽 yea i ’ talking whoever 🤷 🏽 \\u200d ♀ ️',\n",
       " 'yo female reproductive system fucking problematic i ’ done',\n",
       " \"he's wanting raver babe fuck recently . .\",\n",
       " 'can ’ wait successful fuck',\n",
       " 'god ’ idiot',\n",
       " 'kinda surprised ’ sexually-transmitted infections specifically make horny wanna fuck spread',\n",
       " 'same djdkjd like r u scared bitch ’ clown',\n",
       " 'told fuck anyone wanna bet',\n",
       " 'what the fuck omg im shakeing and crying',\n",
       " 'how figure dc scared figth bones that man isnt afraid fight anyone what dumb shit comment',\n",
       " 'brain refuses give shit night exam',\n",
       " 'one nigga fuck rest 😂 🤷 🏾 \\u200d ♀ ️ ☺ ️',\n",
       " 'guys know shit cars trucks i fix anything hot af',\n",
       " 'he ’ piece fucking shit i ’ sad got ran bulldozer',\n",
       " \"oh shit i forgot cap's shield severed half thanos giant double sided sword\",\n",
       " 'track ecstacy holy fuckin shit',\n",
       " 'apparently knickers eating arse ffs brain bring it the fuck on',\n",
       " 'bitches cry go look mirror laugh crazy fuck',\n",
       " 'i ’ letting nobody fuck senior year go lives',\n",
       " 'mane know sex trafficker ’ kill jail i hate country trynna play us fool',\n",
       " 'i fucking faded last night',\n",
       " 'shut fuck i share birthday jeffrey star yes bitch',\n",
       " '“ ooooh yeah i love seeing face fuck brains public ”',\n",
       " 'you post pics time what fuck ass why even care move along dipshit',\n",
       " 'i swear bitch tweet “ boyfriend ” get cheated',\n",
       " 'fuck everything person stole phone cash app letting log get fucking money instagram',\n",
       " 'what fuck wrong',\n",
       " 'shows fucked sad religious bigots',\n",
       " 'it ’ always ugly bitches talking shit lmao',\n",
       " 'i got big ass heart man hate ☹ ️',\n",
       " \"i dislike bernie he's piece shit con artist used progressive causes get rich\",\n",
       " 'got dead heart cool kids going hungry shitty parents fuck',\n",
       " 'stupid ass company messed literally every aspect order',\n",
       " 'i kicked shit',\n",
       " 'i want fez tell shut fuck',\n",
       " 'lol beat lil ass kid idek street fighter ’ crying lol pussy',\n",
       " 'fuck it i ’ getting impossible whopper for dinner',\n",
       " 'waste fucking time',\n",
       " 'i miss feeling remotely human like ignorant little idiot standing unsuspecting rest world',\n",
       " 'fuck wetv that ending ... #loveafterlockup #lifeafterlockup',\n",
       " 'spewing shit i see assholes',\n",
       " 'she shines world full piss shit',\n",
       " 'dream mans ’ buff ugly shit',\n",
       " 'if idiot would ever throw anything damn sliders',\n",
       " 'my sister hoe ass never answer phone',\n",
       " 'that gromp one sick',\n",
       " 'loved screaming shit 🤗',\n",
       " 'bruh i got called chulo lunch truck lady hooked free plate ceviche fuck yeah lol',\n",
       " 'wtf 💀 ’ made name shit',\n",
       " 'ooooh shit i expect certain thing happen oooh thats tea',\n",
       " 'i could really sit back laugh shit mane 😂 😂',\n",
       " 'fuck',\n",
       " 'wait where the fuck did these come from',\n",
       " '2 2 knowing fuck bitch',\n",
       " 'shit weird pls even talk edm',\n",
       " 'feed ass chickens',\n",
       " 'asmr mspa reader beats the shit out of jane for dividing everyone in homestuck epilogues',\n",
       " 'this fucking dumb lol',\n",
       " 'i shit thick nobody shit',\n",
       " \"here's hoping corban joseph saves offense fucking pathetic\",\n",
       " 'post ass lies',\n",
       " 'know fall asleep im gonna wake hit really coming home shit sleep k',\n",
       " 'bitch cries tries commit suicide catch u cheating cheats back',\n",
       " 'girl 😂 😂 😂 please leave shit alone u fuck around rob house 😂 😂 😂',\n",
       " 'i feel so attacked what the actual fuck bts',\n",
       " 'he fowl mouth ass give bar soap',\n",
       " \"holy fuck there's mass shooting mississippi talking debate who's producing shit\",\n",
       " 'got piece food stuck wire glued bottom teeth fuck god every religion',\n",
       " 'started drugs mental breakdown shit',\n",
       " 'ladies just because he got his cdl don ’ mean you hit fucking jackpot lot lizards getting some of that paper too',\n",
       " '2019 drummond still bitch',\n",
       " 'these factsi stay ass house .. pop every it much going got shit lose 🙌 🏽',\n",
       " 'damn bitches go buy damn fit like tf 🤦 🏾 \\u200d ♀ ️',\n",
       " 'when people filled much envy ’ resist shut fuck 🙃 🙃',\n",
       " 'he ’ white ... fuck happening twitter',\n",
       " 'i fucking .. bitch love social media shit much 💯',\n",
       " 'that trustin shit ’ cuz',\n",
       " 'i hope someone beats ever living shit',\n",
       " \"why keep seeing shit feed i'm following delusional woman\",\n",
       " 'act like ass',\n",
       " 'like making plans shit college happen prob im broke fuck tryna live life',\n",
       " 'there shit went death nugget … janelle thought ratted',\n",
       " 'what actual fuck happened',\n",
       " 'i wanna date e boy break heart fuck shit leave 😔',\n",
       " 'i wanna fuck coworker bad lmao nothing wrong fucker always touching sings full fuckin name 😂',\n",
       " 'oh god shit talking much fun team good lets go nats baby',\n",
       " 'but semangat tho hope kick skripsi ass',\n",
       " 'lmfao what in the fuck',\n",
       " 'sleep wit jeans im tired shit',\n",
       " 'yep music absolutely sucks',\n",
       " \"good nestle except they're still bag shit ...\",\n",
       " 'shut the fuck oooff',\n",
       " 'dayana throwing clingy shit',\n",
       " 'fr need stop listening much midwest emo shit makes sad mumble rap cures',\n",
       " 'okay fuck l ’ subtweet accident',\n",
       " 'bro hotboxing never moves kind crackhead shit',\n",
       " 'talk big dick energy this chick bad ass gets',\n",
       " 'show pussy bitch dat ’ still 🤣',\n",
       " 'lack sex causes depression ... ’ fucking depressed rn 💀',\n",
       " 'ctfuuu funny menot lettin female take plastic dick talk crazy 😂 got fucked better smd eat kids',\n",
       " '📈 shit grab fork bout eat bro rs stay consistent',\n",
       " 'thats fucking problem',\n",
       " 'how was i this stupid didnt look at the fucking name',\n",
       " 'niggas biggest dick riders earth 😭 😭 😭 ahh man shit weird ’ tho',\n",
       " 'got mindset “ fuck ’ great story tell one day ” and i dumb shit 24/7',\n",
       " 'people really undercover pressure 💀 shit make look stupid 😂',\n",
       " 'let hear one rumor raggedy ass complex somebody getting hurt periodt ...',\n",
       " 'what hell white claw',\n",
       " \"you're young certain stupid shit\",\n",
       " '’ good wit pretending shit',\n",
       " 'i love i ’ played 11 games bo4 tonight lost every single game shit teammates super sweaty ass bitches',\n",
       " 'i ’ fucking proud fuck everyone lmao',\n",
       " 'y ’ dumb ass fans dallas',\n",
       " 'hope graphics man holy shit',\n",
       " 'get ass flattened',\n",
       " 'it ’ even soft 😭 shit lame disrespectful',\n",
       " 'why nairo mr r playing top 256 da fuck',\n",
       " 'crazy call em homie try make look bad trash ass friends',\n",
       " 'got dick ride shit like camaro',\n",
       " 'robot fucking trashhh',\n",
       " 'fuck nicki album hard all fake ass got yo panties bunch',\n",
       " 'i hope junk food goes straight ass',\n",
       " 'she fucking proud stupid',\n",
       " 'why u bitch know shit who took ya nigga bitch',\n",
       " 'aging gracefully fucking sexy',\n",
       " 'somebody said 👏 to shut celebrities ’ hypocritical mouths',\n",
       " 'i mean tbh know 100 people cooked shit drop emailed cancel we pretty much outed selfs',\n",
       " 'democrats racists .. jim crow slavery kkk nothings changed .. shit hole party belong',\n",
       " 'bitch dont make me put my wig in a rubber band slap down what the fuck shit yall hoes better tighten up',\n",
       " 'voted 2020 elections she disgusting person full hatred',\n",
       " 'oh bitch quit subtweeting ’ worth',\n",
       " 'oh shit dont want stream u cant join',\n",
       " 'white gyils gassing ass 😭',\n",
       " 'i stuck trying figure bum ass niggas still getting bitches',\n",
       " 'why ’ still letting friends go public thick ass dark eyebrows 🤔',\n",
       " 'seth i walked downstairs say goodnight hit dabs mama goes “ oh fuck guys toasted ” 🤣 🤣',\n",
       " 'all shows recorded i delete shit',\n",
       " 'terry fucking maniac never boring fight',\n",
       " 'delete paragraph go sleep ’ gon read shit 🤦 🏽 \\u200d ♀ ️',\n",
       " 'that ’ i fucked bitch fat motherfucker',\n",
       " 'girl fuck get smacked \\U0001f974 🗣',\n",
       " 'believe ... fuck anybody thinks',\n",
       " 'bout trippin ass',\n",
       " 'are letting bitches bitch yes no',\n",
       " 'my baby ass still shit 😂 😂 😂 sleep goodwhy kids cry wake just tf fuck u crying 😭 😩',\n",
       " 'just watch lnp fuck',\n",
       " 'yall think anybody shit together acting rich ur poor dude shut',\n",
       " 'lucci dating 19 year old acting shocked annoying fuck',\n",
       " 'damn bro sucks see guys fall short keep head dawg',\n",
       " 'i wanna suck sum dick 🤤 💦',\n",
       " '’ crying past 2 hours straight bitch',\n",
       " 'lebron james better use inside voice i put ass outside',\n",
       " '“ u gon ruin shit bitch ’ gone inevitably forget u ha .. ya look good doe ” real say',\n",
       " 'fuck sex i wanna make her forget all of those dark days she had 🤞 🏽 💙',\n",
       " 'asshole tomooo hip tje fucking need ass man 3',\n",
       " 'im chillin baby boy moms bitch needs learn watch mouth lmao',\n",
       " 'african parents steady acting like ’ fuck birth us',\n",
       " 'what fuck wrong',\n",
       " 'aw fuck double arcarum tickets means actually need waste mine lmao oops',\n",
       " 'funny times ’ literally say racist shit still somehow considered racist',\n",
       " '’ ugly fuck wonder get bitches',\n",
       " 'cum whole face fuck make',\n",
       " 'mfs always wanna fun shit gotta go work lol',\n",
       " \"new vegas stupid run i'm excited run outer worlds person\",\n",
       " 'literally fuck id ’ wedding fuck',\n",
       " \"absolutely nobody me i'm shit\",\n",
       " 'i ’ calling fucking cops',\n",
       " 'y ’ letting niggas make ’ cry tuh stab bitch ass',\n",
       " 'i let shit bothers bug doesnt later',\n",
       " 'diddy datin son ex ’ still think ’ set biggie kill kim ... nigga monster',\n",
       " 'i understand indeed fucking idiot',\n",
       " 'hello use toilet paper wipe ass unfollow rn nasty',\n",
       " 'i really wanna reach thru phone slap bitch',\n",
       " 'i ’ read yo mind gotta say shit',\n",
       " 'lmaooo pass sex fine.fuck sex i wanna make nigga forget dark days .. 😩 \\U0001f97a',\n",
       " 'nothing makes uncomfortable walking night owl ’ packed fuck',\n",
       " 'but u see one girl getting fuck wit cucumber 🥒 doe 🤦 🏾 \\u200d ♂ ️ smhthese bitches sucking cucumbers camera might well suck dick 🤷 🏾 \\u200d ♂ ️',\n",
       " 'harvinth fucking funny ahhh',\n",
       " 'hey lindsey kiss ass graham shut f #lindseykisstrumpsassgraham',\n",
       " 'i said “ fk health ” allegedly fair eating nachos ice cream every time work oh alright 🙄 ppl full shit',\n",
       " \"they never gone hear tho feel blessedi sent javah literal toyota car engine beat nigga freestyled even 10 minutes later he's fucking god\",\n",
       " 'how fuck pornstar made 12,000 ... 😂 🤦 🏾 \\u200d ♂ ️',\n",
       " 'need calm fuck bro',\n",
       " '— i said “ fuck meant',\n",
       " \"or i'll continue saying whatever fuck i want meltdown\",\n",
       " 'cowards cowards i ’ rather die newquay old people ’ home shit hole town',\n",
       " 'bitch nails ugly fuck better laugh see em 💀',\n",
       " 'fuck nra gop dark money guns thoughts prayers',\n",
       " 'ok reply message instead posting shit like',\n",
       " 'procura janela mais próxima throw whole bitch away',\n",
       " \"that's ugly\",\n",
       " \"i wish cool name like orion ... that's dope ass\",\n",
       " '’ piece shit omg',\n",
       " 'sometimes wanna kids times shit looks awful',\n",
       " 'damm i ’ want game anymore shit calling like crazy lately .. really gotta get cod whoop ’ ass fr',\n",
       " 'tweet gone cause shit ’ truth i ’ feeling like 🤷 \\u200d ♀ ️',\n",
       " \"give 5 minutes alone justin trudeau i'll fuck like he's fucked country\",\n",
       " 'yall ever fuck girl think damn lazy tf fucking cause refuckingtweet',\n",
       " 'this absolutely disgusting shame pathetic',\n",
       " 'take shit heart cause id never like',\n",
       " 'felt shit 2my soul ☠ ️ bitches like love ur aura \\U0001f9d6 🏾 \\u200d ♂ ️ okay u gon suck nah 😂 😂',\n",
       " '😂 😂 😂 what big fuck',\n",
       " 'i ’ say ... fuck going republicans @vplus very human reaction — people ludicrous',\n",
       " 'who fuck',\n",
       " 'ah shit la hate reacted jn',\n",
       " 'he needs get damn table sit fuck shut trap',\n",
       " 'that nigga ab saying dumbest shit 😂 😂 😂 ’ ’ mans tho ..',\n",
       " 'what actual fuck',\n",
       " 'what hell happened',\n",
       " 'why bitches mad ’ nothing like 😩',\n",
       " 'even though i went straight last night fun aint ever shit',\n",
       " 'yeah always sucks next weekend im going long beach island whatever wherever fuck lol',\n",
       " 'like infamously stupid comments make think relevant sit shut fuck',\n",
       " 'fuck phone take forever back smh',\n",
       " 'why i still waiting stupid reply never fucking get',\n",
       " 'my son getting home school i let go get taught gay idc shit dead',\n",
       " 'really milking shit ya ...',\n",
       " 'i sport pe degree say fuck snowflake blerts',\n",
       " 'yes i ’ weird fuck also dedicated shit focused times which important 💯',\n",
       " 'man im trynna tell yall listen ynw bslime slime dreams shit fire cuz young dont mean 😂',\n",
       " 'if elfrid payton still stupid fuckin haircut i ’ able forgive dumb fouls much easier',\n",
       " 'nigga got 300 likes quoting tweet i ’ abt delete shit 😪',\n",
       " 'iggy really only white mainstream female rapper .. tell bitch ’ got power',\n",
       " 'tierra whack comfortably making worst music ever rn fucking hell',\n",
       " 'normally ’ spread hate besides fuck dan schneider',\n",
       " 'gallavich in the new intro fuck yeah',\n",
       " 'q da fool said hundreds pockets hundred rockets bitch know ’ walking dead i got niggas watching',\n",
       " 'i gotta finish buying shit school start packing',\n",
       " 'niggas swear nobody ’ supporting whole time shit trash sorry ’ tryna yes men',\n",
       " 'bitch bottle us one really killed shit \\U0001f974',\n",
       " 'i mad hell block ass 😭',\n",
       " 'beo whqt the fuck',\n",
       " 'y ’ weirdos like 😭 hoes really would go follow yo nigga post name girl ima beat',\n",
       " 'my mood ruined fuck',\n",
       " 'i hate liars shit annoying asf 😭',\n",
       " 'dragged ass every corner 😭 😭 😂 😂 😂',\n",
       " 'i hate big cousin call “ lil cousin ” wanna say bitch i ’ big cousin',\n",
       " ...]"
      ]
     },
     "execution_count": 15,
     "metadata": {
      "tags": []
     },
     "output_type": "execute_result"
    }
   ],
   "source": [
    "preprocessedTweets"
   ]
  },
  {
   "cell_type": "code",
   "execution_count": 0,
   "metadata": {
    "colab": {},
    "colab_type": "code",
    "id": "KqqgNBoZVZ4T"
   },
   "outputs": [],
   "source": [
    "# Import the dependencies\n",
    "from keras.models import Sequential\n",
    "from keras.layers import Dense, LSTM,SpatialDropout1D\n",
    "from keras.layers.embeddings import Embedding\n",
    "from keras.preprocessing import sequence"
   ]
  },
  {
   "cell_type": "code",
   "execution_count": 0,
   "metadata": {
    "colab": {},
    "colab_type": "code",
    "id": "q2yqhPfvMZl9"
   },
   "outputs": [],
   "source": [
    "MAX_NB_WORDS = 60000\n",
    "MAX_SEQUENCE_LENGTH = 512\n",
    "EMBEDDING_DIM = 128"
   ]
  },
  {
   "cell_type": "code",
   "execution_count": 0,
   "metadata": {
    "colab": {},
    "colab_type": "code",
    "id": "feSFvbmRXnW6"
   },
   "outputs": [],
   "source": [
    "from keras.preprocessing.text import Tokenizer\n",
    "from keras.preprocessing.sequence import pad_sequences"
   ]
  },
  {
   "cell_type": "code",
   "execution_count": 0,
   "metadata": {
    "colab": {
     "base_uri": "https://localhost:8080/",
     "height": 34
    },
    "colab_type": "code",
    "id": "8bdNZ9tPMcZ_",
    "outputId": "50c8b19b-237d-416b-ecc1-367de296664a"
   },
   "outputs": [
    {
     "name": "stdout",
     "output_type": "stream",
     "text": [
      "Found 60150 unique tokens.\n"
     ]
    }
   ],
   "source": [
    "tokenizer = Tokenizer(num_words=MAX_NB_WORDS, filters='!\"#$%&()*+,-./:;<=>?@[\\]^_`{|}~', lower=True)\n",
    "tokenizer.fit_on_texts(preprocessedTweets)\n",
    "word_index = tokenizer.word_index\n",
    "print('Found %s unique tokens.' % len(word_index))\n"
   ]
  },
  {
   "cell_type": "code",
   "execution_count": 0,
   "metadata": {
    "colab": {
     "base_uri": "https://localhost:8080/",
     "height": 34
    },
    "colab_type": "code",
    "id": "re7GhV2iXla8",
    "outputId": "e001fd77-0342-40b3-f0a8-647e3b4acf07"
   },
   "outputs": [
    {
     "name": "stdout",
     "output_type": "stream",
     "text": [
      "Shape of data tensor: (188973, 512)\n"
     ]
    }
   ],
   "source": [
    "X = tokenizer.texts_to_sequences(preprocessedTweets)\n",
    "X = pad_sequences(X, maxlen=MAX_SEQUENCE_LENGTH)\n",
    "print('Shape of data tensor:', X.shape)"
   ]
  },
  {
   "cell_type": "code",
   "execution_count": 0,
   "metadata": {
    "colab": {
     "base_uri": "https://localhost:8080/",
     "height": 34
    },
    "colab_type": "code",
    "id": "tpAhwpbMX5L-",
    "outputId": "b06292e5-1ed9-466a-f6f1-dec6b0c72136"
   },
   "outputs": [
    {
     "data": {
      "text/plain": [
       "(188973, 3)"
      ]
     },
     "execution_count": 27,
     "metadata": {
      "tags": []
     },
     "output_type": "execute_result"
    }
   ],
   "source": [
    "y.shape"
   ]
  },
  {
   "cell_type": "code",
   "execution_count": 0,
   "metadata": {
    "colab": {},
    "colab_type": "code",
    "id": "hDZls1NcYdny"
   },
   "outputs": [],
   "source": [
    "x_train=X\n",
    "y_train=y"
   ]
  },
  {
   "cell_type": "code",
   "execution_count": 0,
   "metadata": {
    "colab": {},
    "colab_type": "code",
    "id": "ZPiDs7spYrvI"
   },
   "outputs": [],
   "source": [
    "\n",
    "#GET THE DATA FROM THE PANDAS FRAME\n",
    "headers=['id','tweet','subtask_a','subtask_b','subtask_c']\n",
    "englishdata = pd.read_csv(\"/content/drive/My Drive/EnglishData/OLIDv1.0/olid-training-v1.0.tsv\", delimiter='\\t',names=headers,low_memory=False)\n",
    "englishdata=englishdata[['id','tweet','subtask_c']]\n",
    "englishdata=englishdata[1:]"
   ]
  },
  {
   "cell_type": "code",
   "execution_count": 0,
   "metadata": {
    "colab": {},
    "colab_type": "code",
    "id": "xbrjgENsY0o8"
   },
   "outputs": [],
   "source": [
    "englishdata = englishdata.dropna(subset=['subtask_c'])"
   ]
  },
  {
   "cell_type": "code",
   "execution_count": 0,
   "metadata": {
    "colab": {
     "base_uri": "https://localhost:8080/",
     "height": 206
    },
    "colab_type": "code",
    "id": "kqyEoGaqZAzU",
    "outputId": "4c5dc2dc-9e25-46fa-8523-fac4d9344556"
   },
   "outputs": [
    {
     "data": {
      "text/html": [
       "<div>\n",
       "<style scoped>\n",
       "    .dataframe tbody tr th:only-of-type {\n",
       "        vertical-align: middle;\n",
       "    }\n",
       "\n",
       "    .dataframe tbody tr th {\n",
       "        vertical-align: top;\n",
       "    }\n",
       "\n",
       "    .dataframe thead th {\n",
       "        text-align: right;\n",
       "    }\n",
       "</style>\n",
       "<table border=\"1\" class=\"dataframe\">\n",
       "  <thead>\n",
       "    <tr style=\"text-align: right;\">\n",
       "      <th></th>\n",
       "      <th>id</th>\n",
       "      <th>tweet</th>\n",
       "      <th>subtask_c</th>\n",
       "    </tr>\n",
       "  </thead>\n",
       "  <tbody>\n",
       "    <tr>\n",
       "      <th>2</th>\n",
       "      <td>90194</td>\n",
       "      <td>@USER @USER Go home you’re drunk!!! @USER #MAG...</td>\n",
       "      <td>IND</td>\n",
       "    </tr>\n",
       "    <tr>\n",
       "      <th>6</th>\n",
       "      <td>97670</td>\n",
       "      <td>@USER Liberals are all Kookoo !!!</td>\n",
       "      <td>OTH</td>\n",
       "    </tr>\n",
       "    <tr>\n",
       "      <th>8</th>\n",
       "      <td>52415</td>\n",
       "      <td>@USER was literally just talking about this lo...</td>\n",
       "      <td>GRP</td>\n",
       "    </tr>\n",
       "    <tr>\n",
       "      <th>10</th>\n",
       "      <td>13384</td>\n",
       "      <td>@USER Canada doesn’t need another CUCK! We alr...</td>\n",
       "      <td>IND</td>\n",
       "    </tr>\n",
       "    <tr>\n",
       "      <th>13</th>\n",
       "      <td>28414</td>\n",
       "      <td>@USER you are a lying corrupt traitor!!! Nobod...</td>\n",
       "      <td>IND</td>\n",
       "    </tr>\n",
       "  </tbody>\n",
       "</table>\n",
       "</div>"
      ],
      "text/plain": [
       "       id                                              tweet subtask_c\n",
       "2   90194  @USER @USER Go home you’re drunk!!! @USER #MAG...       IND\n",
       "6   97670                  @USER Liberals are all Kookoo !!!       OTH\n",
       "8   52415  @USER was literally just talking about this lo...       GRP\n",
       "10  13384  @USER Canada doesn’t need another CUCK! We alr...       IND\n",
       "13  28414  @USER you are a lying corrupt traitor!!! Nobod...       IND"
      ]
     },
     "execution_count": 32,
     "metadata": {
      "tags": []
     },
     "output_type": "execute_result"
    }
   ],
   "source": [
    "englishdata.head()"
   ]
  },
  {
   "cell_type": "code",
   "execution_count": 0,
   "metadata": {
    "colab": {},
    "colab_type": "code",
    "id": "3XAi1jQ-ZjRQ"
   },
   "outputs": [],
   "source": [
    "import tensorflow as tf"
   ]
  },
  {
   "cell_type": "code",
   "execution_count": 0,
   "metadata": {
    "colab": {},
    "colab_type": "code",
    "id": "kSeWOamBfR_s"
   },
   "outputs": [],
   "source": [
    "dfnumpy=englishdata.to_numpy()\n",
    "x_test=dfnumpy[:, 1].reshape(-1, 1)\n",
    "y_test=dfnumpy[:, 2].reshape(-1, 1)"
   ]
  },
  {
   "cell_type": "code",
   "execution_count": 0,
   "metadata": {
    "colab": {
     "base_uri": "https://localhost:8080/",
     "height": 139
    },
    "colab_type": "code",
    "id": "ZNQoqRTDftGd",
    "outputId": "bf34f1c1-66b0-4648-b7ae-54cb2f999a4a"
   },
   "outputs": [
    {
     "data": {
      "text/plain": [
       "array([['IND'],\n",
       "       ['OTH'],\n",
       "       ['GRP'],\n",
       "       ...,\n",
       "       ['GRP'],\n",
       "       ['IND'],\n",
       "       ['OTH']], dtype=object)"
      ]
     },
     "execution_count": 35,
     "metadata": {
      "tags": []
     },
     "output_type": "execute_result"
    }
   ],
   "source": [
    "y_test"
   ]
  },
  {
   "cell_type": "code",
   "execution_count": 0,
   "metadata": {
    "colab": {
     "base_uri": "https://localhost:8080/",
     "height": 34
    },
    "colab_type": "code",
    "id": "qy4yoE9-gVmS",
    "outputId": "777ad896-3cd8-47fe-dc77-b642134533c3"
   },
   "outputs": [
    {
     "data": {
      "text/plain": [
       "array(['IND', 'OTH', 'GRP', ..., 'GRP', 'IND', 'OTH'], dtype=object)"
      ]
     },
     "execution_count": 36,
     "metadata": {
      "tags": []
     },
     "output_type": "execute_result"
    }
   ],
   "source": [
    "y_test.flatten()"
   ]
  },
  {
   "cell_type": "code",
   "execution_count": 0,
   "metadata": {
    "colab": {},
    "colab_type": "code",
    "id": "AnDnO3srfElI"
   },
   "outputs": [],
   "source": [
    "from sklearn.metrics import f1_score\n",
    "from sklearn.metrics import accuracy_score\n",
    "\n",
    "def f1_calc(predictions,labels):\n",
    "  #rowwise return the index of the max element ie 0 or 1 depending on the maximum value returned\n",
    "  predictionArgmax=np.argmax(predictions,axis=1).to('cpu').numpy().flatten()\n",
    "  labelsFlattend=np.argmax(predictions,axis=1).to('cpu').numpy().flatten()\n",
    "  print(predictions)\n",
    "  print(\"Predictions Argmax\",predictionArgmax)\n",
    "  print(\"labels Flattened\",labelsFlattend)   \n",
    "  return f1_score(labelsFlattend, predictionArgmax, average='macro')"
   ]
  },
  {
   "cell_type": "code",
   "execution_count": 0,
   "metadata": {
    "colab": {
     "base_uri": "https://localhost:8080/",
     "height": 34
    },
    "colab_type": "code",
    "id": "9pnpWHzpf5av",
    "outputId": "7901bbb2-cf9c-4b1b-a963-d4db5bcc4870"
   },
   "outputs": [
    {
     "data": {
      "text/plain": [
       "3876"
      ]
     },
     "execution_count": 38,
     "metadata": {
      "tags": []
     },
     "output_type": "execute_result"
    }
   ],
   "source": [
    "len(y_test)"
   ]
  },
  {
   "cell_type": "code",
   "execution_count": 41,
   "metadata": {
    "colab": {
     "base_uri": "https://localhost:8080/",
     "height": 139
    },
    "colab_type": "code",
    "id": "EPmR_vZuZHrg",
    "outputId": "ceeae380-05ea-4d9c-b553-baf75df85bb1"
   },
   "outputs": [
    {
     "name": "stdout",
     "output_type": "stream",
     "text": [
      "Train on 170075 samples, validate on 18898 samples\n",
      "Epoch 1/3\n",
      "170075/170075 [==============================] - 3521s 21ms/step - loss: 1.0363 - acc: 0.8656 - val_loss: 1.0306 - val_acc: 0.8723\n",
      "Epoch 2/3\n",
      "170075/170075 [==============================] - 3524s 21ms/step - loss: 1.0277 - acc: 0.8806 - val_loss: 1.0298 - val_acc: 0.8746\n",
      "Epoch 3/3\n",
      "170075/170075 [==============================] - 3522s 21ms/step - loss: 1.0248 - acc: 0.8887 - val_loss: 1.0302 - val_acc: 0.8742\n"
     ]
    }
   ],
   "source": [
    "model = Sequential()\n",
    "model.add(Embedding(MAX_NB_WORDS, EMBEDDING_DIM, input_length=x_train.shape[1]))\n",
    "model.add(SpatialDropout1D(0.2))\n",
    "model.add(LSTM(128, dropout=0.2, recurrent_dropout=0.2))\n",
    "model.add(Dense(3, activation='softmax'))\n",
    "model.compile(loss='categorical_crossentropy', optimizer='adam', metrics=['accuracy'])\n",
    "\n",
    "epochs = 3\n",
    "batch_size = 64\n",
    "\n",
    "history = model.fit(x_train, y_train, epochs=epochs, batch_size=batch_size,validation_split=0.1)"
   ]
  },
  {
   "cell_type": "code",
   "execution_count": 0,
   "metadata": {
    "colab": {},
    "colab_type": "code",
    "id": "xE6PtYcwmSvC"
   },
   "outputs": [],
   "source": [
    "\n",
    "# serialize model to JSON\n",
    "model_json = model.to_json()\n",
    "with open(\"model.json\", \"w\") as json_file:\n",
    "    json_file.write(model_json)\n",
    "# serialize weights to HDF5\n",
    "model.save_weights(\"/content/drive/My Drive/EnglishData/SubtaskCEnglishDatafinalepoch3512.h5\")"
   ]
  },
  {
   "cell_type": "code",
   "execution_count": 43,
   "metadata": {
    "colab": {
     "base_uri": "https://localhost:8080/",
     "height": 176
    },
    "colab_type": "code",
    "id": "yObShLEjikHD",
    "outputId": "e618dd93-b2e1-4036-e8df-a2481ab0c795"
   },
   "outputs": [
    {
     "data": {
      "text/plain": [
       "array([['@USER @USER Go home you’re drunk!!! @USER #MAGA #Trump2020 👊🇺🇸👊 URL'],\n",
       "       ['@USER Liberals are all Kookoo !!!'],\n",
       "       ['@USER was literally just talking about this lol all mass shootings like that have been set ups. it’s propaganda used to divide us on major issues like gun control and terrorism'],\n",
       "       ...,\n",
       "       ['@USER @USER @USER @USER Liars like the Antifa twins you vigorously defend?'],\n",
       "       ['@USER Sometimes I get strong vibes from people and this man’s vibe is tens of millions of murders - he is more dangerous than DT.'],\n",
       "       [\"@USER And why report this garbage.  We don't give a crap.\"]],\n",
       "      dtype=object)"
      ]
     },
     "execution_count": 43,
     "metadata": {
      "tags": []
     },
     "output_type": "execute_result"
    }
   ],
   "source": [
    "x_test"
   ]
  },
  {
   "cell_type": "code",
   "execution_count": 0,
   "metadata": {
    "colab": {},
    "colab_type": "code",
    "id": "MyWlozOEivho"
   },
   "outputs": [],
   "source": [
    "preprocessedTweets1=preprocessinglib(x_test[:,0])"
   ]
  },
  {
   "cell_type": "code",
   "execution_count": 45,
   "metadata": {
    "colab": {
     "base_uri": "https://localhost:8080/",
     "height": 34
    },
    "colab_type": "code",
    "id": "tloiaAJEf4Ix",
    "outputId": "1cceffbb-8c0c-4fb1-9955-22797b735f51"
   },
   "outputs": [
    {
     "name": "stdout",
     "output_type": "stream",
     "text": [
      "Shape of data tensor: (3876, 512)\n"
     ]
    }
   ],
   "source": [
    "X_1 = tokenizer.texts_to_sequences(preprocessedTweets1)\n",
    "X_test = pad_sequences(X_1, maxlen=MAX_SEQUENCE_LENGTH)\n",
    "print('Shape of data tensor:', X_test.shape)"
   ]
  },
  {
   "cell_type": "code",
   "execution_count": 0,
   "metadata": {
    "colab": {},
    "colab_type": "code",
    "id": "BtgkOJEs-oNh"
   },
   "outputs": [],
   "source": [
    "def giveLabel2(y1):\n",
    "  i=0\n",
    "  largest_index=0\n",
    "  #label1=['IND','GRP','OTH']\n",
    "  ylabels=[]\n",
    "  for r in y1:\n",
    "    if (r==\"IND\"): \n",
    "        largest_index = 0 \n",
    "    elif (r==\"GRP\"):\n",
    "        largest_index = 1 \n",
    "    else: \n",
    "        largest_index = 2 \n",
    "    \n",
    "    ylabels.append(largest_index)\n",
    "    i=i+1;\n",
    "  return ylabels"
   ]
  },
  {
   "cell_type": "code",
   "execution_count": 0,
   "metadata": {
    "colab": {},
    "colab_type": "code",
    "id": "E4t9tiul-09y"
   },
   "outputs": [],
   "source": [
    "yz=giveLabel2(y_test)"
   ]
  },
  {
   "cell_type": "code",
   "execution_count": 48,
   "metadata": {
    "colab": {
     "base_uri": "https://localhost:8080/",
     "height": 34
    },
    "colab_type": "code",
    "id": "dJ2avTzU-_6g",
    "outputId": "a24e6807-ae02-47e2-abba-e96340cc26c1"
   },
   "outputs": [
    {
     "data": {
      "text/plain": [
       "{0, 1, 2}"
      ]
     },
     "execution_count": 48,
     "metadata": {
      "tags": []
     },
     "output_type": "execute_result"
    }
   ],
   "source": [
    "set(yz)"
   ]
  },
  {
   "cell_type": "code",
   "execution_count": 0,
   "metadata": {
    "colab": {},
    "colab_type": "code",
    "id": "VLoYQpvi94Nx"
   },
   "outputs": [],
   "source": [
    "# encode class values as integers\n",
    "encoder = LabelEncoder()\n",
    "encoder.fit(yz)\n",
    "encoded_Y = encoder.transform(yz)\n",
    "# convert integers to dummy variables (i.e. one hot encoded)\n",
    "dummy_y = np_utils.to_categorical(encoded_Y)"
   ]
  },
  {
   "cell_type": "code",
   "execution_count": 50,
   "metadata": {
    "colab": {
     "base_uri": "https://localhost:8080/",
     "height": 139
    },
    "colab_type": "code",
    "id": "hprtjamF-_Q3",
    "outputId": "17194f0b-a227-4232-8d3f-5c8a88fa623d"
   },
   "outputs": [
    {
     "data": {
      "text/plain": [
       "array([[1., 0., 0.],\n",
       "       [0., 0., 1.],\n",
       "       [0., 1., 0.],\n",
       "       ...,\n",
       "       [0., 1., 0.],\n",
       "       [1., 0., 0.],\n",
       "       [0., 0., 1.]], dtype=float32)"
      ]
     },
     "execution_count": 50,
     "metadata": {
      "tags": []
     },
     "output_type": "execute_result"
    }
   ],
   "source": [
    "dummy_y"
   ]
  },
  {
   "cell_type": "code",
   "execution_count": 51,
   "metadata": {
    "colab": {
     "base_uri": "https://localhost:8080/",
     "height": 69
    },
    "colab_type": "code",
    "id": "om4bW22TCBAX",
    "outputId": "37092705-678a-43f4-bd74-80f189170550"
   },
   "outputs": [
    {
     "name": "stdout",
     "output_type": "stream",
     "text": [
      "Requirement already satisfied: h5py in /usr/local/lib/python3.6/dist-packages (2.8.0)\n",
      "Requirement already satisfied: six in /usr/local/lib/python3.6/dist-packages (from h5py) (1.12.0)\n",
      "Requirement already satisfied: numpy>=1.7 in /usr/local/lib/python3.6/dist-packages (from h5py) (1.17.5)\n"
     ]
    }
   ],
   "source": [
    "pip install h5py"
   ]
  },
  {
   "cell_type": "code",
   "execution_count": 52,
   "metadata": {
    "colab": {
     "base_uri": "https://localhost:8080/",
     "height": 34
    },
    "colab_type": "code",
    "id": "VgKS0NlS-Ab7",
    "outputId": "874d4ee3-2c61-434b-82f1-eea4b60e7a69"
   },
   "outputs": [
    {
     "data": {
      "text/plain": [
       "array([0, 1, 2])"
      ]
     },
     "execution_count": 52,
     "metadata": {
      "tags": []
     },
     "output_type": "execute_result"
    }
   ],
   "source": [
    "encoder.classes_"
   ]
  },
  {
   "cell_type": "code",
   "execution_count": 0,
   "metadata": {
    "colab": {},
    "colab_type": "code",
    "id": "mEaCkDKwCGc-"
   },
   "outputs": [],
   "source": [
    "\n",
    "# serialize model to JSON\n",
    "model_json = model.to_json()\n",
    "with open(\"model.json\", \"w\") as json_file:\n",
    "    json_file.write(model_json)\n",
    "# serialize weights to HDF5\n",
    "model.save_weights(\"SubtaskCEnglishDatafinalepoch3512.h5\")"
   ]
  },
  {
   "cell_type": "code",
   "execution_count": 0,
   "metadata": {
    "colab": {},
    "colab_type": "code",
    "id": "u2HSwB5BEgD8"
   },
   "outputs": [],
   "source": [
    "from keras.models import model_from_json\n"
   ]
  },
  {
   "cell_type": "code",
   "execution_count": 0,
   "metadata": {
    "colab": {},
    "colab_type": "code",
    "id": "c1uiK6awCXUV"
   },
   "outputs": [],
   "source": [
    "# load json and create model\n",
    "json_file = open('model.json', 'r')\n",
    "loaded_model_json = json_file.read()\n",
    "json_file.close()\n",
    "loaded_model = model_from_json(loaded_model_json)\n",
    "# load weights into new model\n",
    "loaded_model.load_weights(\"SubtaskCEnglishDatafinalepoch3512.h5\")\n",
    "print(\"Loaded model from disk\")"
   ]
  },
  {
   "cell_type": "code",
   "execution_count": 53,
   "metadata": {
    "colab": {
     "base_uri": "https://localhost:8080/",
     "height": 86
    },
    "colab_type": "code",
    "id": "_WTOB5JVZV-W",
    "outputId": "d0e30c98-10a7-405e-c972-712e0cc07f8b"
   },
   "outputs": [
    {
     "name": "stdout",
     "output_type": "stream",
     "text": [
      "3876/3876 [==============================] - 18s 5ms/step\n",
      "Test set\n",
      "  Loss: 0.749\n",
      "  Accuracy: 0.746\n"
     ]
    }
   ],
   "source": [
    "score= model.evaluate(X_test,dummy_y)\n",
    "print('Test set\\n  Loss: {:0.3f}\\n  Accuracy: {:0.3f}'.format(score[0],score[1]))"
   ]
  },
  {
   "cell_type": "code",
   "execution_count": 0,
   "metadata": {
    "colab": {},
    "colab_type": "code",
    "id": "5LAGOO1RYDoO"
   },
   "outputs": [],
   "source": [
    "yvalid=model.predict_classes(X_test)"
   ]
  },
  {
   "cell_type": "code",
   "execution_count": 56,
   "metadata": {
    "colab": {
     "base_uri": "https://localhost:8080/",
     "height": 34
    },
    "colab_type": "code",
    "id": "vCr8JEs_GXbK",
    "outputId": "7c9620bb-8d6a-43e9-e215-b0b09e42e2a1"
   },
   "outputs": [
    {
     "data": {
      "text/plain": [
       "numpy.ndarray"
      ]
     },
     "execution_count": 56,
     "metadata": {
      "tags": []
     },
     "output_type": "execute_result"
    }
   ],
   "source": [
    "type(X_test)"
   ]
  },
  {
   "cell_type": "code",
   "execution_count": 0,
   "metadata": {
    "colab": {},
    "colab_type": "code",
    "id": "PdghWOjxF98G"
   },
   "outputs": [],
   "source": [
    "from sklearn.metrics import f1_score\n",
    "from sklearn.metrics import accuracy_score\n",
    "\n",
    "def calculateF1Score(predictions,labels):\n",
    "  #rowwise return the index of the max element ie 0 or 1 depending on the maximum value returned\n",
    "  predictionArgmax=predictions.flatten()\n",
    "  labelsFlattend=labels.flatten()\n",
    "  #print(\"Predictions Argmax\",predictionArgmax)\n",
    "  #print(\"labels Flattened\",labelsFlattend)   \n",
    "  return f1_score(labelsFlattend, predictionArgmax, average='macro'),accuracy_score(labelsFlattend, predictionArgmax)\n",
    "\n"
   ]
  },
  {
   "cell_type": "code",
   "execution_count": 0,
   "metadata": {
    "colab": {},
    "colab_type": "code",
    "id": "qDzj449-GqJS"
   },
   "outputs": [],
   "source": []
  },
  {
   "cell_type": "code",
   "execution_count": 0,
   "metadata": {
    "colab": {},
    "colab_type": "code",
    "id": "58RB8sbBFhNu"
   },
   "outputs": [],
   "source": [
    "f11,acc=calculateF1Score(yvalid,encoded_Y)"
   ]
  },
  {
   "cell_type": "code",
   "execution_count": 59,
   "metadata": {
    "colab": {
     "base_uri": "https://localhost:8080/",
     "height": 34
    },
    "colab_type": "code",
    "id": "Rh9Iph4mGD-6",
    "outputId": "811a05b9-6575-4fd1-f0d3-5f1e0f5d284d"
   },
   "outputs": [
    {
     "data": {
      "text/plain": [
       "0.7458720330237358"
      ]
     },
     "execution_count": 59,
     "metadata": {
      "tags": []
     },
     "output_type": "execute_result"
    }
   ],
   "source": [
    "acc"
   ]
  },
  {
   "cell_type": "code",
   "execution_count": 60,
   "metadata": {
    "colab": {
     "base_uri": "https://localhost:8080/",
     "height": 34
    },
    "colab_type": "code",
    "id": "K6BAkNvIFrdS",
    "outputId": "effc7637-9e27-41f5-f03c-cc6451de4257"
   },
   "outputs": [
    {
     "data": {
      "text/plain": [
       "0.6140274585740214"
      ]
     },
     "execution_count": 60,
     "metadata": {
      "tags": []
     },
     "output_type": "execute_result"
    }
   ],
   "source": [
    "f11"
   ]
  },
  {
   "cell_type": "code",
   "execution_count": 0,
   "metadata": {
    "colab": {},
    "colab_type": "code",
    "id": "UEfQpnBOLXXV"
   },
   "outputs": [],
   "source": [
    "ygiven=[]\n",
    "ypredicted=[]"
   ]
  },
  {
   "cell_type": "code",
   "execution_count": 0,
   "metadata": {
    "colab": {},
    "colab_type": "code",
    "id": "ou207z2INRfH"
   },
   "outputs": [],
   "source": [
    "!unzip -P ****** -qq '/content/drive/My Drive/EnglishData/test_c_baseline.csv.zip' "
   ]
  },
  {
   "cell_type": "code",
   "execution_count": 0,
   "metadata": {
    "colab": {},
    "colab_type": "code",
    "id": "mHUf_RjRNpVl"
   },
   "outputs": [],
   "source": [
    "!unzip -P ****** -qq '/content/drive/My Drive/EnglishData/public_data_task_C.zip'"
   ]
  },
  {
   "cell_type": "code",
   "execution_count": 0,
   "metadata": {
    "colab": {},
    "colab_type": "code",
    "id": "vUY9Oq4tiVLV"
   },
   "outputs": [],
   "source": [
    "def readData1():\n",
    "  headers=['id','ypredicted']\n",
    "  greekdataBaseline = pd.read_csv(\"test_c_baseline.csv\", delimiter=',',names=headers)\n",
    "  #,converters={\"id\":convertToInt}       \n",
    "  #greekdataBaseline.id = greekdataBaseline.id.astype(int)\n",
    "  #greekdataBaseline=greekdataBaseline[1:]\n",
    "  print(greekdataBaseline.head())\n",
    "  print(greekdataBaseline.shape)\n",
    "\n",
    "  headers=['id','tweet']\n",
    "  greekDataTest = pd.read_csv(\"test_c_tweets.tsv\", delimiter='\\t',names=headers)\n",
    "                                #converters={\"id\":convertToInt})\n",
    "  #greekDataTest=greekDataTest[1:]\n",
    "  print(greekDataTest.head())\n",
    "  #print(greekDataTest.dtypes)\n",
    "  print(greekDataTest.shape)\n",
    "  result = pd.merge(greekDataTest, greekdataBaseline, on='id', how='inner')\n",
    "  print(result.head())\n",
    "  print(result.dtypes)\n",
    "  print(result.shape)\n",
    "\n",
    "  #result=\n",
    "  #result.sort_values(by=['id'], inplace=True)\n",
    "  #print(result.head())\n",
    "  dfnumpy=result.to_numpy();\n",
    "  X=dfnumpy[:, 1].reshape(-1, 1)\n",
    "  y=dfnumpy[:, 2].reshape(-1, 1)\n",
    "  tid=dfnumpy[:, 0].reshape(-1, 1)\n",
    "  preprocessedTweets=X[:,0]\n",
    "  return preprocessedTweets,y,tid"
   ]
  },
  {
   "cell_type": "code",
   "execution_count": 66,
   "metadata": {
    "colab": {
     "base_uri": "https://localhost:8080/",
     "height": 451
    },
    "colab_type": "code",
    "id": "wwg1ano7LZ0U",
    "outputId": "5ee8bfa6-62df-4b3d-b43a-101748337b0d"
   },
   "outputs": [
    {
     "name": "stdout",
     "output_type": "stream",
     "text": [
      "     id ypredicted\n",
      "0   BC0        IND\n",
      "1   BC3        IND\n",
      "2   BC9        IND\n",
      "3  BC10        IND\n",
      "4  BC19        IND\n",
      "(850, 2)\n",
      "     id                                              tweet\n",
      "0    id                                              tweet\n",
      "1   BC0  @USER Lmao bihhh dis what u do to your homies ...\n",
      "2   BC3  @USER The POTUS is a racist, racist, racist, r...\n",
      "3   BC9  @USER He then grinned, raising his brow.  Oh d...\n",
      "4  BC10         Niggas priorities be fucked all the way up\n",
      "(851, 2)\n",
      "     id                                              tweet ypredicted\n",
      "0   BC0  @USER Lmao bihhh dis what u do to your homies ...        IND\n",
      "1   BC3  @USER The POTUS is a racist, racist, racist, r...        IND\n",
      "2   BC9  @USER He then grinned, raising his brow.  Oh d...        IND\n",
      "3  BC10         Niggas priorities be fucked all the way up        IND\n",
      "4  BC19  You bitches really be walking around talking s...        IND\n",
      "id            object\n",
      "tweet         object\n",
      "ypredicted    object\n",
      "dtype: object\n",
      "(850, 3)\n"
     ]
    }
   ],
   "source": [
    "preprocessedTweets,ypredict1,tid=readData1()"
   ]
  },
  {
   "cell_type": "code",
   "execution_count": 67,
   "metadata": {
    "colab": {
     "base_uri": "https://localhost:8080/",
     "height": 34
    },
    "colab_type": "code",
    "id": "vdcRliJmGaqn",
    "outputId": "a92004fa-774a-4a64-c791-b2ea67ec8216"
   },
   "outputs": [
    {
     "data": {
      "text/plain": [
       "numpy.ndarray"
      ]
     },
     "execution_count": 67,
     "metadata": {
      "tags": []
     },
     "output_type": "execute_result"
    }
   ],
   "source": [
    "type(preprocessedTweets)"
   ]
  },
  {
   "cell_type": "code",
   "execution_count": 0,
   "metadata": {
    "colab": {},
    "colab_type": "code",
    "id": "EmMxxn_YShdP"
   },
   "outputs": [],
   "source": [
    "preprocessedTweets=preprocessinglib(preprocessedTweets)"
   ]
  },
  {
   "cell_type": "code",
   "execution_count": 69,
   "metadata": {
    "colab": {
     "base_uri": "https://localhost:8080/",
     "height": 34
    },
    "colab_type": "code",
    "id": "WKKEJU_cG1wl",
    "outputId": "2bcbe02b-9ad0-45a2-c871-4bebc6b429f5"
   },
   "outputs": [
    {
     "name": "stdout",
     "output_type": "stream",
     "text": [
      "Shape of data tensor: (850, 512)\n"
     ]
    }
   ],
   "source": [
    "Xpredict = tokenizer.texts_to_sequences(preprocessedTweets)\n",
    "Xpredict = pad_sequences(Xpredict, maxlen=MAX_SEQUENCE_LENGTH)\n",
    "print('Shape of data tensor:', Xpredict.shape)"
   ]
  },
  {
   "cell_type": "code",
   "execution_count": 0,
   "metadata": {
    "colab": {},
    "colab_type": "code",
    "id": "8WoaOf7VYOHq"
   },
   "outputs": [],
   "source": [
    "ynew = model.predict_classes(Xpredict)"
   ]
  },
  {
   "cell_type": "code",
   "execution_count": 0,
   "metadata": {
    "colab": {},
    "colab_type": "code",
    "id": "IfeaDCUdRJ-j"
   },
   "outputs": [],
   "source": [
    "yz=giveLabel2(ypredict1)"
   ]
  },
  {
   "cell_type": "code",
   "execution_count": 72,
   "metadata": {
    "colab": {
     "base_uri": "https://localhost:8080/",
     "height": 34
    },
    "colab_type": "code",
    "id": "YmaT7QgeRJ_C",
    "outputId": "3dd8d222-0d43-4f03-da08-19861f577e19"
   },
   "outputs": [
    {
     "data": {
      "text/plain": [
       "{0}"
      ]
     },
     "execution_count": 72,
     "metadata": {
      "tags": []
     },
     "output_type": "execute_result"
    }
   ],
   "source": [
    "set(yz)"
   ]
  },
  {
   "cell_type": "code",
   "execution_count": 0,
   "metadata": {
    "colab": {},
    "colab_type": "code",
    "id": "IFU7qozGRJ_L"
   },
   "outputs": [],
   "source": [
    "encoded_Ypredict = encoder.transform(yz)\n"
   ]
  },
  {
   "cell_type": "code",
   "execution_count": 0,
   "metadata": {
    "colab": {},
    "colab_type": "code",
    "id": "W75Xr6iHTTuF"
   },
   "outputs": [],
   "source": [
    "f11,acc=calculateF1Score(ynew,encoded_Ypredict)"
   ]
  },
  {
   "cell_type": "code",
   "execution_count": 75,
   "metadata": {
    "colab": {
     "base_uri": "https://localhost:8080/",
     "height": 34
    },
    "colab_type": "code",
    "id": "ef629NijTzsR",
    "outputId": "69f18449-4391-4256-86cb-c92d2c7029a6"
   },
   "outputs": [
    {
     "data": {
      "text/plain": [
       "0.29188712522045857"
      ]
     },
     "execution_count": 75,
     "metadata": {
      "tags": []
     },
     "output_type": "execute_result"
    }
   ],
   "source": [
    "f11"
   ]
  },
  {
   "cell_type": "code",
   "execution_count": 76,
   "metadata": {
    "colab": {
     "base_uri": "https://localhost:8080/",
     "height": 34
    },
    "colab_type": "code",
    "id": "b0Azbt_nUFlU",
    "outputId": "70318bf3-efe1-4532-b5c4-2fab2a6fc5e0"
   },
   "outputs": [
    {
     "data": {
      "text/plain": [
       "0.7788235294117647"
      ]
     },
     "execution_count": 76,
     "metadata": {
      "tags": []
     },
     "output_type": "execute_result"
    }
   ],
   "source": [
    "acc"
   ]
  },
  {
   "cell_type": "code",
   "execution_count": 77,
   "metadata": {
    "colab": {
     "base_uri": "https://localhost:8080/",
     "height": 69
    },
    "colab_type": "code",
    "id": "mHffhfImvU5b",
    "outputId": "ec6249ea-60ba-4897-da5b-995a08b99798"
   },
   "outputs": [
    {
     "name": "stdout",
     "output_type": "stream",
     "text": [
      "662\n",
      "165\n",
      "23\n"
     ]
    }
   ],
   "source": [
    "print(ynew.flatten().tolist().count(0))\n",
    "print(ynew.flatten().tolist().count(1))\n",
    "print(ynew.flatten().tolist().count(2))\n"
   ]
  },
  {
   "cell_type": "code",
   "execution_count": 0,
   "metadata": {
    "colab": {},
    "colab_type": "code",
    "id": "fpaYWIdBv7p3"
   },
   "outputs": [],
   "source": [
    "yans=ynew.flatten().tolist()"
   ]
  },
  {
   "cell_type": "code",
   "execution_count": 0,
   "metadata": {
    "colab": {},
    "colab_type": "code",
    "id": "RH6UHJRQv2hh"
   },
   "outputs": [],
   "source": [
    "yans3=[]\n",
    "#yans3.append(\"IND\")"
   ]
  },
  {
   "cell_type": "code",
   "execution_count": 0,
   "metadata": {
    "colab": {},
    "colab_type": "code",
    "id": "Py58xFYnv489"
   },
   "outputs": [],
   "source": [
    "for i in range(len(yans)):\n",
    "  if yans[i]==0:\n",
    "    yans3.append(\"IND\")\n",
    "  elif yans[i]==1:\n",
    "    yans3.append(\"GRP\")\n",
    "  else:\n",
    "    yans3.append(\"OTH\")\n"
   ]
  },
  {
   "cell_type": "code",
   "execution_count": 81,
   "metadata": {
    "colab": {
     "base_uri": "https://localhost:8080/",
     "height": 34
    },
    "colab_type": "code",
    "id": "RbnZPNfpwHtx",
    "outputId": "280c44f9-bec9-4991-a383-d507fe53d665"
   },
   "outputs": [
    {
     "data": {
      "text/plain": [
       "(850, 1)"
      ]
     },
     "execution_count": 81,
     "metadata": {
      "tags": []
     },
     "output_type": "execute_result"
    }
   ],
   "source": [
    "tid.shape"
   ]
  },
  {
   "cell_type": "code",
   "execution_count": 0,
   "metadata": {
    "colab": {},
    "colab_type": "code",
    "id": "Kkgq93UVUQ27"
   },
   "outputs": [],
   "source": [
    "#z={'tweet':sentence_predict[],'subtask_a':y_predict}\n",
    "#print(len(z))\n",
    "C = {'id': tid.flatten(),\n",
    "        'predicted': yans3\n",
    "    }\n",
    "df = pd.DataFrame(C)\n",
    "#print (df[df['id'] == 2707] )\n",
    "\n",
    "export_csv = df.to_csv ('/content/drive/My Drive/EnglishData/EnglishSubtaskCAnswerFinalOneHot.csv', index = None, header=False)\n",
    "\n"
   ]
  }
 ],
 "metadata": {
  "colab": {
   "collapsed_sections": [],
   "name": "subtaskCweighted.ipynb.ipynb",
   "provenance": []
  },
  "kernelspec": {
   "display_name": "Python 3",
   "language": "python",
   "name": "python3"
  },
  "language_info": {
   "codemirror_mode": {
    "name": "ipython",
    "version": 3
   },
   "file_extension": ".py",
   "mimetype": "text/x-python",
   "name": "python",
   "nbconvert_exporter": "python",
   "pygments_lexer": "ipython3",
   "version": "3.8.2"
  }
 },
 "nbformat": 4,
 "nbformat_minor": 1
}
