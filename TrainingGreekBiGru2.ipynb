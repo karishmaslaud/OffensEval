{
  "nbformat": 4,
  "nbformat_minor": 0,
  "metadata": {
    "kernelspec": {
      "name": "python3",
      "display_name": "Python 3"
    },
    "language_info": {
      "codemirror_mode": {
        "name": "ipython",
        "version": 3
      },
      "file_extension": ".py",
      "mimetype": "text/x-python",
      "name": "python",
      "nbconvert_exporter": "python",
      "pygments_lexer": "ipython3",
      "version": "3.7.5"
    },
    "colab": {
      "name": "X",
      "provenance": [],
      "collapsed_sections": []
    },
    "accelerator": "GPU"
  },
  "cells": [
    {
      "cell_type": "markdown",
      "metadata": {
        "id": "t_uxHW08scH7",
        "colab_type": "text"
      },
      "source": [
        "# 6 - Transformers for Sentiment Analysis\n",
        "\n",
        "In this notebook we will be using the transformer model, first introduced in [this](https://arxiv.org/abs/1706.03762) paper. Specifically, we will be using the BERT (Bidirectional Encoder Representations from Transformers) model from [this](https://arxiv.org/abs/1810.04805) paper. \n",
        "\n",
        "Transformer models are considerably larger than anything else covered in these tutorials. As such we are going to use the [transformers library](https://github.com/huggingface/transformers) to get pre-trained transformers and use them as our embedding layers. We will freeze (not train) the transformer and only train the remainder of the model which learns from the representations produced by the transformer. In this case we will be using a multi-layer bi-directional GRU, however any model can learn from these representations."
      ]
    },
    {
      "cell_type": "code",
      "metadata": {
        "id": "T1HZ3sJ-t1SC",
        "colab_type": "code",
        "outputId": "0856c108-c29a-477c-8ae1-cf832c4baa1b",
        "colab": {
          "base_uri": "https://localhost:8080/",
          "height": 64
        }
      },
      "source": [
        "#all imports\n",
        "import tensorflow as tf\n",
        "import torch"
      ],
      "execution_count": 0,
      "outputs": [
        {
          "output_type": "display_data",
          "data": {
            "text/html": [
              "<p style=\"color: red;\">\n",
              "The default version of TensorFlow in Colab will soon switch to TensorFlow 2.x.<br>\n",
              "We recommend you <a href=\"https://www.tensorflow.org/guide/migrate\" target=\"_blank\">upgrade</a> now \n",
              "or ensure your notebook will continue to use TensorFlow 1.x via the <code>%tensorflow_version 1.x</code> magic:\n",
              "<a href=\"https://colab.research.google.com/notebooks/tensorflow_version.ipynb\" target=\"_blank\">more info</a>.</p>\n"
            ],
            "text/plain": [
              "<IPython.core.display.HTML object>"
            ]
          },
          "metadata": {
            "tags": []
          }
        }
      ]
    },
    {
      "cell_type": "code",
      "metadata": {
        "id": "iCcqa_7et4cD",
        "colab_type": "code",
        "outputId": "1764f7aa-7af0-4a83-bd69-a9abf39b2296",
        "colab": {
          "base_uri": "https://localhost:8080/",
          "height": 34
        }
      },
      "source": [
        "\n",
        "gpuname=tf.test.gpu_device_name()\n",
        "if gpuname=='/device:GPU:0':\n",
        "  print('Found GPU at :{}'.format(gpuname))\n",
        "else:\n",
        "  raise(SystemError('GPU device not found'))"
      ],
      "execution_count": 0,
      "outputs": [
        {
          "output_type": "stream",
          "text": [
            "Found GPU at :/device:GPU:0\n"
          ],
          "name": "stdout"
        }
      ]
    },
    {
      "cell_type": "markdown",
      "metadata": {
        "id": "VOLt5AnEscIB",
        "colab_type": "text"
      },
      "source": [
        "## Preparing Data\n",
        "\n",
        "First, as always, let's set the random seeds for deterministic results."
      ]
    },
    {
      "cell_type": "code",
      "metadata": {
        "id": "qNFEaLvKt-Zt",
        "colab_type": "code",
        "outputId": "96e63c75-d651-4649-c294-5242eeb2a44c",
        "colab": {
          "base_uri": "https://localhost:8080/",
          "height": 52
        }
      },
      "source": [
        "if torch.cuda.is_available():\n",
        "  device=torch.device(\"cuda\")\n",
        "  print(\"There are %d GPU DEVICES available \" %torch.cuda.device_count())\n",
        "  print(\"The device name is %s\"%torch.cuda.get_device_name(0))\n",
        "else:\n",
        "  print(\"No GPU available using only CPU instead\")\n",
        "  device=torch.device(\"cpu\")\n",
        "\n"
      ],
      "execution_count": 0,
      "outputs": [
        {
          "output_type": "stream",
          "text": [
            "There are 1 GPU DEVICES available \n",
            "The device name is Tesla P100-PCIE-16GB\n"
          ],
          "name": "stdout"
        }
      ]
    },
    {
      "cell_type": "code",
      "metadata": {
        "id": "BLjWz-0TuCbl",
        "colab_type": "code",
        "outputId": "32ab33d4-8187-4dba-ff28-821277da0db9",
        "colab": {
          "base_uri": "https://localhost:8080/",
          "height": 34
        }
      },
      "source": [
        "from google.colab import drive\n",
        "drive.mount('/content/drive')"
      ],
      "execution_count": 0,
      "outputs": [
        {
          "output_type": "stream",
          "text": [
            "Drive already mounted at /content/drive; to attempt to forcibly remount, call drive.mount(\"/content/drive\", force_remount=True).\n"
          ],
          "name": "stdout"
        }
      ]
    },
    {
      "cell_type": "code",
      "metadata": {
        "id": "lddBU1JluKTa",
        "colab_type": "code",
        "outputId": "813d5d75-47e2-4442-8074-64518d4f09e5",
        "colab": {
          "base_uri": "https://localhost:8080/",
          "height": 52
        }
      },
      "source": [
        "!unzip -P ****** -qq '/content/drive/My Drive/GreekData/Greek.zip'"
      ],
      "execution_count": 0,
      "outputs": [
        {
          "output_type": "stream",
          "text": [
            "replace Greek/offenseval-greek-training-v1.tsv? [y]es, [n]o, [A]ll, [N]one, [r]ename: n\n",
            "replace Greek/readme-trainingset-greek.txt? [y]es, [n]o, [A]ll, [N]one, [r]ename: n\n"
          ],
          "name": "stdout"
        }
      ]
    },
    {
      "cell_type": "code",
      "metadata": {
        "id": "XAUepT0HuPeC",
        "colab_type": "code",
        "colab": {}
      },
      "source": [
        "import csv\n",
        "import pandas as pd\n",
        "import numpy as np\n",
        "from sklearn.model_selection import train_test_split"
      ],
      "execution_count": 0,
      "outputs": []
    },
    {
      "cell_type": "code",
      "metadata": {
        "id": "1HB7ngrnscIG",
        "colab_type": "code",
        "colab": {}
      },
      "source": [
        "import torch\n",
        "\n",
        "import random\n",
        "import numpy as np\n",
        "\n",
        "SEED = 42\n",
        "\n",
        "random.seed(SEED)\n",
        "np.random.seed(SEED)\n",
        "torch.manual_seed(SEED)\n",
        "torch.backends.cudnn.deterministic = True"
      ],
      "execution_count": 0,
      "outputs": []
    },
    {
      "cell_type": "code",
      "metadata": {
        "id": "uVXNdz8auhGR",
        "colab_type": "code",
        "outputId": "a2f7812b-434d-482d-b669-01bb109097b0",
        "colab": {
          "base_uri": "https://localhost:8080/",
          "height": 399
        }
      },
      "source": [
        "!pip install transformers"
      ],
      "execution_count": 0,
      "outputs": [
        {
          "output_type": "stream",
          "text": [
            "Requirement already satisfied: transformers in /usr/local/lib/python3.6/dist-packages (2.5.1)\n",
            "Requirement already satisfied: regex!=2019.12.17 in /usr/local/lib/python3.6/dist-packages (from transformers) (2019.12.20)\n",
            "Requirement already satisfied: sentencepiece in /usr/local/lib/python3.6/dist-packages (from transformers) (0.1.85)\n",
            "Requirement already satisfied: tokenizers==0.5.2 in /usr/local/lib/python3.6/dist-packages (from transformers) (0.5.2)\n",
            "Requirement already satisfied: sacremoses in /usr/local/lib/python3.6/dist-packages (from transformers) (0.0.38)\n",
            "Requirement already satisfied: filelock in /usr/local/lib/python3.6/dist-packages (from transformers) (3.0.12)\n",
            "Requirement already satisfied: numpy in /usr/local/lib/python3.6/dist-packages (from transformers) (1.17.5)\n",
            "Requirement already satisfied: boto3 in /usr/local/lib/python3.6/dist-packages (from transformers) (1.11.15)\n",
            "Requirement already satisfied: requests in /usr/local/lib/python3.6/dist-packages (from transformers) (2.21.0)\n",
            "Requirement already satisfied: tqdm>=4.27 in /usr/local/lib/python3.6/dist-packages (from transformers) (4.28.1)\n",
            "Requirement already satisfied: joblib in /usr/local/lib/python3.6/dist-packages (from sacremoses->transformers) (0.14.1)\n",
            "Requirement already satisfied: six in /usr/local/lib/python3.6/dist-packages (from sacremoses->transformers) (1.12.0)\n",
            "Requirement already satisfied: click in /usr/local/lib/python3.6/dist-packages (from sacremoses->transformers) (7.0)\n",
            "Requirement already satisfied: s3transfer<0.4.0,>=0.3.0 in /usr/local/lib/python3.6/dist-packages (from boto3->transformers) (0.3.3)\n",
            "Requirement already satisfied: botocore<1.15.0,>=1.14.15 in /usr/local/lib/python3.6/dist-packages (from boto3->transformers) (1.14.15)\n",
            "Requirement already satisfied: jmespath<1.0.0,>=0.7.1 in /usr/local/lib/python3.6/dist-packages (from boto3->transformers) (0.9.4)\n",
            "Requirement already satisfied: urllib3<1.25,>=1.21.1 in /usr/local/lib/python3.6/dist-packages (from requests->transformers) (1.24.3)\n",
            "Requirement already satisfied: certifi>=2017.4.17 in /usr/local/lib/python3.6/dist-packages (from requests->transformers) (2019.11.28)\n",
            "Requirement already satisfied: idna<2.9,>=2.5 in /usr/local/lib/python3.6/dist-packages (from requests->transformers) (2.8)\n",
            "Requirement already satisfied: chardet<3.1.0,>=3.0.2 in /usr/local/lib/python3.6/dist-packages (from requests->transformers) (3.0.4)\n",
            "Requirement already satisfied: python-dateutil<3.0.0,>=2.1 in /usr/local/lib/python3.6/dist-packages (from botocore<1.15.0,>=1.14.15->boto3->transformers) (2.6.1)\n",
            "Requirement already satisfied: docutils<0.16,>=0.10 in /usr/local/lib/python3.6/dist-packages (from botocore<1.15.0,>=1.14.15->boto3->transformers) (0.15.2)\n"
          ],
          "name": "stdout"
        }
      ]
    },
    {
      "cell_type": "markdown",
      "metadata": {
        "id": "BAdi5x28scIV",
        "colab_type": "text"
      },
      "source": [
        "The transformer has already been trained with a specific vocabulary, which means we need to train with the exact same vocabulary and also tokenize our data in the same way that the transformer did when it was initially trained.\n",
        "\n",
        "Luckily, the transformers library has tokenizers for each of the transformer models provided. In this case we are using the BERT model which ignores casing (i.e. will lower case every word). We get this by loading the pre-trained `bert-base-uncased` tokenizer."
      ]
    },
    {
      "cell_type": "code",
      "metadata": {
        "id": "DgkzEygbscIY",
        "colab_type": "code",
        "colab": {}
      },
      "source": [
        "from transformers import BertTokenizer\n",
        "\n",
        "tokenizer=BertTokenizer.from_pretrained('bert-base-multilingual-cased',do_lower_case=True)"
      ],
      "execution_count": 0,
      "outputs": []
    },
    {
      "cell_type": "markdown",
      "metadata": {
        "id": "M8nmVZK1scIi",
        "colab_type": "text"
      },
      "source": [
        "The `tokenizer` has a `vocab` attribute which contains the actual vocabulary we will be using. We can check how many tokens are in it by checking its length."
      ]
    },
    {
      "cell_type": "code",
      "metadata": {
        "id": "Q37nS_6yscIl",
        "colab_type": "code",
        "outputId": "74fc0498-9f1f-40fc-847e-08439570eea8",
        "colab": {
          "base_uri": "https://localhost:8080/",
          "height": 34
        }
      },
      "source": [
        "len(tokenizer.vocab)"
      ],
      "execution_count": 0,
      "outputs": [
        {
          "output_type": "execute_result",
          "data": {
            "text/plain": [
              "119547"
            ]
          },
          "metadata": {
            "tags": []
          },
          "execution_count": 10
        }
      ]
    },
    {
      "cell_type": "markdown",
      "metadata": {
        "id": "1Q_XkdgmscIu",
        "colab_type": "text"
      },
      "source": [
        "Using the tokenizer is as simple as calling `tokenizer.tokenize` on a string. This will tokenize and lower case the data in a way that is consistent with the pre-trained transformer model."
      ]
    },
    {
      "cell_type": "code",
      "metadata": {
        "id": "K5V9RsaxscIw",
        "colab_type": "code",
        "outputId": "85d5f797-dd19-47af-e446-bb2a1207481a",
        "colab": {
          "base_uri": "https://localhost:8080/",
          "height": 34
        }
      },
      "source": [
        "tokens = tokenizer.tokenize('Hello WORLD how ARE yoU?')\n",
        "\n",
        "print(tokens)"
      ],
      "execution_count": 0,
      "outputs": [
        {
          "output_type": "stream",
          "text": [
            "['hell', '##o', 'world', 'how', 'are', 'you', '?']\n"
          ],
          "name": "stdout"
        }
      ]
    },
    {
      "cell_type": "markdown",
      "metadata": {
        "id": "uzX3VozZscI4",
        "colab_type": "text"
      },
      "source": [
        "We can numericalize tokens using our vocabulary using `tokenizer.convert_tokens_to_ids`."
      ]
    },
    {
      "cell_type": "code",
      "metadata": {
        "id": "AyO6rrxescI6",
        "colab_type": "code",
        "outputId": "bbab41e7-f838-4a3c-e445-c3c4cf1d05cb",
        "colab": {
          "base_uri": "https://localhost:8080/",
          "height": 34
        }
      },
      "source": [
        "indexes = tokenizer.convert_tokens_to_ids(tokens)\n",
        "\n",
        "print(indexes)"
      ],
      "execution_count": 0,
      "outputs": [
        {
          "output_type": "stream",
          "text": [
            "[61694, 10133, 11356, 14796, 10301, 13028, 136]\n"
          ],
          "name": "stdout"
        }
      ]
    },
    {
      "cell_type": "markdown",
      "metadata": {
        "id": "va4jYeVZscJB",
        "colab_type": "text"
      },
      "source": [
        "The transformer was also trained with special tokens to mark the beginning and end of the sentence, detailed [here](https://huggingface.co/transformers/model_doc/bert.html#transformers.BertModel). As well as a standard padding and unknown token. We can also get these from the tokenizer.\n",
        "\n",
        "**Note**: the tokenizer does have a beginning of sequence and end of sequence attributes (`bos_token` and `eos_token`) but these are not set and should not be used for this transformer."
      ]
    },
    {
      "cell_type": "code",
      "metadata": {
        "id": "R_e-oxPiscJC",
        "colab_type": "code",
        "outputId": "1dae5c84-13c4-4622-9516-7c5a5e7a8fef",
        "colab": {
          "base_uri": "https://localhost:8080/",
          "height": 34
        }
      },
      "source": [
        "init_token = tokenizer.cls_token\n",
        "eos_token = tokenizer.sep_token\n",
        "pad_token = tokenizer.pad_token\n",
        "unk_token = tokenizer.unk_token\n",
        "\n",
        "print(init_token, eos_token, pad_token, unk_token)"
      ],
      "execution_count": 0,
      "outputs": [
        {
          "output_type": "stream",
          "text": [
            "[CLS] [SEP] [PAD] [UNK]\n"
          ],
          "name": "stdout"
        }
      ]
    },
    {
      "cell_type": "markdown",
      "metadata": {
        "id": "zLGSYrhzscJK",
        "colab_type": "text"
      },
      "source": [
        "We can get the indexes of the special tokens by converting them using the vocabulary..."
      ]
    },
    {
      "cell_type": "code",
      "metadata": {
        "id": "bIDGEuatscJM",
        "colab_type": "code",
        "outputId": "cf7fcbc3-5e74-4cc5-e0ec-9cb9bf0d3709",
        "colab": {
          "base_uri": "https://localhost:8080/",
          "height": 34
        }
      },
      "source": [
        "init_token_idx = tokenizer.convert_tokens_to_ids(init_token)\n",
        "eos_token_idx = tokenizer.convert_tokens_to_ids(eos_token)\n",
        "pad_token_idx = tokenizer.convert_tokens_to_ids(pad_token)\n",
        "unk_token_idx = tokenizer.convert_tokens_to_ids(unk_token)\n",
        "\n",
        "print(init_token_idx, eos_token_idx, pad_token_idx, unk_token_idx)"
      ],
      "execution_count": 0,
      "outputs": [
        {
          "output_type": "stream",
          "text": [
            "101 102 0 100\n"
          ],
          "name": "stdout"
        }
      ]
    },
    {
      "cell_type": "markdown",
      "metadata": {
        "id": "DpOVm_1NscJT",
        "colab_type": "text"
      },
      "source": [
        "...or by explicitly getting them from the tokenizer."
      ]
    },
    {
      "cell_type": "code",
      "metadata": {
        "id": "i8xtYY9EscJV",
        "colab_type": "code",
        "outputId": "d9cd75cf-2307-46b4-a741-4f4f5901ae04",
        "colab": {
          "base_uri": "https://localhost:8080/",
          "height": 34
        }
      },
      "source": [
        "init_token_idx = tokenizer.cls_token_id\n",
        "eos_token_idx = tokenizer.sep_token_id\n",
        "pad_token_idx = tokenizer.pad_token_id\n",
        "unk_token_idx = tokenizer.unk_token_id\n",
        "\n",
        "print(init_token_idx, eos_token_idx, pad_token_idx, unk_token_idx)"
      ],
      "execution_count": 0,
      "outputs": [
        {
          "output_type": "stream",
          "text": [
            "101 102 0 100\n"
          ],
          "name": "stdout"
        }
      ]
    },
    {
      "cell_type": "markdown",
      "metadata": {
        "id": "xNhhGm8HscJd",
        "colab_type": "text"
      },
      "source": [
        "Another thing we need to handle is that the model was trained on sequences with a defined maximum length - it does not know how to handle sequences longer than it has been trained on. We can get the maximum length of these input sizes by checking the `max_model_input_sizes` for the version of the transformer we want to use. In this case, it is 512 tokens."
      ]
    },
    {
      "cell_type": "code",
      "metadata": {
        "id": "3jBiYT5MscJf",
        "colab_type": "code",
        "outputId": "eb80be1b-3f3e-406c-c2d6-485e43c13382",
        "colab": {
          "base_uri": "https://localhost:8080/",
          "height": 34
        }
      },
      "source": [
        "max_input_length = tokenizer.max_model_input_sizes['bert-base-multilingual-cased']\n",
        "\n",
        "print(max_input_length)"
      ],
      "execution_count": 0,
      "outputs": [
        {
          "output_type": "stream",
          "text": [
            "512\n"
          ],
          "name": "stdout"
        }
      ]
    },
    {
      "cell_type": "markdown",
      "metadata": {
        "id": "qpdSZFK9scJk",
        "colab_type": "text"
      },
      "source": [
        "Previously we have used the `spaCy` tokenizer to tokenize our examples. However we now need to define a function that we will pass to our `TEXT` field that will handle all the tokenization for us. It will also cut down the number of tokens to a maximum length. Note that our maximum length is 2 less than the actual maximum length. This is because we need to append two tokens to each sequence, one to the start and one to the end."
      ]
    },
    {
      "cell_type": "code",
      "metadata": {
        "id": "-N5RmlcYscJm",
        "colab_type": "code",
        "colab": {}
      },
      "source": [
        "def tokenize_and_cut(sentence):\n",
        "    '''if z not in string.punctuation  and t.is_stop==False:\n",
        "                x2.append(z)\n",
        "                   \n",
        "    sentence1=' '.join((x2))  '''  \n",
        "    tokens = tokenizer.tokenize(sentence) \n",
        "    tokens = tokens[:max_input_length-2]\n",
        "    return tokens"
      ],
      "execution_count": 0,
      "outputs": []
    },
    {
      "cell_type": "code",
      "metadata": {
        "id": "vICs3ikTJ1LN",
        "colab_type": "code",
        "colab": {}
      },
      "source": [
        "\n",
        "          \n",
        "def preprocess1(arrt):\n",
        "    doc=[]\n",
        "    emojis={}\n",
        "    #noises = ['@USER','n\\'t', '\\'s', '\\'m',\"’\"]\n",
        "    allTokens =[]\n",
        "    for txt in arrt:\n",
        "        k=0\n",
        "        sentVect=[]\n",
        "        txt=p2.clean(txt)\n",
        "        txt=p1.sub(\"\",txt)\n",
        "        x1=nlp(txt)\n",
        "        x2=[]\n",
        "        for t in x1:\n",
        "            z=str(t)\n",
        "            if z not in string.punctuation  and t.is_stop==False:\n",
        "                x2.append(z)\n",
        "                   \n",
        "        \n",
        "        sentence=' '.join((x2))         \n",
        "        allTokens.append(sentence)      \n",
        "    return allTokens\n"
      ],
      "execution_count": 0,
      "outputs": []
    },
    {
      "cell_type": "markdown",
      "metadata": {
        "id": "SM-N6TwWscJt",
        "colab_type": "text"
      },
      "source": [
        "Now we define our fields. The transformer expects the batch dimension to be first, so we set `batch_first = True`. As we already have the vocabulary for our text, provided by the transformer we set `use_vocab = False` to tell torchtext that we'll be handling the vocabulary side of things. We pass our `tokenize_and_cut` function as the tokenizer. The `preprocessing` argument is a function that takes in the example after it has been tokenized, this is where we will convert the tokens to their indexes. Finally, we define the special tokens - making note that we are defining them to be their index value and not their string value, i.e. `100` instead of `[UNK]` This is because the sequences will already be converted into indexes.\n",
        "\n",
        "We define the label field as before."
      ]
    },
    {
      "cell_type": "code",
      "metadata": {
        "id": "d-IQaMo9scJv",
        "colab_type": "code",
        "colab": {}
      },
      "source": [
        "from torchtext import data\n",
        "\n",
        "TEXT = data.Field(batch_first = True,\n",
        "                  use_vocab = False,\n",
        "                  tokenize = tokenize_and_cut,\n",
        "                  preprocessing = tokenizer.convert_tokens_to_ids,\n",
        "                  init_token = init_token_idx,\n",
        "                  eos_token = eos_token_idx,\n",
        "                  pad_token = pad_token_idx,\n",
        "                  unk_token = unk_token_idx)\n",
        "\n",
        "LABEL = data.LabelField(dtype = torch.float)"
      ],
      "execution_count": 0,
      "outputs": []
    },
    {
      "cell_type": "code",
      "metadata": {
        "id": "_VXI0Qa-wy7w",
        "colab_type": "code",
        "colab": {}
      },
      "source": [
        "#GET THE DATA FROM THE PANDAS FRAME\n",
        "headers=['id','tweet','subtask_a']\n",
        "greekdata = pd.read_csv(\"Greek/offenseval-greek-training-v1.tsv\", delimiter='\\t',names=headers)\n",
        "data=greekdata[1:]\n"
      ],
      "execution_count": 0,
      "outputs": []
    },
    {
      "cell_type": "code",
      "metadata": {
        "id": "t_kfrfapw91l",
        "colab_type": "code",
        "outputId": "c37ec6bd-6e2a-4038-ca9e-34531865d7c4",
        "colab": {
          "base_uri": "https://localhost:8080/",
          "height": 225
        }
      },
      "source": [
        "greektrain,greektest= train_test_split(greekdata, test_size=0.2, random_state=42)\n",
        "export_csv = greektrain.to_csv ('Greek/TrainFilegreek.csv', index = None, header=True)\n",
        "print (greektrain.head())\n",
        "export_csv = greektest.to_csv ('Greek/TestFilegreek.csv', index = None, header=True)\n",
        "print (greektest.head())"
      ],
      "execution_count": 0,
      "outputs": [
        {
          "output_type": "stream",
          "text": [
            "        id                                              tweet subtask_a\n",
            "2002  4347  @USER Μη με κουρδίζεις νυχτιάτικα, βαλτός είσα...       NOT\n",
            "4645  4175                         Ωραιο μουνι, ποδοσφαιρικο.       OFF\n",
            "1916  1439  @USER 1. Αποκλείστηκες διότι με έβαλες σε ομάδ...       NOT\n",
            "1550  6404                 Κόψτε τους τα μανιτάρια #XFactorGR       NOT\n",
            "2358  5730  Σακης... Χριστινακι μου γλυκο! στα καπακια εισ...       NOT\n",
            "        id                                              tweet subtask_a\n",
            "4538  2263  @USER Mπλοκ το Μαράκι, δεν της άρεσε η λύση πο...       NOT\n",
            "7353  1055  @USER αδελφέ, δεν ξέρω τι ακριβώς έγινε.. απλά...       NOT\n",
            "3181  7142  Τα γαλλικά, ήταν η γλώσσα της Αριστοκρατίας τό...       NOT\n",
            "1626  3768  @USER Ρε Κουλη σε ξέρουμε επειδή φαίνεσαι και ...       NOT\n",
            "7634  5698  Από το πρωί είμαι με ένα «τι κοιτάς ρε μαλακισ...       OFF\n"
          ],
          "name": "stdout"
        }
      ]
    },
    {
      "cell_type": "markdown",
      "metadata": {
        "id": "dl9OpZZTscJ0",
        "colab_type": "text"
      },
      "source": [
        "We load the data and create the validation splits as before."
      ]
    },
    {
      "cell_type": "code",
      "metadata": {
        "id": "6vMyDTjoscJ2",
        "colab_type": "code",
        "colab": {}
      },
      "source": [
        "from torchtext import datasets\n",
        "from torchtext import data\n",
        "\n",
        "train_val_fields = [\n",
        "    ('id', None), # we dont need this, so no processing\n",
        "    ('tweet', TEXT), # process it as label\n",
        "    ('subtask_a', LABEL), # we dont need this, so no processing\n",
        "]\n",
        "train_data, valid_data = data.TabularDataset.splits(path='Greek/', \n",
        "                                            format='csv', \n",
        "                                            train='TrainFilegreek.csv', \n",
        "                                            validation='TestFilegreek.csv', \n",
        "                                            fields=train_val_fields, \n",
        "                                            skip_header=True)\n"
      ],
      "execution_count": 0,
      "outputs": []
    },
    {
      "cell_type": "code",
      "metadata": {
        "id": "SBYyyNyFscJ7",
        "colab_type": "code",
        "outputId": "019df8e3-d023-4b5a-f304-d06797c92f4b",
        "colab": {
          "base_uri": "https://localhost:8080/",
          "height": 52
        }
      },
      "source": [
        "print(f\"Number of training examples: {len(train_data)}\")\n",
        "print(f\"Number of validation examples: {len(valid_data)}\")"
      ],
      "execution_count": 0,
      "outputs": [
        {
          "output_type": "stream",
          "text": [
            "Number of training examples: 6995\n",
            "Number of validation examples: 1749\n"
          ],
          "name": "stdout"
        }
      ]
    },
    {
      "cell_type": "markdown",
      "metadata": {
        "id": "NO__4vKZscKB",
        "colab_type": "text"
      },
      "source": [
        "We can check an example and ensure that the text has already been numericalized."
      ]
    },
    {
      "cell_type": "code",
      "metadata": {
        "id": "YuIRlHjTscKC",
        "colab_type": "code",
        "outputId": "de3eec49-264b-4382-da37-5c51a584babb",
        "colab": {
          "base_uri": "https://localhost:8080/",
          "height": 54
        }
      },
      "source": [
        "print(vars(train_data.examples[6]))"
      ],
      "execution_count": 0,
      "outputs": [
        {
          "output_type": "stream",
          "text": [
            "{'tweet': [476, 13517, 62152, 10484, 466, 97317, 33617, 31796, 13140, 70887, 43202, 31821, 465, 31625, 10649, 483, 29223, 14669, 35670, 45878, 27393, 465, 24767, 107, 471, 480, 16146, 31712, 18015, 469, 17198, 30645, 64472, 27621, 108, 22013, 70279, 53166, 487, 13140, 63444, 61399, 61399, 107, 108, 22013, 70279, 53166, 168, 28174, 12961, 38278], 'subtask_a': 'NOT'}\n"
          ],
          "name": "stdout"
        }
      ]
    },
    {
      "cell_type": "markdown",
      "metadata": {
        "id": "wD0MRplKscKH",
        "colab_type": "text"
      },
      "source": [
        "We can use the `convert_ids_to_tokens` to transform these indexes back into readable tokens."
      ]
    },
    {
      "cell_type": "code",
      "metadata": {
        "id": "n2YLmUNGscKI",
        "colab_type": "code",
        "outputId": "56952338-9292-49d6-e6be-49e2165d1498",
        "colab": {
          "base_uri": "https://localhost:8080/",
          "height": 54
        }
      },
      "source": [
        "tokens = tokenizer.convert_ids_to_tokens(vars(train_data.examples[6])['tweet'])\n",
        "\n",
        "print(tokens)"
      ],
      "execution_count": 0,
      "outputs": [
        {
          "output_type": "stream",
          "text": [
            "['μ', '##ο', '##λι', '##ς', 'β', '##γη', '##κε', 'αν', '##α', '##κο', '##ιν', '##ωση', 'α', '##πο', 'την', 'σ', '##π', '##υ', '##ρι', '##δου', '##λα', 'α', '##κα', '\"', 'η', 'π', '##ρ', '##ω', '##τη', 'ε', '##λ', '##λη', '##νι', '##δα', '#', 'master', '##chef', '##gr', 'χ', '##α', '##χ', '##χα', '##χα', '\"', '#', 'master', '##chef', '##gr', '_', 'xe', '##ft', '##iles']\n"
          ],
          "name": "stdout"
        }
      ]
    },
    {
      "cell_type": "markdown",
      "metadata": {
        "id": "t9h2th4uscKO",
        "colab_type": "text"
      },
      "source": [
        "Although we've handled the vocabulary for the text, we still need to build the vocabulary for the labels."
      ]
    },
    {
      "cell_type": "code",
      "metadata": {
        "id": "Q9lW7T9oscKP",
        "colab_type": "code",
        "colab": {}
      },
      "source": [
        "LABEL.build_vocab(train_data)"
      ],
      "execution_count": 0,
      "outputs": []
    },
    {
      "cell_type": "code",
      "metadata": {
        "id": "NUxtDneZscKU",
        "colab_type": "code",
        "outputId": "42052c55-f40d-473c-deea-c876b78e67c4",
        "colab": {
          "base_uri": "https://localhost:8080/",
          "height": 34
        }
      },
      "source": [
        "print(LABEL.vocab.stoi)"
      ],
      "execution_count": 0,
      "outputs": [
        {
          "output_type": "stream",
          "text": [
            "defaultdict(<function _default_unk_index at 0x7f9a84579d90>, {'NOT': 0, 'OFF': 1})\n"
          ],
          "name": "stdout"
        }
      ]
    },
    {
      "cell_type": "markdown",
      "metadata": {
        "id": "OFCl5d_GscKZ",
        "colab_type": "text"
      },
      "source": [
        "As before, we create the iterators. Ideally we want to use the largest batch size that we can as I've found this gives the best results for transformers."
      ]
    },
    {
      "cell_type": "code",
      "metadata": {
        "id": "G0bCJlCrscKb",
        "colab_type": "code",
        "colab": {}
      },
      "source": [
        "BATCH_SIZE = 128\n",
        "\n",
        "device = torch.device('cuda' if torch.cuda.is_available() else 'cpu')\n",
        "\n",
        "train_iterator, valid_iterator = data.BucketIterator.splits(\n",
        "    (train_data, valid_data), \n",
        "    batch_size = BATCH_SIZE, \n",
        "    sort=False,\n",
        "    device = device)"
      ],
      "execution_count": 0,
      "outputs": []
    },
    {
      "cell_type": "markdown",
      "metadata": {
        "id": "CnmHF7A_scKg",
        "colab_type": "text"
      },
      "source": [
        "## Build the Model\n",
        "\n",
        "Next, we'll load the pre-trained model, making sure to load the same model as we did for the tokenizer."
      ]
    },
    {
      "cell_type": "code",
      "metadata": {
        "id": "P7sdPGVtscKg",
        "colab_type": "code",
        "colab": {}
      },
      "source": [
        "from transformers import BertTokenizer, BertModel\n",
        "from transformers import BertConfig\n",
        "\n"
      ],
      "execution_count": 0,
      "outputs": []
    },
    {
      "cell_type": "code",
      "metadata": {
        "id": "wg5pniU7duZA",
        "colab_type": "code",
        "colab": {}
      },
      "source": [
        "config1=BertConfig.from_pretrained('bert-base-multilingual-cased',output_hidden_states=True)\n"
      ],
      "execution_count": 0,
      "outputs": []
    },
    {
      "cell_type": "code",
      "metadata": {
        "id": "kT5N2vZRgpyr",
        "colab_type": "code",
        "colab": {}
      },
      "source": [
        "bert =BertModel.from_pretrained('bert-base-multilingual-cased',config=config1)\n"
      ],
      "execution_count": 0,
      "outputs": []
    },
    {
      "cell_type": "markdown",
      "metadata": {
        "id": "abyyFTbGscKk",
        "colab_type": "text"
      },
      "source": [
        "Next, we'll define our actual model. \n",
        "\n",
        "Instead of using an embedding layer to get embeddings for our text, we'll be using the pre-trained transformer model. These embeddings will then be fed into a GRU to produce a prediction for the sentiment of the input sentence. We get the embedding dimension size (called the `hidden_size`) from the transformer via its config attribute. The rest of the initialization is standard.\n",
        "\n",
        "Within the forward pass, we wrap the transformer in a `no_grad` to ensure no gradients are calculated over this part of the model. The transformer actually returns the embeddings for the whole sequence as well as a *pooled* output. The [documentation](https://huggingface.co/transformers/model_doc/bert.html#transformers.BertModel) states that the pooled output is \"usually not a good summary of the semantic content of the input, you’re often better with averaging or pooling the sequence of hidden-states for the whole input sequence\", hence we will not be using it. The rest of the forward pass is the standard implementation of a recurrent model, where we take the hidden state over the final time-step, and pass it through a linear layer to get our predictions."
      ]
    },
    {
      "cell_type": "code",
      "metadata": {
        "id": "LS8KPV7WscKl",
        "colab_type": "code",
        "colab": {}
      },
      "source": [
        "import torch.nn as nn\n",
        "from transformers import BertConfig\n",
        "class BERTGRUSentiment(nn.Module):\n",
        "    def __init__(self,\n",
        "                 bert,\n",
        "                 hidden_dim,\n",
        "                 output_dim,\n",
        "                 n_layers,\n",
        "                 bidirectional,\n",
        "                 dropout):\n",
        "        \n",
        "        super().__init__()\n",
        "        \n",
        "        self.bert = bert\n",
        "        \n",
        "        embedding_dim = bert.config.to_dict()['hidden_size']*4\n",
        "        \n",
        "        self.rnn = nn.GRU(embedding_dim,\n",
        "                          hidden_dim,\n",
        "                          num_layers = n_layers,\n",
        "                          bidirectional = bidirectional,\n",
        "                          batch_first = True,\n",
        "                          dropout = 0 if n_layers < 2 else dropout)\n",
        "        \n",
        "        self.out = nn.Linear(hidden_dim * 2 if bidirectional else hidden_dim, output_dim)\n",
        "        \n",
        "        self.dropout = nn.Dropout(dropout)\n",
        "        \n",
        "    def forward(self, text):\n",
        "        \n",
        "        #text = [batch size, sent len]\n",
        "                \n",
        "        with torch.no_grad():\n",
        "            embedded= self.bert(text)\n",
        "        hidden=embedded[-1]\n",
        "        #print(hidden[12].size())\n",
        "        #print(embedded[0].size())\n",
        "        #print(len(hidden))\n",
        "        '''\n",
        "        encoded_layers=hidden\n",
        "        print (\"Number of layers:\", len(encoded_layers))\n",
        "        layer_i = 0\n",
        "\n",
        "        print (\"Number of batches:\", len(encoded_layers[layer_i]))\n",
        "        batch_i = 0\n",
        "\n",
        "        print (\"Number of tokens:\", len(encoded_layers[layer_i][batch_i]))\n",
        "        token_i = 0\n",
        "\n",
        "        print (\"Number of hidden units:\", len(encoded_layers[layer_i][batch_i][token_i]))\n",
        "        '''\n",
        "\n",
        "        token_embeddings=torch.stack(hidden, dim=0)\n",
        "        #print(token_embeddings.size())\n",
        "        token_embeddings = torch.squeeze(token_embeddings, dim=1)\n",
        "        #print(token_embeddings.size())\n",
        "        token_embeddings = token_embeddings.permute(1,2,0,3)\n",
        "        #print(token_embeddings.size())\n",
        "        token_vecs_cat = []\n",
        "        irnn=[]\n",
        "        for b in token_embeddings:\n",
        "          token_vecs_cat = []\n",
        "          for token in b:\n",
        "           cat_vec = torch.cat((token[-1], token[-2], token[-3], token[-4]), dim=0)\n",
        "           #print(\"cat_vec\",len(cat_vec))\n",
        "           token_vecs_cat.append(cat_vec)\n",
        "           #a=torch.Tensor(token_vecs_cat)\n",
        "           #print(len(token_vecs_cat))\n",
        "          a = torch.stack(token_vecs_cat)#.to(device)\n",
        "          irnn.append(a) \n",
        "        z=torch.stack(irnn)#.to(device)\n",
        "        '''print(z.size())\n",
        "        print ('Shape is: %d x %d x %d' % (len(z), len(z[0]),len(z[1])))\n",
        "        print(type(z))\n",
        "        print(type(z[0]))\n",
        "        print(type(z[1]))\n",
        "        '''\n",
        "        _, hidden = self.rnn(z)\n",
        "        \n",
        "        #hidden = [n layers * n directions, batch size, emb dim]\n",
        "        \n",
        "        if self.rnn.bidirectional:\n",
        "            hidden = self.dropout(torch.cat((hidden[-2,:,:], hidden[-1,:,:]), dim = 1))\n",
        "        else:\n",
        "            hidden = self.dropout(hidden[-1,:,:])\n",
        "                \n",
        "        #hidden = [batch size, hid dim]\n",
        "        \n",
        "        output = self.out(hidden)\n",
        "        \n",
        "        #output = [batch size, out dim]\n",
        "        \n",
        "        return output"
      ],
      "execution_count": 0,
      "outputs": []
    },
    {
      "cell_type": "code",
      "metadata": {
        "id": "jWcm1RM8yktU",
        "colab_type": "code",
        "outputId": "a1d2db2e-7840-4940-c5fd-f80c8f8c7ada",
        "colab": {
          "base_uri": "https://localhost:8080/",
          "height": 121
        }
      },
      "source": [
        "import torch\n",
        "a=[[[1,2,3],[2,3,4]],[[1,2,3],[2,3,4]]]\n",
        "b=torch.Tensor(a)\n",
        "print(b)\n",
        "print(b.size())"
      ],
      "execution_count": 0,
      "outputs": [
        {
          "output_type": "stream",
          "text": [
            "tensor([[[1., 2., 3.],\n",
            "         [2., 3., 4.]],\n",
            "\n",
            "        [[1., 2., 3.],\n",
            "         [2., 3., 4.]]])\n",
            "torch.Size([2, 2, 3])\n"
          ],
          "name": "stdout"
        }
      ]
    },
    {
      "cell_type": "code",
      "metadata": {
        "id": "FPTyANrGdmx2",
        "colab_type": "code",
        "colab": {}
      },
      "source": [
        ""
      ],
      "execution_count": 0,
      "outputs": []
    },
    {
      "cell_type": "markdown",
      "metadata": {
        "id": "9nIkKzFMscKp",
        "colab_type": "text"
      },
      "source": [
        "Next, we create an instance of our model using standard hyperparameters."
      ]
    },
    {
      "cell_type": "code",
      "metadata": {
        "id": "fEIqrIG8scKq",
        "colab_type": "code",
        "colab": {}
      },
      "source": [
        "HIDDEN_DIM = 512\n",
        "OUTPUT_DIM = 1\n",
        "N_LAYERS = 2\n",
        "BIDIRECTIONAL = True\n",
        "DROPOUT = 0.25\n",
        "\n",
        "model = BERTGRUSentiment(bert,\n",
        "                         HIDDEN_DIM,\n",
        "                         OUTPUT_DIM,\n",
        "                         N_LAYERS,\n",
        "                         BIDIRECTIONAL,\n",
        "                         DROPOUT)"
      ],
      "execution_count": 0,
      "outputs": []
    },
    {
      "cell_type": "markdown",
      "metadata": {
        "id": "BZ_AjA6HscKv",
        "colab_type": "text"
      },
      "source": [
        "We can check how many parameters the model has. Our standard models have under 5M, but this one has 112M! Luckily, 110M of these parameters are from the transformer and we will not be training those."
      ]
    },
    {
      "cell_type": "code",
      "metadata": {
        "id": "sbyI1h18scKy",
        "colab_type": "code",
        "outputId": "483b0319-eaf2-4f49-da7c-ce751d2fab8f",
        "colab": {
          "base_uri": "https://localhost:8080/",
          "height": 34
        }
      },
      "source": [
        "def count_parameters(model):\n",
        "    return sum(p.numel() for p in model.parameters() if p.requires_grad)\n",
        "\n",
        "print(f'The model has {count_parameters(model):,} trainable parameters')"
      ],
      "execution_count": 0,
      "outputs": [
        {
          "output_type": "stream",
          "text": [
            "The model has 193,595,393 trainable parameters\n"
          ],
          "name": "stdout"
        }
      ]
    },
    {
      "cell_type": "markdown",
      "metadata": {
        "id": "Jh77212_scK2",
        "colab_type": "text"
      },
      "source": [
        "In order to freeze paramers (not train them) we need to set their `requires_grad` attribute to `False`. To do this, we simply loop through all of the `named_parameters` in our model and if they're a part of the `bert` transformer model, we set `requires_grad = False`. "
      ]
    },
    {
      "cell_type": "code",
      "metadata": {
        "id": "QkYmbhy9scK3",
        "colab_type": "code",
        "colab": {}
      },
      "source": [
        "for name, param in model.named_parameters():                \n",
        "    if name.startswith('bert'):\n",
        "        param.requires_grad = False"
      ],
      "execution_count": 0,
      "outputs": []
    },
    {
      "cell_type": "markdown",
      "metadata": {
        "id": "tOgSWEN6scK7",
        "colab_type": "text"
      },
      "source": [
        "We can now see that our model has under 3M trainable parameters, making it almost comparable to the `FastText` model. However, the text still has to propagate through the transformer which causes training to take considerably longer."
      ]
    },
    {
      "cell_type": "code",
      "metadata": {
        "id": "kJIl5tYVscK8",
        "colab_type": "code",
        "outputId": "64099ae6-8750-4b19-8436-d36cf96cb327",
        "colab": {
          "base_uri": "https://localhost:8080/",
          "height": 34
        }
      },
      "source": [
        "def count_parameters(model):\n",
        "    return sum(p.numel() for p in model.parameters() if p.requires_grad)\n",
        "\n",
        "print(f'The model has {count_parameters(model):,} trainable parameters')"
      ],
      "execution_count": 0,
      "outputs": [
        {
          "output_type": "stream",
          "text": [
            "The model has 15,741,953 trainable parameters\n"
          ],
          "name": "stdout"
        }
      ]
    },
    {
      "cell_type": "markdown",
      "metadata": {
        "id": "9rbNQ44EscLB",
        "colab_type": "text"
      },
      "source": [
        "We can double check the names of the trainable parameters, ensuring they make sense. As we can see, they are all the parameters of the GRU (`rnn`) and the linear layer (`out`)."
      ]
    },
    {
      "cell_type": "code",
      "metadata": {
        "id": "c2QcdD9uscLB",
        "colab_type": "code",
        "outputId": "52b67927-9922-4e3d-fa2a-167d075624af",
        "colab": {
          "base_uri": "https://localhost:8080/",
          "height": 330
        }
      },
      "source": [
        "for name, param in model.named_parameters():                \n",
        "    if param.requires_grad:\n",
        "        print(name)"
      ],
      "execution_count": 0,
      "outputs": [
        {
          "output_type": "stream",
          "text": [
            "rnn.weight_ih_l0\n",
            "rnn.weight_hh_l0\n",
            "rnn.bias_ih_l0\n",
            "rnn.bias_hh_l0\n",
            "rnn.weight_ih_l0_reverse\n",
            "rnn.weight_hh_l0_reverse\n",
            "rnn.bias_ih_l0_reverse\n",
            "rnn.bias_hh_l0_reverse\n",
            "rnn.weight_ih_l1\n",
            "rnn.weight_hh_l1\n",
            "rnn.bias_ih_l1\n",
            "rnn.bias_hh_l1\n",
            "rnn.weight_ih_l1_reverse\n",
            "rnn.weight_hh_l1_reverse\n",
            "rnn.bias_ih_l1_reverse\n",
            "rnn.bias_hh_l1_reverse\n",
            "out.weight\n",
            "out.bias\n"
          ],
          "name": "stdout"
        }
      ]
    },
    {
      "cell_type": "markdown",
      "metadata": {
        "id": "pdG-jBFescLF",
        "colab_type": "text"
      },
      "source": [
        "## Train the Model\n",
        "\n",
        "As is standard, we define our optimizer and criterion (loss function)."
      ]
    },
    {
      "cell_type": "code",
      "metadata": {
        "id": "5HCgrge6scLH",
        "colab_type": "code",
        "colab": {}
      },
      "source": [
        "import torch.optim as optim\n",
        "from transformers import AdamW\n",
        "\n",
        "optimizer = optim.Adam(model.parameters())"
      ],
      "execution_count": 0,
      "outputs": []
    },
    {
      "cell_type": "code",
      "metadata": {
        "id": "ZVXs0n9UscLJ",
        "colab_type": "code",
        "colab": {}
      },
      "source": [
        "criterion = nn.BCEWithLogitsLoss()"
      ],
      "execution_count": 0,
      "outputs": []
    },
    {
      "cell_type": "markdown",
      "metadata": {
        "id": "gSXQSypMscLN",
        "colab_type": "text"
      },
      "source": [
        "Place the model and criterion onto the GPU (if available)"
      ]
    },
    {
      "cell_type": "code",
      "metadata": {
        "id": "hxgQxlJXscLO",
        "colab_type": "code",
        "colab": {}
      },
      "source": [
        "model = model.to(device)\n",
        "criterion = criterion.to(device)"
      ],
      "execution_count": 0,
      "outputs": []
    },
    {
      "cell_type": "markdown",
      "metadata": {
        "id": "PhOXvEYFscLS",
        "colab_type": "text"
      },
      "source": [
        "Next, we'll define functions for: calculating accuracy, performing a training epoch, performing an evaluation epoch and calculating how long a training/evaluation epoch takes."
      ]
    },
    {
      "cell_type": "code",
      "metadata": {
        "id": "SEU_NUOOscLS",
        "colab_type": "code",
        "colab": {}
      },
      "source": [
        "def binary_accuracy(preds, y):\n",
        "    \"\"\"\n",
        "    Returns accuracy per batch, i.e. if you get 8/10 right, this returns 0.8, NOT 8\n",
        "    \"\"\"\n",
        "\n",
        "    #round predictions to the closest integer\n",
        "    rounded_preds = torch.round(torch.sigmoid(preds))\n",
        "    correct = (rounded_preds == y).float() #convert into float for division \n",
        "    acc = correct.sum() / len(correct)\n",
        "    return acc"
      ],
      "execution_count": 0,
      "outputs": []
    },
    {
      "cell_type": "code",
      "metadata": {
        "id": "quYVUygE2u4v",
        "colab_type": "code",
        "colab": {}
      },
      "source": [
        "from sklearn.metrics import f1_score\n",
        "from sklearn.metrics import accuracy_score\n",
        "\n",
        "def binary_accuracy2(preds, y):\n",
        "    #round predictions to the closest integer\n",
        "    rounded_preds = torch.round(torch.sigmoid(preds))\n",
        "    correct = (rounded_preds == y).float() #convert into float for division \n",
        "    acc = correct.sum() / len(correct)\n",
        "    #print(\"Predicted\",rounded_preds)\n",
        "    #print(\"labelsFlattend\",y)\n",
        "    return f1_score(y.detach().cpu().numpy(), rounded_preds.detach().cpu().numpy(), average='macro'),acc"
      ],
      "execution_count": 0,
      "outputs": []
    },
    {
      "cell_type": "code",
      "metadata": {
        "id": "HjVM0U8kscLW",
        "colab_type": "code",
        "colab": {}
      },
      "source": [
        "def train(model, iterator, optimizer, criterion):\n",
        "    \n",
        "    epoch_loss = 0\n",
        "    epoch_acc = 0\n",
        "    \n",
        "    model.train()\n",
        "    \n",
        "    for batch in iterator:\n",
        "        #print(batch)\n",
        "        optimizer.zero_grad()\n",
        "        \n",
        "        predictions = model(batch.tweet).squeeze(1)\n",
        "        \n",
        "        loss = criterion(predictions, batch.subtask_a)\n",
        "        \n",
        "        acc = binary_accuracy(predictions, batch.subtask_a)\n",
        "        \n",
        "        loss.backward()\n",
        "        \n",
        "        optimizer.step()\n",
        "        \n",
        "        epoch_loss += loss.item()\n",
        "        epoch_acc += acc.item()\n",
        "        \n",
        "    return epoch_loss / len(iterator), epoch_acc / len(iterator)"
      ],
      "execution_count": 0,
      "outputs": []
    },
    {
      "cell_type": "code",
      "metadata": {
        "id": "Uhjbtc1cscLY",
        "colab_type": "code",
        "colab": {}
      },
      "source": [
        "def evaluate(model, iterator, criterion):\n",
        "    \n",
        "    epoch_loss = 0\n",
        "    epoch_acc = 0\n",
        "    nb_eval_steps=0\n",
        "    eval_acc=0\n",
        "    eval_f1=0\n",
        "    model.eval()\n",
        "    \n",
        "    with torch.no_grad():\n",
        "    \n",
        "        for batch in iterator:\n",
        "\n",
        "            predictions = model(batch.tweet).squeeze(1)\n",
        "            \n",
        "            loss = criterion(predictions, batch.subtask_a)\n",
        "            \n",
        "            tmpf1score,acc = binary_accuracy2(predictions, batch.subtask_a)\n",
        "            eval_f1 = eval_f1+tmpf1score\n",
        "            eval_acc=eval_acc+acc\n",
        "            nb_eval_steps += 1\n",
        "            epoch_loss += loss.item()\n",
        "            epoch_acc += acc.item()\n",
        "\n",
        "    print(\"  F1 score: {0:.3f}\".format(eval_f1/nb_eval_steps))\n",
        "    print(\"  Accuracy score: {0:.3f}\".format(eval_acc/nb_eval_steps))\n",
        " \n",
        "    return epoch_loss / len(iterator), epoch_acc / len(iterator)"
      ],
      "execution_count": 0,
      "outputs": []
    },
    {
      "cell_type": "code",
      "metadata": {
        "id": "H1HkVDIc6rjh",
        "colab_type": "code",
        "colab": {}
      },
      "source": [
        "def evaluate(model, iterator, criterion):\n",
        "    \n",
        "    epoch_loss = 0\n",
        "    epoch_acc = 0\n",
        "    nb_eval_steps=0\n",
        "    eval_acc=0\n",
        "    eval_f1=0\n",
        "    model.eval()\n",
        "    \n",
        "    with torch.no_grad():\n",
        "    \n",
        "        for batch in iterator:\n",
        "\n",
        "            predictions = model(batch.tweet).squeeze(1)\n",
        "            \n",
        "            loss = criterion(predictions, batch.subtask_a)\n",
        "            \n",
        "            tmpf1score,acc = binary_accuracy2(predictions, batch.subtask_a)\n",
        "            eval_f1 = eval_f1+tmpf1score\n",
        "            eval_acc=eval_acc+acc\n",
        "            nb_eval_steps += 1\n",
        "            epoch_loss += loss.item()\n",
        "            epoch_acc += acc.item()\n",
        "\n",
        "    print(\"  F1 score: {0:.3f}\".format(eval_f1/nb_eval_steps))\n",
        "    print(\"  Accuracy score: {0:.3f}\".format(eval_acc/nb_eval_steps))\n",
        " \n",
        "    return epoch_loss / len(iterator), epoch_acc / len(iterator)"
      ],
      "execution_count": 0,
      "outputs": []
    },
    {
      "cell_type": "code",
      "metadata": {
        "id": "948kFVunscLs",
        "colab_type": "code",
        "colab": {}
      },
      "source": [
        "import time\n",
        "\n",
        "def epoch_time(start_time, end_time):\n",
        "    elapsed_time = end_time - start_time\n",
        "    elapsed_mins = int(elapsed_time / 60)\n",
        "    elapsed_secs = int(elapsed_time - (elapsed_mins * 60))\n",
        "    return elapsed_mins, elapsed_secs"
      ],
      "execution_count": 0,
      "outputs": []
    },
    {
      "cell_type": "markdown",
      "metadata": {
        "id": "xt-rBERHscLw",
        "colab_type": "text"
      },
      "source": [
        "Finally, we'll train our model. This takes considerably longer than any of the previous models due to the size of the transformer. Even though we are not training any of the transformer's parameters we still need to pass the data through the model which takes a considerable amount of time on a standard GPU."
      ]
    },
    {
      "cell_type": "code",
      "metadata": {
        "id": "EuZJAXIOscLy",
        "colab_type": "code",
        "outputId": "eb50b918-4115-44a3-aeda-5f30dd0662b1",
        "colab": {
          "base_uri": "https://localhost:8080/",
          "height": 1000
        }
      },
      "source": [
        "N_EPOCHS = 20\n",
        "\n",
        "best_valid_loss = float('inf')\n",
        "\n",
        "for epoch in range(N_EPOCHS):\n",
        "    \n",
        "    start_time = time.time()\n",
        "    \n",
        "    train_loss, train_acc = train(model, train_iterator, optimizer, criterion)\n",
        "    valid_loss, valid_acc = evaluate(model, valid_iterator, criterion)\n",
        "        \n",
        "    end_time = time.time()\n",
        "        \n",
        "    epoch_mins, epoch_secs = epoch_time(start_time, end_time)\n",
        "        \n",
        "    #if valid_loss < best_valid_loss:\n",
        "    #    best_valid_loss = valid_loss\n",
        "    #    torch.save(model.state_dict(), '/content/drive/My Drive/GreekData/bertgreekgru.pth.tar')\n",
        "    \n",
        "    print(f'Epoch: {epoch+1:02} | Epoch Time: {epoch_mins}m {epoch_secs}s')\n",
        "    print(f'\\tTrain Loss: {train_loss:.3f} | Train Acc: {train_acc*100:.2f}%')\n",
        "    print(f'\\t Val. Loss: {valid_loss:.3f} |  Val. Acc: {valid_acc*100:.2f}%')"
      ],
      "execution_count": 0,
      "outputs": [
        {
          "output_type": "stream",
          "text": [
            "torch.Size([128, 144, 768])\n",
            "torch.Size([128, 157, 768])\n",
            "torch.Size([128, 155, 768])\n",
            "torch.Size([128, 158, 768])\n",
            "torch.Size([128, 148, 768])\n",
            "torch.Size([128, 139, 768])\n",
            "torch.Size([128, 152, 768])\n",
            "torch.Size([128, 136, 768])\n",
            "torch.Size([128, 143, 768])\n",
            "torch.Size([128, 149, 768])\n",
            "torch.Size([128, 152, 768])\n",
            "torch.Size([128, 150, 768])\n",
            "torch.Size([128, 168, 768])\n",
            "torch.Size([128, 153, 768])\n",
            "torch.Size([128, 166, 768])\n",
            "torch.Size([128, 151, 768])\n",
            "torch.Size([128, 160, 768])\n",
            "torch.Size([128, 162, 768])\n",
            "torch.Size([128, 142, 768])\n",
            "torch.Size([128, 147, 768])\n",
            "torch.Size([128, 141, 768])\n",
            "torch.Size([128, 143, 768])\n",
            "torch.Size([128, 148, 768])\n",
            "torch.Size([128, 150, 768])\n",
            "torch.Size([83, 145, 768])\n",
            "torch.Size([128, 147, 768])\n",
            "torch.Size([128, 150, 768])\n",
            "torch.Size([128, 139, 768])\n",
            "torch.Size([128, 141, 768])\n",
            "torch.Size([128, 151, 768])\n",
            "torch.Size([128, 167, 768])\n",
            "torch.Size([128, 144, 768])\n",
            "torch.Size([128, 143, 768])\n",
            "torch.Size([128, 141, 768])\n",
            "torch.Size([128, 149, 768])\n",
            "torch.Size([128, 152, 768])\n",
            "torch.Size([128, 146, 768])\n",
            "torch.Size([128, 156, 768])\n",
            "torch.Size([128, 142, 768])\n",
            "torch.Size([128, 154, 768])\n",
            "torch.Size([128, 150, 768])\n",
            "torch.Size([128, 147, 768])\n",
            "torch.Size([128, 151, 768])\n",
            "torch.Size([128, 149, 768])\n",
            "torch.Size([128, 169, 768])\n",
            "torch.Size([128, 149, 768])\n",
            "torch.Size([128, 150, 768])\n",
            "torch.Size([128, 139, 768])\n",
            "torch.Size([128, 149, 768])\n",
            "torch.Size([128, 149, 768])\n",
            "torch.Size([128, 150, 768])\n",
            "torch.Size([128, 164, 768])\n",
            "torch.Size([128, 153, 768])\n",
            "torch.Size([128, 147, 768])\n",
            "torch.Size([128, 145, 768])\n",
            "torch.Size([128, 148, 768])\n",
            "torch.Size([128, 147, 768])\n",
            "torch.Size([128, 142, 768])\n",
            "torch.Size([128, 149, 768])\n",
            "torch.Size([128, 151, 768])\n",
            "torch.Size([128, 148, 768])\n",
            "torch.Size([128, 155, 768])\n",
            "torch.Size([128, 147, 768])\n",
            "torch.Size([128, 145, 768])\n",
            "torch.Size([128, 151, 768])\n",
            "torch.Size([128, 146, 768])\n",
            "torch.Size([128, 145, 768])\n",
            "torch.Size([128, 144, 768])\n",
            "torch.Size([85, 139, 768])\n",
            "  F1 score: 0.465\n",
            "  Accuracy score: 0.728\n",
            "Epoch: 01 | Epoch Time: 2m 11s\n",
            "\tTrain Loss: 0.682 | Train Acc: 67.68%\n",
            "\t Val. Loss: 0.573 |  Val. Acc: 72.85%\n",
            "torch.Size([128, 146, 768])\n",
            "torch.Size([128, 148, 768])\n",
            "torch.Size([128, 150, 768])\n",
            "torch.Size([128, 151, 768])\n",
            "torch.Size([128, 154, 768])\n",
            "torch.Size([128, 149, 768])\n",
            "torch.Size([128, 151, 768])\n",
            "torch.Size([128, 150, 768])\n",
            "torch.Size([128, 149, 768])\n",
            "torch.Size([128, 149, 768])\n",
            "torch.Size([128, 146, 768])\n",
            "torch.Size([128, 153, 768])\n",
            "torch.Size([128, 153, 768])\n",
            "torch.Size([128, 144, 768])\n",
            "torch.Size([128, 146, 768])\n",
            "torch.Size([128, 139, 768])\n",
            "torch.Size([128, 152, 768])\n",
            "torch.Size([128, 167, 768])\n",
            "torch.Size([128, 147, 768])\n",
            "torch.Size([128, 142, 768])\n",
            "torch.Size([128, 168, 768])\n",
            "torch.Size([128, 156, 768])\n",
            "torch.Size([128, 139, 768])\n",
            "torch.Size([128, 142, 768])\n",
            "torch.Size([128, 162, 768])\n",
            "torch.Size([128, 166, 768])\n",
            "torch.Size([128, 169, 768])\n",
            "torch.Size([128, 143, 768])\n",
            "torch.Size([128, 158, 768])\n",
            "torch.Size([83, 157, 768])\n",
            "torch.Size([128, 152, 768])\n",
            "torch.Size([128, 143, 768])\n",
            "torch.Size([128, 150, 768])\n",
            "torch.Size([128, 152, 768])\n",
            "torch.Size([128, 141, 768])\n",
            "torch.Size([128, 155, 768])\n",
            "torch.Size([128, 149, 768])\n",
            "torch.Size([128, 144, 768])\n",
            "torch.Size([128, 151, 768])\n",
            "torch.Size([128, 143, 768])\n",
            "torch.Size([128, 150, 768])\n",
            "torch.Size([128, 150, 768])\n",
            "torch.Size([128, 160, 768])\n",
            "torch.Size([128, 143, 768])\n",
            "torch.Size([128, 143, 768])\n",
            "torch.Size([128, 149, 768])\n",
            "torch.Size([128, 154, 768])\n",
            "torch.Size([128, 151, 768])\n",
            "torch.Size([128, 142, 768])\n",
            "torch.Size([128, 147, 768])\n",
            "torch.Size([128, 145, 768])\n",
            "torch.Size([128, 138, 768])\n",
            "torch.Size([128, 156, 768])\n",
            "torch.Size([128, 150, 768])\n",
            "torch.Size([128, 140, 768])\n",
            "torch.Size([128, 148, 768])\n",
            "torch.Size([128, 147, 768])\n",
            "torch.Size([128, 142, 768])\n",
            "torch.Size([128, 149, 768])\n",
            "torch.Size([128, 151, 768])\n",
            "torch.Size([128, 148, 768])\n",
            "torch.Size([128, 155, 768])\n",
            "torch.Size([128, 147, 768])\n",
            "torch.Size([128, 145, 768])\n",
            "torch.Size([128, 151, 768])\n",
            "torch.Size([128, 146, 768])\n",
            "torch.Size([128, 145, 768])\n",
            "torch.Size([128, 144, 768])\n",
            "torch.Size([85, 139, 768])\n",
            "  F1 score: 0.454\n",
            "  Accuracy score: 0.739\n",
            "Epoch: 02 | Epoch Time: 2m 8s\n",
            "\tTrain Loss: 0.580 | Train Acc: 71.03%\n",
            "\t Val. Loss: 0.533 |  Val. Acc: 73.88%\n",
            "torch.Size([128, 143, 768])\n",
            "torch.Size([128, 147, 768])\n",
            "torch.Size([128, 156, 768])\n",
            "torch.Size([128, 150, 768])\n",
            "torch.Size([128, 166, 768])\n",
            "torch.Size([128, 139, 768])\n",
            "torch.Size([128, 162, 768])\n",
            "torch.Size([128, 139, 768])\n",
            "torch.Size([128, 146, 768])\n",
            "torch.Size([128, 149, 768])\n",
            "torch.Size([128, 156, 768])\n",
            "torch.Size([128, 151, 768])\n",
            "torch.Size([128, 139, 768])\n",
            "torch.Size([128, 158, 768])\n",
            "torch.Size([128, 153, 768])\n",
            "torch.Size([128, 150, 768])\n",
            "torch.Size([128, 148, 768])\n",
            "torch.Size([128, 155, 768])\n",
            "torch.Size([128, 149, 768])\n",
            "torch.Size([128, 151, 768])\n",
            "torch.Size([128, 146, 768])\n",
            "torch.Size([128, 149, 768])\n",
            "torch.Size([128, 169, 768])\n",
            "torch.Size([128, 152, 768])\n",
            "torch.Size([128, 145, 768])\n",
            "torch.Size([128, 141, 768])\n",
            "torch.Size([128, 146, 768])\n",
            "torch.Size([128, 149, 768])\n",
            "torch.Size([128, 149, 768])\n",
            "torch.Size([128, 140, 768])\n",
            "torch.Size([128, 146, 768])\n",
            "torch.Size([128, 148, 768])\n",
            "torch.Size([128, 153, 768])\n",
            "torch.Size([128, 137, 768])\n",
            "torch.Size([128, 142, 768])\n",
            "torch.Size([83, 145, 768])\n",
            "torch.Size([128, 149, 768])\n",
            "torch.Size([128, 150, 768])\n",
            "torch.Size([128, 164, 768])\n",
            "torch.Size([128, 154, 768])\n",
            "torch.Size([128, 168, 768])\n",
            "torch.Size([128, 150, 768])\n",
            "torch.Size([128, 139, 768])\n",
            "torch.Size([128, 150, 768])\n",
            "torch.Size([128, 144, 768])\n",
            "torch.Size([128, 147, 768])\n",
            "torch.Size([128, 167, 768])\n",
            "torch.Size([128, 150, 768])\n",
            "torch.Size([128, 154, 768])\n",
            "torch.Size([128, 160, 768])\n",
            "torch.Size([128, 146, 768])\n",
            "torch.Size([128, 149, 768])\n",
            "torch.Size([128, 156, 768])\n",
            "torch.Size([128, 143, 768])\n",
            "torch.Size([128, 145, 768])\n",
            "torch.Size([128, 148, 768])\n",
            "torch.Size([128, 147, 768])\n",
            "torch.Size([128, 142, 768])\n",
            "torch.Size([128, 149, 768])\n",
            "torch.Size([128, 151, 768])\n",
            "torch.Size([128, 148, 768])\n",
            "torch.Size([128, 155, 768])\n",
            "torch.Size([128, 147, 768])\n",
            "torch.Size([128, 145, 768])\n",
            "torch.Size([128, 151, 768])\n",
            "torch.Size([128, 146, 768])\n",
            "torch.Size([128, 145, 768])\n",
            "torch.Size([128, 144, 768])\n",
            "torch.Size([85, 139, 768])\n",
            "  F1 score: 0.736\n",
            "  Accuracy score: 0.827\n",
            "Epoch: 03 | Epoch Time: 2m 8s\n",
            "\tTrain Loss: 0.505 | Train Acc: 77.08%\n",
            "\t Val. Loss: 0.428 |  Val. Acc: 82.72%\n",
            "torch.Size([128, 149, 768])\n",
            "torch.Size([128, 147, 768])\n",
            "torch.Size([128, 152, 768])\n",
            "torch.Size([128, 148, 768])\n",
            "torch.Size([128, 155, 768])\n",
            "torch.Size([128, 169, 768])\n",
            "torch.Size([128, 146, 768])\n",
            "torch.Size([128, 151, 768])\n",
            "torch.Size([128, 147, 768])\n",
            "torch.Size([128, 145, 768])\n",
            "torch.Size([128, 139, 768])\n",
            "torch.Size([128, 154, 768])\n",
            "torch.Size([128, 139, 768])\n",
            "torch.Size([128, 144, 768])\n",
            "torch.Size([128, 149, 768])\n",
            "torch.Size([83, 150, 768])\n",
            "torch.Size([128, 164, 768])\n",
            "torch.Size([128, 144, 768])\n",
            "torch.Size([128, 150, 768])\n",
            "torch.Size([128, 144, 768])\n",
            "torch.Size([128, 149, 768])\n",
            "torch.Size([128, 146, 768])\n",
            "torch.Size([128, 147, 768])\n",
            "torch.Size([128, 150, 768])\n",
            "torch.Size([128, 151, 768])\n",
            "torch.Size([128, 147, 768])\n",
            "torch.Size([128, 141, 768])\n",
            "torch.Size([128, 145, 768])\n",
            "torch.Size([128, 149, 768])\n",
            "torch.Size([128, 166, 768])\n",
            "torch.Size([128, 156, 768])\n",
            "torch.Size([128, 158, 768])\n",
            "torch.Size([128, 147, 768])\n",
            "torch.Size([128, 143, 768])\n",
            "torch.Size([128, 146, 768])\n",
            "torch.Size([128, 150, 768])\n",
            "torch.Size([128, 150, 768])\n",
            "torch.Size([128, 137, 768])\n",
            "torch.Size([128, 140, 768])\n",
            "torch.Size([128, 150, 768])\n",
            "torch.Size([128, 151, 768])\n",
            "torch.Size([128, 149, 768])\n",
            "torch.Size([128, 151, 768])\n",
            "torch.Size([128, 154, 768])\n",
            "torch.Size([128, 148, 768])\n",
            "torch.Size([128, 150, 768])\n",
            "torch.Size([128, 156, 768])\n",
            "torch.Size([128, 167, 768])\n",
            "torch.Size([128, 156, 768])\n",
            "torch.Size([128, 150, 768])\n",
            "torch.Size([128, 147, 768])\n",
            "torch.Size([128, 168, 768])\n",
            "torch.Size([128, 146, 768])\n",
            "torch.Size([128, 162, 768])\n",
            "torch.Size([128, 152, 768])\n",
            "torch.Size([128, 148, 768])\n",
            "torch.Size([128, 147, 768])\n",
            "torch.Size([128, 142, 768])\n",
            "torch.Size([128, 149, 768])\n",
            "torch.Size([128, 151, 768])\n",
            "torch.Size([128, 148, 768])\n",
            "torch.Size([128, 155, 768])\n",
            "torch.Size([128, 147, 768])\n",
            "torch.Size([128, 145, 768])\n",
            "torch.Size([128, 151, 768])\n",
            "torch.Size([128, 146, 768])\n",
            "torch.Size([128, 145, 768])\n",
            "torch.Size([128, 144, 768])\n",
            "torch.Size([85, 139, 768])\n",
            "  F1 score: 0.721\n",
            "  Accuracy score: 0.828\n",
            "Epoch: 04 | Epoch Time: 2m 7s\n",
            "\tTrain Loss: 0.444 | Train Acc: 81.23%\n",
            "\t Val. Loss: 0.436 |  Val. Acc: 82.84%\n",
            "torch.Size([128, 143, 768])\n"
          ],
          "name": "stdout"
        }
      ]
    },
    {
      "cell_type": "markdown",
      "metadata": {
        "id": "5-IX1LLJscL2",
        "colab_type": "text"
      },
      "source": [
        "We'll load up the parameters that gave us the best validation loss and try these on the test set - which gives us our best results so far!"
      ]
    },
    {
      "cell_type": "code",
      "metadata": {
        "id": "4KhuQl0yscL3",
        "colab_type": "code",
        "colab": {}
      },
      "source": [
        "torch.save({'state_dict': model.state_dict()}, '/content/drive/My Drive/GreekData/bertgreekgru.pth.tar')\n",
        "checkpoint = torch.load('/content/drive/My Drive/GreekData/bertgreekgru.pth.tar')\n",
        "model.load_state_dict(checkpoint['state_dict'])"
      ],
      "execution_count": 0,
      "outputs": []
    },
    {
      "cell_type": "markdown",
      "metadata": {
        "id": "-08V1ipEscL7",
        "colab_type": "text"
      },
      "source": [
        "## Inference\n",
        "\n",
        "We'll then use the model to test the sentiment of some sequences. We tokenize the input sequence, trim it down to the maximum length, add the special tokens to either side, convert it to a tensor, add a fake batch dimension and then pass it through our model."
      ]
    },
    {
      "cell_type": "code",
      "metadata": {
        "id": "l06lf54AscL9",
        "colab_type": "code",
        "colab": {}
      },
      "source": [
        "def predict_sentiment(model, tokenizer, sentence):\n",
        "    model.eval()\n",
        "    tokens = tokenizer.tokenize(sentence)\n",
        "    tokens = tokens[:max_input_length-2]\n",
        "    indexed = [init_token_idx] + tokenizer.convert_tokens_to_ids(tokens) + [eos_token_idx]\n",
        "    tensor = torch.LongTensor(indexed).to(device)\n",
        "    tensor = tensor.unsqueeze(0)\n",
        "    prediction = torch.sigmoid(model(tensor))\n",
        "    return prediction.item()"
      ],
      "execution_count": 0,
      "outputs": []
    },
    {
      "cell_type": "code",
      "metadata": {
        "id": "tHohxwVascMC",
        "colab_type": "code",
        "colab": {}
      },
      "source": [
        "predict_sentiment(model, tokenizer, \"This film is terrible\")"
      ],
      "execution_count": 0,
      "outputs": []
    },
    {
      "cell_type": "code",
      "metadata": {
        "id": "8dDFHzx3scMH",
        "colab_type": "code",
        "colab": {}
      },
      "source": [
        "predict_sentiment(model, tokenizer, \"This film is great\")"
      ],
      "execution_count": 0,
      "outputs": []
    }
  ]
}