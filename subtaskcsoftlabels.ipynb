{
  "nbformat": 4,
  "nbformat_minor": 0,
  "metadata": {
    "colab": {
      "name": "subtaskcsoftlabels.ipynb",
      "provenance": [],
      "collapsed_sections": []
    },
    "kernelspec": {
      "name": "python3",
      "display_name": "Python 3"
    }
  },
  "cells": [
    {
      "cell_type": "code",
      "metadata": {
        "id": "bhCLCTtuAhul",
        "colab_type": "code",
        "colab": {
          "base_uri": "https://localhost:8080/",
          "height": 128
        },
        "outputId": "8fb25efb-ebe6-405a-efc2-8156c16d4366"
      },
      "source": [
        "from google.colab import drive\n",
        "drive.mount('/content/drive')"
      ],
      "execution_count": 1,
      "outputs": [
        {
          "output_type": "stream",
          "text": [
            "Go to this URL in a browser: https://accounts.google.com/o/oauth2/auth?client_id=947318989803-6bn6qk8qdgf4n4g3pfee6491hc0brc4i.apps.googleusercontent.com&redirect_uri=urn%3aietf%3awg%3aoauth%3a2.0%3aoob&response_type=code&scope=email%20https%3a%2f%2fwww.googleapis.com%2fauth%2fdocs.test%20https%3a%2f%2fwww.googleapis.com%2fauth%2fdrive%20https%3a%2f%2fwww.googleapis.com%2fauth%2fdrive.photos.readonly%20https%3a%2f%2fwww.googleapis.com%2fauth%2fpeopleapi.readonly\n",
            "\n",
            "Enter your authorization code:\n",
            "··········\n",
            "Mounted at /content/drive\n"
          ],
          "name": "stdout"
        }
      ]
    },
    {
      "cell_type": "code",
      "metadata": {
        "id": "ckTbEW0KIRNH",
        "colab_type": "code",
        "colab": {}
      },
      "source": [
        "#this model is  inspired from \n",
        "#https://towardsdatascience.com/multi-class-text-classification-with-lstm-1590bee1bd17"
      ],
      "execution_count": 0,
      "outputs": []
    },
    {
      "cell_type": "code",
      "metadata": {
        "id": "HlleXY4xAsET",
        "colab_type": "code",
        "colab": {}
      },
      "source": [
        "\n",
        "##NOT FOR SYSTEMS\n",
        "!unzip -P ****** -qq '/content/drive/My Drive/EnglishData/task_c_distant.zip' "
      ],
      "execution_count": 0,
      "outputs": []
    },
    {
      "cell_type": "code",
      "metadata": {
        "id": "FHbDCk1HAoWq",
        "colab_type": "code",
        "colab": {}
      },
      "source": [
        "\n",
        "import pandas as pd\n",
        "from keras.models import Sequential\n",
        "from keras.layers import Dense\n",
        "from keras.wrappers.scikit_learn import KerasClassifier\n",
        "from keras.utils import np_utils\n",
        "from sklearn.model_selection import cross_val_score\n",
        "from sklearn.model_selection import KFold\n",
        "from sklearn.preprocessing import LabelEncoder\n",
        "from sklearn.pipeline import Pipeline\n",
        "import numpy as np"
      ],
      "execution_count": 0,
      "outputs": []
    },
    {
      "cell_type": "code",
      "metadata": {
        "id": "6LJq8AGiLSTo",
        "colab_type": "code",
        "colab": {}
      },
      "source": [
        "\n",
        "def convertToFloat(val):\n",
        "    if not val:\n",
        "        return 0    \n",
        "    try:\n",
        "        return np.float64(val)\n",
        "    except:        \n",
        "        return np.float64(0)\n",
        "\n",
        "\n",
        "headers=['id','text','average_ind','average_grp','average_oth','std_ind','std_grp','std_oth']\n",
        "taskc = pd.read_csv(\"task_c_distant_ann.tsv\", delimiter='\\t',names=headers,low_memory=False,converters={\"average_ind\":convertToFloat,\n",
        "                                                                                                    \"average_grp\":convertToFloat,\n",
        "                                                                                                    \"average_oth\":convertToFloat,\n",
        "                                                                                                    \"std_ind\":convertToFloat,\n",
        "                                                                                                    \"std_grp\":convertToFloat,\n",
        "                                                                                                    \"std_oth\":convertToFloat})\n",
        "taskc=taskc[1:]"
      ],
      "execution_count": 0,
      "outputs": []
    },
    {
      "cell_type": "code",
      "metadata": {
        "id": "fAZlsG1eLks2",
        "colab_type": "code",
        "colab": {
          "base_uri": "https://localhost:8080/",
          "height": 198
        },
        "outputId": "1bda806e-fc3d-42d4-8b3f-decc0c6fccfa"
      },
      "source": [
        "taskc.head()"
      ],
      "execution_count": 10,
      "outputs": [
        {
          "output_type": "execute_result",
          "data": {
            "text/html": [
              "<div>\n",
              "<style scoped>\n",
              "    .dataframe tbody tr th:only-of-type {\n",
              "        vertical-align: middle;\n",
              "    }\n",
              "\n",
              "    .dataframe tbody tr th {\n",
              "        vertical-align: top;\n",
              "    }\n",
              "\n",
              "    .dataframe thead th {\n",
              "        text-align: right;\n",
              "    }\n",
              "</style>\n",
              "<table border=\"1\" class=\"dataframe\">\n",
              "  <thead>\n",
              "    <tr style=\"text-align: right;\">\n",
              "      <th></th>\n",
              "      <th>id</th>\n",
              "      <th>text</th>\n",
              "      <th>average_ind</th>\n",
              "      <th>average_grp</th>\n",
              "      <th>average_oth</th>\n",
              "      <th>std_ind</th>\n",
              "      <th>std_grp</th>\n",
              "      <th>std_oth</th>\n",
              "    </tr>\n",
              "  </thead>\n",
              "  <tbody>\n",
              "    <tr>\n",
              "      <th>1</th>\n",
              "      <td>1159533712079503361</td>\n",
              "      <td>@USER Trump is a fucking idiot his dementia is...</td>\n",
              "      <td>0.833432</td>\n",
              "      <td>0.076110</td>\n",
              "      <td>0.107765</td>\n",
              "      <td>0.208334</td>\n",
              "      <td>0.098937</td>\n",
              "      <td>0.138649</td>\n",
              "    </tr>\n",
              "    <tr>\n",
              "      <th>2</th>\n",
              "      <td>1159533713044234241</td>\n",
              "      <td>@USER HELL YES! His grinned and thumbs up are ...</td>\n",
              "      <td>0.481062</td>\n",
              "      <td>0.367363</td>\n",
              "      <td>0.138841</td>\n",
              "      <td>0.345225</td>\n",
              "      <td>0.335924</td>\n",
              "      <td>0.083230</td>\n",
              "    </tr>\n",
              "    <tr>\n",
              "      <th>3</th>\n",
              "      <td>1159533718345830400</td>\n",
              "      <td>@USER Can't wait to see the shit show his deat...</td>\n",
              "      <td>0.438813</td>\n",
              "      <td>0.268574</td>\n",
              "      <td>0.377573</td>\n",
              "      <td>0.182609</td>\n",
              "      <td>0.186880</td>\n",
              "      <td>0.254621</td>\n",
              "    </tr>\n",
              "    <tr>\n",
              "      <th>4</th>\n",
              "      <td>1159533739871002625</td>\n",
              "      <td>@USER @USER @USER This guys is dumb check his ...</td>\n",
              "      <td>0.712995</td>\n",
              "      <td>0.123504</td>\n",
              "      <td>0.111130</td>\n",
              "      <td>0.248839</td>\n",
              "      <td>0.107572</td>\n",
              "      <td>0.067552</td>\n",
              "    </tr>\n",
              "    <tr>\n",
              "      <th>5</th>\n",
              "      <td>1159533742366633984</td>\n",
              "      <td>@USER @USER Fuck him better than his hoes</td>\n",
              "      <td>0.691414</td>\n",
              "      <td>0.146723</td>\n",
              "      <td>0.192282</td>\n",
              "      <td>0.204415</td>\n",
              "      <td>0.154818</td>\n",
              "      <td>0.104436</td>\n",
              "    </tr>\n",
              "  </tbody>\n",
              "</table>\n",
              "</div>"
            ],
            "text/plain": [
              "                    id  ...   std_oth\n",
              "1  1159533712079503361  ...  0.138649\n",
              "2  1159533713044234241  ...  0.083230\n",
              "3  1159533718345830400  ...  0.254621\n",
              "4  1159533739871002625  ...  0.067552\n",
              "5  1159533742366633984  ...  0.104436\n",
              "\n",
              "[5 rows x 8 columns]"
            ]
          },
          "metadata": {
            "tags": []
          },
          "execution_count": 10
        }
      ]
    },
    {
      "cell_type": "code",
      "metadata": {
        "id": "5_l5T9EJLyMg",
        "colab_type": "code",
        "colab": {
          "base_uri": "https://localhost:8080/",
          "height": 454
        },
        "outputId": "fb8833bc-1830-400e-cee5-1067d86703b4"
      },
      "source": [
        "taskc.values"
      ],
      "execution_count": 11,
      "outputs": [
        {
          "output_type": "execute_result",
          "data": {
            "text/plain": [
              "array([['1159533712079503361',\n",
              "        '@USER Trump is a fucking idiot his dementia is getting worse',\n",
              "        0.8334315660070198, ..., 0.20833409336419706,\n",
              "        0.09893746284301566, 0.1386493230104102],\n",
              "       ['1159533713044234241',\n",
              "        '@USER HELL YES! His grinned and thumbs up are disgusting!',\n",
              "        0.48106237178573397, ..., 0.3452248610539589,\n",
              "        0.33592350092689993, 0.08323036242339713],\n",
              "       ['1159533718345830400',\n",
              "        \"@USER Can't wait to see the shit show his death will bring.\",\n",
              "        0.4388127663192773, ..., 0.18260870386171185,\n",
              "        0.18688048564468512, 0.25462109958562573],\n",
              "       ...,\n",
              "       ['1187636295306268673',\n",
              "        'I meant tool but the point is women ain’t shit. 🙅🏻\\u200d♂️🤷🏻\\u200d♂️',\n",
              "        0.36375786996300313, ..., 0.23943555651707127,\n",
              "        0.16535075005267147, 0.09506541000311416],\n",
              "       ['1187636299785744384', '@USER i sang too the fuck-',\n",
              "        0.5982300263631064, ..., 0.19187065632830977,\n",
              "        0.10707485138459394, 0.11520566509045577],\n",
              "       ['1187636316487520258',\n",
              "        'obviously ur allowed to not like the ship but using that excuse is so stale like fuck off.',\n",
              "        0.6849481559629798, ..., 0.19227685039701298,\n",
              "        0.14081314237397982, 0.16559246442850858]], dtype=object)"
            ]
          },
          "metadata": {
            "tags": []
          },
          "execution_count": 11
        }
      ]
    },
    {
      "cell_type": "code",
      "metadata": {
        "id": "tfa9MbOBMBlR",
        "colab_type": "code",
        "colab": {}
      },
      "source": [
        "\n",
        "dfnumpy=taskc.to_numpy();\n",
        "x_train=dfnumpy[:, 1].reshape(-1, 1)\n",
        "y_train1=dfnumpy[:, 2].reshape(-1, 1)\n",
        "y_train2=dfnumpy[:, 3].reshape(-1, 1)\n",
        "y_train3=dfnumpy[:, 4].reshape(-1, 1)\n",
        "\n"
      ],
      "execution_count": 0,
      "outputs": []
    },
    {
      "cell_type": "code",
      "metadata": {
        "id": "_idtKA4oNkU4",
        "colab_type": "code",
        "colab": {}
      },
      "source": [
        "y=np.stack((y_train1.flatten(),y_train2.flatten(),y_train3.flatten()), axis=-1, out=None)"
      ],
      "execution_count": 0,
      "outputs": []
    },
    {
      "cell_type": "code",
      "metadata": {
        "id": "JX2XZKTtOPNN",
        "colab_type": "code",
        "colab": {
          "base_uri": "https://localhost:8080/",
          "height": 145
        },
        "outputId": "8014d250-ab23-4c87-b24f-f9402f459ce0"
      },
      "source": [
        "y_train2"
      ],
      "execution_count": 31,
      "outputs": [
        {
          "output_type": "execute_result",
          "data": {
            "text/plain": [
              "array([[0.07610979866070268],\n",
              "       [0.3673629474131143],\n",
              "       [0.2685740368872388],\n",
              "       ...,\n",
              "       [0.43151670865663655],\n",
              "       [0.16155983352929942],\n",
              "       [0.15227155079903518]], dtype=object)"
            ]
          },
          "metadata": {
            "tags": []
          },
          "execution_count": 31
        }
      ]
    },
    {
      "cell_type": "code",
      "metadata": {
        "id": "nFsTfX5oOKve",
        "colab_type": "code",
        "colab": {
          "base_uri": "https://localhost:8080/",
          "height": 126
        },
        "outputId": "17e1597a-65b3-458e-bb8e-12b9fd678dcf"
      },
      "source": [
        "y[0:5]"
      ],
      "execution_count": 30,
      "outputs": [
        {
          "output_type": "execute_result",
          "data": {
            "text/plain": [
              "array([[0.8334315660070198, 0.07610979866070268, 0.10776452321727449],\n",
              "       [0.48106237178573397, 0.3673629474131143, 0.13884137991817902],\n",
              "       [0.4388127663192773, 0.2685740368872388, 0.3775726696311655],\n",
              "       [0.7129954339515537, 0.12350408671699416, 0.11113008071093726],\n",
              "       [0.6914140593727042, 0.14672323837904971, 0.19228166422122278]],\n",
              "      dtype=object)"
            ]
          },
          "metadata": {
            "tags": []
          },
          "execution_count": 30
        }
      ]
    },
    {
      "cell_type": "code",
      "metadata": {
        "id": "P-pgXoMdOQ9-",
        "colab_type": "code",
        "colab": {
          "base_uri": "https://localhost:8080/",
          "height": 72
        },
        "outputId": "04224be4-a5c5-42af-df9b-d44d30234065"
      },
      "source": [
        "import nltk\n",
        "nltk.download('stopwords')"
      ],
      "execution_count": 32,
      "outputs": [
        {
          "output_type": "stream",
          "text": [
            "[nltk_data] Downloading package stopwords to /root/nltk_data...\n",
            "[nltk_data]   Unzipping corpora/stopwords.zip.\n"
          ],
          "name": "stdout"
        },
        {
          "output_type": "execute_result",
          "data": {
            "text/plain": [
              "True"
            ]
          },
          "metadata": {
            "tags": []
          },
          "execution_count": 32
        }
      ]
    },
    {
      "cell_type": "code",
      "metadata": {
        "id": "cKQS_yVdMYUg",
        "colab_type": "code",
        "colab": {}
      },
      "source": [
        "from nltk.tokenize import TweetTokenizer\n",
        "from nltk.corpus import stopwords \n",
        "import re\n",
        "import string\n",
        "tknzr = TweetTokenizer(strip_handles=True, reduce_len=True)\n",
        "stopwords=set(stopwords.words('english'))\n",
        "def preprocessinglib(arrt):\n",
        "    ans =[]\n",
        "    for txt in arrt:\n",
        "        unique_words = dict.fromkeys(txt.split())\n",
        "        txt2=' '.join(unique_words)\n",
        "        tokens=tknzr.tokenize(txt2)\n",
        "        ctokens=[]\n",
        "        for t in tokens:\n",
        "          if  t not in stopwords and t not in string.punctuation :\n",
        "            ctokens.append(t)\n",
        "        clean_s = ' '.join(ctokens)\n",
        "        ans.append(clean_s)\n",
        "               \n",
        "    return ans\n"
      ],
      "execution_count": 0,
      "outputs": []
    },
    {
      "cell_type": "code",
      "metadata": {
        "id": "azbHYpXqOKOw",
        "colab_type": "code",
        "colab": {}
      },
      "source": [
        ""
      ],
      "execution_count": 0,
      "outputs": []
    },
    {
      "cell_type": "code",
      "metadata": {
        "id": "ELzGOap-Nnp9",
        "colab_type": "code",
        "colab": {
          "base_uri": "https://localhost:8080/",
          "height": 35
        },
        "outputId": "694486af-c599-409b-8f61-ec83ef7034c6"
      },
      "source": [
        "#encoded_Y"
      ],
      "execution_count": 17,
      "outputs": [
        {
          "output_type": "execute_result",
          "data": {
            "text/plain": [
              "array([1, 0, 1])"
            ]
          },
          "metadata": {
            "tags": []
          },
          "execution_count": 17
        }
      ]
    },
    {
      "cell_type": "code",
      "metadata": {
        "id": "q2yqhPfvMZl9",
        "colab_type": "code",
        "colab": {
          "base_uri": "https://localhost:8080/",
          "height": 72
        },
        "outputId": "5fbdbbc8-e362-4950-b708-322067592b3d"
      },
      "source": [
        "dummy_y"
      ],
      "execution_count": 15,
      "outputs": [
        {
          "output_type": "execute_result",
          "data": {
            "text/plain": [
              "array([[0., 1.],\n",
              "       [1., 0.],\n",
              "       [0., 1.]], dtype=float32)"
            ]
          },
          "metadata": {
            "tags": []
          },
          "execution_count": 15
        }
      ]
    },
    {
      "cell_type": "code",
      "metadata": {
        "id": "8bdNZ9tPMcZ_",
        "colab_type": "code",
        "colab": {}
      },
      "source": [
        ""
      ],
      "execution_count": 0,
      "outputs": []
    }
  ]
}