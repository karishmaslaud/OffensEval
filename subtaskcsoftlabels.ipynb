{
  "nbformat": 4,
  "nbformat_minor": 0,
  "metadata": {
    "colab": {
      "name": "subtaskcsoftlabels.ipynb",
      "provenance": [],
      "collapsed_sections": []
    },
    "kernelspec": {
      "name": "python3",
      "display_name": "Python 3"
    }
  },
  "cells": [
    {
      "cell_type": "code",
      "metadata": {
        "id": "bhCLCTtuAhul",
        "colab_type": "code",
        "outputId": "6238894d-9ea3-430e-a1a6-984b884be9f4",
        "colab": {
          "base_uri": "https://localhost:8080/",
          "height": 128
        }
      },
      "source": [
        "from google.colab import drive\n",
        "drive.mount('/content/drive')"
      ],
      "execution_count": 1,
      "outputs": [
        {
          "output_type": "stream",
          "text": [
            "Go to this URL in a browser: https://accounts.google.com/o/oauth2/auth?client_id=947318989803-6bn6qk8qdgf4n4g3pfee6491hc0brc4i.apps.googleusercontent.com&redirect_uri=urn%3aietf%3awg%3aoauth%3a2.0%3aoob&response_type=code&scope=email%20https%3a%2f%2fwww.googleapis.com%2fauth%2fdocs.test%20https%3a%2f%2fwww.googleapis.com%2fauth%2fdrive%20https%3a%2f%2fwww.googleapis.com%2fauth%2fdrive.photos.readonly%20https%3a%2f%2fwww.googleapis.com%2fauth%2fpeopleapi.readonly\n",
            "\n",
            "Enter your authorization code:\n",
            "··········\n",
            "Mounted at /content/drive\n"
          ],
          "name": "stdout"
        }
      ]
    },
    {
      "cell_type": "code",
      "metadata": {
        "id": "ckTbEW0KIRNH",
        "colab_type": "code",
        "colab": {}
      },
      "source": [
        "#this model is  inspired from \n",
        "#https://machinelearningmastery.com/multi-class-classification-tutorial-keras-deep-learning-library/"
      ],
      "execution_count": 0,
      "outputs": []
    },
    {
      "cell_type": "code",
      "metadata": {
        "id": "D-HL5mB48v6J",
        "colab_type": "code",
        "colab": {}
      },
      "source": [
        "#https://towardsdatascience.com/multi-class-text-classification-with-lstm-1590bee1bd17"
      ],
      "execution_count": 0,
      "outputs": []
    },
    {
      "cell_type": "code",
      "metadata": {
        "id": "HlleXY4xAsET",
        "colab_type": "code",
        "colab": {}
      },
      "source": [
        "\n",
        "##NOT FOR SYSTEMS\n",
        "!unzip -P ****** -qq '/content/drive/My Drive/EnglishData/task_c_distant.zip' "
      ],
      "execution_count": 0,
      "outputs": []
    },
    {
      "cell_type": "code",
      "metadata": {
        "id": "FHbDCk1HAoWq",
        "colab_type": "code",
        "colab": {
          "base_uri": "https://localhost:8080/",
          "height": 83
        },
        "outputId": "96ce1ae4-2fac-4783-a395-6cb92ca0281d"
      },
      "source": [
        "\n",
        "import pandas as pd\n",
        "from keras.models import Sequential\n",
        "from keras.layers import Dense\n",
        "from keras.wrappers.scikit_learn import KerasClassifier\n",
        "from keras.utils import np_utils\n",
        "from keras.callbacks import EarlyStopping\n",
        "from sklearn.model_selection import cross_val_score\n",
        "from sklearn.model_selection import KFold\n",
        "from sklearn.preprocessing import LabelEncoder\n",
        "from sklearn.pipeline import Pipeline\n",
        "import numpy as np"
      ],
      "execution_count": 5,
      "outputs": [
        {
          "output_type": "stream",
          "text": [
            "Using TensorFlow backend.\n"
          ],
          "name": "stderr"
        },
        {
          "output_type": "display_data",
          "data": {
            "text/html": [
              "<p style=\"color: red;\">\n",
              "The default version of TensorFlow in Colab will soon switch to TensorFlow 2.x.<br>\n",
              "We recommend you <a href=\"https://www.tensorflow.org/guide/migrate\" target=\"_blank\">upgrade</a> now \n",
              "or ensure your notebook will continue to use TensorFlow 1.x via the <code>%tensorflow_version 1.x</code> magic:\n",
              "<a href=\"https://colab.research.google.com/notebooks/tensorflow_version.ipynb\" target=\"_blank\">more info</a>.</p>\n"
            ],
            "text/plain": [
              "<IPython.core.display.HTML object>"
            ]
          },
          "metadata": {
            "tags": []
          }
        }
      ]
    },
    {
      "cell_type": "code",
      "metadata": {
        "id": "6LJq8AGiLSTo",
        "colab_type": "code",
        "colab": {}
      },
      "source": [
        "\n",
        "def convertToFloat(val):\n",
        "    if not val:\n",
        "        return 0    \n",
        "    try:\n",
        "        return np.float64(val)\n",
        "    except:        \n",
        "        return np.float64(0)\n",
        "\n",
        "\n",
        "headers=['id','text','average_ind','average_grp','average_oth','std_ind','std_grp','std_oth']\n",
        "taskc = pd.read_csv(\"task_c_distant_ann.tsv\", delimiter='\\t',names=headers,low_memory=False,converters={\"average_ind\":convertToFloat,\n",
        "                                                                                                    \"average_grp\":convertToFloat,\n",
        "                                                                                                    \"average_oth\":convertToFloat,\n",
        "                                                                                                    \"std_ind\":convertToFloat,\n",
        "                                                                                                    \"std_grp\":convertToFloat,\n",
        "                                                                                                    \"std_oth\":convertToFloat})\n",
        "taskc=taskc[1:]"
      ],
      "execution_count": 0,
      "outputs": []
    },
    {
      "cell_type": "code",
      "metadata": {
        "id": "fAZlsG1eLks2",
        "colab_type": "code",
        "outputId": "16f7c0ba-469d-4144-9b8a-47caf0da1244",
        "colab": {
          "base_uri": "https://localhost:8080/",
          "height": 198
        }
      },
      "source": [
        "taskc.head()"
      ],
      "execution_count": 7,
      "outputs": [
        {
          "output_type": "execute_result",
          "data": {
            "text/html": [
              "<div>\n",
              "<style scoped>\n",
              "    .dataframe tbody tr th:only-of-type {\n",
              "        vertical-align: middle;\n",
              "    }\n",
              "\n",
              "    .dataframe tbody tr th {\n",
              "        vertical-align: top;\n",
              "    }\n",
              "\n",
              "    .dataframe thead th {\n",
              "        text-align: right;\n",
              "    }\n",
              "</style>\n",
              "<table border=\"1\" class=\"dataframe\">\n",
              "  <thead>\n",
              "    <tr style=\"text-align: right;\">\n",
              "      <th></th>\n",
              "      <th>id</th>\n",
              "      <th>text</th>\n",
              "      <th>average_ind</th>\n",
              "      <th>average_grp</th>\n",
              "      <th>average_oth</th>\n",
              "      <th>std_ind</th>\n",
              "      <th>std_grp</th>\n",
              "      <th>std_oth</th>\n",
              "    </tr>\n",
              "  </thead>\n",
              "  <tbody>\n",
              "    <tr>\n",
              "      <th>1</th>\n",
              "      <td>1159533712079503361</td>\n",
              "      <td>@USER Trump is a fucking idiot his dementia is...</td>\n",
              "      <td>0.833432</td>\n",
              "      <td>0.076110</td>\n",
              "      <td>0.107765</td>\n",
              "      <td>0.208334</td>\n",
              "      <td>0.098937</td>\n",
              "      <td>0.138649</td>\n",
              "    </tr>\n",
              "    <tr>\n",
              "      <th>2</th>\n",
              "      <td>1159533713044234241</td>\n",
              "      <td>@USER HELL YES! His grinned and thumbs up are ...</td>\n",
              "      <td>0.481062</td>\n",
              "      <td>0.367363</td>\n",
              "      <td>0.138841</td>\n",
              "      <td>0.345225</td>\n",
              "      <td>0.335924</td>\n",
              "      <td>0.083230</td>\n",
              "    </tr>\n",
              "    <tr>\n",
              "      <th>3</th>\n",
              "      <td>1159533718345830400</td>\n",
              "      <td>@USER Can't wait to see the shit show his deat...</td>\n",
              "      <td>0.438813</td>\n",
              "      <td>0.268574</td>\n",
              "      <td>0.377573</td>\n",
              "      <td>0.182609</td>\n",
              "      <td>0.186880</td>\n",
              "      <td>0.254621</td>\n",
              "    </tr>\n",
              "    <tr>\n",
              "      <th>4</th>\n",
              "      <td>1159533739871002625</td>\n",
              "      <td>@USER @USER @USER This guys is dumb check his ...</td>\n",
              "      <td>0.712995</td>\n",
              "      <td>0.123504</td>\n",
              "      <td>0.111130</td>\n",
              "      <td>0.248839</td>\n",
              "      <td>0.107572</td>\n",
              "      <td>0.067552</td>\n",
              "    </tr>\n",
              "    <tr>\n",
              "      <th>5</th>\n",
              "      <td>1159533742366633984</td>\n",
              "      <td>@USER @USER Fuck him better than his hoes</td>\n",
              "      <td>0.691414</td>\n",
              "      <td>0.146723</td>\n",
              "      <td>0.192282</td>\n",
              "      <td>0.204415</td>\n",
              "      <td>0.154818</td>\n",
              "      <td>0.104436</td>\n",
              "    </tr>\n",
              "  </tbody>\n",
              "</table>\n",
              "</div>"
            ],
            "text/plain": [
              "                    id  ...   std_oth\n",
              "1  1159533712079503361  ...  0.138649\n",
              "2  1159533713044234241  ...  0.083230\n",
              "3  1159533718345830400  ...  0.254621\n",
              "4  1159533739871002625  ...  0.067552\n",
              "5  1159533742366633984  ...  0.104436\n",
              "\n",
              "[5 rows x 8 columns]"
            ]
          },
          "metadata": {
            "tags": []
          },
          "execution_count": 7
        }
      ]
    },
    {
      "cell_type": "code",
      "metadata": {
        "id": "5_l5T9EJLyMg",
        "colab_type": "code",
        "outputId": "d6f23d40-ff5e-4b99-a421-74870f34d902",
        "colab": {
          "base_uri": "https://localhost:8080/",
          "height": 454
        }
      },
      "source": [
        "taskc.values"
      ],
      "execution_count": 8,
      "outputs": [
        {
          "output_type": "execute_result",
          "data": {
            "text/plain": [
              "array([['1159533712079503361',\n",
              "        '@USER Trump is a fucking idiot his dementia is getting worse',\n",
              "        0.8334315660070198, ..., 0.20833409336419706,\n",
              "        0.09893746284301566, 0.1386493230104102],\n",
              "       ['1159533713044234241',\n",
              "        '@USER HELL YES! His grinned and thumbs up are disgusting!',\n",
              "        0.48106237178573397, ..., 0.3452248610539589,\n",
              "        0.33592350092689993, 0.08323036242339713],\n",
              "       ['1159533718345830400',\n",
              "        \"@USER Can't wait to see the shit show his death will bring.\",\n",
              "        0.4388127663192773, ..., 0.18260870386171185,\n",
              "        0.18688048564468512, 0.25462109958562573],\n",
              "       ...,\n",
              "       ['1187636295306268673',\n",
              "        'I meant tool but the point is women ain’t shit. 🙅🏻\\u200d♂️🤷🏻\\u200d♂️',\n",
              "        0.36375786996300313, ..., 0.23943555651707127,\n",
              "        0.16535075005267147, 0.09506541000311416],\n",
              "       ['1187636299785744384', '@USER i sang too the fuck-',\n",
              "        0.5982300263631064, ..., 0.19187065632830977,\n",
              "        0.10707485138459394, 0.11520566509045577],\n",
              "       ['1187636316487520258',\n",
              "        'obviously ur allowed to not like the ship but using that excuse is so stale like fuck off.',\n",
              "        0.6849481559629798, ..., 0.19227685039701298,\n",
              "        0.14081314237397982, 0.16559246442850858]], dtype=object)"
            ]
          },
          "metadata": {
            "tags": []
          },
          "execution_count": 8
        }
      ]
    },
    {
      "cell_type": "code",
      "metadata": {
        "id": "tfa9MbOBMBlR",
        "colab_type": "code",
        "colab": {}
      },
      "source": [
        "\n",
        "dfnumpy=taskc.to_numpy();\n",
        "x=dfnumpy[:, 1].reshape(-1, 1)\n",
        "y_train1=dfnumpy[:, 2].reshape(-1, 1)\n",
        "y_train2=dfnumpy[:, 3].reshape(-1, 1)\n",
        "y_train3=dfnumpy[:, 4].reshape(-1, 1)\n",
        "\n"
      ],
      "execution_count": 0,
      "outputs": []
    },
    {
      "cell_type": "code",
      "metadata": {
        "id": "_idtKA4oNkU4",
        "colab_type": "code",
        "colab": {}
      },
      "source": [
        "y=np.stack((y_train1.flatten(),y_train2.flatten(),y_train3.flatten()), axis=-1, out=None)"
      ],
      "execution_count": 0,
      "outputs": []
    },
    {
      "cell_type": "code",
      "metadata": {
        "id": "JX2XZKTtOPNN",
        "colab_type": "code",
        "outputId": "1872f6f0-438c-4c6f-d4df-7a2024f36105",
        "colab": {
          "base_uri": "https://localhost:8080/",
          "height": 145
        }
      },
      "source": [
        "y_train2"
      ],
      "execution_count": 11,
      "outputs": [
        {
          "output_type": "execute_result",
          "data": {
            "text/plain": [
              "array([[0.07610979866070268],\n",
              "       [0.3673629474131143],\n",
              "       [0.2685740368872388],\n",
              "       ...,\n",
              "       [0.43151670865663655],\n",
              "       [0.16155983352929942],\n",
              "       [0.15227155079903518]], dtype=object)"
            ]
          },
          "metadata": {
            "tags": []
          },
          "execution_count": 11
        }
      ]
    },
    {
      "cell_type": "code",
      "metadata": {
        "id": "nFsTfX5oOKve",
        "colab_type": "code",
        "outputId": "64a006c3-52f8-4154-f721-d5c390111093",
        "colab": {
          "base_uri": "https://localhost:8080/",
          "height": 126
        }
      },
      "source": [
        "y[0:5]"
      ],
      "execution_count": 12,
      "outputs": [
        {
          "output_type": "execute_result",
          "data": {
            "text/plain": [
              "array([[0.8334315660070198, 0.07610979866070268, 0.10776452321727449],\n",
              "       [0.48106237178573397, 0.3673629474131143, 0.13884137991817902],\n",
              "       [0.4388127663192773, 0.2685740368872388, 0.3775726696311655],\n",
              "       [0.7129954339515537, 0.12350408671699416, 0.11113008071093726],\n",
              "       [0.6914140593727042, 0.14672323837904971, 0.19228166422122278]],\n",
              "      dtype=object)"
            ]
          },
          "metadata": {
            "tags": []
          },
          "execution_count": 12
        }
      ]
    },
    {
      "cell_type": "code",
      "metadata": {
        "id": "P-pgXoMdOQ9-",
        "colab_type": "code",
        "outputId": "ecb0943f-a16d-49b8-931d-a4a09e370b0a",
        "colab": {
          "base_uri": "https://localhost:8080/",
          "height": 72
        }
      },
      "source": [
        "import nltk\n",
        "nltk.download('stopwords')"
      ],
      "execution_count": 13,
      "outputs": [
        {
          "output_type": "stream",
          "text": [
            "[nltk_data] Downloading package stopwords to /root/nltk_data...\n",
            "[nltk_data]   Unzipping corpora/stopwords.zip.\n"
          ],
          "name": "stdout"
        },
        {
          "output_type": "execute_result",
          "data": {
            "text/plain": [
              "True"
            ]
          },
          "metadata": {
            "tags": []
          },
          "execution_count": 13
        }
      ]
    },
    {
      "cell_type": "code",
      "metadata": {
        "id": "cKQS_yVdMYUg",
        "colab_type": "code",
        "colab": {}
      },
      "source": [
        "from nltk.tokenize import TweetTokenizer\n",
        "from nltk.corpus import stopwords \n",
        "import re\n",
        "import string\n",
        "tknzr = TweetTokenizer(strip_handles=True, reduce_len=True)\n",
        "stopwords=set(stopwords.words('english'))\n",
        "def preprocessinglib(arrt):\n",
        "    ans =[]\n",
        "    for txt in arrt:\n",
        "        unique_words = dict.fromkeys(txt.split())\n",
        "        txt2=' '.join(unique_words)\n",
        "        tokens=tknzr.tokenize(txt2)\n",
        "        ctokens=[]\n",
        "        for t in tokens:\n",
        "          if  t not in stopwords and t not in string.punctuation :\n",
        "            ctokens.append(t)\n",
        "        clean_s = ' '.join(ctokens)\n",
        "        ans.append(clean_s)\n",
        "               \n",
        "    return ans\n"
      ],
      "execution_count": 0,
      "outputs": []
    },
    {
      "cell_type": "code",
      "metadata": {
        "id": "azbHYpXqOKOw",
        "colab_type": "code",
        "colab": {}
      },
      "source": [
        "preprocessedTweets=preprocessinglib(x[:,0])"
      ],
      "execution_count": 0,
      "outputs": []
    },
    {
      "cell_type": "code",
      "metadata": {
        "id": "FA3zIfiS_S9V",
        "colab_type": "code",
        "colab": {}
      },
      "source": [
        "from sklearn.utils import shuffle\n",
        "preprocessedTweets,y=shuffle(preprocessedTweets,y)"
      ],
      "execution_count": 0,
      "outputs": []
    },
    {
      "cell_type": "code",
      "metadata": {
        "id": "ELzGOap-Nnp9",
        "colab_type": "code",
        "outputId": "a0eb3c55-7ff3-4b64-d311-b0322b0c791e",
        "colab": {
          "base_uri": "https://localhost:8080/",
          "height": 1000
        }
      },
      "source": [
        "preprocessedTweets"
      ],
      "execution_count": 17,
      "outputs": [
        {
          "output_type": "execute_result",
          "data": {
            "text/plain": [
              "['Cut programs fight corruption order corruption Makes sense ... fucking idiot',\n",
              " 'Have deaf blind wrapped little self obsessed bubble ... wake fuck ... research',\n",
              " 'Serious question actual fuck ’ eat avacado without gagging',\n",
              " 'theres way scared moths absolute bitch',\n",
              " 'How tf I even awake early need take ass back sleep My eyes ’ used shit burning 😩 lol',\n",
              " 'Yeah sure I ’ fucking tours ... #overit',\n",
              " 'There law stuff disgusting crap',\n",
              " 'Man shit crazy think lol',\n",
              " 'feels good let shit holding',\n",
              " 'Fellas Appreciate women reach back spread ass cheeks let go deeper 😈',\n",
              " \"That's weird ass manga I hate\",\n",
              " 'Some actual men come rough ass',\n",
              " 'hate spoiled ass females passion',\n",
              " 'Chucky one cool ass dude 💯 💔',\n",
              " 'NFL fucking sucks Love sport LOVE Raiders leagues corrupt full shit',\n",
              " 'Lauren London story said “ ’ trophies real one ... scars ” shit hit different coming',\n",
              " 'ppl send u ur shit vs ac liking deserve worst things life',\n",
              " 'dad sucks main cause severe anxiety worst thing ever raise Catholic shit unforgivable',\n",
              " \"Tell fucking stop he's putting peoples lives risk\",\n",
              " 'Yea niggas getting wrecked I ’ done',\n",
              " 'Okay four hours test taking shit enough thanks night world 👌 🏼',\n",
              " 'point fucking halloween name everyone calls season skeleton anyway bunch degenerates',\n",
              " 'Feel like shit gotta drive damn school 😫 😭',\n",
              " 'It niggas big foot lookin bitches',\n",
              " 'Having boobs nezinqa pits My back feels like fvcken shit Moer 😭 😭 😭',\n",
              " 'My dreams weird fuck lately fit hell rang',\n",
              " 'Speaking farmer fuck trump',\n",
              " 'It real live shoulda FUCK',\n",
              " 'If ass fat ima look tell nigga 😂',\n",
              " 'Imagine waking husband Brendon fucking Urie',\n",
              " 'Fuck thought someone else',\n",
              " \"WHAT THE FUCK chambers cancelledit's fuck netflix canceling chambers double em bc invite anything pride month\",\n",
              " 'I ’ crying nonstop since Saturday love shit painful Its even worse u know fucked',\n",
              " 'Stg 😂 shit adorable',\n",
              " 'Even blanket brushing along arms covering painful actual fuck female anatomy',\n",
              " 'bitch I ’ cute life great \\U0001f929 \\U0001f929',\n",
              " 'I ’ damn I ever 😭 ❗ ️ I use airhead ass bitch 😂 😂 😂 So mean tell ’ knowing nigga fucking YOU plenty bitches still decide fw 🤔 wtf wrong',\n",
              " \"🤣 🤣 ain't shit talkin yo ass 🤣 🤣\",\n",
              " 'Life beating shit lately testing much I take',\n",
              " 'I keep fucking going back 💀 💀 💀 clicked shit like 3 times 😭 My bio says \\U0001f9f8 💙 💍',\n",
              " 'someone bring ice cream tell quit whiny bitch',\n",
              " 'Hero lot fuck shit lol',\n",
              " 'Me babe ’ calling Them idk says “ fraud risk ” FUCK fraud risk',\n",
              " 'I mad niggas good date ugly bitches paper',\n",
              " 'Lmao bro yesss I woulda downed nigga crib wanna take ride shit lol wtf',\n",
              " 'hate accurate fuck',\n",
              " 'So shipping remains manufacturing jobs seas good us Get stupid shit dumbfuck',\n",
              " 'That shit messyy 😂 😭',\n",
              " 'Can share mine beat shit jealous overseas friends',\n",
              " 'You know Maitland Niles piece shit',\n",
              " 'Just another example ignorant',\n",
              " 'would cute noggas stop lying dicks shit lets act like u wasnt STIRRING THE POT SIR',\n",
              " 'Swear bags keys would ’ hand hearing shit like 😂',\n",
              " 'I HATE SM SO MUCH FUXK YOU FUCK YOU',\n",
              " \"Are people actually making fun Marina Joyce missing That's disgusting\",\n",
              " 'fuck u break character',\n",
              " 'Y ’ swear destroying material shit best way get revenge nigga .. ’ finna nun 🤦 🏽 \\u200d ♂ ️ SHOOT HIS ASS 😂',\n",
              " 'And time dumb shit go viral 🤷 🏻 \\u200d ♂ ️',\n",
              " 'Bitch I see ’ answer still NO',\n",
              " 'God fucking mistake coming bsck home lmao im gonna book damn ticket back austin shit unfair',\n",
              " 'Like I badly need sleep mind shut hell 😤',\n",
              " 'He seriously stupid',\n",
              " \"He's cut The dude sucks\",\n",
              " 'never trust bitch talks shit eats people ’ snake behavior',\n",
              " 'everyone feel fucking entitled days ... get lazy ass stop bitching work want',\n",
              " 'That shit works long lmao fun games till get hit hard af',\n",
              " \"y'all really heart eyeing awww'ing shit like kids fucking concentration camps\",\n",
              " 'I really come shit rap bout 💯',\n",
              " 'They let clubs gym clothes tbh shit costs fake flexers outfits anyways',\n",
              " 'Y ’ know ’ shit still trying Sounds pretty dumb',\n",
              " 'Drake really nigga',\n",
              " 'lol back shit',\n",
              " 'Time Move ass lolz',\n",
              " 'Some us ’ want weak shit 👍 🏼',\n",
              " 'Cant say would blame stupid c word',\n",
              " 'biggest tragedy oshin goes sleep early like fuck bitch wake listen rants',\n",
              " 'Who gives shit Death come us',\n",
              " 'Face fact GOP Trump fucking disgusting human belongs',\n",
              " 'might radio single one Even though ’ playing shit',\n",
              " 'That nickname really suck prison',\n",
              " 'Turns I ’ 100 bitch',\n",
              " 'It ’ hot shit outside ‼ ️',\n",
              " 'anna wintour said fuck september issue',\n",
              " 'Damn calm ass argument',\n",
              " 'nigga thats literally nothing compared gcs ur insane',\n",
              " 'excited u nasty ass bullard boys year 😔',\n",
              " \"Ridley Toon Link go Tabuu's Residence healthy fuck\",\n",
              " 'ship yoonmin shut fuck',\n",
              " 'Nyoom way could improve setting shit fire',\n",
              " 'might fuck around go missing months',\n",
              " 'alexa please shoot fucking head',\n",
              " 'Just learned homophobia Damn shit sucks bro',\n",
              " 'Man shit weak hell 😂 let get I ’ working ya dig',\n",
              " 'I told ass go get stop Buggin 🙄',\n",
              " 'I hate people expect nice cutesy dog child like bitch I ’ act ’ even see',\n",
              " 'No relationship full sunshine rainbows fucking stop giving eachother Grow together shit go ffs',\n",
              " 'head fucking BIG',\n",
              " 'I need let shit cuz aint gone never happy hold anymore 😴 💯',\n",
              " 'Scary movies made us yell call everybody dumb bitches like could hear 😂',\n",
              " 'Man shit point 😂 😂 😂',\n",
              " 'That loop fucking deathtrap holy shit',\n",
              " 'What fuck I gonna run shit jokes dick jokes',\n",
              " 'Y ’ shit crocs much want pair see fur ones TL Bye fuck',\n",
              " 'might fuck around pay utility bill today',\n",
              " \"six months I'm still stunned Kazuki stole fucking cat fuck dude\",\n",
              " 'tree branch ran directly one eyes smh short girls deal w shit',\n",
              " \"20cm cute ass song txt's tall asses address childhood sweetheart who's tiny 20cm height difference y'all dick\",\n",
              " 'Let body rope around neck hang ur Klan loving ass damn tree',\n",
              " 'Niggas homophobic ugly fuck 🙃 \\U0001f97a',\n",
              " 'ughh shut tf 🙄 🙄 🙄 😂 😂 😂 Yall think bitches annoying shidd ever bitch absolutely friends Like know 😂 😂 😂',\n",
              " 'My favorite line nigga Calol something ’ got bitch 🤣 say NO',\n",
              " 'This man sick narcistic evil despot',\n",
              " 'G Fuel dumbest shit I ever heard',\n",
              " 'Damn baby got pretty hole Would love taste fuck ...',\n",
              " 'need goth bitch sext ouija board',\n",
              " 'fuck spits dog like lmaooo r ppl never got beat kids',\n",
              " 'Unlv full bunch crackheads',\n",
              " 'Just blocked guy cuz voice irritates shit',\n",
              " 'Excuse dropped 40 get level 10 faceit coyld clearly fuck 1v1',\n",
              " 'Your liar coward ... big joke Shifty',\n",
              " 'I post dumbest shit 3 AM',\n",
              " \"yeah kaneki claps touka's cheeks cries like bitch envy guy\",\n",
              " 'everybody celebrating eid wanna fucking die',\n",
              " 'Shes worst kind woman',\n",
              " 'I bet Obama everyone would kissing ass',\n",
              " 'You ’ smoking much shit cus ’ lost mind thinking way',\n",
              " 'It good upon time 😩 😩 Kevin Gates music hit different turn shit',\n",
              " 'full cowards go players familys weak piss',\n",
              " 'Hot fuck I ’ throbbing looking mmm',\n",
              " 'My coworker set right fuck 😒 😒 I got something ass tho Guess sick gotta leave early 🤷 🏾 \\u200d ♀ ️',\n",
              " \"Miley bitch ass didnt save live I'm fighting\",\n",
              " 'Stupid stupid says ... shaking head',\n",
              " 'fucking felt',\n",
              " 'fingers ass',\n",
              " 'Mf like shit crazy I want big sour smelling ass sitting face',\n",
              " 'damn somebody cut temperature bit outside ’ fuckin hot asf 😩 ❗ ️',\n",
              " 'He piece shit',\n",
              " 'Post removed .. bad early post seen racist shit got upset',\n",
              " 'I wanna fuck butt 😋 😋',\n",
              " 'Just started Twitter cuz I ’ fucking bored SHIT',\n",
              " 'I tryna beat case aint bitch race',\n",
              " 'fuck wearin one bitch Ikea hat',\n",
              " 'Zara become little shit like mom',\n",
              " 'sometimes wanna beat tf outta nigga know fight 🤣 🤣 😕',\n",
              " 'Ever sit back think fuck aha',\n",
              " 'son lady still bull shit 😑',\n",
              " 'lool men lucky pants hide sizes otherwise would game bicheswhy body shame women small boobs like take look bitch',\n",
              " 'pinned selfie twitter always porblemic shut big ass forehead nasty skin',\n",
              " 'internet still ’ fucking dawg ridiculous',\n",
              " 'movie boring fuck',\n",
              " 'arguing w bitch wear crochet',\n",
              " 'A bitch excited',\n",
              " 'firstly boogie go suck mum',\n",
              " 'Loool listen shit looking directly eyes I ’ scared',\n",
              " 'Because Spanos BIG dumb',\n",
              " 'I ’ give pussy nigga \\U0001f974',\n",
              " 'mind business pays u nigga',\n",
              " 'pisses sometimes cant go fuck',\n",
              " 'I expect shit put like 💀',\n",
              " 'Bitch really stressed 😂 bitch running low ground',\n",
              " 'I feel like Rocky know us lmao rap shit went 😩',\n",
              " 'You doin lot squirming hollering baby shut fuck',\n",
              " 'Why I fancy boys Treat like shit Like drugs Would wear joggies wedding',\n",
              " 'That ’ ugly pplI Cant Fuck With The Lights Off 🤦 🏽 \\u200d ♂ ️',\n",
              " 'bitch lick ear kiss neck promise im cutting nah close fucking door',\n",
              " 'Holy shit I miss said straight WHITE males holy shit',\n",
              " 'course would lie lies along friends actually create hate devide .. fuck POS',\n",
              " 'What fuck sick hell wrong people x',\n",
              " 'fuck yeah lets grab beer chill way god made',\n",
              " 'bitch hard enough deal extra shit',\n",
              " 'girl big ass went sleep w pacifier mouth 🤣 cause bet ima start',\n",
              " 'Why shit frustrating',\n",
              " 'Your crush never acknowledge shit page soon post ya girl ... come unwanted ass LIKE',\n",
              " 'Lol looks like new girl ate fucking prize 😂 😂 😂 #ncstatefair',\n",
              " 'I know I ’ idiot least ’ pay 50 watch marry mongoose',\n",
              " 'Ghetto ass Scooby-Doo gang 😂',\n",
              " \"He's disgrace GOP\",\n",
              " 'A bunch cocky ass good bitches',\n",
              " 'Why anyone give loon air time Abrams idiot',\n",
              " 'What fuck show Lol',\n",
              " 'These bum ass bitches need sit fuck ... really thought something relevant say 😂',\n",
              " 'When world finds Godfrey interviews gone shit',\n",
              " 'Fuck',\n",
              " 'Kid goes “ play roblox ” nah kid I ’ little piece shit I drink alcohol',\n",
              " 'Ordered pizza fat cousin decided show fuck',\n",
              " 'Fuck yeah All day everyday piss poon ass liberal',\n",
              " 'idk folk go gym without deodorant wilderness put shit',\n",
              " 'Das different fun af But collage ass nigga tried give superior artists piece mind 💀',\n",
              " 'fuck watching 😂',\n",
              " 'Eww get good pizza That shit trash',\n",
              " 'With IQ even sadder fuck dogs',\n",
              " '“ bond ” ’ mean shit either nigga bonding w hella hoes',\n",
              " 'dog dumb hate emily idiot hetero ok',\n",
              " 'Female rappers turned fuck 2019',\n",
              " \"Fuck Kawhi damn he's good\",\n",
              " 'I ’ sick shit',\n",
              " 'I ’ really anything shit control idk I ’ stressing',\n",
              " 'You nerve old Lying racist sack 💩',\n",
              " \"Ilorin boys small name think harass female go away I'll treat fuck offline well\",\n",
              " 'Y ’ need stop pushing “ god ” Believe believe fuck',\n",
              " 'Fuckin gossy bitch Someone needs give hiding',\n",
              " 'Lmao I said fuck rushing I ’ camping bro wanna 2v2 later',\n",
              " 'Fuck ’ get seven points Everton Watford Norwich home',\n",
              " 'That “ bless heart ” shit Just call cunt like honest person',\n",
              " 'This sco pa tu manaa shit feed I ’ getting annoyed',\n",
              " 'That boa 6figgerz whole family bad asl 😭 😭 💯 nigga b hidin cousins n shit lol',\n",
              " 'Never count mans pockets thinkin deserve ... never trust bitch fuck purses',\n",
              " 'ion wann stupid relationship 🤷 🏽 \\u200d ♀ ️',\n",
              " \"You're fucking promoter buddy entitled piece shit\",\n",
              " 'What fuck I watch 🤣 🤣',\n",
              " 'man ’ beat ass fuck mean say something else ’ post vid make another foh stfu bye shit wack',\n",
              " 'A racist worst ever Maxine dumb come ’ racist',\n",
              " 'Was gonna put emergency contacts Lord knows ya ass ignore message go partying instead 🤦 🏻 \\u200d ♀ ️ 😂',\n",
              " 'Jesus ’ fucking invited household fuck 35 one gotta go 1 ya momma 2 900 billion 3',\n",
              " 'What actual fuck',\n",
              " 'Niggas aint shit Because bitches',\n",
              " 'Fuckin wit bitch ’ never average',\n",
              " 'shipping pain ass tf',\n",
              " \"I'm gonna fuck mom . ... That sounded better head\",\n",
              " 'Oh look An idiot ranting skin colour Lets gawk antics',\n",
              " 'I hate toxic mf tries make feel like ’ one 🤦 🏻 \\u200d ♂ ️',\n",
              " 'I start college tomorrow lemme tell I ’ scared shit',\n",
              " 'Keep showing little dick ass 😭 😭 😭',\n",
              " 'Clap ass brother',\n",
              " 'mentally none shit phase',\n",
              " 'instead fat ass universe made',\n",
              " \"FUCK charli xcx's unreleased collection bc need hit shit\",\n",
              " 'pronounced jason like supposed ronnie asked fuck im talking',\n",
              " 'Wrong bitch I know kick baby ☺ ️',\n",
              " 'I ’ never wanted kill someone bad I wanna nigga yo 😤',\n",
              " \"Ha The coward blocked As said He's fucking bigot\",\n",
              " 'I need fucking hug',\n",
              " 'swear father daughter major argument god damn tent idiot',\n",
              " 'My drunk ass writing novels 😂 😂 😂 🤦 🏽 \\u200d ♀ ️ I gotta chill 🤷 🏽 \\u200d ♀ ️ \\U0001f970 \\U0001f970 \\U0001f970',\n",
              " \"How even eat matumbo ... Can't shit\",\n",
              " 'Today already shit show feel',\n",
              " 'Why fuck I bears fan',\n",
              " 'ahat rap battles shit highschool',\n",
              " 'Got lot shit done today fam',\n",
              " 'I hate dumb ass tweets like “ yeah sex nice .. ” bitch Just stop sentence',\n",
              " 'The nigga recorded niggas jumped r pussy ass bitches',\n",
              " 'Nigerians fake ... This pity card sooo stupid',\n",
              " 'I ’ crying 😭 😭 😭 Niggas instantly saw Leo went ape shit',\n",
              " 'Madam go hug transformer Idiot',\n",
              " 'anyone else wanna leave door fucking open',\n",
              " 'Most fucking shares In Companies either liquidated worth fuck suspended 😂 😂',\n",
              " 'said fuck waiting police 😂',\n",
              " 'I ’ ok Millennials tight fuck 😎',\n",
              " 'Reminded draw ass',\n",
              " 'THIS yall get sick every 2 weeks cause dumb shit like Dry staresorry I ’ late I sat bed wet towel 43 mins staring wall',\n",
              " '’ ’ gonna die ’ big ass spider room one kill fuck',\n",
              " 'Dude fuck hate spiders',\n",
              " 'I got big dick energy need without 😒',\n",
              " 'hate ppl rude reason eat shit dickheads',\n",
              " 'Never speak highly nigga bitch ’ always shit going low ...',\n",
              " 'watching finsta post abt desserts coffee ’ consuming agreement FUCK yeah man',\n",
              " 'Nobody single idea fuck I ’ goin lol',\n",
              " 'I never bum ass nigga',\n",
              " 'Dumb asf I ’ embarrassed even play shit',\n",
              " 'lash tech fucking best wallahi',\n",
              " 'fuck u ’ hurry unfollow lying ass 🙄',\n",
              " 'supposed soulmate stupid whore',\n",
              " 'I ’ living boring ass bitch life shit depressing asf',\n",
              " 'What fuck',\n",
              " 'hoes cross every real friend get social media shit sayin yeen got friends ... bitch kick rocks',\n",
              " 'hate people brag lying ass',\n",
              " 'Your dick lifeless object shut fuck hand wallet',\n",
              " 'Dont let Lamar trailing gonna run damn clock cuz ass 🤣 🤣',\n",
              " 'Say 4 months shit hold 2 years',\n",
              " 'bitch cute never',\n",
              " 'I sure gotta regulate shit',\n",
              " 'My bf shit 🌚',\n",
              " 'beats shit friend sharing diamonds reienforcing communist payroll',\n",
              " 'That ’ fucking basketball I wanna see fuck watching last 30 minutes',\n",
              " 'When brother get bet go anywhere near bitch I mean shit',\n",
              " 'Bitch wow I LOOK GOODT',\n",
              " 'fuck tweet wrong link god damn',\n",
              " 'Wen u tryna get ur shit together confuse silence buoyancy start asking favours I hate bother people problems 🤦 🏻 \\u200d ♀ ️',\n",
              " 'Ariana uses fucking fake inocent persona like grow oun shit',\n",
              " \"Why hoes hoe shit prove they're hoes 🤔\",\n",
              " \"fuck cnn framing questions like they're republicans\",\n",
              " \"They ain't even background check juss said fuck come Wednesday loo\",\n",
              " 'WHAT THE FUCK',\n",
              " 'fucking webcomic hegel hell',\n",
              " \"He believe shit he's saying Start walk back clock ...\",\n",
              " 'Yesss ... I love em suck HELL boo',\n",
              " 'Solid chance hatred whites men matched abject fear mirrors cuz holy shit lol yikes',\n",
              " 'Stupidity coming mouth',\n",
              " 'young boy gets threesome takes ass',\n",
              " \"funny ... that's baby 🙄 bitches walking around wit ugly ass babies 🤣 talm bout “ wanna hold ” ... girl ’ nobody want gremlin 😩 😒\",\n",
              " 'Eat dick idiot go sleep I toss around',\n",
              " 'sick sad whenevr im happy makes u mad remind deadbeat dad fuck goway',\n",
              " 'Right Nigga whole ass crash car 😂 😂 😂',\n",
              " 'That really ass america',\n",
              " 'drop shit soul',\n",
              " 'bro men fucking embarrass',\n",
              " 'shit find twitter beyond',\n",
              " 'woww fuck shriveled died cool :(',\n",
              " 'Shit bold cheating ass niggaa got gifts niggas try ’ get shit 😑 😑 ...',\n",
              " 'pride shit useless hate',\n",
              " 'Just ugly ass lame fake dumb racist fish looking ass bitch I hate',\n",
              " 'Some people beat shit Keith cope :/',\n",
              " 'whole world fucking blurry life empty I scars never wanted',\n",
              " 'Pull head ass',\n",
              " 'He always shit smfhhh 💀',\n",
              " 'I even know fuck 😧',\n",
              " 'fuck hate drugs love',\n",
              " 'yoongi scrolling thru tl stan account stupid bitches ...',\n",
              " 'Buddy Murphy showing ass right',\n",
              " 'I hate “ talking ” ass person Like tf gotta start conversation EVERYTIME 💁 🏽 \\u200d ♀ ️ keep double texting u starting cant fwu lol',\n",
              " 'I done roommates This shit god damn incredible',\n",
              " 'If Yeen never watched 85 south show bout late bitch',\n",
              " 'My babydaddy weak ass bitch son ’ even get pair shoes school 🤦 🏾 \\u200d ♀ ️ 🤦 🏾 \\u200d ♀ ️',\n",
              " 'Literally timeEver got text high shit ’ reading like “ Wtf mean ” 😭',\n",
              " 'We “ act ” like ’ wanna fuck',\n",
              " 'bitch curls lmao act like fingers going get stuck BARLEY WAVY HAIR gtfo',\n",
              " 'Heard pretty shit according',\n",
              " 'That ’ literally dumbest shit I ’ ever heard lol',\n",
              " 'ya girl posted pic emoji face 🤣 😩 😩 get comfortable grab chips cuz ’ NACHO bitch ✌ 🏾 💯 🏃 🏽 \\u200d ♀ ️',\n",
              " 'Yes But disgusting malignant narcissist GFY',\n",
              " 'luxray favorite pkmn years lrt rly opening eyes shit',\n",
              " 'Aaaand I think time mute bitch',\n",
              " 'What actual fuck indeed',\n",
              " 'Y ’ ever moan bitch ear go “ haha ”',\n",
              " '21 year old shit 21st bday confirmed ID10T',\n",
              " 'ok john liar according',\n",
              " 'stays stupid imma head star wars twitter',\n",
              " 'Well I woke early FUCK',\n",
              " 'holy shit melbourne cbd',\n",
              " 'The proof news thoShut fuck “ stop posting videos pictures dead bodies ” like people really need shit joke',\n",
              " 'Aliyyah straight clown yo 😂',\n",
              " 'Might fuck around drink water',\n",
              " 'watched GLASS tht shit ASS S4G ✋ 🏽',\n",
              " 'tell Drew face 😐 😐 pussy guys talkin shit saints',\n",
              " 'Shut fuck trash ass I paid money fox ’ mine quit running mouth bitch',\n",
              " 'Full shit',\n",
              " 'Who hell released',\n",
              " 'Anyway speaking characters like thia onogi mf annoying pls shut tf one cares asshole',\n",
              " 'Stop flaunting materialistic shit get credit \\U0001f92a 😭 🤣',\n",
              " 'Where Niggas shoot shit time',\n",
              " 'FFS going away police department fire department What idiot',\n",
              " \"youre apart family rights say shit i'd rly appreciate could get fuck\",\n",
              " 'idk bitch wanna sleep',\n",
              " 'dis facts ima single forever cause nobody want like 🤡 This whole sleeping alone shit ghetto',\n",
              " 'Niggas dont even streets like',\n",
              " 'Niggas talk allat shit scared drop addy 🤡',\n",
              " 'I really dont mind women got lil pudge stomach shit kind sexy tbh maybe im deviant',\n",
              " 'Me told I blowing shit 😂',\n",
              " 'THAT WAS FUCKED WAIT I FORGOT ABT IM A MINUTE FUCK THE LEAF VILLAGE LMFAOSODJDJJG',\n",
              " \"rvel dares ruin morgan stark's arc im gonna kick shit outta wont hesitate bitch\",\n",
              " 'Wait ifollowchads What fuck ifollowincels hold poor fucker captive',\n",
              " 'Might fuck around happy today',\n",
              " 'Your pissed cuzz cheater liar worst mayor gov full shit',\n",
              " 'Who fuck thatfuck hector vae fell hard',\n",
              " 'supermodel height damn ugly face says stupid head',\n",
              " 'Bro ’ cool never I peace treaty ass shit',\n",
              " 'The fucking peace sign talking much shit 👋 🏼 🖕 🏻',\n",
              " 'stare im eating cant eat hungry hell eat wont stop staring fuck',\n",
              " 'I feel man social media makes bad crazy shit',\n",
              " 'Curator vibes social justices NFL face ass',\n",
              " 'With tomato sauce 🔥 Corned beef rice really ’ respected enough That shit tasty',\n",
              " 'Don ’ let internet shit get head boa',\n",
              " 'Remember beat shit',\n",
              " 'My friends really let walk fake ass freckles',\n",
              " 'dumbass baldhead fork cash dumb bitch',\n",
              " 'Yep clown dumping CDs act fool 😏',\n",
              " 'Welp quick karma assImagine yo man die another bitch post “ Damn I last night 😫 “',\n",
              " 'FOR FUCKING REAL',\n",
              " 'I ’ get along old ass men Island cus bossy like stfu',\n",
              " 'A bitch wants cuddle AC high',\n",
              " 'W training ’ beat cell cool ass',\n",
              " 'I hate living loud ass people Tv always loud Voices Like SHUT The fuck',\n",
              " '🗣 I yo blessing stupid bitch ’ even know 🎶',\n",
              " 'Ordered first pair leggings today I hope fit ass My actual',\n",
              " 'Holy fuck life changing money',\n",
              " 'OMG people really stupid Even standing said Colorado',\n",
              " 'You ’ full shit traitor',\n",
              " 'I ’ gay bitch faggot',\n",
              " 'Yo white people still try say nigga Yo niggas play soccer got shit say 😭',\n",
              " 'FUCK watch classic horror netflix hulu dry',\n",
              " 'Sell I ’ finna sell fool shit pick',\n",
              " '#MoneyHeist Freaking PHENOMENAL Still middle things holy shit 💯',\n",
              " 'Got fool believe girl ’ shared ya dick picture friends',\n",
              " 'red needs launched fucking sun',\n",
              " 'I really need finish makeup ’ 4 😔 BITCH IM DA BOI WHO THE FUCK IS YOU NIGGA SOB GANG YALL AINT FUCKING WITH MY CREW',\n",
              " 'fuck 12 yall really let bitches get harrassed right infront',\n",
              " 'The Shit I Just Seen 😨 \\U0001f92e',\n",
              " 'Same irresponsible ass refuses buy another pair',\n",
              " 'Some dumb ass always make better',\n",
              " 'Ant let fucking friend go right Lexi shut fuck 😭',\n",
              " 'These white ppl across street act damn fool every week ... ’ literally never dull moment 🤦 🏿 \\u200d ♂ ️',\n",
              " 'please put “ Rest Peace A Fucking Clown ” engravement thank u',\n",
              " 'Boy hell lmao',\n",
              " 'I hate engaging idiots It keep interfering ...',\n",
              " 'bitch ever make feel good loved complete one good girlone girl worth thousand bitches',\n",
              " 'Bruh sec I felt like dying shit cuz breath nonexistent struggled whew hate asthma fr',\n",
              " 'im way fucking nice much people ’ give shit',\n",
              " 'This dudes straight suicide pretending crying pussy yet still cater ass 🙄',\n",
              " 'Don ’ speak piece shit',\n",
              " 'I guess us old heads say fuck',\n",
              " 'This app really killing brain cells man ’ another level stupid lol',\n",
              " 'somebody stormed shit outta safeway 😭 endless soap nd',\n",
              " 'Who fuck Saudi Arabia tryna recover fucking google email Stop',\n",
              " 'niggas gotta stop using Amazon much bc shit ridiculous.Bro JEFF BEZOS PAID ZERO DOLLARS IN TAXES ON 11 BILLION WE SHOULD BE RIOTING THE STREETS',\n",
              " '“ Who fuck gon listen Ebro ”',\n",
              " 'Linda sweety babe honey darling sister queen ... shut fuck',\n",
              " 'wait isnt dead hesitate bitch',\n",
              " 'The shit ’ pulling come back bite ass',\n",
              " \"Dude eat fried chicken everyday Its makes dumb shit That's source food\",\n",
              " 'elizabeth warren shut fuck republican #DemDebates',\n",
              " 'What colossal piece shit Fuck loser',\n",
              " 'sleep paralysis sucks ass honestly make scared even lay',\n",
              " 'ok ive concluded im fucking hard handle',\n",
              " 'If I Shinji would simply beat shit Jeff Bezos',\n",
              " 'That ’ An old get fucking lawn 12 gauge lol Sick',\n",
              " 'THEY DID AGAIN stupid continuespitching lindor first base open straight',\n",
              " '’ wait get nigga dat buy random shit da kindness heart \\U0001f970',\n",
              " 'NIGGA WHERE IS THE LIESthese bitches EASY u gotta buy em weed lame nigga gone fall love',\n",
              " 'The fuck squid gang ’',\n",
              " 'Praying ever happeningwell dom stops meeting fans shit ’ wanna see ’ complain',\n",
              " 'boutta spend half saturday gettin hw errands done fucked',\n",
              " '’ lonely fuck',\n",
              " 'I need top meal prep ... bitch slackin 🤦 🏻 \\u200d ♀ ️',\n",
              " 'aint mad anything im living bitch',\n",
              " 'If accurate stingley houses shit',\n",
              " 'I guess stupid realize NO ONE LIKES insane policies',\n",
              " 'What fuck ‘ influencer ’ upset',\n",
              " '“ Can ’ name fake nigga exposed ’ niggas surprised tekashi told ” 🤧 💙 🏁',\n",
              " 'They understand ’ sit gossip phone day ... bitch got shit',\n",
              " 'good morning fuck life',\n",
              " \"If Hozier ass he'd unstoppable\",\n",
              " 'quit talking back shit',\n",
              " 'went hunted trails today clown slapped ass',\n",
              " 'The bass bitch dope felt every kick chest',\n",
              " 'Like shit embarrassing aspire',\n",
              " 'You racist shut fuck die',\n",
              " 'Holy shit I thought going die heat stroke WM31',\n",
              " 'VAR ... ’ fucking point',\n",
              " 'There two types bobbics Chill ot7 Fucking ass shits',\n",
              " \"If I put trust bitch I'll always hurt\",\n",
              " 'I work #WalMart shit already #WalkAway',\n",
              " 'stop giving bum ass Nigga clout 🤦 🏻 \\u200d ♂ ️',\n",
              " 'I hate “ I ’ older ” kinda bitch Yea 5 months walking fossil shut fuck',\n",
              " \"Not probably idiot abso-fuckin'-lutely idiot IF stood applauded building wall Colorado idiot\",\n",
              " 'A whole waste fucking year',\n",
              " 'Minority Half fucking report black',\n",
              " 'I ’ fairly certain could beat shit \\U0001f92a',\n",
              " 'Meet fuck single girls area 💐 🌸 🌹',\n",
              " 'fucking beautiful I ’ emo rn im gonna ugly sob',\n",
              " \"many people take advantage kindness i'm shit lmao\",\n",
              " 'reminding ’ girlfriend fucking cutest',\n",
              " \"Portman's POS Ohio dump ass next election\",\n",
              " 'NAHHH BUT JM NEVER GONNA FORGTT ST RHAT JIKOOK SHIT WTF WAS THAT IM FUCKING LEVITATING',\n",
              " 'Son u ’ win wit community leave shit mentions',\n",
              " \"Yeah fuck I'm done shit\",\n",
              " 'I thinking I ’ crazy mass shootings happen realize ’ fucking',\n",
              " 'shut fuck',\n",
              " 'What hell wrong damn people SHIT',\n",
              " 'want fucking dance 😭 😭 😭',\n",
              " 'I ’ lil bitch shit bitch',\n",
              " 'And like I ’ pissed fuck thanks HFCC',\n",
              " '#MoscowMitch racist corrupt old man needs voted',\n",
              " \"Don't give whiny little bitch\",\n",
              " 'fr idk fuck goin ’ good 🤷 🏾 \\u200d ♀ ️',\n",
              " 'Might fuck around watch Harry Potter movies start end gonna stop',\n",
              " 'I hate friendly ass people',\n",
              " 'Why swift shits Hit jump everything ass 😂',\n",
              " 'Steve King ... actual fuck wrong',\n",
              " 'Pacify Black folks Seriously fuck wrong yall',\n",
              " 'Y ’ like hard ass crust huh 😂',\n",
              " 'fucking lucky boy life wow',\n",
              " 'Jules consistently trash season dating apps shit ✌ 🏻 good riddance',\n",
              " 'Omg bitch 😂 😂 😂',\n",
              " 'yoongi could pull ugly ass outfit idk ’ put red suit 😐',\n",
              " 'looked cute fuck tonight lol',\n",
              " \"Ps that's fucking joke\",\n",
              " 'I wanna go buy bunch shit ’ need',\n",
              " 'Meek Mill weird shit Twitter',\n",
              " 'Bitch I knocked woke',\n",
              " 'It takes real pick ass bitch say child support wrong lol',\n",
              " \"Now he's talking stealing oil This shit rails\",\n",
              " 'piece shit company',\n",
              " 'Tonight suppose chill one I work tomorrow Oh It goes shit Fuck \\U0001f92c',\n",
              " 'I ’ falling feelings fuck em life goes',\n",
              " 'Also I want say fuck government whole life shit rigged',\n",
              " '#alevelresults2019 feel like pure shit want gavin stacey christmas special come early',\n",
              " 'Drake dropping old shit hold us till drop April 2020',\n",
              " 'That disgusting',\n",
              " 'Yes drag piece shit',\n",
              " 'Walking around streets Durban place fucking sucks',\n",
              " 'So sick fake love',\n",
              " \"He's idiot\",\n",
              " 'I feel sorry kids father fucking worthless Fuck AB',\n",
              " '🤦 🏾 \\u200d ♂ ️ 🤷 🏾 \\u200d ♂ ️ Don ’ mind nasty shit likes unless ’ future wife take note I liked 😭 😂',\n",
              " 'anyways bought sherpa pullover today shit comfy',\n",
              " 'worth selling ur soul What pathetic excuse human u become',\n",
              " 'Well IG better get ass eh',\n",
              " 'hold fuck hueningkai six feet HOLD UP WHAT',\n",
              " 'said bitch',\n",
              " 'Operation use publicity stunt push shit 😂',\n",
              " 'Oooo got ass',\n",
              " 'It ’ fault Should ’ left weird ass alone lmao',\n",
              " 'really “ god ” people speak ’ asshole',\n",
              " 'shit cutest ’ ever seen',\n",
              " 'ace fucked 😂 😂 I ’ sick',\n",
              " 'I ’ literally fucking best fuck',\n",
              " 'boy gets rejected 🤣 🤣 😂 😂 😂 u really thought I serious 😂 😂 🤣 ’ deep 😂 😂 😂 ugly bitch 😂 😂 😂 🤣 🤣 وهمية 😂 😂 😂 🤣 🤣 🤣',\n",
              " 'Might fuck around deactivate cuz I hate idk 🤙 🏻',\n",
              " \"I'm start revolution fuck neteasehimiko dies tomorrow\",\n",
              " \"That's absolutely hilarious You're fucking joke\",\n",
              " 'And bad bitches go heaven',\n",
              " 'Supposedly mike tyson helped fat joe big pun fight like 6 ass security guards.Mike Tyson really used beat shit outta niggas',\n",
              " 'That ass',\n",
              " 'Like John Oliver says stupid Watergate',\n",
              " 'happened little boxes jakjzksk bitch need help',\n",
              " 'Deep throats veiny Snickers bar Now shut fuck',\n",
              " '😭 dude fuck',\n",
              " 'I wanna play bo4 bad fuck fortnite',\n",
              " \"I'd go hunting kings dude Animals kidneys dogs called dog ... he's got shit together\",\n",
              " 'I ’ give FUCK devil take fucking',\n",
              " 'fuck feels fr hope shit ’ last',\n",
              " '4am fuck',\n",
              " 'What hell going Hamilton This disgusting',\n",
              " 'fuck',\n",
              " 'The Idiot',\n",
              " 'might fuck around',\n",
              " 'Fucked Bernie included mids marijuana legalization plan I respect',\n",
              " 'Number one way prevent girls outing rapist literally fucking',\n",
              " 'What actual fuck',\n",
              " '’ imagining mom cursing wolof smacking shit LMAO',\n",
              " \"There's 1 way achieve muting every word existence TL allplease one fucking day without seeing fucked shit tl\",\n",
              " 'Aye man nigga Jed spazzed Lee went STUPID',\n",
              " 'Best thing stfu mind business bout everything ’ got shit',\n",
              " 'And anyone brain knows Asshole ...',\n",
              " 'I ’ go gym today feel like piece shit',\n",
              " 'Yes ass Amerika like suppository',\n",
              " 'Why fuck I “ take pants ” Who hell keeps adding group chats 🤷 🏻 \\u200d ♂ ️',\n",
              " \"God bless people long they're brown right Go fuck\",\n",
              " 'What fuck argument',\n",
              " 'Yea kicked ass Mar-a-lago soliciting members underage children Try harder',\n",
              " 'How I keep fucking dumbest niggas Somebody send helppp',\n",
              " 'I ’ time people fucking bullshit 🤷 🏽 \\u200d ♀ ️',\n",
              " '1000 days fucking amazing',\n",
              " 'call yo ass types bitches niggas ’ gaf',\n",
              " 'My wisdom tooth hurt bad I ’ ready give cowboy fan shit stop lord I ’ say fuck jerry Jones 😫',\n",
              " 'I fucked bitch ’ wanna friend nun',\n",
              " 'People say fuck mad ion give \\U0001f974',\n",
              " 'Y ’ bully drinking room temp water fucking psychopaths',\n",
              " 'starting today rough fuck battered top failed exam results \\U0001f974 \\U0001f974 \\U0001f974',\n",
              " '“ treated like rock star ” The man fucking ghoul everyone enabling narcissist feel ashamed',\n",
              " 'god fucking CRAZY shit scam',\n",
              " 'That shit real u try settle urself performing takes whole process',\n",
              " 'ableist ppl like fuck never come site lmao',\n",
              " \"You're disgrace\",\n",
              " 'Nigga blocking shots dawg 🤦 🏾 \\u200d ♂ ️',\n",
              " \"And Triad's gonna Des's ass #ClawsTNT\",\n",
              " 'That man irritates tf I still suck shit nigga dick asked',\n",
              " 'politicians worst',\n",
              " 'Mimosas shit Pour champagne bootycat ’ party',\n",
              " 'MICHAEL JOANNA ALL YOU SHIT HEADS THAR FUCKED WITH MY BITCH F CK YOUUU',\n",
              " 'What fuck plots tonight',\n",
              " 'fuck “ might interested ” ’ show shit',\n",
              " 'Second day row yo SHUT THE FUCK UP',\n",
              " 'fuck bitches putting random shit coochies',\n",
              " 'That shit really hurt',\n",
              " 'I feel bro I ’ babying shit right 😄',\n",
              " 'Post shit ’ getting blocked',\n",
              " 'Shut fuck',\n",
              " 'wayv part nct bitch im gonna kill sm',\n",
              " 'anyway fuck everyone play shin megami tensei',\n",
              " 'Hell Nah gotta come back shit free time',\n",
              " 'Ari needs throw round two cusss shit poppin sistherrr',\n",
              " 'You suck dick u racist piece shit reason god made nut I hope burn hell',\n",
              " 'How fuck clear obvious',\n",
              " 'Got 4 em removed put ass sleep',\n",
              " 'This nigga put “ bored Hell ” got whole gf I hate men 💀 💀 💀 🤣 🤣 🤣',\n",
              " 'shit would say laugh',\n",
              " 'bitches act like supposed scared cause dirty ghetto 😂 😂 😂',\n",
              " 'noah fence theyre ruining chance infinity train shit airing schedule',\n",
              " 'I want fuck ass',\n",
              " 'I must something wrong Cause shit getting pretty fucking old',\n",
              " 'You piece shit anyone supports',\n",
              " 'How fuck nigga car put dawn liquid soap windows 😂 😭 thank later ... ctfu 🤣 😭',\n",
              " 'Ian even gon lie I ’ hurt bitch My heart feels heavy rn And im drunk crying eyes',\n",
              " 'Niggas think ones need bitch “ peace ” nigga mine Shit I scressed',\n",
              " \"Fuck Donald You've raised hate level 10 fold\",\n",
              " 'I crazy ass dream \\U0001f92f',\n",
              " 'Yeah cause I give fuck',\n",
              " 'That ’ ya stomach hurting fuck nowIdk people think chipotle nasty I still 😭',\n",
              " 'awesome 1130 shit 17 year old take grain salt',\n",
              " \"Every time I work music producer wanna date try fuck can't anyone professional anymore\",\n",
              " 'Every day month fuck I wake Jesus fuck Fucking fuckity shit',\n",
              " 'A headache dick.Besides DICK FUCK niggas OFFER 🤣 🤣 💁 🏽 \\u200d ♀ ️',\n",
              " 'Honestly I unintentionally bitch lately Nobody deserves thatyall ever miss energy like shit wtf happened',\n",
              " 'Bitches crazy',\n",
              " 'This shit put yo ass sleep Craig 😂 ‼ ️',\n",
              " 'FUCK ICE BITCH I DONT EVEN PUT THAT IN MY WATER',\n",
              " 'Not appreciate OOF DAM SHT FUCK like sometimes It really nibbas',\n",
              " 'This disgusting',\n",
              " 'Yeah fucking bad news bears eulmore I hate',\n",
              " 'Lol shit ion know jitYa daughter 23 bring home 40 year old man introduce BF shes preggo ... u straight',\n",
              " 'yo fuck someone like ice cream cake',\n",
              " 'My anxiety level everytime Taeyeon would open fire like boss hskdhs bitch aint scared death',\n",
              " 'somebody tell Bart really dead man believe shit ...',\n",
              " \"Hope Lumpy plenty chapstick handy lips going chapped kissing fat boy's ass\",\n",
              " 'If lead female like wanna bf fuck yousa sad clown ass nigga',\n",
              " \"Yea I'll sure check every thrust The fuck\",\n",
              " 'niggas swear facing demons got court every month bro go pay damn traffic ticket calm',\n",
              " '’ gotta stop saying Birmingham shit happens everywhere world sick ass place',\n",
              " 'It must suck dumb',\n",
              " \"He's always way big eared fuck\",\n",
              " 'bitches weird ’ f 😂',\n",
              " 'holden ford fuck interrogation room challenge #MindhunterSeason2',\n",
              " \"Shit I'm tryna find friends watch anime 🙄 🙄\",\n",
              " \"If dare say Minecraft album I'll find u fuck ass\",\n",
              " 'Ima 80 yrs old still fucking stop playing people asking sex 😂 😂',\n",
              " 'deadline day finishing 5 boring fuck',\n",
              " 'WHY DOES HE LOOK SO FUCKING SMOL',\n",
              " 'Shut fuck',\n",
              " 'Bro nigga broke heart audacity text ask hang like bitch fuck',\n",
              " 'America never socialist country commie piece shit',\n",
              " 'Okay Fuck I dont want deal bullshit right',\n",
              " 'Everything coming mouth evil',\n",
              " 'Shut fuck',\n",
              " 'gesturing Petit Trianon Damn bitch live like',\n",
              " 'Beat shit kids playing life today dumbasses went college learn trade put sock',\n",
              " 'Honestly bottom line Beto scum bag rapist ...',\n",
              " 'Wait really sucks ass',\n",
              " 'Beyoncé talkin shit upgrade u',\n",
              " 'fuck dababy camp flog gnaw',\n",
              " 'Bo Burnham ’ shit SO fucking stupid ’ funny',\n",
              " 'New Kink unlocked Young Chanyeol ’ 4XL cock friends Boyfriend Baekhyun ’ ass',\n",
              " '’ ever baby make cry shit ’ cool 😭',\n",
              " 'good thing dog deaf fuck ’ hear thunder 🕺 🏽',\n",
              " 'Obviously ’ listening Trump liar fraud racist plain sight',\n",
              " 'The fuck Cabrera',\n",
              " 'expert throwing peoples shit 😭 😭 😭',\n",
              " 'They say fuck snip dick instead 🤷 🏾 \\u200d ♂ ️ ... Imagine born mama like ... “ Let ’ ears 😃 ”',\n",
              " 'almost customers tht I serve 😤 😡 I ’ perfect enough tell u ’ shit person person',\n",
              " \"they're dorks fuck love 😭 😭 😭\",\n",
              " 'Shit I ’ tear dat ass niggas lucky I ’ ya area 😩 😩 😉 🍆 💦 💦',\n",
              " 'might fuck around dye hair grey',\n",
              " 'Fuck leave EXO',\n",
              " \"I've never hit unfollow fast Fuck That\",\n",
              " 'dare x1 end fucking drought',\n",
              " 'I hate ppl say regular ass shit like “ Don ’ let go head ” plz shut u ’ even nothing 😑',\n",
              " 'poor guys ass seen 7,000 times',\n",
              " '’ want yo ass u still got shit ex',\n",
              " 'bra ’ seen nigga try pose daughter escape jail 😂',\n",
              " 'My lil bro know I ’ turn bitch Afghanistan problem 💯',\n",
              " 'Holy shit surreal I watching live happened',\n",
              " 'This shit anymore 😒',\n",
              " 'Why pink hair shit like ffs',\n",
              " 'Fuck degree bruh im dumb fuck',\n",
              " 'Trip ass Jon',\n",
              " 'Use Fuck yeah',\n",
              " 'Was expecting end tweet say “ fuck ” honestly',\n",
              " '6 draws fucking row La Liga objective fuck',\n",
              " '’ tryna talk ahmad game ass sleep 🙄',\n",
              " 'Disappear get ya shit together U ’ missing nothing bunch mfs talkn ish ..',\n",
              " 'Piece shit',\n",
              " \"wei wuxian oh please we're children yanli leaves wuxian pointing jzx eat shit die jin zixuan fuck\",\n",
              " 'And fuck charge training Even god damn NMR look synchronised',\n",
              " \"Shut yo bitch ass They're dead YOU I hate every fiber\",\n",
              " 'I sick shit going eventually',\n",
              " 'Who hell 😳',\n",
              " 'U ever watching anime n like damn bitch affordable mental health care world',\n",
              " \"📰 The Pixel 4 sometime end year 🎶 I'm like shit college fuckin rap career\",\n",
              " 'He must crystal ball read tea leaves shit',\n",
              " 'I gotta get mental back Order much head 🤦 🏾 \\u200d ♂ ️ shit ’ coo',\n",
              " 'Yes tell fuck',\n",
              " 'Fuck shit flame',\n",
              " 'pretty hell fucked inna head',\n",
              " \"Ambassador Rice right He's piece shit\",\n",
              " 'I hate liar',\n",
              " 'niggas always care ’ late I promise fuck ’',\n",
              " 'I got super hungry gonna go get food like fuck Now I ’ eating hot fries damn late',\n",
              " 'Weakest fight I ever seen light grey really thought shit lmaooo',\n",
              " 'bitch leaked shit perez needs put',\n",
              " 'keanue tries jollibee first time Him damn shit good 😂 😂',\n",
              " '😭 😭 🤣 🤣 real life home together mind bitch ’ nigga period 🤦 🏽 \\u200d ♀ ️ 🤦 🏽 \\u200d ♀ ️ 🤦 🏽 \\u200d ♀ ️',\n",
              " 'We ones kept cool niggas til started acting',\n",
              " 'holy shit miss u much',\n",
              " 'bitch ’ wavy could neva replace',\n",
              " 'What funny Jamal saying “ ’ know fuck set ass braids ”',\n",
              " 'Nah sorry It ’ really personal fucked So .. yeah Fuck',\n",
              " 'Why world grown ass men afraid 73 yo bully Insane',\n",
              " 'Bruh fuck talking Lmao',\n",
              " \"He's fucking moron And anyone supports\",\n",
              " 'They really debating basic human rights We live evil ass country smh',\n",
              " 'ever look shit took think „ damn really could fit dick “',\n",
              " 'lmao look pussy removed messages like little bitch 🤣 💀 🤣 💀 🤣 💀',\n",
              " 'fools leads sad bitch hours rain …',\n",
              " 'sm fucking suck imagine removing wayv contact leaving us wonder fuck going cba',\n",
              " 'damn ’ gonna rain later .. wow niggas really ’ shit',\n",
              " 'Had rough night last fucking hell',\n",
              " 'Quand c ’ est crying public like little bitch 🤷 🏽 \\u200d ♀ ️ 😂',\n",
              " 'Youll never know #Libra lacks confidence We dont show shit',\n",
              " 'idk bitch act like dead',\n",
              " 'Oh fuck shit.Fame prison',\n",
              " 'People liars wanna play vitctim shit create',\n",
              " 'God damn man First fat nigga belly ass ass Wtf',\n",
              " 'Why fuck playing today As squad ’ look unfit enough already',\n",
              " 'I used play shit game',\n",
              " 'Her ass liquid fuck shit',\n",
              " 'Niggas talking like sayin real shit Stfu 💀',\n",
              " 'im trying positive fucking sad',\n",
              " 'He need start walking bc I ’ sick carrying heavy ass',\n",
              " 'And one word officers took bullets Fuck',\n",
              " 'Cnt watch sick needs put fucking dryer evil scum 😠 😠 😠',\n",
              " 'Wow ’ racist thing sexist thing Does left ever shut fu bunch snowflakes MAGA 🇺 🇸',\n",
              " 'Bitches hating crusty nasty feet ... Like go get pedicure witcha self stop 😂',\n",
              " 'This funny cause I got blocked pregnant 🤣 🤣 🤣 My old bitch pregnant hope baby come ugly',\n",
              " 'Wow like nigga gotta pull 50 cent n G-Unit',\n",
              " 'But 4K bad either shit I survive paying bills rent',\n",
              " 'Then meat dead oji beat dick like wife',\n",
              " 'wanna talk shit find “ love half death ” literally FUCK YOU',\n",
              " 'Lock emoluments clause ass',\n",
              " 'Break bitch',\n",
              " 'What fuck wrong guy 😂 Just absolutely nuts',\n",
              " 'If ’ 1 person fucking goat yo',\n",
              " 'early morn car rides usually NOT fan music imma listenI Fuck Wit Durkio Tape 💪 🏾 💪 🏾',\n",
              " 'That hoe hard fuck fam 🔥',\n",
              " 'Why yall niggas wait till fucking bitch raw ask birth control 🤣 \\U0001f928',\n",
              " 'The guy I ’ stressing bitch ass nigga called life 😤',\n",
              " 'I ’ wait til police find Somali girl fucked car stupid cunt',\n",
              " 'Grind bro shit goes south keep pushing',\n",
              " 'type shit happens u dont friends',\n",
              " 'Dude cruz azul fan 😭 🤣 say Worry piece shit team',\n",
              " '... bro go wipe ass wash ur boochie',\n",
              " 'Shut fuck worthless sack garbage',\n",
              " 'None dickheads know keep fucking mouths shut mind damn business',\n",
              " \"He's ... living room What fuck Man I'd chase broom\",\n",
              " 'That shit look tight fuck imma get one whole band Shawlbro.Motion',\n",
              " 'phone broke dog died cant afford eat I stg shit stupid im tired ass life',\n",
              " 'I need shut fuck roll woods',\n",
              " 'The black screen w venting 😫 😂 annoying fuck people constantly posting quotes snap 🙄',\n",
              " 'U guts calling anyone idiot u r like dumbest person planetDonald Trump believes climate change hoax Donald idiot',\n",
              " 'My boo Fine fuck THATS IT',\n",
              " 'Holy Shit Luis Diaz amazing ... #Crew96',\n",
              " 'QHAT THE FUCK CONGRANST',\n",
              " 'getting 2/3 days cant fucking wait',\n",
              " 'I hate vibe randomly go ghost shit like point shawty',\n",
              " 'Danity Kane really would THAT girl group Their catty shit Diddy messed everything',\n",
              " 'Fredo weak stupid eaten key',\n",
              " 'The whole ex fighter would beat current debate boring fuck cos never gonna able find',\n",
              " 'I swear god im fucking tired people',\n",
              " 'I copy paste like ah mf get tired typing da shit different mfs 😂',\n",
              " 'Hate bitch needs negativity life see blessings',\n",
              " 'Niggas swear More Life classic shit listening Kendrick lmao make sense',\n",
              " 'We going skip right past tweet ’ talking shit us years 🙄 🙄 🙄',\n",
              " \"Huh cute I'd fuck :)\",\n",
              " \"Lil Kim Shut fuck cue IZ ONE's Highlight's drop\",\n",
              " 'came across pictures alyssa amya holy shit fucked 😕 💔',\n",
              " 'My shit loading I thought meant like green hulk',\n",
              " 'burned fuck tryna iron damn shirt 😒',\n",
              " 'What fuck',\n",
              " 'Fuck dude .. gone right Let',\n",
              " \"I'm fucking done shit family\",\n",
              " 'Y ’ ever someone try play fool life turned complete shit Whew',\n",
              " \"Coutinho poor man's Suso € 160M ass lmao Liverpool biggest winners\",\n",
              " 'The bloke complete shit cunt I ’ piss fire 😡 😡 😡',\n",
              " 'Data theft ’ Shit real WE ARE THE PRODUCT 👾',\n",
              " 'Just opinion matter party Kid Rock belongs music still sucks He idiot',\n",
              " 'Just finished first episode Very Scary People John Wayne Gacy Jesus Christ fuck',\n",
              " 'Because incompetent piece shit deserve mess voting',\n",
              " 'Had dream bitch I used work owes 600 fell fuckin cliff last night 😂 😂 😂 woke happy fuck mornin',\n",
              " 'Girl fuck lies put app horrible person round',\n",
              " 'She ugly face everyone wants bc decent body Ain ’ shit',\n",
              " 'I Got Sum Shells He Can Eat 😂 😂 😭 😭 😭 Real Hot Shit @JayyD3_ That man gone fuck around eat .. literally 😭 😭 😭',\n",
              " 'Fucking behaviour 12 year old .. makes sick',\n",
              " 'Spouting correlation commented abortion response mass shootings Damn fucking stupid',\n",
              " \"What's like shit individual Gary\",\n",
              " 'I never seen much toxic shit life I ’ tired 🤦 🏽 \\u200d ♀ ️ 🤦 🏽 \\u200d ♀ ️ 😤 😤 ..',\n",
              " \"I know one thing I'm sick shit lol\",\n",
              " 'Ice starch shit make 😊',\n",
              " 'I heard shit said got back',\n",
              " 'CTFU I LOVE HIS ENERGYKwon told jarius get ’ sorry ass field lmfaooo',\n",
              " 'This hot ass shower finna rock soul sleep',\n",
              " 'He girlfriend shut fuck whore sit go back dating perfect fucking oyfriendUUHHGGG I HOPE YOU LIKE ME BACJ EVEN THO IVE GOT NO CHANCE WITH UUHHGG',\n",
              " 'Some ’ post shit attention 🙄 🙄 WHO TF CARES',\n",
              " 'Lee fuck',\n",
              " 'imagine sex nigga lisp ask “ puthy ithith ” 😭 😭 😭 💀',\n",
              " \"You're like email scammer full crap\",\n",
              " \"You're much better 🤡 🤡 🤡 Donald Trump believes climate change hoax Donald idiot\",\n",
              " 'I talking niggas crazy bc ’ need em 🤷 🏾 \\u200d ♀ ️',\n",
              " 'The Dow dropped 800 points yesterday shit tweeting',\n",
              " 'Dirty look Dude I ’ jamming ’ seat back soon try shit Plane seats keep getting tighter',\n",
              " 'A bitch going per usual ima get',\n",
              " 'Fuck fack ass account shits annoying asf nipple bitch',\n",
              " 'Ayyye shit hard lol 😂 Money heist anxiety roof',\n",
              " \"You're complete idiot A large portion population Muslim stupid\",\n",
              " 'I ’ fucked bout nigga bother bitch I ’ living ✨ 🙂',\n",
              " \"It's end us What kind shit promoting songs like sebadakiwe bhebhan bafana 🤔 🤔\",\n",
              " \"Dont look like rapey criminal I'm catching cause fuck\",\n",
              " 'These bitches tripping nigga I already lil bitch 😂 😩',\n",
              " 'oh shit txt highkey snapped comeback hold',\n",
              " 'At guess Johnson private health insurance give fuck',\n",
              " 'And pee uwuWhen press morning wood ass',\n",
              " 'Bro 🤦 🏾 \\u200d ♂ ️ ... last night 😂 😂 I got grow lol Getting shit turn 30 😂 😂',\n",
              " 'This accurate lmao 🤣 🤣 🤣 bitches hate look like showering',\n",
              " 'yin yu im dumbass heavenly capital fake ass gods jun wu hey yu yinyu hi fucking bitch',\n",
              " 'The fuck I lifeee',\n",
              " 'Lukaku thing 6 years ago You could see face SmhI knew Tammy gonna fuck Staring fucking hard goal',\n",
              " 'If suck yo dick 80 freeway marry crazy bitch',\n",
              " 'Why people steal tweets shit corny nigga ’ like different twitter den seen',\n",
              " 'blame whole lot shit 💯',\n",
              " 'example idiot tweet',\n",
              " 'Bill As PhD carrying ecologist Fuck',\n",
              " 'Stop sending picture n say shit ya chest fucking pussies',\n",
              " \"can't fw nigga think fuck today another bitch tomorrow 🙅 🏽 \\u200d ♀ ️\",\n",
              " \"Dont worry i'll throw Avada Kedraba bitch ass\",\n",
              " 'Can somebody tell da HELL huge sections busy ass 95th ’ proper turning lane 😡',\n",
              " 'Fuck Get rid ass also',\n",
              " 'hollow buzzword become synonymous w pronouns bio please sit fuck lmao',\n",
              " 'gangsta shit outta style thas left da club early 🤞 🏽',\n",
              " 'calling artists first name cringeee fuck lol',\n",
              " 'actual fuck PISS POOR PERFORMANCE',\n",
              " 'Sir dee leak ass always ... Dude fool respect #BBNaija',\n",
              " 'even gonna lie I ’ depressed shit LMA 😔 😔 😔 OOO',\n",
              " '#thenakedDIRECTOR fucking good japanese tv series recommend every single adult human watch',\n",
              " \"I'm concerned black voter fall bullshit\",\n",
              " 'All jokes aside ’ females ’ tryna rap need go apply mall sumim shit water jus like dese niggaz',\n",
              " 'Smh yeah real fucked head',\n",
              " 'Lol seen shit',\n",
              " 'What fuck I spent majority room anymore',\n",
              " 'What thinks whore like rest us',\n",
              " 'AOC racist',\n",
              " 'ajdkskf hate stan twitter annoying ass tweetd',\n",
              " 'also like cash hair ass',\n",
              " 'All niggas dem put 1 women get fuck haha',\n",
              " 'want sis print bts photos ... gonna kick ass time real',\n",
              " 'dumb fuck free',\n",
              " 'I hate wanna get know someone live fucking far away',\n",
              " 'Just shut fuck ... every thing comes mouth idiotic',\n",
              " 'Or stomachsome shit ever hurt yo feelings bad u feel chest 😩 \\U0001f974',\n",
              " \"She says I'm child xbox day wont get bride I ntell childish sucking dick make side bitch\",\n",
              " 'idk people get idea got 7 “ broke ” “ flops ” whatever fuck LMAO',\n",
              " 'Kelly ’ sign would man looking tree yelling “ fuck shit hell asshole bitch ”',\n",
              " 'Need smoke fat ass blunt I go sleep peacefully',\n",
              " 'If say shit like “ I ’ mean body shame BUT ” Just fucking stop lol',\n",
              " 'Damn females gettin old ways',\n",
              " 'bitch 😛',\n",
              " '\\U0001f97a two bitches bday day I think planned shit',\n",
              " 'Where FUCK farmers market',\n",
              " 'get mind give back heart fuck away',\n",
              " 'Aye wanna know crazy girls got wild fucking farts idk winery damn 💀',\n",
              " \"question y'all think moms husband seen trump said thinks piece shit\",\n",
              " 'He might well go gay bitch ass hands n feet 🤣 🤣 🤣',\n",
              " 'Just stupid idiot trying make excuse get keep money',\n",
              " 'Of course fucking holy shit',\n",
              " 'LGBTQI community nothing fuck minds',\n",
              " 'I could fuck type shit',\n",
              " 'Imma stop nice become asshole 😂',\n",
              " 'Y ’ bomb ass song ruined music video',\n",
              " 'bUt pERioD bLOoD Is naTurAL 💩 natural shit still nasty I would NOT like paint',\n",
              " 'Sad childish 😭 😭 😭 ’ really fucked shit blame “ alcohol ” 💀',\n",
              " 'Mfs get couple outfits act like 50 bands around bitch 😭',\n",
              " 'All little white boys highschool messages whole time I thought racist shit 😂 😂 👎 🏾',\n",
              " 'Trump Republican crime syndicate manage fuck healthy economy handed Obama',\n",
              " 'sorry wall sucks',\n",
              " 'It looks cool birds dumb shit cept parrots crows',\n",
              " 'Because New Yorkers dumb shit',\n",
              " 'Shit looking scary gotta come back life 😂 😂 I wanna hop GBP sooo bad imma let ride self',\n",
              " 'Bitches getting passed around corpus like fucking flu 🤣',\n",
              " 'It ’ sucks dawg turn snake smh 🤦 🏽 \\u200d ♀ ️',\n",
              " 'Alot Weird Shit Is Going Down The USA ...',\n",
              " 'I ’ rekindling failed friendships ... girl FUCK YA',\n",
              " \"Y'all mad people making decisions like supposed live footsteps BRO FUCK YOU 🗣\",\n",
              " 'Yea ya bitch ass always saving bitches niggas ’ want \\U0001f974 I real live telling mess people boyfriends 😪 😭 people putting stuff 😂',\n",
              " 'None hoe shit gone ride wit',\n",
              " 'fuck man fucking hard move',\n",
              " 'So I tried watch Money Heist easily got annoyed shit',\n",
              " 'Just thug shit yo ’ gonna aight ya herddd',\n",
              " 'Hope ’ start see stupid shit I',\n",
              " 'I hate seeing people stay fire ass resorts never drop places ’ name',\n",
              " 'Never try make chick like feelings feel bad shit gon fuck ya day 😂 😂 😂',\n",
              " 'I appreciate poeple life genuinely give shit',\n",
              " 'I swear shit everybody She would try steal friends back home 🙄 💀',\n",
              " 'fuck else matches pfp dickhead',\n",
              " 'Realism totally shit tits tho tbh',\n",
              " 'Ya bitch leaving work early cause fucking dead I NEED A GOODMAN DRINK',\n",
              " 'Grown ass man tryna sell ex nudes cause ’ want Niggas app lame hell',\n",
              " 'yo ass working totes I aint wanna interrupt u 😭 😭 fucked wasnt cleaning shit left',\n",
              " 'space would gladly turned back puched 😤 shit hurt like bitch',\n",
              " 'winds cracking huge wooden spatula ass',\n",
              " 'Matter fact imma live tm fuck tweeting shit',\n",
              " 'white ex bf coming AOC republican beliefs fucking glow dumped year ago x',\n",
              " 'Shit tryin get around 500 maybe But im seeing like 650 700 shit Lol poor guess 😂',\n",
              " 'bitch IN KOREA',\n",
              " 'People really taking things way serious like lighten fuck bro yolo',\n",
              " 'fuck finest want da realest',\n",
              " 'Well I see lying sack shit like Trump If missionary missionary Satan',\n",
              " 'Oh shit dude meant reply person',\n",
              " 'Got whole lot options cause know bitch poppin',\n",
              " \"Can't wait till Shit Island fucking feed lmao\",\n",
              " 'Oh watching something shit dead 😂',\n",
              " 'Jocing natisha stupid ass hoe otp hour I remember saying ima call back sumn eyes closed 🤦 🏽 \\u200d ♀ ️',\n",
              " 'white people know throw black ppl bone guna bite hell outta shit every time',\n",
              " '“ That ’ I fucked yo wife u fat muthafucka .. ” 😳 I know Them niggas fired Studio wen Tupac made Hit Em Up 😂 💯',\n",
              " 'It ’ public information stupid ass 🙄 cry us river 😭 😭 😭 😆 😆',\n",
              " 'I hate ppl say “ somebody buy thisss ” like stfu nobody wants shit go get 😂',\n",
              " 'No shit glitches phone cut middle shot',\n",
              " 'Reason ’ going around sucking everybody dick Some niggas liking nasty shit',\n",
              " 'Just clocked 20 years old When fuck Happen',\n",
              " '#RythmandFlow emotional shit 🙌 🏼 😭',\n",
              " 'I ’ promote anyone eye squinting shit',\n",
              " 'Just took hour nap shower ... fuck wrong',\n",
              " 'I ’ 24 next month I feel old fuck \\U0001f9d0',\n",
              " 'I sick Camembert à presque 7 dollars wesh 😭 5 croissants ’ fucking tried 😭 😭 😭',\n",
              " \"It's fucking disgusting magnificent animals kept like\",\n",
              " 'classes starting soon social battery zero haha fuck gonna (:',\n",
              " \"twitter's mute function work i'm sick seeing shit abt movie\",\n",
              " 'Daddy gon crack ass juheard',\n",
              " 'fuck college making pay classes top tuition well FUCK YOU',\n",
              " 'Yo fine ass 🤣 🤣 Tf smiling 😂',\n",
              " 'Just recorded first hook ... shit sound weird ash',\n",
              " 'Mf clown shit I ’ getting fed 4real',\n",
              " \"It's okay fuck ignorant people believe name real\",\n",
              " 'I ’ fuck yo bitch crack jokes laugh',\n",
              " 'All way bumfuck Illinois far hell 😣 🤦 🏽 \\u200d ♂ ️ fml 😍 😍 😍 piercings tuff 😝 🤘 🏽 I bet hurt like bitch',\n",
              " 'Team sure talk ’ walk walk Trash team Coach talked shit team got',\n",
              " 'I wanna throw dad big ass dice game birthday 😭',\n",
              " 'A dumb bitch see 10 bands ready fuck smart girl going know ’ shit ’ probably got showing',\n",
              " 'cant sleep shit thats wanna',\n",
              " 'Overrated fat fuck Doesn ’ deserve hall',\n",
              " 'minors pls stop posting ur body sexual intent Pls dont wanna fuckin see shit',\n",
              " 'It ’ still dumb hot outside',\n",
              " 'changkyun first smug bitch sitting table looking like whole meal fuck',\n",
              " \"This makes sad hear You're fucking gorgeous nothing ashamed Anyone thinks otherwise fight\",\n",
              " 'I threw freaking phone across room 💀 shit scary 😔',\n",
              " 'Some Bitches bring nothing table den get mad want head sex 🤔 bitch ’ got offer ‼ ️ 💯 🤦 🏽 \\u200d ♂ ️ 🤷 🏽 \\u200d ♂ ️',\n",
              " 'ima fuck day ass',\n",
              " 'Sensitive bitch like guys horrible deal',\n",
              " 'If everybody else ’ get happiness happy endings I feel like deserve shit',\n",
              " 'You want piece oh shit president',\n",
              " 'Fine niggas corny .. bitch shut look cute',\n",
              " 'WHAT THE ACTUAL FUCK IM SCARED OHMYGOD',\n",
              " 'Some shit I scared say Bcus ion want come wrong',\n",
              " 'Bitch realized I walked house hat head look mess',\n",
              " 'Also fuck monkey bars get hard fuckin A bitch breathe n clinging dear life',\n",
              " \"You're piece shit using photo Alicia\",\n",
              " \"I bought watermelon flavored vodka ain't nigga shit idk\",\n",
              " 'share tweets love shit',\n",
              " \"Tomorrow I'm gonna Go city BY MYSELF And eat food even going fuck\",\n",
              " 'oh shit ... galaxy brain jumped',\n",
              " 'This shit spiritual DJ singing heart',\n",
              " 'I like niggas straight teeth brush 😌',\n",
              " 'fucking replies dying askdjfnasdkjfnas',\n",
              " 'Nahhh I ignorant hood rat shit niggas fucking mall OFWG',\n",
              " 'Niggas hating niggas shit weird \\U0001f928',\n",
              " 'Ain ’ gonna lie I look shit 😂 😂',\n",
              " 'Bruh ’ IG past 2 weeks cuz shit trash I approve tweet Instagram officially fallen',\n",
              " 'That ass anaphylactic shock',\n",
              " 'fr dumbass least pay shit hopefully havana type hit 😘 ✌ 🏼',\n",
              " '1 .. 2 .. 3 lets shut fuck',\n",
              " 'Meet fuck',\n",
              " 'missed fucking year #gbeku',\n",
              " 'Everyday I come work make realize trifling 9-5 shit 😭 😭 😫',\n",
              " 'Why shit hand wtf',\n",
              " 'Shut fuck annoying libtard',\n",
              " 'Let Bitches Know Belong 👌 🏾 🗣',\n",
              " 'Good Lord stupid',\n",
              " 'Periodt sis bitches ’ kno better tho let dick choose everything',\n",
              " 'I gotta stop drinking coffee morning 😫 cuz shit 💩 every time 😭',\n",
              " 'Corn cobb ass',\n",
              " 'Y ’ look crazy feather looking ass eyelashes ☹ ️',\n",
              " 'Bitches really HIDEOUS tryna argue w niggas ion like 🤣 🤣 😭',\n",
              " 'Indeed Big Pun shit still stupid person probably never heard made list SMH',\n",
              " 'hate block little cute ass',\n",
              " 'Nope driving point anyone passing full shit',\n",
              " 'Say louder bitches back 🗣 Niggas really acting like claim realist niggas stop cappin',\n",
              " \"Fuck I'm gay\",\n",
              " 'Can ’ nice cause people take advantage shit',\n",
              " 'Modern idiot teens scared thing called “ slender man ” ’ FAT AS SHIT',\n",
              " 'Shes fuckin idiot Im sure got paid',\n",
              " 'bitch farted fans going direction almost threw came towards \\U0001f92e \\U0001f92e \\U0001f92e',\n",
              " 'fuck schlomo',\n",
              " 'tete winter latam fuck',\n",
              " 'dude actually shut fuck man',\n",
              " 'bitch fuck goin shipland cordoshipland',\n",
              " 'Twitter like manifest I idea fuck ’ talking',\n",
              " 'Slander name I ’ shit nobody 😔',\n",
              " 'The fucking hell cowardly lieng piece shit',\n",
              " 'hey fuck',\n",
              " 'You gotta real piece shit hit somebody motorcycle cheese',\n",
              " 'guys fix shit real quick I want transact biz',\n",
              " 'Can ’ pls stop putting mediocre focus wack ass composition poor editing overhyped photos TL eyes need healing',\n",
              " 'This dumbest shit ever AI Stop Frisk know turned black folks',\n",
              " 'bitch time day listen whole album tonight PLD',\n",
              " 'im fuck may good relationship bc ready ... feelings',\n",
              " 'All guys know certify shit Fucking hell',\n",
              " '😂 😂 I ’ gonna talkin shit tomorrow',\n",
              " 'I Hate People That Make A Problem Out Of Everything Fuck On',\n",
              " 'Wish fucking u',\n",
              " 'anne hathaway really bitch huh',\n",
              " 'nigga stress max fuck em tho',\n",
              " 'idk needs hear get fuck toxic relationship n live life bitch',\n",
              " 'In house sweating ass I get look THE FUCKING HEAT IS ON',\n",
              " 'Yes What kind shit',\n",
              " ...]"
            ]
          },
          "metadata": {
            "tags": []
          },
          "execution_count": 17
        }
      ]
    },
    {
      "cell_type": "code",
      "metadata": {
        "id": "KqqgNBoZVZ4T",
        "colab_type": "code",
        "colab": {}
      },
      "source": [
        "# Import the dependencies\n",
        "from keras.models import Sequential\n",
        "from keras.layers import Dense, LSTM,SpatialDropout1D\n",
        "from keras.layers.embeddings import Embedding\n",
        "from keras.preprocessing import sequence"
      ],
      "execution_count": 0,
      "outputs": []
    },
    {
      "cell_type": "code",
      "metadata": {
        "id": "q2yqhPfvMZl9",
        "colab_type": "code",
        "colab": {}
      },
      "source": [
        "# The maximum number of words to be used. (most frequent)\n",
        "MAX_NB_WORDS = 50000\n",
        "# Max number of words in each complaint.\n",
        "MAX_SEQUENCE_LENGTH = 250\n",
        "# This is fixed.\n",
        "EMBEDDING_DIM = 100"
      ],
      "execution_count": 0,
      "outputs": []
    },
    {
      "cell_type": "code",
      "metadata": {
        "id": "feSFvbmRXnW6",
        "colab_type": "code",
        "colab": {}
      },
      "source": [
        "from keras.preprocessing.text import Tokenizer\n",
        "from keras.preprocessing.sequence import pad_sequences"
      ],
      "execution_count": 0,
      "outputs": []
    },
    {
      "cell_type": "code",
      "metadata": {
        "id": "8bdNZ9tPMcZ_",
        "colab_type": "code",
        "outputId": "3d625ab7-8267-42aa-c86a-0a8f86059797",
        "colab": {
          "base_uri": "https://localhost:8080/",
          "height": 35
        }
      },
      "source": [
        "tokenizer = Tokenizer(num_words=MAX_NB_WORDS, filters='!\"#$%&()*+,-./:;<=>?@[\\]^_`{|}~', lower=True)\n",
        "tokenizer.fit_on_texts(preprocessedTweets)\n",
        "word_index = tokenizer.word_index\n",
        "print('Found %s unique tokens.' % len(word_index))\n"
      ],
      "execution_count": 21,
      "outputs": [
        {
          "output_type": "stream",
          "text": [
            "Found 60150 unique tokens.\n"
          ],
          "name": "stdout"
        }
      ]
    },
    {
      "cell_type": "code",
      "metadata": {
        "id": "re7GhV2iXla8",
        "colab_type": "code",
        "outputId": "81777509-387b-44b2-fcd0-be331e5513fa",
        "colab": {
          "base_uri": "https://localhost:8080/",
          "height": 35
        }
      },
      "source": [
        "X = tokenizer.texts_to_sequences(preprocessedTweets)\n",
        "X = pad_sequences(X, maxlen=MAX_SEQUENCE_LENGTH)\n",
        "print('Shape of data tensor:', X.shape)"
      ],
      "execution_count": 22,
      "outputs": [
        {
          "output_type": "stream",
          "text": [
            "Shape of data tensor: (188973, 250)\n"
          ],
          "name": "stdout"
        }
      ]
    },
    {
      "cell_type": "code",
      "metadata": {
        "id": "tpAhwpbMX5L-",
        "colab_type": "code",
        "outputId": "cac3237b-0a06-45c9-990b-10ba55022857",
        "colab": {
          "base_uri": "https://localhost:8080/",
          "height": 35
        }
      },
      "source": [
        "y.shape"
      ],
      "execution_count": 23,
      "outputs": [
        {
          "output_type": "execute_result",
          "data": {
            "text/plain": [
              "(188973, 3)"
            ]
          },
          "metadata": {
            "tags": []
          },
          "execution_count": 23
        }
      ]
    },
    {
      "cell_type": "code",
      "metadata": {
        "id": "hDZls1NcYdny",
        "colab_type": "code",
        "colab": {}
      },
      "source": [
        "x_train=X\n",
        "y_train=y"
      ],
      "execution_count": 0,
      "outputs": []
    },
    {
      "cell_type": "code",
      "metadata": {
        "id": "ZPiDs7spYrvI",
        "colab_type": "code",
        "colab": {}
      },
      "source": [
        "\n",
        "#GET THE DATA FROM THE PANDAS FRAME\n",
        "headers=['id','tweet','subtask_a','subtask_b','subtask_c']\n",
        "englishdata = pd.read_csv(\"/content/drive/My Drive/EnglishData/OLIDv1.0/olid-training-v1.0.tsv\", delimiter='\\t',names=headers,low_memory=False)\n",
        "englishdata=englishdata[['id','tweet','subtask_c']]\n",
        "englishdata=englishdata[1:]"
      ],
      "execution_count": 0,
      "outputs": []
    },
    {
      "cell_type": "code",
      "metadata": {
        "id": "xbrjgENsY0o8",
        "colab_type": "code",
        "colab": {}
      },
      "source": [
        "englishdata = englishdata.dropna(subset=['subtask_c'])"
      ],
      "execution_count": 0,
      "outputs": []
    },
    {
      "cell_type": "code",
      "metadata": {
        "id": "kqyEoGaqZAzU",
        "colab_type": "code",
        "outputId": "56bca8e0-26d9-439e-b2b9-de52edbbe094",
        "colab": {
          "base_uri": "https://localhost:8080/",
          "height": 198
        }
      },
      "source": [
        "englishdata.head()"
      ],
      "execution_count": 27,
      "outputs": [
        {
          "output_type": "execute_result",
          "data": {
            "text/html": [
              "<div>\n",
              "<style scoped>\n",
              "    .dataframe tbody tr th:only-of-type {\n",
              "        vertical-align: middle;\n",
              "    }\n",
              "\n",
              "    .dataframe tbody tr th {\n",
              "        vertical-align: top;\n",
              "    }\n",
              "\n",
              "    .dataframe thead th {\n",
              "        text-align: right;\n",
              "    }\n",
              "</style>\n",
              "<table border=\"1\" class=\"dataframe\">\n",
              "  <thead>\n",
              "    <tr style=\"text-align: right;\">\n",
              "      <th></th>\n",
              "      <th>id</th>\n",
              "      <th>tweet</th>\n",
              "      <th>subtask_c</th>\n",
              "    </tr>\n",
              "  </thead>\n",
              "  <tbody>\n",
              "    <tr>\n",
              "      <th>2</th>\n",
              "      <td>90194</td>\n",
              "      <td>@USER @USER Go home you’re drunk!!! @USER #MAG...</td>\n",
              "      <td>IND</td>\n",
              "    </tr>\n",
              "    <tr>\n",
              "      <th>6</th>\n",
              "      <td>97670</td>\n",
              "      <td>@USER Liberals are all Kookoo !!!</td>\n",
              "      <td>OTH</td>\n",
              "    </tr>\n",
              "    <tr>\n",
              "      <th>8</th>\n",
              "      <td>52415</td>\n",
              "      <td>@USER was literally just talking about this lo...</td>\n",
              "      <td>GRP</td>\n",
              "    </tr>\n",
              "    <tr>\n",
              "      <th>10</th>\n",
              "      <td>13384</td>\n",
              "      <td>@USER Canada doesn’t need another CUCK! We alr...</td>\n",
              "      <td>IND</td>\n",
              "    </tr>\n",
              "    <tr>\n",
              "      <th>13</th>\n",
              "      <td>28414</td>\n",
              "      <td>@USER you are a lying corrupt traitor!!! Nobod...</td>\n",
              "      <td>IND</td>\n",
              "    </tr>\n",
              "  </tbody>\n",
              "</table>\n",
              "</div>"
            ],
            "text/plain": [
              "       id                                              tweet subtask_c\n",
              "2   90194  @USER @USER Go home you’re drunk!!! @USER #MAG...       IND\n",
              "6   97670                  @USER Liberals are all Kookoo !!!       OTH\n",
              "8   52415  @USER was literally just talking about this lo...       GRP\n",
              "10  13384  @USER Canada doesn’t need another CUCK! We alr...       IND\n",
              "13  28414  @USER you are a lying corrupt traitor!!! Nobod...       IND"
            ]
          },
          "metadata": {
            "tags": []
          },
          "execution_count": 27
        }
      ]
    },
    {
      "cell_type": "code",
      "metadata": {
        "id": "3XAi1jQ-ZjRQ",
        "colab_type": "code",
        "colab": {}
      },
      "source": [
        "import tensorflow as tf"
      ],
      "execution_count": 0,
      "outputs": []
    },
    {
      "cell_type": "code",
      "metadata": {
        "id": "kSeWOamBfR_s",
        "colab_type": "code",
        "colab": {}
      },
      "source": [
        "dfnumpy=englishdata.to_numpy()\n",
        "x_test=dfnumpy[:, 1].reshape(-1, 1)\n",
        "y_test=dfnumpy[:, 2].reshape(-1, 1)"
      ],
      "execution_count": 0,
      "outputs": []
    },
    {
      "cell_type": "code",
      "metadata": {
        "id": "ZNQoqRTDftGd",
        "colab_type": "code",
        "outputId": "e0d81291-abad-4bcc-801e-d509b5777331",
        "colab": {
          "base_uri": "https://localhost:8080/",
          "height": 145
        }
      },
      "source": [
        "y_test"
      ],
      "execution_count": 30,
      "outputs": [
        {
          "output_type": "execute_result",
          "data": {
            "text/plain": [
              "array([['IND'],\n",
              "       ['OTH'],\n",
              "       ['GRP'],\n",
              "       ...,\n",
              "       ['GRP'],\n",
              "       ['IND'],\n",
              "       ['OTH']], dtype=object)"
            ]
          },
          "metadata": {
            "tags": []
          },
          "execution_count": 30
        }
      ]
    },
    {
      "cell_type": "code",
      "metadata": {
        "id": "qy4yoE9-gVmS",
        "colab_type": "code",
        "outputId": "c57e617c-67f7-4ff7-a63f-6796cfc77c7a",
        "colab": {
          "base_uri": "https://localhost:8080/",
          "height": 35
        }
      },
      "source": [
        "y_test.flatten()"
      ],
      "execution_count": 31,
      "outputs": [
        {
          "output_type": "execute_result",
          "data": {
            "text/plain": [
              "array(['IND', 'OTH', 'GRP', ..., 'GRP', 'IND', 'OTH'], dtype=object)"
            ]
          },
          "metadata": {
            "tags": []
          },
          "execution_count": 31
        }
      ]
    },
    {
      "cell_type": "code",
      "metadata": {
        "id": "AnDnO3srfElI",
        "colab_type": "code",
        "colab": {}
      },
      "source": [
        "from sklearn.metrics import f1_score\n",
        "from sklearn.metrics import accuracy_score\n",
        "\n",
        "def f1_calc(predictions,labels):\n",
        "  #rowwise return the index of the max element ie 0 or 1 depending on the maximum value returned\n",
        "  predictionArgmax=np.argmax(predictions,axis=1).to('cpu').numpy().flatten()\n",
        "  labelsFlattend=np.argmax(predictions,axis=1).to('cpu').numpy().flatten()\n",
        "  print(predictions)\n",
        "  print(\"Predictions Argmax\",predictionArgmax)\n",
        "  print(\"labels Flattened\",labelsFlattend)   \n",
        "  return f1_score(labelsFlattend, predictionArgmax, average='macro')"
      ],
      "execution_count": 0,
      "outputs": []
    },
    {
      "cell_type": "code",
      "metadata": {
        "id": "9pnpWHzpf5av",
        "colab_type": "code",
        "outputId": "8c932f0d-912b-4e1f-ece5-7f9655b1d74e",
        "colab": {
          "base_uri": "https://localhost:8080/",
          "height": 35
        }
      },
      "source": [
        "len(y_test)"
      ],
      "execution_count": 33,
      "outputs": [
        {
          "output_type": "execute_result",
          "data": {
            "text/plain": [
              "3876"
            ]
          },
          "metadata": {
            "tags": []
          },
          "execution_count": 33
        }
      ]
    },
    {
      "cell_type": "code",
      "metadata": {
        "id": "Ei83AOYvhSJy",
        "colab_type": "code",
        "colab": {}
      },
      "source": [
        ""
      ],
      "execution_count": 0,
      "outputs": []
    },
    {
      "cell_type": "code",
      "metadata": {
        "id": "_kmqo_U_hu2N",
        "colab_type": "code",
        "colab": {}
      },
      "source": [
        "#f1 inspired from \n",
        "#https://datascience.stackexchange.com/questions/45165/how-to-get-accuracy-f1-precision-and-recall-for-a-keras-model"
      ],
      "execution_count": 0,
      "outputs": []
    },
    {
      "cell_type": "code",
      "metadata": {
        "id": "EPmR_vZuZHrg",
        "colab_type": "code",
        "outputId": "fa52913d-6999-4f8e-cac9-68cd4259fc52",
        "colab": {
          "base_uri": "https://localhost:8080/",
          "height": 710
        }
      },
      "source": [
        "model = Sequential()\n",
        "model.add(Embedding(MAX_NB_WORDS, EMBEDDING_DIM, input_length=x_train.shape[1]))\n",
        "model.add(SpatialDropout1D(0.2))\n",
        "model.add(LSTM(100, dropout=0.2, recurrent_dropout=0.2))\n",
        "model.add(Dense(3, activation='softmax'))\n",
        "model.compile(loss='categorical_crossentropy', optimizer='adam', metrics=['accuracy'])\n",
        "\n",
        "epochs = 3\n",
        "batch_size = 64\n",
        "\n",
        "history = model.fit(x_train[:50000], y_train[:50000], epochs=epochs, batch_size=batch_size,validation_split=0.1,callbacks=[EarlyStopping(monitor='val_loss', patience=3, min_delta=0.0001)])"
      ],
      "execution_count": 0,
      "outputs": [
        {
          "output_type": "stream",
          "text": [
            "WARNING:tensorflow:From /usr/local/lib/python3.6/dist-packages/keras/backend/tensorflow_backend.py:66: The name tf.get_default_graph is deprecated. Please use tf.compat.v1.get_default_graph instead.\n",
            "\n",
            "WARNING:tensorflow:From /usr/local/lib/python3.6/dist-packages/keras/backend/tensorflow_backend.py:541: The name tf.placeholder is deprecated. Please use tf.compat.v1.placeholder instead.\n",
            "\n",
            "WARNING:tensorflow:From /usr/local/lib/python3.6/dist-packages/keras/backend/tensorflow_backend.py:4432: The name tf.random_uniform is deprecated. Please use tf.random.uniform instead.\n",
            "\n",
            "WARNING:tensorflow:From /usr/local/lib/python3.6/dist-packages/keras/backend/tensorflow_backend.py:148: The name tf.placeholder_with_default is deprecated. Please use tf.compat.v1.placeholder_with_default instead.\n",
            "\n",
            "WARNING:tensorflow:From /usr/local/lib/python3.6/dist-packages/keras/backend/tensorflow_backend.py:3733: calling dropout (from tensorflow.python.ops.nn_ops) with keep_prob is deprecated and will be removed in a future version.\n",
            "Instructions for updating:\n",
            "Please use `rate` instead of `keep_prob`. Rate should be set to `rate = 1 - keep_prob`.\n",
            "WARNING:tensorflow:From /usr/local/lib/python3.6/dist-packages/keras/optimizers.py:793: The name tf.train.Optimizer is deprecated. Please use tf.compat.v1.train.Optimizer instead.\n",
            "\n",
            "WARNING:tensorflow:From /usr/local/lib/python3.6/dist-packages/keras/backend/tensorflow_backend.py:3576: The name tf.log is deprecated. Please use tf.math.log instead.\n",
            "\n",
            "WARNING:tensorflow:From /usr/local/lib/python3.6/dist-packages/tensorflow_core/python/ops/math_grad.py:1424: where (from tensorflow.python.ops.array_ops) is deprecated and will be removed in a future version.\n",
            "Instructions for updating:\n",
            "Use tf.where in 2.0, which has the same broadcast rule as np.where\n",
            "WARNING:tensorflow:From /usr/local/lib/python3.6/dist-packages/keras/backend/tensorflow_backend.py:1033: The name tf.assign_add is deprecated. Please use tf.compat.v1.assign_add instead.\n",
            "\n",
            "WARNING:tensorflow:From /usr/local/lib/python3.6/dist-packages/keras/backend/tensorflow_backend.py:1020: The name tf.assign is deprecated. Please use tf.compat.v1.assign instead.\n",
            "\n",
            "WARNING:tensorflow:From /usr/local/lib/python3.6/dist-packages/keras/backend/tensorflow_backend.py:3005: The name tf.Session is deprecated. Please use tf.compat.v1.Session instead.\n",
            "\n",
            "Train on 45000 samples, validate on 5000 samples\n",
            "Epoch 1/3\n",
            "WARNING:tensorflow:From /usr/local/lib/python3.6/dist-packages/keras/backend/tensorflow_backend.py:190: The name tf.get_default_session is deprecated. Please use tf.compat.v1.get_default_session instead.\n",
            "\n",
            "WARNING:tensorflow:From /usr/local/lib/python3.6/dist-packages/keras/backend/tensorflow_backend.py:197: The name tf.ConfigProto is deprecated. Please use tf.compat.v1.ConfigProto instead.\n",
            "\n",
            "WARNING:tensorflow:From /usr/local/lib/python3.6/dist-packages/keras/backend/tensorflow_backend.py:207: The name tf.global_variables is deprecated. Please use tf.compat.v1.global_variables instead.\n",
            "\n",
            "WARNING:tensorflow:From /usr/local/lib/python3.6/dist-packages/keras/backend/tensorflow_backend.py:216: The name tf.is_variable_initialized is deprecated. Please use tf.compat.v1.is_variable_initialized instead.\n",
            "\n",
            "WARNING:tensorflow:From /usr/local/lib/python3.6/dist-packages/keras/backend/tensorflow_backend.py:223: The name tf.variables_initializer is deprecated. Please use tf.compat.v1.variables_initializer instead.\n",
            "\n",
            "14144/45000 [========>.....................] - ETA: 4:53 - loss: 1.0608 - acc: 0.8285"
          ],
          "name": "stdout"
        }
      ]
    },
    {
      "cell_type": "code",
      "metadata": {
        "id": "yObShLEjikHD",
        "colab_type": "code",
        "colab": {}
      },
      "source": [
        "x_test"
      ],
      "execution_count": 0,
      "outputs": []
    },
    {
      "cell_type": "code",
      "metadata": {
        "id": "MyWlozOEivho",
        "colab_type": "code",
        "colab": {}
      },
      "source": [
        "preprocessedTweets1=preprocessinglib(x_test[:,0])"
      ],
      "execution_count": 0,
      "outputs": []
    },
    {
      "cell_type": "code",
      "metadata": {
        "id": "tloiaAJEf4Ix",
        "colab_type": "code",
        "colab": {}
      },
      "source": [
        "X_1 = tokenizer.texts_to_sequences(preprocessedTweets1)\n",
        "X_test = pad_sequences(X_1, maxlen=MAX_SEQUENCE_LENGTH)\n",
        "print('Shape of data tensor:', X_test.shape)"
      ],
      "execution_count": 0,
      "outputs": []
    },
    {
      "cell_type": "code",
      "metadata": {
        "id": "BtgkOJEs-oNh",
        "colab_type": "code",
        "colab": {}
      },
      "source": [
        "def giveLabel2(y1):\n",
        "  i=0\n",
        "  largest_index=0\n",
        "  #label1=['IND','GRP','OTH']\n",
        "  ylabels=[]\n",
        "  for r in y1:\n",
        "    if (r==\"IND\"): \n",
        "        largest_index = 0 \n",
        "    elif (r==\"GRP\"):\n",
        "        largest_index = 1 \n",
        "    else: \n",
        "        largest_index = 2 \n",
        "    \n",
        "    ylabels.append(largest_index)\n",
        "    i=i+1;\n",
        "  return ylabels"
      ],
      "execution_count": 0,
      "outputs": []
    },
    {
      "cell_type": "code",
      "metadata": {
        "id": "E4t9tiul-09y",
        "colab_type": "code",
        "colab": {}
      },
      "source": [
        "yz=giveLabel2(y_test)"
      ],
      "execution_count": 0,
      "outputs": []
    },
    {
      "cell_type": "code",
      "metadata": {
        "id": "dJ2avTzU-_6g",
        "colab_type": "code",
        "colab": {}
      },
      "source": [
        "set(yz)"
      ],
      "execution_count": 0,
      "outputs": []
    },
    {
      "cell_type": "code",
      "metadata": {
        "id": "VLoYQpvi94Nx",
        "colab_type": "code",
        "colab": {}
      },
      "source": [
        "# encode class values as integers\n",
        "encoder = LabelEncoder()\n",
        "encoder.fit(yz)\n",
        "encoded_Y = encoder.transform(yz)\n",
        "# convert integers to dummy variables (i.e. one hot encoded)\n",
        "dummy_y = np_utils.to_categorical(encoded_Y)"
      ],
      "execution_count": 0,
      "outputs": []
    },
    {
      "cell_type": "code",
      "metadata": {
        "id": "hprtjamF-_Q3",
        "colab_type": "code",
        "colab": {}
      },
      "source": [
        "dummy_y"
      ],
      "execution_count": 0,
      "outputs": []
    },
    {
      "cell_type": "code",
      "metadata": {
        "id": "om4bW22TCBAX",
        "colab_type": "code",
        "colab": {}
      },
      "source": [
        "pip install h5py"
      ],
      "execution_count": 0,
      "outputs": []
    },
    {
      "cell_type": "code",
      "metadata": {
        "id": "VgKS0NlS-Ab7",
        "colab_type": "code",
        "colab": {}
      },
      "source": [
        "encoder.classes_"
      ],
      "execution_count": 0,
      "outputs": []
    },
    {
      "cell_type": "code",
      "metadata": {
        "id": "mEaCkDKwCGc-",
        "colab_type": "code",
        "colab": {}
      },
      "source": [
        "\n",
        "# serialize model to JSON\n",
        "model_json = model.to_json()\n",
        "with open(\"model.json\", \"w\") as json_file:\n",
        "    json_file.write(model_json)\n",
        "# serialize weights to HDF5\n",
        "model.save_weights(\"SubtaskCEnglishData.h5\")"
      ],
      "execution_count": 0,
      "outputs": []
    },
    {
      "cell_type": "code",
      "metadata": {
        "id": "u2HSwB5BEgD8",
        "colab_type": "code",
        "colab": {}
      },
      "source": [
        "from keras.models import model_from_json\n"
      ],
      "execution_count": 0,
      "outputs": []
    },
    {
      "cell_type": "code",
      "metadata": {
        "id": "c1uiK6awCXUV",
        "colab_type": "code",
        "colab": {}
      },
      "source": [
        "# load json and create model\n",
        "json_file = open('model.json', 'r')\n",
        "loaded_model_json = json_file.read()\n",
        "json_file.close()\n",
        "loaded_model = model_from_json(loaded_model_json)\n",
        "# load weights into new model\n",
        "loaded_model.load_weights(\"SubtaskCEnglishData.h5\")\n",
        "print(\"Loaded model from disk\")"
      ],
      "execution_count": 0,
      "outputs": []
    },
    {
      "cell_type": "code",
      "metadata": {
        "id": "_WTOB5JVZV-W",
        "colab_type": "code",
        "colab": {}
      },
      "source": [
        "score= model.evaluate(X_test,dummy_y)\n",
        "print('Test set\\n  Loss: {:0.3f}\\n  Accuracy: {:0.3f} F1 score: {:0.3f}'.format(score[0],score[1],score[2]))"
      ],
      "execution_count": 0,
      "outputs": []
    },
    {
      "cell_type": "code",
      "metadata": {
        "id": "5LAGOO1RYDoO",
        "colab_type": "code",
        "colab": {}
      },
      "source": [
        "model.predict(X_test,dummy_y)"
      ],
      "execution_count": 0,
      "outputs": []
    },
    {
      "cell_type": "code",
      "metadata": {
        "id": "UEfQpnBOLXXV",
        "colab_type": "code",
        "colab": {}
      },
      "source": [
        "ygiven=[]\n",
        "ypredicted=[]"
      ],
      "execution_count": 0,
      "outputs": []
    },
    {
      "cell_type": "code",
      "metadata": {
        "id": "2a0FKPfsNobT",
        "colab_type": "code",
        "colab": {}
      },
      "source": [
        ""
      ],
      "execution_count": 0,
      "outputs": []
    },
    {
      "cell_type": "code",
      "metadata": {
        "id": "ou207z2INRfH",
        "colab_type": "code",
        "colab": {}
      },
      "source": [
        "!unzip -P ****** -qq '/content/drive/My Drive/EnglishData/test_c_baseline.csv.zip' "
      ],
      "execution_count": 0,
      "outputs": []
    },
    {
      "cell_type": "code",
      "metadata": {
        "id": "mHUf_RjRNpVl",
        "colab_type": "code",
        "colab": {}
      },
      "source": [
        "!unzip -P ****** -qq '/content/drive/My Drive/EnglishData/public_data_task_C.zip'"
      ],
      "execution_count": 0,
      "outputs": []
    },
    {
      "cell_type": "code",
      "metadata": {
        "id": "vUY9Oq4tiVLV",
        "colab_type": "code",
        "colab": {}
      },
      "source": [
        "def readData1():\n",
        "  headers=['id','ypredicted']\n",
        "  greekdataBaseline = pd.read_csv(\"test_c_baseline.csv\", delimiter=',',names=headers,quoting)\n",
        "  #,converters={\"id\":convertToInt}       \n",
        "  #greekdataBaseline.id = greekdataBaseline.id.astype(int)\n",
        "  #greekdataBaseline=greekdataBaseline[1:]\n",
        "  print(greekdataBaseline.head())\n",
        "  print(greekdataBaseline.shape)\n",
        "\n",
        "  headers=['id','tweet']\n",
        "  greekDataTest = pd.read_csv(\"test_c_tweets.tsv\", delimiter='\\t',names=headers)\n",
        "                                #converters={\"id\":convertToInt})\n",
        "  #greekDataTest=greekDataTest[1:]\n",
        "  print(greekDataTest.head())\n",
        "  #print(greekDataTest.dtypes)\n",
        "  print(greekDataTest.shape)\n",
        "  result = pd.merge(greekDataTest, greekdataBaseline, on='id', how='inner')\n",
        "  print(result.head())\n",
        "  print(result.dtypes)\n",
        "  print(result.shape)\n",
        "\n",
        "  #result=\n",
        "  #result.sort_values(by=['id'], inplace=True)\n",
        "  #print(result.head())\n",
        "  dfnumpy=result.to_numpy();\n",
        "  X=dfnumpy[:, 1].reshape(-1, 1)\n",
        "  y=dfnumpy[:, 2].reshape(-1, 1)\n",
        "  tid=dfnumpy[:, 0].reshape(-1, 1)\n",
        "  preprocessedTweets=X[:,0]\n",
        "  return preprocessedTweets,y,tid"
      ],
      "execution_count": 0,
      "outputs": []
    },
    {
      "cell_type": "code",
      "metadata": {
        "id": "wwg1ano7LZ0U",
        "colab_type": "code",
        "colab": {}
      },
      "source": [
        "preprocessedTweets,y,tid=readData1()"
      ],
      "execution_count": 0,
      "outputs": []
    },
    {
      "cell_type": "code",
      "metadata": {
        "id": "EmMxxn_YShdP",
        "colab_type": "code",
        "colab": {}
      },
      "source": [
        "preprocessedTweets=preprocessinglib(preprocessedTweets)"
      ],
      "execution_count": 0,
      "outputs": []
    },
    {
      "cell_type": "code",
      "metadata": {
        "id": "8WoaOf7VYOHq",
        "colab_type": "code",
        "colab": {}
      },
      "source": [
        "ynew = model.predict_classes(Xpredict)"
      ],
      "execution_count": 0,
      "outputs": []
    },
    {
      "cell_type": "code",
      "metadata": {
        "id": "UR-ajoMOStSm",
        "colab_type": "code",
        "colab": {}
      },
      "source": [
        "preprocessedTweets"
      ],
      "execution_count": 0,
      "outputs": []
    },
    {
      "cell_type": "code",
      "metadata": {
        "colab_type": "code",
        "id": "IfeaDCUdRJ-j",
        "colab": {}
      },
      "source": [
        "yz=giveLabel2(y)"
      ],
      "execution_count": 0,
      "outputs": []
    },
    {
      "cell_type": "code",
      "metadata": {
        "colab_type": "code",
        "id": "YmaT7QgeRJ_C",
        "colab": {}
      },
      "source": [
        "set(yz)"
      ],
      "execution_count": 0,
      "outputs": []
    },
    {
      "cell_type": "code",
      "metadata": {
        "colab_type": "code",
        "id": "IFU7qozGRJ_L",
        "colab": {}
      },
      "source": [
        "encoded_Y = encoder.transform(yz)\n",
        "# convert integers to dummy variables (i.e. one hot encoded)\n",
        "dummy_y = np_utils.to_categorical(encoded_Y,num_classes=3)"
      ],
      "execution_count": 0,
      "outputs": []
    },
    {
      "cell_type": "code",
      "metadata": {
        "colab_type": "code",
        "id": "nX9jq_23RJ_T",
        "colab": {}
      },
      "source": [
        "encoded_Y"
      ],
      "execution_count": 0,
      "outputs": []
    },
    {
      "cell_type": "code",
      "metadata": {
        "id": "g5QU6Xb4SzKg",
        "colab_type": "code",
        "colab": {}
      },
      "source": [
        "type(preprocessedTweets)"
      ],
      "execution_count": 0,
      "outputs": []
    },
    {
      "cell_type": "code",
      "metadata": {
        "id": "TJMsIJdNS2yf",
        "colab_type": "code",
        "colab": {}
      },
      "source": [
        ""
      ],
      "execution_count": 0,
      "outputs": []
    },
    {
      "cell_type": "code",
      "metadata": {
        "id": "IforCt_YTJGT",
        "colab_type": "code",
        "colab": {}
      },
      "source": [
        "Xpredict = tokenizer.texts_to_sequences(preprocessedTweets)\n",
        "Xpredict = pad_sequences(Xpredict, maxlen=MAX_SEQUENCE_LENGTH)\n",
        "print('Shape of data tensor:', Xpredict.shape)"
      ],
      "execution_count": 0,
      "outputs": []
    },
    {
      "cell_type": "code",
      "metadata": {
        "id": "d6-FxiwaRvOL",
        "colab_type": "code",
        "colab": {}
      },
      "source": [
        "ynew = model.predict_classes(Xpredict)"
      ],
      "execution_count": 0,
      "outputs": []
    },
    {
      "cell_type": "code",
      "metadata": {
        "id": "MAhJZyAiTYF6",
        "colab_type": "code",
        "colab": {}
      },
      "source": [
        "ynew"
      ],
      "execution_count": 0,
      "outputs": []
    },
    {
      "cell_type": "code",
      "metadata": {
        "id": "Fq7YKy2QTb9U",
        "colab_type": "code",
        "colab": {}
      },
      "source": [
        "encoded_Y"
      ],
      "execution_count": 0,
      "outputs": []
    },
    {
      "cell_type": "code",
      "metadata": {
        "id": "MtUBXpSORQvS",
        "colab_type": "code",
        "colab": {}
      },
      "source": [
        "from sklearn.metrics import f1_score\n",
        "from sklearn.metrics import accuracy_score\n",
        "\n",
        "def calculateF1Score(predictions,labels):\n",
        "  #rowwise return the index of the max element ie 0 or 1 depending on the maximum value returned\n",
        "  predictionArgmax=predictions.flatten()\n",
        "  labelsFlattend=labels.flatten()\n",
        "  #print(\"Predictions Argmax\",predictionArgmax)\n",
        "  #print(\"labels Flattened\",labelsFlattend)   \n",
        "  return f1_score(labelsFlattend, predictionArgmax, average='macro'),accuracy_score(labelsFlattend, predictionArgmax)\n",
        "\n"
      ],
      "execution_count": 0,
      "outputs": []
    },
    {
      "cell_type": "code",
      "metadata": {
        "id": "W75Xr6iHTTuF",
        "colab_type": "code",
        "colab": {}
      },
      "source": [
        "f11,acc=calculateF1Score(ynew,encoded_Y)"
      ],
      "execution_count": 0,
      "outputs": []
    },
    {
      "cell_type": "code",
      "metadata": {
        "id": "ef629NijTzsR",
        "colab_type": "code",
        "colab": {}
      },
      "source": [
        "acc"
      ],
      "execution_count": 0,
      "outputs": []
    },
    {
      "cell_type": "code",
      "metadata": {
        "id": "b0Azbt_nUFlU",
        "colab_type": "code",
        "colab": {}
      },
      "source": [
        "f11"
      ],
      "execution_count": 0,
      "outputs": []
    },
    {
      "cell_type": "code",
      "metadata": {
        "id": "Kkgq93UVUQ27",
        "colab_type": "code",
        "colab": {}
      },
      "source": [
        ""
      ],
      "execution_count": 0,
      "outputs": []
    }
  ]
}