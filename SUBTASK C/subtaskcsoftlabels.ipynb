{
 "cells": [
  {
   "cell_type": "code",
   "execution_count": 93,
   "metadata": {
    "colab": {
     "base_uri": "https://localhost:8080/",
     "height": 35
    },
    "colab_type": "code",
    "id": "bhCLCTtuAhul",
    "outputId": "6dc94ae1-6cd8-425f-b88d-6788cb6fb626"
   },
   "outputs": [
    {
     "name": "stdout",
     "output_type": "stream",
     "text": [
      "Drive already mounted at /content/drive; to attempt to forcibly remount, call drive.mount(\"/content/drive\", force_remount=True).\n"
     ]
    }
   ],
   "source": [
    "from google.colab import drive\n",
    "drive.mount('/content/drive')"
   ]
  },
  {
   "cell_type": "code",
   "execution_count": 0,
   "metadata": {
    "colab": {},
    "colab_type": "code",
    "id": "ckTbEW0KIRNH"
   },
   "outputs": [],
   "source": [
    "#this model is  inspired from \n",
    "#https://machinelearningmastery.com/multi-class-classification-tutorial-keras-deep-learning-library/"
   ]
  },
  {
   "cell_type": "code",
   "execution_count": 0,
   "metadata": {
    "colab": {},
    "colab_type": "code",
    "id": "D-HL5mB48v6J"
   },
   "outputs": [],
   "source": [
    "#https://towardsdatascience.com/multi-class-text-classification-with-lstm-1590bee1bd17"
   ]
  },
  {
   "cell_type": "code",
   "execution_count": 96,
   "metadata": {
    "colab": {
     "base_uri": "https://localhost:8080/",
     "height": 35
    },
    "colab_type": "code",
    "id": "HlleXY4xAsET",
    "outputId": "b00f6f32-fa6d-4c7d-b119-e067fec6281b"
   },
   "outputs": [
    {
     "name": "stdout",
     "output_type": "stream",
     "text": [
      "replace task_c_distant_ann.tsv? [y]es, [n]o, [A]ll, [N]one, [r]ename: n\n"
     ]
    }
   ],
   "source": [
    "\n",
    "##NOT FOR SYSTEMS\n",
    "!unzip -P ****** -qq '/content/drive/My Drive/EnglishData/task_c_distant.zip' "
   ]
  },
  {
   "cell_type": "code",
   "execution_count": 0,
   "metadata": {
    "colab": {},
    "colab_type": "code",
    "id": "FHbDCk1HAoWq"
   },
   "outputs": [],
   "source": [
    "\n",
    "import pandas as pd\n",
    "from keras.models import Sequential\n",
    "from keras.layers import Dense\n",
    "from keras.wrappers.scikit_learn import KerasClassifier\n",
    "from keras.utils import np_utils\n",
    "from keras.callbacks import EarlyStopping\n",
    "from sklearn.model_selection import cross_val_score\n",
    "from sklearn.model_selection import KFold\n",
    "from sklearn.preprocessing import LabelEncoder\n",
    "from sklearn.pipeline import Pipeline\n",
    "import numpy as np"
   ]
  },
  {
   "cell_type": "code",
   "execution_count": 0,
   "metadata": {
    "colab": {},
    "colab_type": "code",
    "id": "6LJq8AGiLSTo"
   },
   "outputs": [],
   "source": [
    "\n",
    "def convertToFloat(val):\n",
    "    if not val:\n",
    "        return 0    \n",
    "    try:\n",
    "        return np.float64(val)\n",
    "    except:        \n",
    "        return np.float64(0)\n",
    "\n",
    "\n",
    "headers=['id','text','average_ind','average_grp','average_oth','std_ind','std_grp','std_oth']\n",
    "taskc = pd.read_csv(\"task_c_distant_ann.tsv\", delimiter='\\t',names=headers,low_memory=False,converters={\"average_ind\":convertToFloat,\n",
    "                                                                                                    \"average_grp\":convertToFloat,\n",
    "                                                                                                    \"average_oth\":convertToFloat,\n",
    "                                                                                                    \"std_ind\":convertToFloat,\n",
    "                                                                                                    \"std_grp\":convertToFloat,\n",
    "                                                                                                    \"std_oth\":convertToFloat})\n",
    "taskc=taskc[1:]"
   ]
  },
  {
   "cell_type": "code",
   "execution_count": 99,
   "metadata": {
    "colab": {
     "base_uri": "https://localhost:8080/",
     "height": 198
    },
    "colab_type": "code",
    "id": "fAZlsG1eLks2",
    "outputId": "08060a9c-20a8-4df3-eb2d-6ae0e8bda84f"
   },
   "outputs": [
    {
     "data": {
      "text/html": [
       "<div>\n",
       "<style scoped>\n",
       "    .dataframe tbody tr th:only-of-type {\n",
       "        vertical-align: middle;\n",
       "    }\n",
       "\n",
       "    .dataframe tbody tr th {\n",
       "        vertical-align: top;\n",
       "    }\n",
       "\n",
       "    .dataframe thead th {\n",
       "        text-align: right;\n",
       "    }\n",
       "</style>\n",
       "<table border=\"1\" class=\"dataframe\">\n",
       "  <thead>\n",
       "    <tr style=\"text-align: right;\">\n",
       "      <th></th>\n",
       "      <th>id</th>\n",
       "      <th>text</th>\n",
       "      <th>average_ind</th>\n",
       "      <th>average_grp</th>\n",
       "      <th>average_oth</th>\n",
       "      <th>std_ind</th>\n",
       "      <th>std_grp</th>\n",
       "      <th>std_oth</th>\n",
       "    </tr>\n",
       "  </thead>\n",
       "  <tbody>\n",
       "    <tr>\n",
       "      <th>1</th>\n",
       "      <td>1159533712079503361</td>\n",
       "      <td>@USER Trump is a fucking idiot his dementia is...</td>\n",
       "      <td>0.833432</td>\n",
       "      <td>0.076110</td>\n",
       "      <td>0.107765</td>\n",
       "      <td>0.208334</td>\n",
       "      <td>0.098937</td>\n",
       "      <td>0.138649</td>\n",
       "    </tr>\n",
       "    <tr>\n",
       "      <th>2</th>\n",
       "      <td>1159533713044234241</td>\n",
       "      <td>@USER HELL YES! His grinned and thumbs up are ...</td>\n",
       "      <td>0.481062</td>\n",
       "      <td>0.367363</td>\n",
       "      <td>0.138841</td>\n",
       "      <td>0.345225</td>\n",
       "      <td>0.335924</td>\n",
       "      <td>0.083230</td>\n",
       "    </tr>\n",
       "    <tr>\n",
       "      <th>3</th>\n",
       "      <td>1159533718345830400</td>\n",
       "      <td>@USER Can't wait to see the shit show his deat...</td>\n",
       "      <td>0.438813</td>\n",
       "      <td>0.268574</td>\n",
       "      <td>0.377573</td>\n",
       "      <td>0.182609</td>\n",
       "      <td>0.186880</td>\n",
       "      <td>0.254621</td>\n",
       "    </tr>\n",
       "    <tr>\n",
       "      <th>4</th>\n",
       "      <td>1159533739871002625</td>\n",
       "      <td>@USER @USER @USER This guys is dumb check his ...</td>\n",
       "      <td>0.712995</td>\n",
       "      <td>0.123504</td>\n",
       "      <td>0.111130</td>\n",
       "      <td>0.248839</td>\n",
       "      <td>0.107572</td>\n",
       "      <td>0.067552</td>\n",
       "    </tr>\n",
       "    <tr>\n",
       "      <th>5</th>\n",
       "      <td>1159533742366633984</td>\n",
       "      <td>@USER @USER Fuck him better than his hoes</td>\n",
       "      <td>0.691414</td>\n",
       "      <td>0.146723</td>\n",
       "      <td>0.192282</td>\n",
       "      <td>0.204415</td>\n",
       "      <td>0.154818</td>\n",
       "      <td>0.104436</td>\n",
       "    </tr>\n",
       "  </tbody>\n",
       "</table>\n",
       "</div>"
      ],
      "text/plain": [
       "                    id  ...   std_oth\n",
       "1  1159533712079503361  ...  0.138649\n",
       "2  1159533713044234241  ...  0.083230\n",
       "3  1159533718345830400  ...  0.254621\n",
       "4  1159533739871002625  ...  0.067552\n",
       "5  1159533742366633984  ...  0.104436\n",
       "\n",
       "[5 rows x 8 columns]"
      ]
     },
     "execution_count": 99,
     "metadata": {
      "tags": []
     },
     "output_type": "execute_result"
    }
   ],
   "source": [
    "taskc.head()"
   ]
  },
  {
   "cell_type": "code",
   "execution_count": 100,
   "metadata": {
    "colab": {
     "base_uri": "https://localhost:8080/",
     "height": 454
    },
    "colab_type": "code",
    "id": "5_l5T9EJLyMg",
    "outputId": "c6ec2a38-639e-4310-d581-0020b33894b3"
   },
   "outputs": [
    {
     "data": {
      "text/plain": [
       "array([['1159533712079503361',\n",
       "        '@USER Trump is a fucking idiot his dementia is getting worse',\n",
       "        0.8334315660070198, ..., 0.20833409336419706,\n",
       "        0.09893746284301566, 0.1386493230104102],\n",
       "       ['1159533713044234241',\n",
       "        '@USER HELL YES! His grinned and thumbs up are disgusting!',\n",
       "        0.48106237178573397, ..., 0.3452248610539589,\n",
       "        0.33592350092689993, 0.08323036242339713],\n",
       "       ['1159533718345830400',\n",
       "        \"@USER Can't wait to see the shit show his death will bring.\",\n",
       "        0.4388127663192773, ..., 0.18260870386171185,\n",
       "        0.18688048564468512, 0.25462109958562573],\n",
       "       ...,\n",
       "       ['1187636295306268673',\n",
       "        'I meant tool but the point is women ain’t shit. 🙅🏻\\u200d♂️🤷🏻\\u200d♂️',\n",
       "        0.36375786996300313, ..., 0.23943555651707127,\n",
       "        0.16535075005267147, 0.09506541000311416],\n",
       "       ['1187636299785744384', '@USER i sang too the fuck-',\n",
       "        0.5982300263631064, ..., 0.19187065632830977,\n",
       "        0.10707485138459394, 0.11520566509045577],\n",
       "       ['1187636316487520258',\n",
       "        'obviously ur allowed to not like the ship but using that excuse is so stale like fuck off.',\n",
       "        0.6849481559629798, ..., 0.19227685039701298,\n",
       "        0.14081314237397982, 0.16559246442850858]], dtype=object)"
      ]
     },
     "execution_count": 100,
     "metadata": {
      "tags": []
     },
     "output_type": "execute_result"
    }
   ],
   "source": [
    "taskc.values"
   ]
  },
  {
   "cell_type": "code",
   "execution_count": 0,
   "metadata": {
    "colab": {},
    "colab_type": "code",
    "id": "tfa9MbOBMBlR"
   },
   "outputs": [],
   "source": [
    "\n",
    "dfnumpy=taskc.to_numpy();\n",
    "x=dfnumpy[:, 1].reshape(-1, 1)\n",
    "y_train1=dfnumpy[:, 2].reshape(-1, 1)\n",
    "y_train2=dfnumpy[:, 3].reshape(-1, 1)\n",
    "y_train3=dfnumpy[:, 4].reshape(-1, 1)\n",
    "\n"
   ]
  },
  {
   "cell_type": "code",
   "execution_count": 0,
   "metadata": {
    "colab": {},
    "colab_type": "code",
    "id": "_idtKA4oNkU4"
   },
   "outputs": [],
   "source": [
    "y=np.stack((y_train1.flatten(),y_train2.flatten(),y_train3.flatten()), axis=-1, out=None)"
   ]
  },
  {
   "cell_type": "code",
   "execution_count": 103,
   "metadata": {
    "colab": {
     "base_uri": "https://localhost:8080/",
     "height": 145
    },
    "colab_type": "code",
    "id": "JX2XZKTtOPNN",
    "outputId": "d6f732fe-f5ba-4dc7-c640-1be73884526f"
   },
   "outputs": [
    {
     "data": {
      "text/plain": [
       "array([[0.07610979866070268],\n",
       "       [0.3673629474131143],\n",
       "       [0.2685740368872388],\n",
       "       ...,\n",
       "       [0.43151670865663655],\n",
       "       [0.16155983352929942],\n",
       "       [0.15227155079903518]], dtype=object)"
      ]
     },
     "execution_count": 103,
     "metadata": {
      "tags": []
     },
     "output_type": "execute_result"
    }
   ],
   "source": [
    "y_train2"
   ]
  },
  {
   "cell_type": "code",
   "execution_count": 104,
   "metadata": {
    "colab": {
     "base_uri": "https://localhost:8080/",
     "height": 126
    },
    "colab_type": "code",
    "id": "nFsTfX5oOKve",
    "outputId": "3ee3f470-407c-4b48-a2f1-29d254da48d4"
   },
   "outputs": [
    {
     "data": {
      "text/plain": [
       "array([[0.8334315660070198, 0.07610979866070268, 0.10776452321727449],\n",
       "       [0.48106237178573397, 0.3673629474131143, 0.13884137991817902],\n",
       "       [0.4388127663192773, 0.2685740368872388, 0.3775726696311655],\n",
       "       [0.7129954339515537, 0.12350408671699416, 0.11113008071093726],\n",
       "       [0.6914140593727042, 0.14672323837904971, 0.19228166422122278]],\n",
       "      dtype=object)"
      ]
     },
     "execution_count": 104,
     "metadata": {
      "tags": []
     },
     "output_type": "execute_result"
    }
   ],
   "source": [
    "y[0:5]"
   ]
  },
  {
   "cell_type": "code",
   "execution_count": 105,
   "metadata": {
    "colab": {
     "base_uri": "https://localhost:8080/",
     "height": 72
    },
    "colab_type": "code",
    "id": "P-pgXoMdOQ9-",
    "outputId": "3cda2f3b-5977-4a32-cc13-d4b6641a93f5"
   },
   "outputs": [
    {
     "name": "stdout",
     "output_type": "stream",
     "text": [
      "[nltk_data] Downloading package stopwords to /root/nltk_data...\n",
      "[nltk_data]   Package stopwords is already up-to-date!\n"
     ]
    },
    {
     "data": {
      "text/plain": [
       "True"
      ]
     },
     "execution_count": 105,
     "metadata": {
      "tags": []
     },
     "output_type": "execute_result"
    }
   ],
   "source": [
    "import nltk\n",
    "nltk.download('stopwords')"
   ]
  },
  {
   "cell_type": "code",
   "execution_count": 0,
   "metadata": {
    "colab": {},
    "colab_type": "code",
    "id": "cKQS_yVdMYUg"
   },
   "outputs": [],
   "source": [
    "from nltk.tokenize import TweetTokenizer\n",
    "from nltk.corpus import stopwords \n",
    "import re\n",
    "import string\n",
    "tknzr = TweetTokenizer(strip_handles=True, reduce_len=True)\n",
    "stopwords=set(stopwords.words('english'))\n",
    "def preprocessinglib(arrt):\n",
    "    ans =[]\n",
    "    for txt in arrt:\n",
    "        unique_words = dict.fromkeys(txt.split())\n",
    "        txt2=' '.join(unique_words)\n",
    "        tokens=tknzr.tokenize(txt2)\n",
    "        ctokens=[]\n",
    "        for t in tokens:\n",
    "          if  t not in stopwords and t not in string.punctuation :\n",
    "            ctokens.append(t)\n",
    "        clean_s = ' '.join(ctokens)\n",
    "        ans.append(clean_s)\n",
    "               \n",
    "    return ans\n"
   ]
  },
  {
   "cell_type": "code",
   "execution_count": 0,
   "metadata": {
    "colab": {},
    "colab_type": "code",
    "id": "azbHYpXqOKOw"
   },
   "outputs": [],
   "source": [
    "preprocessedTweets=preprocessinglib(x[:,0])"
   ]
  },
  {
   "cell_type": "code",
   "execution_count": 0,
   "metadata": {
    "colab": {},
    "colab_type": "code",
    "id": "FA3zIfiS_S9V"
   },
   "outputs": [],
   "source": [
    "from sklearn.utils import shuffle\n",
    "preprocessedTweets,y=shuffle(preprocessedTweets,y)"
   ]
  },
  {
   "cell_type": "code",
   "execution_count": 109,
   "metadata": {
    "colab": {
     "base_uri": "https://localhost:8080/",
     "height": 1000
    },
    "colab_type": "code",
    "id": "ELzGOap-Nnp9",
    "outputId": "e418b498-27a8-483b-e534-32a1b36aa2b6"
   },
   "outputs": [
    {
     "data": {
      "text/plain": [
       "['I fucking hate f gsThoughts LGBT community',\n",
       " 'That shit 🔥 \\U0001f975',\n",
       " 'Kill fool thinking bout shit earlier 💯 💯 💯 We going talk fr tomorrow Need get started',\n",
       " 'fuck lettuce Jake Think needs keep opinions future 🤣',\n",
       " 'Using campaign .. sick bastard',\n",
       " 'Bitch I ’ mf ass 😭 😭 😭 used think tire gone fly tf',\n",
       " 'Trump respect fucking office',\n",
       " \"I can't stop bitch today everyone pissing Can fucking already\",\n",
       " \"OK He's still fucking liberal probably curb immigration\",\n",
       " 'I type fast fuck oops',\n",
       " 'I laugh lot shit 😂',\n",
       " '“ How feel bad bout wantin sum different dick cause I ’ gon fuck anotha nigga I ’ getting pussy ”',\n",
       " 'Bitch 😂 😂 😂 fuck',\n",
       " 'Cold fuck lol bring hella jackets',\n",
       " 'My thoughts well Do ever wonder I full shit',\n",
       " 'How hell truth racist',\n",
       " 'looks like imma freezing ass weekend \\U0001f976 \\U0001f92a 😂',\n",
       " 'uploaded one nudes story 😭 😭 deleted bitch QUICK 😭 😭 😭',\n",
       " 'shit hurts I deserved 😭',\n",
       " 'tfw enough shit',\n",
       " 'Kids really sex middle school \\U0001f974 thing I fucking ugly 🤣',\n",
       " 'could NEVER shit ’ mfs 😅',\n",
       " 'Good bad I lay bed fuck 🤷 🏾 \\u200d ♂ ️',\n",
       " 'I ’ even leave Paris downstairs done pulled fucking trash',\n",
       " 'oh shit ’ thriving lol',\n",
       " '’ turning sad bitch hours bad fuck',\n",
       " \"He's racist\",\n",
       " 'fuck u tweet',\n",
       " 'You may bitch bitch compared bitchery',\n",
       " 'Have way said crazy shit like 😂 😂',\n",
       " 'parto la polla like lmao call mplp fucking idiot spanish people jesus christ',\n",
       " 'failed shit lmao #alevelresults2019',\n",
       " 'First hell holding like B C E Serial killers lmao',\n",
       " 'Somethings usually call ik still ’ sleep bitch',\n",
       " 'Hot girl summer vs cold bitch winter What ’ difference different seasons \\U0001f92a',\n",
       " 'oh shit sect leader yao donghua bitch deserves',\n",
       " 'People make videos saying basic shit ’ swear dropping knowledge',\n",
       " '’ difference nigga wanting fuck wit u vs',\n",
       " 'Fuck drugs ... ever addicted somebody ’ shit',\n",
       " 'Im white lady back Yall fucking tripping lmao',\n",
       " 'That stupid ass dog got allergies fucked',\n",
       " 'I think parades disgusting',\n",
       " \"idgaf bitch prettier better body think i'm shit give fuck anyone thinks\",\n",
       " \"He can't real family cause alot shit y'all even know wtf going\",\n",
       " 'Another vile phoney liar',\n",
       " 'THANK YOU BRUH LIKE FUCK NOO THAT SHIT IS NOT OK Since When Did Spitting In Each Other Mouth During Sex Became Ting 🤔 .. This Worst Then Eating Ass',\n",
       " 'If ’ know difference YOUR YOU ’ RE shut fuck sis',\n",
       " 'Your ass like big tasty peach 🍑 🤤',\n",
       " 'BTS look fucking stupid Their hair stupid clothes The goes fans #stupid',\n",
       " 'Chance rapper lyrics rlly hitting u turn tht shit',\n",
       " 'It ’ 45 degrees outside 😒 .. suck dick son',\n",
       " 'Y ’ ever go phone ’ find shit \\U0001f97a \\U0001f97a \\U0001f97a BIHHH WHY YOU DELETING SHIT 🙄 😂',\n",
       " 'oh yeah movie whips ass',\n",
       " 'Because republican party full wimps',\n",
       " 'Ima fat bitch ’ gonna watch',\n",
       " 'Fuck Mac Nut Fraternity',\n",
       " 'No thanks piece shit',\n",
       " 'another nigga hit list',\n",
       " \"Idk I'm one fix shit ask tos\",\n",
       " 'You wanted Miss bad ass kept mixing dumb hoe',\n",
       " 'Rue Gia need good whooping tbh How gon call ya mom fucking crazy bitch face see next week',\n",
       " 'BITCH IM FUCKING CRYINGGG @jamaisvjjk ’ british babe good try 😂',\n",
       " 'My dumb ass locked fucking house 🤦 🏾 \\u200d ♂ ️',\n",
       " 'I ’ tired hearing sirens literally every single fucking night lol',\n",
       " 'Karma real thing ya ’ ’ time frame know shit bite ass',\n",
       " 'I ’ tired seeing “ sco pa tu mana ” ’ shut fuck',\n",
       " 'ill fuck send u sextape ur mad even worried',\n",
       " 'Underrated bitches deserve',\n",
       " 'Holy shit I legendParty tn geeds allowed',\n",
       " 'Cleveland fucking boring people really needed ass whooping lmaooo 😂 😂 😂',\n",
       " 'Pretending someone ’ social media considered mental disorder Ya live media shit ridiculous',\n",
       " 'I know thanks 😛 Y ’ fucking shit',\n",
       " 'Oh shit dinesh gonna pretty broken hears',\n",
       " 'I hate people die make keep promises cus sometimes shit putting much weight shoulders',\n",
       " 'Take yo grown ass house',\n",
       " 'Yeah sex I want 🤷 🏽 \\u200d ♀ ️ Do females ask guys fuck feelings ⁉ ️',\n",
       " 'shit see daily makes even want deal nobody ’ mfs disgusting DOWN BAD 😷',\n",
       " 'Oh god hell cares',\n",
       " 'bitch ill flop second',\n",
       " 'Niggas cuffin bitches mans hit ... tryna beef em bitch 😓',\n",
       " \"That's fucked\",\n",
       " \"I'm calling FBI guysHOOOLY SHIT DOES THE G IN GMAIL STAND FOR GOOGLE fuck dude thats fuckin crazy\",\n",
       " 'Seeing Thanos get ass whooped conflicted',\n",
       " 'cant wait literally never kids cause pushing fucking breathing watermelon uterus',\n",
       " 'If bitch tells ’ doin much ’ cause ’ enough',\n",
       " 'FUCK IT ALL',\n",
       " 'fuck I feel like shit',\n",
       " 'Lol lame ass dude thinks like ’ 2019 get together bud u think ill fuck dont give posting pic ass ... honey got big storm comin',\n",
       " 'Damn trick ’ give shit house fucking mess long got pics 🤦 🏻 \\u200d ♀ ️ 🤦 🏻 \\u200d ♀ ️ 🤦 🏻 \\u200d ♀ ️',\n",
       " 'Hi I want fuck',\n",
       " 'Bunch shitty lies Stop putting 💩 online 🛑',\n",
       " 'might fuck around ummm rest bottle rosé weird shit world wide web',\n",
       " 'Lmao 50 percent plus approval rating While Prime Minister wears kiddy Disney socks What idiot Pathetic',\n",
       " 'Some ’ dudes really cute ugly ass girlfriends tbh gives hope',\n",
       " 'I fuck everyone shit 💯',\n",
       " \"LETS ALL BEAT UP BERNIE'S DAD FUCK YEAH BREAK HIS FACE BONE EVERY SINGLE ONE OF BONES LAST ON I mean Beat\",\n",
       " \"I'm one inch taller Pokay fuck\",\n",
       " 'fuck reminding abt ronnie radke thought fucker dead',\n",
       " 'I like FaceTime form communication cause see people ’ responses saying dumb shit',\n",
       " 'fuck semesters end like',\n",
       " 'star wars please beat pile shit box office begging',\n",
       " 'Wanna eat fuck spank babe',\n",
       " 'dog fun games till walk piss puddle barefoot 1 fucking morning',\n",
       " 'Lmaoo oh shit correct 🤦 🏾 \\u200d ♂ ️ 🤣 damn bro I enjoyed use Cinema',\n",
       " \"It like man's vanity impertinence call animal dumb dull perceptions\",\n",
       " 'I cool ‘ em bitch ’ pressure',\n",
       " 'humbled shit That dude complete dick',\n",
       " 'I knew trust niggas Gary left Spongebob cookie Yes know tryna fuck',\n",
       " 'The shit texts',\n",
       " 'All Ugly bitches hate Nicki ..',\n",
       " \"that's ass run\",\n",
       " 'These niggas really water boys swear field \\U0001f92b',\n",
       " 'You show fool',\n",
       " 'Cops fucked head',\n",
       " 'I bought bitch bag lot ass',\n",
       " 'Holy shit Pia shape pulling beautiful #SurvivorAU',\n",
       " 'ryou def gets pussy lucky youre patrons thats im gonna say',\n",
       " 'asta shut fuck like steve minecraft gay version',\n",
       " 'My NY niggas ’ fucking around 🤣 🤣 🤣 wear hat ya risk 😹 😹 😹 Trump going save ’',\n",
       " 'Have ’ ever super fucking mad literally reason realize ’ problem sometimes 💀',\n",
       " 'I want something real tired temporary shit',\n",
       " 'You Patricia full shit',\n",
       " 'A bitch get fucked Tuh say excuse especially ’ kid dumb ass mexicans',\n",
       " 'fuck Arizona Diamondbacks',\n",
       " \"i'm sorry can't total crackheads together shit ur typa person ya digg\",\n",
       " 'mouse good cord sensitive piece shit',\n",
       " 'Lmfaooo bitch I plug',\n",
       " 'This I ’ coming shit tomorrow fuck vacation start',\n",
       " 'people flag display names scare shit',\n",
       " 'niggas saying “ women tryna ‘ hand big ’ way dick ” like shit ’ working 😭',\n",
       " 'This man spitting straight facts Even tho fucked name',\n",
       " 'Seriously fucking fun I ’ ever active 😁',\n",
       " 'Fuck hypocrites world Truly fuck ’',\n",
       " 'walk safely much trouble valuable shit',\n",
       " 'It ’ well known fact I indeed idiot',\n",
       " 'Oh god damn mother fuckers greedy ’ even worth 😂 😂 😂 quit bum fuck',\n",
       " 'Trudeau rules piece SHIT',\n",
       " 'bitch ah sick try take court ’ showing',\n",
       " 'Holy Jesus Herbert Christ eff Nancy stupid gross hill want die',\n",
       " \"y'all stupid SHIT thinking disgusting ass hashtag gonna anything get fucking life #SuperGroupDisbandParty\",\n",
       " 'Like Noel Brown Chris shit',\n",
       " \"nipsey told study people start fold they're stress shit speaks volumes\",\n",
       " 'This shit got fucked man I fucking street God good man prayers everybody affected smh wtf',\n",
       " 'You bitches run outta friends start recycling old ones How go back around Bitch spoke dirt Lmao',\n",
       " 'A FUCKING POLICE SIREN CAME ON WHEN I WATCHED THIS WHAT THE FUCK',\n",
       " 'Well ... basically season last two days Not even gonna make fucking play appearance',\n",
       " 'hate bitches hoes friends wanna time bitch im tryna play 2k',\n",
       " '#15AugustBlackDay black day india sick nation go hell near future insahallah',\n",
       " 'lmfao shit found today',\n",
       " 'It ’ shit going US man damn',\n",
       " 'Hey 40 country stupid enough support ’ get money',\n",
       " 'Nigga u ignorant fuck let bro live best life',\n",
       " 'rape salwada discourse stupid imagine shipping girl w racist CANT im',\n",
       " 'I use Russian piece browser shit bruh 😭',\n",
       " 'BITCH I LOVE YOUUU ’ fuckin legend evil shit STAN THATT yes best eloquent account app FUCK YES',\n",
       " 'I ’ grown ass woman would give fuck another liking Fuck lol tf',\n",
       " 'I need Lily Rose Depp end fake relationship Timothée bad bitch shit “ Cheat ” ass sis I ’ defend',\n",
       " 'cant believe almost blacked baking cookies mom didnt know fucking powerful',\n",
       " 'If looking movies binge netflix whole bunch stephen chow every single one fucking hilarious',\n",
       " 'I post wherever want whenever way u put shit ur mouth feel like wanna say something',\n",
       " 'Ima accept challenges I face use motivation .. shit gotta pay',\n",
       " 'Stop expecting people read mind open damn mouth',\n",
       " '“ Im game chat cant saying shit like ” 😭 😭',\n",
       " 'Girls weird af 😂 like bitch stop hating friend ugly ass 😭 😂',\n",
       " 'I agree dumbest shit',\n",
       " 'Bitch I literally told teach BYE',\n",
       " '😂 Wished I could kick ass real',\n",
       " 'No FUCK ’',\n",
       " 'I came across porno yesterday outta pocket caption 😂 😂 fuck black 🤦 🏾 \\u200d ♂ ️',\n",
       " 'My daughter FaceTime said “ daddy come back “ lil shit like melting 😩 😂 😂',\n",
       " 'Throwback world tryna convince us captain american long back ass fat 😔 America 🤢',\n",
       " 'bitch emailed start',\n",
       " 'Just sounds like bunch sad twats honest Your group shit',\n",
       " 'fuck girls get boyfriends easily like wtf create basement',\n",
       " '😭 😭 😭 shit sound nasty',\n",
       " 'You full shit NRA',\n",
       " 'Starting really hardest part .. Just gotta say fuck shit',\n",
       " 'boyfriend fucking sexy fuck I ’ genuinely confused',\n",
       " 'Yall ever fried pickles oreos That shit sound disgusting',\n",
       " 'listening fucking idiot babble HE IS FUCKING MENTALLY ILL',\n",
       " 'Niggas talk lotta shit even I told em drop location ’ 😂',\n",
       " 'Bitches really competition secretly ... shit sad 😭 😭 😭',\n",
       " 'Depends music like People fuck sure',\n",
       " 'I ’ even know talking agree 😂 😂 That bitch phoney shit 😂 😂 🤦 🏾 \\u200d ♂ ️ yaw feeding',\n",
       " 'Ya got shit ton likes',\n",
       " 'bitch Cami fucking snapped I wish',\n",
       " 'I ’ fine fuck ’ tweet',\n",
       " \"Where fuck get nan's throw\",\n",
       " 'Come England blast shit',\n",
       " 'HOLY SHIT I JUST REALIZED THE NEXT EVENT IS GONNA BE THAT WEIRD ASS INTRO STYLE LIKE THEY DID WITH TRICKSTAR OU FUCK',\n",
       " 'This fcking senator trending absolute stupid shit hey else expect rapist',\n",
       " 'damn thing broke fuck suppose rate',\n",
       " 'Horribly marked detours Got wasting gas shit Raggedy bitch',\n",
       " 'I wish DR right dumb shit 😟',\n",
       " 'trump proves piece shit ’ me.Really bad news The Baltimore house Elijah Cummings robbed Too bad',\n",
       " 'Only fucking idiots rush',\n",
       " 'shut hell bro',\n",
       " 'The liver evil must punished',\n",
       " 'I wanting share tweets shit ass ’ opened last 4 sent 😭 😭',\n",
       " \"You're liar know\",\n",
       " 'If got Bald spots beard cut shit 🤦 🏽 \\u200d ♂ ️',\n",
       " 'Fuck rain clothes drying smell like shit',\n",
       " 'Who rest fucking 😆',\n",
       " 'Whyyy fuck choose bullshit outside building early morning',\n",
       " \"There's still 18 Commies left Who fuck cares Fuck\",\n",
       " 'Niggas love saying shit ’ got nun til somebody get dropped ’ black lives matter',\n",
       " \"They know they're stupid afraid GE\",\n",
       " 'My bitch mind ’ tell wrongMe together mind Bitch ’ yo nigga end discussion 💆 🏽 \\u200d ♀ ️',\n",
       " 'Burn fuck',\n",
       " 'Your bitches choosey n shows',\n",
       " 'Yoo fuck trump I family members ’ work feed kids cause dusty ass',\n",
       " 'ok making statuses everyday tryna criticize bitch fuck 🤣 🤣 Nobody watch harder people call ’ like',\n",
       " 'What fuck wrong',\n",
       " 'And ’ think crazy shit cute ’ Shit lame af',\n",
       " 'I never ever want position That shit ruined completely',\n",
       " 'We problems rap shit took ’ n personal',\n",
       " 'WHAT THE FUCK WAS WEEK 8 IT ABSOLUTE DOGSHIT RANDOMS WIN WHY WOULD YOU LET WIN',\n",
       " 'What fucking fuckery dumbassery ass tweet I read',\n",
       " 'What fuck peopleee Gago nanamn si ako Ohmygadh cassie',\n",
       " 'I ’ Bout settle fuck',\n",
       " 'everyone Dumb',\n",
       " 'Bitches tryna take slow like planet ’ dying 😑 😑 😡 😡 bitch fucking nah 🤔 🤔 😭 \\U0001f92a',\n",
       " 'How many people gotta shit walls stop letting bees bathrooms',\n",
       " 'logging fuck',\n",
       " 'gotta accept shit move',\n",
       " 'Fucking NY bitch prolly worst 😂 “ dick deadass good guy ” lmaooo',\n",
       " '’ fucking tho',\n",
       " 'bc internet mom keep eye shit',\n",
       " 'beats shit KAZU FUYU FRIENDSHIP LET THEM BE FRIENDS',\n",
       " 'Bruh fuck would pay 350 play 60 dollar game month early lmfao miss shit',\n",
       " 'You 9 seconds fucking play',\n",
       " 'Shit I see studio 2000 lmao .. NYC TRASH',\n",
       " 'Delusional ass hoes cuz I swear u ’ giving a1 dick every female never leave name fuck alone 🤦 \\u200d ♂ ️',\n",
       " 'I dead b singing shit outta soul ties 😩 😭 😭',\n",
       " 'I like shit remain cool 🤦',\n",
       " 'Ima pop tell fuck You get upset shit gone regret',\n",
       " 'jungkook attractive ’ even funny anymore like haha shut fuck',\n",
       " 'Alot Weird Shit Is Going Down The USA ...',\n",
       " 'Let go find hobbyImma regret working school like I hate sitting around shit',\n",
       " 'Matt Florida NOT Paying FUCKING LIAR OR A DRUNK',\n",
       " 'Fuck bro still lit They gon dick ride up.Dammm nobody really fuck 😅',\n",
       " 'im mad hell 💀 hate south america',\n",
       " 'That shit dope',\n",
       " 'Yup cuz hillbilly stupid fuck',\n",
       " 'waiting whatever wack shit ethans gonna reply time',\n",
       " 'Joy smoking weed man Traitor country',\n",
       " 'What hell Dean',\n",
       " 'wanna see fucking therapist hh',\n",
       " 'Paul Roos worst commentator The guy would suck sick could',\n",
       " \"That's hella reasonable though Anyone thinks okay leave kid car fucked\",\n",
       " 'imagine water bender easy ’ douche ass',\n",
       " 'fuck right',\n",
       " 'I fuckin hate night jesus christ',\n",
       " 'Fuck Daly You ’ clearly ignorant racist dipshit like rest supporters',\n",
       " 'damn fat crime ’ krazy worldas u may tell bitch hate account',\n",
       " 'Dumb fucking stump',\n",
       " 'Fuck one person',\n",
       " 'Sake freedom speech tomboy somewhere spew shit anyhow .. smh',\n",
       " 'poor girl omg hope finds sick asshole gets ass jail',\n",
       " '“ Ain ’ backing forwarding bitch last place ” Yeah definitely rap better',\n",
       " 'Why fuck would sick ass even say something like',\n",
       " 'Look article bullshit fucking coward afraid Deering plenty reasons hate school',\n",
       " \"Holy crap I actually found audio editor kicks Audacity's ass\",\n",
       " \"Fuck bro I'm tired bullshit excuses cus I know faking point\",\n",
       " 'certainly stupid bitch sunday',\n",
       " 'school fucking ass instead ted bundy ’ annoyed',\n",
       " \"She said I'm hot shit When really gem\",\n",
       " 'Some ’ really ugly fuck 😭 I nerve let bitches talk meee 😩',\n",
       " 'Decided I wanna get rocket fuck planet',\n",
       " 'Pussy You need gun give balls You ’ Piece shit',\n",
       " \"To say someone shit opinion that's shit\",\n",
       " 'I ’ dumb several niggas point stealing fucking credit',\n",
       " 'Eye contact sex fucking sexy',\n",
       " 'go fuck shitty “ apology ”',\n",
       " 'Yeah fuck bag',\n",
       " 'How tf phone put “ smh ” instead “ song ” ugh dumb',\n",
       " 'everyone fake fuck I emotionally invest dumbass people swear 😂 🤦 🏼 \\u200d ♀ ️',\n",
       " \"Wow that's dumb tweet even lol\",\n",
       " 'im dumb hell gonna wait til reupload :|',\n",
       " 'I going liberal Halloween head ’ fit ass #halloween2019',\n",
       " 'Ladies stop giving us heads disgusting Talking behalf Men',\n",
       " 'Why respond one actual valid shit lmao Imagine',\n",
       " 'The stitching job fuckinf horrible used sewing machine could ’ gone slower holy shit',\n",
       " 'Alpha bitch #TheWalkingDead',\n",
       " 'Cannot believe fact guy name going anders Fuck',\n",
       " \"fuck Justin bothered nasa teach i'm anymore\",\n",
       " 'Fixed dishwasher broke something else HA ha OWNINF A HOUSE IS FUN H HAHA ya rent forever guys fuck shit',\n",
       " 'Fuck retard eat boyfriends feces never talk heterophobe',\n",
       " 'I never keep telling nigga stop fw bitch If let kno really dont fwm',\n",
       " 'bojack horseman always tryna make wanna beat shit anyone see',\n",
       " 'lol Yeah ok .. idiot',\n",
       " 'Megan fire ... I want clap ass face Like bae let taste fine ass #GoingBrazyBrazy \\U0001f970 😩',\n",
       " 'Nate need ass whooped better lock fez 😢 #Europhia',\n",
       " 'We live Chicago bro A lot shit happen anytime anywhere You sound stupid',\n",
       " 'And ’ let door Ass',\n",
       " \"Booty eatin nasty fuck hell wrong y'all\",\n",
       " \"Hang You call Biden pedo also think he's worse Trump Holy shit dude\",\n",
       " 'This year really fucked ass enough abt time blessings start arriving sheeesh',\n",
       " 'said self discipline hardest form love shit believe em',\n",
       " 'Niggas dis bitch Tweeting shit Dat Bitch Tweet ... 😂 ’ delete ass nigga',\n",
       " 'I kno nigga sold soul fa family ’ care died tonight',\n",
       " 'And dumb ass bitch ruined morning I ’ bout fuck around wipe hands whole family',\n",
       " 'What fuck stolen meme',\n",
       " 'I trying go home long ass day shit happens',\n",
       " 'finding pants fit thighs AND butt perfectly hardest shit',\n",
       " 'Needs stop crying cnut get job fucking rentboy',\n",
       " 'fuck man im cotton candy',\n",
       " 'I Don ’ Fuck With Fake Ass Negative Selfish Arrogant Toxic People 💅 🏾 💯 ⚠ ️ Keep It 💯 Get Tf Out My Face',\n",
       " 'Yeah wanna wait till get Like fuck 🤣 🤣 🤣 PUSSY energy',\n",
       " 'Stupid ass watching shit 🚫 I watched preview “ Eli ” Netflix I almost jumped skin ’ shit 😂 😭',\n",
       " 'Either way ’ go pumpkin patch 😂 😂 🤦 🏽 \\u200d ♀ ️ saw tweets ’ gonna take bc ur fucking ugly',\n",
       " 'enstars fuck “ manage ” bitch im gonna kill',\n",
       " 'It said Adam Schiff lying traitor tried destroy America instead imploded Democrat party',\n",
       " 'Quit making lies piece shit',\n",
       " 'imagine talking shit lack flavor',\n",
       " 'Once upon time Hollywood load shit So angry 😡 😡 😡',\n",
       " 'Hi Kenyans Twitter guys give shit #joemwangi credit trending He could Rotting jail',\n",
       " 'Forever search summer like 2011 2012 😉 Whoever said 2019 gonna hit 2016 u fucking lied',\n",
       " '’ praying every night find job asap bc broke shit',\n",
       " 'Ik I playing fire dumb ass like fuck need something numb pain anyways',\n",
       " 'crazy shit turns end fuckkk ittt',\n",
       " 'Open fucking window let fresh air young man',\n",
       " 'Damn I realized close 2020 Normally July rest year goes quick shit',\n",
       " 'Duuude Bernie coming Cheeto ’ throatDonald Trump believes climate change hoax Donald idiot',\n",
       " 'IM WORKING ON FUCKING HALLOWEEN WOOHOO I LOVE IT LETS GO MORE POSITIVE THINGS COMING MY WAY GUYS YALL WISH YOU HAD LIFE FUCK',\n",
       " 'Ppl mad shit Ya Self scared',\n",
       " 'Wow This shit getting hot That way obvious',\n",
       " 'yeah saw show woman felt sick went bathroom shit baby',\n",
       " '’ fat asses stop eating popeyes chicken sandwiches everytime go try shit ’ got',\n",
       " 'yeah used love stuff know piece shit',\n",
       " 'You know many white people would lay die without Zoloft adderall shit like',\n",
       " 'Como chingan con su spooky ’ 18 leave shit kids 😂 😂 😂',\n",
       " '“ Ima cop halloween fuck 12 ” I hate bitch 🤣',\n",
       " \"Dam that's one hot amazing looking ass\",\n",
       " \"Listen bitch I'm still jealous able suck ur cock whenever lol\",\n",
       " 'If u hate wanna punish whatever reason watch shit satisfied 😂 😭',\n",
       " 'Bitch I dont need friend',\n",
       " 'Dwight beat shit 7th row I started cheering ... ’ right bruh',\n",
       " 'Ion ask nobody shit I get done bitch expecting much like NO',\n",
       " 'Oh shit Someone listening conversations cats',\n",
       " 'Hong Kong police ia crazy filthy',\n",
       " 'Sick shit lol',\n",
       " 'Damn fool really went got hurt ...',\n",
       " 'Letting people go Hell correcting would hurt feelings ’ “ nice ” — ’ cowardly',\n",
       " 'Weird fuck',\n",
       " 'voice mario said “ old white men go fuck leave women poc people real world experience ”',\n",
       " 'Lemme stop one boyfriends beat ass lolol',\n",
       " 'jealous anyone got tickets intimate fuck show tonight 😭',\n",
       " 'YOU walk around egg shells Bitch fucking afraid ur gonna accidentally really hurt',\n",
       " '’ matter strangers think whatever fuck want ’ n enjoy every second',\n",
       " 'July literally took shit balled ball threw garbage rough bro',\n",
       " \"Cornyn fundraising efforts try get Beto race He's dropped Fucking stop\",\n",
       " 'Sasha fucking Banks till I die',\n",
       " 'clingy luv shit',\n",
       " 'People Will Fuck You Over If Give Them The Chance ...',\n",
       " 'WHERE THE FUCK IS THAT VIDEO UGH I HATE IT WHEN CANT FIND',\n",
       " 'u mean theres room openly pervert get away ‘ grow ’ ass',\n",
       " 'Niggas got game fucked ‼ ️',\n",
       " 'dude shit HURTS jsjsjs',\n",
       " \"I've worked ass week The weekend fun 🤸 🏽 \\u200d ♂ ️\",\n",
       " 'carla asshole love',\n",
       " 'even announcer like HOLY FUCK',\n",
       " '’ piece shit',\n",
       " 'Pocha fuck scratched car 😑 😑 😑',\n",
       " 'What fuck',\n",
       " 'Are serious #Evra complete utter imbecile Every time opens mouth says something stupid',\n",
       " 'So ’ threatening violence woman Therapist ass',\n",
       " 'Real killa bitch took lmfaoo I see storyline ’ touch lol',\n",
       " 'Jfc Just put ass IR',\n",
       " 'I never take bitch serious sits behind cracked screens humps bt21 figurines 😭 fucking New York pigeons',\n",
       " 'I HATE peeping shit literally kills whole ass mood',\n",
       " 'Trying seen men shit vanity ...',\n",
       " \"Shut he'll corrupt ass\",\n",
       " 'This painfully stupid',\n",
       " 'I want coffee FUCK',\n",
       " 'Old rock music shit',\n",
       " 'Shut bigot How dare refer undocumented music files illegal',\n",
       " 'Reading bible favorite character died ... shit sucks fr',\n",
       " 'FUCK forgot second guitar notes bit shit fuck',\n",
       " 'The weed man barber Needa give two week notice go vacation This shit ’ coo 🤦 🏽 \\u200d ♂ ️',\n",
       " 'Damn near annoyed shit',\n",
       " 'Faze u make sniper rifles look like shit easy hell',\n",
       " 'Literally fuck',\n",
       " 'Wtf u paid 20 dollars shit intro mean whoever charged idiot tbh worth like 5',\n",
       " 'Wanna give bf best award cause put shit harsh words constantly \\U0001f97a \\U0001f97a \\U0001f97a',\n",
       " 'Shut fuck upIf oppose United States buying Greenland hate America',\n",
       " 'You forgot call racist',\n",
       " 'Niggas born wealth stop acting like got mud 🤣',\n",
       " 'God perfect description idiot',\n",
       " 'I always thought Zakir Naik full shit Glad see ppl catching',\n",
       " 'fucking earthquake',\n",
       " 'I sooo bored men trash tweets oh GOD girls BITCHES ffs',\n",
       " 'Hope 200 get u big enough hat ur ass head',\n",
       " 'lmfaooo FUCK YOU Brian 😂 You regaining friendship anymore 🙄 😂',\n",
       " 'I forgot bitch shit tbh 😂 😂',\n",
       " 'Shit trash If ’ SnD I ’ want play maps 😂',\n",
       " 'literal fuck happened world politics like holy shit man',\n",
       " 'Good news That ’ end Xhaka Arsenal Useless piece shit',\n",
       " '🤣 🤣 🤣 Lord forgive .. stupid ass still hat 🙄 😩',\n",
       " 'mum dad met actual gandalf tonight dundee fuck',\n",
       " 'What fuck AJ',\n",
       " 'Rodgers cold fuck mane',\n",
       " \"What's worst dare ever done Well I'm really type person I stupid stuff 😂 🙌 🏼\",\n",
       " 'drake shit literally 6 best songs ’ ever made ’ never officially released fly',\n",
       " 'People always talk shit never know side story 🤷 🏻 \\u200d ♀ ️',\n",
       " 'Tired ugly fat',\n",
       " 'anyone could hurt abuse animal worthless',\n",
       " 'Energy drinks fucking nasty anyway take adderall instead like rest us 😤',\n",
       " 'Road still wet fuck scary go',\n",
       " 'uhhh liverpool fuck',\n",
       " 'young let shit go life goes',\n",
       " 'Dude shit hands',\n",
       " 'Some people beautifully wrapped boxes shit \\U0001f92e',\n",
       " 'What fuck buttercup',\n",
       " 'Yes I triple threat A bad bitch dumb And sensitive bitch',\n",
       " 'I need shit bro 2k ass',\n",
       " 'If listen Zerlina wil dumb',\n",
       " 'On momma I wish could slap shit 😡 nothing immigration dumbass',\n",
       " 'Bing bing boong Steve smart trump dumb come',\n",
       " 'HALLUCINATION LEVEL FUCK THIS MAN I DONT WANNA REMEMBER WHAT HAPPENS TO JOE IM GONNA K LL MYSELF HATE SO MUCH',\n",
       " 'thanks waste fucking time',\n",
       " 'fuck',\n",
       " 'Honestly ’ think I ’ ever ugly fat 😂 🤢',\n",
       " 'bro everytime think ab hate stupid mf IDIOTTT',\n",
       " 'fuck',\n",
       " 'Even new bitch I see lot honestly I ’ honored cause shit comedy #facts 😂',\n",
       " 'Nigga really tried tell fly standby Bitch please let finish writing book ways got fucked',\n",
       " 'I trust issues think people full shit',\n",
       " 'Remove fucking robots pissing',\n",
       " 'father disgusting thieving self righteous piece shit',\n",
       " 'I wish could go back time live land I ’ sick dealing soft ass people opinions',\n",
       " 'I woke w shit mind I ’ straight 🤞 🏽',\n",
       " 'Fuck Packers',\n",
       " 'Never I suck bitch ’ like ’ females weird shit \\U0001f974',\n",
       " 'Yea chargers look like shit',\n",
       " '’ handsome fuck tho',\n",
       " 'Bitches dating asian boys like “ niggaa \\U0001f970 ” bitch thats Nguyen',\n",
       " 'I cant shit im',\n",
       " 'fuck ... .',\n",
       " 'Ok THIS ONE tears real though THE FUCK IS WRONG WITH PEOPLE 😂 😭 😂 😭 😩 😭 😩 😂 😂 😂',\n",
       " \"I'm sick shit\",\n",
       " 'This exactly shit oni wanna travel fuck every city go',\n",
       " 'Yea shit getting My Knees together Lmaooo 😭 😭 🤸 🏾 \\u200d ♀ ️ 🤸 🏾 \\u200d ♀ ️ Punch made lethal Taste good But I already know hits ’ done Who want 👀',\n",
       " 'Feel sorry Harry Kane playing shit team',\n",
       " 'And wonder ’ much division Fuck',\n",
       " 'tell shut fuck sometimesMy friends roasting straight phone fell definition “ business usual ”',\n",
       " 'They need find crazy ass man #48HoursOnID',\n",
       " 'That shit fire 😂',\n",
       " 'If niggas let bitch eat yo ass gay arguing',\n",
       " 'Hot fuck',\n",
       " 'And look bitch ass Can ’ sleep without spooning 💀 You gunna fall luv im asleep 🤷 🏾 \\u200d ♂ ️ 😴',\n",
       " \"I'd like see something shut fuck xD\",\n",
       " 'noisy ass sperm stans stress much im even part wtf',\n",
       " 'Shit disgusting ... dog needs new home ASAP',\n",
       " 'I would love fuck like',\n",
       " 'Lmfaooo damn ’ dumb',\n",
       " '#ssu23 fuck stuck folks branch classifications get back hell ill yall friend',\n",
       " 'The falcons suck dick',\n",
       " 'Stop fucking breaking people expecting miraculously whole rapidly 😒',\n",
       " 'Damn I ’ think existedI ’ “ let ’ make work ” type bitch',\n",
       " '#bbnaija From pairing teams ... crap crap',\n",
       " \"FUCK WROTE A FANFICTION ABOUT VICTORIA SPANKING ALBERT I HATE Y'ALL SO MUCHH\",\n",
       " 'I stay 200 ping fish ass name dumb shit science \\U0001f9ea .. beckytheicebox',\n",
       " 'Some ppl really pieces shit N swear EVERY 1 else problem',\n",
       " 'need stop fucking tweets',\n",
       " 'LOL never paying taxes reselling cocaine hell RACIST liar',\n",
       " 'Cheeky fuck gunna old guy crashes house miserable',\n",
       " 'Hate ignored 😡 bitch I ’ kill us',\n",
       " 'Bitch I ’ getting pedi tomorrow Ssshhh',\n",
       " 'seriously fuck',\n",
       " 'Lmao I let bitch use phone retweet pics wtf 😭 😭 😭',\n",
       " 'finished marriage fic 10108 words holy shit lmao',\n",
       " 'Who gives shit Its money He whatever wants',\n",
       " \"Try nuts stapled leg It's fucking fun man Nightmare af 😭 😭 😭\",\n",
       " 'Whole world know I ’ give fuck',\n",
       " 'The fuck u loud forBitches love putting “ 😩 ” lie “ I got home 😩 ” woke fwu Bitch shut 🖕 🏾 😩',\n",
       " \"III FUCK THESE BITCHES AND I'M FUCKING ALL HOOOES EATING PUSSY LIKE IT'S OREOS YOU ALREADY KNOW ʸᴼᵁ ᴬᴸᴿᴱᴬᴰʸ ᶠᵁᶜᴷᴵᴺᴳ ᴷᴺᴼᵂ ᴮᴵᵀᶜᴴ ᴬʸ\",\n",
       " 'I use backup account stupid shit like Glad got laugh',\n",
       " 'Can election hurry labour fuck #nzpol',\n",
       " 'Nobody Republicans Those damn video games making people use guns killing 😡',\n",
       " \"I'm finna keep inhaling second hand smoke shit good\",\n",
       " 'u ever ugly cry molly lil dicky shit hurted',\n",
       " 'Bitch I ’ struggle I ’ gotta flex',\n",
       " 'Wake piece shit',\n",
       " 'You called timeout dumb shit',\n",
       " \"I hate following people first follow back I'm fucking fan bayo bitch\",\n",
       " \"Shut fuck upI really can't see us winning today Klopp stupid pragmatism settle draw\",\n",
       " 'I fucking love twitter bro 😂',\n",
       " 'Alex Greenwich shut fuck I know puppet Gladys',\n",
       " 'Bitch shut yo bitch ass cause I never thirsty relax ya self',\n",
       " 'Wrong heard trippie say bitch beginning songs shit hard lmao',\n",
       " 'Americans ones paying shit economic strategy',\n",
       " 'We might STILL give nigga Drake enough credit dog crazy sounds',\n",
       " 'bitch would really stalk whole life behind nigga ignoring \\U0001f974',\n",
       " 'This shit NY bruh Someone def smuggled crap',\n",
       " \"You're idiot\",\n",
       " 'Soon get money im gon cancel stupid ass account Bank America',\n",
       " \"I'm gonna photoshop girlfriend kinds dumb shit\",\n",
       " 'This nigga really popped mouth 😐 I ’ dead ass stuck',\n",
       " 'How fuck gonna one phone send',\n",
       " 'They gonna made fries keep shit 😁 🙄',\n",
       " 'White dudes work showing wife everybody like dime boy ’ get ugly ass shit face',\n",
       " 'ok bruh bitch posting story thats officially ... FUCK \\U0001f92c',\n",
       " 'A bitter baby daddy worst',\n",
       " 'Some gurls co-signing dumb shit response LGBT history getting cut accordingly',\n",
       " 'What fuck',\n",
       " 'past dumb bitch apologize promise u im even retarded',\n",
       " 'Fuck Mixer move',\n",
       " \"thank god small fry I'll never deal shit\",\n",
       " 'Every time go barbershop wanna bet lose fucking money',\n",
       " '2017 ... dumb Bitch 2018 ... sad bitch 2019 ... GAYEST GAYS',\n",
       " 'Mix piss soup pour mouth stir cock',\n",
       " 'Toxic fuck',\n",
       " 'Double dates shit I fuck',\n",
       " 'Bro ’ cool never I peace treaty ass shit',\n",
       " 'Ur piece shit Go burn hell',\n",
       " 'Wish ’ would shut fuck talking ’ even necessary',\n",
       " 'She took shit grave',\n",
       " 'Remember said ’ wanna fuck head hurt Lol I ’ pull screenshots 😂 #FuckingTimehop',\n",
       " 'Fucking service trash',\n",
       " 'Scary movies made us yell call everybody dumb bitches like could hear 😂',\n",
       " 'You ’ dumb ’ pandering African Americans votes could try give shit',\n",
       " 'Men always saying stupid shit I wonder women relationships found man ’ tolerate',\n",
       " 'seriously fuck stupid drama 😭 love finn wolfhard',\n",
       " 'shit need hurry go away 😒',\n",
       " 'Niggas go world ASS-BACKWARDS Nggas gon mad father mother shit women 😭',\n",
       " 'Oh shit know I',\n",
       " 'Fuck nigga owe 50,000 dollars',\n",
       " 'Trotters pigs feet always shit',\n",
       " 'Her bald head ass let massage yo scalp 😂',\n",
       " 'Oh god shit still happens',\n",
       " \"bitch knew somethin christopher evans ain't like tweets\",\n",
       " '’ buckle fuck tweet thread #SaveTheOA',\n",
       " 'Nigga whole salad bar fire ass wings bro dead',\n",
       " 'Btfooo ass mad cause Chris Brown fight Damn 😂 😂',\n",
       " 'Whoever turned “ hell ” “ asl ” everyone followed yall dumb hell',\n",
       " 'I get people scared representation They act like fucking plague',\n",
       " 'I want cute ass step kids lol although prefer man w none 🤦 🏽 \\u200d ♀ ️ 😂',\n",
       " 'Always fucking goblin tries TPK everyone',\n",
       " 'Lmao kill one yo two hero ’ Cardi B D Trump would kill mf I beat saying shit like Hahahaha',\n",
       " 'Aye bruh fuck u Im tryna know stay away',\n",
       " \"Hahaha dude I facepalm hard stare camera like time I'm playing BR games holy shit wtf bro\",\n",
       " 'SHINee hiatus still holding My niggas got shit lock',\n",
       " \"I've decided I'm never going let anybody kiss ass ever problem\",\n",
       " 'At end day BOTH BOMBED box office FUCK imtyaz Fuckkk alr',\n",
       " 'cant fucking believe put pluto outta solar system done prick scum scientists',\n",
       " 'I ’ worried bout nigga shit ’ even kids',\n",
       " 'lmao I hooked fine ass male business suit shit looked like menatplay mess',\n",
       " \"Did child like I'd knock ass\",\n",
       " \"OF COURSE I'M FUCKING MELTING IT'S 18 °\",\n",
       " 'I jus go w da flow shit',\n",
       " 'Eating ass',\n",
       " 'lol goofy ass Surprise',\n",
       " 'The bitch hungry 😂 😂',\n",
       " 'every time try write brain decides fuck somewhere else',\n",
       " \"I'd ask fuck wrong people I really want answer \\U0001f92c\",\n",
       " 'Schools finna fucking session',\n",
       " 'idk feel like crying stupid way start day',\n",
       " \"SHUT UP JUST we're sick frukin tired\",\n",
       " \"I thought god always perfect flaws that's shitty living dumb ass creature\",\n",
       " 'I want get hair done ’ fucking hot 😒',\n",
       " 'My brother needs fuck whack ass opinions I go girls chooses',\n",
       " \"He's shit Nacho Fernandez\",\n",
       " 'Yo I ’ sorry yo loss shit bust laughin 😂 😂 😂 audacity',\n",
       " 'Like ’ bitch mouth drop floor inside wtf wrong',\n",
       " 'However ask shit buy',\n",
       " 'Yeh fucking pants',\n",
       " 'people miserable fuck complaining everything woke morning 🙇 🏽 \\u200d ♂ ️',\n",
       " 'These trucks thinking road shit finally got wat coming',\n",
       " 'Brah fine ass girls always gotta get pregnant fuck boy 😩 im tired niggas beating us 😭 😭',\n",
       " 'I swear Before could snap fuck camera man switch 😭 snapped EloDiane cute abeg 😄 😄',\n",
       " 'fuck donna bret',\n",
       " 'What ’ traffic dumb drivers today man',\n",
       " \"💮 I'm bored shit I hours work left ...\",\n",
       " 'The devil know got hands around Columbus I rebuke shit name Jesus 💙 🙏 💯',\n",
       " 'What stupid assholes 🤣 🤣 🤣 Every human would die country',\n",
       " 'get mad say fuck everything worst trait 😖',\n",
       " 'I got unreleased yb shit tuff ong 🐍',\n",
       " 'hmu done fucking head',\n",
       " '“ ’ positive ” In response mental illness makes ppl sound dumb fuck',\n",
       " 'I JUST FUCKING DID MY SCHOOLWORKS WHAT THE HELL IS HAPPENING',\n",
       " 'Stupid pecker owning men asshats',\n",
       " 'Shut fuck He ’ fucking moron Can ’ wait nightmare end',\n",
       " 'Nobody stupid',\n",
       " 'Indeed Both camps clueless I wanna see John McAfee eat dick',\n",
       " 'Shit football shit away form high press cant defend boring fuck weird subs Aubameyang wide ... account',\n",
       " 'They ’ gon hire crazy ass cause last year lmfaoo I ’ stay positive go 🤷 🏽 \\u200d ♀ ️',\n",
       " \"Prove lying piece shit billionaire It's lies douchebag\",\n",
       " 'Some people drain fucking nice right u',\n",
       " 'I ’ sick hippy ass restaurants Seattle Where fucking Wendy ’ spicy nugs baby',\n",
       " 'Chris Weinke also telling us eat shit LOL',\n",
       " 'Gary update 1 still bitch',\n",
       " 'tired shit everyday',\n",
       " 'boys fucking pretty FUCK',\n",
       " 'watching stranger things thinking fucked would one believed u supernatural shit ygm',\n",
       " 'Fuck I ’ calling mama tomorrow 🤷 🏾 \\u200d ♀ ️',\n",
       " 'WJY NAMJOON IS SO FERAL TONIGHT WHAT THE FUCK DID THEY FEED HIM',\n",
       " \"least ass that's flat 🤡 🤡 🤡\",\n",
       " 'imma fuck next time black 😂',\n",
       " 'My body ready hot girl summer give way lazy bitch fall',\n",
       " 'bitch drink nut like E J fucked bro reinstate',\n",
       " 'chinese kitchen horrible bitch mad',\n",
       " \"that's fucked ...\",\n",
       " 'luxury homes mean giant ass bins cut holes top tier condos',\n",
       " 'Lying racist piece crap',\n",
       " 'Evil wins No justice The corrupt piece shit walk',\n",
       " 'DICK DUMB bitches yu 😫 💯 👋 🏾',\n",
       " 'Even worse What complete ass @2fronttweets It mom',\n",
       " 'Mine itching smack shit someone right ...',\n",
       " 'Everyone made “ YOU STAY ’ fucking suck ass 😂 sound stupid aff ☠ ️',\n",
       " 'You bitches need stop posting whole ass scenes movies snap The fuck',\n",
       " 'Fuck booking next yet rapid style',\n",
       " 'bitch swear god',\n",
       " 'Building little networks shit parity spare grief Now Fuck You Pay Me',\n",
       " 'still cut alarm went back sleep .. finna gone set alarm cus bitch need hair done morning 😭',\n",
       " 'Eat bitch like cheese danish',\n",
       " 'Do really think Government stupid knew exactly going let',\n",
       " 'wonder like dumbest fucking person planet earth',\n",
       " 'Wish I fucking',\n",
       " 'You know wrong shit like ...',\n",
       " \"let's jump cause wtf said nothing nice shit bitch ☠ ️ ☠ ️\",\n",
       " 'You thick shit Lammy',\n",
       " 'Energy mf I feel shit',\n",
       " 'break ice britney spears ... intro go hard shit',\n",
       " 'Who fuck throws puppies dumpsters sickening',\n",
       " 'Wheres slap shit',\n",
       " '’ said go fuck I let moment pass',\n",
       " 'I thought gonna say orange blossom lmao smh Thomas likes shit 😂',\n",
       " 'gon fw bitch capp yhu 🤷 🏻 \\u200d ♀ ️',\n",
       " 'So mostly girls bullied highschool pregnant financially stable whatsoever lmfao karmas bitch huh',\n",
       " 'Both ’ shut hell 😤',\n",
       " 'And talk like shit handle rough Sis talking shit',\n",
       " 'A bitch needs nails toes hair lashes done But also brokeee',\n",
       " 'Mo Off And Running Played One Scored Up The Fucking Reds 🔴',\n",
       " 'stop saying ur idiot world stupid u',\n",
       " 'Is shit gonna change yo life forever taking valuable time',\n",
       " 'changkyun little bitch lately ... fuck think ... letting hold hand',\n",
       " 'Holy shit Scott hilarious 😂',\n",
       " 'It ’ crazy niggas really fucked nudes game',\n",
       " 'Y ’ normalized fuck cheating',\n",
       " 'SHUT THE FUCK UP',\n",
       " 'Nip shit sad fuck',\n",
       " 'The fuckin thing sucks',\n",
       " 'Oh shit I gotta watch',\n",
       " \"I'd rather alone keep bullshit\",\n",
       " 'The ultimate betrayalYooo man sending bitches nail money That ’ worse fucking 😭 😭 😭',\n",
       " 'fuck',\n",
       " 'Go hell',\n",
       " 'nah shit looking weird asf bitches wanna look like next bitch ’ even love cmon',\n",
       " 'I sick Franco pig always pig glad Jason Sam hate ass',\n",
       " 'Played Minecraft viewers 12am 4am That shit addicting',\n",
       " 'Condi Rice brilliant Don Lemon idiot The fact black irrelevant — racist',\n",
       " 'Shit manager one Total shit needs start taking responsibility stop concentrating ozil #SHUARS',\n",
       " 'Now U know got damn well ’ itNo wonder I ’ gaining weight fast 😂 ass eat like pig',\n",
       " 'bpl wrong shit',\n",
       " 'Because ’ racist piece shit 🤷 🏽 \\u200d ♂ ️',\n",
       " 'God ’ real psycho She ’ mentally ill deserves … disappear No one cares Just go hell bitch',\n",
       " 'Tennessee Whiskey always mf vibe bro I could slap shit matter im feelin 👍 🏽',\n",
       " \"Forklift batteries charged took care garage shiiiddd I'm store grab Patron fuck\",\n",
       " 'They went 14-0 said fuck 😂',\n",
       " 'I wanna wank video Boris Johnson fucking shit ur pathetic puny ass',\n",
       " 'swear god somebody tries tick make shit go fucking tell leave fuck alone',\n",
       " 'اي سوييير I ’ tired shit',\n",
       " 'head living rent free ass',\n",
       " \"Nope leave ass #periodpooh I ain't catching charge dude mine obviously\",\n",
       " 'My bitch Kim went made face look like beyonce',\n",
       " 'I want bomb ass food ’ put sleep 🤤',\n",
       " 'Is child texting Kingdom Hearts lol Donald heal useless sack shit',\n",
       " 'I saying shit time 🤣 🤣',\n",
       " \"You're oppressed fucking head\",\n",
       " 'That pride shit devil times',\n",
       " 'got every reason feel like im bitch 🎯',\n",
       " 'Craig Wright fraud fucking scam artist dead gigameg blockhain-oto .. 🤷 🏻 \\u200d ♂ ️ This guess',\n",
       " '’ gonna floss teeth ass hairs',\n",
       " 'House Payne fucking funny',\n",
       " 'Just realized I made fucking typo 🤦 🏻 \\u200d ♂ ️',\n",
       " 'sure abt shit anymore lol',\n",
       " 'ur humor dumbest thing ever funny fug like cant laugh dumb jokes LOL',\n",
       " 'Lol You Some Shit Text Me @Mooktheking run iPhone games I ’ ready beat ass uno',\n",
       " 'last year game going Missouri beating shit uf',\n",
       " 'lol buckshot worse 223 round idiot',\n",
       " '’ like yea I want support Frm people time wanna make without em shit em 💩',\n",
       " 'thats lamest bitch 2019',\n",
       " '😭 Twitter lolHearing ghetto ass music outside knowing ’ yo ride 😂',\n",
       " 'Y ’ bitches see person freeze fuck .. kids 🤣 😩',\n",
       " 'Man whole lotta stupid weird bitches bro',\n",
       " 'Lmfffaaaoo 💀 💀 shit happened everything went left 🤦 🏾 \\u200d ♀ ️ anymore',\n",
       " 'fuck org signed man yet',\n",
       " 'dylan telling trump fuck thing ’ keeping alive',\n",
       " 'unfortunately fools ignorant supporters daily basis',\n",
       " 'N E WAISE I ’ disgusting shitty person',\n",
       " 'I would ask Zuck bothered answer questions stupid shit like',\n",
       " 'I ’ never calling child social media shit whack ’ parenting sucks',\n",
       " 'Looks like shit ’ play Disney channel',\n",
       " 'Getting blue ticked sad getting entire group chat That shit hurts \\U0001f974',\n",
       " 'nigga names mixtape dirtbagg u know im fucking wit 😂 😂 😂',\n",
       " \"He's Lucky The Guy Didn't Notice ... He'd Kick His Ass\",\n",
       " 'Piece shit biological waste supporters white supremacy',\n",
       " 'Everything cause I watched shit',\n",
       " 'lazy make u fat bitch im even eat getting calories',\n",
       " '’ bitches really need ass beat',\n",
       " 'tell bitch wendy go bathroom last week 🤦 🏾 \\u200d ♂ ️',\n",
       " 'go FUCK 😂 😂 😂 unfollow sis',\n",
       " 'I fuck niggas cause shady These bitches wanna babyBest opening lyric song',\n",
       " 'day 6 DIFFERENT shit usual <3',\n",
       " 'She idiot troll twitter accounts Block ignore mates',\n",
       " 'I know mfs looking window like nasty bitch',\n",
       " 'Onlyfan bitches show whole Pussy 38 seconds ask subscribe .. bitch I saw already good lookin',\n",
       " 'Feeling nostalgic assholes worst',\n",
       " 'Fucking class indeed ... hate want ... We dont give fuck You Never Walk AloneI Love Liverpool Football Club ... Class Club ... Class Fanbase ... Manager ... Class ... Full Stop ...',\n",
       " 'Yooo much getting paid Paid Babysitting blunt son pass shit 😂 😂 😂',\n",
       " 'Stank Gone Make Me Fye His Ass Up 😂',\n",
       " 'Fuck worker exploitation systemic oppression fuck show big mouth',\n",
       " 'I could shit mouth watching kick ...',\n",
       " 'years locked twitter I finally guessed ugly ass password',\n",
       " 'Our grandfathers strong shit niggas electric openers',\n",
       " 'If u got homie tryna make shit happen support ya ’ cost thing',\n",
       " \"I hate wild Bill Lonnie fuck shit I'm drinking\",\n",
       " 'I worst damn luck swear',\n",
       " 'You people stupid stop trying dictate man go Just let face judge jury .. live life',\n",
       " 'Talk creole shit',\n",
       " 'Teen Vogue become freak show shameless shit #BirdCageLiner',\n",
       " 'thanos really fucked avengers hq',\n",
       " 'thats ive hypnosis master mistress crap im freeing subs gonna go john brown fucks',\n",
       " 'Why ’ mad ungrateful gender reveals looking like damn fools shit make cringe 😒',\n",
       " 'YESHSKDHDJDHS shes brave shit',\n",
       " 'Not fault said single Fuck asking niggas dates single',\n",
       " 'The costume complete without dick inside ass',\n",
       " 'Yeah ... said Fucking waste time money 😂',\n",
       " 'bro u ruined whole convo twisted shit lol Who brought moms',\n",
       " 'Niggas real life pressed behind niggas I think shit gay 😂 😂',\n",
       " 'Fuck Asia Istg I want choke till death',\n",
       " 'Fuck I want owner jail 😠 😠',\n",
       " 'Fuck The left speaker car blew',\n",
       " 'I want fuck two',\n",
       " 'Never forget ones move funny getting ya shit together',\n",
       " 'Never trust bitch talks shit people runs',\n",
       " 'bitter hateful stans ’ weird disgusting fixation ONE fan fucking wild istg',\n",
       " 'Beth ’ gna sick driver im fucking proud rn',\n",
       " 'I ’ bout done putting bullshit',\n",
       " 'hit shower ass gone',\n",
       " 'More like didnt realize recently could monetize shit LGBTI community',\n",
       " 'Time call Dems really racist',\n",
       " 'Shut fuck lying POS keep spreading bullshit NO credibility',\n",
       " 'Why Arkansas Republicans care nonsense I know stupid WTF',\n",
       " 'Y ’ man killed fucking sister 😓 😭 like sick 🙏 🏽 🙌 🏾 prayers Dayton families grieving',\n",
       " 'Son bitch like son boomer',\n",
       " 'What fuck',\n",
       " 'Baton Rouge influencers post Instagram stories outside Crescent trying act like live NYC shit Smh',\n",
       " 'For fuck sake Im done Going back zone 🚶 \\u200d ♂ ️',\n",
       " \"You'll tax shit middle class\",\n",
       " 'putting “ ” front shit funny',\n",
       " 'Spoken like true idiot Trump miss spelling name',\n",
       " 'Fuck Will How bout You tool',\n",
       " 'facts gotta stop bitch know pussy good go fuck 😂',\n",
       " 'Commie shit huh Fredo especially funny coming',\n",
       " 'Fuck 😂 😂 That ’ I said head 😩',\n",
       " 'Bank acct “ fuck please ” 😍',\n",
       " 'This nigga trash actually sound fire',\n",
       " 'Fuck The Jews aligned racist twit useful idiots',\n",
       " 'girl used stay blocking tweets 💀 💀 I hate blocked dat shit aggravates soul \\U0001f92c \\U0001f92c \\U0001f92c',\n",
       " 'lemme say ... niggas toe fuck ’ fucking none ’',\n",
       " 'Lmao Na fr gettin high asf eating steamed broccoli 🤢 How hell people vegan Imagine coming home drunk starving long night turning eat fucking vegetables',\n",
       " 'Im annoyed shit',\n",
       " 'bitches like well bitch 😂 💯',\n",
       " 'Because suck ass except',\n",
       " 'When try contact family tell shit 🤘 🏼 😊 \\U0001f974 😂',\n",
       " 'lmao shut fuck',\n",
       " 'When I said fucked bond basically dead 🤷 🏻 \\u200d ♀ ️',\n",
       " 'Dude hell',\n",
       " 'girls obsessed disney world type shit going',\n",
       " 'Wish ppl would tell straight ’ fw instead fake lol Can ’ stand shit',\n",
       " 'I hate niggas start calling baby soon meet like wtf That shit corny af',\n",
       " 'literally saw pm ugly hell',\n",
       " 'I overthink lot shit Whew shit needs stop',\n",
       " 'Wow ’ wonder one would fuck lol #stupid',\n",
       " '😂 😂 😂 Omm hot shit',\n",
       " \"Couldn't get Wendy's huh He sure trying food thinks shit trash\",\n",
       " 'He really tryin like I ’ beat ass',\n",
       " 'stfu Do realize spew shit mouth nothing much thought behind Grow fuck',\n",
       " \"Bitch I ain't sharing cuz mine 😜\",\n",
       " 'please tell making shit',\n",
       " 'Next person go live Instagram gets unfollowed I ’ sick shit people interesting',\n",
       " 'Fuck hurt',\n",
       " 'Mu dumb ass forgot tag',\n",
       " 'Bitch I cashed friends family broke however changing becoming wealthy',\n",
       " 'Which kind disgusting build #MUNCHE',\n",
       " 'Man 🤦 🏾 \\u200d ♀ ️ Gotta get new number job house 💀 Idgaf nobody say hurt nigga WAAAY worse bitch ... niggas show ass OMM 😂',\n",
       " 'none Snapchat boyfriends complimented selfie ’ ’ shit 😔',\n",
       " 'Wow dude Are really stupid You need re-evaluate entire existence',\n",
       " 'I really need stop eating sumn sweet shit 🤠 🤠 🤠',\n",
       " 'Lmao I love shit',\n",
       " 'bro I fucking ’ 😂 😂 😂 better get fuck go homeimagine ur like omg let ’ compare hands hand tiny urs bigger',\n",
       " 'Y ’ I think hypnotized fucking cat',\n",
       " 'Bitch I ’ finna crank ps4 dominate shit next competition 😭',\n",
       " \"mark fucking ridiculous b c they're sold 3rd party online stores sephora either\",\n",
       " 'ladies stop texting dude wants throat fuck call family miss',\n",
       " 'So ready brai get I kno Byron gonna spoil shit ha like baby',\n",
       " 'Good ’ Booker cooked ass',\n",
       " 'hate way feel someone eats less ... like bitch I HAVE THE EATING DISORDER FINISH THAT FUCKING DONUT',\n",
       " 'What fuck wrong Pushing stupid ass headline Fuck',\n",
       " 'Quick change USA door locks comes back put shit outside border',\n",
       " 'That shit got crying',\n",
       " 'fuck ariana literally debunked rumour wtf',\n",
       " 'yall fucking annoying like obsession ...',\n",
       " 'bend pull hair eat pussy lick ha ass',\n",
       " 'I sit quietly u flex da hoes even wen yo bitch ass try kno near ok 👌 🏾',\n",
       " '“ Fucked mirror cause know bitch conceited ” 🤣 😜',\n",
       " 'ill eat ass',\n",
       " \"You're liar crazy support bunch reprobates liars perverts\",\n",
       " 'Just took good ass BC head hurt I ’ ohhh soo aggravated likeee 💀 💀',\n",
       " 'This shit I wanna wake \\U0001f92c',\n",
       " 'I ’ gonna beat shit person made lrt',\n",
       " 'Do Re Mi Fa So Fucking done cats ... ugh 😖',\n",
       " '“ shot crazy bitch heart ” bruh SKDKFKF WHAT THE FUCK',\n",
       " \"I spiralling I'm ugly never find partner felt ass pants rip\",\n",
       " 'Then fuck die hell',\n",
       " 'You deserve nothing pity deep shit',\n",
       " 'THEY ARE KIDS WHAT THE FUCK THY FUCK OMG I CANT IM DONE WITH THIS SHOW W H A T',\n",
       " 'I ’ die fucking laughing fuck',\n",
       " \"There's nothing wrong sex magick fucking idiots\",\n",
       " 'Yeah His Ass Slow AFFF #QueenRadio',\n",
       " 'crazy part 😭 😭 😭 jus saw girl bangs said fuck',\n",
       " \"love changkyun i'm really upset like see face dumb ass can't stop hearing exo's blooming day play head\",\n",
       " 'Me Alex people omg yes bias baby ’ okay BITCH HES MINE BACK THE FUCK OFF',\n",
       " 'Sex flash backs annoying like bitch let shit go 😂',\n",
       " 'Go wash ass anda lavarte el culo',\n",
       " 'If feel like LGBTQ “ FoRcEd ” reply I block ignorant ass',\n",
       " 'Women nasty mean lmao 😂 shit sad',\n",
       " 'Toxic fuck',\n",
       " 'Avoid queen These people need attention stupid enough understand real problem',\n",
       " 'Fuck authoritarian piece shit',\n",
       " 'I hate bitches attitudes reason like I ’ slap shit outta try',\n",
       " 'mark literally post birthday get ass BEAT fucking deprived',\n",
       " 'What fuck even Sabbath without Ozzy',\n",
       " 'I ’ ugly right ... construction shit 😂 😂 😂 🤷 🏾 \\u200d ♀ ️',\n",
       " \"Can't fault originality 😂 Thanks fucking help though 🙄\",\n",
       " 'Mmm I would ass',\n",
       " 'I even care much Picasso shit SLAPS',\n",
       " 'longer forcing things happen letting shit',\n",
       " 'im shitty ling telling shit happened last night n I ’ remember',\n",
       " 'Skinny niggas hate woman better muscles lmao pick weight bitch boy',\n",
       " 'Determination ... Dedication ... ’ shit brain fuckin Motivation I get lil Thugga #SLATT 💚 🐍 💞',\n",
       " 'This shit I talking',\n",
       " 'nigga broke fuck real life dont let social media fool u',\n",
       " \"DON'T FUCK W YOU I'M GON IT UP SAY WANT ME THEN OUTTA LUCK BABY GIRL LUCKKK\",\n",
       " \"gerard snuck like i'd probably dumb shit elbow accident it'd keep night years\",\n",
       " 'Deleting shit soon gettin new number 🖕 🏾',\n",
       " 'Uhm mortals fuck Atheism',\n",
       " 'I hate text someone respond “ huh ” Like mf reread fucking message',\n",
       " 'That “ sucking cucumber shit need stop making look disgusting',\n",
       " 'Nah fr tho Bitches making shit 😭 tryna bland life problems meI hate people accuse casting spell .. bitch I ’ old soul I ’ childish',\n",
       " 'This shit really hilarious 😂 😂',\n",
       " 'Somebody said least Safaree pop locking shit new nigga work Lmfaooo 😂 😂 😂',\n",
       " 'Hmm damn queen nice ass',\n",
       " 'I ’ beat ass front nobody nothing prove That ’ live nigga shit right',\n",
       " 'This nigga said favorite word toxic 😂 😂 😂 😭 😭',\n",
       " 'NIALL FUCKING HORAN ANSWERED ME WHAT THE FUCK IS AIR',\n",
       " 'r kelly central park five sis fuck',\n",
       " 'I ’ buying indigo guy fuck',\n",
       " 'poured whole heart piece shit',\n",
       " 'He ate pasta I murdered ass',\n",
       " 'The fucking stupidity humanity never cease amaze',\n",
       " 'But arrested 😡 😡 😡 FFS holding idiots accountable',\n",
       " 'Hey Why hate people talk shit Ghastly making music thousands enjoy',\n",
       " 'Just like rest MSM zero credibility Fuck',\n",
       " 'So far 2019 kicked ever loving fuck outta',\n",
       " '’ know many people make trash ass music favorite woman beaters fucking find one',\n",
       " 'fuck dollar tree hell like alll time 😂 😂 Dollar leaving one cashier die 😭 🤣 🤣 🤣',\n",
       " 'You need stop commenting idiots profiles .. go away',\n",
       " 'Throw chocolate milk shit get back work',\n",
       " 'Son bitch',\n",
       " 'Fuck close',\n",
       " 'giving fucking heart condition',\n",
       " \"bitch u pulling n popping pussy least send back 20 gas money I sent I'm broke 😡\",\n",
       " 'They say ’ kill ass',\n",
       " \"troll account Says nasty shit ppl Facebook You've found Payback sucks\",\n",
       " 'I hate kid attend daycare .. feel like forever som bullshit ..',\n",
       " 'This wildly unacceptable shit man lol smh',\n",
       " 'wanna learn coupon nbs 😂 shit lowkey seem fun',\n",
       " 'Bro like I ’ even enjoy cardis music saying dumbest shit iq must fkn low',\n",
       " 'Promo fucking year ...',\n",
       " '#MeNecesita ’ breathe fuck wrong ’ dropping heat like',\n",
       " 'Well ’ misogynist asshole To tell eat shit insult shit',\n",
       " 'When comment shit like ’ fuck really ’ trying scare hoes away 🤷 🏾 \\u200d ♂ ️ 🤷 🏾 \\u200d ♂ ️ 😂',\n",
       " 'Sticking feathers butt make chicken',\n",
       " 'hate sister im eating cereal n bitch said milk chunky water Stupid making lose app tight 🙄',\n",
       " 'calling jungkook big bitch im probably height 🤣 🤣 😂 😂 😂 🤣',\n",
       " 'OMG Nobody cares BS disgusting excuse human',\n",
       " \"i'm block bitch\",\n",
       " 'phone dry imma fuck around pay bill month 💀',\n",
       " 'found shirouhive ... damn bro shit sucks',\n",
       " 'Niggas toxic worth shit',\n",
       " 'somewhere bitch wishing waiting “ mans ” leave wife “ promised ”',\n",
       " 'u fake shit go run ur little friends talk nice r front like huhhh',\n",
       " 'squeezes ass I thrust harder marry',\n",
       " 'Jesus dude shut fuck nonsense Act like fucking adult',\n",
       " 'Suck little late GOPieces shit',\n",
       " 'Niggah fuck skimping shit chipotle like ’ personal shit',\n",
       " 'Bro heart fucking throat',\n",
       " 'Marshall Mathers fucking goat',\n",
       " 'And whole “ ’ praise ” shit invalid Study ot7 try attack',\n",
       " 'ass alone makes money make week shitty job #findom #paypig',\n",
       " 'antonio browns feet nasty hell watching',\n",
       " 'He mad cause I ’ kicking ass chess 😂',\n",
       " 'Why FUCK DOES THIS ALWAYS HAPPEN TO ME OH MY GOD',\n",
       " 'Jesus fucking Christ poor thing look eye This terrible',\n",
       " 'So arent willing judge every white person individually indeed racist fuck',\n",
       " 'walk one girls another kinda shit 💀 💀',\n",
       " 'OMG #Boyfriendtonight fucking good When Ariana shot lasers boobs 😱 😱 💜',\n",
       " 'I starting like Wu series nigga started dodging bullets What Bollywood shit 🤦 🏾 \\u200d ♂',\n",
       " 'Use brain head lose bitch',\n",
       " 'All I know real 🤷 🏽 \\u200d ♀ ️ stay tweeting relatable shit 💯',\n",
       " 'How fuck stop sueing people contract signed knowing would happen tfue',\n",
       " \"I argue Bitches fonk Bitch I'm sorry Niggas weird\",\n",
       " \"That's fucked\",\n",
       " 'Niggas keep cars clean lmao shit looking like rental fuck',\n",
       " 'next chance I get I ’ smacking shit lil boi \\U0001f974',\n",
       " 'wanna fuck somebody actually',\n",
       " 'Sit fuck cousins little bitch #WASvsMIN',\n",
       " 'Ya ever say fuck eat pop tart bed',\n",
       " 'boss wanna build “ beer cave ” instead fixing damn ac bitch ..',\n",
       " 'Shid I ’ mad If 1,000 bitches wanna give pussy ’ business 🤷 🏽 \\u200d ♀ ️ ’ mad blueface hitting 1000 6 months .. nigga deserve trophy 😂',\n",
       " 'yall really let jess breath holy shit leave alone',\n",
       " \"My boss gonna annoying piece shit today I'm mood stuck till like 4\",\n",
       " 'Fuck stupid piece shit gay son bitch ...',\n",
       " 'phones dry fuck man',\n",
       " 'I want cream puff real ass Wisconsin cheese curds fair 😭 😪',\n",
       " 'Fuck I need iced coffee \\U0001f9df \\u200d ♀ ️',\n",
       " 'yo fuck problemWhy one talk fact depression anxiety give fat pussy',\n",
       " 'Next time drop ’ like phone call Alexa \\U0001f92a scared shit little cousins one day',\n",
       " 'Exactly save flaw shit luvA bitch talk sum next come behind talking 😭 😭 😭 sick',\n",
       " 'let girl go sleep upset bitch ..',\n",
       " 'You fuckin ’ lyinggg 😭 Bitches crying niggas 1 outfit ... bitch knew ’ gon change 😒',\n",
       " 'someone fill katherine jo thing bitch fell asleep',\n",
       " \"booker might actually utter sentence i'll smooth beat ass tonight\",\n",
       " 'My aunt got shit done FL \\U0001f92a \\U0001f92a',\n",
       " 'Who fuck demanded',\n",
       " 'It days I ’ work ass literally forget eat I know shit gone pay',\n",
       " 'They bitch case lamest bussa',\n",
       " 'First fuck',\n",
       " 'fuck namjoon pretty words always making cry',\n",
       " 'Saw someone selling Stone Cold Steve Austin vintage jersey 98 holy shit I want bad',\n",
       " 'I LEFT MY MINIFRIDGE OPEN ALL WEEK HOLY FUCK',\n",
       " 'bitch Im mad ash school apparently changed 1 hour lunch THREE fucking lunches audacity 🤚 🏽 😔',\n",
       " \"A real man ain't gonna hurt bc shit\",\n",
       " 'Whenever I see video somebody listening quoting Chief So gotta go play shit 🐐',\n",
       " 'Me kept starring IThe cop school gonna fuck around catch fucking hands 😤 🦍',\n",
       " 'kirby always stays hydrated isnt stupid idiot',\n",
       " 'This app makes ’ mf ’ feel superior .. I hate bitches ..',\n",
       " 'Day starting like shit ima go back sleep n try later',\n",
       " \"I'm sorry mad uwu Take bullshit elsewhere\",\n",
       " 'I hate math What fuck derivative Bitch im gonna kill',\n",
       " 'Be happy people ’ success piece shit',\n",
       " 'started guessing around end bc really know fuck going',\n",
       " 'I Want Some Nasty Sex 😩',\n",
       " 'ok Grayson teach banana pancakes american general bc shit hard fuck',\n",
       " 'I ’ sick dumb ass',\n",
       " 'ive never watched glee im looking comments guys fuck going damn showoh watch glee name every time mr schue ’ gone jail',\n",
       " 'I ’ watch white people porn anymore shit ’ look right',\n",
       " 'And ass still went sleep stfu cause I ’ bout wake ya 🤗 😘',\n",
       " 'Who fuck Blink 182',\n",
       " \"guys i'm 8th episode hotel del luna altready crying cause gu chan fucking song can't mind business\",\n",
       " 'Because life ’ biggest pain ass dude',\n",
       " 'ahhh shit :( thats crap thing custom stuff sometimes',\n",
       " '“ best thing straight white man shut fuck ” AHSHDIDDDJDND YESSS',\n",
       " 'I may ruined life fucking ball 😭 bitch lie',\n",
       " \"Fuck I'm sleeping tiles\",\n",
       " 'Cracks guys constantly label women crazy meanwhile cuz ’ dumb ass shit',\n",
       " 'Niggas b dripped starving eat big ass balenciagas 😭 😭 😭 😂 😂',\n",
       " 'halls shadow fall fucking shitty yalls servers r shit expect us pay event',\n",
       " 'Sounds like crock shit',\n",
       " 'Old racist ur face new hide behind smile',\n",
       " 'No matter Internet says petty loud bitter ass bitch cool',\n",
       " 'I hate drunk fuck every trip dawg',\n",
       " \"She's still getting shit celeb liked called liar Idk I'd feel pretty stupid\",\n",
       " \"I'm sick sick\",\n",
       " 'Sorry Bostonian anti-Trump bitches going follow censor report Fuck',\n",
       " 'u know ur strong friend going thru please ’ continue pile shit',\n",
       " 'Women stupid pretty reason get n e r v like tell face stfu 🙄',\n",
       " 'fucking HAQTE LIARSSS SO TIRED OF EVERYTHING hould literally die hole',\n",
       " 'dad another fucking fight goddamned potatoes',\n",
       " 'My face still bald 😭 😭 😭 Eating pussy make beard grow idk fuck came shit nappy',\n",
       " 'WHAT THE FUCK IS A QWILDISH',\n",
       " 'That vertigo fucked bad Got thinking abt drinking water shit',\n",
       " 'feel gross eat ’ processed shit like ever',\n",
       " 'Females cant fuck nigga dont got money I see ya get along fathers 😂',\n",
       " 'Co-star fakest bitch',\n",
       " 'kids gonna spoiled shit 💚 💚 💚',\n",
       " 'Beto idiot democrat sounds like sand flees congress',\n",
       " \"Yeah that's fucked\",\n",
       " '’ ever meet someone annoy fuck u reason',\n",
       " 'Bro grown ass man tho Ctfu',\n",
       " 'What fucking disgrace I dont want people like even associated club',\n",
       " \"😂 😂 aahhh 💀 talking bout Trump ain't tryna get rid ass 🤷 😂 body slam hoe tho 🏃\",\n",
       " 'ALL MY YOUNG BOYS ROUND ME SAYIN GET MONEY AND FUCK THESE HOES WHERE WE LEARNED VALUES I DO NOT KNOW WHAT TO TELL YOU 🤷 \\u200d ♂ ️',\n",
       " 'By logic simply learning shit like Nazis school make kids 🗿',\n",
       " 'You want dick shut fuck',\n",
       " '“ You ’ sooo dumb ” I want clap ass cheeks like little girl despicable clapped face',\n",
       " 'Are 16 Grow fuck Up traffic cone',\n",
       " ...]"
      ]
     },
     "execution_count": 109,
     "metadata": {
      "tags": []
     },
     "output_type": "execute_result"
    }
   ],
   "source": [
    "preprocessedTweets"
   ]
  },
  {
   "cell_type": "code",
   "execution_count": 0,
   "metadata": {
    "colab": {},
    "colab_type": "code",
    "id": "KqqgNBoZVZ4T"
   },
   "outputs": [],
   "source": [
    "# Import the dependencies\n",
    "from keras.models import Sequential\n",
    "from keras.layers import Dense, LSTM,SpatialDropout1D\n",
    "from keras.layers.embeddings import Embedding\n",
    "from keras.preprocessing import sequence"
   ]
  },
  {
   "cell_type": "code",
   "execution_count": 0,
   "metadata": {
    "colab": {},
    "colab_type": "code",
    "id": "q2yqhPfvMZl9"
   },
   "outputs": [],
   "source": [
    "# The maximum number of words to be used. (most frequent)\n",
    "MAX_NB_WORDS = 50000\n",
    "# Max number of words in each complaint.\n",
    "MAX_SEQUENCE_LENGTH = 250\n",
    "# This is fixed.\n",
    "EMBEDDING_DIM = 100"
   ]
  },
  {
   "cell_type": "code",
   "execution_count": 0,
   "metadata": {
    "colab": {},
    "colab_type": "code",
    "id": "feSFvbmRXnW6"
   },
   "outputs": [],
   "source": [
    "from keras.preprocessing.text import Tokenizer\n",
    "from keras.preprocessing.sequence import pad_sequences"
   ]
  },
  {
   "cell_type": "code",
   "execution_count": 113,
   "metadata": {
    "colab": {
     "base_uri": "https://localhost:8080/",
     "height": 35
    },
    "colab_type": "code",
    "id": "8bdNZ9tPMcZ_",
    "outputId": "2b3e3062-d0d7-429b-8524-95d8dfdd2363"
   },
   "outputs": [
    {
     "name": "stdout",
     "output_type": "stream",
     "text": [
      "Found 60150 unique tokens.\n"
     ]
    }
   ],
   "source": [
    "tokenizer = Tokenizer(num_words=MAX_NB_WORDS, filters='!\"#$%&()*+,-./:;<=>?@[\\]^_`{|}~', lower=True)\n",
    "tokenizer.fit_on_texts(preprocessedTweets)\n",
    "word_index = tokenizer.word_index\n",
    "print('Found %s unique tokens.' % len(word_index))\n"
   ]
  },
  {
   "cell_type": "code",
   "execution_count": 114,
   "metadata": {
    "colab": {
     "base_uri": "https://localhost:8080/",
     "height": 35
    },
    "colab_type": "code",
    "id": "re7GhV2iXla8",
    "outputId": "c5b0d8b9-c7f6-4d56-af06-a2b8f233112b"
   },
   "outputs": [
    {
     "name": "stdout",
     "output_type": "stream",
     "text": [
      "Shape of data tensor: (188973, 250)\n"
     ]
    }
   ],
   "source": [
    "X = tokenizer.texts_to_sequences(preprocessedTweets)\n",
    "X = pad_sequences(X, maxlen=MAX_SEQUENCE_LENGTH)\n",
    "print('Shape of data tensor:', X.shape)"
   ]
  },
  {
   "cell_type": "code",
   "execution_count": 115,
   "metadata": {
    "colab": {
     "base_uri": "https://localhost:8080/",
     "height": 35
    },
    "colab_type": "code",
    "id": "tpAhwpbMX5L-",
    "outputId": "19068900-185f-4ffc-e1d7-0f38042391a6"
   },
   "outputs": [
    {
     "data": {
      "text/plain": [
       "(188973, 3)"
      ]
     },
     "execution_count": 115,
     "metadata": {
      "tags": []
     },
     "output_type": "execute_result"
    }
   ],
   "source": [
    "y.shape"
   ]
  },
  {
   "cell_type": "code",
   "execution_count": 0,
   "metadata": {
    "colab": {},
    "colab_type": "code",
    "id": "hDZls1NcYdny"
   },
   "outputs": [],
   "source": [
    "x_train=X\n",
    "y_train=y"
   ]
  },
  {
   "cell_type": "code",
   "execution_count": 0,
   "metadata": {
    "colab": {},
    "colab_type": "code",
    "id": "ZPiDs7spYrvI"
   },
   "outputs": [],
   "source": [
    "\n",
    "#GET THE DATA FROM THE PANDAS FRAME\n",
    "headers=['id','tweet','subtask_a','subtask_b','subtask_c']\n",
    "englishdata = pd.read_csv(\"/content/drive/My Drive/EnglishData/OLIDv1.0/olid-training-v1.0.tsv\", delimiter='\\t',names=headers,low_memory=False)\n",
    "englishdata=englishdata[['id','tweet','subtask_c']]\n",
    "englishdata=englishdata[1:]"
   ]
  },
  {
   "cell_type": "code",
   "execution_count": 0,
   "metadata": {
    "colab": {},
    "colab_type": "code",
    "id": "xbrjgENsY0o8"
   },
   "outputs": [],
   "source": [
    "englishdata = englishdata.dropna(subset=['subtask_c'])"
   ]
  },
  {
   "cell_type": "code",
   "execution_count": 119,
   "metadata": {
    "colab": {
     "base_uri": "https://localhost:8080/",
     "height": 198
    },
    "colab_type": "code",
    "id": "kqyEoGaqZAzU",
    "outputId": "a22915ee-6a63-4258-d5fd-2afe2522ffa5"
   },
   "outputs": [
    {
     "data": {
      "text/html": [
       "<div>\n",
       "<style scoped>\n",
       "    .dataframe tbody tr th:only-of-type {\n",
       "        vertical-align: middle;\n",
       "    }\n",
       "\n",
       "    .dataframe tbody tr th {\n",
       "        vertical-align: top;\n",
       "    }\n",
       "\n",
       "    .dataframe thead th {\n",
       "        text-align: right;\n",
       "    }\n",
       "</style>\n",
       "<table border=\"1\" class=\"dataframe\">\n",
       "  <thead>\n",
       "    <tr style=\"text-align: right;\">\n",
       "      <th></th>\n",
       "      <th>id</th>\n",
       "      <th>tweet</th>\n",
       "      <th>subtask_c</th>\n",
       "    </tr>\n",
       "  </thead>\n",
       "  <tbody>\n",
       "    <tr>\n",
       "      <th>2</th>\n",
       "      <td>90194</td>\n",
       "      <td>@USER @USER Go home you’re drunk!!! @USER #MAG...</td>\n",
       "      <td>IND</td>\n",
       "    </tr>\n",
       "    <tr>\n",
       "      <th>6</th>\n",
       "      <td>97670</td>\n",
       "      <td>@USER Liberals are all Kookoo !!!</td>\n",
       "      <td>OTH</td>\n",
       "    </tr>\n",
       "    <tr>\n",
       "      <th>8</th>\n",
       "      <td>52415</td>\n",
       "      <td>@USER was literally just talking about this lo...</td>\n",
       "      <td>GRP</td>\n",
       "    </tr>\n",
       "    <tr>\n",
       "      <th>10</th>\n",
       "      <td>13384</td>\n",
       "      <td>@USER Canada doesn’t need another CUCK! We alr...</td>\n",
       "      <td>IND</td>\n",
       "    </tr>\n",
       "    <tr>\n",
       "      <th>13</th>\n",
       "      <td>28414</td>\n",
       "      <td>@USER you are a lying corrupt traitor!!! Nobod...</td>\n",
       "      <td>IND</td>\n",
       "    </tr>\n",
       "  </tbody>\n",
       "</table>\n",
       "</div>"
      ],
      "text/plain": [
       "       id                                              tweet subtask_c\n",
       "2   90194  @USER @USER Go home you’re drunk!!! @USER #MAG...       IND\n",
       "6   97670                  @USER Liberals are all Kookoo !!!       OTH\n",
       "8   52415  @USER was literally just talking about this lo...       GRP\n",
       "10  13384  @USER Canada doesn’t need another CUCK! We alr...       IND\n",
       "13  28414  @USER you are a lying corrupt traitor!!! Nobod...       IND"
      ]
     },
     "execution_count": 119,
     "metadata": {
      "tags": []
     },
     "output_type": "execute_result"
    }
   ],
   "source": [
    "englishdata.head()"
   ]
  },
  {
   "cell_type": "code",
   "execution_count": 0,
   "metadata": {
    "colab": {},
    "colab_type": "code",
    "id": "3XAi1jQ-ZjRQ"
   },
   "outputs": [],
   "source": [
    "import tensorflow as tf"
   ]
  },
  {
   "cell_type": "code",
   "execution_count": 0,
   "metadata": {
    "colab": {},
    "colab_type": "code",
    "id": "kSeWOamBfR_s"
   },
   "outputs": [],
   "source": [
    "dfnumpy=englishdata.to_numpy()\n",
    "x_test=dfnumpy[:, 1].reshape(-1, 1)\n",
    "y_test=dfnumpy[:, 2].reshape(-1, 1)"
   ]
  },
  {
   "cell_type": "code",
   "execution_count": 122,
   "metadata": {
    "colab": {
     "base_uri": "https://localhost:8080/",
     "height": 145
    },
    "colab_type": "code",
    "id": "ZNQoqRTDftGd",
    "outputId": "7184c502-274d-4f3f-9ac2-e4bc88ced2ce"
   },
   "outputs": [
    {
     "data": {
      "text/plain": [
       "array([['IND'],\n",
       "       ['OTH'],\n",
       "       ['GRP'],\n",
       "       ...,\n",
       "       ['GRP'],\n",
       "       ['IND'],\n",
       "       ['OTH']], dtype=object)"
      ]
     },
     "execution_count": 122,
     "metadata": {
      "tags": []
     },
     "output_type": "execute_result"
    }
   ],
   "source": [
    "y_test"
   ]
  },
  {
   "cell_type": "code",
   "execution_count": 123,
   "metadata": {
    "colab": {
     "base_uri": "https://localhost:8080/",
     "height": 35
    },
    "colab_type": "code",
    "id": "qy4yoE9-gVmS",
    "outputId": "4e906532-ad32-4efb-e0fa-2be4bacd62bc"
   },
   "outputs": [
    {
     "data": {
      "text/plain": [
       "array(['IND', 'OTH', 'GRP', ..., 'GRP', 'IND', 'OTH'], dtype=object)"
      ]
     },
     "execution_count": 123,
     "metadata": {
      "tags": []
     },
     "output_type": "execute_result"
    }
   ],
   "source": [
    "y_test.flatten()"
   ]
  },
  {
   "cell_type": "code",
   "execution_count": 0,
   "metadata": {
    "colab": {},
    "colab_type": "code",
    "id": "AnDnO3srfElI"
   },
   "outputs": [],
   "source": [
    "from sklearn.metrics import f1_score\n",
    "from sklearn.metrics import accuracy_score\n",
    "\n",
    "def f1_calc(predictions,labels):\n",
    "  #rowwise return the index of the max element ie 0 or 1 depending on the maximum value returned\n",
    "  predictionArgmax=np.argmax(predictions,axis=1).to('cpu').numpy().flatten()\n",
    "  labelsFlattend=np.argmax(predictions,axis=1).to('cpu').numpy().flatten()\n",
    "  print(predictions)\n",
    "  print(\"Predictions Argmax\",predictionArgmax)\n",
    "  print(\"labels Flattened\",labelsFlattend)   \n",
    "  return f1_score(labelsFlattend, predictionArgmax, average='macro')"
   ]
  },
  {
   "cell_type": "code",
   "execution_count": 125,
   "metadata": {
    "colab": {
     "base_uri": "https://localhost:8080/",
     "height": 35
    },
    "colab_type": "code",
    "id": "9pnpWHzpf5av",
    "outputId": "a65e4892-5552-4412-a196-156fc85a1d07"
   },
   "outputs": [
    {
     "data": {
      "text/plain": [
       "3876"
      ]
     },
     "execution_count": 125,
     "metadata": {
      "tags": []
     },
     "output_type": "execute_result"
    }
   ],
   "source": [
    "len(y_test)"
   ]
  },
  {
   "cell_type": "code",
   "execution_count": 0,
   "metadata": {
    "colab": {},
    "colab_type": "code",
    "id": "_kmqo_U_hu2N"
   },
   "outputs": [],
   "source": [
    "#f1 inspired from \n",
    "#https://datascience.stackexchange.com/questions/45165/how-to-get-accuracy-f1-precision-and-recall-for-a-keras-model"
   ]
  },
  {
   "cell_type": "code",
   "execution_count": 127,
   "metadata": {
    "colab": {
     "base_uri": "https://localhost:8080/",
     "height": 145
    },
    "colab_type": "code",
    "id": "EPmR_vZuZHrg",
    "outputId": "f2693f82-0362-4ca2-ccb0-71001b20bef2"
   },
   "outputs": [
    {
     "name": "stdout",
     "output_type": "stream",
     "text": [
      "Train on 170075 samples, validate on 18898 samples\n",
      "Epoch 1/3\n",
      "170075/170075 [==============================] - 1663s 10ms/step - loss: 1.0369 - acc: 0.8641 - val_loss: 1.0305 - val_acc: 0.8744\n",
      "Epoch 2/3\n",
      "170075/170075 [==============================] - 1660s 10ms/step - loss: 1.0281 - acc: 0.8793 - val_loss: 1.0299 - val_acc: 0.8764\n",
      "Epoch 3/3\n",
      "170075/170075 [==============================] - 1668s 10ms/step - loss: 1.0255 - acc: 0.8865 - val_loss: 1.0302 - val_acc: 0.8778\n"
     ]
    }
   ],
   "source": [
    "model = Sequential()\n",
    "model.add(Embedding(MAX_NB_WORDS, EMBEDDING_DIM, input_length=x_train.shape[1]))\n",
    "model.add(SpatialDropout1D(0.2))\n",
    "model.add(LSTM(100, dropout=0.2, recurrent_dropout=0.2))\n",
    "model.add(Dense(3, activation='softmax'))\n",
    "model.compile(loss='categorical_crossentropy', optimizer='adam', metrics=['accuracy'])\n",
    "\n",
    "epochs = 3\n",
    "batch_size = 64\n",
    "\n",
    "history = model.fit(x_train, y_train, epochs=epochs, batch_size=batch_size,validation_split=0.1,callbacks=[EarlyStopping(monitor='val_loss', patience=3, min_delta=0.0001)])"
   ]
  },
  {
   "cell_type": "code",
   "execution_count": 128,
   "metadata": {
    "colab": {
     "base_uri": "https://localhost:8080/",
     "height": 183
    },
    "colab_type": "code",
    "id": "yObShLEjikHD",
    "outputId": "8741561d-9c15-4aa1-be72-bbaab116e13c"
   },
   "outputs": [
    {
     "data": {
      "text/plain": [
       "array([['@USER @USER Go home you’re drunk!!! @USER #MAGA #Trump2020 👊🇺🇸👊 URL'],\n",
       "       ['@USER Liberals are all Kookoo !!!'],\n",
       "       ['@USER was literally just talking about this lol all mass shootings like that have been set ups. it’s propaganda used to divide us on major issues like gun control and terrorism'],\n",
       "       ...,\n",
       "       ['@USER @USER @USER @USER Liars like the Antifa twins you vigorously defend?'],\n",
       "       ['@USER Sometimes I get strong vibes from people and this man’s vibe is tens of millions of murders - he is more dangerous than DT.'],\n",
       "       [\"@USER And why report this garbage.  We don't give a crap.\"]],\n",
       "      dtype=object)"
      ]
     },
     "execution_count": 128,
     "metadata": {
      "tags": []
     },
     "output_type": "execute_result"
    }
   ],
   "source": [
    "x_test"
   ]
  },
  {
   "cell_type": "code",
   "execution_count": 0,
   "metadata": {
    "colab": {},
    "colab_type": "code",
    "id": "MyWlozOEivho"
   },
   "outputs": [],
   "source": [
    "preprocessedTweets1=preprocessinglib(x_test[:,0])"
   ]
  },
  {
   "cell_type": "code",
   "execution_count": 130,
   "metadata": {
    "colab": {
     "base_uri": "https://localhost:8080/",
     "height": 35
    },
    "colab_type": "code",
    "id": "tloiaAJEf4Ix",
    "outputId": "c6970cdc-2346-4c42-901b-b9d2bbe3ccd1"
   },
   "outputs": [
    {
     "name": "stdout",
     "output_type": "stream",
     "text": [
      "Shape of data tensor: (3876, 250)\n"
     ]
    }
   ],
   "source": [
    "X_1 = tokenizer.texts_to_sequences(preprocessedTweets1)\n",
    "X_test = pad_sequences(X_1, maxlen=MAX_SEQUENCE_LENGTH)\n",
    "print('Shape of data tensor:', X_test.shape)"
   ]
  },
  {
   "cell_type": "code",
   "execution_count": 0,
   "metadata": {
    "colab": {},
    "colab_type": "code",
    "id": "BtgkOJEs-oNh"
   },
   "outputs": [],
   "source": [
    "def giveLabel2(y1):\n",
    "  i=0\n",
    "  largest_index=0\n",
    "  #label1=['IND','GRP','OTH']\n",
    "  ylabels=[]\n",
    "  for r in y1:\n",
    "    if (r==\"IND\"): \n",
    "        largest_index = 0 \n",
    "    elif (r==\"GRP\"):\n",
    "        largest_index = 1 \n",
    "    else: \n",
    "        largest_index = 2 \n",
    "    \n",
    "    ylabels.append(largest_index)\n",
    "    i=i+1;\n",
    "  return ylabels"
   ]
  },
  {
   "cell_type": "code",
   "execution_count": 0,
   "metadata": {
    "colab": {},
    "colab_type": "code",
    "id": "E4t9tiul-09y"
   },
   "outputs": [],
   "source": [
    "yz=giveLabel2(y_test)"
   ]
  },
  {
   "cell_type": "code",
   "execution_count": 133,
   "metadata": {
    "colab": {
     "base_uri": "https://localhost:8080/",
     "height": 35
    },
    "colab_type": "code",
    "id": "dJ2avTzU-_6g",
    "outputId": "d8f10a79-3ff2-44e4-ed3b-111a903ca76e"
   },
   "outputs": [
    {
     "data": {
      "text/plain": [
       "{0, 1, 2}"
      ]
     },
     "execution_count": 133,
     "metadata": {
      "tags": []
     },
     "output_type": "execute_result"
    }
   ],
   "source": [
    "set(yz)"
   ]
  },
  {
   "cell_type": "code",
   "execution_count": 0,
   "metadata": {
    "colab": {},
    "colab_type": "code",
    "id": "VLoYQpvi94Nx"
   },
   "outputs": [],
   "source": [
    "# encode class values as integers\n",
    "encoder = LabelEncoder()\n",
    "encoder.fit(yz)\n",
    "encoded_Y = encoder.transform(yz)\n",
    "# convert integers to dummy variables (i.e. one hot encoded)\n",
    "dummy_y = np_utils.to_categorical(encoded_Y)"
   ]
  },
  {
   "cell_type": "code",
   "execution_count": 135,
   "metadata": {
    "colab": {
     "base_uri": "https://localhost:8080/",
     "height": 145
    },
    "colab_type": "code",
    "id": "hprtjamF-_Q3",
    "outputId": "a94546c7-5281-4954-f8c6-819574e13988"
   },
   "outputs": [
    {
     "data": {
      "text/plain": [
       "array([[1., 0., 0.],\n",
       "       [0., 0., 1.],\n",
       "       [0., 1., 0.],\n",
       "       ...,\n",
       "       [0., 1., 0.],\n",
       "       [1., 0., 0.],\n",
       "       [0., 0., 1.]], dtype=float32)"
      ]
     },
     "execution_count": 135,
     "metadata": {
      "tags": []
     },
     "output_type": "execute_result"
    }
   ],
   "source": [
    "dummy_y"
   ]
  },
  {
   "cell_type": "code",
   "execution_count": 136,
   "metadata": {
    "colab": {
     "base_uri": "https://localhost:8080/",
     "height": 72
    },
    "colab_type": "code",
    "id": "om4bW22TCBAX",
    "outputId": "ac332117-ad5d-4822-bb11-583545db582c"
   },
   "outputs": [
    {
     "name": "stdout",
     "output_type": "stream",
     "text": [
      "Requirement already satisfied: h5py in /usr/local/lib/python3.6/dist-packages (2.8.0)\n",
      "Requirement already satisfied: numpy>=1.7 in /usr/local/lib/python3.6/dist-packages (from h5py) (1.17.5)\n",
      "Requirement already satisfied: six in /usr/local/lib/python3.6/dist-packages (from h5py) (1.12.0)\n"
     ]
    }
   ],
   "source": [
    "pip install h5py"
   ]
  },
  {
   "cell_type": "code",
   "execution_count": 137,
   "metadata": {
    "colab": {
     "base_uri": "https://localhost:8080/",
     "height": 35
    },
    "colab_type": "code",
    "id": "VgKS0NlS-Ab7",
    "outputId": "e1e736af-d885-4e41-8e2b-034b2224d164"
   },
   "outputs": [
    {
     "data": {
      "text/plain": [
       "array([0, 1, 2])"
      ]
     },
     "execution_count": 137,
     "metadata": {
      "tags": []
     },
     "output_type": "execute_result"
    }
   ],
   "source": [
    "encoder.classes_"
   ]
  },
  {
   "cell_type": "code",
   "execution_count": 0,
   "metadata": {
    "colab": {},
    "colab_type": "code",
    "id": "mEaCkDKwCGc-"
   },
   "outputs": [],
   "source": [
    "\n",
    "# serialize model to JSON\n",
    "model_json = model.to_json()\n",
    "with open(\"model.json\", \"w\") as json_file:\n",
    "    json_file.write(model_json)\n",
    "# serialize weights to HDF5\n",
    "model.save_weights(\"SubtaskCEnglishData.h5\")"
   ]
  },
  {
   "cell_type": "code",
   "execution_count": 0,
   "metadata": {
    "colab": {},
    "colab_type": "code",
    "id": "u2HSwB5BEgD8"
   },
   "outputs": [],
   "source": [
    "from keras.models import model_from_json\n"
   ]
  },
  {
   "cell_type": "code",
   "execution_count": 140,
   "metadata": {
    "colab": {
     "base_uri": "https://localhost:8080/",
     "height": 35
    },
    "colab_type": "code",
    "id": "c1uiK6awCXUV",
    "outputId": "133ada1f-123e-4d2a-a7ea-2611c1df9a63"
   },
   "outputs": [
    {
     "name": "stdout",
     "output_type": "stream",
     "text": [
      "Loaded model from disk\n"
     ]
    }
   ],
   "source": [
    "# load json and create model\n",
    "json_file = open('model.json', 'r')\n",
    "loaded_model_json = json_file.read()\n",
    "json_file.close()\n",
    "loaded_model = model_from_json(loaded_model_json)\n",
    "# load weights into new model\n",
    "loaded_model.load_weights(\"SubtaskCEnglishData.h5\")\n",
    "print(\"Loaded model from disk\")"
   ]
  },
  {
   "cell_type": "code",
   "execution_count": 141,
   "metadata": {
    "colab": {
     "base_uri": "https://localhost:8080/",
     "height": 90
    },
    "colab_type": "code",
    "id": "_WTOB5JVZV-W",
    "outputId": "ffa93ac9-da0f-4511-a9a2-ea3af15f34e9"
   },
   "outputs": [
    {
     "name": "stdout",
     "output_type": "stream",
     "text": [
      "3876/3876 [==============================] - 9s 2ms/step\n",
      "Test set\n",
      "  Loss: 0.748\n",
      "  Accuracy: 0.755\n"
     ]
    }
   ],
   "source": [
    "score= model.evaluate(X_test,dummy_y)\n",
    "print('Test set\\n  Loss: {:0.3f}\\n  Accuracy: {:0.3f}'.format(score[0],score[1]))"
   ]
  },
  {
   "cell_type": "code",
   "execution_count": 0,
   "metadata": {
    "colab": {},
    "colab_type": "code",
    "id": "5LAGOO1RYDoO"
   },
   "outputs": [],
   "source": [
    "yvalid=model.predict_classes(X_test)"
   ]
  },
  {
   "cell_type": "code",
   "execution_count": 143,
   "metadata": {
    "colab": {
     "base_uri": "https://localhost:8080/",
     "height": 35
    },
    "colab_type": "code",
    "id": "vCr8JEs_GXbK",
    "outputId": "ffe35ddc-81c4-44a8-c0cd-5203f1700a60"
   },
   "outputs": [
    {
     "data": {
      "text/plain": [
       "numpy.ndarray"
      ]
     },
     "execution_count": 143,
     "metadata": {
      "tags": []
     },
     "output_type": "execute_result"
    }
   ],
   "source": [
    "type(X_test)"
   ]
  },
  {
   "cell_type": "code",
   "execution_count": 0,
   "metadata": {
    "colab": {},
    "colab_type": "code",
    "id": "PdghWOjxF98G"
   },
   "outputs": [],
   "source": [
    "from sklearn.metrics import f1_score\n",
    "from sklearn.metrics import accuracy_score\n",
    "\n",
    "def calculateF1Score(predictions,labels):\n",
    "  #rowwise return the index of the max element ie 0 or 1 depending on the maximum value returned\n",
    "  predictionArgmax=predictions.flatten()\n",
    "  labelsFlattend=labels.flatten()\n",
    "  #print(\"Predictions Argmax\",predictionArgmax)\n",
    "  #print(\"labels Flattened\",labelsFlattend)   \n",
    "  return f1_score(labelsFlattend, predictionArgmax, average='macro'),accuracy_score(labelsFlattend, predictionArgmax)\n",
    "\n"
   ]
  },
  {
   "cell_type": "code",
   "execution_count": 0,
   "metadata": {
    "colab": {},
    "colab_type": "code",
    "id": "qDzj449-GqJS"
   },
   "outputs": [],
   "source": []
  },
  {
   "cell_type": "code",
   "execution_count": 0,
   "metadata": {
    "colab": {},
    "colab_type": "code",
    "id": "58RB8sbBFhNu"
   },
   "outputs": [],
   "source": [
    "f11,acc=calculateF1Score(yvalid,encoded_Y)"
   ]
  },
  {
   "cell_type": "code",
   "execution_count": 146,
   "metadata": {
    "colab": {
     "base_uri": "https://localhost:8080/",
     "height": 35
    },
    "colab_type": "code",
    "id": "Rh9Iph4mGD-6",
    "outputId": "9a92767e-76f0-464a-c64e-98972b9f7b00"
   },
   "outputs": [
    {
     "data": {
      "text/plain": [
       "0.7551599587203303"
      ]
     },
     "execution_count": 146,
     "metadata": {
      "tags": []
     },
     "output_type": "execute_result"
    }
   ],
   "source": [
    "acc"
   ]
  },
  {
   "cell_type": "code",
   "execution_count": 147,
   "metadata": {
    "colab": {
     "base_uri": "https://localhost:8080/",
     "height": 35
    },
    "colab_type": "code",
    "id": "K6BAkNvIFrdS",
    "outputId": "f99dd82c-da93-4410-cf8c-d1c4ba326d3b"
   },
   "outputs": [
    {
     "data": {
      "text/plain": [
       "0.6342716238334246"
      ]
     },
     "execution_count": 147,
     "metadata": {
      "tags": []
     },
     "output_type": "execute_result"
    }
   ],
   "source": [
    "f11"
   ]
  },
  {
   "cell_type": "code",
   "execution_count": 0,
   "metadata": {
    "colab": {},
    "colab_type": "code",
    "id": "UEfQpnBOLXXV"
   },
   "outputs": [],
   "source": [
    "ygiven=[]\n",
    "ypredicted=[]"
   ]
  },
  {
   "cell_type": "code",
   "execution_count": 0,
   "metadata": {
    "colab": {},
    "colab_type": "code",
    "id": "2a0FKPfsNobT"
   },
   "outputs": [],
   "source": []
  },
  {
   "cell_type": "code",
   "execution_count": 149,
   "metadata": {
    "colab": {
     "base_uri": "https://localhost:8080/",
     "height": 340
    },
    "colab_type": "code",
    "id": "ou207z2INRfH",
    "outputId": "a00944ad-6225-48d9-f17a-bd0faef73c91"
   },
   "outputs": [
    {
     "name": "stdout",
     "output_type": "stream",
     "text": [
      "replace test_c_baseline.csv? [y]es, [n]o, [A]ll, [N]one, [r]ename: "
     ]
    },
    {
     "ename": "KeyboardInterrupt",
     "evalue": "ignored",
     "output_type": "error",
     "traceback": [
      "\u001b[0;31m---------------------------------------------------------------------------\u001b[0m",
      "\u001b[0;31mKeyboardInterrupt\u001b[0m                         Traceback (most recent call last)",
      "\u001b[0;32m<ipython-input-149-2ca7422cc614>\u001b[0m in \u001b[0;36m<module>\u001b[0;34m()\u001b[0m\n\u001b[0;32m----> 1\u001b[0;31m \u001b[0mget_ipython\u001b[0m\u001b[0;34m(\u001b[0m\u001b[0;34m)\u001b[0m\u001b[0;34m.\u001b[0m\u001b[0msystem\u001b[0m\u001b[0;34m(\u001b[0m\u001b[0;34m\"unzip -P ****** -qq '/content/drive/My Drive/EnglishData/test_c_baseline.csv.zip' \"\u001b[0m\u001b[0;34m)\u001b[0m\u001b[0;34m\u001b[0m\u001b[0;34m\u001b[0m\u001b[0m\n\u001b[0m",
      "\u001b[0;32m/usr/local/lib/python3.6/dist-packages/google/colab/_shell.py\u001b[0m in \u001b[0;36msystem\u001b[0;34m(self, *args, **kwargs)\u001b[0m\n\u001b[1;32m     94\u001b[0m       \u001b[0mkwargs\u001b[0m\u001b[0;34m.\u001b[0m\u001b[0mupdate\u001b[0m\u001b[0;34m(\u001b[0m\u001b[0;34m{\u001b[0m\u001b[0;34m'also_return_output'\u001b[0m\u001b[0;34m:\u001b[0m \u001b[0;32mTrue\u001b[0m\u001b[0;34m}\u001b[0m\u001b[0;34m)\u001b[0m\u001b[0;34m\u001b[0m\u001b[0;34m\u001b[0m\u001b[0m\n\u001b[1;32m     95\u001b[0m \u001b[0;34m\u001b[0m\u001b[0m\n\u001b[0;32m---> 96\u001b[0;31m     \u001b[0moutput\u001b[0m \u001b[0;34m=\u001b[0m \u001b[0m_system_commands\u001b[0m\u001b[0;34m.\u001b[0m\u001b[0m_system_compat\u001b[0m\u001b[0;34m(\u001b[0m\u001b[0mself\u001b[0m\u001b[0;34m,\u001b[0m \u001b[0;34m*\u001b[0m\u001b[0margs\u001b[0m\u001b[0;34m,\u001b[0m \u001b[0;34m**\u001b[0m\u001b[0mkwargs\u001b[0m\u001b[0;34m)\u001b[0m  \u001b[0;31m# pylint:disable=protected-access\u001b[0m\u001b[0;34m\u001b[0m\u001b[0;34m\u001b[0m\u001b[0m\n\u001b[0m\u001b[1;32m     97\u001b[0m \u001b[0;34m\u001b[0m\u001b[0m\n\u001b[1;32m     98\u001b[0m     \u001b[0;32mif\u001b[0m \u001b[0mpip_warn\u001b[0m\u001b[0;34m:\u001b[0m\u001b[0;34m\u001b[0m\u001b[0;34m\u001b[0m\u001b[0m\n",
      "\u001b[0;32m/usr/local/lib/python3.6/dist-packages/google/colab/_system_commands.py\u001b[0m in \u001b[0;36m_system_compat\u001b[0;34m(shell, cmd, also_return_output)\u001b[0m\n\u001b[1;32m    436\u001b[0m   \u001b[0;31m# stack.\u001b[0m\u001b[0;34m\u001b[0m\u001b[0;34m\u001b[0m\u001b[0;34m\u001b[0m\u001b[0m\n\u001b[1;32m    437\u001b[0m   result = _run_command(\n\u001b[0;32m--> 438\u001b[0;31m       shell.var_expand(cmd, depth=2), clear_streamed_output=False)\n\u001b[0m\u001b[1;32m    439\u001b[0m   \u001b[0mshell\u001b[0m\u001b[0;34m.\u001b[0m\u001b[0muser_ns\u001b[0m\u001b[0;34m[\u001b[0m\u001b[0;34m'_exit_code'\u001b[0m\u001b[0;34m]\u001b[0m \u001b[0;34m=\u001b[0m \u001b[0mresult\u001b[0m\u001b[0;34m.\u001b[0m\u001b[0mreturncode\u001b[0m\u001b[0;34m\u001b[0m\u001b[0;34m\u001b[0m\u001b[0m\n\u001b[1;32m    440\u001b[0m   \u001b[0;32mif\u001b[0m \u001b[0;34m-\u001b[0m\u001b[0mresult\u001b[0m\u001b[0;34m.\u001b[0m\u001b[0mreturncode\u001b[0m \u001b[0;32min\u001b[0m \u001b[0m_INTERRUPTED_SIGNALS\u001b[0m\u001b[0;34m:\u001b[0m\u001b[0;34m\u001b[0m\u001b[0;34m\u001b[0m\u001b[0m\n",
      "\u001b[0;32m/usr/local/lib/python3.6/dist-packages/google/colab/_system_commands.py\u001b[0m in \u001b[0;36m_run_command\u001b[0;34m(cmd, clear_streamed_output)\u001b[0m\n\u001b[1;32m    193\u001b[0m       \u001b[0mos\u001b[0m\u001b[0;34m.\u001b[0m\u001b[0mclose\u001b[0m\u001b[0;34m(\u001b[0m\u001b[0mchild_pty\u001b[0m\u001b[0;34m)\u001b[0m\u001b[0;34m\u001b[0m\u001b[0;34m\u001b[0m\u001b[0m\n\u001b[1;32m    194\u001b[0m \u001b[0;34m\u001b[0m\u001b[0m\n\u001b[0;32m--> 195\u001b[0;31m       \u001b[0;32mreturn\u001b[0m \u001b[0m_monitor_process\u001b[0m\u001b[0;34m(\u001b[0m\u001b[0mparent_pty\u001b[0m\u001b[0;34m,\u001b[0m \u001b[0mepoll\u001b[0m\u001b[0;34m,\u001b[0m \u001b[0mp\u001b[0m\u001b[0;34m,\u001b[0m \u001b[0mcmd\u001b[0m\u001b[0;34m,\u001b[0m \u001b[0mupdate_stdin_widget\u001b[0m\u001b[0;34m)\u001b[0m\u001b[0;34m\u001b[0m\u001b[0;34m\u001b[0m\u001b[0m\n\u001b[0m\u001b[1;32m    196\u001b[0m   \u001b[0;32mfinally\u001b[0m\u001b[0;34m:\u001b[0m\u001b[0;34m\u001b[0m\u001b[0;34m\u001b[0m\u001b[0m\n\u001b[1;32m    197\u001b[0m     \u001b[0mepoll\u001b[0m\u001b[0;34m.\u001b[0m\u001b[0mclose\u001b[0m\u001b[0;34m(\u001b[0m\u001b[0;34m)\u001b[0m\u001b[0;34m\u001b[0m\u001b[0;34m\u001b[0m\u001b[0m\n",
      "\u001b[0;32m/usr/lib/python3.6/contextlib.py\u001b[0m in \u001b[0;36m__exit__\u001b[0;34m(self, type, value, traceback)\u001b[0m\n\u001b[1;32m     86\u001b[0m         \u001b[0;32mif\u001b[0m \u001b[0mtype\u001b[0m \u001b[0;32mis\u001b[0m \u001b[0;32mNone\u001b[0m\u001b[0;34m:\u001b[0m\u001b[0;34m\u001b[0m\u001b[0;34m\u001b[0m\u001b[0m\n\u001b[1;32m     87\u001b[0m             \u001b[0;32mtry\u001b[0m\u001b[0;34m:\u001b[0m\u001b[0;34m\u001b[0m\u001b[0;34m\u001b[0m\u001b[0m\n\u001b[0;32m---> 88\u001b[0;31m                 \u001b[0mnext\u001b[0m\u001b[0;34m(\u001b[0m\u001b[0mself\u001b[0m\u001b[0;34m.\u001b[0m\u001b[0mgen\u001b[0m\u001b[0;34m)\u001b[0m\u001b[0;34m\u001b[0m\u001b[0;34m\u001b[0m\u001b[0m\n\u001b[0m\u001b[1;32m     89\u001b[0m             \u001b[0;32mexcept\u001b[0m \u001b[0mStopIteration\u001b[0m\u001b[0;34m:\u001b[0m\u001b[0;34m\u001b[0m\u001b[0;34m\u001b[0m\u001b[0m\n\u001b[1;32m     90\u001b[0m                 \u001b[0;32mreturn\u001b[0m \u001b[0;32mFalse\u001b[0m\u001b[0;34m\u001b[0m\u001b[0;34m\u001b[0m\u001b[0m\n",
      "\u001b[0;32m/usr/local/lib/python3.6/dist-packages/google/colab/_system_commands.py\u001b[0m in \u001b[0;36m_display_stdin_widget\u001b[0;34m(delay_millis)\u001b[0m\n\u001b[1;32m    353\u001b[0m \u001b[0;34m\u001b[0m\u001b[0m\n\u001b[1;32m    354\u001b[0m   \u001b[0mhide_args\u001b[0m \u001b[0;34m=\u001b[0m \u001b[0;34m[\u001b[0m\u001b[0;34m'cell_remove_stdin'\u001b[0m\u001b[0;34m,\u001b[0m \u001b[0;34m{\u001b[0m\u001b[0;34m}\u001b[0m\u001b[0;34m]\u001b[0m\u001b[0;34m\u001b[0m\u001b[0;34m\u001b[0m\u001b[0m\n\u001b[0;32m--> 355\u001b[0;31m   \u001b[0m_message\u001b[0m\u001b[0;34m.\u001b[0m\u001b[0mblocking_request\u001b[0m\u001b[0;34m(\u001b[0m\u001b[0;34m*\u001b[0m\u001b[0mhide_args\u001b[0m\u001b[0;34m,\u001b[0m \u001b[0mparent\u001b[0m\u001b[0;34m=\u001b[0m\u001b[0mshell\u001b[0m\u001b[0;34m.\u001b[0m\u001b[0mparent_header\u001b[0m\u001b[0;34m)\u001b[0m\u001b[0;34m\u001b[0m\u001b[0;34m\u001b[0m\u001b[0m\n\u001b[0m\u001b[1;32m    356\u001b[0m \u001b[0;34m\u001b[0m\u001b[0m\n\u001b[1;32m    357\u001b[0m \u001b[0;34m\u001b[0m\u001b[0m\n",
      "\u001b[0;32m/usr/local/lib/python3.6/dist-packages/google/colab/_message.py\u001b[0m in \u001b[0;36mblocking_request\u001b[0;34m(request_type, request, timeout_sec, parent)\u001b[0m\n\u001b[1;32m    169\u001b[0m   \u001b[0;31m# unique.\u001b[0m\u001b[0;34m\u001b[0m\u001b[0;34m\u001b[0m\u001b[0;34m\u001b[0m\u001b[0m\n\u001b[1;32m    170\u001b[0m   \u001b[0mrequest_id\u001b[0m \u001b[0;34m=\u001b[0m \u001b[0msend_request\u001b[0m\u001b[0;34m(\u001b[0m\u001b[0mrequest_type\u001b[0m\u001b[0;34m,\u001b[0m \u001b[0mrequest\u001b[0m\u001b[0;34m,\u001b[0m \u001b[0mparent\u001b[0m\u001b[0;34m=\u001b[0m\u001b[0mparent\u001b[0m\u001b[0;34m)\u001b[0m\u001b[0;34m\u001b[0m\u001b[0;34m\u001b[0m\u001b[0m\n\u001b[0;32m--> 171\u001b[0;31m   \u001b[0;32mreturn\u001b[0m \u001b[0mread_reply_from_input\u001b[0m\u001b[0;34m(\u001b[0m\u001b[0mrequest_id\u001b[0m\u001b[0;34m,\u001b[0m \u001b[0mtimeout_sec\u001b[0m\u001b[0;34m)\u001b[0m\u001b[0;34m\u001b[0m\u001b[0;34m\u001b[0m\u001b[0m\n\u001b[0m",
      "\u001b[0;32m/usr/local/lib/python3.6/dist-packages/google/colab/_message.py\u001b[0m in \u001b[0;36mread_reply_from_input\u001b[0;34m(message_id, timeout_sec)\u001b[0m\n\u001b[1;32m     99\u001b[0m     \u001b[0mreply\u001b[0m \u001b[0;34m=\u001b[0m \u001b[0m_read_next_input_message\u001b[0m\u001b[0;34m(\u001b[0m\u001b[0;34m)\u001b[0m\u001b[0;34m\u001b[0m\u001b[0;34m\u001b[0m\u001b[0m\n\u001b[1;32m    100\u001b[0m     \u001b[0;32mif\u001b[0m \u001b[0mreply\u001b[0m \u001b[0;34m==\u001b[0m \u001b[0m_NOT_READY\u001b[0m \u001b[0;32mor\u001b[0m \u001b[0;32mnot\u001b[0m \u001b[0misinstance\u001b[0m\u001b[0;34m(\u001b[0m\u001b[0mreply\u001b[0m\u001b[0;34m,\u001b[0m \u001b[0mdict\u001b[0m\u001b[0;34m)\u001b[0m\u001b[0;34m:\u001b[0m\u001b[0;34m\u001b[0m\u001b[0;34m\u001b[0m\u001b[0m\n\u001b[0;32m--> 101\u001b[0;31m       \u001b[0mtime\u001b[0m\u001b[0;34m.\u001b[0m\u001b[0msleep\u001b[0m\u001b[0;34m(\u001b[0m\u001b[0;36m0.025\u001b[0m\u001b[0;34m)\u001b[0m\u001b[0;34m\u001b[0m\u001b[0;34m\u001b[0m\u001b[0m\n\u001b[0m\u001b[1;32m    102\u001b[0m       \u001b[0;32mcontinue\u001b[0m\u001b[0;34m\u001b[0m\u001b[0;34m\u001b[0m\u001b[0m\n\u001b[1;32m    103\u001b[0m     if (reply.get('type') == 'colab_reply' and\n",
      "\u001b[0;31mKeyboardInterrupt\u001b[0m: "
     ]
    }
   ],
   "source": [
    "!unzip -P ****** -qq '/content/drive/My Drive/EnglishData/test_c_baseline.csv.zip' "
   ]
  },
  {
   "cell_type": "code",
   "execution_count": 0,
   "metadata": {
    "colab": {},
    "colab_type": "code",
    "id": "mHUf_RjRNpVl"
   },
   "outputs": [],
   "source": [
    "!unzip -P ****** -qq '/content/drive/My Drive/EnglishData/public_data_task_C.zip'"
   ]
  },
  {
   "cell_type": "code",
   "execution_count": 0,
   "metadata": {
    "colab": {},
    "colab_type": "code",
    "id": "vUY9Oq4tiVLV"
   },
   "outputs": [],
   "source": [
    "def readData1():\n",
    "  headers=['id','ypredicted']\n",
    "  greekdataBaseline = pd.read_csv(\"test_c_baseline.csv\", delimiter=',',names=headers)\n",
    "  #,converters={\"id\":convertToInt}       \n",
    "  #greekdataBaseline.id = greekdataBaseline.id.astype(int)\n",
    "  #greekdataBaseline=greekdataBaseline[1:]\n",
    "  print(greekdataBaseline.head())\n",
    "  print(greekdataBaseline.shape)\n",
    "\n",
    "  headers=['id','tweet']\n",
    "  greekDataTest = pd.read_csv(\"test_c_tweets.tsv\", delimiter='\\t',names=headers)\n",
    "                                #converters={\"id\":convertToInt})\n",
    "  #greekDataTest=greekDataTest[1:]\n",
    "  print(greekDataTest.head())\n",
    "  #print(greekDataTest.dtypes)\n",
    "  print(greekDataTest.shape)\n",
    "  result = pd.merge(greekDataTest, greekdataBaseline, on='id', how='inner')\n",
    "  print(result.head())\n",
    "  print(result.dtypes)\n",
    "  print(result.shape)\n",
    "\n",
    "  #result=\n",
    "  #result.sort_values(by=['id'], inplace=True)\n",
    "  #print(result.head())\n",
    "  dfnumpy=result.to_numpy();\n",
    "  X=dfnumpy[:, 1].reshape(-1, 1)\n",
    "  y=dfnumpy[:, 2].reshape(-1, 1)\n",
    "  tid=dfnumpy[:, 0].reshape(-1, 1)\n",
    "  preprocessedTweets=X[:,0]\n",
    "  return preprocessedTweets,y,tid"
   ]
  },
  {
   "cell_type": "code",
   "execution_count": 151,
   "metadata": {
    "colab": {
     "base_uri": "https://localhost:8080/",
     "height": 472
    },
    "colab_type": "code",
    "id": "wwg1ano7LZ0U",
    "outputId": "3467af86-454f-450d-9db9-f069e4d280e8"
   },
   "outputs": [
    {
     "name": "stdout",
     "output_type": "stream",
     "text": [
      "     id ypredicted\n",
      "0   BC0        IND\n",
      "1   BC3        IND\n",
      "2   BC9        IND\n",
      "3  BC10        IND\n",
      "4  BC19        IND\n",
      "(850, 2)\n",
      "     id                                              tweet\n",
      "0    id                                              tweet\n",
      "1   BC0  @USER Lmao bihhh dis what u do to your homies ...\n",
      "2   BC3  @USER The POTUS is a racist, racist, racist, r...\n",
      "3   BC9  @USER He then grinned, raising his brow.  Oh d...\n",
      "4  BC10         Niggas priorities be fucked all the way up\n",
      "(851, 2)\n",
      "     id                                              tweet ypredicted\n",
      "0   BC0  @USER Lmao bihhh dis what u do to your homies ...        IND\n",
      "1   BC3  @USER The POTUS is a racist, racist, racist, r...        IND\n",
      "2   BC9  @USER He then grinned, raising his brow.  Oh d...        IND\n",
      "3  BC10         Niggas priorities be fucked all the way up        IND\n",
      "4  BC19  You bitches really be walking around talking s...        IND\n",
      "id            object\n",
      "tweet         object\n",
      "ypredicted    object\n",
      "dtype: object\n",
      "(850, 3)\n"
     ]
    }
   ],
   "source": [
    "preprocessedTweets,ypredict1,tid=readData1()"
   ]
  },
  {
   "cell_type": "code",
   "execution_count": 152,
   "metadata": {
    "colab": {
     "base_uri": "https://localhost:8080/",
     "height": 35
    },
    "colab_type": "code",
    "id": "vdcRliJmGaqn",
    "outputId": "69f271fe-d1df-4876-f0ac-c73c658e9631"
   },
   "outputs": [
    {
     "data": {
      "text/plain": [
       "numpy.ndarray"
      ]
     },
     "execution_count": 152,
     "metadata": {
      "tags": []
     },
     "output_type": "execute_result"
    }
   ],
   "source": [
    "type(preprocessedTweets)"
   ]
  },
  {
   "cell_type": "code",
   "execution_count": 0,
   "metadata": {
    "colab": {},
    "colab_type": "code",
    "id": "EmMxxn_YShdP"
   },
   "outputs": [],
   "source": [
    "preprocessedTweets=preprocessinglib(preprocessedTweets)"
   ]
  },
  {
   "cell_type": "code",
   "execution_count": 154,
   "metadata": {
    "colab": {
     "base_uri": "https://localhost:8080/",
     "height": 35
    },
    "colab_type": "code",
    "id": "WKKEJU_cG1wl",
    "outputId": "cfd94657-58e0-43e9-b8ee-f732ed441a74"
   },
   "outputs": [
    {
     "name": "stdout",
     "output_type": "stream",
     "text": [
      "Shape of data tensor: (850, 250)\n"
     ]
    }
   ],
   "source": [
    "Xpredict = tokenizer.texts_to_sequences(preprocessedTweets)\n",
    "Xpredict = pad_sequences(Xpredict, maxlen=MAX_SEQUENCE_LENGTH)\n",
    "print('Shape of data tensor:', Xpredict.shape)"
   ]
  },
  {
   "cell_type": "code",
   "execution_count": 0,
   "metadata": {
    "colab": {},
    "colab_type": "code",
    "id": "8WoaOf7VYOHq"
   },
   "outputs": [],
   "source": [
    "ynew = model.predict_classes(Xpredict)"
   ]
  },
  {
   "cell_type": "code",
   "execution_count": 0,
   "metadata": {
    "colab": {},
    "colab_type": "code",
    "id": "UR-ajoMOStSm"
   },
   "outputs": [],
   "source": []
  },
  {
   "cell_type": "code",
   "execution_count": 0,
   "metadata": {
    "colab": {},
    "colab_type": "code",
    "id": "IfeaDCUdRJ-j"
   },
   "outputs": [],
   "source": [
    "yz=giveLabel2(ypredict1)"
   ]
  },
  {
   "cell_type": "code",
   "execution_count": 157,
   "metadata": {
    "colab": {
     "base_uri": "https://localhost:8080/",
     "height": 35
    },
    "colab_type": "code",
    "id": "YmaT7QgeRJ_C",
    "outputId": "e98ba5b9-59b7-4ed6-8f78-c6676e712b6b"
   },
   "outputs": [
    {
     "data": {
      "text/plain": [
       "{0}"
      ]
     },
     "execution_count": 157,
     "metadata": {
      "tags": []
     },
     "output_type": "execute_result"
    }
   ],
   "source": [
    "set(yz)"
   ]
  },
  {
   "cell_type": "code",
   "execution_count": 0,
   "metadata": {
    "colab": {},
    "colab_type": "code",
    "id": "IFU7qozGRJ_L"
   },
   "outputs": [],
   "source": [
    "encoded_Ypredict = encoder.transform(yz)\n"
   ]
  },
  {
   "cell_type": "code",
   "execution_count": 0,
   "metadata": {
    "colab": {},
    "colab_type": "code",
    "id": "W75Xr6iHTTuF"
   },
   "outputs": [],
   "source": [
    "f11,acc=calculateF1Score(ynew,encoded_Ypredict)"
   ]
  },
  {
   "cell_type": "code",
   "execution_count": 160,
   "metadata": {
    "colab": {
     "base_uri": "https://localhost:8080/",
     "height": 35
    },
    "colab_type": "code",
    "id": "ef629NijTzsR",
    "outputId": "a0c9f299-0b7a-4950-d535-151c2fd1b1f7"
   },
   "outputs": [
    {
     "data": {
      "text/plain": [
       "0.29312239068336626"
      ]
     },
     "execution_count": 160,
     "metadata": {
      "tags": []
     },
     "output_type": "execute_result"
    }
   ],
   "source": [
    "f11"
   ]
  },
  {
   "cell_type": "code",
   "execution_count": 161,
   "metadata": {
    "colab": {
     "base_uri": "https://localhost:8080/",
     "height": 35
    },
    "colab_type": "code",
    "id": "b0Azbt_nUFlU",
    "outputId": "4903abbe-ed00-44c8-e220-e3aeaec65814"
   },
   "outputs": [
    {
     "data": {
      "text/plain": [
       "0.7847058823529411"
      ]
     },
     "execution_count": 161,
     "metadata": {
      "tags": []
     },
     "output_type": "execute_result"
    }
   ],
   "source": [
    "acc"
   ]
  },
  {
   "cell_type": "code",
   "execution_count": 0,
   "metadata": {
    "colab": {},
    "colab_type": "code",
    "id": "Kkgq93UVUQ27"
   },
   "outputs": [],
   "source": []
  }
 ],
 "metadata": {
  "colab": {
   "collapsed_sections": [],
   "name": "subtaskcsoftlabels.ipynb",
   "provenance": []
  },
  "kernelspec": {
   "display_name": "Python 3",
   "language": "python",
   "name": "python3"
  },
  "language_info": {
   "codemirror_mode": {
    "name": "ipython",
    "version": 3
   },
   "file_extension": ".py",
   "mimetype": "text/x-python",
   "name": "python",
   "nbconvert_exporter": "python",
   "pygments_lexer": "ipython3",
   "version": "3.8.2"
  }
 },
 "nbformat": 4,
 "nbformat_minor": 1
}
