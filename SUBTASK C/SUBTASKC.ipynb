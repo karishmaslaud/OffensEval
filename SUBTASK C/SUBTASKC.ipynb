{
 "cells": [
  {
   "cell_type": "code",
   "execution_count": 1,
   "metadata": {
    "colab": {
     "base_uri": "https://localhost:8080/",
     "height": 680
    },
    "colab_type": "code",
    "id": "amsZ4bSdhBEP",
    "outputId": "8c165e9a-3578-41cc-fb44-6a7e97401e97"
   },
   "outputs": [
    {
     "name": "stdout",
     "output_type": "stream",
     "text": [
      "Collecting transformers\n",
      "\u001b[?25l  Downloading https://files.pythonhosted.org/packages/13/33/ffb67897a6985a7b7d8e5e7878c3628678f553634bd3836404fef06ef19b/transformers-2.5.1-py3-none-any.whl (499kB)\n",
      "\u001b[K     |████████████████████████████████| 501kB 2.8MB/s \n",
      "\u001b[?25hRequirement already satisfied: tqdm>=4.27 in /usr/local/lib/python3.6/dist-packages (from transformers) (4.28.1)\n",
      "Collecting sentencepiece\n",
      "\u001b[?25l  Downloading https://files.pythonhosted.org/packages/74/f4/2d5214cbf13d06e7cb2c20d84115ca25b53ea76fa1f0ade0e3c9749de214/sentencepiece-0.1.85-cp36-cp36m-manylinux1_x86_64.whl (1.0MB)\n",
      "\u001b[K     |████████████████████████████████| 1.0MB 9.5MB/s \n",
      "\u001b[?25hRequirement already satisfied: filelock in /usr/local/lib/python3.6/dist-packages (from transformers) (3.0.12)\n",
      "Collecting sacremoses\n",
      "\u001b[?25l  Downloading https://files.pythonhosted.org/packages/a6/b4/7a41d630547a4afd58143597d5a49e07bfd4c42914d8335b2a5657efc14b/sacremoses-0.0.38.tar.gz (860kB)\n",
      "\u001b[K     |████████████████████████████████| 870kB 19.6MB/s \n",
      "\u001b[?25hRequirement already satisfied: regex!=2019.12.17 in /usr/local/lib/python3.6/dist-packages (from transformers) (2019.12.20)\n",
      "Requirement already satisfied: requests in /usr/local/lib/python3.6/dist-packages (from transformers) (2.21.0)\n",
      "Collecting tokenizers==0.5.2\n",
      "\u001b[?25l  Downloading https://files.pythonhosted.org/packages/d1/3f/73c881ea4723e43c1e9acf317cf407fab3a278daab3a69c98dcac511c04f/tokenizers-0.5.2-cp36-cp36m-manylinux1_x86_64.whl (3.7MB)\n",
      "\u001b[K     |████████████████████████████████| 3.7MB 23.2MB/s \n",
      "\u001b[?25hRequirement already satisfied: boto3 in /usr/local/lib/python3.6/dist-packages (from transformers) (1.11.15)\n",
      "Requirement already satisfied: numpy in /usr/local/lib/python3.6/dist-packages (from transformers) (1.17.5)\n",
      "Requirement already satisfied: six in /usr/local/lib/python3.6/dist-packages (from sacremoses->transformers) (1.12.0)\n",
      "Requirement already satisfied: click in /usr/local/lib/python3.6/dist-packages (from sacremoses->transformers) (7.0)\n",
      "Requirement already satisfied: joblib in /usr/local/lib/python3.6/dist-packages (from sacremoses->transformers) (0.14.1)\n",
      "Requirement already satisfied: idna<2.9,>=2.5 in /usr/local/lib/python3.6/dist-packages (from requests->transformers) (2.8)\n",
      "Requirement already satisfied: urllib3<1.25,>=1.21.1 in /usr/local/lib/python3.6/dist-packages (from requests->transformers) (1.24.3)\n",
      "Requirement already satisfied: certifi>=2017.4.17 in /usr/local/lib/python3.6/dist-packages (from requests->transformers) (2019.11.28)\n",
      "Requirement already satisfied: chardet<3.1.0,>=3.0.2 in /usr/local/lib/python3.6/dist-packages (from requests->transformers) (3.0.4)\n",
      "Requirement already satisfied: jmespath<1.0.0,>=0.7.1 in /usr/local/lib/python3.6/dist-packages (from boto3->transformers) (0.9.4)\n",
      "Requirement already satisfied: botocore<1.15.0,>=1.14.15 in /usr/local/lib/python3.6/dist-packages (from boto3->transformers) (1.14.15)\n",
      "Requirement already satisfied: s3transfer<0.4.0,>=0.3.0 in /usr/local/lib/python3.6/dist-packages (from boto3->transformers) (0.3.3)\n",
      "Requirement already satisfied: python-dateutil<3.0.0,>=2.1 in /usr/local/lib/python3.6/dist-packages (from botocore<1.15.0,>=1.14.15->boto3->transformers) (2.6.1)\n",
      "Requirement already satisfied: docutils<0.16,>=0.10 in /usr/local/lib/python3.6/dist-packages (from botocore<1.15.0,>=1.14.15->boto3->transformers) (0.15.2)\n",
      "Building wheels for collected packages: sacremoses\n",
      "  Building wheel for sacremoses (setup.py) ... \u001b[?25l\u001b[?25hdone\n",
      "  Created wheel for sacremoses: filename=sacremoses-0.0.38-cp36-none-any.whl size=884628 sha256=183bd20c3728d6acf9645b1938ceeb8f8b37b06d056515a98b2f6c950317fdd4\n",
      "  Stored in directory: /root/.cache/pip/wheels/6d/ec/1a/21b8912e35e02741306f35f66c785f3afe94de754a0eaf1422\n",
      "Successfully built sacremoses\n",
      "Installing collected packages: sentencepiece, sacremoses, tokenizers, transformers\n",
      "Successfully installed sacremoses-0.0.38 sentencepiece-0.1.85 tokenizers-0.5.2 transformers-2.5.1\n"
     ]
    }
   ],
   "source": [
    "!pip install transformers"
   ]
  },
  {
   "cell_type": "code",
   "execution_count": 0,
   "metadata": {
    "colab": {},
    "colab_type": "code",
    "id": "Gv_0haJ-TSlk"
   },
   "outputs": [],
   "source": []
  },
  {
   "cell_type": "code",
   "execution_count": 0,
   "metadata": {
    "colab": {},
    "colab_type": "code",
    "id": "Ej4Vt62W39qJ"
   },
   "outputs": [],
   "source": [
    "# This training code is based on the `run_glue.py` script here:\n",
    "# https://github.com/huggingface/transformers/blob/5bfcd0485ece086ebcbed2d008813037968a9e58/examples/run_glue.py#L128\n",
    "#Also based on the following tutorials\n",
    "#https://mccormickml.com/2019/07/22/BERT-fine-tuning/"
   ]
  },
  {
   "cell_type": "code",
   "execution_count": 2,
   "metadata": {
    "colab": {
     "base_uri": "https://localhost:8080/",
     "height": 81
    },
    "colab_type": "code",
    "id": "46Fpl7WYdNu0",
    "outputId": "360098a9-61a4-49eb-fa1e-ab865b0be66f"
   },
   "outputs": [
    {
     "data": {
      "text/html": [
       "<p style=\"color: red;\">\n",
       "The default version of TensorFlow in Colab will soon switch to TensorFlow 2.x.<br>\n",
       "We recommend you <a href=\"https://www.tensorflow.org/guide/migrate\" target=\"_blank\">upgrade</a> now \n",
       "or ensure your notebook will continue to use TensorFlow 1.x via the <code>%tensorflow_version 1.x</code> magic:\n",
       "<a href=\"https://colab.research.google.com/notebooks/tensorflow_version.ipynb\" target=\"_blank\">more info</a>.</p>\n"
      ],
      "text/plain": [
       "<IPython.core.display.HTML object>"
      ]
     },
     "metadata": {
      "tags": []
     },
     "output_type": "display_data"
    },
    {
     "name": "stderr",
     "output_type": "stream",
     "text": [
      "Using TensorFlow backend.\n"
     ]
    }
   ],
   "source": [
    "import tensorflow as tf\n",
    "import torch\n",
    "\n",
    "import csv\n",
    "import pandas as pd\n",
    "import numpy as np\n",
    "from sklearn.model_selection import train_test_split\n",
    "\n",
    "\n",
    "from transformers import BertTokenizer as bertTokenizer\n",
    "from sklearn.model_selection import train_test_split\n",
    "from keras.preprocessing.sequence import pad_sequences\n",
    "from torch.utils.data import TensorDataset,DataLoader,RandomSampler,SequentialSampler\n",
    "\n",
    "from sklearn.svm import SVC\n",
    "from sklearn import preprocessing\n",
    "\n",
    "from transformers import BertForSequenceClassification as bfsc,AdamW,BertConfig\n",
    "from torch.utils.data import Dataset\n",
    "from transformers import get_linear_schedule_with_warmup\n",
    "\n"
   ]
  },
  {
   "cell_type": "code",
   "execution_count": 0,
   "metadata": {
    "colab": {},
    "colab_type": "code",
    "id": "R1nweMDxcWic"
   },
   "outputs": [],
   "source": [
    "gpuname=\"\"\n",
    "device=\"\"\n",
    "y=\"\"\n",
    "preprocessedTweets=\"\"\n",
    "ids_of_sentence=[]\n",
    "ids_of_sentence_words=[]\n"
   ]
  },
  {
   "cell_type": "code",
   "execution_count": 4,
   "metadata": {
    "colab": {
     "base_uri": "https://localhost:8080/",
     "height": 52
    },
    "colab_type": "code",
    "id": "lL3ZtD-zg4k1",
    "outputId": "81a84a4c-2b0b-4fb6-e1fc-ff3d73bb27b1"
   },
   "outputs": [
    {
     "name": "stdout",
     "output_type": "stream",
     "text": [
      "Found GPU at :/device:GPU:0\n",
      "The device name is Tesla K80\n"
     ]
    }
   ],
   "source": [
    "\n",
    "\n",
    "gpuname=tf.test.gpu_device_name()\n",
    "if gpuname=='/device:GPU:0':\n",
    "  print('Found GPU at :{}'.format(gpuname))\n",
    "else:\n",
    "  gpuname=\"\"\n",
    "if torch.cuda.is_available():\n",
    "  device=torch.device(\"cuda\")\n",
    "  n_gpu=torch.cuda.device_count()\n",
    "  print(\"The device name is %s\"%torch.cuda.get_device_name(0))\n",
    "else:\n",
    "  print(\"No GPU available using only CPU instead\")\n",
    "  device=torch.device(\"cpu\")\n",
    "\n",
    "\n"
   ]
  },
  {
   "cell_type": "code",
   "execution_count": 5,
   "metadata": {
    "colab": {
     "base_uri": "https://localhost:8080/",
     "height": 124
    },
    "colab_type": "code",
    "id": "SKdaEMufiiAu",
    "outputId": "d61d278a-c24b-44a7-de4d-df8e0be6c4b9"
   },
   "outputs": [
    {
     "name": "stdout",
     "output_type": "stream",
     "text": [
      "Go to this URL in a browser: https://accounts.google.com/o/oauth2/auth?client_id=947318989803-6bn6qk8qdgf4n4g3pfee6491hc0brc4i.apps.googleusercontent.com&redirect_uri=urn%3aietf%3awg%3aoauth%3a2.0%3aoob&response_type=code&scope=email%20https%3a%2f%2fwww.googleapis.com%2fauth%2fdocs.test%20https%3a%2f%2fwww.googleapis.com%2fauth%2fdrive%20https%3a%2f%2fwww.googleapis.com%2fauth%2fdrive.photos.readonly%20https%3a%2f%2fwww.googleapis.com%2fauth%2fpeopleapi.readonly\n",
      "\n",
      "Enter your authorization code:\n",
      "··········\n",
      "Mounted at /content/drive\n"
     ]
    }
   ],
   "source": [
    "from google.colab import drive\n",
    "drive.mount('/content/drive')"
   ]
  },
  {
   "cell_type": "code",
   "execution_count": 8,
   "metadata": {
    "colab": {
     "base_uri": "https://localhost:8080/",
     "height": 34
    },
    "colab_type": "code",
    "id": "0iCZDHmlWSjY",
    "outputId": "888d07e6-e246-44cf-f342-c9c344f3e644"
   },
   "outputs": [
    {
     "name": "stdout",
     "output_type": "stream",
     "text": [
      "replace task_c_distant_ann.tsv? [y]es, [n]o, [A]ll, [N]one, [r]ename: n\n"
     ]
    }
   ],
   "source": [
    "\n",
    "##NOT FOR SYSTEMS\n",
    "!unzip -P ****** -qq '/content/drive/My Drive/EnglishData/task_c_distant.zip' "
   ]
  },
  {
   "cell_type": "code",
   "execution_count": 0,
   "metadata": {
    "colab": {},
    "colab_type": "code",
    "id": "Ayt4_mQnr5n7"
   },
   "outputs": [],
   "source": [
    "\n",
    "def convertToFloat(val):\n",
    "    if not val:\n",
    "        return 0    \n",
    "    try:\n",
    "        return np.float64(val)\n",
    "    except:        \n",
    "        return np.float64(0)\n",
    "\n",
    "\n",
    "headers=['id','text','average_ind','average_grp','average_oth','std_ind','std_grp','std_oth']\n",
    "taskc = pd.read_csv(\"task_c_distant_ann.tsv\", delimiter='\\t',names=headers,low_memory=False,converters={\"average_ind\":convertToFloat,\n",
    "                                                                                                    \"average_grp\":convertToFloat,\n",
    "                                                                                                    \"average_oth\":convertToFloat,\n",
    "                                                                                                    \"std_ind\":convertToFloat,\n",
    "                                                                                                    \"std_grp\":convertToFloat,\n",
    "                                                                                                    \"std_oth\":convertToFloat})\n",
    "taskc=taskc[1:]"
   ]
  },
  {
   "cell_type": "code",
   "execution_count": 10,
   "metadata": {
    "colab": {
     "base_uri": "https://localhost:8080/",
     "height": 34
    },
    "colab_type": "code",
    "id": "m-dCmH8dThOD",
    "outputId": "f6c14b87-8571-4325-8c5c-10cdf651e8c8"
   },
   "outputs": [
    {
     "data": {
      "text/plain": [
       "188973"
      ]
     },
     "execution_count": 10,
     "metadata": {
      "tags": []
     },
     "output_type": "execute_result"
    }
   ],
   "source": [
    "len(taskc)"
   ]
  },
  {
   "cell_type": "code",
   "execution_count": 11,
   "metadata": {
    "colab": {
     "base_uri": "https://localhost:8080/",
     "height": 173
    },
    "colab_type": "code",
    "id": "2uXSsl4DrvPa",
    "outputId": "2a42fca8-5906-4abf-d46f-fcd4fa91f75d"
   },
   "outputs": [
    {
     "data": {
      "text/plain": [
       "id              object\n",
       "text            object\n",
       "average_ind    float64\n",
       "average_grp    float64\n",
       "average_oth    float64\n",
       "std_ind        float64\n",
       "std_grp        float64\n",
       "std_oth        float64\n",
       "dtype: object"
      ]
     },
     "execution_count": 11,
     "metadata": {
      "tags": []
     },
     "output_type": "execute_result"
    }
   ],
   "source": [
    "taskc.dtypes"
   ]
  },
  {
   "cell_type": "code",
   "execution_count": 0,
   "metadata": {
    "colab": {},
    "colab_type": "code",
    "id": "IXDd24Fxry8c"
   },
   "outputs": [],
   "source": [
    "#len(taskc)\n",
    "#taskc=taskc[:10000]\n",
    "#taska=taska[1000000:1500000]\n",
    "#taska=taska[1500000:2500000]\n",
    "#taska=taska[3500000:4500000]\n",
    "#taska=taska[5500000:6500000]\n",
    "#taska=taska[6000000:]"
   ]
  },
  {
   "cell_type": "code",
   "execution_count": 0,
   "metadata": {
    "colab": {},
    "colab_type": "code",
    "id": "HOL0ZWShdA5p"
   },
   "outputs": [],
   "source": []
  },
  {
   "cell_type": "code",
   "execution_count": 0,
   "metadata": {
    "colab": {},
    "colab_type": "code",
    "id": "9bHoGZVoSCPU"
   },
   "outputs": [],
   "source": [
    "\n",
    "#GET THE DATA FROM THE PANDAS FRAME\n",
    "headers=['id','tweet','subtask_a','subtask_b','subtask_c']\n",
    "englishdata = pd.read_csv(\"/content/drive/My Drive/EnglishData/OLIDv1.0/olid-training-v1.0.tsv\", delimiter='\\t',names=headers,low_memory=False)\n",
    "englishdata=englishdata[['id','tweet','subtask_c']]\n",
    "englishdata=englishdata[1:]"
   ]
  },
  {
   "cell_type": "code",
   "execution_count": 0,
   "metadata": {
    "colab": {},
    "colab_type": "code",
    "id": "BKDwFMQdrusQ"
   },
   "outputs": [],
   "source": [
    "englishdata = englishdata.dropna(subset=['subtask_c'])"
   ]
  },
  {
   "cell_type": "code",
   "execution_count": 0,
   "metadata": {
    "colab": {
     "base_uri": "https://localhost:8080/",
     "height": 54
    },
    "colab_type": "code",
    "id": "ucAFIEswSPcQ",
    "outputId": "c088df60-6e1b-45b4-a32c-c1757dd30283"
   },
   "outputs": [
    {
     "data": {
      "text/plain": [
       "'# conversion to float taken from https://stackoverflow.com/questions/24251219/pandas-read-csv-low-memory-and-dtype-options\\ndef convertToFloat(val):\\n    if not val:\\n        return 0    \\n    try:\\n        return np.float64(val)\\n    except:        \\n        return np.float64(0)\\n\\n\\n#GET THE DATA FROM THE PANDAS FRAME\\nheaders=[\\'id\\',\\'text\\',\\'average\\',\\'std\\']\\nenglishdata = pd.read_csv(\"task_a_distant.tsv\", delimiter=\\'\\t\\',names=headers,low_memory=False,converters={\"average\":convertToFloat,\"std\":convertToFloat})\\nenglishdata=englishdata[:100]\\n'"
      ]
     },
     "execution_count": 15,
     "metadata": {
      "tags": []
     },
     "output_type": "execute_result"
    }
   ],
   "source": [
    "'''# conversion to float taken from https://stackoverflow.com/questions/24251219/pandas-read-csv-low-memory-and-dtype-options\n",
    "def convertToFloat(val):\n",
    "    if not val:\n",
    "        return 0    \n",
    "    try:\n",
    "        return np.float64(val)\n",
    "    except:        \n",
    "        return np.float64(0)\n",
    "\n",
    "\n",
    "#GET THE DATA FROM THE PANDAS FRAME\n",
    "headers=['id','text','average','std']\n",
    "englishdata = pd.read_csv(\"task_a_distant.tsv\", delimiter='\\t',names=headers,low_memory=False,converters={\"average\":convertToFloat,\"std\":convertToFloat})\n",
    "englishdata=englishdata[:100]\n",
    "'''"
   ]
  },
  {
   "cell_type": "code",
   "execution_count": 14,
   "metadata": {
    "colab": {
     "base_uri": "https://localhost:8080/",
     "height": 34
    },
    "colab_type": "code",
    "id": "leV4AIvO56Jp",
    "outputId": "854595f8-c138-4474-d619-c508d0447d08"
   },
   "outputs": [
    {
     "data": {
      "text/plain": [
       "3876"
      ]
     },
     "execution_count": 14,
     "metadata": {
      "tags": []
     },
     "output_type": "execute_result"
    }
   ],
   "source": [
    "len(englishdata)"
   ]
  },
  {
   "cell_type": "code",
   "execution_count": 0,
   "metadata": {
    "colab": {},
    "colab_type": "code",
    "id": "p43UBV5YZLjE"
   },
   "outputs": [],
   "source": []
  },
  {
   "cell_type": "code",
   "execution_count": 15,
   "metadata": {
    "colab": {
     "base_uri": "https://localhost:8080/",
     "height": 206
    },
    "colab_type": "code",
    "id": "B9dY5nerCi3z",
    "outputId": "ce9f5277-2dec-4714-8603-68cd14871b3e"
   },
   "outputs": [
    {
     "data": {
      "text/html": [
       "<div>\n",
       "<style scoped>\n",
       "    .dataframe tbody tr th:only-of-type {\n",
       "        vertical-align: middle;\n",
       "    }\n",
       "\n",
       "    .dataframe tbody tr th {\n",
       "        vertical-align: top;\n",
       "    }\n",
       "\n",
       "    .dataframe thead th {\n",
       "        text-align: right;\n",
       "    }\n",
       "</style>\n",
       "<table border=\"1\" class=\"dataframe\">\n",
       "  <thead>\n",
       "    <tr style=\"text-align: right;\">\n",
       "      <th></th>\n",
       "      <th>id</th>\n",
       "      <th>tweet</th>\n",
       "      <th>subtask_c</th>\n",
       "    </tr>\n",
       "  </thead>\n",
       "  <tbody>\n",
       "    <tr>\n",
       "      <th>2</th>\n",
       "      <td>90194</td>\n",
       "      <td>@USER @USER Go home you’re drunk!!! @USER #MAG...</td>\n",
       "      <td>IND</td>\n",
       "    </tr>\n",
       "    <tr>\n",
       "      <th>6</th>\n",
       "      <td>97670</td>\n",
       "      <td>@USER Liberals are all Kookoo !!!</td>\n",
       "      <td>OTH</td>\n",
       "    </tr>\n",
       "    <tr>\n",
       "      <th>8</th>\n",
       "      <td>52415</td>\n",
       "      <td>@USER was literally just talking about this lo...</td>\n",
       "      <td>GRP</td>\n",
       "    </tr>\n",
       "    <tr>\n",
       "      <th>10</th>\n",
       "      <td>13384</td>\n",
       "      <td>@USER Canada doesn’t need another CUCK! We alr...</td>\n",
       "      <td>IND</td>\n",
       "    </tr>\n",
       "    <tr>\n",
       "      <th>13</th>\n",
       "      <td>28414</td>\n",
       "      <td>@USER you are a lying corrupt traitor!!! Nobod...</td>\n",
       "      <td>IND</td>\n",
       "    </tr>\n",
       "  </tbody>\n",
       "</table>\n",
       "</div>"
      ],
      "text/plain": [
       "       id                                              tweet subtask_c\n",
       "2   90194  @USER @USER Go home you’re drunk!!! @USER #MAG...       IND\n",
       "6   97670                  @USER Liberals are all Kookoo !!!       OTH\n",
       "8   52415  @USER was literally just talking about this lo...       GRP\n",
       "10  13384  @USER Canada doesn’t need another CUCK! We alr...       IND\n",
       "13  28414  @USER you are a lying corrupt traitor!!! Nobod...       IND"
      ]
     },
     "execution_count": 15,
     "metadata": {
      "tags": []
     },
     "output_type": "execute_result"
    }
   ],
   "source": [
    "englishdata.head()"
   ]
  },
  {
   "cell_type": "code",
   "execution_count": 0,
   "metadata": {
    "colab": {
     "base_uri": "https://localhost:8080/",
     "height": 54
    },
    "colab_type": "code",
    "id": "85xVmaYRHFab",
    "outputId": "8c230493-0744-4ec2-e286-6163c4bd65d2"
   },
   "outputs": [
    {
     "data": {
      "text/plain": [
       "\"englishtrain,englishtest= train_test_split(englishdata, test_size=0.2, random_state=42)\\nexport_csv = englishtrain.to_csv ('/content/drive/My Drive/EnglishData/olidlearn/TrainFileEnglish.tsv', index = None, header=True)\\nprint (englishtrain.head())\\n#englishtest,englishpredict= train_test_split(englishtemp, test_size=0.5, random_state=42)\\nexport_csv = englishtest.to_csv ('/content/drive/My Drive/EnglishData/olidlearn/TestFileEnglish.tsv', index = None, header=True)\\nprint (englishtest.head())\""
      ]
     },
     "execution_count": 18,
     "metadata": {
      "tags": []
     },
     "output_type": "execute_result"
    }
   ],
   "source": [
    "'''englishtrain,englishtest= train_test_split(englishdata, test_size=0.2, random_state=42)\n",
    "export_csv = englishtrain.to_csv ('/content/drive/My Drive/EnglishData/olidlearn/TrainFileEnglish.tsv', index = None, header=True)\n",
    "print (englishtrain.head())\n",
    "#englishtest,englishpredict= train_test_split(englishtemp, test_size=0.5, random_state=42)\n",
    "export_csv = englishtest.to_csv ('/content/drive/My Drive/EnglishData/olidlearn/TestFileEnglish.tsv', index = None, header=True)\n",
    "print (englishtest.head())'''\n",
    "#export_csv = englishpredict.to_csv ('/content/drive/My Drive/EnglishData/predictFileEnglish.csv', index = None, header=True)\n",
    "#print (englishpredict.head())"
   ]
  },
  {
   "cell_type": "code",
   "execution_count": 0,
   "metadata": {
    "colab": {},
    "colab_type": "code",
    "id": "ayHNHPM56TTg"
   },
   "outputs": [],
   "source": []
  },
  {
   "cell_type": "code",
   "execution_count": 0,
   "metadata": {
    "colab": {},
    "colab_type": "code",
    "id": "tLXURnA5UefR"
   },
   "outputs": [],
   "source": []
  },
  {
   "cell_type": "code",
   "execution_count": 0,
   "metadata": {
    "colab": {},
    "colab_type": "code",
    "id": "KWe6eF21Ue-9"
   },
   "outputs": [],
   "source": []
  },
  {
   "cell_type": "code",
   "execution_count": 0,
   "metadata": {
    "colab": {},
    "colab_type": "code",
    "id": "zn8dOMH10Cla"
   },
   "outputs": [],
   "source": [
    "ids_of_sentence=[]\n",
    "ids_of_sentence_words=[]\n",
    "attention_masks=[]\n",
    "\n",
    "def giveIds(sentence):\n",
    "  maxlength=0\n",
    "  tokenizer=bertTokenizer.from_pretrained('bert-base-uncased',do_lower_case=True)\n",
    "  for t in sentence:\n",
    "      tokenized_sentence_id=tokenizer.encode(t,add_special_tokens=True)\n",
    "      if(maxlength<len(tokenized_sentence_id)):\n",
    "          maxlength=len(tokenized_sentence_id)\n",
    "  return maxlength"
   ]
  },
  {
   "cell_type": "code",
   "execution_count": 0,
   "metadata": {
    "colab": {},
    "colab_type": "code",
    "id": "qZWdmK_CMiop"
   },
   "outputs": [],
   "source": []
  },
  {
   "cell_type": "code",
   "execution_count": 0,
   "metadata": {
    "colab": {},
    "colab_type": "code",
    "id": "f9PP1a7RMioz"
   },
   "outputs": [],
   "source": []
  },
  {
   "cell_type": "code",
   "execution_count": 0,
   "metadata": {
    "colab": {},
    "colab_type": "code",
    "id": "lMeqzRH7LS5Q"
   },
   "outputs": [],
   "source": [
    "dfnumpy=englishdata.to_numpy()\n",
    "x_train=dfnumpy[:, 1].reshape(-1, 1)\n",
    "y_train=dfnumpy[:, 2].reshape(-1, 1)"
   ]
  },
  {
   "cell_type": "code",
   "execution_count": 18,
   "metadata": {
    "colab": {
     "base_uri": "https://localhost:8080/",
     "height": 34
    },
    "colab_type": "code",
    "id": "a40P-fEPNwSC",
    "outputId": "2635c72f-8c70-4292-81f8-6e66fd721327"
   },
   "outputs": [
    {
     "data": {
      "text/plain": [
       "numpy.ndarray"
      ]
     },
     "execution_count": 18,
     "metadata": {
      "tags": []
     },
     "output_type": "execute_result"
    }
   ],
   "source": [
    "type(y_train)"
   ]
  },
  {
   "cell_type": "code",
   "execution_count": 0,
   "metadata": {
    "colab": {},
    "colab_type": "code",
    "id": "kqEXLUu-KN6b"
   },
   "outputs": [],
   "source": [
    "\n",
    "def getNewLabel(y1,y2):\n",
    "  i=0\n",
    "  largest_index=0\n",
    "  #label1=['IND','GRP','OTH']\n",
    "  ylabels=[]\n",
    "  for r in y1:\n",
    "    ylabels.append(y1[i]-y2[i])\n",
    "    i=i+1;\n",
    "  return ylabels"
   ]
  },
  {
   "cell_type": "code",
   "execution_count": 0,
   "metadata": {
    "colab": {},
    "colab_type": "code",
    "id": "tmbrouMtLk4a"
   },
   "outputs": [],
   "source": [
    "\n",
    "def giveLabel(y1,y2,y3):\n",
    "  i=0\n",
    "  largest_index=0\n",
    "  #label1=['IND','GRP','OTH']\n",
    "  ylabels=[]\n",
    "  for r in y1:\n",
    "    if (y1[i] >= y2[i]) and (y1[i] >= y3[i]): \n",
    "        largest_index = 0 \n",
    "    elif (y2[i] >= y1[i]) and (y2[i] >= y3[i]): \n",
    "        largest_index = 1 \n",
    "    else: \n",
    "        largest_index = 2 \n",
    "    \n",
    "    ylabels.append(largest_index)\n",
    "    i=i+1;\n",
    "  return ylabels\n",
    "\n",
    "#headers=['id','text','average','std']\n",
    "\n",
    "dfnumpy=taskc.to_numpy();\n",
    "x_train=dfnumpy[:, 1].reshape(-1, 1)\n",
    "y_train1=dfnumpy[:, 2].reshape(-1, 1)\n",
    "y_train2=dfnumpy[:, 3].reshape(-1, 1)\n",
    "y_train3=dfnumpy[:, 4].reshape(-1, 1)\n",
    "y_std1=dfnumpy[:, 5].reshape(-1, 1)\n",
    "y_std2=dfnumpy[:, 6].reshape(-1, 1)\n",
    "y_std3=dfnumpy[:, 7].reshape(-1, 1)\n",
    "\n"
   ]
  },
  {
   "cell_type": "code",
   "execution_count": 0,
   "metadata": {
    "colab": {},
    "colab_type": "code",
    "id": "X0djsY5LtTPc"
   },
   "outputs": [],
   "source": [
    "y_t1=getNewLabel(y_train1,y_std1)\n",
    "y_t2=getNewLabel(y_train2,y_std2)\n",
    "y_t3=getNewLabel(y_train3,y_std3)"
   ]
  },
  {
   "cell_type": "code",
   "execution_count": 24,
   "metadata": {
    "colab": {
     "base_uri": "https://localhost:8080/",
     "height": 1000
    },
    "colab_type": "code",
    "id": "7VHYhqwSug5J",
    "outputId": "79cf3654-df46-446f-9339-09700e636316"
   },
   "outputs": [
    {
     "data": {
      "text/plain": [
       "[array([0.6250974726428228], dtype=object),\n",
       " array([0.13583751073177508], dtype=object),\n",
       " array([0.25620406245756544], dtype=object),\n",
       " array([0.4641564347350108], dtype=object),\n",
       " array([0.4869995049986372], dtype=object),\n",
       " array([0.4833308570078036], dtype=object),\n",
       " array([0.44515577943346685], dtype=object),\n",
       " array([0.388259218861244], dtype=object),\n",
       " array([0.2677577158394779], dtype=object),\n",
       " array([0.46050957820845706], dtype=object),\n",
       " array([0.4941891997966867], dtype=object),\n",
       " array([0.3542472899418841], dtype=object),\n",
       " array([0.21269697897634748], dtype=object),\n",
       " array([0.023572431476470784], dtype=object),\n",
       " array([0.13064235795909762], dtype=object),\n",
       " array([0.1500155547904719], dtype=object),\n",
       " array([0.5320719038966886], dtype=object),\n",
       " array([0.26524874442895885], dtype=object),\n",
       " array([0.5871082901415638], dtype=object),\n",
       " array([0.39725441842616527], dtype=object),\n",
       " array([0.3989996834999785], dtype=object),\n",
       " array([0.3048262801808124], dtype=object),\n",
       " array([0.008796476958851704], dtype=object),\n",
       " array([0.32016569269852624], dtype=object),\n",
       " array([0.502520439228233], dtype=object),\n",
       " array([0.11515205327602868], dtype=object),\n",
       " array([0.12474961813416366], dtype=object),\n",
       " array([0.5057538091773579], dtype=object),\n",
       " array([0.27032626443739943], dtype=object),\n",
       " array([0.44309508295571914], dtype=object),\n",
       " array([0.5199970160531353], dtype=object),\n",
       " array([0.4638115093342192], dtype=object),\n",
       " array([0.36032787521952053], dtype=object),\n",
       " array([0.499804907575796], dtype=object),\n",
       " array([0.3194409193520177], dtype=object),\n",
       " array([0.027901148454617247], dtype=object),\n",
       " array([0.013902433055855715], dtype=object),\n",
       " array([0.23221665763690483], dtype=object),\n",
       " array([0.2109034322970565], dtype=object),\n",
       " array([0.05334107924016679], dtype=object),\n",
       " array([0.2454638136131353], dtype=object),\n",
       " array([0.34817187883242917], dtype=object),\n",
       " array([0.4166082100729459], dtype=object),\n",
       " array([0.3037215485498616], dtype=object),\n",
       " array([0.11635295459883432], dtype=object),\n",
       " array([0.581265169954146], dtype=object),\n",
       " array([0.528991196370015], dtype=object),\n",
       " array([0.5637775418911617], dtype=object),\n",
       " array([0.5017960315868106], dtype=object),\n",
       " array([0.20507301151550272], dtype=object),\n",
       " array([0.5581043446842469], dtype=object),\n",
       " array([0.24174249124962754], dtype=object),\n",
       " array([0.5948976264493138], dtype=object),\n",
       " array([0.06559052962851164], dtype=object),\n",
       " array([0.12997552097836376], dtype=object),\n",
       " array([0.4060492040327494], dtype=object),\n",
       " array([0.5452143107434935], dtype=object),\n",
       " array([0.13223579300424793], dtype=object),\n",
       " array([0.5130172531861719], dtype=object),\n",
       " array([0.4725431860983952], dtype=object),\n",
       " array([0.15317119187211087], dtype=object),\n",
       " array([0.3743157573687104], dtype=object),\n",
       " array([0.44483670843875156], dtype=object),\n",
       " array([0.594831693235846], dtype=object),\n",
       " array([0.4900016022699236], dtype=object),\n",
       " array([0.4595485406119493], dtype=object),\n",
       " array([0.0375522607377434], dtype=object),\n",
       " array([0.5887297312086001], dtype=object),\n",
       " array([0.5320874931784974], dtype=object),\n",
       " array([0.13918925049028336], dtype=object),\n",
       " array([0.22491111616005763], dtype=object),\n",
       " array([0.2857150952776152], dtype=object),\n",
       " array([0.07578402447266624], dtype=object),\n",
       " array([0.4108966461876795], dtype=object),\n",
       " array([0.2318161310753993], dtype=object),\n",
       " array([0.5574021304258284], dtype=object),\n",
       " array([0.5032038959500008], dtype=object),\n",
       " array([0.3432626102788925], dtype=object),\n",
       " array([0.6180036978462418], dtype=object),\n",
       " array([0.4250680475333538], dtype=object),\n",
       " array([0.6035617617082342], dtype=object),\n",
       " array([0.26957673120921816], dtype=object),\n",
       " array([0.604079298012551], dtype=object),\n",
       " array([0.40808404908230994], dtype=object),\n",
       " array([0.17317710726438557], dtype=object),\n",
       " array([0.542900265405639], dtype=object),\n",
       " array([0.3112232388176194], dtype=object),\n",
       " array([0.27927904690855393], dtype=object),\n",
       " array([0.30252201054755307], dtype=object),\n",
       " array([0.38964531499215893], dtype=object),\n",
       " array([0.4296562097023621], dtype=object),\n",
       " array([0.2225452389715798], dtype=object),\n",
       " array([0.03482181684004122], dtype=object),\n",
       " array([0.4977408204350906], dtype=object),\n",
       " array([0.0013127771816739964], dtype=object),\n",
       " array([0.4126245919539767], dtype=object),\n",
       " array([0.5410756004725656], dtype=object),\n",
       " array([0.32387147432903174], dtype=object),\n",
       " array([0.2182753607359133], dtype=object),\n",
       " array([0.26259315281358153], dtype=object),\n",
       " array([0.5780973027251193], dtype=object),\n",
       " array([0.3983966185294663], dtype=object),\n",
       " array([0.07177405141806559], dtype=object),\n",
       " array([0.5132475974590871], dtype=object),\n",
       " array([0.4108747889700213], dtype=object),\n",
       " array([0.4951435625811717], dtype=object),\n",
       " array([0.378853908720423], dtype=object),\n",
       " array([0.5314965805145707], dtype=object),\n",
       " array([0.4756243441396669], dtype=object),\n",
       " array([0.5225713070498685], dtype=object),\n",
       " array([0.1881949323055569], dtype=object),\n",
       " array([0.32067275644984516], dtype=object),\n",
       " array([0.07887845592095039], dtype=object),\n",
       " array([0.5783443439014336], dtype=object),\n",
       " array([0.11914631005002718], dtype=object),\n",
       " array([0.5410378738123738], dtype=object),\n",
       " array([0.30342465578462713], dtype=object),\n",
       " array([0.5131313022916557], dtype=object),\n",
       " array([0.2569102859238019], dtype=object),\n",
       " array([0.4951064803275391], dtype=object),\n",
       " array([0.11889619263675794], dtype=object),\n",
       " array([0.4872706772144723], dtype=object),\n",
       " array([0.32730234173850825], dtype=object),\n",
       " array([0.641923537613903], dtype=object),\n",
       " array([0.5525951393242523], dtype=object),\n",
       " array([0.4546186544507562], dtype=object),\n",
       " array([0.6030274282732502], dtype=object),\n",
       " array([0.039111457159376306], dtype=object),\n",
       " array([0.07778745481301766], dtype=object),\n",
       " array([0.2456901612776795], dtype=object),\n",
       " array([0.39526578266003554], dtype=object),\n",
       " array([0.5177223762755236], dtype=object),\n",
       " array([0.10005477027066892], dtype=object),\n",
       " array([0.40351758080031924], dtype=object),\n",
       " array([0.21039522413219836], dtype=object),\n",
       " array([0.2603219223868435], dtype=object),\n",
       " array([0.4196876037636065], dtype=object),\n",
       " array([0.18344314650208918], dtype=object),\n",
       " array([0.01172649894048533], dtype=object),\n",
       " array([0.023662719723431674], dtype=object),\n",
       " array([0.32868586835649527], dtype=object),\n",
       " array([0.47415447918045295], dtype=object),\n",
       " array([0.16474488500751316], dtype=object),\n",
       " array([0.17224729977935402], dtype=object),\n",
       " array([0.5542071785269602], dtype=object),\n",
       " array([0.47088885781475875], dtype=object),\n",
       " array([0.22680420258349732], dtype=object),\n",
       " array([0.5926936444361147], dtype=object),\n",
       " array([0.28866120547898116], dtype=object),\n",
       " array([0.6040713793322614], dtype=object),\n",
       " array([0.4255579117755015], dtype=object),\n",
       " array([0.4955131228628197], dtype=object),\n",
       " array([0.5181566469268658], dtype=object),\n",
       " array([0.1398738037915011], dtype=object),\n",
       " array([0.4312519667271423], dtype=object),\n",
       " array([0.09222278555373228], dtype=object),\n",
       " array([0.4299341459942987], dtype=object),\n",
       " array([0.24754182040764205], dtype=object),\n",
       " array([0.4331448056978562], dtype=object),\n",
       " array([0.29810934389170207], dtype=object),\n",
       " array([0.004594582830629024], dtype=object),\n",
       " array([0.1864426610686692], dtype=object),\n",
       " array([0.12975364770024356], dtype=object),\n",
       " array([0.5112524201052939], dtype=object),\n",
       " array([0.3358057745470787], dtype=object),\n",
       " array([0.2845321084662733], dtype=object),\n",
       " array([0.5400688611031486], dtype=object),\n",
       " array([0.30835328464880185], dtype=object),\n",
       " array([0.016954122650924844], dtype=object),\n",
       " array([0.3997336410155737], dtype=object),\n",
       " array([0.23745055641452845], dtype=object),\n",
       " array([0.5193227933880546], dtype=object),\n",
       " array([0.666305968722828], dtype=object),\n",
       " array([0.18008903045581376], dtype=object),\n",
       " array([0.5325456564721819], dtype=object),\n",
       " array([0.5087634110074106], dtype=object),\n",
       " array([0.716884335398609], dtype=object),\n",
       " array([0.5515665575558919], dtype=object),\n",
       " array([0.6167283863553077], dtype=object),\n",
       " array([0.4649118511767475], dtype=object),\n",
       " array([0.29236196341966175], dtype=object),\n",
       " array([0.6513130082329773], dtype=object),\n",
       " array([0.2606767276081796], dtype=object),\n",
       " array([0.01212183192753924], dtype=object),\n",
       " array([0.19996738513491435], dtype=object),\n",
       " array([0.5281057672468392], dtype=object),\n",
       " array([0.11892699579761379], dtype=object),\n",
       " array([0.4856445637686224], dtype=object),\n",
       " array([0.08715516788916527], dtype=object),\n",
       " array([0.4670692684854597], dtype=object),\n",
       " array([0.3804325180078929], dtype=object),\n",
       " array([0.5766738675318634], dtype=object),\n",
       " array([0.5706337633976913], dtype=object),\n",
       " array([0.609585919364484], dtype=object),\n",
       " array([0.5627188620328566], dtype=object),\n",
       " array([0.5165586827599364], dtype=object),\n",
       " array([0.5156943587379614], dtype=object),\n",
       " array([0.4635925913341307], dtype=object),\n",
       " array([0.1532890403388783], dtype=object),\n",
       " array([0.19726242004343147], dtype=object),\n",
       " array([0.3996610530625111], dtype=object),\n",
       " array([0.3477951582765711], dtype=object),\n",
       " array([0.5643372034125286], dtype=object),\n",
       " array([0.2548046635606175], dtype=object),\n",
       " array([0.5340123688979318], dtype=object),\n",
       " array([0.5827349967629866], dtype=object),\n",
       " array([0.23439321375020977], dtype=object),\n",
       " array([0.049989925961061915], dtype=object),\n",
       " array([0.5248723400056303], dtype=object),\n",
       " array([0.22625213163428887], dtype=object),\n",
       " array([0.2539531101196869], dtype=object),\n",
       " array([0.41161113806326705], dtype=object),\n",
       " array([0.129807770190591], dtype=object),\n",
       " array([0.13784335751437837], dtype=object),\n",
       " array([0.4351322258030363], dtype=object),\n",
       " array([0.44774928953678034], dtype=object),\n",
       " array([0.32523383944105433], dtype=object),\n",
       " array([0.5388298718935907], dtype=object),\n",
       " array([0.2845981115015082], dtype=object),\n",
       " array([0.2977868629526702], dtype=object),\n",
       " array([0.2149360182592957], dtype=object),\n",
       " array([0.5308765175641763], dtype=object),\n",
       " array([0.45941119842611744], dtype=object),\n",
       " array([0.21985224246618912], dtype=object),\n",
       " array([0.5306192213855437], dtype=object),\n",
       " array([0.5727688635535486], dtype=object),\n",
       " array([0.5233576574097234], dtype=object),\n",
       " array([0.6046983846948155], dtype=object),\n",
       " array([0.5181481463668779], dtype=object),\n",
       " array([0.5415155090844798], dtype=object),\n",
       " array([0.5144619340526122], dtype=object),\n",
       " array([0.3864171503315687], dtype=object),\n",
       " array([0.1777873284790027], dtype=object),\n",
       " array([0.02326915822150727], dtype=object),\n",
       " array([0.20829785985602095], dtype=object),\n",
       " array([0.08328497545178909], dtype=object),\n",
       " array([-6.372233299362096e-05], dtype=object),\n",
       " array([0.14081777509934615], dtype=object),\n",
       " array([0.10329773512668927], dtype=object),\n",
       " array([0.2879075933804818], dtype=object),\n",
       " array([0.1658000779594337], dtype=object),\n",
       " array([0.0767278609917636], dtype=object),\n",
       " array([0.20023669650757697], dtype=object),\n",
       " array([0.1467189646636392], dtype=object),\n",
       " array([0.2936549484010706], dtype=object),\n",
       " array([0.11310822601607334], dtype=object),\n",
       " array([0.1893582813449992], dtype=object),\n",
       " array([0.5289265319042626], dtype=object),\n",
       " array([0.2999220975475922], dtype=object),\n",
       " array([0.30549872972380676], dtype=object),\n",
       " array([0.20380553641109528], dtype=object),\n",
       " array([0.2225695665238874], dtype=object),\n",
       " array([0.13929002944658186], dtype=object),\n",
       " array([0.11174281702158165], dtype=object),\n",
       " array([0.5453171174395031], dtype=object),\n",
       " array([0.2826013620024813], dtype=object),\n",
       " array([0.1629840921521199], dtype=object),\n",
       " array([0.4026677370612467], dtype=object),\n",
       " array([0.05589495456512528], dtype=object),\n",
       " array([0.23060824497129273], dtype=object),\n",
       " array([0.06303862867385596], dtype=object),\n",
       " array([0.03393209470943179], dtype=object),\n",
       " array([0.3540682972455832], dtype=object),\n",
       " array([0.030260332855799155], dtype=object),\n",
       " array([0.2677234037425703], dtype=object),\n",
       " array([0.5469808515113468], dtype=object),\n",
       " array([0.53820009802634], dtype=object),\n",
       " array([0.28509924299657213], dtype=object),\n",
       " array([0.25374612561847754], dtype=object),\n",
       " array([0.39712608160202023], dtype=object),\n",
       " array([0.4494727642426509], dtype=object),\n",
       " array([0.2870356315942966], dtype=object),\n",
       " array([0.16272623820369195], dtype=object),\n",
       " array([0.12177657509138126], dtype=object),\n",
       " array([0.4012331188886593], dtype=object),\n",
       " array([0.3611288188694046], dtype=object),\n",
       " array([0.0700579165993815], dtype=object),\n",
       " array([0.5147032706151294], dtype=object),\n",
       " array([0.6924364966125174], dtype=object),\n",
       " array([0.5738067798813684], dtype=object),\n",
       " array([0.05674095025567366], dtype=object),\n",
       " array([0.192386727448142], dtype=object),\n",
       " array([0.6675486749413209], dtype=object),\n",
       " array([0.07646381073082176], dtype=object),\n",
       " array([0.46383252495567573], dtype=object),\n",
       " array([0.06304908302041845], dtype=object),\n",
       " array([0.3980872803092579], dtype=object),\n",
       " array([0.3378090916249775], dtype=object),\n",
       " array([0.05283782506478535], dtype=object),\n",
       " array([0.2967194134552811], dtype=object),\n",
       " array([0.49422893550138935], dtype=object),\n",
       " array([0.27167313787778713], dtype=object),\n",
       " array([0.1297540326568024], dtype=object),\n",
       " array([0.6077278535226117], dtype=object),\n",
       " array([0.5684870622191459], dtype=object),\n",
       " array([0.32651652683810717], dtype=object),\n",
       " array([0.6084882155498667], dtype=object),\n",
       " array([0.4906229164609699], dtype=object),\n",
       " array([0.10083407801464889], dtype=object),\n",
       " array([0.20732362911548852], dtype=object),\n",
       " array([0.5194713165490311], dtype=object),\n",
       " array([0.20581365618536387], dtype=object),\n",
       " array([0.5207036792024498], dtype=object),\n",
       " array([0.33001747844118956], dtype=object),\n",
       " array([0.51829274532648], dtype=object),\n",
       " array([0.214555760649452], dtype=object),\n",
       " array([0.029629261078678054], dtype=object),\n",
       " array([0.1296998484075912], dtype=object),\n",
       " array([0.3205581142247721], dtype=object),\n",
       " array([0.14470695412576462], dtype=object),\n",
       " array([0.35665067213260027], dtype=object),\n",
       " array([0.493268898463892], dtype=object),\n",
       " array([0.3578409766756252], dtype=object),\n",
       " array([0.41408026093082584], dtype=object),\n",
       " array([0.10167471006458018], dtype=object),\n",
       " array([0.17629578398245827], dtype=object),\n",
       " array([0.4957696890985761], dtype=object),\n",
       " array([0.3696476636819276], dtype=object),\n",
       " array([0.18700864029408276], dtype=object),\n",
       " array([0.060787964556599794], dtype=object),\n",
       " array([0.4210005835314813], dtype=object),\n",
       " array([0.23646618954189713], dtype=object),\n",
       " array([0.16314926425809317], dtype=object),\n",
       " array([0.13070881636537252], dtype=object),\n",
       " array([0.0904338151425503], dtype=object),\n",
       " array([0.46678050919466774], dtype=object),\n",
       " array([0.07425188674026295], dtype=object),\n",
       " array([0.08552512883904806], dtype=object),\n",
       " array([0.0704286335829544], dtype=object),\n",
       " array([0.19953874258067814], dtype=object),\n",
       " array([0.1483749519765967], dtype=object),\n",
       " array([0.6552674394292665], dtype=object),\n",
       " array([0.1453312606681319], dtype=object),\n",
       " array([0.1254481347646298], dtype=object),\n",
       " array([0.42024453865978445], dtype=object),\n",
       " array([0.28145092991684906], dtype=object),\n",
       " array([0.164371067176459], dtype=object),\n",
       " array([0.6123573805827215], dtype=object),\n",
       " array([0.48469130447680053], dtype=object),\n",
       " array([0.39368801320179037], dtype=object),\n",
       " array([0.19028016324599237], dtype=object),\n",
       " array([0.1772023580494279], dtype=object),\n",
       " array([0.2043915576334605], dtype=object),\n",
       " array([0.4561358972261986], dtype=object),\n",
       " array([0.35197478198377546], dtype=object),\n",
       " array([0.45448291051341516], dtype=object),\n",
       " array([0.5100145408024165], dtype=object),\n",
       " array([0.4652077139971476], dtype=object),\n",
       " array([0.3520385789430613], dtype=object),\n",
       " array([0.5774602411419747], dtype=object),\n",
       " array([0.5419050759334224], dtype=object),\n",
       " array([0.0939809863292431], dtype=object),\n",
       " array([0.19911957983360207], dtype=object),\n",
       " array([0.004312176140940122], dtype=object),\n",
       " array([0.43928195184031243], dtype=object),\n",
       " array([0.14135785141031582], dtype=object),\n",
       " array([0.5485437449169253], dtype=object),\n",
       " array([0.17676410265916118], dtype=object),\n",
       " array([0.4368927218280878], dtype=object),\n",
       " array([0.2335372025227253], dtype=object),\n",
       " array([-0.011921537248718417], dtype=object),\n",
       " array([0.30449406825096637], dtype=object),\n",
       " array([0.3943202413495198], dtype=object),\n",
       " array([0.5922345150684104], dtype=object),\n",
       " array([0.4508553339037774], dtype=object),\n",
       " array([0.5289724058524201], dtype=object),\n",
       " array([0.5403006381001596], dtype=object),\n",
       " array([0.3123144980524466], dtype=object),\n",
       " array([0.5216596911607144], dtype=object),\n",
       " array([0.4518425456568817], dtype=object),\n",
       " array([0.29910592204668507], dtype=object),\n",
       " array([0.5690462913657982], dtype=object),\n",
       " array([0.47847542026851225], dtype=object),\n",
       " array([0.648104927596487], dtype=object),\n",
       " array([0.5165748118205236], dtype=object),\n",
       " array([0.5363891185703293], dtype=object),\n",
       " array([0.4369177548325984], dtype=object),\n",
       " array([0.24673090304041523], dtype=object),\n",
       " array([0.5142157785229969], dtype=object),\n",
       " array([0.48559365037456564], dtype=object),\n",
       " array([0.6344315673034211], dtype=object),\n",
       " array([0.2656879413204624], dtype=object),\n",
       " array([0.3272429393251097], dtype=object),\n",
       " array([0.09496843000491384], dtype=object),\n",
       " array([0.4747494583323869], dtype=object),\n",
       " array([0.16770762711476173], dtype=object),\n",
       " array([0.2922664801493583], dtype=object),\n",
       " array([0.08399545173884232], dtype=object),\n",
       " array([0.2696556765928685], dtype=object),\n",
       " array([0.6049509048448473], dtype=object),\n",
       " array([0.5699471188845101], dtype=object),\n",
       " array([0.4790412817107994], dtype=object),\n",
       " array([0.5162204630324079], dtype=object),\n",
       " array([0.15370066292362672], dtype=object),\n",
       " array([0.41456405295896126], dtype=object),\n",
       " array([0.473615376248295], dtype=object),\n",
       " array([0.4461325704309615], dtype=object),\n",
       " array([0.5810413961204959], dtype=object),\n",
       " array([0.5669662069359915], dtype=object),\n",
       " array([0.4910460855732921], dtype=object),\n",
       " array([0.4140869429321349], dtype=object),\n",
       " array([0.1591034627381776], dtype=object),\n",
       " array([0.41823258256796403], dtype=object),\n",
       " array([0.5603405352718829], dtype=object),\n",
       " array([0.5830184842184524], dtype=object),\n",
       " array([0.18008024786853405], dtype=object),\n",
       " array([0.2614853158041552], dtype=object),\n",
       " array([0.5410110851169666], dtype=object),\n",
       " array([0.7285300398460736], dtype=object),\n",
       " array([0.5605062329920271], dtype=object),\n",
       " array([0.5329099375168813], dtype=object),\n",
       " array([0.6313700581311562], dtype=object),\n",
       " array([0.5857423421617118], dtype=object),\n",
       " array([0.5943657737363127], dtype=object),\n",
       " array([0.5274200764053437], dtype=object),\n",
       " array([0.5363153641007489], dtype=object),\n",
       " array([0.033313901030561296], dtype=object),\n",
       " array([0.2768254085894611], dtype=object),\n",
       " array([0.04239364391684167], dtype=object),\n",
       " array([0.5824528685802628], dtype=object),\n",
       " array([0.01397208156555585], dtype=object),\n",
       " array([0.007250849989435551], dtype=object),\n",
       " array([0.274832575141486], dtype=object),\n",
       " array([0.4347165363050699], dtype=object),\n",
       " array([0.5427426563744331], dtype=object),\n",
       " array([0.5663374582203509], dtype=object),\n",
       " array([0.06407973505685599], dtype=object),\n",
       " array([0.058806885517948757], dtype=object),\n",
       " array([0.5722352426306803], dtype=object),\n",
       " array([0.17913625499776165], dtype=object),\n",
       " array([0.21023591100859212], dtype=object),\n",
       " array([0.483337580595199], dtype=object),\n",
       " array([0.35990822090436114], dtype=object),\n",
       " array([0.49422350480460053], dtype=object),\n",
       " array([0.5255065288412095], dtype=object),\n",
       " array([0.48614540648267596], dtype=object),\n",
       " array([0.459409561882191], dtype=object),\n",
       " array([0.18790348318796687], dtype=object),\n",
       " array([0.153444051753986], dtype=object),\n",
       " array([0.36260513288148866], dtype=object),\n",
       " array([0.47680311020207905], dtype=object),\n",
       " array([0.06229936615589751], dtype=object),\n",
       " array([0.13827433303024222], dtype=object),\n",
       " array([0.06105889148872379], dtype=object),\n",
       " array([0.576946917666691], dtype=object),\n",
       " array([0.6116182690629819], dtype=object),\n",
       " array([0.21702781332962862], dtype=object),\n",
       " array([0.5222301786757501], dtype=object),\n",
       " array([0.5423778419131815], dtype=object),\n",
       " array([0.19963352159257386], dtype=object),\n",
       " array([0.5365990160435783], dtype=object),\n",
       " array([0.5348649858082264], dtype=object),\n",
       " array([0.5847854817679368], dtype=object),\n",
       " array([0.4992285827367503], dtype=object),\n",
       " array([0.08091877801715014], dtype=object),\n",
       " array([0.16569433499881403], dtype=object),\n",
       " array([0.18190648178068164], dtype=object),\n",
       " array([0.17194067653608613], dtype=object),\n",
       " array([0.31657859117273124], dtype=object),\n",
       " array([0.443552586225081], dtype=object),\n",
       " array([0.027873957234709312], dtype=object),\n",
       " array([0.4216014234363544], dtype=object),\n",
       " array([0.6233847115554965], dtype=object),\n",
       " array([0.5046643806993677], dtype=object),\n",
       " array([0.561988876340862], dtype=object),\n",
       " array([0.04341855438383038], dtype=object),\n",
       " array([0.66635570083808], dtype=object),\n",
       " array([0.506816392286056], dtype=object),\n",
       " array([0.4809986338233725], dtype=object),\n",
       " array([0.5822490535397867], dtype=object),\n",
       " array([0.4173554437294992], dtype=object),\n",
       " array([0.4420478123627056], dtype=object),\n",
       " array([0.5575367009270877], dtype=object),\n",
       " array([0.5421989418313986], dtype=object),\n",
       " array([0.41855927892580636], dtype=object),\n",
       " array([0.13028102741924388], dtype=object),\n",
       " array([0.5085283625961158], dtype=object),\n",
       " array([0.45614845560392725], dtype=object),\n",
       " array([0.37196836015123785], dtype=object),\n",
       " array([0.5647696326137784], dtype=object),\n",
       " array([0.2009593751277381], dtype=object),\n",
       " array([0.49285218318418506], dtype=object),\n",
       " array([0.5303850671358569], dtype=object),\n",
       " array([0.46798979265328355], dtype=object),\n",
       " array([0.5599612151286353], dtype=object),\n",
       " array([0.61967393177972], dtype=object),\n",
       " array([0.0499519230382546], dtype=object),\n",
       " array([0.021534305981517787], dtype=object),\n",
       " array([0.6047157099228031], dtype=object),\n",
       " array([0.5307970677013601], dtype=object),\n",
       " array([0.53441496847511], dtype=object),\n",
       " array([0.582826976357716], dtype=object),\n",
       " array([0.6005371453426855], dtype=object),\n",
       " array([0.6045892188468263], dtype=object),\n",
       " array([0.470163364965269], dtype=object),\n",
       " array([0.5662707114158647], dtype=object),\n",
       " array([0.5249838509776221], dtype=object),\n",
       " array([0.49401770334929973], dtype=object),\n",
       " array([0.5141550524716829], dtype=object),\n",
       " array([0.5496266230319629], dtype=object),\n",
       " array([0.33582425770915025], dtype=object),\n",
       " array([0.08379372663103979], dtype=object),\n",
       " array([0.3304666368659811], dtype=object),\n",
       " array([0.026596457803972906], dtype=object),\n",
       " array([0.1866070760411473], dtype=object),\n",
       " array([0.463587640021254], dtype=object),\n",
       " array([0.2442268896999655], dtype=object),\n",
       " array([0.585159142506858], dtype=object),\n",
       " array([0.47454535961142696], dtype=object),\n",
       " array([0.5105289821323248], dtype=object),\n",
       " array([0.5549314528390104], dtype=object),\n",
       " array([0.386616116512574], dtype=object),\n",
       " array([0.20474546976595037], dtype=object),\n",
       " array([0.533941328981518], dtype=object),\n",
       " array([0.2655438551903759], dtype=object),\n",
       " array([0.6327024832172836], dtype=object),\n",
       " array([0.572675020362047], dtype=object),\n",
       " array([0.039463776457782734], dtype=object),\n",
       " array([0.5331361137772004], dtype=object),\n",
       " array([0.41094491759905466], dtype=object),\n",
       " array([0.44942183952640147], dtype=object),\n",
       " array([0.21245830676008354], dtype=object),\n",
       " array([0.1770686408534683], dtype=object),\n",
       " array([0.38892855665964177], dtype=object),\n",
       " array([0.31853093975379987], dtype=object),\n",
       " array([0.5193352881550047], dtype=object),\n",
       " array([0.13817128824100866], dtype=object),\n",
       " array([0.4573176594003916], dtype=object),\n",
       " array([0.16960076971047072], dtype=object),\n",
       " array([0.5613894901823886], dtype=object),\n",
       " array([0.28291846454447384], dtype=object),\n",
       " array([0.5822361683326863], dtype=object),\n",
       " array([0.061095660372699256], dtype=object),\n",
       " array([0.1414601118711724], dtype=object),\n",
       " array([0.5603756886265367], dtype=object),\n",
       " array([0.4039208533016411], dtype=object),\n",
       " array([0.27750542772821896], dtype=object),\n",
       " array([0.5681698738003347], dtype=object),\n",
       " array([0.04674686680040453], dtype=object),\n",
       " array([0.4779998224753148], dtype=object),\n",
       " array([0.008660773009841402], dtype=object),\n",
       " array([0.3694248357281204], dtype=object),\n",
       " array([0.06040635478375034], dtype=object),\n",
       " array([0.2949981920352921], dtype=object),\n",
       " array([0.1109078938216912], dtype=object),\n",
       " array([0.12487911509142294], dtype=object),\n",
       " array([0.33274338496034433], dtype=object),\n",
       " array([0.3132669813498426], dtype=object),\n",
       " array([0.4910615300673281], dtype=object),\n",
       " array([0.03186768612463596], dtype=object),\n",
       " array([0.5782079775647826], dtype=object),\n",
       " array([0.1067525457380411], dtype=object),\n",
       " array([0.35028002226310984], dtype=object),\n",
       " array([0.5775522120100153], dtype=object),\n",
       " array([0.17633364016015796], dtype=object),\n",
       " array([0.48990565518921625], dtype=object),\n",
       " array([0.2745347093900763], dtype=object),\n",
       " array([0.3109799017834337], dtype=object),\n",
       " array([0.43280328567057014], dtype=object),\n",
       " array([0.5534184707488029], dtype=object),\n",
       " array([0.3911498149171976], dtype=object),\n",
       " array([0.1265293929350811], dtype=object),\n",
       " array([0.2053666245670706], dtype=object),\n",
       " array([0.503691266844424], dtype=object),\n",
       " array([0.3544135401530618], dtype=object),\n",
       " array([0.08921986640584689], dtype=object),\n",
       " array([0.06142603921893261], dtype=object),\n",
       " array([0.4325380643553411], dtype=object),\n",
       " array([0.4149751272780397], dtype=object),\n",
       " array([0.13333918316136995], dtype=object),\n",
       " array([0.1701543422126306], dtype=object),\n",
       " array([0.36258507555290415], dtype=object),\n",
       " array([0.17690435368547835], dtype=object),\n",
       " array([0.3549874242730825], dtype=object),\n",
       " array([0.17498757562715084], dtype=object),\n",
       " array([0.3196151498307145], dtype=object),\n",
       " array([0.5466581261602979], dtype=object),\n",
       " array([0.039057648635356185], dtype=object),\n",
       " array([0.44169241607950177], dtype=object),\n",
       " array([0.48124103885094294], dtype=object),\n",
       " array([0.5726430879914965], dtype=object),\n",
       " array([0.271859701720248], dtype=object),\n",
       " array([0.32532882697843185], dtype=object),\n",
       " array([0.04054434674444628], dtype=object),\n",
       " array([0.3590807008420339], dtype=object),\n",
       " array([0.11733587664425127], dtype=object),\n",
       " array([0.3321709184749635], dtype=object),\n",
       " array([0.45311188984812256], dtype=object),\n",
       " array([0.3250855435439113], dtype=object),\n",
       " array([0.6142865713695055], dtype=object),\n",
       " array([0.04874002509329772], dtype=object),\n",
       " array([0.5911790980172953], dtype=object),\n",
       " array([0.5534457525981392], dtype=object),\n",
       " array([0.5333121595843546], dtype=object),\n",
       " array([0.05559013293699838], dtype=object),\n",
       " array([0.4222238086972844], dtype=object),\n",
       " array([0.23365296064299615], dtype=object),\n",
       " array([0.2009121887307309], dtype=object),\n",
       " array([0.19641436034510018], dtype=object),\n",
       " array([0.12234372129897131], dtype=object),\n",
       " array([0.2308052160415417], dtype=object),\n",
       " array([0.18199910748313325], dtype=object),\n",
       " array([0.1589825775875564], dtype=object),\n",
       " array([0.42243699173435256], dtype=object),\n",
       " array([0.1109086530341663], dtype=object),\n",
       " array([0.20700518534540996], dtype=object),\n",
       " array([0.3371511494220919], dtype=object),\n",
       " array([0.1401740341560586], dtype=object),\n",
       " array([0.5261566307129502], dtype=object),\n",
       " array([0.44745904715062745], dtype=object),\n",
       " array([0.4781492061062887], dtype=object),\n",
       " array([0.060514716676108915], dtype=object),\n",
       " array([0.19692424941527548], dtype=object),\n",
       " array([0.19604662096711534], dtype=object),\n",
       " array([0.12400837370506936], dtype=object),\n",
       " array([0.5330930722475051], dtype=object),\n",
       " array([0.22359988361612337], dtype=object),\n",
       " array([0.18148133648093645], dtype=object),\n",
       " array([0.27004835023469115], dtype=object),\n",
       " array([0.4257935157391654], dtype=object),\n",
       " array([0.3441076756851337], dtype=object),\n",
       " array([0.19713435924753447], dtype=object),\n",
       " array([0.24136012157321618], dtype=object),\n",
       " array([0.21540415220627335], dtype=object),\n",
       " array([0.10078592129989294], dtype=object),\n",
       " array([0.48845552824148547], dtype=object),\n",
       " array([0.03965077836521225], dtype=object),\n",
       " array([0.2738752444233186], dtype=object),\n",
       " array([0.2534647711644934], dtype=object),\n",
       " array([0.08865158227820069], dtype=object),\n",
       " array([0.534023332221087], dtype=object),\n",
       " array([0.18136991220202087], dtype=object),\n",
       " array([0.33989591853459433], dtype=object),\n",
       " array([0.24882699649075235], dtype=object),\n",
       " array([0.4269183356049639], dtype=object),\n",
       " array([0.06715610800745303], dtype=object),\n",
       " array([0.08786299872324421], dtype=object),\n",
       " array([0.302533681819394], dtype=object),\n",
       " array([0.5937071042833859], dtype=object),\n",
       " array([0.18781653675754728], dtype=object),\n",
       " array([0.2616191162801391], dtype=object),\n",
       " array([0.3361059076744735], dtype=object),\n",
       " array([0.43327167150937845], dtype=object),\n",
       " array([0.14601320084493297], dtype=object),\n",
       " array([0.3857621283010252], dtype=object),\n",
       " array([0.2635052872851313], dtype=object),\n",
       " array([0.27734540030018096], dtype=object),\n",
       " array([0.5036473342917184], dtype=object),\n",
       " array([0.37108999872663345], dtype=object),\n",
       " array([0.5689509670465098], dtype=object),\n",
       " array([0.3368819308240138], dtype=object),\n",
       " array([0.5615896845570405], dtype=object),\n",
       " array([0.18515409201696204], dtype=object),\n",
       " array([0.5057853627512061], dtype=object),\n",
       " array([0.5255528173100019], dtype=object),\n",
       " array([0.1998483968456079], dtype=object),\n",
       " array([0.37830069147826756], dtype=object),\n",
       " array([0.3174097621895269], dtype=object),\n",
       " array([0.08870457051749135], dtype=object),\n",
       " array([0.2535190173917143], dtype=object),\n",
       " array([0.5328561131424778], dtype=object),\n",
       " array([0.15345169041319673], dtype=object),\n",
       " array([0.2087825035189103], dtype=object),\n",
       " array([0.3310888268895419], dtype=object),\n",
       " array([0.47911994695586435], dtype=object),\n",
       " array([0.19767525977505934], dtype=object),\n",
       " array([0.2427929000074665], dtype=object),\n",
       " array([0.11427946633199024], dtype=object),\n",
       " array([0.5251618681677925], dtype=object),\n",
       " array([0.4487328473116287], dtype=object),\n",
       " array([0.09304726752851519], dtype=object),\n",
       " array([0.4424010416507], dtype=object),\n",
       " array([0.3039430100446761], dtype=object),\n",
       " array([0.0838765932409668], dtype=object),\n",
       " array([0.3378776455483696], dtype=object),\n",
       " array([0.2867075963038295], dtype=object),\n",
       " array([0.45672375558531364], dtype=object),\n",
       " array([0.5146536093305527], dtype=object),\n",
       " array([0.27971150183954185], dtype=object),\n",
       " array([0.1915636692151057], dtype=object),\n",
       " array([0.4121523075608742], dtype=object),\n",
       " array([0.5705872793290652], dtype=object),\n",
       " array([0.5973751078046647], dtype=object),\n",
       " array([0.3785531973960735], dtype=object),\n",
       " array([0.6146936717624625], dtype=object),\n",
       " array([0.0866960786114799], dtype=object),\n",
       " array([0.25182047386644946], dtype=object),\n",
       " array([0.33003194141715003], dtype=object),\n",
       " array([0.0410676928582939], dtype=object),\n",
       " array([0.5462023062187896], dtype=object),\n",
       " array([0.15008002342753848], dtype=object),\n",
       " array([0.29931216117345544], dtype=object),\n",
       " array([0.3046721720968852], dtype=object),\n",
       " array([0.11521375963471972], dtype=object),\n",
       " array([0.5253445339269558], dtype=object),\n",
       " array([0.552146583021186], dtype=object),\n",
       " array([0.45883814528063394], dtype=object),\n",
       " array([0.01994906054880005], dtype=object),\n",
       " array([0.31844534567591076], dtype=object),\n",
       " array([0.4498862076540868], dtype=object),\n",
       " array([0.28397033197127297], dtype=object),\n",
       " array([0.5240416735938142], dtype=object),\n",
       " array([0.3586139438493448], dtype=object),\n",
       " array([0.5795942132646377], dtype=object),\n",
       " array([0.4223034911708447], dtype=object),\n",
       " array([0.10053706790033955], dtype=object),\n",
       " array([0.33551805000012236], dtype=object),\n",
       " array([0.4733566642441692], dtype=object),\n",
       " array([0.19773203825417449], dtype=object),\n",
       " array([0.42122819466577976], dtype=object),\n",
       " array([0.36311851997434075], dtype=object),\n",
       " array([0.7230689653453215], dtype=object),\n",
       " array([0.1823146009209648], dtype=object),\n",
       " array([0.3302389434263119], dtype=object),\n",
       " array([0.5116945276117597], dtype=object),\n",
       " array([0.5018402168763494], dtype=object),\n",
       " array([0.15612549705975437], dtype=object),\n",
       " array([0.29413343319763546], dtype=object),\n",
       " array([0.08016383063941654], dtype=object),\n",
       " array([0.3136494443080925], dtype=object),\n",
       " array([0.4785371823709127], dtype=object),\n",
       " array([0.49247417260403126], dtype=object),\n",
       " array([0.5802807949564602], dtype=object),\n",
       " array([0.3925194952495288], dtype=object),\n",
       " array([0.11937897393611957], dtype=object),\n",
       " array([0.5121762610528613], dtype=object),\n",
       " array([0.28052386103360377], dtype=object),\n",
       " array([0.6708056047612179], dtype=object),\n",
       " array([0.27646124490243384], dtype=object),\n",
       " array([0.5888765226333401], dtype=object),\n",
       " array([0.41052554899122], dtype=object),\n",
       " array([0.5859025894236656], dtype=object),\n",
       " array([0.38238430058744965], dtype=object),\n",
       " array([0.036578885959285365], dtype=object),\n",
       " array([0.21202541134777303], dtype=object),\n",
       " array([0.44790006827204765], dtype=object),\n",
       " array([0.23304348947548809], dtype=object),\n",
       " array([0.27817798947003497], dtype=object),\n",
       " array([0.30431368022581107], dtype=object),\n",
       " array([0.15959868423004875], dtype=object),\n",
       " array([0.4023046618988147], dtype=object),\n",
       " array([0.26569956538271533], dtype=object),\n",
       " array([0.26265791178474546], dtype=object),\n",
       " array([0.04513325808448515], dtype=object),\n",
       " array([0.5561822432906731], dtype=object),\n",
       " array([0.20925860478119124], dtype=object),\n",
       " array([0.5393099097587833], dtype=object),\n",
       " array([0.6318931371575248], dtype=object),\n",
       " array([0.5557597522070608], dtype=object),\n",
       " array([0.05751459294776462], dtype=object),\n",
       " array([0.2463721007842793], dtype=object),\n",
       " array([0.46146666153870874], dtype=object),\n",
       " array([0.2060220115970785], dtype=object),\n",
       " array([0.6125077211005059], dtype=object),\n",
       " array([0.07650979882413342], dtype=object),\n",
       " array([0.38502474877798903], dtype=object),\n",
       " array([0.06408917997943052], dtype=object),\n",
       " array([0.4301964493184079], dtype=object),\n",
       " array([0.569929655508818], dtype=object),\n",
       " array([0.3438753527861322], dtype=object),\n",
       " array([0.15070112665646757], dtype=object),\n",
       " array([0.43461252764998626], dtype=object),\n",
       " array([0.44943624025384354], dtype=object),\n",
       " array([-0.022114123983389786], dtype=object),\n",
       " array([0.18005581631261797], dtype=object),\n",
       " array([0.6175765436472009], dtype=object),\n",
       " array([0.4202673250468014], dtype=object),\n",
       " array([0.15217836500109977], dtype=object),\n",
       " array([0.044850557479213446], dtype=object),\n",
       " array([0.15951137147529515], dtype=object),\n",
       " array([0.17362732530325176], dtype=object),\n",
       " array([0.595264913873949], dtype=object),\n",
       " array([0.453066044434815], dtype=object),\n",
       " array([0.4940234585397789], dtype=object),\n",
       " array([0.3873131394343432], dtype=object),\n",
       " array([0.5279085604801405], dtype=object),\n",
       " array([0.427448335278765], dtype=object),\n",
       " array([0.18849344049028072], dtype=object),\n",
       " array([0.06774091055140019], dtype=object),\n",
       " array([0.49778581559291846], dtype=object),\n",
       " array([0.25947708472162173], dtype=object),\n",
       " array([0.2839462316141012], dtype=object),\n",
       " array([0.4012376162214327], dtype=object),\n",
       " array([0.3575411104107068], dtype=object),\n",
       " array([0.4682466593082282], dtype=object),\n",
       " array([0.06948086242796137], dtype=object),\n",
       " array([0.4739628424869954], dtype=object),\n",
       " array([0.2043770743281615], dtype=object),\n",
       " array([0.3232670055783153], dtype=object),\n",
       " array([0.23291928028326403], dtype=object),\n",
       " array([0.3756315187509033], dtype=object),\n",
       " array([0.5524129673759703], dtype=object),\n",
       " array([0.44761967583883133], dtype=object),\n",
       " array([0.3680781069694822], dtype=object),\n",
       " array([0.19745720229361066], dtype=object),\n",
       " array([0.13387985166264657], dtype=object),\n",
       " array([0.24072615721788915], dtype=object),\n",
       " array([0.2530551953120503], dtype=object),\n",
       " array([0.24887459986292507], dtype=object),\n",
       " array([0.5688702341957319], dtype=object),\n",
       " array([0.3310365348109634], dtype=object),\n",
       " array([0.4328089120062508], dtype=object),\n",
       " array([0.4277286750714852], dtype=object),\n",
       " array([0.06802675952220183], dtype=object),\n",
       " array([0.22132677019224267], dtype=object),\n",
       " array([0.49882738975559404], dtype=object),\n",
       " array([0.40225857924440783], dtype=object),\n",
       " array([0.5121475033114234], dtype=object),\n",
       " array([0.38243210229113755], dtype=object),\n",
       " array([0.15382142327376075], dtype=object),\n",
       " array([0.25659737063125665], dtype=object),\n",
       " array([0.4646964402591177], dtype=object),\n",
       " array([0.533535333366529], dtype=object),\n",
       " array([0.4668407062411518], dtype=object),\n",
       " array([0.4657327531303843], dtype=object),\n",
       " array([0.36745689654311364], dtype=object),\n",
       " array([0.506223405781452], dtype=object),\n",
       " array([0.304307826550599], dtype=object),\n",
       " array([0.5697546398766703], dtype=object),\n",
       " array([0.6120750433605351], dtype=object),\n",
       " array([0.5231309202778447], dtype=object),\n",
       " array([-0.013691809323434057], dtype=object),\n",
       " array([0.13835812183027962], dtype=object),\n",
       " array([0.46904981226660725], dtype=object),\n",
       " array([0.4726742272500872], dtype=object),\n",
       " array([0.46978319054255213], dtype=object),\n",
       " array([0.47181306132359446], dtype=object),\n",
       " array([0.1535123376037556], dtype=object),\n",
       " array([0.5711081689356363], dtype=object),\n",
       " array([0.5679670248802138], dtype=object),\n",
       " array([0.07051137944826669], dtype=object),\n",
       " array([0.21422452682049795], dtype=object),\n",
       " array([0.3216829110295769], dtype=object),\n",
       " array([0.43866092725201394], dtype=object),\n",
       " array([0.5746233555346302], dtype=object),\n",
       " array([0.5024736420348207], dtype=object),\n",
       " array([0.5650679666432005], dtype=object),\n",
       " array([0.5549985472691561], dtype=object),\n",
       " array([0.5372879842181078], dtype=object),\n",
       " array([0.6044428538255063], dtype=object),\n",
       " array([0.5021475708895127], dtype=object),\n",
       " array([0.23509479559961832], dtype=object),\n",
       " array([0.17007318222215773], dtype=object),\n",
       " array([0.27833764182756177], dtype=object),\n",
       " array([0.16544670565528108], dtype=object),\n",
       " array([0.18949478990970173], dtype=object),\n",
       " array([0.5034246086965006], dtype=object),\n",
       " array([0.5837502796034219], dtype=object),\n",
       " array([0.5366030673609681], dtype=object),\n",
       " array([0.49574713120160196], dtype=object),\n",
       " array([0.07154738820119], dtype=object),\n",
       " array([0.5528362820205973], dtype=object),\n",
       " array([0.5685136291830305], dtype=object),\n",
       " array([0.3502678842587053], dtype=object),\n",
       " array([0.03587738899696885], dtype=object),\n",
       " array([0.16748503794591135], dtype=object),\n",
       " array([0.3256625942591582], dtype=object),\n",
       " array([0.1359000506461442], dtype=object),\n",
       " array([0.581395990479545], dtype=object),\n",
       " array([0.4686895726887452], dtype=object),\n",
       " array([0.4374025463462978], dtype=object),\n",
       " array([0.5729482914927579], dtype=object),\n",
       " array([0.5625139438165967], dtype=object),\n",
       " array([0.5810666762077745], dtype=object),\n",
       " array([0.19582390176289605], dtype=object),\n",
       " array([0.26033257947141664], dtype=object),\n",
       " array([0.2697536968788186], dtype=object),\n",
       " array([0.5779438312280052], dtype=object),\n",
       " array([0.49423144246701495], dtype=object),\n",
       " array([0.013030508207506272], dtype=object),\n",
       " array([0.5197892244970947], dtype=object),\n",
       " array([0.47417787533610145], dtype=object),\n",
       " array([0.4220500176466596], dtype=object),\n",
       " array([0.051961155157396244], dtype=object),\n",
       " array([0.07983678728986013], dtype=object),\n",
       " array([0.14119352957812673], dtype=object),\n",
       " array([0.19304663471081687], dtype=object),\n",
       " array([0.2623087764460804], dtype=object),\n",
       " array([0.12053863705742346], dtype=object),\n",
       " array([0.24690294344339425], dtype=object),\n",
       " array([0.31858355830779106], dtype=object),\n",
       " array([0.41282579063632907], dtype=object),\n",
       " array([0.11557309659003827], dtype=object),\n",
       " array([0.5286913460742324], dtype=object),\n",
       " array([0.46229620009234257], dtype=object),\n",
       " array([0.5425575353703935], dtype=object),\n",
       " array([0.542097509047755], dtype=object),\n",
       " array([0.41818026465112645], dtype=object),\n",
       " array([0.5198682267214825], dtype=object),\n",
       " array([0.023900408994554867], dtype=object),\n",
       " array([0.4103963678943377], dtype=object),\n",
       " array([0.5071134728751556], dtype=object),\n",
       " array([0.22146233035883267], dtype=object),\n",
       " array([0.3647777024236638], dtype=object),\n",
       " array([0.3998710980862941], dtype=object),\n",
       " array([0.38794839884578614], dtype=object),\n",
       " array([0.4863593595653021], dtype=object),\n",
       " array([0.6598857161536912], dtype=object),\n",
       " array([0.5221871697504754], dtype=object),\n",
       " array([0.6002319744976495], dtype=object),\n",
       " array([0.02040402334193793], dtype=object),\n",
       " array([0.19193088276684345], dtype=object),\n",
       " array([0.03764737927051376], dtype=object),\n",
       " array([0.3088563342750033], dtype=object),\n",
       " array([0.22823970614441066], dtype=object),\n",
       " array([0.11302445381910294], dtype=object),\n",
       " array([0.5857671134410136], dtype=object),\n",
       " array([0.20064886843249724], dtype=object),\n",
       " array([0.581968956234189], dtype=object),\n",
       " array([0.43156029227643544], dtype=object),\n",
       " array([0.5566224635460029], dtype=object),\n",
       " array([0.3990125720627422], dtype=object),\n",
       " array([0.5417338153143736], dtype=object),\n",
       " array([0.5365389567673184], dtype=object),\n",
       " array([0.40524644921717135], dtype=object),\n",
       " array([0.5911294722133259], dtype=object),\n",
       " array([0.4106750308088261], dtype=object),\n",
       " array([0.34194044244533744], dtype=object),\n",
       " array([0.5390593386198218], dtype=object),\n",
       " array([0.3580510065084681], dtype=object),\n",
       " array([0.4170984143278693], dtype=object),\n",
       " array([0.3060399432301348], dtype=object),\n",
       " array([0.30952416035410185], dtype=object),\n",
       " array([0.5024351991904296], dtype=object),\n",
       " array([0.17197019980027897], dtype=object),\n",
       " array([0.005494986136454272], dtype=object),\n",
       " array([0.5676213443450207], dtype=object),\n",
       " array([0.5921671774576411], dtype=object),\n",
       " array([0.4167946513695843], dtype=object),\n",
       " array([0.3506717816544191], dtype=object),\n",
       " array([0.4991115303980759], dtype=object),\n",
       " array([0.5013423946385858], dtype=object),\n",
       " array([0.5279589084413847], dtype=object),\n",
       " array([0.25328567841751126], dtype=object),\n",
       " array([0.5294747345052009], dtype=object),\n",
       " array([0.550592298642995], dtype=object),\n",
       " array([0.38287889857533897], dtype=object),\n",
       " array([0.14394784581883124], dtype=object),\n",
       " array([0.35374241377289084], dtype=object),\n",
       " array([0.5015803047619921], dtype=object),\n",
       " array([0.3366136437467432], dtype=object),\n",
       " array([0.4090713940347359], dtype=object),\n",
       " array([0.5639945665342476], dtype=object),\n",
       " array([0.4180961795549682], dtype=object),\n",
       " array([0.12963167125675876], dtype=object),\n",
       " array([0.08287822608137979], dtype=object),\n",
       " array([0.17043436935160405], dtype=object),\n",
       " array([0.15767933095645276], dtype=object),\n",
       " array([0.22907262127350653], dtype=object),\n",
       " array([0.49400899579388013], dtype=object),\n",
       " array([0.37454416990145595], dtype=object),\n",
       " array([0.5559880096137096], dtype=object),\n",
       " array([0.13469000086662172], dtype=object),\n",
       " array([0.17212782508153823], dtype=object),\n",
       " array([0.198862261829248], dtype=object),\n",
       " array([0.13278382546784517], dtype=object),\n",
       " array([0.398753934208783], dtype=object),\n",
       " array([0.480356150320077], dtype=object),\n",
       " array([0.2449117884584847], dtype=object),\n",
       " array([0.6039193230550965], dtype=object),\n",
       " array([0.39696001904621003], dtype=object),\n",
       " array([0.15982284162880486], dtype=object),\n",
       " array([0.569998610451353], dtype=object),\n",
       " array([0.5160485384762478], dtype=object),\n",
       " array([0.5012104325832712], dtype=object),\n",
       " array([0.32070944434750914], dtype=object),\n",
       " array([0.4313382730453661], dtype=object),\n",
       " array([0.3330582595571953], dtype=object),\n",
       " array([0.4848600193691558], dtype=object),\n",
       " array([0.20262244632965754], dtype=object),\n",
       " array([0.2326414159619407], dtype=object),\n",
       " array([0.20859563994794159], dtype=object),\n",
       " array([0.5908335407407703], dtype=object),\n",
       " array([0.2861867057829663], dtype=object),\n",
       " array([0.5543737668000925], dtype=object),\n",
       " array([0.036141961819252916], dtype=object),\n",
       " array([0.17411337891452244], dtype=object),\n",
       " array([0.5994767549365028], dtype=object),\n",
       " array([0.4890435652660075], dtype=object),\n",
       " array([0.15858268796970054], dtype=object),\n",
       " array([0.42956043438559566], dtype=object),\n",
       " array([0.06976771472927204], dtype=object),\n",
       " array([0.48252474371477994], dtype=object),\n",
       " array([0.19325115146479388], dtype=object),\n",
       " array([0.4167026316636403], dtype=object),\n",
       " array([0.5000410228009677], dtype=object),\n",
       " array([0.5045579064345137], dtype=object),\n",
       " array([0.08708113366645483], dtype=object),\n",
       " array([0.43481485927842445], dtype=object),\n",
       " array([0.037397173214843316], dtype=object),\n",
       " array([0.16652569485902113], dtype=object),\n",
       " array([0.6385506619828842], dtype=object),\n",
       " array([0.14284965260637714], dtype=object),\n",
       " array([0.04330588069051515], dtype=object),\n",
       " array([0.46243090194549186], dtype=object),\n",
       " array([0.5098751453953037], dtype=object),\n",
       " array([0.1805603094234174], dtype=object),\n",
       " array([0.539761929564424], dtype=object),\n",
       " array([0.48168347693889596], dtype=object),\n",
       " array([0.20943530058789178], dtype=object),\n",
       " ...]"
      ]
     },
     "execution_count": 24,
     "metadata": {
      "tags": []
     },
     "output_type": "execute_result"
    }
   ],
   "source": [
    "#try 1 y - stddeviation"
   ]
  },
  {
   "cell_type": "code",
   "execution_count": 0,
   "metadata": {
    "colab": {},
    "colab_type": "code",
    "id": "pEBKnFqftO5_"
   },
   "outputs": [],
   "source": [
    "y1=giveLabel(y_t1,y_t2,y_t3)"
   ]
  },
  {
   "cell_type": "code",
   "execution_count": 0,
   "metadata": {
    "colab": {},
    "colab_type": "code",
    "id": "SVBwzETtK9a-"
   },
   "outputs": [],
   "source": [
    "dfnumpy=englishdata.to_numpy()\n",
    "x_test=dfnumpy[:, 1].reshape(-1, 1)\n",
    "y_test=dfnumpy[:, 2].reshape(-1, 1)"
   ]
  },
  {
   "cell_type": "code",
   "execution_count": 0,
   "metadata": {
    "colab": {},
    "colab_type": "code",
    "id": "ac_aRXP3Ll_Z"
   },
   "outputs": [],
   "source": []
  },
  {
   "cell_type": "code",
   "execution_count": 0,
   "metadata": {
    "colab": {},
    "colab_type": "code",
    "id": "ew7u6ptZMJZs"
   },
   "outputs": [],
   "source": []
  },
  {
   "cell_type": "code",
   "execution_count": 0,
   "metadata": {
    "colab": {},
    "colab_type": "code",
    "id": "nzsKG85LBeb-"
   },
   "outputs": [],
   "source": [
    "#preprocessedTweets=x_train[:,0]"
   ]
  },
  {
   "cell_type": "code",
   "execution_count": 0,
   "metadata": {
    "colab": {},
    "colab_type": "code",
    "id": "B_NKcxDqLOGX"
   },
   "outputs": [],
   "source": [
    "from sklearn.utils import shuffle\n",
    "x_train,y_train=shuffle(x_train,y1)"
   ]
  },
  {
   "cell_type": "code",
   "execution_count": 0,
   "metadata": {
    "colab": {},
    "colab_type": "code",
    "id": "v_KQpestKlz4"
   },
   "outputs": [],
   "source": [
    "#x_train,x_test,y_train,y_test= train_test_split(preprocessedTweets,y, test_size=0.2, random_state=42)\n"
   ]
  },
  {
   "cell_type": "code",
   "execution_count": 28,
   "metadata": {
    "colab": {
     "base_uri": "https://localhost:8080/",
     "height": 139
    },
    "colab_type": "code",
    "id": "_gpr92MXKnq1",
    "outputId": "8180430b-3562-43e6-d386-5653db3f1b47"
   },
   "outputs": [
    {
     "data": {
      "text/plain": [
       "array([['Somebody drag Azpi off the fucking pitch the guy is doing his best Ivanovic 2015 impression'],\n",
       "       ['DUDE nightwolf looks fucking sick! I CANT FUCKING WAIT ! For none of those moves to be tournament legal'],\n",
       "       ['the boys &gt;&gt; shit is wildddd'],\n",
       "       ...,\n",
       "       ['@USER You really are a disgrace!'],\n",
       "       ['ain’t no love in this shit had to stay down to come up in this shit'],\n",
       "       ['act like a bitch &amp; ima treat you accordingly']], dtype=object)"
      ]
     },
     "execution_count": 28,
     "metadata": {
      "tags": []
     },
     "output_type": "execute_result"
    }
   ],
   "source": [
    "x_train"
   ]
  },
  {
   "cell_type": "code",
   "execution_count": 29,
   "metadata": {
    "colab": {
     "base_uri": "https://localhost:8080/",
     "height": 139
    },
    "colab_type": "code",
    "id": "7CXlx4H41X-0",
    "outputId": "c04cdb61-c614-4bb4-f794-fd127e9f2c29"
   },
   "outputs": [
    {
     "data": {
      "text/plain": [
       "array([['IND'],\n",
       "       ['OTH'],\n",
       "       ['GRP'],\n",
       "       ...,\n",
       "       ['GRP'],\n",
       "       ['IND'],\n",
       "       ['OTH']], dtype=object)"
      ]
     },
     "execution_count": 29,
     "metadata": {
      "tags": []
     },
     "output_type": "execute_result"
    }
   ],
   "source": [
    "y_test"
   ]
  },
  {
   "cell_type": "code",
   "execution_count": 30,
   "metadata": {
    "colab": {
     "base_uri": "https://localhost:8080/",
     "height": 139
    },
    "colab_type": "code",
    "id": "DXkHq0Q0K2Yk",
    "outputId": "74357b9f-2bff-4114-e045-5e2e2480d364"
   },
   "outputs": [
    {
     "data": {
      "text/plain": [
       "array([['IND'],\n",
       "       ['OTH'],\n",
       "       ['GRP'],\n",
       "       ...,\n",
       "       ['GRP'],\n",
       "       ['IND'],\n",
       "       ['OTH']], dtype=object)"
      ]
     },
     "execution_count": 30,
     "metadata": {
      "tags": []
     },
     "output_type": "execute_result"
    }
   ],
   "source": [
    "y_test"
   ]
  },
  {
   "cell_type": "code",
   "execution_count": 0,
   "metadata": {
    "colab": {},
    "colab_type": "code",
    "id": "0E_1X_qqOw8Y"
   },
   "outputs": [],
   "source": [
    "\n",
    "def giveLabel2(y1):\n",
    "  i=0\n",
    "  largest_index=0\n",
    "  #label1=['IND','GRP','OTH']\n",
    "  ylabels=[]\n",
    "  for r in y1:\n",
    "    if (r==\"IND\"): \n",
    "        largest_index = 0 \n",
    "    elif (r==\"GRP\"):\n",
    "        largest_index = 1 \n",
    "    else: \n",
    "        largest_index = 2 \n",
    "    \n",
    "    ylabels.append(largest_index)\n",
    "    i=i+1;\n",
    "  return ylabels"
   ]
  },
  {
   "cell_type": "code",
   "execution_count": 32,
   "metadata": {
    "colab": {
     "base_uri": "https://localhost:8080/",
     "height": 86
    },
    "colab_type": "code",
    "id": "BSZGqjvlBIDa",
    "outputId": "a35fb97c-20ea-4f83-9515-74b45a1c5919"
   },
   "outputs": [
    {
     "name": "stdout",
     "output_type": "stream",
     "text": [
      "(3876, 1)\n",
      "(188973,)\n",
      "[0 1 2]\n",
      "[0 1 2]\n"
     ]
    }
   ],
   "source": [
    "from sklearn.svm import SVC\n",
    "from sklearn import preprocessing\n",
    "\n",
    "le = preprocessing.LabelEncoder()\n",
    "#print(y_train.shape)\n",
    "print(y_test.shape)\n",
    "#print(y_predict.shape)\n",
    "yTrain=le.fit_transform(y_train)\n",
    "print(yTrain.shape)\n",
    "print(le.classes_)\n",
    "#le.fit_transform(['IND','GRP','OTH'])\n",
    "yl=giveLabel2(y_test.flatten())\n",
    "yTest=le.fit_transform(y1)\n",
    "print(le.classes_)\n"
   ]
  },
  {
   "cell_type": "code",
   "execution_count": 33,
   "metadata": {
    "colab": {
     "base_uri": "https://localhost:8080/",
     "height": 34
    },
    "colab_type": "code",
    "id": "jMCPsKyZBK7f",
    "outputId": "e06eb8bb-b191-4fa4-f7c8-192b8e272a29"
   },
   "outputs": [
    {
     "data": {
      "text/plain": [
       "11832"
      ]
     },
     "execution_count": 33,
     "metadata": {
      "tags": []
     },
     "output_type": "execute_result"
    }
   ],
   "source": [
    "yTest.flatten().tolist().count(2)"
   ]
  },
  {
   "cell_type": "code",
   "execution_count": 0,
   "metadata": {
    "colab": {
     "base_uri": "https://localhost:8080/",
     "height": 54
    },
    "colab_type": "code",
    "id": "QmG6tesd1euz",
    "outputId": "09fb60aa-77a7-4067-d9cd-9a26f477097e"
   },
   "outputs": [
    {
     "data": {
      "text/plain": [
       "'xtest,x_test_mask=giveIds(x_test.flatten(),y_test)\\nx_test_pytorch=torch.tensor(xtest)\\ny_test_pytorch=torch.tensor(y_test)\\nx_test_mask_pytorch=torch.tensor(x_test_mask)\\ntedata=TensorDataset(x_test_pytorch,x_test_mask_pytorch,y_test_pytorch)\\ntesampler=RandomSampler(tedata)\\nbsize=64\\ntedataloader=DataLoader(tedata,sampler=tesampler,batch_size=bsize)\\nprint(len(xtest))\\nprint(len(y_test))\\nlen(x_train)\\n'"
      ]
     },
     "execution_count": 33,
     "metadata": {
      "tags": []
     },
     "output_type": "execute_result"
    }
   ],
   "source": [
    "###IMPORTANT\n",
    "'''xtest,x_test_mask=giveIds(x_test.flatten(),y_test)\n",
    "x_test_pytorch=torch.tensor(xtest)\n",
    "y_test_pytorch=torch.tensor(y_test)\n",
    "x_test_mask_pytorch=torch.tensor(x_test_mask)\n",
    "tedata=TensorDataset(x_test_pytorch,x_test_mask_pytorch,y_test_pytorch)\n",
    "tesampler=RandomSampler(tedata)\n",
    "bsize=64\n",
    "tedataloader=DataLoader(tedata,sampler=tesampler,batch_size=bsize)\n",
    "print(len(xtest))\n",
    "print(len(y_test))\n",
    "len(x_train)\n",
    "'''"
   ]
  },
  {
   "cell_type": "code",
   "execution_count": 64,
   "metadata": {
    "colab": {
     "base_uri": "https://localhost:8080/",
     "height": 1000
    },
    "colab_type": "code",
    "id": "ZbZxkgcBhfag",
    "outputId": "e036bda7-4965-4b19-f276-54620ba5474c"
   },
   "outputs": [
    {
     "data": {
      "text/plain": [
       "BertForSequenceClassification(\n",
       "  (bert): BertModel(\n",
       "    (embeddings): BertEmbeddings(\n",
       "      (word_embeddings): Embedding(30522, 768, padding_idx=0)\n",
       "      (position_embeddings): Embedding(512, 768)\n",
       "      (token_type_embeddings): Embedding(2, 768)\n",
       "      (LayerNorm): LayerNorm((768,), eps=1e-12, elementwise_affine=True)\n",
       "      (dropout): Dropout(p=0.1, inplace=False)\n",
       "    )\n",
       "    (encoder): BertEncoder(\n",
       "      (layer): ModuleList(\n",
       "        (0): BertLayer(\n",
       "          (attention): BertAttention(\n",
       "            (self): BertSelfAttention(\n",
       "              (query): Linear(in_features=768, out_features=768, bias=True)\n",
       "              (key): Linear(in_features=768, out_features=768, bias=True)\n",
       "              (value): Linear(in_features=768, out_features=768, bias=True)\n",
       "              (dropout): Dropout(p=0.1, inplace=False)\n",
       "            )\n",
       "            (output): BertSelfOutput(\n",
       "              (dense): Linear(in_features=768, out_features=768, bias=True)\n",
       "              (LayerNorm): LayerNorm((768,), eps=1e-12, elementwise_affine=True)\n",
       "              (dropout): Dropout(p=0.1, inplace=False)\n",
       "            )\n",
       "          )\n",
       "          (intermediate): BertIntermediate(\n",
       "            (dense): Linear(in_features=768, out_features=3072, bias=True)\n",
       "          )\n",
       "          (output): BertOutput(\n",
       "            (dense): Linear(in_features=3072, out_features=768, bias=True)\n",
       "            (LayerNorm): LayerNorm((768,), eps=1e-12, elementwise_affine=True)\n",
       "            (dropout): Dropout(p=0.1, inplace=False)\n",
       "          )\n",
       "        )\n",
       "        (1): BertLayer(\n",
       "          (attention): BertAttention(\n",
       "            (self): BertSelfAttention(\n",
       "              (query): Linear(in_features=768, out_features=768, bias=True)\n",
       "              (key): Linear(in_features=768, out_features=768, bias=True)\n",
       "              (value): Linear(in_features=768, out_features=768, bias=True)\n",
       "              (dropout): Dropout(p=0.1, inplace=False)\n",
       "            )\n",
       "            (output): BertSelfOutput(\n",
       "              (dense): Linear(in_features=768, out_features=768, bias=True)\n",
       "              (LayerNorm): LayerNorm((768,), eps=1e-12, elementwise_affine=True)\n",
       "              (dropout): Dropout(p=0.1, inplace=False)\n",
       "            )\n",
       "          )\n",
       "          (intermediate): BertIntermediate(\n",
       "            (dense): Linear(in_features=768, out_features=3072, bias=True)\n",
       "          )\n",
       "          (output): BertOutput(\n",
       "            (dense): Linear(in_features=3072, out_features=768, bias=True)\n",
       "            (LayerNorm): LayerNorm((768,), eps=1e-12, elementwise_affine=True)\n",
       "            (dropout): Dropout(p=0.1, inplace=False)\n",
       "          )\n",
       "        )\n",
       "        (2): BertLayer(\n",
       "          (attention): BertAttention(\n",
       "            (self): BertSelfAttention(\n",
       "              (query): Linear(in_features=768, out_features=768, bias=True)\n",
       "              (key): Linear(in_features=768, out_features=768, bias=True)\n",
       "              (value): Linear(in_features=768, out_features=768, bias=True)\n",
       "              (dropout): Dropout(p=0.1, inplace=False)\n",
       "            )\n",
       "            (output): BertSelfOutput(\n",
       "              (dense): Linear(in_features=768, out_features=768, bias=True)\n",
       "              (LayerNorm): LayerNorm((768,), eps=1e-12, elementwise_affine=True)\n",
       "              (dropout): Dropout(p=0.1, inplace=False)\n",
       "            )\n",
       "          )\n",
       "          (intermediate): BertIntermediate(\n",
       "            (dense): Linear(in_features=768, out_features=3072, bias=True)\n",
       "          )\n",
       "          (output): BertOutput(\n",
       "            (dense): Linear(in_features=3072, out_features=768, bias=True)\n",
       "            (LayerNorm): LayerNorm((768,), eps=1e-12, elementwise_affine=True)\n",
       "            (dropout): Dropout(p=0.1, inplace=False)\n",
       "          )\n",
       "        )\n",
       "        (3): BertLayer(\n",
       "          (attention): BertAttention(\n",
       "            (self): BertSelfAttention(\n",
       "              (query): Linear(in_features=768, out_features=768, bias=True)\n",
       "              (key): Linear(in_features=768, out_features=768, bias=True)\n",
       "              (value): Linear(in_features=768, out_features=768, bias=True)\n",
       "              (dropout): Dropout(p=0.1, inplace=False)\n",
       "            )\n",
       "            (output): BertSelfOutput(\n",
       "              (dense): Linear(in_features=768, out_features=768, bias=True)\n",
       "              (LayerNorm): LayerNorm((768,), eps=1e-12, elementwise_affine=True)\n",
       "              (dropout): Dropout(p=0.1, inplace=False)\n",
       "            )\n",
       "          )\n",
       "          (intermediate): BertIntermediate(\n",
       "            (dense): Linear(in_features=768, out_features=3072, bias=True)\n",
       "          )\n",
       "          (output): BertOutput(\n",
       "            (dense): Linear(in_features=3072, out_features=768, bias=True)\n",
       "            (LayerNorm): LayerNorm((768,), eps=1e-12, elementwise_affine=True)\n",
       "            (dropout): Dropout(p=0.1, inplace=False)\n",
       "          )\n",
       "        )\n",
       "        (4): BertLayer(\n",
       "          (attention): BertAttention(\n",
       "            (self): BertSelfAttention(\n",
       "              (query): Linear(in_features=768, out_features=768, bias=True)\n",
       "              (key): Linear(in_features=768, out_features=768, bias=True)\n",
       "              (value): Linear(in_features=768, out_features=768, bias=True)\n",
       "              (dropout): Dropout(p=0.1, inplace=False)\n",
       "            )\n",
       "            (output): BertSelfOutput(\n",
       "              (dense): Linear(in_features=768, out_features=768, bias=True)\n",
       "              (LayerNorm): LayerNorm((768,), eps=1e-12, elementwise_affine=True)\n",
       "              (dropout): Dropout(p=0.1, inplace=False)\n",
       "            )\n",
       "          )\n",
       "          (intermediate): BertIntermediate(\n",
       "            (dense): Linear(in_features=768, out_features=3072, bias=True)\n",
       "          )\n",
       "          (output): BertOutput(\n",
       "            (dense): Linear(in_features=3072, out_features=768, bias=True)\n",
       "            (LayerNorm): LayerNorm((768,), eps=1e-12, elementwise_affine=True)\n",
       "            (dropout): Dropout(p=0.1, inplace=False)\n",
       "          )\n",
       "        )\n",
       "        (5): BertLayer(\n",
       "          (attention): BertAttention(\n",
       "            (self): BertSelfAttention(\n",
       "              (query): Linear(in_features=768, out_features=768, bias=True)\n",
       "              (key): Linear(in_features=768, out_features=768, bias=True)\n",
       "              (value): Linear(in_features=768, out_features=768, bias=True)\n",
       "              (dropout): Dropout(p=0.1, inplace=False)\n",
       "            )\n",
       "            (output): BertSelfOutput(\n",
       "              (dense): Linear(in_features=768, out_features=768, bias=True)\n",
       "              (LayerNorm): LayerNorm((768,), eps=1e-12, elementwise_affine=True)\n",
       "              (dropout): Dropout(p=0.1, inplace=False)\n",
       "            )\n",
       "          )\n",
       "          (intermediate): BertIntermediate(\n",
       "            (dense): Linear(in_features=768, out_features=3072, bias=True)\n",
       "          )\n",
       "          (output): BertOutput(\n",
       "            (dense): Linear(in_features=3072, out_features=768, bias=True)\n",
       "            (LayerNorm): LayerNorm((768,), eps=1e-12, elementwise_affine=True)\n",
       "            (dropout): Dropout(p=0.1, inplace=False)\n",
       "          )\n",
       "        )\n",
       "        (6): BertLayer(\n",
       "          (attention): BertAttention(\n",
       "            (self): BertSelfAttention(\n",
       "              (query): Linear(in_features=768, out_features=768, bias=True)\n",
       "              (key): Linear(in_features=768, out_features=768, bias=True)\n",
       "              (value): Linear(in_features=768, out_features=768, bias=True)\n",
       "              (dropout): Dropout(p=0.1, inplace=False)\n",
       "            )\n",
       "            (output): BertSelfOutput(\n",
       "              (dense): Linear(in_features=768, out_features=768, bias=True)\n",
       "              (LayerNorm): LayerNorm((768,), eps=1e-12, elementwise_affine=True)\n",
       "              (dropout): Dropout(p=0.1, inplace=False)\n",
       "            )\n",
       "          )\n",
       "          (intermediate): BertIntermediate(\n",
       "            (dense): Linear(in_features=768, out_features=3072, bias=True)\n",
       "          )\n",
       "          (output): BertOutput(\n",
       "            (dense): Linear(in_features=3072, out_features=768, bias=True)\n",
       "            (LayerNorm): LayerNorm((768,), eps=1e-12, elementwise_affine=True)\n",
       "            (dropout): Dropout(p=0.1, inplace=False)\n",
       "          )\n",
       "        )\n",
       "        (7): BertLayer(\n",
       "          (attention): BertAttention(\n",
       "            (self): BertSelfAttention(\n",
       "              (query): Linear(in_features=768, out_features=768, bias=True)\n",
       "              (key): Linear(in_features=768, out_features=768, bias=True)\n",
       "              (value): Linear(in_features=768, out_features=768, bias=True)\n",
       "              (dropout): Dropout(p=0.1, inplace=False)\n",
       "            )\n",
       "            (output): BertSelfOutput(\n",
       "              (dense): Linear(in_features=768, out_features=768, bias=True)\n",
       "              (LayerNorm): LayerNorm((768,), eps=1e-12, elementwise_affine=True)\n",
       "              (dropout): Dropout(p=0.1, inplace=False)\n",
       "            )\n",
       "          )\n",
       "          (intermediate): BertIntermediate(\n",
       "            (dense): Linear(in_features=768, out_features=3072, bias=True)\n",
       "          )\n",
       "          (output): BertOutput(\n",
       "            (dense): Linear(in_features=3072, out_features=768, bias=True)\n",
       "            (LayerNorm): LayerNorm((768,), eps=1e-12, elementwise_affine=True)\n",
       "            (dropout): Dropout(p=0.1, inplace=False)\n",
       "          )\n",
       "        )\n",
       "        (8): BertLayer(\n",
       "          (attention): BertAttention(\n",
       "            (self): BertSelfAttention(\n",
       "              (query): Linear(in_features=768, out_features=768, bias=True)\n",
       "              (key): Linear(in_features=768, out_features=768, bias=True)\n",
       "              (value): Linear(in_features=768, out_features=768, bias=True)\n",
       "              (dropout): Dropout(p=0.1, inplace=False)\n",
       "            )\n",
       "            (output): BertSelfOutput(\n",
       "              (dense): Linear(in_features=768, out_features=768, bias=True)\n",
       "              (LayerNorm): LayerNorm((768,), eps=1e-12, elementwise_affine=True)\n",
       "              (dropout): Dropout(p=0.1, inplace=False)\n",
       "            )\n",
       "          )\n",
       "          (intermediate): BertIntermediate(\n",
       "            (dense): Linear(in_features=768, out_features=3072, bias=True)\n",
       "          )\n",
       "          (output): BertOutput(\n",
       "            (dense): Linear(in_features=3072, out_features=768, bias=True)\n",
       "            (LayerNorm): LayerNorm((768,), eps=1e-12, elementwise_affine=True)\n",
       "            (dropout): Dropout(p=0.1, inplace=False)\n",
       "          )\n",
       "        )\n",
       "        (9): BertLayer(\n",
       "          (attention): BertAttention(\n",
       "            (self): BertSelfAttention(\n",
       "              (query): Linear(in_features=768, out_features=768, bias=True)\n",
       "              (key): Linear(in_features=768, out_features=768, bias=True)\n",
       "              (value): Linear(in_features=768, out_features=768, bias=True)\n",
       "              (dropout): Dropout(p=0.1, inplace=False)\n",
       "            )\n",
       "            (output): BertSelfOutput(\n",
       "              (dense): Linear(in_features=768, out_features=768, bias=True)\n",
       "              (LayerNorm): LayerNorm((768,), eps=1e-12, elementwise_affine=True)\n",
       "              (dropout): Dropout(p=0.1, inplace=False)\n",
       "            )\n",
       "          )\n",
       "          (intermediate): BertIntermediate(\n",
       "            (dense): Linear(in_features=768, out_features=3072, bias=True)\n",
       "          )\n",
       "          (output): BertOutput(\n",
       "            (dense): Linear(in_features=3072, out_features=768, bias=True)\n",
       "            (LayerNorm): LayerNorm((768,), eps=1e-12, elementwise_affine=True)\n",
       "            (dropout): Dropout(p=0.1, inplace=False)\n",
       "          )\n",
       "        )\n",
       "        (10): BertLayer(\n",
       "          (attention): BertAttention(\n",
       "            (self): BertSelfAttention(\n",
       "              (query): Linear(in_features=768, out_features=768, bias=True)\n",
       "              (key): Linear(in_features=768, out_features=768, bias=True)\n",
       "              (value): Linear(in_features=768, out_features=768, bias=True)\n",
       "              (dropout): Dropout(p=0.1, inplace=False)\n",
       "            )\n",
       "            (output): BertSelfOutput(\n",
       "              (dense): Linear(in_features=768, out_features=768, bias=True)\n",
       "              (LayerNorm): LayerNorm((768,), eps=1e-12, elementwise_affine=True)\n",
       "              (dropout): Dropout(p=0.1, inplace=False)\n",
       "            )\n",
       "          )\n",
       "          (intermediate): BertIntermediate(\n",
       "            (dense): Linear(in_features=768, out_features=3072, bias=True)\n",
       "          )\n",
       "          (output): BertOutput(\n",
       "            (dense): Linear(in_features=3072, out_features=768, bias=True)\n",
       "            (LayerNorm): LayerNorm((768,), eps=1e-12, elementwise_affine=True)\n",
       "            (dropout): Dropout(p=0.1, inplace=False)\n",
       "          )\n",
       "        )\n",
       "        (11): BertLayer(\n",
       "          (attention): BertAttention(\n",
       "            (self): BertSelfAttention(\n",
       "              (query): Linear(in_features=768, out_features=768, bias=True)\n",
       "              (key): Linear(in_features=768, out_features=768, bias=True)\n",
       "              (value): Linear(in_features=768, out_features=768, bias=True)\n",
       "              (dropout): Dropout(p=0.1, inplace=False)\n",
       "            )\n",
       "            (output): BertSelfOutput(\n",
       "              (dense): Linear(in_features=768, out_features=768, bias=True)\n",
       "              (LayerNorm): LayerNorm((768,), eps=1e-12, elementwise_affine=True)\n",
       "              (dropout): Dropout(p=0.1, inplace=False)\n",
       "            )\n",
       "          )\n",
       "          (intermediate): BertIntermediate(\n",
       "            (dense): Linear(in_features=768, out_features=3072, bias=True)\n",
       "          )\n",
       "          (output): BertOutput(\n",
       "            (dense): Linear(in_features=3072, out_features=768, bias=True)\n",
       "            (LayerNorm): LayerNorm((768,), eps=1e-12, elementwise_affine=True)\n",
       "            (dropout): Dropout(p=0.1, inplace=False)\n",
       "          )\n",
       "        )\n",
       "      )\n",
       "    )\n",
       "    (pooler): BertPooler(\n",
       "      (dense): Linear(in_features=768, out_features=768, bias=True)\n",
       "      (activation): Tanh()\n",
       "    )\n",
       "  )\n",
       "  (dropout): Dropout(p=0.1, inplace=False)\n",
       "  (classifier): Linear(in_features=768, out_features=3, bias=True)\n",
       ")"
      ]
     },
     "execution_count": 64,
     "metadata": {
      "tags": []
     },
     "output_type": "execute_result"
    }
   ],
   "source": [
    "from transformers import BertForSequenceClassification as bfsc,AdamW,BertConfig\n",
    "model=bfsc.from_pretrained('bert-base-uncased',num_labels=3,output_attentions=False,output_hidden_states=False)\n",
    "model.cuda()"
   ]
  },
  {
   "cell_type": "code",
   "execution_count": 65,
   "metadata": {
    "colab": {
     "base_uri": "https://localhost:8080/",
     "height": 34
    },
    "colab_type": "code",
    "id": "ZPr_Sj12LY-y",
    "outputId": "0c88d74d-3eea-4e44-89f6-d47b7d39cdc1"
   },
   "outputs": [
    {
     "data": {
      "text/plain": [
       "<All keys matched successfully>"
      ]
     },
     "execution_count": 65,
     "metadata": {
      "tags": []
     },
     "output_type": "execute_result"
    }
   ],
   "source": [
    "##ONLY FOR THE FIRST TIME SAVE ELSE LOAD\n",
    "torch.save({'state_dict': model.state_dict()}, '/content/drive/My Drive/EnglishData/bertsubtaskcworst.pth.tar')\n",
    "checkpoint = torch.load('/content/drive/My Drive/EnglishData/bertsubtaskcworst.pth.tar')\n",
    "model.load_state_dict(checkpoint['state_dict'])\n",
    "  "
   ]
  },
  {
   "cell_type": "code",
   "execution_count": 0,
   "metadata": {
    "colab": {},
    "colab_type": "code",
    "id": "NDzvjKyWMio7"
   },
   "outputs": [],
   "source": [
    "params=list(model.named_parameters())"
   ]
  },
  {
   "cell_type": "code",
   "execution_count": 0,
   "metadata": {
    "colab": {},
    "colab_type": "code",
    "id": "jQQ5__z5Mio-"
   },
   "outputs": [],
   "source": [
    "no_decay = [\"bias\", \"beta\",\"LayerNorm.weight\",\"gamma\"]\n",
    "optimizer_grouped_parameters = [\n",
    "{\n",
    "\"params\": [p for n, p in model.named_parameters() if not any(nd in n for nd in no_decay)],\n",
    "\"weight_decay\": 0.01,\n",
    "},\n",
    "{\"params\": [p for n, p in model.named_parameters() if any(nd in n for nd in no_decay)], \"weight_decay\": 0.0},\n",
    "]"
   ]
  },
  {
   "cell_type": "code",
   "execution_count": 0,
   "metadata": {
    "colab": {},
    "colab_type": "code",
    "id": "frZAYslgMipB"
   },
   "outputs": [],
   "source": [
    "optimizer=AdamW(model.parameters(),lr=2e-5,eps=1e-8)"
   ]
  },
  {
   "cell_type": "code",
   "execution_count": 0,
   "metadata": {
    "colab": {},
    "colab_type": "code",
    "id": "au4tTkrfMipE"
   },
   "outputs": [],
   "source": []
  },
  {
   "cell_type": "code",
   "execution_count": 0,
   "metadata": {
    "colab": {},
    "colab_type": "code",
    "id": "xSdEEzMJMipH"
   },
   "outputs": [],
   "source": [
    "from sklearn.metrics import f1_score\n",
    "from sklearn.metrics import accuracy_score\n",
    "\n",
    "def calculateF1Score(predictions,labels):\n",
    "  #rowwise return the index of the max element ie 0 or 1 depending on the maximum value returned\n",
    "  predictionArgmax=np.argmax(predictions,axis=1).flatten()\n",
    "  labelsFlattend=labels.flatten()\n",
    "  print(\"Predictions Argmax\",predictionArgmax)\n",
    "  print(\"labels Flattened\",labelsFlattend)   \n",
    "  return f1_score(labelsFlattend, predictionArgmax, average='macro'),accuracy_score(labelsFlattend, predictionArgmax)\n",
    "\n"
   ]
  },
  {
   "cell_type": "code",
   "execution_count": 0,
   "metadata": {
    "colab": {},
    "colab_type": "code",
    "id": "1cu3euWbs9MM"
   },
   "outputs": [],
   "source": []
  },
  {
   "cell_type": "code",
   "execution_count": 70,
   "metadata": {
    "colab": {
     "base_uri": "https://localhost:8080/",
     "height": 54
    },
    "colab_type": "code",
    "id": "owfS8MEZ-oJf",
    "outputId": "1874414a-cea8-4a48-caf7-f650e911e4e1"
   },
   "outputs": [
    {
     "data": {
      "text/plain": [
       "'\\nxtest,x_test_mask=giveIds(x_test.flatten(),y_test)\\nx_test_pytorch=torch.tensor(xtest)\\ny_test_pytorch=torch.tensor(y_test)\\nx_test_mask_pytorch=torch.tensor(x_test_mask)\\ntedata=TensorDataset(x_test_pytorch,x_test_mask_pytorch,y_test_pytorch)\\ntesampler=RandomSampler(tedata)\\nbsize=64\\ntedataloader=DataLoader(tedata,sampler=tesampler,batch_size=bsize)\\nprint(len(xtest))\\nprint(len(y_test))\\nlen(x_train)\\n'"
      ]
     },
     "execution_count": 70,
     "metadata": {
      "tags": []
     },
     "output_type": "execute_result"
    }
   ],
   "source": [
    "###IMPORTANT\n",
    "'''\n",
    "xtest,x_test_mask=giveIds(x_test.flatten(),y_test)\n",
    "x_test_pytorch=torch.tensor(xtest)\n",
    "y_test_pytorch=torch.tensor(y_test)\n",
    "x_test_mask_pytorch=torch.tensor(x_test_mask)\n",
    "tedata=TensorDataset(x_test_pytorch,x_test_mask_pytorch,y_test_pytorch)\n",
    "tesampler=RandomSampler(tedata)\n",
    "bsize=64\n",
    "tedataloader=DataLoader(tedata,sampler=tesampler,batch_size=bsize)\n",
    "print(len(xtest))\n",
    "print(len(y_test))\n",
    "len(x_train)\n",
    "'''"
   ]
  },
  {
   "cell_type": "code",
   "execution_count": 0,
   "metadata": {
    "colab": {},
    "colab_type": "code",
    "id": "uTEaGYn-AIWQ"
   },
   "outputs": [],
   "source": [
    "\n",
    "#z=len(x_test)"
   ]
  },
  {
   "cell_type": "code",
   "execution_count": 0,
   "metadata": {
    "colab": {},
    "colab_type": "code",
    "id": "-FOvU_KsCYid"
   },
   "outputs": [],
   "source": [
    "#creating a dataset inspired from \n",
    "#https://towardsdatascience.com/bert-classifier-just-another-pytorch-model-881b3cf05784"
   ]
  },
  {
   "cell_type": "code",
   "execution_count": 0,
   "metadata": {
    "colab": {},
    "colab_type": "code",
    "id": "CSEGSScdGllP"
   },
   "outputs": [],
   "source": [
    "#xytest[1]"
   ]
  },
  {
   "cell_type": "code",
   "execution_count": 0,
   "metadata": {
    "colab": {},
    "colab_type": "code",
    "id": "pORB6e8-JnoC"
   },
   "outputs": [],
   "source": [
    "#the customdataset section has been inspired from \n",
    "#https://github.com/sugi-chan/custom_bert_pipeline/blob/master/bert_pipeline.ipynb  "
   ]
  },
  {
   "cell_type": "markdown",
   "metadata": {
    "colab_type": "text",
    "id": "pBcEMw2SRV_7"
   },
   "source": []
  },
  {
   "cell_type": "code",
   "execution_count": 0,
   "metadata": {
    "colab": {},
    "colab_type": "code",
    "id": "RwqSDP2KL71z"
   },
   "outputs": [],
   "source": [
    "MAXLENGTH=64"
   ]
  },
  {
   "cell_type": "code",
   "execution_count": 76,
   "metadata": {
    "colab": {
     "base_uri": "https://localhost:8080/",
     "height": 34
    },
    "colab_type": "code",
    "id": "BTurXRofNATj",
    "outputId": "ebf7e0d8-58f1-46ba-e77b-388d5d9cb6b5"
   },
   "outputs": [
    {
     "data": {
      "text/plain": [
       "'\\nz=0;\\nfor batch_idx, data in enumerate(tdataloader): \\n  if z==100:\\n    break;\\n  z=z+1;'"
      ]
     },
     "execution_count": 76,
     "metadata": {
      "tags": []
     },
     "output_type": "execute_result"
    }
   ],
   "source": [
    "class EnglishTrainDataset(Dataset):\n",
    "    def __init__(self,xytrain):\n",
    "        self.xytrain = xytrain\n",
    "        self.maxlength=MAXLENGTH\n",
    "       \n",
    "    def __getitem__(self, index):\n",
    "        tokenized_review = tokenizer.tokenize(str(self.xytrain[0][index].flatten()))\n",
    "        if len(tokenized_review) > self.maxlength:\n",
    "            #print(tokenized_review)\n",
    "            tokenized_review = tokenized_review[:self.maxlength]\n",
    "        \n",
    "        \n",
    "        ids_of_sentence_word  = tokenizer.convert_tokens_to_ids(tokenized_review)\n",
    "        padding = [0] * (self.maxlength - len(ids_of_sentence_word))\n",
    "        ids_of_sentence_word += padding\n",
    "        assert len(ids_of_sentence_word) == self.maxlength\n",
    "        #print(ids_of_sentence_word)\n",
    "        attention_mask = [int(b > 0) for b in ids_of_sentence_word] \n",
    "        x_train_pytorch = torch.tensor(ids_of_sentence_word)\n",
    "        y_train_pytorch=torch.tensor(self.xytrain[1][index])\n",
    "        x_train_mask_pytorch=torch.tensor(attention_mask)\n",
    "        \n",
    "        return x_train_pytorch,x_train_mask_pytorch,y_train_pytorch\n",
    "        #return [1,2,3]\n",
    "        \n",
    "    def __len__(self):\n",
    "        return len(self.xytrain[0])\n",
    " \n",
    "\n",
    "'''\n",
    "z=0;\n",
    "for batch_idx, data in enumerate(tdataloader): \n",
    "  if z==100:\n",
    "    break;\n",
    "  z=z+1;'''"
   ]
  },
  {
   "cell_type": "code",
   "execution_count": 0,
   "metadata": {
    "colab": {},
    "colab_type": "code",
    "id": "U47_yavmOa7S"
   },
   "outputs": [],
   "source": [
    "class EnglishTestDataset(Dataset):\n",
    "    def __init__(self,xytest):\n",
    "        self.xytest = xytest\n",
    "        self.maxlength=MAXLENGTH\n",
    "       \n",
    "    def __getitem__(self, index):\n",
    "        tokenized_review = tokenizer.tokenize(str(self.xytest[0][index].flatten()))\n",
    "        if len(tokenized_review) > self.maxlength:\n",
    "            #print(tokenized_review)\n",
    "            tokenized_review = tokenized_review[:self.maxlength]\n",
    "        \n",
    "        \n",
    "        ids_of_sentence_word  = tokenizer.convert_tokens_to_ids(tokenized_review)\n",
    "        padding = [0] * (self.maxlength - len(ids_of_sentence_word))\n",
    "        ids_of_sentence_word += padding\n",
    "        assert len(ids_of_sentence_word) == self.maxlength\n",
    "        #print(ids_of_sentence_word)\n",
    "        attention_mask = [int(b > 0) for b in ids_of_sentence_word] \n",
    "        x_test_pytorch = torch.tensor(ids_of_sentence_word)\n",
    "        y_test_pytorch=torch.tensor(self.xytest[1][index])\n",
    "        x_test_mask_pytorch=torch.tensor(attention_mask)\n",
    "        \n",
    "        return x_test_pytorch,x_test_mask_pytorch,y_test_pytorch\n",
    "        #return [1,2,3]\n",
    "        \n",
    "    def __len__(self):\n",
    "        return len(self.xytest[0])\n",
    "\n"
   ]
  },
  {
   "cell_type": "code",
   "execution_count": 0,
   "metadata": {
    "colab": {},
    "colab_type": "code",
    "id": "VObEL94h-bU8"
   },
   "outputs": [],
   "source": [
    "#xytrain=[x_train[:8000],y_train[:8000]]\\\n",
    "MAXLENGTH=64\n",
    "xytrain=[x_train,yTrain]\n",
    "tokenizer=bertTokenizer.from_pretrained('bert-base-uncased',do_lower_case=True)\n",
    "tdataset = EnglishTrainDataset(xytrain)\n",
    "tsampler=RandomSampler(tdataset)\n",
    "tdataloader = DataLoader(tdataset, batch_size=32, num_workers=1, shuffle=False,sampler=tsampler)\n",
    "      \n",
    "\n"
   ]
  },
  {
   "cell_type": "code",
   "execution_count": 0,
   "metadata": {
    "colab": {},
    "colab_type": "code",
    "id": "udjp1U9q9xaI"
   },
   "outputs": [],
   "source": [
    "\n",
    "#xytest=[x_test[:8000],y_test[:8000]]\n",
    "xytest=[x_test,yTest]\n",
    "tokenizer=bertTokenizer.from_pretrained('bert-base-uncased',do_lower_case=True)\n",
    "tedataset = EnglishTestDataset(xytest) \n",
    "tesampler=RandomSampler(tedataset)\n",
    "tedataloader = DataLoader(tedataset, batch_size=32, num_workers=1, shuffle=False,sampler=tesampler)\n",
    "#trainData(tdataloader,tedataloader)"
   ]
  },
  {
   "cell_type": "code",
   "execution_count": 0,
   "metadata": {
    "colab": {},
    "colab_type": "code",
    "id": "0rPrZ3_M-LZx"
   },
   "outputs": [],
   "source": [
    "epochs=2\n",
    "total_steps=len(tdataloader)*epochs\n",
    "sch=get_linear_schedule_with_warmup(optimizer,\n",
    "                                    num_warmup_steps=0,num_training_steps=total_steps)"
   ]
  },
  {
   "cell_type": "markdown",
   "metadata": {
    "colab_type": "text",
    "id": "Kp-PmVUP9N9c"
   },
   "source": []
  },
  {
   "cell_type": "code",
   "execution_count": 0,
   "metadata": {
    "colab": {
     "base_uri": "https://localhost:8080/",
     "height": 1000
    },
    "colab_type": "code",
    "id": "cqmnbPGdMipR",
    "outputId": "6399f398-027a-482d-cf96-972d809d04b0"
   },
   "outputs": [
    {
     "name": "stdout",
     "output_type": "stream",
     "text": [
      "Start Epoch Number 1\n",
      "Start Training\n",
      "Batch Completed  50  of  5,906.    Elapsed time is  34.81188607215881\n",
      "Batch Completed  100  of  5,906.    Elapsed time is  69.43283224105835\n",
      "Batch Completed  150  of  5,906.    Elapsed time is  104.00731062889099\n",
      "Batch Completed  200  of  5,906.    Elapsed time is  138.65957117080688\n",
      "Batch Completed  250  of  5,906.    Elapsed time is  173.25541973114014\n",
      "Batch Completed  300  of  5,906.    Elapsed time is  207.8219439983368\n",
      "Batch Completed  350  of  5,906.    Elapsed time is  242.4476125240326\n",
      "Batch Completed  400  of  5,906.    Elapsed time is  277.0151674747467\n",
      "Batch Completed  450  of  5,906.    Elapsed time is  311.5773117542267\n",
      "Batch Completed  500  of  5,906.    Elapsed time is  346.15000319480896\n",
      "Batch Completed  550  of  5,906.    Elapsed time is  380.71263575553894\n",
      "Batch Completed  600  of  5,906.    Elapsed time is  415.32913041114807\n",
      "Batch Completed  650  of  5,906.    Elapsed time is  449.93105363845825\n",
      "Batch Completed  700  of  5,906.    Elapsed time is  484.51293420791626\n",
      "Batch Completed  750  of  5,906.    Elapsed time is  519.1139278411865\n",
      "Batch Completed  800  of  5,906.    Elapsed time is  553.6900639533997\n",
      "Batch Completed  850  of  5,906.    Elapsed time is  588.2930958271027\n",
      "Batch Completed  900  of  5,906.    Elapsed time is  622.9138717651367\n",
      "Batch Completed  950  of  5,906.    Elapsed time is  657.523589849472\n",
      "Batch Completed  1,000  of  5,906.    Elapsed time is  692.1292884349823\n",
      "Batch Completed  1,050  of  5,906.    Elapsed time is  726.6560020446777\n",
      "Batch Completed  1,100  of  5,906.    Elapsed time is  761.1789479255676\n",
      "Batch Completed  1,150  of  5,906.    Elapsed time is  795.7136967182159\n",
      "Batch Completed  1,200  of  5,906.    Elapsed time is  830.2596774101257\n",
      "Batch Completed  1,250  of  5,906.    Elapsed time is  864.8075416088104\n",
      "Batch Completed  1,300  of  5,906.    Elapsed time is  899.4039416313171\n",
      "Batch Completed  1,350  of  5,906.    Elapsed time is  933.9817147254944\n",
      "Batch Completed  1,400  of  5,906.    Elapsed time is  968.6020777225494\n",
      "Batch Completed  1,450  of  5,906.    Elapsed time is  1003.1854479312897\n",
      "Batch Completed  1,500  of  5,906.    Elapsed time is  1037.7301959991455\n",
      "Batch Completed  1,550  of  5,906.    Elapsed time is  1072.345759153366\n",
      "Batch Completed  1,600  of  5,906.    Elapsed time is  1106.9239003658295\n",
      "Batch Completed  1,650  of  5,906.    Elapsed time is  1141.4886467456818\n",
      "Batch Completed  1,700  of  5,906.    Elapsed time is  1176.0465750694275\n",
      "Batch Completed  1,750  of  5,906.    Elapsed time is  1210.6553647518158\n",
      "Batch Completed  1,800  of  5,906.    Elapsed time is  1245.2139229774475\n",
      "Batch Completed  1,850  of  5,906.    Elapsed time is  1279.7676236629486\n",
      "Batch Completed  1,900  of  5,906.    Elapsed time is  1314.3375222682953\n",
      "Batch Completed  1,950  of  5,906.    Elapsed time is  1348.8666956424713\n",
      "Batch Completed  2,000  of  5,906.    Elapsed time is  1383.47110581398\n",
      "Batch Completed  2,050  of  5,906.    Elapsed time is  1418.0460748672485\n",
      "Batch Completed  2,100  of  5,906.    Elapsed time is  1452.620521068573\n",
      "Batch Completed  2,150  of  5,906.    Elapsed time is  1487.173351764679\n",
      "Batch Completed  2,200  of  5,906.    Elapsed time is  1521.7777745723724\n",
      "Batch Completed  2,250  of  5,906.    Elapsed time is  1556.3524568080902\n",
      "Batch Completed  2,300  of  5,906.    Elapsed time is  1590.8769986629486\n",
      "Batch Completed  2,350  of  5,906.    Elapsed time is  1625.4796555042267\n",
      "Batch Completed  2,400  of  5,906.    Elapsed time is  1660.105742931366\n",
      "Batch Completed  2,450  of  5,906.    Elapsed time is  1694.7063119411469\n",
      "Batch Completed  2,500  of  5,906.    Elapsed time is  1729.3627626895905\n",
      "Batch Completed  2,550  of  5,906.    Elapsed time is  1763.989996433258\n",
      "Batch Completed  2,600  of  5,906.    Elapsed time is  1798.5504291057587\n",
      "Batch Completed  2,650  of  5,906.    Elapsed time is  1833.1338546276093\n",
      "Batch Completed  2,700  of  5,906.    Elapsed time is  1867.7331550121307\n",
      "Batch Completed  2,750  of  5,906.    Elapsed time is  1902.3096718788147\n",
      "Batch Completed  2,800  of  5,906.    Elapsed time is  1936.899231672287\n",
      "Batch Completed  2,850  of  5,906.    Elapsed time is  1971.4172868728638\n"
     ]
    }
   ],
   "source": [
    "import random\n",
    "import time \n",
    "\n",
    "def set_seed(seed,ngpu):\n",
    "  random.seed(seed)\n",
    "  np.random.seed(seed)\n",
    "  torch.manual_seed(seed)\n",
    "  if ngpu > 0:\n",
    "        torch.cuda.manual_seed_all(seed)\n",
    "      \n",
    "set_seed(42,torch.cuda.device_count())\n",
    "#remove later\n",
    "\n",
    "epochs=2\n",
    "lossList=[]\n",
    "max_grad_norm=1.0\n",
    "for e in range(0, epochs):\n",
    "    \n",
    "    print(\"Start Epoch Number\",(e + 1))\n",
    "    print(\"Start Training\")\n",
    "    if device.type==\"cpu\":\n",
    "     model.to(device)\n",
    "     map_location='cpu'\n",
    "    else:\n",
    "      model.cuda()\n",
    "      map_location=lambda storage, loc: storage.cuda()\n",
    "    checkpoint = torch.load('/content/drive/My Drive/EnglishData/bertsubtaskcworst.pth.tar',map_location=map_location)\n",
    "    model.load_state_dict(checkpoint['state_dict'])\n",
    "\n",
    "    #Amount of time taken for training\n",
    "    t1 = time.time()\n",
    "    tr_loss, logging_loss = 0.0, 0.0\n",
    "    model.train()\n",
    "    tsteps=0\n",
    "    for step, batch in enumerate(tdataloader):\n",
    "        if step % 50 == 0 and not step == 0:\n",
    "            print(\"Batch Completed  {:,}  of  {:,}.    Elapsed time is  {}\".format(step, len(tdataloader),time.time() - t1))\n",
    "        batch = tuple(t.to(device) for t in batch)\n",
    "        inputs = {\"input_ids\": batch[0], \"attention_mask\": batch[1], \"labels\": batch[2]}\n",
    "        model.zero_grad()        \n",
    "        outputs = model(inputs[\"input_ids\"],token_type_ids=None,attention_mask=inputs[\"attention_mask\"], labels=inputs[\"labels\"])\n",
    "        loss = outputs[0]\n",
    "        loss.backward()\n",
    "        tr_loss += loss.item()\n",
    "        torch.nn.utils.clip_grad_norm_(model.parameters(), max_grad_norm)\n",
    "        tsteps+=1\n",
    "        optimizer.step()\n",
    "        sch.step()\n",
    "    a_tr_loss = tr_loss /(tsteps)               \n",
    "    lossList.append(a_tr_loss)\n",
    "    print(\" The training loss incured is  {0:.3f}\".format(a_tr_loss))\n",
    "    t2=time.time()\n",
    "    print(\"  Training one epoch time taken\",t2-t1)\n",
    "    print(\" Validation starts here \")\n",
    "    t1 = time.time()\n",
    "    model.eval()\n",
    "    eval_loss = 0\n",
    "    nb_eval_steps = 0\n",
    "    eval_f1=0\n",
    "    eval_acc=0\n",
    "    \n",
    "    for batch_idx, data in enumerate(tedataloader):\n",
    "        \n",
    "        batch = tuple(t.to(device) for t in data)            \n",
    "        inputs = {\"input_ids\": batch[0], \"attention_mask\": batch[1], \"labels\": batch[2]}\n",
    "        with torch.no_grad():        \n",
    "           outputs = model(inputs[\"input_ids\"],token_type_ids=None,attention_mask=inputs[\"attention_mask\"])\n",
    "        logits = outputs[0]\n",
    "        logits = logits.detach().cpu().numpy()\n",
    "        label_ids = (inputs[\"labels\"]).to('cpu').numpy()\n",
    "        tmpf1score,tmpaccscore = calculateF1Score(logits, label_ids)\n",
    "        eval_f1 = eval_f1+tmpf1score\n",
    "        eval_acc=eval_acc+tmpaccscore\n",
    "        nb_eval_steps += 1\n",
    "        #print(\" TEMP F1 score: {0:.3f}\".format(tmpf1score))\n",
    "        #print(\"TEMP  Accuracy score: {0:.3f}\".format(tmpaccscore))\n",
    "    torch.save({'state_dict': model.state_dict()}, '/content/drive/My Drive/EnglishData/bertsubtaskcworst.pth.tar')\n",
    "    print(\"  F1 score: {0:.3f}\".format(eval_f1/nb_eval_steps))\n",
    "    print(\"  Accuracy score: {0:.3f}\".format(eval_acc/nb_eval_steps))\n",
    "    t2=time.time()\n",
    "    print(\"  Validating one epoch time taken \",t2-t1)\n",
    "      \n",
    "print(\"ALL DONE!!!\")"
   ]
  },
  {
   "cell_type": "code",
   "execution_count": 0,
   "metadata": {
    "colab": {},
    "colab_type": "code",
    "id": "w73MW1laq9_u"
   },
   "outputs": [],
   "source": [
    "ygiven=[]\n",
    "ypredicted=[]"
   ]
  },
  {
   "cell_type": "code",
   "execution_count": 0,
   "metadata": {
    "colab": {},
    "colab_type": "code",
    "id": "lNAIZ5Wbq994"
   },
   "outputs": [],
   "source": [
    "def readData1():\n",
    "  headers=['id','ypredicted']\n",
    "  greekdataBaseline = pd.read_csv(\"test_c_baseline.csv\", delimiter=',',names=headers)\n",
    "  #,converters={\"id\":convertToInt}       \n",
    "  #greekdataBaseline.id = greekdataBaseline.id.astype(int)\n",
    "  #greekdataBaseline=greekdataBaseline[1:]\n",
    "  print(greekdataBaseline.head())\n",
    "  print(greekdataBaseline.shape)\n",
    "\n",
    "  headers=['id','tweet']\n",
    "  greekDataTest = pd.read_csv(\"test_c_tweets.tsv\", delimiter='\\t',names=headers)\n",
    "                                #converters={\"id\":convertToInt})\n",
    "  #greekDataTest=greekDataTest[1:]\n",
    "  print(greekDataTest.head())\n",
    "  #print(greekDataTest.dtypes)\n",
    "  print(greekDataTest.shape)\n",
    "  result = pd.merge(greekDataTest, greekdataBaseline, on='id', how='inner')\n",
    "  print(result.head())\n",
    "  print(result.dtypes)\n",
    "  print(result.shape)\n",
    "\n",
    "  #result=\n",
    "  #result.sort_values(by=['id'], inplace=True)\n",
    "  #print(result.head())\n",
    "  dfnumpy=result.to_numpy();\n",
    "  X=dfnumpy[:, 1].reshape(-1, 1)\n",
    "  y=dfnumpy[:, 2].reshape(-1, 1)\n",
    "  tid=dfnumpy[:, 0].reshape(-1, 1)\n",
    "  preprocessedTweets=X[:,0]\n",
    "  return preprocessedTweets,y,tid"
   ]
  },
  {
   "cell_type": "code",
   "execution_count": 0,
   "metadata": {
    "colab": {
     "base_uri": "https://localhost:8080/",
     "height": 451
    },
    "colab_type": "code",
    "id": "Lgou-pTnq97z",
    "outputId": "f14baedf-69ff-46bb-ef5c-57b545286418"
   },
   "outputs": [
    {
     "name": "stdout",
     "output_type": "stream",
     "text": [
      "     id ypredicted\n",
      "0   BC0        IND\n",
      "1   BC3        IND\n",
      "2   BC9        IND\n",
      "3  BC10        IND\n",
      "4  BC19        IND\n",
      "(850, 2)\n",
      "     id                                              tweet\n",
      "0    id                                              tweet\n",
      "1   BC0  @USER Lmao bihhh dis what u do to your homies ...\n",
      "2   BC3  @USER The POTUS is a racist, racist, racist, r...\n",
      "3   BC9  @USER He then grinned, raising his brow.  Oh d...\n",
      "4  BC10         Niggas priorities be fucked all the way up\n",
      "(851, 2)\n",
      "     id                                              tweet ypredicted\n",
      "0   BC0  @USER Lmao bihhh dis what u do to your homies ...        IND\n",
      "1   BC3  @USER The POTUS is a racist, racist, racist, r...        IND\n",
      "2   BC9  @USER He then grinned, raising his brow.  Oh d...        IND\n",
      "3  BC10         Niggas priorities be fucked all the way up        IND\n",
      "4  BC19  You bitches really be walking around talking s...        IND\n",
      "id            object\n",
      "tweet         object\n",
      "ypredicted    object\n",
      "dtype: object\n",
      "(850, 3)\n"
     ]
    }
   ],
   "source": [
    "preprocessedTweets,y,tid=readData1()"
   ]
  },
  {
   "cell_type": "code",
   "execution_count": 0,
   "metadata": {
    "colab": {},
    "colab_type": "code",
    "id": "Nx6XYg43q94R"
   },
   "outputs": [],
   "source": [
    "ftid=[]\n",
    "for t in tid.flatten().tolist():\n",
    "  ftid.append(int(t.split(\"BC\")[1]))"
   ]
  },
  {
   "cell_type": "code",
   "execution_count": 0,
   "metadata": {
    "colab": {},
    "colab_type": "code",
    "id": "eCD9UC4sfL2_"
   },
   "outputs": [],
   "source": [
    "from torch.utils.data import Dataset\n",
    "tokenizer=bertTokenizer.from_pretrained('bert-base-uncased',do_lower_case=True)\n",
    "class GreekPredictDataset(Dataset):\n",
    "    def __init__(self,xypredict):\n",
    "        self.xypredict = xypredict\n",
    "        self.maxlength=128\n",
    "       \n",
    "    def __getitem__(self, index):\n",
    "        tokenized_review = tokenizer.tokenize(str(self.xypredict[0][index]))\n",
    "        if len(tokenized_review) > self.maxlength:\n",
    "            #print(tokenized_review)\n",
    "            tokenized_review = tokenized_review[:self.maxlength]\n",
    "        \n",
    "        \n",
    "        ids_of_sentence_word  = tokenizer.convert_tokens_to_ids(tokenized_review)\n",
    "        padding = [0] * (self.maxlength - len(ids_of_sentence_word))\n",
    "        ids_of_sentence_word += padding\n",
    "        assert len(ids_of_sentence_word) == self.maxlength\n",
    "        #print(ids_of_sentence_word)\n",
    "        attention_mask = [int(b > 0) for b in ids_of_sentence_word] \n",
    "        x_predict_pytorch = torch.tensor(ids_of_sentence_word)\n",
    "        y_predict_pytorch=torch.tensor(self.xypredict[1][index])\n",
    "        x_predict_mask_pytorch=torch.tensor(attention_mask)\n",
    "        tid_predict_pytorch=torch.tensor(self.xypredict[2][index])\n",
    "        \n",
    "        return x_predict_pytorch,x_predict_mask_pytorch,y_predict_pytorch,tid_predict_pytorch\n",
    "       \n",
    "    def __len__(self):\n",
    "        return len(self.xypredict[0])\n",
    " \n",
    " \n",
    " "
   ]
  },
  {
   "cell_type": "code",
   "execution_count": 0,
   "metadata": {
    "colab": {},
    "colab_type": "code",
    "id": "xT-hPPlCfaqh"
   },
   "outputs": [],
   "source": [
    "from sklearn.metrics import f1_score\n",
    "from sklearn.metrics import accuracy_score\n",
    "\n",
    "def calculateF1Score(predictions,labels):\n",
    "  #rowwise return the index of the max element ie 0 or 1 depending on the maximum value returned\n",
    "  predictionArgmax=np.argmax(predictions,axis=1).flatten()\n",
    "  labelsFlattend=labels.flatten()\n",
    "  yres.append(predictionArgmax.flatten())\n",
    "  print(\"predictionArgmax\",predictionArgmax)\n",
    "  print(\"labelsFlattend\",labelsFlattend)\n",
    "  return f1_score(labelsFlattend, predictionArgmax, average='macro'),accuracy_score(labelsFlattend, predictionArgmax)"
   ]
  },
  {
   "cell_type": "code",
   "execution_count": 0,
   "metadata": {
    "colab": {},
    "colab_type": "code",
    "id": "l0CcvhMPDUy6"
   },
   "outputs": [],
   "source": [
    "yres=[]\n",
    "finalTid=[]\n",
    "def predictingData(pTweets,ypred,tid):\n",
    "  #https://colab.research.google.com/drive/1Y4o3jh3ZH70tl6mCd76vz_IxX23biCPP#scrollTo=1M296yz577fV\n",
    "  ids_of_sentence=[]\n",
    "  predictedLabels,trueLabels=[],[]\n",
    "  \n",
    "  le = preprocessing.LabelEncoder()\n",
    "  ypredict=le.fit_transform(ypred.flatten())\n",
    "  map_location=\"\"\n",
    "  xypredict=[pTweets,ypredict,tid]\n",
    "  \n",
    "  tdataset = GreekPredictDataset(xypredict)\n",
    "  tsampler=RandomSampler(tdataset)\n",
    "  predictdataloader = DataLoader(tdataset, batch_size=32, num_workers=1, shuffle=False,sampler=tsampler)\n",
    "  print(device.type)\n",
    "  model=bfsc.from_pretrained('bert-base-uncased',num_labels=3,output_attentions=False,output_hidden_states=False)\n",
    "  if device.type==\"cpu\":\n",
    "    model.to(device)\n",
    "    map_location='cpu'\n",
    "  else:\n",
    "    model.cuda()\n",
    "    map_location=lambda storage, loc: storage.cuda()\n",
    "  params=list(model.named_parameters())\n",
    "  eval_f1=0\n",
    "  eval_acc=0\n",
    "  nb_eval_steps=0\n",
    "  checkpoint = torch.load('/content/drive/My Drive/EnglishData/bertsubtaskcworst.pth.tar',map_location=map_location)\n",
    "  model.load_state_dict(checkpoint['state_dict'])\n",
    "  model.eval()\n",
    "  i=0\n",
    "  for batch in predictdataloader:\n",
    "      print(i)\n",
    "      i=i+1\n",
    "      batch = tuple(t.to(device) for t in batch)        \n",
    "      inputs = {\"input_ids\": batch[0], \"attention_mask\": batch[1], \"labels\": batch[2],\"tids\":batch[3]}\n",
    "      \n",
    "      with torch.no_grad():       \n",
    "          outputs = model(inputs[\"input_ids\"],token_type_ids=None,attention_mask=inputs[\"attention_mask\"])\n",
    "      logits = outputs[0]\n",
    "      logits = logits.detach().cpu().numpy()\n",
    "      label_ids = (inputs[\"labels\"]).to('cpu').numpy()\n",
    "      predictedLabels.append(logits)\n",
    "      trueLabels.append(label_ids)\n",
    "      tidl=(inputs[\"tids\"]).to('cpu').numpy()\n",
    "      finalTid.append(tidl)\n",
    "      tmpf1score,tmpaccscore = calculateF1Score(logits, label_ids)\n",
    "      eval_f1 = eval_f1+tmpf1score\n",
    "      eval_acc=eval_acc+tmpaccscore\n",
    "      nb_eval_steps += 1\n",
    "      \n",
    "  print(\"  F1 score: {0:.3f}\".format(eval_f1/nb_eval_steps))\n",
    "  print(\"  Accuracy score: {0:.3f}\".format(eval_acc/nb_eval_steps))\n",
    "  return predictedLabels,trueLabels,finalTid"
   ]
  },
  {
   "cell_type": "code",
   "execution_count": 0,
   "metadata": {
    "colab": {
     "base_uri": "https://localhost:8080/",
     "height": 451
    },
    "colab_type": "code",
    "id": "D3nsmTDD88jH",
    "outputId": "a9b993f8-7ae4-4fbd-ede7-a0fe8e7fe20e"
   },
   "outputs": [
    {
     "name": "stdout",
     "output_type": "stream",
     "text": [
      "     id ypredicted\n",
      "0   BC0        IND\n",
      "1   BC3        IND\n",
      "2   BC9        IND\n",
      "3  BC10        IND\n",
      "4  BC19        IND\n",
      "(850, 2)\n",
      "     id                                              tweet\n",
      "0    id                                              tweet\n",
      "1   BC0  @USER Lmao bihhh dis what u do to your homies ...\n",
      "2   BC3  @USER The POTUS is a racist, racist, racist, r...\n",
      "3   BC9  @USER He then grinned, raising his brow.  Oh d...\n",
      "4  BC10         Niggas priorities be fucked all the way up\n",
      "(851, 2)\n",
      "     id                                              tweet ypredicted\n",
      "0   BC0  @USER Lmao bihhh dis what u do to your homies ...        IND\n",
      "1   BC3  @USER The POTUS is a racist, racist, racist, r...        IND\n",
      "2   BC9  @USER He then grinned, raising his brow.  Oh d...        IND\n",
      "3  BC10         Niggas priorities be fucked all the way up        IND\n",
      "4  BC19  You bitches really be walking around talking s...        IND\n",
      "id            object\n",
      "tweet         object\n",
      "ypredicted    object\n",
      "dtype: object\n",
      "(850, 3)\n"
     ]
    }
   ],
   "source": [
    "#gpuname,device=initGpus1()  \n",
    "preprocessedTweets,y,tid=readData1()\n"
   ]
  },
  {
   "cell_type": "code",
   "execution_count": 0,
   "metadata": {
    "colab": {},
    "colab_type": "code",
    "id": "39EuSD1k9Ahz"
   },
   "outputs": [],
   "source": [
    "ftid=[]\n",
    "for t in tid.flatten().tolist():\n",
    "  ftid.append(int(t.split(\"BC\")[1]))"
   ]
  },
  {
   "cell_type": "code",
   "execution_count": 0,
   "metadata": {
    "colab": {},
    "colab_type": "code",
    "id": "bS2579tA9Dov"
   },
   "outputs": [],
   "source": [
    "tid=ftid"
   ]
  },
  {
   "cell_type": "code",
   "execution_count": 0,
   "metadata": {
    "colab": {
     "base_uri": "https://localhost:8080/",
     "height": 34
    },
    "colab_type": "code",
    "id": "4i_Mve1H9I_t",
    "outputId": "9b7b72f6-c13f-4d41-bb71-8cc58515c971"
   },
   "outputs": [
    {
     "data": {
      "text/plain": [
       "{'IND'}"
      ]
     },
     "execution_count": 70,
     "metadata": {
      "tags": []
     },
     "output_type": "execute_result"
    }
   ],
   "source": [
    "set(y.flatten())"
   ]
  },
  {
   "cell_type": "code",
   "execution_count": 0,
   "metadata": {
    "colab": {
     "base_uri": "https://localhost:8080/",
     "height": 1000
    },
    "colab_type": "code",
    "id": "3mKwI2ef9Ld9",
    "outputId": "70be2c6a-e845-4268-96b9-97ca45729adc"
   },
   "outputs": [
    {
     "name": "stdout",
     "output_type": "stream",
     "text": [
      "cuda\n",
      "Hello\n",
      "0\n",
      "predictionArgmax [0 1 0 1 0 0 0 0 0 0 0 0 1 0 0 1 0 0 2 0 0 0 0 0 0 0 0 2 0 0 0 0]\n",
      "labelsFlattend [0 0 0 0 0 0 0 0 0 0 0 0 0 0 0 0 0 0 0 0 0 0 0 0 0 0 0 0 0 0 0 0]\n",
      "1\n",
      "predictionArgmax [0 1 1 1 0 1 1 0 1 0 0 0 0 0 0 0 1 0 0 0 1 1 0 0 0 0 0 0 0 0 0 0]\n",
      "labelsFlattend [0 0 0 0 0 0 0 0 0 0 0 0 0 0 0 0 0 0 0 0 0 0 0 0 0 0 0 0 0 0 0 0]\n",
      "2\n",
      "predictionArgmax [0 0 1 0 1 1 0 0 1 0 2 0 0 0 0 0 0 2 0 0 0 0 0 0 1 0 0 1 2 0 0 1]\n",
      "labelsFlattend [0 0 0 0 0 0 0 0 0 0 0 0 0 0 0 0 0 0 0 0 0 0 0 0 0 0 0 0 0 0 0 0]\n",
      "3\n",
      "predictionArgmax [0 0 0 0 0 0 0 0 1 1 1 0 0 1 1 0 1 0 0 0 0 1 0 0 1 0 0 1 0 0 1 0]\n",
      "labelsFlattend [0 0 0 0 0 0 0 0 0 0 0 0 0 0 0 0 0 0 0 0 0 0 0 0 0 0 0 0 0 0 0 0]\n",
      "4\n",
      "predictionArgmax [1 0 1 0 0 0 1 1 0 1 0 1 0 0 0 0 1 0 1 0 0 0 0 1 1 0 1 0 0 0 0 0]\n",
      "labelsFlattend [0 0 0 0 0 0 0 0 0 0 0 0 0 0 0 0 0 0 0 0 0 0 0 0 0 0 0 0 0 0 0 0]\n",
      "5\n",
      "predictionArgmax [0 0 0 0 0 0 0 0 0 0 1 0 0 0 0 0 0 1 0 0 1 0 0 2 0 0 1 0 0 1 0 1]\n",
      "labelsFlattend [0 0 0 0 0 0 0 0 0 0 0 0 0 0 0 0 0 0 0 0 0 0 0 0 0 0 0 0 0 0 0 0]\n",
      "6\n",
      "predictionArgmax [1 0 0 0 0 0 0 0 1 1 0 0 1 0 0 1 0 0 0 1 0 0 0 1 0 0 0 1 0 1 0 0]\n",
      "labelsFlattend [0 0 0 0 0 0 0 0 0 0 0 0 0 0 0 0 0 0 0 0 0 0 0 0 0 0 0 0 0 0 0 0]\n",
      "7\n",
      "predictionArgmax [1 0 0 2 0 1 0 1 0 0 0 0 0 0 0 0 0 1 0 0 1 2 0 1 0 0 0 0 0 0 0 0]\n",
      "labelsFlattend [0 0 0 0 0 0 0 0 0 0 0 0 0 0 0 0 0 0 0 0 0 0 0 0 0 0 0 0 0 0 0 0]\n",
      "8\n",
      "predictionArgmax [0 0 0 0 0 0 0 0 0 0 0 1 0 0 0 0 1 0 0 1 0 1 0 0 1 0 0 1 0 1 0 0]\n",
      "labelsFlattend [0 0 0 0 0 0 0 0 0 0 0 0 0 0 0 0 0 0 0 0 0 0 0 0 0 0 0 0 0 0 0 0]\n",
      "9\n",
      "predictionArgmax [0 1 0 1 0 0 0 0 0 0 1 0 1 0 0 0 0 0 1 1 0 1 0 1 0 2 1 0 1 0 0 0]\n",
      "labelsFlattend [0 0 0 0 0 0 0 0 0 0 0 0 0 0 0 0 0 0 0 0 0 0 0 0 0 0 0 0 0 0 0 0]\n",
      "10\n",
      "predictionArgmax [0 0 0 0 0 0 1 0 1 0 0 0 0 0 1 0 1 2 0 0 0 1 0 0 1 0 0 0 0 0 0 1]\n",
      "labelsFlattend [0 0 0 0 0 0 0 0 0 0 0 0 0 0 0 0 0 0 0 0 0 0 0 0 0 0 0 0 0 0 0 0]\n",
      "11\n",
      "predictionArgmax [0 1 0 0 0 0 1 0 0 0 0 1 0 0 0 0 0 1 1 0 1 0 0 1 0 0 0 0 0 0 1 1]\n",
      "labelsFlattend [0 0 0 0 0 0 0 0 0 0 0 0 0 0 0 0 0 0 0 0 0 0 0 0 0 0 0 0 0 0 0 0]\n",
      "12\n",
      "predictionArgmax [0 1 0 0 0 0 1 2 0 0 0 0 0 0 1 0 0 0 0 0 0 0 0 0 1 0 0 0 0 1 0 0]\n",
      "labelsFlattend [0 0 0 0 0 0 0 0 0 0 0 0 0 0 0 0 0 0 0 0 0 0 0 0 0 0 0 0 0 0 0 0]\n",
      "13\n",
      "predictionArgmax [1 2 0 1 1 0 0 0 0 0 0 0 0 1 1 1 0 0 0 0 0 0 0 0 0 0 0 0 1 0 0 0]\n",
      "labelsFlattend [0 0 0 0 0 0 0 0 0 0 0 0 0 0 0 0 0 0 0 0 0 0 0 0 0 0 0 0 0 0 0 0]\n",
      "14\n",
      "predictionArgmax [0 0 0 0 0 2 0 0 0 0 0 0 0 0 0 0 0 0 1 0 0 0 0 0 1 1 1 0 1 1 0 0]\n",
      "labelsFlattend [0 0 0 0 0 0 0 0 0 0 0 0 0 0 0 0 0 0 0 0 0 0 0 0 0 0 0 0 0 0 0 0]\n",
      "15\n",
      "predictionArgmax [0 0 0 0 0 0 0 0 1 0 0 0 1 0 0 0 0 0 0 1 2 0 0 0 0 0 2 1 0 1 0 0]\n",
      "labelsFlattend [0 0 0 0 0 0 0 0 0 0 0 0 0 0 0 0 0 0 0 0 0 0 0 0 0 0 0 0 0 0 0 0]\n",
      "16\n",
      "predictionArgmax [0 0 0 2 0 0 1 1 0 0 1 0 1 0 1 1 0 0 1 1 0 1 1 0 0 0 1 0 0 0 2 0]\n",
      "labelsFlattend [0 0 0 0 0 0 0 0 0 0 0 0 0 0 0 0 0 0 0 0 0 0 0 0 0 0 0 0 0 0 0 0]\n",
      "17\n",
      "predictionArgmax [0 1 0 0 0 0 0 2 0 0 2 2 0 1 0 1 0 0 0 1 0 0 1 0 1 0 0 0 2 1 0 0]\n",
      "labelsFlattend [0 0 0 0 0 0 0 0 0 0 0 0 0 0 0 0 0 0 0 0 0 0 0 0 0 0 0 0 0 0 0 0]\n",
      "18\n",
      "predictionArgmax [2 0 1 0 0 0 0 0 1 0 1 1 0 0 0 0 1 0 0 0 0 0 0 1 1 0 1 0 1 0 0 0]\n",
      "labelsFlattend [0 0 0 0 0 0 0 0 0 0 0 0 0 0 0 0 0 0 0 0 0 0 0 0 0 0 0 0 0 0 0 0]\n",
      "19\n",
      "predictionArgmax [0 0 0 0 0 0 1 0 0 0 0 0 0 0 0 0 1 1 1 1 1 1 0 0 0 0 0 0 0 0 1 0]\n",
      "labelsFlattend [0 0 0 0 0 0 0 0 0 0 0 0 0 0 0 0 0 0 0 0 0 0 0 0 0 0 0 0 0 0 0 0]\n",
      "20\n",
      "predictionArgmax [1 0 0 0 0 0 0 0 0 0 1 0 0 0 0 0 0 0 0 0 1 0 0 0 1 0 0 1 1 0 0 0]\n",
      "labelsFlattend [0 0 0 0 0 0 0 0 0 0 0 0 0 0 0 0 0 0 0 0 0 0 0 0 0 0 0 0 0 0 0 0]\n",
      "21\n",
      "predictionArgmax [0 0 0 0 0 0 0 0 2 0 0 0 0 0 0 0 0 0 0 0 0 1 0 0 0 0 0 1 0 0 0 0]\n",
      "labelsFlattend [0 0 0 0 0 0 0 0 0 0 0 0 0 0 0 0 0 0 0 0 0 0 0 0 0 0 0 0 0 0 0 0]\n",
      "22\n",
      "predictionArgmax [0 0 0 2 1 1 0 1 0 1 0 0 1 0 0 0 0 0 0 1 1 0 0 0 1 0 1 0 0 0 1 0]\n",
      "labelsFlattend [0 0 0 0 0 0 0 0 0 0 0 0 0 0 0 0 0 0 0 0 0 0 0 0 0 0 0 0 0 0 0 0]\n",
      "23\n",
      "predictionArgmax [0 0 0 1 0 0 0 0 1 0 0 0 0 0 2 0 0 0 0 0 0 0 0 1 0 0 1 0 0 0 0 0]\n",
      "labelsFlattend [0 0 0 0 0 0 0 0 0 0 0 0 0 0 0 0 0 0 0 0 0 0 0 0 0 0 0 0 0 0 0 0]\n",
      "24\n",
      "predictionArgmax [0 1 0 0 1 1 0 0 1 0 0 1 0 0 0 0 0 1 0 0 0 0 0 0 0 0 0 0 0 0 1 0]\n",
      "labelsFlattend [0 0 0 0 0 0 0 0 0 0 0 0 0 0 0 0 0 0 0 0 0 0 0 0 0 0 0 0 0 0 0 0]\n",
      "25\n",
      "predictionArgmax [0 0 0 0 0 0 0 0 0 0 1 2 0 0 0 0 0 0 0 1 0 0 0 0 0 0 0 0 0 0 0 0]\n",
      "labelsFlattend [0 0 0 0 0 0 0 0 0 0 0 0 0 0 0 0 0 0 0 0 0 0 0 0 0 0 0 0 0 0 0 0]\n",
      "26\n",
      "predictionArgmax [0 0 0 1 1 0 0 0 2 0 1 0 0 0 1 0 0 0]\n",
      "labelsFlattend [0 0 0 0 0 0 0 0 0 0 0 0 0 0 0 0 0 0]\n",
      "  F1 score: 0.331\n",
      "  Accuracy score: 0.747\n"
     ]
    }
   ],
   "source": [
    "predictedLabels,trueLabels,finalTid=predictingData(preprocessedTweets,y,tid)"
   ]
  },
  {
   "cell_type": "code",
   "execution_count": 0,
   "metadata": {
    "colab": {},
    "colab_type": "code",
    "id": "vzyQ9dRN9PIH"
   },
   "outputs": [],
   "source": [
    "yans=[yres[i].flatten().tolist() for i in range(len(yres))]\n",
    "ytrue=[trueLabels[i].flatten().tolist() for i in range(len(trueLabels))]\n",
    "ytid=[finalTid[i].flatten().tolist() for i in range(len(finalTid))]"
   ]
  },
  {
   "cell_type": "code",
   "execution_count": 0,
   "metadata": {
    "colab": {},
    "colab_type": "code",
    "id": "ixnRwaNl9S4X"
   },
   "outputs": [],
   "source": [
    "from itertools import chain\n",
    "\n",
    "yans=list(chain.from_iterable(yans))\n",
    "\n",
    "ytrue=list(chain.from_iterable(ytrue))\n",
    "\n",
    "ytid=list(chain.from_iterable(ytid))"
   ]
  },
  {
   "cell_type": "code",
   "execution_count": 0,
   "metadata": {
    "colab": {},
    "colab_type": "code",
    "id": "vjmyMBJvyc9A"
   },
   "outputs": [],
   "source": []
  },
  {
   "cell_type": "code",
   "execution_count": 0,
   "metadata": {
    "colab": {},
    "colab_type": "code",
    "id": "iUFlIuBE9YEf"
   },
   "outputs": [],
   "source": [
    "ytid2=[\"BC\"+str(t) for t in ytid]"
   ]
  },
  {
   "cell_type": "code",
   "execution_count": 0,
   "metadata": {
    "colab": {},
    "colab_type": "code",
    "id": "le60Azr-EHrG"
   },
   "outputs": [],
   "source": [
    "yans1=[]"
   ]
  },
  {
   "cell_type": "code",
   "execution_count": 0,
   "metadata": {
    "colab": {},
    "colab_type": "code",
    "id": "tKylH_QNGHL6"
   },
   "outputs": [],
   "source": [
    "yans3=[]\n",
    "#yans3.append(\"IND\")"
   ]
  },
  {
   "cell_type": "code",
   "execution_count": 0,
   "metadata": {
    "colab": {},
    "colab_type": "code",
    "id": "sts_cVxUGUlv"
   },
   "outputs": [],
   "source": []
  },
  {
   "cell_type": "code",
   "execution_count": 0,
   "metadata": {
    "colab": {},
    "colab_type": "code",
    "id": "gD4MoT1aAB-B"
   },
   "outputs": [],
   "source": [
    "yans1=[]\n",
    "for i in range(len(yans)):\n",
    "  if yans[i]==0:\n",
    "    yans3.append(\"IND\")\n",
    "  elif yans[i]==1:\n",
    "    yans3.append(\"GRP\")\n",
    "  else:\n",
    "    yans3.append(\"OTH\")\n"
   ]
  },
  {
   "cell_type": "code",
   "execution_count": 0,
   "metadata": {
    "colab": {},
    "colab_type": "code",
    "id": "oAJQxwr5G_OV"
   },
   "outputs": [],
   "source": [
    "ytrue3 = []"
   ]
  },
  {
   "cell_type": "code",
   "execution_count": 0,
   "metadata": {
    "colab": {},
    "colab_type": "code",
    "id": "DXQRYq92Aj3D"
   },
   "outputs": [],
   "source": [
    "for i in range(len(ytrue)):\n",
    "  if ytrue[i]==0:\n",
    "    ytrue3.append(\"IND\")\n",
    "  elif ytrue[i]==1:\n",
    "    ytrue3.append(\"GRP\")\n",
    "  else:\n",
    "    ytrue3.append(\"OTH\")\n"
   ]
  },
  {
   "cell_type": "code",
   "execution_count": 0,
   "metadata": {
    "colab": {
     "base_uri": "https://localhost:8080/",
     "height": 132
    },
    "colab_type": "code",
    "id": "4ceos-lg9a4_",
    "outputId": "53d606e2-51d1-4183-9ac1-c3db83f3f6c9"
   },
   "outputs": [
    {
     "ename": "SyntaxError",
     "evalue": "ignored",
     "output_type": "error",
     "traceback": [
      "\u001b[0;36m  File \u001b[0;32m\"<ipython-input-75-c4d730f920be>\"\u001b[0;36m, line \u001b[0;32m1\u001b[0m\n\u001b[0;31m    yans1=[\"IND\" if yans[i]==0 \"GRP\" elif yans[i]==1 else \"OTH\" for i in range(len(yans))]\u001b[0m\n\u001b[0m                                   ^\u001b[0m\n\u001b[0;31mSyntaxError\u001b[0m\u001b[0;31m:\u001b[0m invalid syntax\n"
     ]
    }
   ],
   "source": [
    "#yans1=[\"IND\" if yans[i]==0 \"GRP\" elif yans[i]==1 else \"OTH\" for i in range(len(yans))]\n",
    "#ytrue1=[\"IND\" if ytrue[i]==0 \"GRP\" elif ytrue[i]==1 else \"OTH\" for i in range(len(ytrue))]"
   ]
  },
  {
   "cell_type": "code",
   "execution_count": 0,
   "metadata": {
    "colab": {
     "base_uri": "https://localhost:8080/",
     "height": 69
    },
    "colab_type": "code",
    "id": "zcZ3NkNB9ipY",
    "outputId": "0771be45-4757-4739-ba20-57db99f5e5c7"
   },
   "outputs": [
    {
     "name": "stdout",
     "output_type": "stream",
     "text": [
      "635\n",
      "188\n",
      "27\n"
     ]
    }
   ],
   "source": [
    "print(yans3.count(\"IND\"))\n",
    "print(yans3.count(\"GRP\"))\n",
    "print(yans3.count(\"OTH\"))\n"
   ]
  },
  {
   "cell_type": "code",
   "execution_count": 0,
   "metadata": {
    "colab": {
     "base_uri": "https://localhost:8080/",
     "height": 34
    },
    "colab_type": "code",
    "id": "M_68h4bXDZPb",
    "outputId": "46ef503c-d3dd-493c-f681-5824134a0a83"
   },
   "outputs": [
    {
     "data": {
      "text/plain": [
       "850"
      ]
     },
     "execution_count": 97,
     "metadata": {
      "tags": []
     },
     "output_type": "execute_result"
    }
   ],
   "source": [
    "len(yans3)"
   ]
  },
  {
   "cell_type": "code",
   "execution_count": 0,
   "metadata": {
    "colab": {},
    "colab_type": "code",
    "id": "WlCkm0Mc9jE9"
   },
   "outputs": [],
   "source": []
  },
  {
   "cell_type": "code",
   "execution_count": 0,
   "metadata": {
    "colab": {},
    "colab_type": "code",
    "id": "DtWeMxcl9eqo"
   },
   "outputs": [],
   "source": [
    "#z={'tweet':sentence_predict[],'subtask_a':y_predict}\n",
    "#print(len(z))\n",
    "C = {'id': ytid2,\n",
    "        'predicted': yans3\n",
    "    }\n",
    "df = pd.DataFrame(C)\n",
    "#print (df[df['id'] == 2707] )\n",
    "\n",
    "export_csv = df.to_csv ('/content/drive/My Drive/EnglishData/EnglishSubtaskCAnswerFinalW.csv', index = None, header=True)\n",
    "\n"
   ]
  },
  {
   "cell_type": "code",
   "execution_count": 0,
   "metadata": {
    "colab": {},
    "colab_type": "code",
    "id": "RCquVWU-IqVS"
   },
   "outputs": [],
   "source": [
    "\n",
    "\n",
    "with open(\"EnglishSubtaskCAnswerFinalW.csv\",'r') as f:\n",
    "    with open(\"updatedEnglishSubtaskCAnswerFinalW.csv\",'w') as f1:\n",
    "        next(f) # skip header line\n",
    "        for line in f:\n",
    "            f1.write(line)\n",
    "\n"
   ]
  },
  {
   "cell_type": "code",
   "execution_count": 0,
   "metadata": {
    "colab": {
     "base_uri": "https://localhost:8080/",
     "height": 167
    },
    "colab_type": "code",
    "id": "qVLBZueyOjA_",
    "outputId": "bea2f5a6-2236-47f3-cdbd-9fe5514ee9d4"
   },
   "outputs": [
    {
     "ename": "IndexError",
     "evalue": "ignored",
     "output_type": "error",
     "traceback": [
      "\u001b[0;31m---------------------------------------------------------------------------\u001b[0m",
      "\u001b[0;31mIndexError\u001b[0m                                Traceback (most recent call last)",
      "\u001b[0;32m<ipython-input-52-d679f0e0964f>\u001b[0m in \u001b[0;36m<module>\u001b[0;34m()\u001b[0m\n\u001b[0;32m----> 1\u001b[0;31m \u001b[0mprint\u001b[0m\u001b[0;34m(\u001b[0m\u001b[0moutputs\u001b[0m\u001b[0;34m[\u001b[0m\u001b[0;36m1\u001b[0m\u001b[0;34m]\u001b[0m\u001b[0;34m)\u001b[0m\u001b[0;34m\u001b[0m\u001b[0;34m\u001b[0m\u001b[0m\n\u001b[0m",
      "\u001b[0;31mIndexError\u001b[0m: tuple index out of range"
     ]
    }
   ],
   "source": [
    "print(outputs[1])"
   ]
  },
  {
   "cell_type": "code",
   "execution_count": 0,
   "metadata": {
    "colab": {},
    "colab_type": "code",
    "id": "JlwyxaioYiGr"
   },
   "outputs": [],
   "source": [
    "'''nlists=2\n",
    "last=16000\n",
    "size_of_itertrain=8000//nlists\n",
    "size_of_itertest=8000//nlists\n",
    "#print(size_of_itertrain)\n",
    "for  i in range(nlists+1):\n",
    "      \n",
    "      end=(i+1)*size_of_itertrain\n",
    "      if(last<end):\n",
    "        end=last\n",
    "      xytrain=[x_train[i*size_of_itertrain:end],y_train[i*size_of_itertrain:end]]\n",
    "      tokenizer=bertTokenizer.from_pretrained('bert-base-uncased',do_lower_case=True)\n",
    "      tdataset = EnglishTrainDataset(xytrain)\n",
    "      tsampler=RandomSampler(tdataset)\n",
    "      tdataloader = DataLoader(tdataset, batch_size=32, num_workers=1, shuffle=False,sampler=tsampler)\n",
    "      \n",
    "      epochs=2\n",
    "      total_steps=len(tdataloader)*epochs\n",
    "      sch=get_linear_schedule_with_warmup(optimizer,\n",
    "                                    num_warmup_steps=0,num_training_steps=total_steps)\n",
    "\n",
    "      end=(i+1)*size_of_itertest\n",
    "      if(last<end):\n",
    "        end=last \n",
    "    \n",
    "      xytest=[x_test[i*size_of_itertest:end],y_test[i*size_of_itertest:end]]\n",
    "      tokenizer=bertTokenizer.from_pretrained('bert-base-uncased',do_lower_case=True)\n",
    "      tedataset = EnglishTestDataset(xytest)  \n",
    "      tesampler=RandomSampler(tedataset)\n",
    "      tedataloader = DataLoader(tedataset, batch_size=32, num_workers=1, shuffle=False,sampler=tesampler)\n",
    "\n",
    "      trainData(tdataloader,tedataloader)\n",
    "\n",
    "      \n",
    "y_test_pytorch=torch.tensor(xytest[1][index])'''"
   ]
  },
  {
   "cell_type": "code",
   "execution_count": 0,
   "metadata": {
    "colab": {},
    "colab_type": "code",
    "id": "WPhVU_w-iZmB"
   },
   "outputs": [],
   "source": [
    "#y_test_pytorch=torch.tensor(xytest[1][40])"
   ]
  },
  {
   "cell_type": "code",
   "execution_count": 0,
   "metadata": {
    "colab": {},
    "colab_type": "code",
    "id": "z7QXQMvZxpzC"
   },
   "outputs": [],
   "source": [
    "#len(xytest[1])"
   ]
  },
  {
   "cell_type": "code",
   "execution_count": 0,
   "metadata": {
    "colab": {},
    "colab_type": "code",
    "id": "a0WX9KRpvDvR"
   },
   "outputs": [],
   "source": [
    "#len(xytest[0])"
   ]
  },
  {
   "cell_type": "code",
   "execution_count": 0,
   "metadata": {
    "colab": {},
    "colab_type": "code",
    "id": "q4rWdrUSxJIV"
   },
   "outputs": [],
   "source": [
    "#len(xytrain[1])"
   ]
  },
  {
   "cell_type": "code",
   "execution_count": 0,
   "metadata": {
    "colab": {},
    "colab_type": "code",
    "id": "pVU_iFtVa42a"
   },
   "outputs": [],
   "source": [
    "\n",
    "MAXLENGTH"
   ]
  },
  {
   "cell_type": "code",
   "execution_count": 0,
   "metadata": {
    "colab": {},
    "colab_type": "code",
    "id": "-upACWh-MuWi"
   },
   "outputs": [],
   "source": [
    "\n",
    "print(\"MAXLENGTH\",MAXLENGTH)"
   ]
  },
  {
   "cell_type": "code",
   "execution_count": 0,
   "metadata": {
    "colab": {},
    "colab_type": "code",
    "id": "ZWgpgNrIOAnX"
   },
   "outputs": [],
   "source": []
  }
 ],
 "metadata": {
  "accelerator": "GPU",
  "colab": {
   "collapsed_sections": [],
   "machine_shape": "hm",
   "name": "SUBTASKC.ipynb",
   "provenance": []
  },
  "kernelspec": {
   "display_name": "Python 3",
   "language": "python",
   "name": "python3"
  },
  "language_info": {
   "codemirror_mode": {
    "name": "ipython",
    "version": 3
   },
   "file_extension": ".py",
   "mimetype": "text/x-python",
   "name": "python",
   "nbconvert_exporter": "python",
   "pygments_lexer": "ipython3",
   "version": "3.8.2"
  }
 },
 "nbformat": 4,
 "nbformat_minor": 1
}
